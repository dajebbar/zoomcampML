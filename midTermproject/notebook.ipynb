{
  "nbformat": 4,
  "nbformat_minor": 0,
  "metadata": {
    "colab": {
      "provenance": [],
      "collapsed_sections": []
    },
    "kernelspec": {
      "name": "python3",
      "display_name": "Python 3"
    },
    "language_info": {
      "name": "python"
    }
  },
  "cells": [
    {
      "cell_type": "code",
      "execution_count": 1,
      "metadata": {
        "id": "BNtbI__pKtrQ"
      },
      "outputs": [],
      "source": [
        "!pip install opendatasets --quiet"
      ]
    },
    {
      "cell_type": "code",
      "source": [
        "import pandas as pd\n",
        "import numpy as np\n",
        "import matplotlib.pyplot as plt\n",
        "import seaborn as sns\n",
        "import missingno as msno\n",
        "import opendatasets as od\n",
        "import warnings\n",
        "warnings.filterwarnings('ignore')\n",
        "\n",
        "\n",
        "plt.style.use('ggplot')\n",
        "pd.set_option('display.max_columns', None)\n",
        "pd.set_option('display.max_rows', None)"
      ],
      "metadata": {
        "id": "y3fvnAtfK21e"
      },
      "execution_count": 2,
      "outputs": []
    },
    {
      "cell_type": "code",
      "source": [
        "url = 'https://www.kaggle.com/competitions/79-dapt-ih-hotel-booking/data'\n",
        "\n",
        "od.download(url)"
      ],
      "metadata": {
        "colab": {
          "base_uri": "https://localhost:8080/"
        },
        "id": "Z1tRgr4CLC0W",
        "outputId": "efc7c4e7-b702-4cd0-feb5-5f676e17ec1e"
      },
      "execution_count": 3,
      "outputs": [
        {
          "output_type": "stream",
          "name": "stdout",
          "text": [
            "Skipping, found downloaded files in \"./79-dapt-ih-hotel-booking\" (use force=True to force download)\n"
          ]
        }
      ]
    },
    {
      "cell_type": "code",
      "source": [
        "df_train = pd.read_csv('79-dapt-ih-hotel-booking/tb_hotel_traintest.csv')\n",
        "df_test = pd.read_csv('79-dapt-ih-hotel-booking/tb_hotel_feat_valid_2.csv')\n",
        "df_sample = pd.read_csv('79-dapt-ih-hotel-booking/tb_hotel_sample_valid.csv')"
      ],
      "metadata": {
        "id": "6X-WSxpNLdHq"
      },
      "execution_count": 4,
      "outputs": []
    },
    {
      "cell_type": "code",
      "source": [
        "df_train.shape, df_test.shape, df_sample.shape"
      ],
      "metadata": {
        "colab": {
          "base_uri": "https://localhost:8080/"
        },
        "id": "XujBEAShOdx3",
        "outputId": "78ad393b-e0e0-43e7-e58a-95bb48f4a229"
      },
      "execution_count": 5,
      "outputs": [
        {
          "output_type": "execute_result",
          "data": {
            "text/plain": [
              "((113409, 29), (5981, 28), (5981, 2))"
            ]
          },
          "metadata": {},
          "execution_count": 5
        }
      ]
    },
    {
      "cell_type": "code",
      "source": [
        "hotel_origin = pd.concat([df_train, df_test])"
      ],
      "metadata": {
        "id": "ndxQUsLZOi-1"
      },
      "execution_count": 6,
      "outputs": []
    },
    {
      "cell_type": "code",
      "source": [
        "hotel_origin.shape"
      ],
      "metadata": {
        "colab": {
          "base_uri": "https://localhost:8080/"
        },
        "id": "-ZQSjM0759JA",
        "outputId": "3294fe31-a728-4247-d8d2-6069173b3cdc"
      },
      "execution_count": 7,
      "outputs": [
        {
          "output_type": "execute_result",
          "data": {
            "text/plain": [
              "(119390, 29)"
            ]
          },
          "metadata": {},
          "execution_count": 7
        }
      ]
    },
    {
      "cell_type": "markdown",
      "source": [
        "The dataset contains over 119390 rows and 29 columns"
      ],
      "metadata": {
        "id": "8wI1ypJD6qX3"
      }
    },
    {
      "cell_type": "markdown",
      "source": [
        "basic information about the data frame."
      ],
      "metadata": {
        "id": "8GrXauVg66_l"
      }
    },
    {
      "cell_type": "code",
      "source": [
        "hotel_origin.info()"
      ],
      "metadata": {
        "colab": {
          "base_uri": "https://localhost:8080/"
        },
        "id": "ZYg6AWNi6A8m",
        "outputId": "cbe546cc-79ec-47c1-b293-9d449b8d264e"
      },
      "execution_count": 8,
      "outputs": [
        {
          "output_type": "stream",
          "name": "stdout",
          "text": [
            "<class 'pandas.core.frame.DataFrame'>\n",
            "Int64Index: 119390 entries, 0 to 5980\n",
            "Data columns (total 29 columns):\n",
            " #   Column                          Non-Null Count   Dtype  \n",
            "---  ------                          --------------   -----  \n",
            " 0   hotel                           119390 non-null  object \n",
            " 1   is_cancelled                    113409 non-null  float64\n",
            " 2   lead_time                       119390 non-null  int64  \n",
            " 3   stays_in_weekend_nights         119390 non-null  int64  \n",
            " 4   stays_in_week_nights            119390 non-null  int64  \n",
            " 5   adults                          119390 non-null  int64  \n",
            " 6   children                        119386 non-null  float64\n",
            " 7   babies                          119390 non-null  int64  \n",
            " 8   meal                            119390 non-null  object \n",
            " 9   country                         118902 non-null  object \n",
            " 10  market_segment                  119390 non-null  object \n",
            " 11  distribution_channel            119390 non-null  object \n",
            " 12  is_repeated_guest               119390 non-null  int64  \n",
            " 13  previous_cancellations          119390 non-null  int64  \n",
            " 14  previous_bookings_not_canceled  119390 non-null  int64  \n",
            " 15  reserved_room_type              119390 non-null  object \n",
            " 16  assigned_room_type              119390 non-null  object \n",
            " 17  booking_changes                 119390 non-null  int64  \n",
            " 18  deposit_type                    119390 non-null  object \n",
            " 19  agent                           103050 non-null  float64\n",
            " 20  company                         6797 non-null    float64\n",
            " 21  days_in_waiting_list            119390 non-null  int64  \n",
            " 22  customer_type                   119390 non-null  object \n",
            " 23  adr                             119390 non-null  float64\n",
            " 24  required_car_parking_spaces     119390 non-null  int64  \n",
            " 25  total_of_special_requests       119390 non-null  int64  \n",
            " 26  reservation_status_date         119390 non-null  object \n",
            " 27  arrival_date                    119390 non-null  object \n",
            " 28  id_booking                      119390 non-null  int64  \n",
            "dtypes: float64(5), int64(13), object(11)\n",
            "memory usage: 27.3+ MB\n"
          ]
        }
      ]
    },
    {
      "cell_type": "code",
      "source": [
        "hotel_origin.describe().T"
      ],
      "metadata": {
        "colab": {
          "base_uri": "https://localhost:8080/",
          "height": 614
        },
        "id": "zZJa4vhs7APp",
        "outputId": "7050b4d5-f2c5-4d07-a433-46908d165c2f"
      },
      "execution_count": 9,
      "outputs": [
        {
          "output_type": "execute_result",
          "data": {
            "text/plain": [
              "                                   count          mean           std   min  \\\n",
              "is_cancelled                    113409.0      0.370658      0.482983  0.00   \n",
              "lead_time                       119390.0    104.011416    106.863097  0.00   \n",
              "stays_in_weekend_nights         119390.0      0.927599      0.998613  0.00   \n",
              "stays_in_week_nights            119390.0      2.500302      1.908286  0.00   \n",
              "adults                          119390.0      1.856403      0.579261  0.00   \n",
              "children                        119386.0      0.103890      0.398561  0.00   \n",
              "babies                          119390.0      0.007949      0.097436  0.00   \n",
              "is_repeated_guest               119390.0      0.031912      0.175767  0.00   \n",
              "previous_cancellations          119390.0      0.087118      0.844336  0.00   \n",
              "previous_bookings_not_canceled  119390.0      0.137097      1.497437  0.00   \n",
              "booking_changes                 119390.0      0.209850      0.635117  0.00   \n",
              "agent                           103050.0     86.693382    110.774548  1.00   \n",
              "company                           6797.0    189.266735    131.655015  6.00   \n",
              "days_in_waiting_list            119390.0      2.321149     17.594721  0.00   \n",
              "adr                             119390.0    101.831122     50.535790 -6.38   \n",
              "required_car_parking_spaces     119390.0      0.062518      0.245291  0.00   \n",
              "total_of_special_requests       119390.0      0.571363      0.792798  0.00   \n",
              "id_booking                      119390.0  59694.500000  34465.068657  0.00   \n",
              "\n",
              "                                     25%        50%       75%       max  \n",
              "is_cancelled                        0.00      0.000      1.00       1.0  \n",
              "lead_time                          18.00     69.000    160.00     737.0  \n",
              "stays_in_weekend_nights             0.00      1.000      2.00      19.0  \n",
              "stays_in_week_nights                1.00      2.000      3.00      50.0  \n",
              "adults                              2.00      2.000      2.00      55.0  \n",
              "children                            0.00      0.000      0.00      10.0  \n",
              "babies                              0.00      0.000      0.00      10.0  \n",
              "is_repeated_guest                   0.00      0.000      0.00       1.0  \n",
              "previous_cancellations              0.00      0.000      0.00      26.0  \n",
              "previous_bookings_not_canceled      0.00      0.000      0.00      72.0  \n",
              "booking_changes                     0.00      0.000      0.00      21.0  \n",
              "agent                               9.00     14.000    229.00     535.0  \n",
              "company                            62.00    179.000    270.00     543.0  \n",
              "days_in_waiting_list                0.00      0.000      0.00     391.0  \n",
              "adr                                69.29     94.575    126.00    5400.0  \n",
              "required_car_parking_spaces         0.00      0.000      0.00       8.0  \n",
              "total_of_special_requests           0.00      0.000      1.00       5.0  \n",
              "id_booking                      29847.25  59694.500  89541.75  119389.0  "
            ],
            "text/html": [
              "\n",
              "  <div id=\"df-eb0a7329-8058-4c52-9091-dcf3846bb715\">\n",
              "    <div class=\"colab-df-container\">\n",
              "      <div>\n",
              "<style scoped>\n",
              "    .dataframe tbody tr th:only-of-type {\n",
              "        vertical-align: middle;\n",
              "    }\n",
              "\n",
              "    .dataframe tbody tr th {\n",
              "        vertical-align: top;\n",
              "    }\n",
              "\n",
              "    .dataframe thead th {\n",
              "        text-align: right;\n",
              "    }\n",
              "</style>\n",
              "<table border=\"1\" class=\"dataframe\">\n",
              "  <thead>\n",
              "    <tr style=\"text-align: right;\">\n",
              "      <th></th>\n",
              "      <th>count</th>\n",
              "      <th>mean</th>\n",
              "      <th>std</th>\n",
              "      <th>min</th>\n",
              "      <th>25%</th>\n",
              "      <th>50%</th>\n",
              "      <th>75%</th>\n",
              "      <th>max</th>\n",
              "    </tr>\n",
              "  </thead>\n",
              "  <tbody>\n",
              "    <tr>\n",
              "      <th>is_cancelled</th>\n",
              "      <td>113409.0</td>\n",
              "      <td>0.370658</td>\n",
              "      <td>0.482983</td>\n",
              "      <td>0.00</td>\n",
              "      <td>0.00</td>\n",
              "      <td>0.000</td>\n",
              "      <td>1.00</td>\n",
              "      <td>1.0</td>\n",
              "    </tr>\n",
              "    <tr>\n",
              "      <th>lead_time</th>\n",
              "      <td>119390.0</td>\n",
              "      <td>104.011416</td>\n",
              "      <td>106.863097</td>\n",
              "      <td>0.00</td>\n",
              "      <td>18.00</td>\n",
              "      <td>69.000</td>\n",
              "      <td>160.00</td>\n",
              "      <td>737.0</td>\n",
              "    </tr>\n",
              "    <tr>\n",
              "      <th>stays_in_weekend_nights</th>\n",
              "      <td>119390.0</td>\n",
              "      <td>0.927599</td>\n",
              "      <td>0.998613</td>\n",
              "      <td>0.00</td>\n",
              "      <td>0.00</td>\n",
              "      <td>1.000</td>\n",
              "      <td>2.00</td>\n",
              "      <td>19.0</td>\n",
              "    </tr>\n",
              "    <tr>\n",
              "      <th>stays_in_week_nights</th>\n",
              "      <td>119390.0</td>\n",
              "      <td>2.500302</td>\n",
              "      <td>1.908286</td>\n",
              "      <td>0.00</td>\n",
              "      <td>1.00</td>\n",
              "      <td>2.000</td>\n",
              "      <td>3.00</td>\n",
              "      <td>50.0</td>\n",
              "    </tr>\n",
              "    <tr>\n",
              "      <th>adults</th>\n",
              "      <td>119390.0</td>\n",
              "      <td>1.856403</td>\n",
              "      <td>0.579261</td>\n",
              "      <td>0.00</td>\n",
              "      <td>2.00</td>\n",
              "      <td>2.000</td>\n",
              "      <td>2.00</td>\n",
              "      <td>55.0</td>\n",
              "    </tr>\n",
              "    <tr>\n",
              "      <th>children</th>\n",
              "      <td>119386.0</td>\n",
              "      <td>0.103890</td>\n",
              "      <td>0.398561</td>\n",
              "      <td>0.00</td>\n",
              "      <td>0.00</td>\n",
              "      <td>0.000</td>\n",
              "      <td>0.00</td>\n",
              "      <td>10.0</td>\n",
              "    </tr>\n",
              "    <tr>\n",
              "      <th>babies</th>\n",
              "      <td>119390.0</td>\n",
              "      <td>0.007949</td>\n",
              "      <td>0.097436</td>\n",
              "      <td>0.00</td>\n",
              "      <td>0.00</td>\n",
              "      <td>0.000</td>\n",
              "      <td>0.00</td>\n",
              "      <td>10.0</td>\n",
              "    </tr>\n",
              "    <tr>\n",
              "      <th>is_repeated_guest</th>\n",
              "      <td>119390.0</td>\n",
              "      <td>0.031912</td>\n",
              "      <td>0.175767</td>\n",
              "      <td>0.00</td>\n",
              "      <td>0.00</td>\n",
              "      <td>0.000</td>\n",
              "      <td>0.00</td>\n",
              "      <td>1.0</td>\n",
              "    </tr>\n",
              "    <tr>\n",
              "      <th>previous_cancellations</th>\n",
              "      <td>119390.0</td>\n",
              "      <td>0.087118</td>\n",
              "      <td>0.844336</td>\n",
              "      <td>0.00</td>\n",
              "      <td>0.00</td>\n",
              "      <td>0.000</td>\n",
              "      <td>0.00</td>\n",
              "      <td>26.0</td>\n",
              "    </tr>\n",
              "    <tr>\n",
              "      <th>previous_bookings_not_canceled</th>\n",
              "      <td>119390.0</td>\n",
              "      <td>0.137097</td>\n",
              "      <td>1.497437</td>\n",
              "      <td>0.00</td>\n",
              "      <td>0.00</td>\n",
              "      <td>0.000</td>\n",
              "      <td>0.00</td>\n",
              "      <td>72.0</td>\n",
              "    </tr>\n",
              "    <tr>\n",
              "      <th>booking_changes</th>\n",
              "      <td>119390.0</td>\n",
              "      <td>0.209850</td>\n",
              "      <td>0.635117</td>\n",
              "      <td>0.00</td>\n",
              "      <td>0.00</td>\n",
              "      <td>0.000</td>\n",
              "      <td>0.00</td>\n",
              "      <td>21.0</td>\n",
              "    </tr>\n",
              "    <tr>\n",
              "      <th>agent</th>\n",
              "      <td>103050.0</td>\n",
              "      <td>86.693382</td>\n",
              "      <td>110.774548</td>\n",
              "      <td>1.00</td>\n",
              "      <td>9.00</td>\n",
              "      <td>14.000</td>\n",
              "      <td>229.00</td>\n",
              "      <td>535.0</td>\n",
              "    </tr>\n",
              "    <tr>\n",
              "      <th>company</th>\n",
              "      <td>6797.0</td>\n",
              "      <td>189.266735</td>\n",
              "      <td>131.655015</td>\n",
              "      <td>6.00</td>\n",
              "      <td>62.00</td>\n",
              "      <td>179.000</td>\n",
              "      <td>270.00</td>\n",
              "      <td>543.0</td>\n",
              "    </tr>\n",
              "    <tr>\n",
              "      <th>days_in_waiting_list</th>\n",
              "      <td>119390.0</td>\n",
              "      <td>2.321149</td>\n",
              "      <td>17.594721</td>\n",
              "      <td>0.00</td>\n",
              "      <td>0.00</td>\n",
              "      <td>0.000</td>\n",
              "      <td>0.00</td>\n",
              "      <td>391.0</td>\n",
              "    </tr>\n",
              "    <tr>\n",
              "      <th>adr</th>\n",
              "      <td>119390.0</td>\n",
              "      <td>101.831122</td>\n",
              "      <td>50.535790</td>\n",
              "      <td>-6.38</td>\n",
              "      <td>69.29</td>\n",
              "      <td>94.575</td>\n",
              "      <td>126.00</td>\n",
              "      <td>5400.0</td>\n",
              "    </tr>\n",
              "    <tr>\n",
              "      <th>required_car_parking_spaces</th>\n",
              "      <td>119390.0</td>\n",
              "      <td>0.062518</td>\n",
              "      <td>0.245291</td>\n",
              "      <td>0.00</td>\n",
              "      <td>0.00</td>\n",
              "      <td>0.000</td>\n",
              "      <td>0.00</td>\n",
              "      <td>8.0</td>\n",
              "    </tr>\n",
              "    <tr>\n",
              "      <th>total_of_special_requests</th>\n",
              "      <td>119390.0</td>\n",
              "      <td>0.571363</td>\n",
              "      <td>0.792798</td>\n",
              "      <td>0.00</td>\n",
              "      <td>0.00</td>\n",
              "      <td>0.000</td>\n",
              "      <td>1.00</td>\n",
              "      <td>5.0</td>\n",
              "    </tr>\n",
              "    <tr>\n",
              "      <th>id_booking</th>\n",
              "      <td>119390.0</td>\n",
              "      <td>59694.500000</td>\n",
              "      <td>34465.068657</td>\n",
              "      <td>0.00</td>\n",
              "      <td>29847.25</td>\n",
              "      <td>59694.500</td>\n",
              "      <td>89541.75</td>\n",
              "      <td>119389.0</td>\n",
              "    </tr>\n",
              "  </tbody>\n",
              "</table>\n",
              "</div>\n",
              "      <button class=\"colab-df-convert\" onclick=\"convertToInteractive('df-eb0a7329-8058-4c52-9091-dcf3846bb715')\"\n",
              "              title=\"Convert this dataframe to an interactive table.\"\n",
              "              style=\"display:none;\">\n",
              "        \n",
              "  <svg xmlns=\"http://www.w3.org/2000/svg\" height=\"24px\"viewBox=\"0 0 24 24\"\n",
              "       width=\"24px\">\n",
              "    <path d=\"M0 0h24v24H0V0z\" fill=\"none\"/>\n",
              "    <path d=\"M18.56 5.44l.94 2.06.94-2.06 2.06-.94-2.06-.94-.94-2.06-.94 2.06-2.06.94zm-11 1L8.5 8.5l.94-2.06 2.06-.94-2.06-.94L8.5 2.5l-.94 2.06-2.06.94zm10 10l.94 2.06.94-2.06 2.06-.94-2.06-.94-.94-2.06-.94 2.06-2.06.94z\"/><path d=\"M17.41 7.96l-1.37-1.37c-.4-.4-.92-.59-1.43-.59-.52 0-1.04.2-1.43.59L10.3 9.45l-7.72 7.72c-.78.78-.78 2.05 0 2.83L4 21.41c.39.39.9.59 1.41.59.51 0 1.02-.2 1.41-.59l7.78-7.78 2.81-2.81c.8-.78.8-2.07 0-2.86zM5.41 20L4 18.59l7.72-7.72 1.47 1.35L5.41 20z\"/>\n",
              "  </svg>\n",
              "      </button>\n",
              "      \n",
              "  <style>\n",
              "    .colab-df-container {\n",
              "      display:flex;\n",
              "      flex-wrap:wrap;\n",
              "      gap: 12px;\n",
              "    }\n",
              "\n",
              "    .colab-df-convert {\n",
              "      background-color: #E8F0FE;\n",
              "      border: none;\n",
              "      border-radius: 50%;\n",
              "      cursor: pointer;\n",
              "      display: none;\n",
              "      fill: #1967D2;\n",
              "      height: 32px;\n",
              "      padding: 0 0 0 0;\n",
              "      width: 32px;\n",
              "    }\n",
              "\n",
              "    .colab-df-convert:hover {\n",
              "      background-color: #E2EBFA;\n",
              "      box-shadow: 0px 1px 2px rgba(60, 64, 67, 0.3), 0px 1px 3px 1px rgba(60, 64, 67, 0.15);\n",
              "      fill: #174EA6;\n",
              "    }\n",
              "\n",
              "    [theme=dark] .colab-df-convert {\n",
              "      background-color: #3B4455;\n",
              "      fill: #D2E3FC;\n",
              "    }\n",
              "\n",
              "    [theme=dark] .colab-df-convert:hover {\n",
              "      background-color: #434B5C;\n",
              "      box-shadow: 0px 1px 3px 1px rgba(0, 0, 0, 0.15);\n",
              "      filter: drop-shadow(0px 1px 2px rgba(0, 0, 0, 0.3));\n",
              "      fill: #FFFFFF;\n",
              "    }\n",
              "  </style>\n",
              "\n",
              "      <script>\n",
              "        const buttonEl =\n",
              "          document.querySelector('#df-eb0a7329-8058-4c52-9091-dcf3846bb715 button.colab-df-convert');\n",
              "        buttonEl.style.display =\n",
              "          google.colab.kernel.accessAllowed ? 'block' : 'none';\n",
              "\n",
              "        async function convertToInteractive(key) {\n",
              "          const element = document.querySelector('#df-eb0a7329-8058-4c52-9091-dcf3846bb715');\n",
              "          const dataTable =\n",
              "            await google.colab.kernel.invokeFunction('convertToInteractive',\n",
              "                                                     [key], {});\n",
              "          if (!dataTable) return;\n",
              "\n",
              "          const docLinkHtml = 'Like what you see? Visit the ' +\n",
              "            '<a target=\"_blank\" href=https://colab.research.google.com/notebooks/data_table.ipynb>data table notebook</a>'\n",
              "            + ' to learn more about interactive tables.';\n",
              "          element.innerHTML = '';\n",
              "          dataTable['output_type'] = 'display_data';\n",
              "          await google.colab.output.renderOutput(dataTable, element);\n",
              "          const docLink = document.createElement('div');\n",
              "          docLink.innerHTML = docLinkHtml;\n",
              "          element.appendChild(docLink);\n",
              "        }\n",
              "      </script>\n",
              "    </div>\n",
              "  </div>\n",
              "  "
            ]
          },
          "metadata": {},
          "execution_count": 9
        }
      ]
    },
    {
      "cell_type": "markdown",
      "source": [
        "I remark that the minimum of the average daily rate (`adr`) is negative, this is an absurd thing, since the `adr` is calculated by dividing of all *lodging transactions* by the total number of staying nights. Also knowing that by definition an *lodging transactions* means a charge to an occupant by a lodging operator for the occupancy of any short-term rental or vacation rental using a short-term rental marketplace.  \n",
        "In short, it seems strange that a hotel accommodates customers and in addition gives them money. For that let's see how many customers have a negative `adr`."
      ],
      "metadata": {
        "id": "gKdaaOwADcNv"
      }
    },
    {
      "cell_type": "code",
      "source": [
        "hotel_origin[hotel_origin['adr'] < 0]['adr']"
      ],
      "metadata": {
        "colab": {
          "base_uri": "https://localhost:8080/"
        },
        "id": "JNs0mXvz8ii6",
        "outputId": "ff611006-20d7-4249-bf13-d7c11d416b81"
      },
      "execution_count": 10,
      "outputs": [
        {
          "output_type": "execute_result",
          "data": {
            "text/plain": [
              "14214   -6.38\n",
              "Name: adr, dtype: float64"
            ]
          },
          "metadata": {},
          "execution_count": 10
        }
      ]
    },
    {
      "cell_type": "code",
      "source": [
        "hotel_origin.loc[[14214]]"
      ],
      "metadata": {
        "colab": {
          "base_uri": "https://localhost:8080/",
          "height": 162
        },
        "id": "urXoyTZy85aW",
        "outputId": "fdbd2e85-f67a-46db-d634-5282a35cf89e"
      },
      "execution_count": 11,
      "outputs": [
        {
          "output_type": "execute_result",
          "data": {
            "text/plain": [
              "              hotel  is_cancelled  lead_time  stays_in_weekend_nights  \\\n",
              "14214  Resort Hotel           0.0        195                        4   \n",
              "\n",
              "       stays_in_week_nights  adults  children  babies meal country  \\\n",
              "14214                     6       2       0.0       0   BB     GBR   \n",
              "\n",
              "      market_segment distribution_channel  is_repeated_guest  \\\n",
              "14214         Groups               Direct                  1   \n",
              "\n",
              "       previous_cancellations  previous_bookings_not_canceled  \\\n",
              "14214                       0                               2   \n",
              "\n",
              "      reserved_room_type assigned_room_type  booking_changes deposit_type  \\\n",
              "14214                  A                  H                2   No Deposit   \n",
              "\n",
              "       agent  company  days_in_waiting_list    customer_type   adr  \\\n",
              "14214  273.0      NaN                     0  Transient-Party -6.38   \n",
              "\n",
              "       required_car_parking_spaces  total_of_special_requests  \\\n",
              "14214                            0                          0   \n",
              "\n",
              "      reservation_status_date arrival_date  id_booking  \n",
              "14214              2017-03-15   2017-03-05       14969  "
            ],
            "text/html": [
              "\n",
              "  <div id=\"df-34e3300c-51cf-4916-b961-0e7023d86268\">\n",
              "    <div class=\"colab-df-container\">\n",
              "      <div>\n",
              "<style scoped>\n",
              "    .dataframe tbody tr th:only-of-type {\n",
              "        vertical-align: middle;\n",
              "    }\n",
              "\n",
              "    .dataframe tbody tr th {\n",
              "        vertical-align: top;\n",
              "    }\n",
              "\n",
              "    .dataframe thead th {\n",
              "        text-align: right;\n",
              "    }\n",
              "</style>\n",
              "<table border=\"1\" class=\"dataframe\">\n",
              "  <thead>\n",
              "    <tr style=\"text-align: right;\">\n",
              "      <th></th>\n",
              "      <th>hotel</th>\n",
              "      <th>is_cancelled</th>\n",
              "      <th>lead_time</th>\n",
              "      <th>stays_in_weekend_nights</th>\n",
              "      <th>stays_in_week_nights</th>\n",
              "      <th>adults</th>\n",
              "      <th>children</th>\n",
              "      <th>babies</th>\n",
              "      <th>meal</th>\n",
              "      <th>country</th>\n",
              "      <th>market_segment</th>\n",
              "      <th>distribution_channel</th>\n",
              "      <th>is_repeated_guest</th>\n",
              "      <th>previous_cancellations</th>\n",
              "      <th>previous_bookings_not_canceled</th>\n",
              "      <th>reserved_room_type</th>\n",
              "      <th>assigned_room_type</th>\n",
              "      <th>booking_changes</th>\n",
              "      <th>deposit_type</th>\n",
              "      <th>agent</th>\n",
              "      <th>company</th>\n",
              "      <th>days_in_waiting_list</th>\n",
              "      <th>customer_type</th>\n",
              "      <th>adr</th>\n",
              "      <th>required_car_parking_spaces</th>\n",
              "      <th>total_of_special_requests</th>\n",
              "      <th>reservation_status_date</th>\n",
              "      <th>arrival_date</th>\n",
              "      <th>id_booking</th>\n",
              "    </tr>\n",
              "  </thead>\n",
              "  <tbody>\n",
              "    <tr>\n",
              "      <th>14214</th>\n",
              "      <td>Resort Hotel</td>\n",
              "      <td>0.0</td>\n",
              "      <td>195</td>\n",
              "      <td>4</td>\n",
              "      <td>6</td>\n",
              "      <td>2</td>\n",
              "      <td>0.0</td>\n",
              "      <td>0</td>\n",
              "      <td>BB</td>\n",
              "      <td>GBR</td>\n",
              "      <td>Groups</td>\n",
              "      <td>Direct</td>\n",
              "      <td>1</td>\n",
              "      <td>0</td>\n",
              "      <td>2</td>\n",
              "      <td>A</td>\n",
              "      <td>H</td>\n",
              "      <td>2</td>\n",
              "      <td>No Deposit</td>\n",
              "      <td>273.0</td>\n",
              "      <td>NaN</td>\n",
              "      <td>0</td>\n",
              "      <td>Transient-Party</td>\n",
              "      <td>-6.38</td>\n",
              "      <td>0</td>\n",
              "      <td>0</td>\n",
              "      <td>2017-03-15</td>\n",
              "      <td>2017-03-05</td>\n",
              "      <td>14969</td>\n",
              "    </tr>\n",
              "  </tbody>\n",
              "</table>\n",
              "</div>\n",
              "      <button class=\"colab-df-convert\" onclick=\"convertToInteractive('df-34e3300c-51cf-4916-b961-0e7023d86268')\"\n",
              "              title=\"Convert this dataframe to an interactive table.\"\n",
              "              style=\"display:none;\">\n",
              "        \n",
              "  <svg xmlns=\"http://www.w3.org/2000/svg\" height=\"24px\"viewBox=\"0 0 24 24\"\n",
              "       width=\"24px\">\n",
              "    <path d=\"M0 0h24v24H0V0z\" fill=\"none\"/>\n",
              "    <path d=\"M18.56 5.44l.94 2.06.94-2.06 2.06-.94-2.06-.94-.94-2.06-.94 2.06-2.06.94zm-11 1L8.5 8.5l.94-2.06 2.06-.94-2.06-.94L8.5 2.5l-.94 2.06-2.06.94zm10 10l.94 2.06.94-2.06 2.06-.94-2.06-.94-.94-2.06-.94 2.06-2.06.94z\"/><path d=\"M17.41 7.96l-1.37-1.37c-.4-.4-.92-.59-1.43-.59-.52 0-1.04.2-1.43.59L10.3 9.45l-7.72 7.72c-.78.78-.78 2.05 0 2.83L4 21.41c.39.39.9.59 1.41.59.51 0 1.02-.2 1.41-.59l7.78-7.78 2.81-2.81c.8-.78.8-2.07 0-2.86zM5.41 20L4 18.59l7.72-7.72 1.47 1.35L5.41 20z\"/>\n",
              "  </svg>\n",
              "      </button>\n",
              "      \n",
              "  <style>\n",
              "    .colab-df-container {\n",
              "      display:flex;\n",
              "      flex-wrap:wrap;\n",
              "      gap: 12px;\n",
              "    }\n",
              "\n",
              "    .colab-df-convert {\n",
              "      background-color: #E8F0FE;\n",
              "      border: none;\n",
              "      border-radius: 50%;\n",
              "      cursor: pointer;\n",
              "      display: none;\n",
              "      fill: #1967D2;\n",
              "      height: 32px;\n",
              "      padding: 0 0 0 0;\n",
              "      width: 32px;\n",
              "    }\n",
              "\n",
              "    .colab-df-convert:hover {\n",
              "      background-color: #E2EBFA;\n",
              "      box-shadow: 0px 1px 2px rgba(60, 64, 67, 0.3), 0px 1px 3px 1px rgba(60, 64, 67, 0.15);\n",
              "      fill: #174EA6;\n",
              "    }\n",
              "\n",
              "    [theme=dark] .colab-df-convert {\n",
              "      background-color: #3B4455;\n",
              "      fill: #D2E3FC;\n",
              "    }\n",
              "\n",
              "    [theme=dark] .colab-df-convert:hover {\n",
              "      background-color: #434B5C;\n",
              "      box-shadow: 0px 1px 3px 1px rgba(0, 0, 0, 0.15);\n",
              "      filter: drop-shadow(0px 1px 2px rgba(0, 0, 0, 0.3));\n",
              "      fill: #FFFFFF;\n",
              "    }\n",
              "  </style>\n",
              "\n",
              "      <script>\n",
              "        const buttonEl =\n",
              "          document.querySelector('#df-34e3300c-51cf-4916-b961-0e7023d86268 button.colab-df-convert');\n",
              "        buttonEl.style.display =\n",
              "          google.colab.kernel.accessAllowed ? 'block' : 'none';\n",
              "\n",
              "        async function convertToInteractive(key) {\n",
              "          const element = document.querySelector('#df-34e3300c-51cf-4916-b961-0e7023d86268');\n",
              "          const dataTable =\n",
              "            await google.colab.kernel.invokeFunction('convertToInteractive',\n",
              "                                                     [key], {});\n",
              "          if (!dataTable) return;\n",
              "\n",
              "          const docLinkHtml = 'Like what you see? Visit the ' +\n",
              "            '<a target=\"_blank\" href=https://colab.research.google.com/notebooks/data_table.ipynb>data table notebook</a>'\n",
              "            + ' to learn more about interactive tables.';\n",
              "          element.innerHTML = '';\n",
              "          dataTable['output_type'] = 'display_data';\n",
              "          await google.colab.output.renderOutput(dataTable, element);\n",
              "          const docLink = document.createElement('div');\n",
              "          docLink.innerHTML = docLinkHtml;\n",
              "          element.appendChild(docLink);\n",
              "        }\n",
              "      </script>\n",
              "    </div>\n",
              "  </div>\n",
              "  "
            ]
          },
          "metadata": {},
          "execution_count": 11
        }
      ]
    },
    {
      "cell_type": "markdown",
      "source": [
        "We can see very well that it may have been a typing error, since there is only one customer who has a negative `adr`. According to the data, these are two adults who spent 11 days in a resort hotel. So I prefer to delete this line instead of making the `adr` positive, since there is no data on lodgging transactions."
      ],
      "metadata": {
        "id": "neFq39reI0lF"
      }
    },
    {
      "cell_type": "code",
      "source": [
        "hotel_origin.drop(index=14214, inplace=True)"
      ],
      "metadata": {
        "id": "hGMHGeDbOBWO"
      },
      "execution_count": 12,
      "outputs": []
    },
    {
      "cell_type": "markdown",
      "source": [
        "This gave me the idea to see if there are customers who have spent a free stay in the hotel."
      ],
      "metadata": {
        "id": "omg2B3FHNWAy"
      }
    },
    {
      "cell_type": "code",
      "source": [
        "free_stay = hotel_origin[hotel_origin['adr'] == 0]\n",
        "free_stay.head()"
      ],
      "metadata": {
        "colab": {
          "base_uri": "https://localhost:8080/",
          "height": 357
        },
        "id": "ZAiNpxDsNZAv",
        "outputId": "98f0c518-0290-487b-c09d-a56b1ca41f6e"
      },
      "execution_count": 13,
      "outputs": [
        {
          "output_type": "execute_result",
          "data": {
            "text/plain": [
              "            hotel  is_cancelled  lead_time  stays_in_weekend_nights  \\\n",
              "0    Resort Hotel           0.0        342                        0   \n",
              "1    Resort Hotel           0.0        737                        0   \n",
              "124  Resort Hotel           0.0         32                        0   \n",
              "164  Resort Hotel           0.0        111                        0   \n",
              "165  Resort Hotel           0.0          0                        0   \n",
              "\n",
              "     stays_in_week_nights  adults  children  babies meal country  \\\n",
              "0                       0       2       0.0       0   BB     PRT   \n",
              "1                       0       2       0.0       0   BB     PRT   \n",
              "124                     1       4       0.0       0   FB     PRT   \n",
              "164                     0       2       0.0       0   BB     PRT   \n",
              "165                     0       1       0.0       0   BB     PRT   \n",
              "\n",
              "    market_segment distribution_channel  is_repeated_guest  \\\n",
              "0           Direct               Direct                  0   \n",
              "1           Direct               Direct                  0   \n",
              "124  Complementary               Direct                  0   \n",
              "164      Online TA                TA/TO                  0   \n",
              "165         Direct               Direct                  0   \n",
              "\n",
              "     previous_cancellations  previous_bookings_not_canceled  \\\n",
              "0                         0                               0   \n",
              "1                         0                               0   \n",
              "124                       0                               0   \n",
              "164                       0                               0   \n",
              "165                       0                               0   \n",
              "\n",
              "    reserved_room_type assigned_room_type  booking_changes deposit_type  \\\n",
              "0                    C                  C                3   No Deposit   \n",
              "1                    C                  C                4   No Deposit   \n",
              "124                  H                  H                2   No Deposit   \n",
              "164                  A                  H                0   No Deposit   \n",
              "165                  E                  H                0   No Deposit   \n",
              "\n",
              "     agent  company  days_in_waiting_list customer_type  adr  \\\n",
              "0      NaN      NaN                     0     Transient  0.0   \n",
              "1      NaN      NaN                     0     Transient  0.0   \n",
              "124    NaN      NaN                     0     Transient  0.0   \n",
              "164  240.0      NaN                     0     Transient  0.0   \n",
              "165  250.0      NaN                     0     Transient  0.0   \n",
              "\n",
              "     required_car_parking_spaces  total_of_special_requests  \\\n",
              "0                              0                          0   \n",
              "1                              0                          0   \n",
              "124                            0                          1   \n",
              "164                            0                          2   \n",
              "165                            0                          0   \n",
              "\n",
              "    reservation_status_date arrival_date  id_booking  \n",
              "0                2015-07-01   2015-07-01           0  \n",
              "1                2015-07-01   2015-07-01           1  \n",
              "124              2015-07-05   2015-07-04         125  \n",
              "164              2015-07-06   2015-07-06         167  \n",
              "165              2015-07-06   2015-07-06         168  "
            ],
            "text/html": [
              "\n",
              "  <div id=\"df-d35e6c31-ae85-4554-938f-7ae8336b3cba\">\n",
              "    <div class=\"colab-df-container\">\n",
              "      <div>\n",
              "<style scoped>\n",
              "    .dataframe tbody tr th:only-of-type {\n",
              "        vertical-align: middle;\n",
              "    }\n",
              "\n",
              "    .dataframe tbody tr th {\n",
              "        vertical-align: top;\n",
              "    }\n",
              "\n",
              "    .dataframe thead th {\n",
              "        text-align: right;\n",
              "    }\n",
              "</style>\n",
              "<table border=\"1\" class=\"dataframe\">\n",
              "  <thead>\n",
              "    <tr style=\"text-align: right;\">\n",
              "      <th></th>\n",
              "      <th>hotel</th>\n",
              "      <th>is_cancelled</th>\n",
              "      <th>lead_time</th>\n",
              "      <th>stays_in_weekend_nights</th>\n",
              "      <th>stays_in_week_nights</th>\n",
              "      <th>adults</th>\n",
              "      <th>children</th>\n",
              "      <th>babies</th>\n",
              "      <th>meal</th>\n",
              "      <th>country</th>\n",
              "      <th>market_segment</th>\n",
              "      <th>distribution_channel</th>\n",
              "      <th>is_repeated_guest</th>\n",
              "      <th>previous_cancellations</th>\n",
              "      <th>previous_bookings_not_canceled</th>\n",
              "      <th>reserved_room_type</th>\n",
              "      <th>assigned_room_type</th>\n",
              "      <th>booking_changes</th>\n",
              "      <th>deposit_type</th>\n",
              "      <th>agent</th>\n",
              "      <th>company</th>\n",
              "      <th>days_in_waiting_list</th>\n",
              "      <th>customer_type</th>\n",
              "      <th>adr</th>\n",
              "      <th>required_car_parking_spaces</th>\n",
              "      <th>total_of_special_requests</th>\n",
              "      <th>reservation_status_date</th>\n",
              "      <th>arrival_date</th>\n",
              "      <th>id_booking</th>\n",
              "    </tr>\n",
              "  </thead>\n",
              "  <tbody>\n",
              "    <tr>\n",
              "      <th>0</th>\n",
              "      <td>Resort Hotel</td>\n",
              "      <td>0.0</td>\n",
              "      <td>342</td>\n",
              "      <td>0</td>\n",
              "      <td>0</td>\n",
              "      <td>2</td>\n",
              "      <td>0.0</td>\n",
              "      <td>0</td>\n",
              "      <td>BB</td>\n",
              "      <td>PRT</td>\n",
              "      <td>Direct</td>\n",
              "      <td>Direct</td>\n",
              "      <td>0</td>\n",
              "      <td>0</td>\n",
              "      <td>0</td>\n",
              "      <td>C</td>\n",
              "      <td>C</td>\n",
              "      <td>3</td>\n",
              "      <td>No Deposit</td>\n",
              "      <td>NaN</td>\n",
              "      <td>NaN</td>\n",
              "      <td>0</td>\n",
              "      <td>Transient</td>\n",
              "      <td>0.0</td>\n",
              "      <td>0</td>\n",
              "      <td>0</td>\n",
              "      <td>2015-07-01</td>\n",
              "      <td>2015-07-01</td>\n",
              "      <td>0</td>\n",
              "    </tr>\n",
              "    <tr>\n",
              "      <th>1</th>\n",
              "      <td>Resort Hotel</td>\n",
              "      <td>0.0</td>\n",
              "      <td>737</td>\n",
              "      <td>0</td>\n",
              "      <td>0</td>\n",
              "      <td>2</td>\n",
              "      <td>0.0</td>\n",
              "      <td>0</td>\n",
              "      <td>BB</td>\n",
              "      <td>PRT</td>\n",
              "      <td>Direct</td>\n",
              "      <td>Direct</td>\n",
              "      <td>0</td>\n",
              "      <td>0</td>\n",
              "      <td>0</td>\n",
              "      <td>C</td>\n",
              "      <td>C</td>\n",
              "      <td>4</td>\n",
              "      <td>No Deposit</td>\n",
              "      <td>NaN</td>\n",
              "      <td>NaN</td>\n",
              "      <td>0</td>\n",
              "      <td>Transient</td>\n",
              "      <td>0.0</td>\n",
              "      <td>0</td>\n",
              "      <td>0</td>\n",
              "      <td>2015-07-01</td>\n",
              "      <td>2015-07-01</td>\n",
              "      <td>1</td>\n",
              "    </tr>\n",
              "    <tr>\n",
              "      <th>124</th>\n",
              "      <td>Resort Hotel</td>\n",
              "      <td>0.0</td>\n",
              "      <td>32</td>\n",
              "      <td>0</td>\n",
              "      <td>1</td>\n",
              "      <td>4</td>\n",
              "      <td>0.0</td>\n",
              "      <td>0</td>\n",
              "      <td>FB</td>\n",
              "      <td>PRT</td>\n",
              "      <td>Complementary</td>\n",
              "      <td>Direct</td>\n",
              "      <td>0</td>\n",
              "      <td>0</td>\n",
              "      <td>0</td>\n",
              "      <td>H</td>\n",
              "      <td>H</td>\n",
              "      <td>2</td>\n",
              "      <td>No Deposit</td>\n",
              "      <td>NaN</td>\n",
              "      <td>NaN</td>\n",
              "      <td>0</td>\n",
              "      <td>Transient</td>\n",
              "      <td>0.0</td>\n",
              "      <td>0</td>\n",
              "      <td>1</td>\n",
              "      <td>2015-07-05</td>\n",
              "      <td>2015-07-04</td>\n",
              "      <td>125</td>\n",
              "    </tr>\n",
              "    <tr>\n",
              "      <th>164</th>\n",
              "      <td>Resort Hotel</td>\n",
              "      <td>0.0</td>\n",
              "      <td>111</td>\n",
              "      <td>0</td>\n",
              "      <td>0</td>\n",
              "      <td>2</td>\n",
              "      <td>0.0</td>\n",
              "      <td>0</td>\n",
              "      <td>BB</td>\n",
              "      <td>PRT</td>\n",
              "      <td>Online TA</td>\n",
              "      <td>TA/TO</td>\n",
              "      <td>0</td>\n",
              "      <td>0</td>\n",
              "      <td>0</td>\n",
              "      <td>A</td>\n",
              "      <td>H</td>\n",
              "      <td>0</td>\n",
              "      <td>No Deposit</td>\n",
              "      <td>240.0</td>\n",
              "      <td>NaN</td>\n",
              "      <td>0</td>\n",
              "      <td>Transient</td>\n",
              "      <td>0.0</td>\n",
              "      <td>0</td>\n",
              "      <td>2</td>\n",
              "      <td>2015-07-06</td>\n",
              "      <td>2015-07-06</td>\n",
              "      <td>167</td>\n",
              "    </tr>\n",
              "    <tr>\n",
              "      <th>165</th>\n",
              "      <td>Resort Hotel</td>\n",
              "      <td>0.0</td>\n",
              "      <td>0</td>\n",
              "      <td>0</td>\n",
              "      <td>0</td>\n",
              "      <td>1</td>\n",
              "      <td>0.0</td>\n",
              "      <td>0</td>\n",
              "      <td>BB</td>\n",
              "      <td>PRT</td>\n",
              "      <td>Direct</td>\n",
              "      <td>Direct</td>\n",
              "      <td>0</td>\n",
              "      <td>0</td>\n",
              "      <td>0</td>\n",
              "      <td>E</td>\n",
              "      <td>H</td>\n",
              "      <td>0</td>\n",
              "      <td>No Deposit</td>\n",
              "      <td>250.0</td>\n",
              "      <td>NaN</td>\n",
              "      <td>0</td>\n",
              "      <td>Transient</td>\n",
              "      <td>0.0</td>\n",
              "      <td>0</td>\n",
              "      <td>0</td>\n",
              "      <td>2015-07-06</td>\n",
              "      <td>2015-07-06</td>\n",
              "      <td>168</td>\n",
              "    </tr>\n",
              "  </tbody>\n",
              "</table>\n",
              "</div>\n",
              "      <button class=\"colab-df-convert\" onclick=\"convertToInteractive('df-d35e6c31-ae85-4554-938f-7ae8336b3cba')\"\n",
              "              title=\"Convert this dataframe to an interactive table.\"\n",
              "              style=\"display:none;\">\n",
              "        \n",
              "  <svg xmlns=\"http://www.w3.org/2000/svg\" height=\"24px\"viewBox=\"0 0 24 24\"\n",
              "       width=\"24px\">\n",
              "    <path d=\"M0 0h24v24H0V0z\" fill=\"none\"/>\n",
              "    <path d=\"M18.56 5.44l.94 2.06.94-2.06 2.06-.94-2.06-.94-.94-2.06-.94 2.06-2.06.94zm-11 1L8.5 8.5l.94-2.06 2.06-.94-2.06-.94L8.5 2.5l-.94 2.06-2.06.94zm10 10l.94 2.06.94-2.06 2.06-.94-2.06-.94-.94-2.06-.94 2.06-2.06.94z\"/><path d=\"M17.41 7.96l-1.37-1.37c-.4-.4-.92-.59-1.43-.59-.52 0-1.04.2-1.43.59L10.3 9.45l-7.72 7.72c-.78.78-.78 2.05 0 2.83L4 21.41c.39.39.9.59 1.41.59.51 0 1.02-.2 1.41-.59l7.78-7.78 2.81-2.81c.8-.78.8-2.07 0-2.86zM5.41 20L4 18.59l7.72-7.72 1.47 1.35L5.41 20z\"/>\n",
              "  </svg>\n",
              "      </button>\n",
              "      \n",
              "  <style>\n",
              "    .colab-df-container {\n",
              "      display:flex;\n",
              "      flex-wrap:wrap;\n",
              "      gap: 12px;\n",
              "    }\n",
              "\n",
              "    .colab-df-convert {\n",
              "      background-color: #E8F0FE;\n",
              "      border: none;\n",
              "      border-radius: 50%;\n",
              "      cursor: pointer;\n",
              "      display: none;\n",
              "      fill: #1967D2;\n",
              "      height: 32px;\n",
              "      padding: 0 0 0 0;\n",
              "      width: 32px;\n",
              "    }\n",
              "\n",
              "    .colab-df-convert:hover {\n",
              "      background-color: #E2EBFA;\n",
              "      box-shadow: 0px 1px 2px rgba(60, 64, 67, 0.3), 0px 1px 3px 1px rgba(60, 64, 67, 0.15);\n",
              "      fill: #174EA6;\n",
              "    }\n",
              "\n",
              "    [theme=dark] .colab-df-convert {\n",
              "      background-color: #3B4455;\n",
              "      fill: #D2E3FC;\n",
              "    }\n",
              "\n",
              "    [theme=dark] .colab-df-convert:hover {\n",
              "      background-color: #434B5C;\n",
              "      box-shadow: 0px 1px 3px 1px rgba(0, 0, 0, 0.15);\n",
              "      filter: drop-shadow(0px 1px 2px rgba(0, 0, 0, 0.3));\n",
              "      fill: #FFFFFF;\n",
              "    }\n",
              "  </style>\n",
              "\n",
              "      <script>\n",
              "        const buttonEl =\n",
              "          document.querySelector('#df-d35e6c31-ae85-4554-938f-7ae8336b3cba button.colab-df-convert');\n",
              "        buttonEl.style.display =\n",
              "          google.colab.kernel.accessAllowed ? 'block' : 'none';\n",
              "\n",
              "        async function convertToInteractive(key) {\n",
              "          const element = document.querySelector('#df-d35e6c31-ae85-4554-938f-7ae8336b3cba');\n",
              "          const dataTable =\n",
              "            await google.colab.kernel.invokeFunction('convertToInteractive',\n",
              "                                                     [key], {});\n",
              "          if (!dataTable) return;\n",
              "\n",
              "          const docLinkHtml = 'Like what you see? Visit the ' +\n",
              "            '<a target=\"_blank\" href=https://colab.research.google.com/notebooks/data_table.ipynb>data table notebook</a>'\n",
              "            + ' to learn more about interactive tables.';\n",
              "          element.innerHTML = '';\n",
              "          dataTable['output_type'] = 'display_data';\n",
              "          await google.colab.output.renderOutput(dataTable, element);\n",
              "          const docLink = document.createElement('div');\n",
              "          docLink.innerHTML = docLinkHtml;\n",
              "          element.appendChild(docLink);\n",
              "        }\n",
              "      </script>\n",
              "    </div>\n",
              "  </div>\n",
              "  "
            ]
          },
          "metadata": {},
          "execution_count": 13
        }
      ]
    },
    {
      "cell_type": "code",
      "source": [
        "free_stay['adr'].count()"
      ],
      "metadata": {
        "colab": {
          "base_uri": "https://localhost:8080/"
        },
        "id": "Ddl2rHZ5QARs",
        "outputId": "86778590-1afa-478f-cd71-0912256682d4"
      },
      "execution_count": 14,
      "outputs": [
        {
          "output_type": "execute_result",
          "data": {
            "text/plain": [
              "1959"
            ]
          },
          "metadata": {},
          "execution_count": 14
        }
      ]
    },
    {
      "cell_type": "code",
      "source": [
        "round(free_stay['adr'].count() / len(hotel_origin) * 100., 2)"
      ],
      "metadata": {
        "colab": {
          "base_uri": "https://localhost:8080/"
        },
        "id": "1V7LtfCs7Qo1",
        "outputId": "78fe48d8-b6df-4b10-c4ff-4d4f99f931b7"
      },
      "execution_count": 15,
      "outputs": [
        {
          "output_type": "execute_result",
          "data": {
            "text/plain": [
              "1.64"
            ]
          },
          "metadata": {},
          "execution_count": 15
        }
      ]
    },
    {
      "cell_type": "markdown",
      "source": [
        "There are **1959** people who have benefited from a free stay, or **1.64%** of all reservations."
      ],
      "metadata": {
        "id": "w77AYjYBRYMu"
      }
    },
    {
      "cell_type": "markdown",
      "source": [
        "Let's see how this 1.64% is distributed over the two types of hotels."
      ],
      "metadata": {
        "id": "EZjp-1q0SY5a"
      }
    },
    {
      "cell_type": "code",
      "source": [
        "free_stay.groupby(['hotel']).count()['adr']"
      ],
      "metadata": {
        "colab": {
          "base_uri": "https://localhost:8080/"
        },
        "id": "HQ2LmHOEPYxk",
        "outputId": "13b9ab78-c7f7-497a-cb7e-0fbcfd64492c"
      },
      "execution_count": 16,
      "outputs": [
        {
          "output_type": "execute_result",
          "data": {
            "text/plain": [
              "hotel\n",
              "City Hotel      1208\n",
              "Resort Hotel     751\n",
              "Name: adr, dtype: int64"
            ]
          },
          "metadata": {},
          "execution_count": 16
        }
      ]
    },
    {
      "cell_type": "code",
      "source": [
        "plt.figure(figsize=(8, 5), dpi=85)\n",
        "plt.title('Number of people who enjoyed a free stay.')\n",
        "sns.countplot(x='hotel', data=free_stay)\n",
        "plt.show()"
      ],
      "metadata": {
        "colab": {
          "base_uri": "https://localhost:8080/",
          "height": 415
        },
        "id": "9POUKaJcMl-R",
        "outputId": "ccfeeb76-3c79-4dfa-c157-216630279d04"
      },
      "execution_count": 17,
      "outputs": [
        {
          "output_type": "display_data",
          "data": {
            "text/plain": [
              "<Figure size 680x425 with 1 Axes>"
            ],
            "image/png": "[encoded data removed]"
          },
          "metadata": {}
        }
      ]
    },
    {
      "cell_type": "markdown",
      "source": [
        "There is a difference of **37%** between the two hotels in favor of city hotels. Let's see if this percentage is also respected on all the data."
      ],
      "metadata": {
        "id": "AIePPbyHT-Wp"
      }
    },
    {
      "cell_type": "code",
      "source": [
        "hotel_origin[hotel_origin['adr'] > 0].groupby(['hotel']).count()['adr']"
      ],
      "metadata": {
        "colab": {
          "base_uri": "https://localhost:8080/"
        },
        "id": "rRX1NO2NPJHz",
        "outputId": "d1b70a8b-947b-416d-fbe0-c6c2a02bd8d5"
      },
      "execution_count": 18,
      "outputs": [
        {
          "output_type": "execute_result",
          "data": {
            "text/plain": [
              "hotel\n",
              "City Hotel      78122\n",
              "Resort Hotel    39308\n",
              "Name: adr, dtype: int64"
            ]
          },
          "metadata": {},
          "execution_count": 18
        }
      ]
    },
    {
      "cell_type": "code",
      "source": [
        "plt.figure(figsize=(8, 5), dpi=85)\n",
        "plt.title('Reservation according to the type of hotel.')\n",
        "sns.countplot(x='hotel', \n",
        "              data=hotel_origin[hotel_origin['adr'] > 0]\n",
        "            )\n",
        "plt.show()"
      ],
      "metadata": {
        "colab": {
          "base_uri": "https://localhost:8080/",
          "height": 415
        },
        "id": "mujHKxp9UNFF",
        "outputId": "93a2e608-8fff-483d-b879-0f221cf46e90"
      },
      "execution_count": 19,
      "outputs": [
        {
          "output_type": "display_data",
          "data": {
            "text/plain": [
              "<Figure size 680x425 with 1 Axes>"
            ],
            "image/png": "[encoded data removed]"
          },
          "metadata": {}
        }
      ]
    },
    {
      "cell_type": "markdown",
      "source": [
        "As expected more than 50% of reservations were for city hotels"
      ],
      "metadata": {
        "id": "4XuJxWMmUorJ"
      }
    },
    {
      "cell_type": "markdown",
      "source": [
        "Create a tally chart for each day of the week that people arrived."
      ],
      "metadata": {
        "id": "kOpco1gUwWnp"
      }
    },
    {
      "cell_type": "markdown",
      "source": [
        "Country"
      ],
      "metadata": {
        "id": "P-7sLxHOYCEx"
      }
    },
    {
      "cell_type": "code",
      "source": [
        "free_stay['country'].value_counts().head(10)"
      ],
      "metadata": {
        "colab": {
          "base_uri": "https://localhost:8080/"
        },
        "id": "zxkaAj9xWU68",
        "outputId": "c2a443da-8aab-42e2-93c9-8e555b8d6861"
      },
      "execution_count": 20,
      "outputs": [
        {
          "output_type": "execute_result",
          "data": {
            "text/plain": [
              "PRT    1550\n",
              "ESP      79\n",
              "GBR      73\n",
              "FRA      55\n",
              "DEU      41\n",
              "ITA      17\n",
              "BRA      13\n",
              "USA      11\n",
              "POL      10\n",
              "BEL       8\n",
              "Name: country, dtype: int64"
            ]
          },
          "metadata": {},
          "execution_count": 20
        }
      ]
    },
    {
      "cell_type": "code",
      "source": [
        "hotel_origin['country'].value_counts().head(10)"
      ],
      "metadata": {
        "colab": {
          "base_uri": "https://localhost:8080/"
        },
        "id": "A0mJ8RnhXWMn",
        "outputId": "69675eb8-7e6f-4cea-92c7-d407c8174127"
      },
      "execution_count": 21,
      "outputs": [
        {
          "output_type": "execute_result",
          "data": {
            "text/plain": [
              "PRT    48590\n",
              "GBR    12128\n",
              "FRA    10415\n",
              "ESP     8568\n",
              "DEU     7287\n",
              "ITA     3766\n",
              "IRL     3375\n",
              "BEL     2342\n",
              "BRA     2224\n",
              "NLD     2104\n",
              "Name: country, dtype: int64"
            ]
          },
          "metadata": {},
          "execution_count": 21
        }
      ]
    },
    {
      "cell_type": "markdown",
      "source": [
        "What is the average number of nights for a stay?"
      ],
      "metadata": {
        "id": "HhO5sbQyY4cG"
      }
    },
    {
      "cell_type": "code",
      "source": [
        "total_stay_days = hotel_origin['stays_in_week_nights'] + hotel_origin['stays_in_weekend_nights']\n",
        "\n",
        "round(total_stay_days.mean(),2)"
      ],
      "metadata": {
        "colab": {
          "base_uri": "https://localhost:8080/"
        },
        "id": "SAEpElVkXg4k",
        "outputId": "a47423a4-6e90-4cbb-f8ec-e65a7e336106"
      },
      "execution_count": 22,
      "outputs": [
        {
          "output_type": "execute_result",
          "data": {
            "text/plain": [
              "3.43"
            ]
          },
          "metadata": {},
          "execution_count": 22
        }
      ]
    },
    {
      "cell_type": "markdown",
      "source": [
        "What is the average total cost of a stay?"
      ],
      "metadata": {
        "id": "aZgGBrLdZOdX"
      }
    },
    {
      "cell_type": "code",
      "source": [
        "total_paid = hotel_origin['adr'] * total_stay_days\n",
        "round(total_paid.mean(),2)"
      ],
      "metadata": {
        "colab": {
          "base_uri": "https://localhost:8080/"
        },
        "id": "8b-0M8UuYWH5",
        "outputId": "043fcc5c-31fd-4be7-c2c4-82de852caafe"
      },
      "execution_count": 23,
      "outputs": [
        {
          "output_type": "execute_result",
          "data": {
            "text/plain": [
              "357.85"
            ]
          },
          "metadata": {},
          "execution_count": 23
        }
      ]
    },
    {
      "cell_type": "markdown",
      "source": [
        "people who made special requests?"
      ],
      "metadata": {
        "id": "qwInuOofaNVJ"
      }
    },
    {
      "cell_type": "code",
      "source": [
        "hotel_origin['total_of_special_requests'].value_counts()"
      ],
      "metadata": {
        "colab": {
          "base_uri": "https://localhost:8080/"
        },
        "id": "ANGtKHtTZfe_",
        "outputId": "38d8a7a8-9d75-4307-a12a-0f7862270b08"
      },
      "execution_count": 24,
      "outputs": [
        {
          "output_type": "execute_result",
          "data": {
            "text/plain": [
              "0    70317\n",
              "1    33226\n",
              "2    12969\n",
              "3     2497\n",
              "4      340\n",
              "5       40\n",
              "Name: total_of_special_requests, dtype: int64"
            ]
          },
          "metadata": {},
          "execution_count": 24
        }
      ]
    },
    {
      "cell_type": "markdown",
      "source": [
        "Arrival date"
      ],
      "metadata": {
        "id": "u_JyMQFBhZ37"
      }
    },
    {
      "cell_type": "code",
      "source": [
        "hotel_origin['reservation_status_date'] = pd.to_datetime(hotel_origin['reservation_status_date'])\n",
        "hotel_origin['arrival_date'] = pd.to_datetime(hotel_origin['arrival_date'])"
      ],
      "metadata": {
        "id": "vHJTvoxkf09A"
      },
      "execution_count": 25,
      "outputs": []
    },
    {
      "cell_type": "code",
      "source": [
        "hotel_origin['arrival_date'].dt.month.min(), hotel_origin['arrival_date'].dt.month.max()"
      ],
      "metadata": {
        "colab": {
          "base_uri": "https://localhost:8080/"
        },
        "id": "PimVpZpSgEDp",
        "outputId": "889b3565-4587-47c3-dcc7-3491ea832042"
      },
      "execution_count": 26,
      "outputs": [
        {
          "output_type": "execute_result",
          "data": {
            "text/plain": [
              "(1, 12)"
            ]
          },
          "metadata": {},
          "execution_count": 26
        }
      ]
    },
    {
      "cell_type": "code",
      "source": [
        "hotel_origin['arrival_date'].dt.day.min(), hotel_origin['arrival_date'].dt.day.max()"
      ],
      "metadata": {
        "colab": {
          "base_uri": "https://localhost:8080/"
        },
        "id": "GkynyRfPiZZX",
        "outputId": "afc8da9f-46d5-4784-859c-496e3d7cf186"
      },
      "execution_count": 27,
      "outputs": [
        {
          "output_type": "execute_result",
          "data": {
            "text/plain": [
              "(1, 31)"
            ]
          },
          "metadata": {},
          "execution_count": 27
        }
      ]
    },
    {
      "cell_type": "code",
      "source": [
        "month_and_day = hotel_origin['arrival_date'].dt.day + hotel_origin['arrival_date'].dt.month * 100"
      ],
      "metadata": {
        "id": "rQpODVcYihYD"
      },
      "execution_count": 28,
      "outputs": []
    },
    {
      "cell_type": "code",
      "source": [
        "month_and_day.min(), month_and_day.max()"
      ],
      "metadata": {
        "colab": {
          "base_uri": "https://localhost:8080/"
        },
        "id": "dQhRiopyi8TC",
        "outputId": "a67ddff5-dc96-41ac-9c8e-ac7cd22bad50"
      },
      "execution_count": 29,
      "outputs": [
        {
          "output_type": "execute_result",
          "data": {
            "text/plain": [
              "(101, 1231)"
            ]
          },
          "metadata": {},
          "execution_count": 29
        }
      ]
    },
    {
      "cell_type": "code",
      "source": [
        "# winter: 21 Dec to 20 Mars\n",
        "# spring: 21 Mars to 20 Jun\n",
        "# summer: 21 Jun to 20 Sep\n",
        "# fall: 21 Sep to 20 Dec\n",
        "\n",
        "season_period = ['winter', 'spring', 'summer', 'fall', 'winter2']\n",
        "FROM_JAN_01 = 100\n",
        "MARS_20 = 320\n",
        "JUN_20 = 620\n",
        "SEP_20 = 920\n",
        "DEC_20 = 1220\n",
        "DEC_31 = 1231\n",
        "\n",
        "temp = pd.cut(\n",
        "    month_and_day,\n",
        "    bins=[FROM_JAN_01, MARS_20, JUN_20, SEP_20, DEC_20, DEC_31],\n",
        "    labels=season_period\n",
        ")\n",
        "\n",
        "hotel_origin['season'] = temp.str.replace('2', '')"
      ],
      "metadata": {
        "id": "n4nDwdT0jBsn"
      },
      "execution_count": 30,
      "outputs": []
    },
    {
      "cell_type": "code",
      "source": [
        "hotel_origin.groupby(['season']).mean()"
      ],
      "metadata": {
        "colab": {
          "base_uri": "https://localhost:8080/",
          "height": 270
        },
        "id": "1RH5R-tSjf3k",
        "outputId": "88fb6fa0-e432-48d5-cdcc-ce48277a00fe"
      },
      "execution_count": 31,
      "outputs": [
        {
          "output_type": "execute_result",
          "data": {
            "text/plain": [
              "        is_cancelled   lead_time  stays_in_weekend_nights  \\\n",
              "season                                                      \n",
              "fall        0.362193  103.348865                 0.856958   \n",
              "spring      0.402984  108.393528                 0.896470   \n",
              "summer      0.378158  130.400650                 1.044908   \n",
              "winter      0.320083   55.826452                 0.863427   \n",
              "\n",
              "        stays_in_week_nights    adults  children    babies  is_repeated_guest  \\\n",
              "season                                                                          \n",
              "fall                2.283928  1.778422  0.057217  0.006270           0.035349   \n",
              "spring              2.466461  1.854869  0.087114  0.005678           0.028655   \n",
              "summer              2.760943  1.962107  0.162233  0.011295           0.019664   \n",
              "winter              2.371614  1.775368  0.086796  0.007795           0.052565   \n",
              "\n",
              "        previous_cancellations  previous_bookings_not_canceled  \\\n",
              "season                                                           \n",
              "fall                  0.118196                        0.124662   \n",
              "spring                0.028302                        0.148338   \n",
              "summer                0.133478                        0.091739   \n",
              "winter                0.065108                        0.207125   \n",
              "\n",
              "        booking_changes      agent     company  days_in_waiting_list  \\\n",
              "season                                                                 \n",
              "fall           0.202532  80.057036  184.843418              3.948466   \n",
              "spring         0.203177  90.558562  200.052196              3.294910   \n",
              "summer         0.218039  84.506927  162.588492              0.674485   \n",
              "winter         0.214615  92.145203  199.132168              1.719058   \n",
              "\n",
              "               adr  required_car_parking_spaces  total_of_special_requests  \\\n",
              "season                                                                       \n",
              "fall     84.685349                     0.060509                   0.517459   \n",
              "spring  105.782876                     0.054928                   0.530656   \n",
              "summer  126.030507                     0.066874                   0.662784   \n",
              "winter   76.130202                     0.068984                   0.544552   \n",
              "\n",
              "          id_booking  \n",
              "season                \n",
              "fall    56320.968766  \n",
              "spring  62919.880171  \n",
              "summer  59506.900433  \n",
              "winter  58972.551825  "
            ],
            "text/html": [
              "\n",
              "  <div id=\"df-8f8fdce5-a2b4-4899-8516-d4616f9c51c3\">\n",
              "    <div class=\"colab-df-container\">\n",
              "      <div>\n",
              "<style scoped>\n",
              "    .dataframe tbody tr th:only-of-type {\n",
              "        vertical-align: middle;\n",
              "    }\n",
              "\n",
              "    .dataframe tbody tr th {\n",
              "        vertical-align: top;\n",
              "    }\n",
              "\n",
              "    .dataframe thead th {\n",
              "        text-align: right;\n",
              "    }\n",
              "</style>\n",
              "<table border=\"1\" class=\"dataframe\">\n",
              "  <thead>\n",
              "    <tr style=\"text-align: right;\">\n",
              "      <th></th>\n",
              "      <th>is_cancelled</th>\n",
              "      <th>lead_time</th>\n",
              "      <th>stays_in_weekend_nights</th>\n",
              "      <th>stays_in_week_nights</th>\n",
              "      <th>adults</th>\n",
              "      <th>children</th>\n",
              "      <th>babies</th>\n",
              "      <th>is_repeated_guest</th>\n",
              "      <th>previous_cancellations</th>\n",
              "      <th>previous_bookings_not_canceled</th>\n",
              "      <th>booking_changes</th>\n",
              "      <th>agent</th>\n",
              "      <th>company</th>\n",
              "      <th>days_in_waiting_list</th>\n",
              "      <th>adr</th>\n",
              "      <th>required_car_parking_spaces</th>\n",
              "      <th>total_of_special_requests</th>\n",
              "      <th>id_booking</th>\n",
              "    </tr>\n",
              "    <tr>\n",
              "      <th>season</th>\n",
              "      <th></th>\n",
              "      <th></th>\n",
              "      <th></th>\n",
              "      <th></th>\n",
              "      <th></th>\n",
              "      <th></th>\n",
              "      <th></th>\n",
              "      <th></th>\n",
              "      <th></th>\n",
              "      <th></th>\n",
              "      <th></th>\n",
              "      <th></th>\n",
              "      <th></th>\n",
              "      <th></th>\n",
              "      <th></th>\n",
              "      <th></th>\n",
              "      <th></th>\n",
              "      <th></th>\n",
              "    </tr>\n",
              "  </thead>\n",
              "  <tbody>\n",
              "    <tr>\n",
              "      <th>fall</th>\n",
              "      <td>0.362193</td>\n",
              "      <td>103.348865</td>\n",
              "      <td>0.856958</td>\n",
              "      <td>2.283928</td>\n",
              "      <td>1.778422</td>\n",
              "      <td>0.057217</td>\n",
              "      <td>0.006270</td>\n",
              "      <td>0.035349</td>\n",
              "      <td>0.118196</td>\n",
              "      <td>0.124662</td>\n",
              "      <td>0.202532</td>\n",
              "      <td>80.057036</td>\n",
              "      <td>184.843418</td>\n",
              "      <td>3.948466</td>\n",
              "      <td>84.685349</td>\n",
              "      <td>0.060509</td>\n",
              "      <td>0.517459</td>\n",
              "      <td>56320.968766</td>\n",
              "    </tr>\n",
              "    <tr>\n",
              "      <th>spring</th>\n",
              "      <td>0.402984</td>\n",
              "      <td>108.393528</td>\n",
              "      <td>0.896470</td>\n",
              "      <td>2.466461</td>\n",
              "      <td>1.854869</td>\n",
              "      <td>0.087114</td>\n",
              "      <td>0.005678</td>\n",
              "      <td>0.028655</td>\n",
              "      <td>0.028302</td>\n",
              "      <td>0.148338</td>\n",
              "      <td>0.203177</td>\n",
              "      <td>90.558562</td>\n",
              "      <td>200.052196</td>\n",
              "      <td>3.294910</td>\n",
              "      <td>105.782876</td>\n",
              "      <td>0.054928</td>\n",
              "      <td>0.530656</td>\n",
              "      <td>62919.880171</td>\n",
              "    </tr>\n",
              "    <tr>\n",
              "      <th>summer</th>\n",
              "      <td>0.378158</td>\n",
              "      <td>130.400650</td>\n",
              "      <td>1.044908</td>\n",
              "      <td>2.760943</td>\n",
              "      <td>1.962107</td>\n",
              "      <td>0.162233</td>\n",
              "      <td>0.011295</td>\n",
              "      <td>0.019664</td>\n",
              "      <td>0.133478</td>\n",
              "      <td>0.091739</td>\n",
              "      <td>0.218039</td>\n",
              "      <td>84.506927</td>\n",
              "      <td>162.588492</td>\n",
              "      <td>0.674485</td>\n",
              "      <td>126.030507</td>\n",
              "      <td>0.066874</td>\n",
              "      <td>0.662784</td>\n",
              "      <td>59506.900433</td>\n",
              "    </tr>\n",
              "    <tr>\n",
              "      <th>winter</th>\n",
              "      <td>0.320083</td>\n",
              "      <td>55.826452</td>\n",
              "      <td>0.863427</td>\n",
              "      <td>2.371614</td>\n",
              "      <td>1.775368</td>\n",
              "      <td>0.086796</td>\n",
              "      <td>0.007795</td>\n",
              "      <td>0.052565</td>\n",
              "      <td>0.065108</td>\n",
              "      <td>0.207125</td>\n",
              "      <td>0.214615</td>\n",
              "      <td>92.145203</td>\n",
              "      <td>199.132168</td>\n",
              "      <td>1.719058</td>\n",
              "      <td>76.130202</td>\n",
              "      <td>0.068984</td>\n",
              "      <td>0.544552</td>\n",
              "      <td>58972.551825</td>\n",
              "    </tr>\n",
              "  </tbody>\n",
              "</table>\n",
              "</div>\n",
              "      <button class=\"colab-df-convert\" onclick=\"convertToInteractive('df-8f8fdce5-a2b4-4899-8516-d4616f9c51c3')\"\n",
              "              title=\"Convert this dataframe to an interactive table.\"\n",
              "              style=\"display:none;\">\n",
              "        \n",
              "  <svg xmlns=\"http://www.w3.org/2000/svg\" height=\"24px\"viewBox=\"0 0 24 24\"\n",
              "       width=\"24px\">\n",
              "    <path d=\"M0 0h24v24H0V0z\" fill=\"none\"/>\n",
              "    <path d=\"M18.56 5.44l.94 2.06.94-2.06 2.06-.94-2.06-.94-.94-2.06-.94 2.06-2.06.94zm-11 1L8.5 8.5l.94-2.06 2.06-.94-2.06-.94L8.5 2.5l-.94 2.06-2.06.94zm10 10l.94 2.06.94-2.06 2.06-.94-2.06-.94-.94-2.06-.94 2.06-2.06.94z\"/><path d=\"M17.41 7.96l-1.37-1.37c-.4-.4-.92-.59-1.43-.59-.52 0-1.04.2-1.43.59L10.3 9.45l-7.72 7.72c-.78.78-.78 2.05 0 2.83L4 21.41c.39.39.9.59 1.41.59.51 0 1.02-.2 1.41-.59l7.78-7.78 2.81-2.81c.8-.78.8-2.07 0-2.86zM5.41 20L4 18.59l7.72-7.72 1.47 1.35L5.41 20z\"/>\n",
              "  </svg>\n",
              "      </button>\n",
              "      \n",
              "  <style>\n",
              "    .colab-df-container {\n",
              "      display:flex;\n",
              "      flex-wrap:wrap;\n",
              "      gap: 12px;\n",
              "    }\n",
              "\n",
              "    .colab-df-convert {\n",
              "      background-color: #E8F0FE;\n",
              "      border: none;\n",
              "      border-radius: 50%;\n",
              "      cursor: pointer;\n",
              "      display: none;\n",
              "      fill: #1967D2;\n",
              "      height: 32px;\n",
              "      padding: 0 0 0 0;\n",
              "      width: 32px;\n",
              "    }\n",
              "\n",
              "    .colab-df-convert:hover {\n",
              "      background-color: #E2EBFA;\n",
              "      box-shadow: 0px 1px 2px rgba(60, 64, 67, 0.3), 0px 1px 3px 1px rgba(60, 64, 67, 0.15);\n",
              "      fill: #174EA6;\n",
              "    }\n",
              "\n",
              "    [theme=dark] .colab-df-convert {\n",
              "      background-color: #3B4455;\n",
              "      fill: #D2E3FC;\n",
              "    }\n",
              "\n",
              "    [theme=dark] .colab-df-convert:hover {\n",
              "      background-color: #434B5C;\n",
              "      box-shadow: 0px 1px 3px 1px rgba(0, 0, 0, 0.15);\n",
              "      filter: drop-shadow(0px 1px 2px rgba(0, 0, 0, 0.3));\n",
              "      fill: #FFFFFF;\n",
              "    }\n",
              "  </style>\n",
              "\n",
              "      <script>\n",
              "        const buttonEl =\n",
              "          document.querySelector('#df-8f8fdce5-a2b4-4899-8516-d4616f9c51c3 button.colab-df-convert');\n",
              "        buttonEl.style.display =\n",
              "          google.colab.kernel.accessAllowed ? 'block' : 'none';\n",
              "\n",
              "        async function convertToInteractive(key) {\n",
              "          const element = document.querySelector('#df-8f8fdce5-a2b4-4899-8516-d4616f9c51c3');\n",
              "          const dataTable =\n",
              "            await google.colab.kernel.invokeFunction('convertToInteractive',\n",
              "                                                     [key], {});\n",
              "          if (!dataTable) return;\n",
              "\n",
              "          const docLinkHtml = 'Like what you see? Visit the ' +\n",
              "            '<a target=\"_blank\" href=https://colab.research.google.com/notebooks/data_table.ipynb>data table notebook</a>'\n",
              "            + ' to learn more about interactive tables.';\n",
              "          element.innerHTML = '';\n",
              "          dataTable['output_type'] = 'display_data';\n",
              "          await google.colab.output.renderOutput(dataTable, element);\n",
              "          const docLink = document.createElement('div');\n",
              "          docLink.innerHTML = docLinkHtml;\n",
              "          element.appendChild(docLink);\n",
              "        }\n",
              "      </script>\n",
              "    </div>\n",
              "  </div>\n",
              "  "
            ]
          },
          "metadata": {},
          "execution_count": 31
        }
      ]
    },
    {
      "cell_type": "code",
      "source": [
        "plt.figure(figsize=(8, 5), dpi=85)\n",
        "plt.title('adr according to the seasons.')\n",
        "sns.barplot(x='season', y='adr', data=hotel_origin)\n",
        "plt.show()"
      ],
      "metadata": {
        "colab": {
          "base_uri": "https://localhost:8080/",
          "height": 415
        },
        "id": "hJ2V7cwyjkUD",
        "outputId": "89c7fc64-ac4b-4c27-abea-ac9761328690"
      },
      "execution_count": 32,
      "outputs": [
        {
          "output_type": "display_data",
          "data": {
            "text/plain": [
              "<Figure size 680x425 with 1 Axes>"
            ],
            "image/png": "[encoded data removed]"
          },
          "metadata": {}
        }
      ]
    },
    {
      "cell_type": "code",
      "source": [
        "plt.figure(figsize=(8, 5), dpi=85)\n",
        "plt.title('adr according to the seasons.')\n",
        "sns.barplot(x='season', y='adr', data=hotel_origin, hue='hotel')\n",
        "plt.show()"
      ],
      "metadata": {
        "colab": {
          "base_uri": "https://localhost:8080/",
          "height": 415
        },
        "id": "dh6ryRuKkTJX",
        "outputId": "07bb60fa-41f4-419c-8e16-4bd0ef5d0147"
      },
      "execution_count": 33,
      "outputs": [
        {
          "output_type": "display_data",
          "data": {
            "text/plain": [
              "<Figure size 680x425 with 1 Axes>"
            ],
            "image/png": "[encoded data removed]"
          },
          "metadata": {}
        }
      ]
    },
    {
      "cell_type": "code",
      "source": [
        "plt.figure(figsize=(8, 5), dpi=85)\n",
        "plt.title('.')\n",
        "sns.barplot(x='season', y='is_cancelled', data=hotel_origin)\n",
        "plt.show()"
      ],
      "metadata": {
        "colab": {
          "base_uri": "https://localhost:8080/",
          "height": 415
        },
        "id": "-zCXxlEQke3o",
        "outputId": "8090ccc6-6cd9-4872-86f0-89b39390866f"
      },
      "execution_count": 34,
      "outputs": [
        {
          "output_type": "display_data",
          "data": {
            "text/plain": [
              "<Figure size 680x425 with 1 Axes>"
            ],
            "image/png": "[encoded data removed]"
          },
          "metadata": {}
        }
      ]
    },
    {
      "cell_type": "code",
      "source": [
        "plt.figure(figsize=(10,5))\n",
        "plt.xticks(rotation=45)\n",
        "sns.countplot(x='season', data=hotel_origin,\n",
        "              hue='market_segment',\n",
        "              palette='Dark2'\n",
        "              )\n",
        "plt.legend(bbox_to_anchor=(1.08, 0.58))\n",
        "plt.show()"
      ],
      "metadata": {
        "colab": {
          "base_uri": "https://localhost:8080/",
          "height": 363
        },
        "id": "mjVp-zZRqHdd",
        "outputId": "73db4913-75f2-43a3-e94f-d1e32ac54acb"
      },
      "execution_count": 35,
      "outputs": [
        {
          "output_type": "display_data",
          "data": {
            "text/plain": [
              "<Figure size 720x360 with 1 Axes>"
            ],
            "image/png": "[encoded data removed]"
          },
          "metadata": {}
        }
      ]
    },
    {
      "cell_type": "code",
      "source": [
        "plt.figure(figsize=(10,5))\n",
        "plt.xticks(rotation=45)\n",
        "sns.barplot(x='market_segment', y='adr', data=hotel_origin,\n",
        "              hue='season',\n",
        "              estimator=np.mean,\n",
        "              ci='sd',\n",
        "              palette='Dark2'\n",
        "              )\n",
        "plt.legend(bbox_to_anchor=(1.08, 0.58))\n",
        "plt.show()"
      ],
      "metadata": {
        "colab": {
          "base_uri": "https://localhost:8080/",
          "height": 390
        },
        "id": "riGTJ-6YraWW",
        "outputId": "00e99a5d-48a3-4545-f619-13cd6b7f06e3"
      },
      "execution_count": 36,
      "outputs": [
        {
          "output_type": "display_data",
          "data": {
            "text/plain": [
              "<Figure size 720x360 with 1 Axes>"
            ],
            "image/png": "[encoded data removed]"
          },
          "metadata": {}
        }
      ]
    },
    {
      "cell_type": "markdown",
      "source": [
        "week night weekend night"
      ],
      "metadata": {
        "id": "euv_RjNlnUXJ"
      }
    },
    {
      "cell_type": "code",
      "source": [
        "plt.figure(figsize=(8, 5), dpi=85)\n",
        "plt.title('.')\n",
        "sns.scatterplot(y='stays_in_weekend_nights', x='stays_in_week_nights',\n",
        "                data=hotel_origin, hue='hotel', s=200, alpha=0.25\n",
        ")\n",
        "plt.show()"
      ],
      "metadata": {
        "colab": {
          "base_uri": "https://localhost:8080/",
          "height": 416
        },
        "id": "dxiCQtLZk_B8",
        "outputId": "fb29efff-f3ca-45b6-ff3e-604d91b6c518"
      },
      "execution_count": 37,
      "outputs": [
        {
          "output_type": "display_data",
          "data": {
            "text/plain": [
              "<Figure size 680x425 with 1 Axes>"
            ],
            "image/png": "[encoded data removed]"
          },
          "metadata": {}
        }
      ]
    },
    {
      "cell_type": "code",
      "source": [
        "# previous_cancellations, previous_bookings_not_canceled\n",
        "plt.figure(figsize=(8, 5), dpi=85)\n",
        "plt.title('.')\n",
        "sns.scatterplot(y='previous_cancellations', x='previous_bookings_not_canceled',\n",
        "                data=hotel_origin, hue='hotel', s=200, alpha=0.25\n",
        ")\n",
        "plt.show()"
      ],
      "metadata": {
        "colab": {
          "base_uri": "https://localhost:8080/",
          "height": 416
        },
        "id": "pI-nJZApmi26",
        "outputId": "1d8f6303-45b7-4f86-ca75-5b523d66f8ae"
      },
      "execution_count": 38,
      "outputs": [
        {
          "output_type": "display_data",
          "data": {
            "text/plain": [
              "<Figure size 680x425 with 1 Axes>"
            ],
            "image/png": "[encoded data removed]"
          },
          "metadata": {}
        }
      ]
    },
    {
      "cell_type": "code",
      "source": [
        "plt.figure(figsize=(8, 5), dpi=85)\n",
        "plt.title('.')\n",
        "sns.scatterplot(y='total_of_special_requests', x='previous_cancellations',\n",
        "                data=hotel_origin, hue='hotel', s=200, alpha=0.25\n",
        ")\n",
        "plt.show()"
      ],
      "metadata": {
        "colab": {
          "base_uri": "https://localhost:8080/",
          "height": 416
        },
        "id": "MYBfJHernceu",
        "outputId": "0b51d466-d6d3-4ed8-c666-f5b1986185a3"
      },
      "execution_count": 39,
      "outputs": [
        {
          "output_type": "display_data",
          "data": {
            "text/plain": [
              "<Figure size 680x425 with 1 Axes>"
            ],
            "image/png": "[encoded data removed]"
          },
          "metadata": {}
        }
      ]
    },
    {
      "cell_type": "code",
      "source": [
        "plt.figure(figsize=(8, 5), dpi=85)\n",
        "plt.title('.')\n",
        "sns.scatterplot(x='total_of_special_requests', y='previous_bookings_not_canceled',\n",
        "                data=hotel_origin, hue='hotel', s=200, alpha=0.25\n",
        ")\n",
        "plt.show()"
      ],
      "metadata": {
        "colab": {
          "base_uri": "https://localhost:8080/",
          "height": 416
        },
        "id": "Wmeep0c4o_II",
        "outputId": "f1c114c0-5407-419e-9366-c2645ac49b33"
      },
      "execution_count": 40,
      "outputs": [
        {
          "output_type": "display_data",
          "data": {
            "text/plain": [
              "<Figure size 680x425 with 1 Axes>"
            ],
            "image/png": "[encoded data removed]"
          },
          "metadata": {}
        }
      ]
    },
    {
      "cell_type": "code",
      "source": [
        "hotel_origin['arrival_date'].dt.day_name().value_counts()"
      ],
      "metadata": {
        "colab": {
          "base_uri": "https://localhost:8080/"
        },
        "id": "oxc0R3gF2lxe",
        "outputId": "aa290adf-4959-40f3-c8b9-50ee901d81d5"
      },
      "execution_count": 41,
      "outputs": [
        {
          "output_type": "execute_result",
          "data": {
            "text/plain": [
              "Friday       19631\n",
              "Thursday     19254\n",
              "Monday       18171\n",
              "Saturday     18055\n",
              "Wednesday    16139\n",
              "Sunday       14140\n",
              "Tuesday      13999\n",
              "Name: arrival_date, dtype: int64"
            ]
          },
          "metadata": {},
          "execution_count": 41
        }
      ]
    },
    {
      "cell_type": "markdown",
      "source": [
        "# Feature Engineering"
      ],
      "metadata": {
        "id": "-MBQ7eh2wqib"
      }
    },
    {
      "cell_type": "markdown",
      "source": [
        "## Feature Characteristics"
      ],
      "metadata": {
        "id": "l-CTgTptxg_w"
      }
    },
    {
      "cell_type": "markdown",
      "source": [
        "#### **Missing Data**"
      ],
      "metadata": {
        "id": "0N6kIsNMxui2"
      }
    },
    {
      "cell_type": "code",
      "source": [
        "def missing_data(df):\n",
        "  for col in df.columns:\n",
        "    s = round(df[col].isna().mean() * 100, 3)\n",
        "    if s > 0:\n",
        "      print(f\"{col}: {s}%\")"
      ],
      "metadata": {
        "id": "nPh-BKkUwuBN"
      },
      "execution_count": 42,
      "outputs": []
    },
    {
      "cell_type": "code",
      "source": [
        "missing_data(df_train)"
      ],
      "metadata": {
        "colab": {
          "base_uri": "https://localhost:8080/"
        },
        "id": "5vEDexUqyAEY",
        "outputId": "44445aee-2e03-439b-bfb4-79e66500715f"
      },
      "execution_count": 43,
      "outputs": [
        {
          "output_type": "stream",
          "name": "stdout",
          "text": [
            "children: 0.003%\n",
            "country: 0.404%\n",
            "agent: 13.659%\n",
            "company: 94.324%\n"
          ]
        }
      ]
    },
    {
      "cell_type": "code",
      "source": [
        "missing_data(df_test)"
      ],
      "metadata": {
        "colab": {
          "base_uri": "https://localhost:8080/"
        },
        "id": "M7WECWk0zSs1",
        "outputId": "ff608cc0-7308-4c6e-d7e3-994219bb4b05"
      },
      "execution_count": 44,
      "outputs": [
        {
          "output_type": "stream",
          "name": "stdout",
          "text": [
            "children: 0.017%\n",
            "country: 0.502%\n",
            "agent: 14.195%\n",
            "company: 93.981%\n"
          ]
        }
      ]
    },
    {
      "cell_type": "markdown",
      "source": [
        "There are over 93% missing values in the `company` variable and over 13% in the `agent` variable. `agent` is a categorical variable, this is ID of the travel agency that made the booking. ID is presented instead of designation for anonymity reasons. “NULL” is presented as one of the categories. This should not be considered a missing value, but rather as “not applicable”. For example, if a booking “Agent” is defined as “NULL” it means that the booking did not came from a travel agent."
      ],
      "metadata": {
        "id": "Qxrx7Bd48ePc"
      }
    },
    {
      "cell_type": "code",
      "source": [
        "hotel_origin.columns"
      ],
      "metadata": {
        "colab": {
          "base_uri": "https://localhost:8080/"
        },
        "id": "6pixkGuF6scM",
        "outputId": "be44b1d4-4cff-497b-99a6-eaa8e88fa0fc"
      },
      "execution_count": 45,
      "outputs": [
        {
          "output_type": "execute_result",
          "data": {
            "text/plain": [
              "Index(['hotel', 'is_cancelled', 'lead_time', 'stays_in_weekend_nights',\n",
              "       'stays_in_week_nights', 'adults', 'children', 'babies', 'meal',\n",
              "       'country', 'market_segment', 'distribution_channel',\n",
              "       'is_repeated_guest', 'previous_cancellations',\n",
              "       'previous_bookings_not_canceled', 'reserved_room_type',\n",
              "       'assigned_room_type', 'booking_changes', 'deposit_type', 'agent',\n",
              "       'company', 'days_in_waiting_list', 'customer_type', 'adr',\n",
              "       'required_car_parking_spaces', 'total_of_special_requests',\n",
              "       'reservation_status_date', 'arrival_date', 'id_booking', 'season'],\n",
              "      dtype='object')"
            ]
          },
          "metadata": {},
          "execution_count": 45
        }
      ]
    },
    {
      "cell_type": "code",
      "source": [
        "hotel_origin.market_segment.value_counts()"
      ],
      "metadata": {
        "colab": {
          "base_uri": "https://localhost:8080/"
        },
        "id": "svt3a1NN7NCQ",
        "outputId": "2af5ec8c-6daa-453c-e127-5cc7c3d643f8"
      },
      "execution_count": 46,
      "outputs": [
        {
          "output_type": "execute_result",
          "data": {
            "text/plain": [
              "Online TA        56477\n",
              "Offline TA/TO    24219\n",
              "Groups           19810\n",
              "Direct           12606\n",
              "Corporate         5295\n",
              "Complementary      743\n",
              "Aviation           237\n",
              "Undefined            2\n",
              "Name: market_segment, dtype: int64"
            ]
          },
          "metadata": {},
          "execution_count": 46
        }
      ]
    },
    {
      "cell_type": "markdown",
      "source": [
        "Agent Missing data Not At Random (MNAR)\n",
        "Can we infer this by looking at the data?\n",
        "\n",
        "If data is MNAR, we could expect a greater number of missing values for cutomer who did not make online/offline tour agent/tour operator."
      ],
      "metadata": {
        "id": "c4PPn_AJCcYM"
      }
    },
    {
      "cell_type": "code",
      "source": [
        "hotel_origin['agent'].isnull().groupby(hotel_origin['market_segment']).mean()"
      ],
      "metadata": {
        "colab": {
          "base_uri": "https://localhost:8080/"
        },
        "id": "khKUNRNMDraN",
        "outputId": "f25608bc-faeb-476d-d1e9-e37af2bec45d"
      },
      "execution_count": 47,
      "outputs": [
        {
          "output_type": "execute_result",
          "data": {
            "text/plain": [
              "market_segment\n",
              "Aviation         0.894515\n",
              "Complementary    0.861373\n",
              "Corporate        0.867611\n",
              "Direct           0.476519\n",
              "Groups           0.209389\n",
              "Offline TA/TO    0.016062\n",
              "Online TA        0.006162\n",
              "Undefined        1.000000\n",
              "Name: agent, dtype: float64"
            ]
          },
          "metadata": {},
          "execution_count": 47
        }
      ]
    },
    {
      "cell_type": "code",
      "source": [
        "ta = ['Online TA', 'Offline TA/TO']\n",
        "singular = ['Groups', 'Direct', 'Corporate', 'Complementary', 'Aviation', 'Undefined']\n",
        "\n",
        "ta_to_agent = hotel_origin[hotel_origin.market_segment.isin(ta)][['agent']]\n",
        "ta_to_agent.isna().sum() * 100. / len(ta_to_agent)"
      ],
      "metadata": {
        "colab": {
          "base_uri": "https://localhost:8080/"
        },
        "id": "Hp_6V2AA9W3x",
        "outputId": "955947a8-dbc9-4bab-a367-28f0b92b1ff1"
      },
      "execution_count": 48,
      "outputs": [
        {
          "output_type": "execute_result",
          "data": {
            "text/plain": [
              "agent    0.913304\n",
              "dtype: float64"
            ]
          },
          "metadata": {},
          "execution_count": 48
        }
      ]
    },
    {
      "cell_type": "code",
      "source": [
        "no_agent = hotel_origin[hotel_origin.market_segment.isin(singular)][['agent']]\n",
        "no_agent.isna().sum() * 100. / len(no_agent)"
      ],
      "metadata": {
        "colab": {
          "base_uri": "https://localhost:8080/"
        },
        "id": "9ObpzsWmBPQ4",
        "outputId": "730f6644-0995-45f3-fa10-10e22f967a66"
      },
      "execution_count": 49,
      "outputs": [
        {
          "output_type": "execute_result",
          "data": {
            "text/plain": [
              "agent    40.325123\n",
              "dtype: float64"
            ]
          },
          "metadata": {},
          "execution_count": 49
        }
      ]
    },
    {
      "cell_type": "markdown",
      "source": [
        "replace agent"
      ],
      "metadata": {
        "id": "1FvH4AtrLe89"
      }
    },
    {
      "cell_type": "code",
      "source": [
        "# df_train['agent'].fillna(1000, inplace=True)\n",
        "df_test['agent'].fillna(1000, inplace=True)\n",
        "\n",
        "df_train['company'].fillna(1000, inplace=True)\n",
        "df_test['company'].fillna(1000, inplace=True)"
      ],
      "metadata": {
        "id": "hsPzkp4UJd6Y"
      },
      "execution_count": 58,
      "outputs": []
    },
    {
      "cell_type": "code",
      "source": [
        "missing_data(df_train)"
      ],
      "metadata": {
        "colab": {
          "base_uri": "https://localhost:8080/"
        },
        "id": "8tqQbaEoMoGP",
        "outputId": "424b704d-a924-405c-d4c7-d8f6b331957f"
      },
      "execution_count": 59,
      "outputs": [
        {
          "output_type": "stream",
          "name": "stdout",
          "text": [
            "children: 0.003%\n",
            "country: 0.404%\n"
          ]
        }
      ]
    },
    {
      "cell_type": "code",
      "source": [
        "missing_data(df_test)"
      ],
      "metadata": {
        "colab": {
          "base_uri": "https://localhost:8080/"
        },
        "id": "B6RUOVy8NvEu",
        "outputId": "fdcbb3c9-a5b6-49be-d445-0816c6ea86a9"
      },
      "execution_count": 60,
      "outputs": [
        {
          "output_type": "stream",
          "name": "stdout",
          "text": [
            "children: 0.017%\n",
            "country: 0.502%\n"
          ]
        }
      ]
    },
    {
      "cell_type": "code",
      "source": [],
      "metadata": {
        "id": "bMxEMhuZS1DO"
      },
      "execution_count": null,
      "outputs": []
    }
  ]
}