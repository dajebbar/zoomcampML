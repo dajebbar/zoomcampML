{
  "nbformat": 4,
  "nbformat_minor": 0,
  "metadata": {
    "colab": {
      "provenance": []
    },
    "kernelspec": {
      "name": "python3",
      "display_name": "Python 3"
    },
    "language_info": {
      "name": "python"
    },
    "accelerator": "GPU",
    "gpuClass": "standard"
  },
  "cells": [
    {
      "cell_type": "code",
      "execution_count": 1,
      "metadata": {
        "colab": {
          "base_uri": "https://localhost:8080/"
        },
        "id": "aI7_F359jifL",
        "outputId": "641b0c56-8365-45c8-c1bc-01b62c61f739"
      },
      "outputs": [
        {
          "output_type": "stream",
          "name": "stdout",
          "text": [
            "\u001b[?25l\r\u001b[K     |██████▌                         | 10 kB 29.0 MB/s eta 0:00:01\r\u001b[K     |█████████████                   | 20 kB 34.3 MB/s eta 0:00:01\r\u001b[K     |███████████████████▍            | 30 kB 41.4 MB/s eta 0:00:01\r\u001b[K     |█████████████████████████▉      | 40 kB 46.8 MB/s eta 0:00:01\r\u001b[K     |████████████████████████████████| 50 kB 7.6 MB/s \n",
            "\u001b[?25h"
          ]
        }
      ],
      "source": [
        "!pip install -U efficientnet opendatasets --quiet"
      ]
    },
    {
      "cell_type": "code",
      "source": [
        "import opendatasets as od\n",
        "\n",
        "url = \"https://www.kaggle.com/competitions/kitchenware-classification/data\"\n",
        "od.download(url)"
      ],
      "metadata": {
        "colab": {
          "base_uri": "https://localhost:8080/"
        },
        "id": "XA8TbrBbj08R",
        "outputId": "269631ef-3698-4e92-f414-4ffe90fb6141"
      },
      "execution_count": 2,
      "outputs": [
        {
          "output_type": "stream",
          "name": "stdout",
          "text": [
            "Downloading kitchenware-classification.zip to ./kitchenware-classification\n"
          ]
        },
        {
          "output_type": "stream",
          "name": "stderr",
          "text": [
            "100%|██████████| 1.63G/1.63G [01:23<00:00, 21.0MB/s]\n"
          ]
        },
        {
          "output_type": "stream",
          "name": "stdout",
          "text": [
            "\n",
            "Extracting archive ./kitchenware-classification/kitchenware-classification.zip to ./kitchenware-classification\n"
          ]
        }
      ]
    },
    {
      "cell_type": "code",
      "source": [
        "import tensorflow as tf\n",
        "from tensorflow.keras.models import Sequential\n",
        "from keras_preprocessing.image import ImageDataGenerator\n",
        "from tensorflow.keras.layers import (\n",
        "    Conv2D,\n",
        "    MaxPooling2D,\n",
        "    Dense,\n",
        "    Activation,\n",
        "    Flatten,\n",
        "    Dropout,\n",
        "    BatchNormalization,\n",
        ")\n",
        "from keras.models import Model\n",
        "from keras.preprocessing import image\n",
        "from keras.applications import imagenet_utils\n",
        "from keras.applications import vgg16\n",
        "import efficientnet.keras as efn\n",
        "from tensorflow.keras.applications import ResNet50\n",
        "from tensorflow.keras.applications.vgg16 import preprocess_input\n",
        "import pandas as pd\n",
        "import numpy as np\n",
        "import matplotlib.pyplot as plt\n",
        "from sklearn.metrics import confusion_matrix"
      ],
      "metadata": {
        "id": "bFrqDXNLj1Ko"
      },
      "execution_count": 16,
      "outputs": []
    },
    {
      "cell_type": "code",
      "source": [
        "def append_ext(fp):\n",
        "  return fp + \".jpg\""
      ],
      "metadata": {
        "id": "ODL1WCPaj1Ne"
      },
      "execution_count": 4,
      "outputs": []
    },
    {
      "cell_type": "code",
      "source": [
        "train_df = pd.read_csv(\"./kitchenware-classification/train.csv\", dtype=str)\n",
        "test_df = pd.read_csv(\"./kitchenware-classification/test.csv\", dtype=str)\n",
        "submit_df = pd.read_csv(\"./kitchenware-classification/sample_submission.csv\")"
      ],
      "metadata": {
        "id": "B_B6uAZej1Qd"
      },
      "execution_count": 5,
      "outputs": []
    },
    {
      "cell_type": "code",
      "source": [
        "train_df[\"Id\"] = train_df[\"Id\"].apply(append_ext)\n",
        "test_df[\"Id\"] = test_df[\"Id\"].apply(append_ext)"
      ],
      "metadata": {
        "id": "bq1yc_imj1Tt"
      },
      "execution_count": 6,
      "outputs": []
    },
    {
      "cell_type": "code",
      "source": [
        "datagen = ImageDataGenerator(\n",
        "    rescale = 1./255., \n",
        "    validation_split=0.25,\n",
        "    rotation_range = 40, \n",
        "    width_shift_range = 0.2, \n",
        "    height_shift_range = 0.2, \n",
        "    shear_range = 0.2, \n",
        "    zoom_range = 0.2, \n",
        "    horizontal_flip = True\n",
        ")\n",
        "\n",
        "test_datagen = ImageDataGenerator(rescale = 1.0/255.)\n",
        "\n",
        "# Import data from dataframes and directories and turn it into batches\n",
        "efn_train_generator = datagen.flow_from_dataframe(\n",
        "    dataframe=train_df,\n",
        "    directory=\"./kitchenware-classification/images/\",\n",
        "    x_col=\"Id\",\n",
        "    y_col=\"label\",\n",
        "    subset=\"training\",\n",
        "    batch_size=32,\n",
        "    seed=42,\n",
        "    shuffle=True,\n",
        "    class_mode=\"categorical\",\n",
        "    target_size=(224,224)\n",
        ")\n",
        "\n",
        "efn_valid_generator = datagen.flow_from_dataframe(\n",
        "    dataframe=train_df,\n",
        "    directory=\"./kitchenware-classification/images/\",\n",
        "    x_col=\"Id\",\n",
        "    y_col=\"label\",\n",
        "    subset=\"validation\",\n",
        "    batch_size=32,\n",
        "    seed=42,\n",
        "    shuffle=True,\n",
        "    class_mode=\"categorical\",\n",
        "    target_size=(224,224)\n",
        ")\n",
        "\n",
        "test_generator = test_datagen.flow_from_dataframe(\n",
        "    dataframe=test_df,\n",
        "    directory=\"./kitchenware-classification/images/\",\n",
        "    x_col=\"Id\",\n",
        "    y_col=None,\n",
        "    batch_size=32,\n",
        "    seed=42,\n",
        "    shuffle=False,\n",
        "    class_mode=None,\n",
        "    target_size=(224,224)\n",
        ")"
      ],
      "metadata": {
        "colab": {
          "base_uri": "https://localhost:8080/"
        },
        "id": "xYeKFkP7j1Wy",
        "outputId": "9e8a5f14-5001-4cdc-be06-b2af30a89c4f"
      },
      "execution_count": 7,
      "outputs": [
        {
          "output_type": "stream",
          "name": "stdout",
          "text": [
            "Found 4170 validated image filenames belonging to 6 classes.\n",
            "Found 1389 validated image filenames belonging to 6 classes.\n",
            "Found 3808 validated image filenames.\n"
          ]
        }
      ]
    },
    {
      "cell_type": "markdown",
      "source": [
        "# EfficientNetB7"
      ],
      "metadata": {
        "id": "oVWrc1wlkr9n"
      }
    },
    {
      "cell_type": "code",
      "source": [
        "base_model = efn.EfficientNetB7(\n",
        "    input_shape = (224, 224, 3), \n",
        "    include_top = False, \n",
        "    weights = 'imagenet'\n",
        ")\n",
        "\n",
        "for layer in base_model.layers:\n",
        "    layer.trainable = False\n",
        "\n",
        "x = base_model.output\n",
        "x = Flatten()(x)\n",
        "x = Dense(512, activation=\"relu\")(x)\n",
        "x = Dropout(0.5)(x)\n",
        "x = Dense(6, activation=\"softmax\")(x)\n",
        "\n",
        "model_10 = Model(inputs=base_model.input, outputs=x)\n",
        "\n",
        "# Compile the model\n",
        "model_10.compile(\n",
        "    loss=tf.keras.losses.CategoricalCrossentropy(),\n",
        "    # optimizer=tf.keras.optimizers.Adam(learning_rate=5e-4),\n",
        "    optimizer=tf.keras.optimizers.RMSprop(learning_rate=2e-4),\n",
        "    metrics=[\"accuracy\"]\n",
        ")\n",
        "\n",
        "# Fitting the model\n",
        "STEP_SIZE_TRAIN = efn_train_generator.n // efn_train_generator.batch_size\n",
        "STEP_SIZE_VALID = efn_valid_generator.n // efn_valid_generator.batch_size\n",
        "STEP_SIZE_SET = test_generator.n // test_generator.batch_size \n",
        "\n",
        "history_10 = model_10.fit(\n",
        "    efn_train_generator,\n",
        "    epochs=10,\n",
        "    steps_per_epoch=STEP_SIZE_TRAIN,\n",
        "    validation_data=efn_valid_generator,\n",
        "    validation_steps=STEP_SIZE_VALID,\n",
        "    verbose=1,\n",
        ")"
      ],
      "metadata": {
        "colab": {
          "base_uri": "https://localhost:8080/"
        },
        "id": "q5DvsXadj1Z5",
        "outputId": "03089dec-6475-4d89-ec40-7911742c4d83"
      },
      "execution_count": 8,
      "outputs": [
        {
          "output_type": "stream",
          "name": "stdout",
          "text": [
            "Downloading data from https://github.com/Callidior/keras-applications/releases/download/efficientnet/efficientnet-b7_weights_tf_dim_ordering_tf_kernels_autoaugment_notop.h5\n",
            "258434480/258434480 [==============================] - 31s 0us/step\n",
            "Epoch 1/10\n",
            "130/130 [==============================] - 164s 1s/step - loss: 2.8099 - accuracy: 0.7177 - val_loss: 0.4438 - val_accuracy: 0.8895\n",
            "Epoch 2/10\n",
            "130/130 [==============================] - 139s 1s/step - loss: 1.5069 - accuracy: 0.7929 - val_loss: 0.4641 - val_accuracy: 0.8844\n",
            "Epoch 3/10\n",
            "130/130 [==============================] - 133s 1s/step - loss: 1.4775 - accuracy: 0.8033 - val_loss: 0.3357 - val_accuracy: 0.9121\n",
            "Epoch 4/10\n",
            "130/130 [==============================] - 138s 1s/step - loss: 1.5248 - accuracy: 0.8151 - val_loss: 0.3186 - val_accuracy: 0.9062\n",
            "Epoch 5/10\n",
            "130/130 [==============================] - 140s 1s/step - loss: 1.3358 - accuracy: 0.8168 - val_loss: 0.3173 - val_accuracy: 0.9026\n",
            "Epoch 6/10\n",
            "130/130 [==============================] - 145s 1s/step - loss: 1.2764 - accuracy: 0.8340 - val_loss: 0.2947 - val_accuracy: 0.9157\n",
            "Epoch 7/10\n",
            "130/130 [==============================] - 150s 1s/step - loss: 1.0807 - accuracy: 0.8444 - val_loss: 0.3108 - val_accuracy: 0.9084\n",
            "Epoch 8/10\n",
            "130/130 [==============================] - 142s 1s/step - loss: 1.2341 - accuracy: 0.8511 - val_loss: 0.3065 - val_accuracy: 0.9157\n",
            "Epoch 9/10\n",
            "130/130 [==============================] - 135s 1s/step - loss: 1.1261 - accuracy: 0.8540 - val_loss: 0.2593 - val_accuracy: 0.9186\n",
            "Epoch 10/10\n",
            "130/130 [==============================] - 131s 1s/step - loss: 0.8927 - accuracy: 0.8603 - val_loss: 0.3330 - val_accuracy: 0.9142\n"
          ]
        }
      ]
    },
    {
      "cell_type": "code",
      "source": [
        "max_val_accuracy = max(history_10.history[\"val_accuracy\"])\n",
        "print(\"Max validation accuracy is : {:.4f}\".format(max_val_accuracy))"
      ],
      "metadata": {
        "colab": {
          "base_uri": "https://localhost:8080/"
        },
        "id": "C1qoNpjOj1b_",
        "outputId": "788bb9f4-9a86-4cec-bafb-ff83885856b5"
      },
      "execution_count": 9,
      "outputs": [
        {
          "output_type": "stream",
          "name": "stdout",
          "text": [
            "Max validation accuracy is : 0.9186\n"
          ]
        }
      ]
    },
    {
      "cell_type": "code",
      "source": [
        "score = model_10.evaluate(efn_valid_generator, verbose=0)\n",
        "print(f\"Test loss  :  {score[0]:5.4f}\")\n",
        "print(f\"Test accuracy  :  {100*score[1]:5.4f}%\")"
      ],
      "metadata": {
        "colab": {
          "base_uri": "https://localhost:8080/"
        },
        "id": "2ihSQxDhj1ep",
        "outputId": "d478df44-386f-48b2-de7d-faf4dead39e3"
      },
      "execution_count": 10,
      "outputs": [
        {
          "output_type": "stream",
          "name": "stdout",
          "text": [
            "Test loss  :  0.2978\n",
            "Test accuracy  :  92.0806%\n"
          ]
        }
      ]
    },
    {
      "cell_type": "code",
      "source": [
        "df_model10 = pd.DataFrame(history_10.history)\n",
        "df_model10.head()"
      ],
      "metadata": {
        "colab": {
          "base_uri": "https://localhost:8080/",
          "height": 206
        },
        "id": "CnLln1Wuj1g-",
        "outputId": "45e86da3-2c66-4c1a-ae94-be65c2fe60a4"
      },
      "execution_count": 11,
      "outputs": [
        {
          "output_type": "execute_result",
          "data": {
            "text/plain": [
              "       loss  accuracy  val_loss  val_accuracy\n",
              "0  2.809899  0.717738  0.443813      0.889535\n",
              "1  1.506875  0.792895  0.464054      0.884448\n",
              "2  1.477470  0.803287  0.335696      0.912064\n",
              "3  1.524758  0.815128  0.318562      0.906250\n",
              "4  1.335850  0.816820  0.317308      0.902616"
            ],
            "text/html": [
              "\n",
              "  <div id=\"df-0156fa9b-9bdc-4f02-8c46-c751720fc5cb\">\n",
              "    <div class=\"colab-df-container\">\n",
              "      <div>\n",
              "<style scoped>\n",
              "    .dataframe tbody tr th:only-of-type {\n",
              "        vertical-align: middle;\n",
              "    }\n",
              "\n",
              "    .dataframe tbody tr th {\n",
              "        vertical-align: top;\n",
              "    }\n",
              "\n",
              "    .dataframe thead th {\n",
              "        text-align: right;\n",
              "    }\n",
              "</style>\n",
              "<table border=\"1\" class=\"dataframe\">\n",
              "  <thead>\n",
              "    <tr style=\"text-align: right;\">\n",
              "      <th></th>\n",
              "      <th>loss</th>\n",
              "      <th>accuracy</th>\n",
              "      <th>val_loss</th>\n",
              "      <th>val_accuracy</th>\n",
              "    </tr>\n",
              "  </thead>\n",
              "  <tbody>\n",
              "    <tr>\n",
              "      <th>0</th>\n",
              "      <td>2.809899</td>\n",
              "      <td>0.717738</td>\n",
              "      <td>0.443813</td>\n",
              "      <td>0.889535</td>\n",
              "    </tr>\n",
              "    <tr>\n",
              "      <th>1</th>\n",
              "      <td>1.506875</td>\n",
              "      <td>0.792895</td>\n",
              "      <td>0.464054</td>\n",
              "      <td>0.884448</td>\n",
              "    </tr>\n",
              "    <tr>\n",
              "      <th>2</th>\n",
              "      <td>1.477470</td>\n",
              "      <td>0.803287</td>\n",
              "      <td>0.335696</td>\n",
              "      <td>0.912064</td>\n",
              "    </tr>\n",
              "    <tr>\n",
              "      <th>3</th>\n",
              "      <td>1.524758</td>\n",
              "      <td>0.815128</td>\n",
              "      <td>0.318562</td>\n",
              "      <td>0.906250</td>\n",
              "    </tr>\n",
              "    <tr>\n",
              "      <th>4</th>\n",
              "      <td>1.335850</td>\n",
              "      <td>0.816820</td>\n",
              "      <td>0.317308</td>\n",
              "      <td>0.902616</td>\n",
              "    </tr>\n",
              "  </tbody>\n",
              "</table>\n",
              "</div>\n",
              "      <button class=\"colab-df-convert\" onclick=\"convertToInteractive('df-0156fa9b-9bdc-4f02-8c46-c751720fc5cb')\"\n",
              "              title=\"Convert this dataframe to an interactive table.\"\n",
              "              style=\"display:none;\">\n",
              "        \n",
              "  <svg xmlns=\"http://www.w3.org/2000/svg\" height=\"24px\"viewBox=\"0 0 24 24\"\n",
              "       width=\"24px\">\n",
              "    <path d=\"M0 0h24v24H0V0z\" fill=\"none\"/>\n",
              "    <path d=\"M18.56 5.44l.94 2.06.94-2.06 2.06-.94-2.06-.94-.94-2.06-.94 2.06-2.06.94zm-11 1L8.5 8.5l.94-2.06 2.06-.94-2.06-.94L8.5 2.5l-.94 2.06-2.06.94zm10 10l.94 2.06.94-2.06 2.06-.94-2.06-.94-.94-2.06-.94 2.06-2.06.94z\"/><path d=\"M17.41 7.96l-1.37-1.37c-.4-.4-.92-.59-1.43-.59-.52 0-1.04.2-1.43.59L10.3 9.45l-7.72 7.72c-.78.78-.78 2.05 0 2.83L4 21.41c.39.39.9.59 1.41.59.51 0 1.02-.2 1.41-.59l7.78-7.78 2.81-2.81c.8-.78.8-2.07 0-2.86zM5.41 20L4 18.59l7.72-7.72 1.47 1.35L5.41 20z\"/>\n",
              "  </svg>\n",
              "      </button>\n",
              "      \n",
              "  <style>\n",
              "    .colab-df-container {\n",
              "      display:flex;\n",
              "      flex-wrap:wrap;\n",
              "      gap: 12px;\n",
              "    }\n",
              "\n",
              "    .colab-df-convert {\n",
              "      background-color: #E8F0FE;\n",
              "      border: none;\n",
              "      border-radius: 50%;\n",
              "      cursor: pointer;\n",
              "      display: none;\n",
              "      fill: #1967D2;\n",
              "      height: 32px;\n",
              "      padding: 0 0 0 0;\n",
              "      width: 32px;\n",
              "    }\n",
              "\n",
              "    .colab-df-convert:hover {\n",
              "      background-color: #E2EBFA;\n",
              "      box-shadow: 0px 1px 2px rgba(60, 64, 67, 0.3), 0px 1px 3px 1px rgba(60, 64, 67, 0.15);\n",
              "      fill: #174EA6;\n",
              "    }\n",
              "\n",
              "    [theme=dark] .colab-df-convert {\n",
              "      background-color: #3B4455;\n",
              "      fill: #D2E3FC;\n",
              "    }\n",
              "\n",
              "    [theme=dark] .colab-df-convert:hover {\n",
              "      background-color: #434B5C;\n",
              "      box-shadow: 0px 1px 3px 1px rgba(0, 0, 0, 0.15);\n",
              "      filter: drop-shadow(0px 1px 2px rgba(0, 0, 0, 0.3));\n",
              "      fill: #FFFFFF;\n",
              "    }\n",
              "  </style>\n",
              "\n",
              "      <script>\n",
              "        const buttonEl =\n",
              "          document.querySelector('#df-0156fa9b-9bdc-4f02-8c46-c751720fc5cb button.colab-df-convert');\n",
              "        buttonEl.style.display =\n",
              "          google.colab.kernel.accessAllowed ? 'block' : 'none';\n",
              "\n",
              "        async function convertToInteractive(key) {\n",
              "          const element = document.querySelector('#df-0156fa9b-9bdc-4f02-8c46-c751720fc5cb');\n",
              "          const dataTable =\n",
              "            await google.colab.kernel.invokeFunction('convertToInteractive',\n",
              "                                                     [key], {});\n",
              "          if (!dataTable) return;\n",
              "\n",
              "          const docLinkHtml = 'Like what you see? Visit the ' +\n",
              "            '<a target=\"_blank\" href=https://colab.research.google.com/notebooks/data_table.ipynb>data table notebook</a>'\n",
              "            + ' to learn more about interactive tables.';\n",
              "          element.innerHTML = '';\n",
              "          dataTable['output_type'] = 'display_data';\n",
              "          await google.colab.output.renderOutput(dataTable, element);\n",
              "          const docLink = document.createElement('div');\n",
              "          docLink.innerHTML = docLinkHtml;\n",
              "          element.appendChild(docLink);\n",
              "        }\n",
              "      </script>\n",
              "    </div>\n",
              "  </div>\n",
              "  "
            ]
          },
          "metadata": {},
          "execution_count": 11
        }
      ]
    },
    {
      "cell_type": "code",
      "source": [
        "plt.figure(figsize=(12, 5))\n",
        "plt.subplot(1, 2, 1)\n",
        "plt.plot(range(len(df_model10)), df_model10.loss, label=\"train\")\n",
        "plt.plot(range(len(df_model10)), df_model10.val_loss, label=\"test\")\n",
        "plt.title(\"Loss\")\n",
        "plt.legend()\n",
        "plt.subplot(1, 2, 2)\n",
        "plt.plot(range(len(df_model10)), df_model10.accuracy, label=\"train\")\n",
        "plt.plot(range(len(df_model10)), df_model10.val_accuracy, label=\"test\")\n",
        "plt.title(\"accuracy\")\n",
        "plt.legend()\n",
        "plt.show()"
      ],
      "metadata": {
        "colab": {
          "base_uri": "https://localhost:8080/",
          "height": 336
        },
        "id": "ON0NG8fij1jw",
        "outputId": "af877934-7a7f-4928-a84c-66323adcf4a8"
      },
      "execution_count": 12,
      "outputs": [
        {
          "output_type": "display_data",
          "data": {
            "text/plain": [
              "<Figure size 864x360 with 2 Axes>"
            ],
            "image/png": "[encoded data removed]"
          },
          "metadata": {
            "needs_background": "light"
          }
        }
      ]
    },
    {
      "cell_type": "markdown",
      "source": [
        "# Model 10 bis less freezing layers, "
      ],
      "metadata": {
        "id": "FG0rk45cx-4T"
      }
    },
    {
      "cell_type": "code",
      "source": [
        "base_model = efn.EfficientNetB7(\n",
        "    input_shape = (224, 224, 3), \n",
        "    include_top = False, \n",
        "    weights = 'imagenet'\n",
        ")\n",
        "\n",
        "for layer in base_model.layers[:-5]:\n",
        "    layer.trainable = False\n",
        "\n",
        "x = base_model.output\n",
        "x = Flatten()(x)\n",
        "x = Dense(512, activation=\"relu\")(x)\n",
        "x = Dropout(0.5)(x)\n",
        "x = Dense(6, activation=\"softmax\")(x)\n",
        "\n",
        "model_10B = Model(inputs=base_model.input, outputs=x)\n",
        "\n",
        "# Compile the model\n",
        "model_10B.compile(\n",
        "    loss=tf.keras.losses.CategoricalCrossentropy(),\n",
        "    # optimizer=tf.keras.optimizers.Adam(learning_rate=5e-4),\n",
        "    optimizer=tf.keras.optimizers.RMSprop(learning_rate=2e-4),\n",
        "    metrics=[\"accuracy\"]\n",
        ")\n",
        "\n",
        "# Fitting the model\n",
        "STEP_SIZE_TRAIN = efn_train_generator.n // efn_train_generator.batch_size\n",
        "STEP_SIZE_VALID = efn_valid_generator.n // efn_valid_generator.batch_size\n",
        "STEP_SIZE_SET = test_generator.n // test_generator.batch_size \n",
        "\n",
        "history_10B = model_10B.fit(\n",
        "    efn_train_generator,\n",
        "    epochs=10,\n",
        "    steps_per_epoch=STEP_SIZE_TRAIN,\n",
        "    validation_data=efn_valid_generator,\n",
        "    validation_steps=STEP_SIZE_VALID,\n",
        "    verbose=1,\n",
        ")"
      ],
      "metadata": {
        "colab": {
          "base_uri": "https://localhost:8080/"
        },
        "id": "DmGgyrpix-gr",
        "outputId": "2c6b65f8-517a-475c-a76a-3b640ceab75c"
      },
      "execution_count": 24,
      "outputs": [
        {
          "output_type": "stream",
          "name": "stdout",
          "text": [
            "Epoch 1/10\n",
            "130/130 [==============================] - 154s 1s/step - loss: 2.5844 - accuracy: 0.7366 - val_loss: 0.4515 - val_accuracy: 0.8961\n",
            "Epoch 2/10\n",
            "130/130 [==============================] - 131s 1s/step - loss: 1.1913 - accuracy: 0.8250 - val_loss: 0.2712 - val_accuracy: 0.9179\n",
            "Epoch 3/10\n",
            "130/130 [==============================] - 130s 1s/step - loss: 0.6429 - accuracy: 0.8540 - val_loss: 0.2992 - val_accuracy: 0.9092\n",
            "Epoch 4/10\n",
            "130/130 [==============================] - 130s 999ms/step - loss: 0.5962 - accuracy: 0.8562 - val_loss: 0.2840 - val_accuracy: 0.9281\n",
            "Epoch 5/10\n",
            "130/130 [==============================] - 131s 1s/step - loss: 0.4998 - accuracy: 0.8789 - val_loss: 0.2830 - val_accuracy: 0.9230\n",
            "Epoch 6/10\n",
            "130/130 [==============================] - 130s 1s/step - loss: 0.4771 - accuracy: 0.8751 - val_loss: 0.2692 - val_accuracy: 0.9281\n",
            "Epoch 7/10\n",
            "130/130 [==============================] - 131s 1s/step - loss: 0.4320 - accuracy: 0.8794 - val_loss: 0.3125 - val_accuracy: 0.9222\n",
            "Epoch 8/10\n",
            "130/130 [==============================] - 130s 996ms/step - loss: 0.3964 - accuracy: 0.8896 - val_loss: 0.2684 - val_accuracy: 0.9390\n",
            "Epoch 9/10\n",
            "130/130 [==============================] - 132s 1s/step - loss: 0.4499 - accuracy: 0.8862 - val_loss: 0.2614 - val_accuracy: 0.9382\n",
            "Epoch 10/10\n",
            "130/130 [==============================] - 132s 1s/step - loss: 0.3773 - accuracy: 0.8932 - val_loss: 0.2170 - val_accuracy: 0.9360\n"
          ]
        }
      ]
    },
    {
      "cell_type": "code",
      "source": [
        "max_val_accuracy = max(history_10B.history[\"val_accuracy\"])\n",
        "print(\"Max validation accuracy is : {:.4f}\".format(max_val_accuracy))"
      ],
      "metadata": {
        "colab": {
          "base_uri": "https://localhost:8080/"
        },
        "id": "RyWWG2gDx-A0",
        "outputId": "3387586f-695e-499f-d44e-0bf87fb0e4b6"
      },
      "execution_count": 25,
      "outputs": [
        {
          "output_type": "stream",
          "name": "stdout",
          "text": [
            "Max validation accuracy is : 0.9390\n"
          ]
        }
      ]
    },
    {
      "cell_type": "code",
      "source": [
        "score = model_10B.evaluate(efn_valid_generator, verbose=0)\n",
        "print(f\"Test loss  :  {score[0]:5.4f}\")\n",
        "print(f\"Test accuracy  :  {100*score[1]:5.4f}%\")"
      ],
      "metadata": {
        "colab": {
          "base_uri": "https://localhost:8080/"
        },
        "id": "ZDzpTQXvx999",
        "outputId": "072dd9c9-7e3c-49e8-9766-bf9349949ff7"
      },
      "execution_count": 26,
      "outputs": [
        {
          "output_type": "stream",
          "name": "stdout",
          "text": [
            "Test loss  :  0.2990\n",
            "Test accuracy  :  93.5925%\n"
          ]
        }
      ]
    },
    {
      "cell_type": "code",
      "source": [
        "df_model10B = pd.DataFrame(history_10B.history)\n",
        "df_model10B.head()"
      ],
      "metadata": {
        "colab": {
          "base_uri": "https://localhost:8080/",
          "height": 206
        },
        "id": "4Cd902cNx97Y",
        "outputId": "248f0a94-c32d-45e1-a91a-7e6a29b7dfff"
      },
      "execution_count": 27,
      "outputs": [
        {
          "output_type": "execute_result",
          "data": {
            "text/plain": [
              "       loss  accuracy  val_loss  val_accuracy\n",
              "0  2.584436  0.736588  0.451460      0.896076\n",
              "1  1.191265  0.825036  0.271169      0.917878\n",
              "2  0.642909  0.854036  0.299195      0.909157\n",
              "3  0.596204  0.856211  0.283978      0.928052\n",
              "4  0.499766  0.878927  0.282966      0.922965"
            ],
            "text/html": [
              "\n",
              "  <div id=\"df-1aaf3af5-5c17-4604-87ef-d7311a5861e2\">\n",
              "    <div class=\"colab-df-container\">\n",
              "      <div>\n",
              "<style scoped>\n",
              "    .dataframe tbody tr th:only-of-type {\n",
              "        vertical-align: middle;\n",
              "    }\n",
              "\n",
              "    .dataframe tbody tr th {\n",
              "        vertical-align: top;\n",
              "    }\n",
              "\n",
              "    .dataframe thead th {\n",
              "        text-align: right;\n",
              "    }\n",
              "</style>\n",
              "<table border=\"1\" class=\"dataframe\">\n",
              "  <thead>\n",
              "    <tr style=\"text-align: right;\">\n",
              "      <th></th>\n",
              "      <th>loss</th>\n",
              "      <th>accuracy</th>\n",
              "      <th>val_loss</th>\n",
              "      <th>val_accuracy</th>\n",
              "    </tr>\n",
              "  </thead>\n",
              "  <tbody>\n",
              "    <tr>\n",
              "      <th>0</th>\n",
              "      <td>2.584436</td>\n",
              "      <td>0.736588</td>\n",
              "      <td>0.451460</td>\n",
              "      <td>0.896076</td>\n",
              "    </tr>\n",
              "    <tr>\n",
              "      <th>1</th>\n",
              "      <td>1.191265</td>\n",
              "      <td>0.825036</td>\n",
              "      <td>0.271169</td>\n",
              "      <td>0.917878</td>\n",
              "    </tr>\n",
              "    <tr>\n",
              "      <th>2</th>\n",
              "      <td>0.642909</td>\n",
              "      <td>0.854036</td>\n",
              "      <td>0.299195</td>\n",
              "      <td>0.909157</td>\n",
              "    </tr>\n",
              "    <tr>\n",
              "      <th>3</th>\n",
              "      <td>0.596204</td>\n",
              "      <td>0.856211</td>\n",
              "      <td>0.283978</td>\n",
              "      <td>0.928052</td>\n",
              "    </tr>\n",
              "    <tr>\n",
              "      <th>4</th>\n",
              "      <td>0.499766</td>\n",
              "      <td>0.878927</td>\n",
              "      <td>0.282966</td>\n",
              "      <td>0.922965</td>\n",
              "    </tr>\n",
              "  </tbody>\n",
              "</table>\n",
              "</div>\n",
              "      <button class=\"colab-df-convert\" onclick=\"convertToInteractive('df-1aaf3af5-5c17-4604-87ef-d7311a5861e2')\"\n",
              "              title=\"Convert this dataframe to an interactive table.\"\n",
              "              style=\"display:none;\">\n",
              "        \n",
              "  <svg xmlns=\"http://www.w3.org/2000/svg\" height=\"24px\"viewBox=\"0 0 24 24\"\n",
              "       width=\"24px\">\n",
              "    <path d=\"M0 0h24v24H0V0z\" fill=\"none\"/>\n",
              "    <path d=\"M18.56 5.44l.94 2.06.94-2.06 2.06-.94-2.06-.94-.94-2.06-.94 2.06-2.06.94zm-11 1L8.5 8.5l.94-2.06 2.06-.94-2.06-.94L8.5 2.5l-.94 2.06-2.06.94zm10 10l.94 2.06.94-2.06 2.06-.94-2.06-.94-.94-2.06-.94 2.06-2.06.94z\"/><path d=\"M17.41 7.96l-1.37-1.37c-.4-.4-.92-.59-1.43-.59-.52 0-1.04.2-1.43.59L10.3 9.45l-7.72 7.72c-.78.78-.78 2.05 0 2.83L4 21.41c.39.39.9.59 1.41.59.51 0 1.02-.2 1.41-.59l7.78-7.78 2.81-2.81c.8-.78.8-2.07 0-2.86zM5.41 20L4 18.59l7.72-7.72 1.47 1.35L5.41 20z\"/>\n",
              "  </svg>\n",
              "      </button>\n",
              "      \n",
              "  <style>\n",
              "    .colab-df-container {\n",
              "      display:flex;\n",
              "      flex-wrap:wrap;\n",
              "      gap: 12px;\n",
              "    }\n",
              "\n",
              "    .colab-df-convert {\n",
              "      background-color: #E8F0FE;\n",
              "      border: none;\n",
              "      border-radius: 50%;\n",
              "      cursor: pointer;\n",
              "      display: none;\n",
              "      fill: #1967D2;\n",
              "      height: 32px;\n",
              "      padding: 0 0 0 0;\n",
              "      width: 32px;\n",
              "    }\n",
              "\n",
              "    .colab-df-convert:hover {\n",
              "      background-color: #E2EBFA;\n",
              "      box-shadow: 0px 1px 2px rgba(60, 64, 67, 0.3), 0px 1px 3px 1px rgba(60, 64, 67, 0.15);\n",
              "      fill: #174EA6;\n",
              "    }\n",
              "\n",
              "    [theme=dark] .colab-df-convert {\n",
              "      background-color: #3B4455;\n",
              "      fill: #D2E3FC;\n",
              "    }\n",
              "\n",
              "    [theme=dark] .colab-df-convert:hover {\n",
              "      background-color: #434B5C;\n",
              "      box-shadow: 0px 1px 3px 1px rgba(0, 0, 0, 0.15);\n",
              "      filter: drop-shadow(0px 1px 2px rgba(0, 0, 0, 0.3));\n",
              "      fill: #FFFFFF;\n",
              "    }\n",
              "  </style>\n",
              "\n",
              "      <script>\n",
              "        const buttonEl =\n",
              "          document.querySelector('#df-1aaf3af5-5c17-4604-87ef-d7311a5861e2 button.colab-df-convert');\n",
              "        buttonEl.style.display =\n",
              "          google.colab.kernel.accessAllowed ? 'block' : 'none';\n",
              "\n",
              "        async function convertToInteractive(key) {\n",
              "          const element = document.querySelector('#df-1aaf3af5-5c17-4604-87ef-d7311a5861e2');\n",
              "          const dataTable =\n",
              "            await google.colab.kernel.invokeFunction('convertToInteractive',\n",
              "                                                     [key], {});\n",
              "          if (!dataTable) return;\n",
              "\n",
              "          const docLinkHtml = 'Like what you see? Visit the ' +\n",
              "            '<a target=\"_blank\" href=https://colab.research.google.com/notebooks/data_table.ipynb>data table notebook</a>'\n",
              "            + ' to learn more about interactive tables.';\n",
              "          element.innerHTML = '';\n",
              "          dataTable['output_type'] = 'display_data';\n",
              "          await google.colab.output.renderOutput(dataTable, element);\n",
              "          const docLink = document.createElement('div');\n",
              "          docLink.innerHTML = docLinkHtml;\n",
              "          element.appendChild(docLink);\n",
              "        }\n",
              "      </script>\n",
              "    </div>\n",
              "  </div>\n",
              "  "
            ]
          },
          "metadata": {},
          "execution_count": 27
        }
      ]
    },
    {
      "cell_type": "code",
      "source": [
        "plt.figure(figsize=(12, 5))\n",
        "plt.subplot(1, 2, 1)\n",
        "plt.plot(range(len(df_model10B)), df_model10B.loss, label=\"train\")\n",
        "plt.plot(range(len(df_model10B)), df_model10B.val_loss, label=\"test\")\n",
        "plt.title(\"Loss\")\n",
        "plt.legend()\n",
        "plt.subplot(1, 2, 2)\n",
        "plt.plot(range(len(df_model10B)), df_model10B.accuracy, label=\"train\")\n",
        "plt.plot(range(len(df_model10B)), df_model10B.val_accuracy, label=\"test\")\n",
        "plt.title(\"accuracy\")\n",
        "plt.legend()\n",
        "plt.show()"
      ],
      "metadata": {
        "colab": {
          "base_uri": "https://localhost:8080/",
          "height": 336
        },
        "id": "ZMMszdPux939",
        "outputId": "8352aa0b-4f5e-49bb-acda-2a3f6831e4a9"
      },
      "execution_count": 28,
      "outputs": [
        {
          "output_type": "display_data",
          "data": {
            "text/plain": [
              "<Figure size 864x360 with 2 Axes>"
            ],
            "image/png": "[encoded data removed]"
          },
          "metadata": {
            "needs_background": "light"
          }
        }
      ]
    },
    {
      "cell_type": "markdown",
      "source": [
        "---\n",
        "# Model 10B customized (try)"
      ],
      "metadata": {
        "id": "DmtI-yqj5UPc"
      }
    },
    {
      "cell_type": "code",
      "source": [
        "base_model = efn.EfficientNetB7(\n",
        "    input_shape = (224, 224, 3), \n",
        "    include_top = False, \n",
        "    weights = 'imagenet'\n",
        ")\n",
        "\n",
        "for layer in base_model.layers[:-5]:\n",
        "    layer.trainable = False\n",
        "\n",
        "x = base_model.output\n",
        "x = Flatten()(x)\n",
        "x = Dense(512, activation=\"relu\")(x)\n",
        "x = Dropout(0.5)(x)\n",
        "x = Dense(6, activation=\"softmax\")(x)\n",
        "\n",
        "model_11 = Model(inputs=base_model.input, outputs=x)\n",
        "\n",
        "\n",
        "# Compile the model\n",
        "model_11.compile(\n",
        "    loss=tf.keras.losses.CategoricalCrossentropy(),\n",
        "    # optimizer=tf.keras.optimizers.Adam(),\n",
        "    optimizer=tf.keras.optimizers.RMSprop(2e-4),\n",
        "    metrics=[\"accuracy\"]\n",
        ")\n",
        "\n",
        "# Fitting the model\n",
        "STEP_SIZE_TRAIN = efn_train_generator.n // efn_train_generator.batch_size\n",
        "STEP_SIZE_VALID = efn_valid_generator.n // efn_valid_generator.batch_size\n",
        "STEP_SIZE_SET = test_generator.n // test_generator.batch_size \n",
        "\n",
        "history_11 = model_11.fit(\n",
        "    efn_train_generator,\n",
        "    epochs=20,\n",
        "    steps_per_epoch=STEP_SIZE_TRAIN,\n",
        "    validation_data=efn_valid_generator,\n",
        "    validation_steps=STEP_SIZE_VALID,\n",
        "    verbose=1,\n",
        ")"
      ],
      "metadata": {
        "colab": {
          "base_uri": "https://localhost:8080/"
        },
        "id": "aZodVsXJx91C",
        "outputId": "3a3b6036-2d72-41c6-8d55-75b7272e7559"
      },
      "execution_count": 43,
      "outputs": [
        {
          "output_type": "stream",
          "name": "stdout",
          "text": [
            "Epoch 1/20\n",
            "130/130 [==============================] - 153s 1s/step - loss: 2.7497 - accuracy: 0.7533 - val_loss: 0.5050 - val_accuracy: 0.8939\n",
            "Epoch 2/20\n",
            "130/130 [==============================] - 130s 1s/step - loss: 1.1802 - accuracy: 0.8277 - val_loss: 0.3400 - val_accuracy: 0.9012\n",
            "Epoch 3/20\n",
            "130/130 [==============================] - 130s 1s/step - loss: 0.8679 - accuracy: 0.8490 - val_loss: 0.2951 - val_accuracy: 0.9186\n",
            "Epoch 4/20\n",
            "130/130 [==============================] - 131s 1s/step - loss: 0.6209 - accuracy: 0.8555 - val_loss: 0.3213 - val_accuracy: 0.8990\n",
            "Epoch 5/20\n",
            "130/130 [==============================] - 130s 996ms/step - loss: 0.4946 - accuracy: 0.8693 - val_loss: 0.2915 - val_accuracy: 0.9302\n",
            "Epoch 6/20\n",
            "130/130 [==============================] - 130s 1s/step - loss: 0.4846 - accuracy: 0.8806 - val_loss: 0.2859 - val_accuracy: 0.9288\n",
            "Epoch 7/20\n",
            "130/130 [==============================] - 132s 1s/step - loss: 0.4351 - accuracy: 0.8775 - val_loss: 0.2867 - val_accuracy: 0.9193\n",
            "Epoch 8/20\n",
            "130/130 [==============================] - 130s 999ms/step - loss: 0.4430 - accuracy: 0.8886 - val_loss: 0.2277 - val_accuracy: 0.9397\n",
            "Epoch 9/20\n",
            "130/130 [==============================] - 130s 1000ms/step - loss: 0.4247 - accuracy: 0.8900 - val_loss: 0.3117 - val_accuracy: 0.9310\n",
            "Epoch 10/20\n",
            "130/130 [==============================] - 130s 997ms/step - loss: 0.4107 - accuracy: 0.8946 - val_loss: 0.2806 - val_accuracy: 0.9251\n",
            "Epoch 11/20\n",
            "130/130 [==============================] - 130s 1s/step - loss: 0.4095 - accuracy: 0.8884 - val_loss: 0.2443 - val_accuracy: 0.9368\n",
            "Epoch 12/20\n",
            "130/130 [==============================] - 130s 1s/step - loss: 0.3682 - accuracy: 0.9004 - val_loss: 0.3639 - val_accuracy: 0.8997\n",
            "Epoch 13/20\n",
            "130/130 [==============================] - 130s 997ms/step - loss: 0.3647 - accuracy: 0.8978 - val_loss: 0.3222 - val_accuracy: 0.9302\n",
            "Epoch 14/20\n",
            "130/130 [==============================] - 131s 1s/step - loss: 0.3470 - accuracy: 0.9036 - val_loss: 0.2440 - val_accuracy: 0.9419\n",
            "Epoch 15/20\n",
            "130/130 [==============================] - 130s 998ms/step - loss: 0.3430 - accuracy: 0.9065 - val_loss: 0.2587 - val_accuracy: 0.9382\n",
            "Epoch 16/20\n",
            "130/130 [==============================] - 130s 999ms/step - loss: 0.3667 - accuracy: 0.9113 - val_loss: 0.2232 - val_accuracy: 0.9426\n",
            "Epoch 17/20\n",
            "130/130 [==============================] - 129s 993ms/step - loss: 0.3361 - accuracy: 0.9099 - val_loss: 0.2479 - val_accuracy: 0.9324\n",
            "Epoch 18/20\n",
            "130/130 [==============================] - 130s 999ms/step - loss: 0.3429 - accuracy: 0.9079 - val_loss: 0.2195 - val_accuracy: 0.9375\n",
            "Epoch 19/20\n",
            "130/130 [==============================] - 129s 994ms/step - loss: 0.3501 - accuracy: 0.9123 - val_loss: 0.1800 - val_accuracy: 0.9382\n",
            "Epoch 20/20\n",
            "130/130 [==============================] - 129s 995ms/step - loss: 0.3267 - accuracy: 0.9116 - val_loss: 0.3123 - val_accuracy: 0.9382\n"
          ]
        }
      ]
    },
    {
      "cell_type": "code",
      "source": [
        "max_val_accuracy = max(history_11.history[\"val_accuracy\"])\n",
        "print(\"Max validation accuracy is : {:.4f}\".format(max_val_accuracy))"
      ],
      "metadata": {
        "colab": {
          "base_uri": "https://localhost:8080/"
        },
        "id": "TJJ4iKesx9gq",
        "outputId": "abf28b78-60ce-4463-96e8-eeda8a3afc5c"
      },
      "execution_count": 44,
      "outputs": [
        {
          "output_type": "stream",
          "name": "stdout",
          "text": [
            "Max validation accuracy is : 0.9426\n"
          ]
        }
      ]
    },
    {
      "cell_type": "code",
      "source": [
        "score = model_11.evaluate(efn_valid_generator, verbose=0)\n",
        "print(f\"Test loss  :  {score[0]:5.4f}\")\n",
        "print(f\"Test accuracy  :  {100*score[1]:5.4f}%\")"
      ],
      "metadata": {
        "colab": {
          "base_uri": "https://localhost:8080/"
        },
        "id": "O6IHwSCJ5wSf",
        "outputId": "6f9edbc8-a0a4-406f-8254-b176ba9557a9"
      },
      "execution_count": 45,
      "outputs": [
        {
          "output_type": "stream",
          "name": "stdout",
          "text": [
            "Test loss  :  0.2830\n",
            "Test accuracy  :  93.9525%\n"
          ]
        }
      ]
    },
    {
      "cell_type": "code",
      "source": [
        "df_model11 = pd.DataFrame(history_11.history)\n",
        "df_model11.head()"
      ],
      "metadata": {
        "colab": {
          "base_uri": "https://localhost:8080/",
          "height": 206
        },
        "id": "wewGoi3K5web",
        "outputId": "5a8f811b-d1c2-40e2-b28d-171ac956fe31"
      },
      "execution_count": 46,
      "outputs": [
        {
          "output_type": "execute_result",
          "data": {
            "text/plain": [
              "       loss  accuracy  val_loss  val_accuracy\n",
              "0  2.749734  0.753262  0.505021      0.893895\n",
              "1  1.180160  0.827695  0.340039      0.901163\n",
              "2  0.867949  0.848961  0.295131      0.918605\n",
              "3  0.620930  0.855486  0.321325      0.898983\n",
              "4  0.494573  0.869260  0.291517      0.930233"
            ],
            "text/html": [
              "\n",
              "  <div id=\"df-765d3c99-e6f4-4fd0-be73-3c23f0c01cae\">\n",
              "    <div class=\"colab-df-container\">\n",
              "      <div>\n",
              "<style scoped>\n",
              "    .dataframe tbody tr th:only-of-type {\n",
              "        vertical-align: middle;\n",
              "    }\n",
              "\n",
              "    .dataframe tbody tr th {\n",
              "        vertical-align: top;\n",
              "    }\n",
              "\n",
              "    .dataframe thead th {\n",
              "        text-align: right;\n",
              "    }\n",
              "</style>\n",
              "<table border=\"1\" class=\"dataframe\">\n",
              "  <thead>\n",
              "    <tr style=\"text-align: right;\">\n",
              "      <th></th>\n",
              "      <th>loss</th>\n",
              "      <th>accuracy</th>\n",
              "      <th>val_loss</th>\n",
              "      <th>val_accuracy</th>\n",
              "    </tr>\n",
              "  </thead>\n",
              "  <tbody>\n",
              "    <tr>\n",
              "      <th>0</th>\n",
              "      <td>2.749734</td>\n",
              "      <td>0.753262</td>\n",
              "      <td>0.505021</td>\n",
              "      <td>0.893895</td>\n",
              "    </tr>\n",
              "    <tr>\n",
              "      <th>1</th>\n",
              "      <td>1.180160</td>\n",
              "      <td>0.827695</td>\n",
              "      <td>0.340039</td>\n",
              "      <td>0.901163</td>\n",
              "    </tr>\n",
              "    <tr>\n",
              "      <th>2</th>\n",
              "      <td>0.867949</td>\n",
              "      <td>0.848961</td>\n",
              "      <td>0.295131</td>\n",
              "      <td>0.918605</td>\n",
              "    </tr>\n",
              "    <tr>\n",
              "      <th>3</th>\n",
              "      <td>0.620930</td>\n",
              "      <td>0.855486</td>\n",
              "      <td>0.321325</td>\n",
              "      <td>0.898983</td>\n",
              "    </tr>\n",
              "    <tr>\n",
              "      <th>4</th>\n",
              "      <td>0.494573</td>\n",
              "      <td>0.869260</td>\n",
              "      <td>0.291517</td>\n",
              "      <td>0.930233</td>\n",
              "    </tr>\n",
              "  </tbody>\n",
              "</table>\n",
              "</div>\n",
              "      <button class=\"colab-df-convert\" onclick=\"convertToInteractive('df-765d3c99-e6f4-4fd0-be73-3c23f0c01cae')\"\n",
              "              title=\"Convert this dataframe to an interactive table.\"\n",
              "              style=\"display:none;\">\n",
              "        \n",
              "  <svg xmlns=\"http://www.w3.org/2000/svg\" height=\"24px\"viewBox=\"0 0 24 24\"\n",
              "       width=\"24px\">\n",
              "    <path d=\"M0 0h24v24H0V0z\" fill=\"none\"/>\n",
              "    <path d=\"M18.56 5.44l.94 2.06.94-2.06 2.06-.94-2.06-.94-.94-2.06-.94 2.06-2.06.94zm-11 1L8.5 8.5l.94-2.06 2.06-.94-2.06-.94L8.5 2.5l-.94 2.06-2.06.94zm10 10l.94 2.06.94-2.06 2.06-.94-2.06-.94-.94-2.06-.94 2.06-2.06.94z\"/><path d=\"M17.41 7.96l-1.37-1.37c-.4-.4-.92-.59-1.43-.59-.52 0-1.04.2-1.43.59L10.3 9.45l-7.72 7.72c-.78.78-.78 2.05 0 2.83L4 21.41c.39.39.9.59 1.41.59.51 0 1.02-.2 1.41-.59l7.78-7.78 2.81-2.81c.8-.78.8-2.07 0-2.86zM5.41 20L4 18.59l7.72-7.72 1.47 1.35L5.41 20z\"/>\n",
              "  </svg>\n",
              "      </button>\n",
              "      \n",
              "  <style>\n",
              "    .colab-df-container {\n",
              "      display:flex;\n",
              "      flex-wrap:wrap;\n",
              "      gap: 12px;\n",
              "    }\n",
              "\n",
              "    .colab-df-convert {\n",
              "      background-color: #E8F0FE;\n",
              "      border: none;\n",
              "      border-radius: 50%;\n",
              "      cursor: pointer;\n",
              "      display: none;\n",
              "      fill: #1967D2;\n",
              "      height: 32px;\n",
              "      padding: 0 0 0 0;\n",
              "      width: 32px;\n",
              "    }\n",
              "\n",
              "    .colab-df-convert:hover {\n",
              "      background-color: #E2EBFA;\n",
              "      box-shadow: 0px 1px 2px rgba(60, 64, 67, 0.3), 0px 1px 3px 1px rgba(60, 64, 67, 0.15);\n",
              "      fill: #174EA6;\n",
              "    }\n",
              "\n",
              "    [theme=dark] .colab-df-convert {\n",
              "      background-color: #3B4455;\n",
              "      fill: #D2E3FC;\n",
              "    }\n",
              "\n",
              "    [theme=dark] .colab-df-convert:hover {\n",
              "      background-color: #434B5C;\n",
              "      box-shadow: 0px 1px 3px 1px rgba(0, 0, 0, 0.15);\n",
              "      filter: drop-shadow(0px 1px 2px rgba(0, 0, 0, 0.3));\n",
              "      fill: #FFFFFF;\n",
              "    }\n",
              "  </style>\n",
              "\n",
              "      <script>\n",
              "        const buttonEl =\n",
              "          document.querySelector('#df-765d3c99-e6f4-4fd0-be73-3c23f0c01cae button.colab-df-convert');\n",
              "        buttonEl.style.display =\n",
              "          google.colab.kernel.accessAllowed ? 'block' : 'none';\n",
              "\n",
              "        async function convertToInteractive(key) {\n",
              "          const element = document.querySelector('#df-765d3c99-e6f4-4fd0-be73-3c23f0c01cae');\n",
              "          const dataTable =\n",
              "            await google.colab.kernel.invokeFunction('convertToInteractive',\n",
              "                                                     [key], {});\n",
              "          if (!dataTable) return;\n",
              "\n",
              "          const docLinkHtml = 'Like what you see? Visit the ' +\n",
              "            '<a target=\"_blank\" href=https://colab.research.google.com/notebooks/data_table.ipynb>data table notebook</a>'\n",
              "            + ' to learn more about interactive tables.';\n",
              "          element.innerHTML = '';\n",
              "          dataTable['output_type'] = 'display_data';\n",
              "          await google.colab.output.renderOutput(dataTable, element);\n",
              "          const docLink = document.createElement('div');\n",
              "          docLink.innerHTML = docLinkHtml;\n",
              "          element.appendChild(docLink);\n",
              "        }\n",
              "      </script>\n",
              "    </div>\n",
              "  </div>\n",
              "  "
            ]
          },
          "metadata": {},
          "execution_count": 46
        }
      ]
    },
    {
      "cell_type": "code",
      "source": [
        "plt.figure(figsize=(12, 5))\n",
        "plt.subplot(1, 2, 1)\n",
        "plt.plot(range(len(df_model11)), df_model11.loss, label=\"train\")\n",
        "plt.plot(range(len(df_model11)), df_model11.val_loss, label=\"test\")\n",
        "plt.title(\"Loss\")\n",
        "plt.legend()\n",
        "plt.subplot(1, 2, 2)\n",
        "plt.plot(range(len(df_model11)), df_model11.accuracy, label=\"train\")\n",
        "plt.plot(range(len(df_model11)), df_model11.val_accuracy, label=\"test\")\n",
        "plt.title(\"accuracy\")\n",
        "plt.legend()\n",
        "plt.show()"
      ],
      "metadata": {
        "colab": {
          "base_uri": "https://localhost:8080/",
          "height": 336
        },
        "id": "u8KckbHQ5wpI",
        "outputId": "39eb99f4-22dd-413a-cdc4-accad7b38169"
      },
      "execution_count": 47,
      "outputs": [
        {
          "output_type": "display_data",
          "data": {
            "text/plain": [
              "<Figure size 864x360 with 2 Axes>"
            ],
            "image/png": "[encoded data removed]"
          },
          "metadata": {
            "needs_background": "light"
          }
        }
      ]
    },
    {
      "cell_type": "code",
      "source": [
        "# Predict the output\n",
        "test_generator.reset()\n",
        "\n",
        "y_softmax = model_11.predict(\n",
        "    test_generator,\n",
        "    steps=STEP_SIZE_SET,\n",
        "    verbose=1,\n",
        ")"
      ],
      "metadata": {
        "colab": {
          "base_uri": "https://localhost:8080/"
        },
        "id": "QQ9VMXPD5wz9",
        "outputId": "7b2dc15d-fd7f-4bc8-a658-29370c8bc9fe"
      },
      "execution_count": 48,
      "outputs": [
        {
          "output_type": "stream",
          "name": "stdout",
          "text": [
            "119/119 [==============================] - 63s 489ms/step\n"
          ]
        }
      ]
    },
    {
      "cell_type": "code",
      "source": [
        "y_preds = np.argmax(y_softmax, axis=-1)"
      ],
      "metadata": {
        "id": "y85B3V6V5w--"
      },
      "execution_count": 49,
      "outputs": []
    },
    {
      "cell_type": "code",
      "source": [
        "labels = (efn_train_generator.class_indices)\n",
        "labels = dict((v,k) for k,v in labels.items())\n",
        "predictions = [labels[k] for k in y_preds]"
      ],
      "metadata": {
        "id": "_04tnqoS5xJt"
      },
      "execution_count": 50,
      "outputs": []
    },
    {
      "cell_type": "code",
      "source": [
        "filenames = test_generator.filenames\n",
        "r = pd.DataFrame({\"Filename\":filenames,\n",
        "                      \"label\":predictions})\n",
        "\n",
        "submit_df['label'] = r['label']\n",
        "submit_df.to_csv(\"results_2.csv\",index=False)"
      ],
      "metadata": {
        "id": "B-TLoz5p5xUF"
      },
      "execution_count": 51,
      "outputs": []
    },
    {
      "cell_type": "code",
      "source": [
        "model_11.save(\"model_11.h5\")"
      ],
      "metadata": {
        "id": "wIqS93bY5xek"
      },
      "execution_count": 52,
      "outputs": []
    },
    {
      "cell_type": "markdown",
      "source": [
        "---\n",
        "# epochs = 50"
      ],
      "metadata": {
        "id": "Lppy74LPnzZG"
      }
    },
    {
      "cell_type": "code",
      "source": [
        "base_model = efn.EfficientNetB7(\n",
        "    input_shape = (224, 224, 3), \n",
        "    include_top = False, \n",
        "    weights = 'imagenet'\n",
        ")\n",
        "\n",
        "for layer in base_model.layers[:-5]:\n",
        "    layer.trainable = False\n",
        "\n",
        "x = base_model.output\n",
        "x = Flatten()(x)\n",
        "x = Dense(512, activation=\"relu\")(x)\n",
        "x = Dropout(0.5)(x)\n",
        "x = Dense(6, activation=\"softmax\")(x)\n",
        "\n",
        "model_12 = Model(inputs=base_model.input, outputs=x)\n",
        "\n",
        "\n",
        "# Compile the model\n",
        "model_12.compile(\n",
        "    loss=tf.keras.losses.CategoricalCrossentropy(),\n",
        "    # optimizer=tf.keras.optimizers.Adam(),\n",
        "    optimizer=tf.keras.optimizers.RMSprop(2e-4),\n",
        "    metrics=[\"accuracy\"]\n",
        ")\n",
        "\n",
        "# Fitting the model\n",
        "STEP_SIZE_TRAIN = efn_train_generator.n // efn_train_generator.batch_size\n",
        "STEP_SIZE_VALID = efn_valid_generator.n // efn_valid_generator.batch_size\n",
        "STEP_SIZE_SET = test_generator.n // test_generator.batch_size \n",
        "\n",
        "history_12 = model_12.fit(\n",
        "    efn_train_generator,\n",
        "    epochs=50,\n",
        "    steps_per_epoch=STEP_SIZE_TRAIN,\n",
        "    validation_data=efn_valid_generator,\n",
        "    validation_steps=STEP_SIZE_VALID,\n",
        "    verbose=1,\n",
        ")"
      ],
      "metadata": {
        "colab": {
          "base_uri": "https://localhost:8080/"
        },
        "id": "lGHemTKC5xo1",
        "outputId": "bd14911c-63f5-4156-cce8-979d262a4b63"
      },
      "execution_count": null,
      "outputs": [
        {
          "output_type": "stream",
          "name": "stdout",
          "text": [
            "Epoch 1/50\n",
            "130/130 [==============================] - 156s 1s/step - loss: 2.6872 - accuracy: 0.7387 - val_loss: 0.5163 - val_accuracy: 0.8903\n",
            "Epoch 2/50\n",
            "130/130 [==============================] - 129s 991ms/step - loss: 1.1509 - accuracy: 0.8308 - val_loss: 0.4067 - val_accuracy: 0.9055\n",
            "Epoch 3/50\n",
            "130/130 [==============================] - 130s 999ms/step - loss: 0.8867 - accuracy: 0.8487 - val_loss: 0.3145 - val_accuracy: 0.9142\n",
            "Epoch 4/50\n",
            "130/130 [==============================] - 129s 992ms/step - loss: 0.6018 - accuracy: 0.8606 - val_loss: 0.2803 - val_accuracy: 0.9135\n",
            "Epoch 5/50\n",
            "130/130 [==============================] - 130s 998ms/step - loss: 0.4707 - accuracy: 0.8799 - val_loss: 0.2847 - val_accuracy: 0.9288\n",
            "Epoch 6/50\n",
            "130/130 [==============================] - 129s 990ms/step - loss: 0.4805 - accuracy: 0.8765 - val_loss: 0.2520 - val_accuracy: 0.9222\n",
            "Epoch 7/50\n",
            "130/130 [==============================] - 130s 1s/step - loss: 0.4127 - accuracy: 0.8852 - val_loss: 0.2580 - val_accuracy: 0.9310\n",
            "Epoch 8/50\n",
            "130/130 [==============================] - 129s 993ms/step - loss: 0.4348 - accuracy: 0.8888 - val_loss: 0.2536 - val_accuracy: 0.9273\n",
            "Epoch 9/50\n",
            "130/130 [==============================] - 130s 997ms/step - loss: 0.4343 - accuracy: 0.8913 - val_loss: 0.2498 - val_accuracy: 0.9259\n",
            "Epoch 10/50\n",
            "130/130 [==============================] - 129s 990ms/step - loss: 0.3791 - accuracy: 0.9002 - val_loss: 0.3027 - val_accuracy: 0.9346\n",
            "Epoch 11/50\n",
            "130/130 [==============================] - 129s 994ms/step - loss: 0.4000 - accuracy: 0.8987 - val_loss: 0.2521 - val_accuracy: 0.9353\n",
            "Epoch 12/50\n",
            "130/130 [==============================] - 129s 989ms/step - loss: 0.3533 - accuracy: 0.9021 - val_loss: 0.2394 - val_accuracy: 0.9360\n",
            "Epoch 13/50\n",
            "130/130 [==============================] - 129s 996ms/step - loss: 0.3321 - accuracy: 0.9002 - val_loss: 0.2778 - val_accuracy: 0.9230\n",
            "Epoch 14/50\n",
            "130/130 [==============================] - 129s 992ms/step - loss: 0.3632 - accuracy: 0.9009 - val_loss: 0.2347 - val_accuracy: 0.9448\n",
            "Epoch 15/50\n",
            "130/130 [==============================] - 130s 996ms/step - loss: 0.3715 - accuracy: 0.9048 - val_loss: 0.2898 - val_accuracy: 0.9055\n",
            "Epoch 16/50\n",
            "130/130 [==============================] - 130s 996ms/step - loss: 0.3285 - accuracy: 0.9099 - val_loss: 0.2988 - val_accuracy: 0.9302\n",
            "Epoch 17/50\n",
            "130/130 [==============================] - 130s 1s/step - loss: 0.3322 - accuracy: 0.9094 - val_loss: 0.3261 - val_accuracy: 0.9128\n",
            "Epoch 18/50\n",
            "130/130 [==============================] - 130s 997ms/step - loss: 0.3633 - accuracy: 0.9084 - val_loss: 0.2688 - val_accuracy: 0.9390\n",
            "Epoch 19/50\n",
            "130/130 [==============================] - 130s 1000ms/step - loss: 0.2946 - accuracy: 0.9190 - val_loss: 0.3497 - val_accuracy: 0.9317\n",
            "Epoch 20/50\n",
            "130/130 [==============================] - 129s 993ms/step - loss: 0.3071 - accuracy: 0.9161 - val_loss: 0.2872 - val_accuracy: 0.9397\n",
            "Epoch 21/50\n",
            "130/130 [==============================] - 129s 992ms/step - loss: 0.3494 - accuracy: 0.9116 - val_loss: 0.2692 - val_accuracy: 0.9375\n",
            "Epoch 22/50\n",
            "130/130 [==============================] - 132s 1s/step - loss: 0.3378 - accuracy: 0.9137 - val_loss: 0.3209 - val_accuracy: 0.9375\n",
            "Epoch 23/50\n",
            "130/130 [==============================] - 129s 992ms/step - loss: 0.3163 - accuracy: 0.9089 - val_loss: 0.3887 - val_accuracy: 0.9382\n",
            "Epoch 24/50\n",
            "130/130 [==============================] - 130s 997ms/step - loss: 0.3432 - accuracy: 0.9099 - val_loss: 0.2479 - val_accuracy: 0.9390\n",
            "Epoch 25/50\n",
            "130/130 [==============================] - 130s 996ms/step - loss: 0.3652 - accuracy: 0.9125 - val_loss: 0.3131 - val_accuracy: 0.9411\n",
            "Epoch 26/50\n",
            "130/130 [==============================] - 129s 996ms/step - loss: 0.3206 - accuracy: 0.9207 - val_loss: 0.2835 - val_accuracy: 0.9426\n",
            "Epoch 27/50\n",
            "130/130 [==============================] - 129s 991ms/step - loss: 0.3185 - accuracy: 0.9132 - val_loss: 0.3928 - val_accuracy: 0.9339\n",
            "Epoch 28/50\n",
            "130/130 [==============================] - 129s 991ms/step - loss: 0.2932 - accuracy: 0.9174 - val_loss: 0.3557 - val_accuracy: 0.9251\n",
            "Epoch 29/50\n",
            "130/130 [==============================] - 129s 995ms/step - loss: 0.2746 - accuracy: 0.9174 - val_loss: 0.2398 - val_accuracy: 0.9353\n",
            "Epoch 30/50\n",
            "130/130 [==============================] - 129s 989ms/step - loss: 0.2784 - accuracy: 0.9319 - val_loss: 0.3338 - val_accuracy: 0.9237\n",
            "Epoch 31/50\n",
            " 79/130 [=================>............] - ETA: 37s - loss: 0.3396 - accuracy: 0.9186"
          ]
        }
      ]
    },
    {
      "cell_type": "code",
      "source": [
        "max_val_accuracy = max(history_12.history[\"val_accuracy\"])\n",
        "print(\"Max validation accuracy is : {:.4f}\".format(max_val_accuracy))"
      ],
      "metadata": {
        "id": "9MwWeuU5nxvG"
      },
      "execution_count": null,
      "outputs": []
    },
    {
      "cell_type": "code",
      "source": [
        "score = model_12.evaluate(efn_valid_generator, verbose=0)\n",
        "print(f\"Test loss  :  {score[0]:5.4f}\")\n",
        "print(f\"Test accuracy  :  {100*score[1]:5.4f}%\")"
      ],
      "metadata": {
        "id": "hwpgGYVfnxzB"
      },
      "execution_count": null,
      "outputs": []
    },
    {
      "cell_type": "code",
      "source": [
        "df_model12 = pd.DataFrame(history_11.history)\n",
        "df_model12.head()"
      ],
      "metadata": {
        "id": "-hqCc64jnx58"
      },
      "execution_count": null,
      "outputs": []
    },
    {
      "cell_type": "code",
      "source": [
        "plt.figure(figsize=(12, 5))\n",
        "plt.subplot(1, 2, 1)\n",
        "plt.plot(range(len(df_model12)), df_model12.loss, label=\"train\")\n",
        "plt.plot(range(len(df_model12)), df_model12.val_loss, label=\"test\")\n",
        "plt.title(\"Loss\")\n",
        "plt.legend()\n",
        "plt.subplot(1, 2, 2)\n",
        "plt.plot(range(len(df_model12)), df_model12.accuracy, label=\"train\")\n",
        "plt.plot(range(len(df_model12)), df_model12.val_accuracy, label=\"test\")\n",
        "plt.title(\"accuracy\")\n",
        "plt.legend()\n",
        "plt.show()"
      ],
      "metadata": {
        "id": "ARSwlOi5nyLh"
      },
      "execution_count": null,
      "outputs": []
    },
    {
      "cell_type": "code",
      "source": [],
      "metadata": {
        "id": "yXWcZVFSnyOw"
      },
      "execution_count": null,
      "outputs": []
    },
    {
      "cell_type": "code",
      "source": [],
      "metadata": {
        "id": "vWdFYDy3nyR5"
      },
      "execution_count": null,
      "outputs": []
    },
    {
      "cell_type": "code",
      "source": [],
      "metadata": {
        "id": "u4572T-knyVG"
      },
      "execution_count": null,
      "outputs": []
    },
    {
      "cell_type": "code",
      "source": [],
      "metadata": {
        "id": "KKLGo6tSnyYC"
      },
      "execution_count": null,
      "outputs": []
    },
    {
      "cell_type": "code",
      "source": [],
      "metadata": {
        "id": "fgaN4x0o5xyC"
      },
      "execution_count": null,
      "outputs": []
    },
    {
      "cell_type": "markdown",
      "source": [
        "---\n",
        "#ResNet"
      ],
      "metadata": {
        "id": "YR_MTigwmMUu"
      }
    },
    {
      "cell_type": "code",
      "source": [
        "datagen = ImageDataGenerator(\n",
        "    rescale = 1./255., \n",
        "    validation_split=0.25,\n",
        "    width_shift_range = 0.2, \n",
        "    height_shift_range = 0.2, \n",
        "    shear_range = 0.2, \n",
        "    zoom_range = 0.2, \n",
        "    horizontal_flip = True,\n",
        "    rotation_range=20,\n",
        ")\n",
        "\n",
        "test_datagen = ImageDataGenerator(rescale = 1.0/255.)\n",
        "\n",
        "# Import data from dataframes and directories and turn it into batches\n",
        "rn_train_generator = datagen.flow_from_dataframe(\n",
        "    dataframe=train_df,\n",
        "    directory=\"./kitchenware-classification/images/\",\n",
        "    x_col=\"Id\",\n",
        "    y_col=\"label\",\n",
        "    subset=\"training\",\n",
        "    batch_size=32,\n",
        "    seed=42,\n",
        "    shuffle=True,\n",
        "    class_mode=\"categorical\",\n",
        "    target_size=(224,224)\n",
        ")\n",
        "\n",
        "rn_valid_generator = datagen.flow_from_dataframe(\n",
        "    dataframe=train_df,\n",
        "    directory=\"./kitchenware-classification/images/\",\n",
        "    x_col=\"Id\",\n",
        "    y_col=\"label\",\n",
        "    subset=\"validation\",\n",
        "    batch_size=32,\n",
        "    seed=42,\n",
        "    shuffle=True,\n",
        "    class_mode=\"categorical\",\n",
        "    target_size=(224,224)\n",
        ")\n",
        "\n",
        "test_generator = test_datagen.flow_from_dataframe(\n",
        "    dataframe=test_df,\n",
        "    directory=\"./kitchenware-classification/images/\",\n",
        "    x_col=\"Id\",\n",
        "    y_col=None,\n",
        "    batch_size=32,\n",
        "    seed=42,\n",
        "    shuffle=False,\n",
        "    class_mode=None,\n",
        "    target_size=(224,224)\n",
        ")"
      ],
      "metadata": {
        "colab": {
          "base_uri": "https://localhost:8080/"
        },
        "id": "BGjRxNZWj1nF",
        "outputId": "1a437451-a6f6-43e4-996f-ee5cd05dc382"
      },
      "execution_count": 18,
      "outputs": [
        {
          "output_type": "stream",
          "name": "stdout",
          "text": [
            "Found 4170 validated image filenames belonging to 6 classes.\n",
            "Found 1389 validated image filenames belonging to 6 classes.\n",
            "Found 3808 validated image filenames.\n"
          ]
        }
      ]
    },
    {
      "cell_type": "code",
      "source": [
        "base_model = ResNet50(\n",
        "    input_shape = (224, 224, 3), \n",
        "    include_top = False, \n",
        "    weights = 'imagenet'\n",
        ")\n",
        "\n",
        "for layer in base_model.layers:\n",
        "    layer.trainable = False\n",
        "\n",
        "inputs = tf.keras.Input(shape=(224, 224, 3))\n",
        "x = base_model(inputs, training=False)\n",
        "x = tf.keras.layers.GlobalAveragePooling2D()(x)\n",
        "outputs = Dense(6, activation='softmax')(x)\n",
        "\n",
        "\n",
        "model_11 = Model(inputs, outputs)\n",
        "\n",
        "# Compile the model\n",
        "model_11.compile(\n",
        "    loss=tf.keras.losses.CategoricalCrossentropy(),\n",
        "    optimizer=tf.keras.optimizers.Adam(),\n",
        "    metrics=[\"accuracy\"]\n",
        ")\n",
        "\n",
        "# Fitting the model\n",
        "STEP_SIZE_TRAIN = rn_train_generator.n // rn_train_generator.batch_size\n",
        "STEP_SIZE_VALID = rn_valid_generator.n // rn_valid_generator.batch_size\n",
        "STEP_SIZE_SET = test_generator.n // test_generator.batch_size \n",
        "\n",
        "history_11 = model_11.fit(\n",
        "    rn_train_generator,\n",
        "    epochs=10,\n",
        "    steps_per_epoch=STEP_SIZE_TRAIN,\n",
        "    validation_data=rn_valid_generator,\n",
        "    validation_steps=STEP_SIZE_VALID,\n",
        "    verbose=1,\n",
        ")"
      ],
      "metadata": {
        "colab": {
          "base_uri": "https://localhost:8080/"
        },
        "id": "NfcwGe44j1pJ",
        "outputId": "1b0f42af-33bc-4c9b-c2fa-5bd9f3a5240a"
      },
      "execution_count": 19,
      "outputs": [
        {
          "output_type": "stream",
          "name": "stdout",
          "text": [
            "Epoch 1/10\n",
            "130/130 [==============================] - 119s 893ms/step - loss: 1.7658 - accuracy: 0.2267 - val_loss: 1.7194 - val_accuracy: 0.2980\n",
            "Epoch 2/10\n",
            "130/130 [==============================] - 114s 876ms/step - loss: 1.7136 - accuracy: 0.2661 - val_loss: 1.7242 - val_accuracy: 0.2071\n",
            "Epoch 3/10\n",
            "130/130 [==============================] - 115s 883ms/step - loss: 1.6790 - accuracy: 0.3105 - val_loss: 1.6791 - val_accuracy: 0.3132\n",
            "Epoch 4/10\n",
            "130/130 [==============================] - 114s 875ms/step - loss: 1.6579 - accuracy: 0.3270 - val_loss: 1.6420 - val_accuracy: 0.3001\n",
            "Epoch 5/10\n",
            "130/130 [==============================] - 115s 889ms/step - loss: 1.6411 - accuracy: 0.3197 - val_loss: 1.6260 - val_accuracy: 0.3532\n",
            "Epoch 6/10\n",
            "130/130 [==============================] - 115s 882ms/step - loss: 1.6237 - accuracy: 0.3700 - val_loss: 1.6103 - val_accuracy: 0.3692\n",
            "Epoch 7/10\n",
            "130/130 [==============================] - 117s 903ms/step - loss: 1.6178 - accuracy: 0.3400 - val_loss: 1.6455 - val_accuracy: 0.3307\n",
            "Epoch 8/10\n",
            "130/130 [==============================] - 124s 957ms/step - loss: 1.6058 - accuracy: 0.3584 - val_loss: 1.5972 - val_accuracy: 0.3975\n",
            "Epoch 9/10\n",
            "130/130 [==============================] - 123s 948ms/step - loss: 1.5911 - accuracy: 0.3664 - val_loss: 1.5846 - val_accuracy: 0.3423\n",
            "Epoch 10/10\n",
            "130/130 [==============================] - 114s 877ms/step - loss: 1.5772 - accuracy: 0.3731 - val_loss: 1.5731 - val_accuracy: 0.3932\n"
          ]
        }
      ]
    },
    {
      "cell_type": "code",
      "source": [
        "max_val_accuracy = max(history_11.history[\"val_accuracy\"])\n",
        "print(\"Max validation accuracy is : {:.4f}\".format(max_val_accuracy))"
      ],
      "metadata": {
        "colab": {
          "base_uri": "https://localhost:8080/"
        },
        "id": "tHaniSHtj1r0",
        "outputId": "11bf8195-480c-45be-b624-2a6b5780bf47"
      },
      "execution_count": 20,
      "outputs": [
        {
          "output_type": "stream",
          "name": "stdout",
          "text": [
            "Max validation accuracy is : 0.3975\n"
          ]
        }
      ]
    },
    {
      "cell_type": "code",
      "source": [
        "score = model_11.evaluate(rn_valid_generator, verbose=0)\n",
        "print(f\"Test loss  :  {score[0]:5.4f}\")\n",
        "print(f\"Test accuracy  :  {100*score[1]:5.4f}%\")"
      ],
      "metadata": {
        "colab": {
          "base_uri": "https://localhost:8080/"
        },
        "id": "z_58IP1Wj1uZ",
        "outputId": "13456ad8-9929-4fcd-dac6-e9e44a8b5b59"
      },
      "execution_count": 21,
      "outputs": [
        {
          "output_type": "stream",
          "name": "stdout",
          "text": [
            "Test loss  :  1.5776\n",
            "Test accuracy  :  39.7408%\n"
          ]
        }
      ]
    },
    {
      "cell_type": "code",
      "source": [
        "df_model11 = pd.DataFrame(history_11.history)\n",
        "df_model11.head()"
      ],
      "metadata": {
        "colab": {
          "base_uri": "https://localhost:8080/",
          "height": 206
        },
        "id": "4i17jN6-j1x4",
        "outputId": "7b5f6130-82af-4668-ea25-1acc18091d50"
      },
      "execution_count": 22,
      "outputs": [
        {
          "output_type": "execute_result",
          "data": {
            "text/plain": [
              "       loss  accuracy  val_loss  val_accuracy\n",
              "0  1.765763  0.226683  1.719380      0.297965\n",
              "1  1.713630  0.266071  1.724209      0.207122\n",
              "2  1.679016  0.310537  1.679056      0.313227\n",
              "3  1.657941  0.326970  1.641991      0.300145\n",
              "4  1.641113  0.319720  1.626040      0.353198"
            ],
            "text/html": [
              "\n",
              "  <div id=\"df-0323ccfa-3e1e-4920-b9ed-5fd713732de4\">\n",
              "    <div class=\"colab-df-container\">\n",
              "      <div>\n",
              "<style scoped>\n",
              "    .dataframe tbody tr th:only-of-type {\n",
              "        vertical-align: middle;\n",
              "    }\n",
              "\n",
              "    .dataframe tbody tr th {\n",
              "        vertical-align: top;\n",
              "    }\n",
              "\n",
              "    .dataframe thead th {\n",
              "        text-align: right;\n",
              "    }\n",
              "</style>\n",
              "<table border=\"1\" class=\"dataframe\">\n",
              "  <thead>\n",
              "    <tr style=\"text-align: right;\">\n",
              "      <th></th>\n",
              "      <th>loss</th>\n",
              "      <th>accuracy</th>\n",
              "      <th>val_loss</th>\n",
              "      <th>val_accuracy</th>\n",
              "    </tr>\n",
              "  </thead>\n",
              "  <tbody>\n",
              "    <tr>\n",
              "      <th>0</th>\n",
              "      <td>1.765763</td>\n",
              "      <td>0.226683</td>\n",
              "      <td>1.719380</td>\n",
              "      <td>0.297965</td>\n",
              "    </tr>\n",
              "    <tr>\n",
              "      <th>1</th>\n",
              "      <td>1.713630</td>\n",
              "      <td>0.266071</td>\n",
              "      <td>1.724209</td>\n",
              "      <td>0.207122</td>\n",
              "    </tr>\n",
              "    <tr>\n",
              "      <th>2</th>\n",
              "      <td>1.679016</td>\n",
              "      <td>0.310537</td>\n",
              "      <td>1.679056</td>\n",
              "      <td>0.313227</td>\n",
              "    </tr>\n",
              "    <tr>\n",
              "      <th>3</th>\n",
              "      <td>1.657941</td>\n",
              "      <td>0.326970</td>\n",
              "      <td>1.641991</td>\n",
              "      <td>0.300145</td>\n",
              "    </tr>\n",
              "    <tr>\n",
              "      <th>4</th>\n",
              "      <td>1.641113</td>\n",
              "      <td>0.319720</td>\n",
              "      <td>1.626040</td>\n",
              "      <td>0.353198</td>\n",
              "    </tr>\n",
              "  </tbody>\n",
              "</table>\n",
              "</div>\n",
              "      <button class=\"colab-df-convert\" onclick=\"convertToInteractive('df-0323ccfa-3e1e-4920-b9ed-5fd713732de4')\"\n",
              "              title=\"Convert this dataframe to an interactive table.\"\n",
              "              style=\"display:none;\">\n",
              "        \n",
              "  <svg xmlns=\"http://www.w3.org/2000/svg\" height=\"24px\"viewBox=\"0 0 24 24\"\n",
              "       width=\"24px\">\n",
              "    <path d=\"M0 0h24v24H0V0z\" fill=\"none\"/>\n",
              "    <path d=\"M18.56 5.44l.94 2.06.94-2.06 2.06-.94-2.06-.94-.94-2.06-.94 2.06-2.06.94zm-11 1L8.5 8.5l.94-2.06 2.06-.94-2.06-.94L8.5 2.5l-.94 2.06-2.06.94zm10 10l.94 2.06.94-2.06 2.06-.94-2.06-.94-.94-2.06-.94 2.06-2.06.94z\"/><path d=\"M17.41 7.96l-1.37-1.37c-.4-.4-.92-.59-1.43-.59-.52 0-1.04.2-1.43.59L10.3 9.45l-7.72 7.72c-.78.78-.78 2.05 0 2.83L4 21.41c.39.39.9.59 1.41.59.51 0 1.02-.2 1.41-.59l7.78-7.78 2.81-2.81c.8-.78.8-2.07 0-2.86zM5.41 20L4 18.59l7.72-7.72 1.47 1.35L5.41 20z\"/>\n",
              "  </svg>\n",
              "      </button>\n",
              "      \n",
              "  <style>\n",
              "    .colab-df-container {\n",
              "      display:flex;\n",
              "      flex-wrap:wrap;\n",
              "      gap: 12px;\n",
              "    }\n",
              "\n",
              "    .colab-df-convert {\n",
              "      background-color: #E8F0FE;\n",
              "      border: none;\n",
              "      border-radius: 50%;\n",
              "      cursor: pointer;\n",
              "      display: none;\n",
              "      fill: #1967D2;\n",
              "      height: 32px;\n",
              "      padding: 0 0 0 0;\n",
              "      width: 32px;\n",
              "    }\n",
              "\n",
              "    .colab-df-convert:hover {\n",
              "      background-color: #E2EBFA;\n",
              "      box-shadow: 0px 1px 2px rgba(60, 64, 67, 0.3), 0px 1px 3px 1px rgba(60, 64, 67, 0.15);\n",
              "      fill: #174EA6;\n",
              "    }\n",
              "\n",
              "    [theme=dark] .colab-df-convert {\n",
              "      background-color: #3B4455;\n",
              "      fill: #D2E3FC;\n",
              "    }\n",
              "\n",
              "    [theme=dark] .colab-df-convert:hover {\n",
              "      background-color: #434B5C;\n",
              "      box-shadow: 0px 1px 3px 1px rgba(0, 0, 0, 0.15);\n",
              "      filter: drop-shadow(0px 1px 2px rgba(0, 0, 0, 0.3));\n",
              "      fill: #FFFFFF;\n",
              "    }\n",
              "  </style>\n",
              "\n",
              "      <script>\n",
              "        const buttonEl =\n",
              "          document.querySelector('#df-0323ccfa-3e1e-4920-b9ed-5fd713732de4 button.colab-df-convert');\n",
              "        buttonEl.style.display =\n",
              "          google.colab.kernel.accessAllowed ? 'block' : 'none';\n",
              "\n",
              "        async function convertToInteractive(key) {\n",
              "          const element = document.querySelector('#df-0323ccfa-3e1e-4920-b9ed-5fd713732de4');\n",
              "          const dataTable =\n",
              "            await google.colab.kernel.invokeFunction('convertToInteractive',\n",
              "                                                     [key], {});\n",
              "          if (!dataTable) return;\n",
              "\n",
              "          const docLinkHtml = 'Like what you see? Visit the ' +\n",
              "            '<a target=\"_blank\" href=https://colab.research.google.com/notebooks/data_table.ipynb>data table notebook</a>'\n",
              "            + ' to learn more about interactive tables.';\n",
              "          element.innerHTML = '';\n",
              "          dataTable['output_type'] = 'display_data';\n",
              "          await google.colab.output.renderOutput(dataTable, element);\n",
              "          const docLink = document.createElement('div');\n",
              "          docLink.innerHTML = docLinkHtml;\n",
              "          element.appendChild(docLink);\n",
              "        }\n",
              "      </script>\n",
              "    </div>\n",
              "  </div>\n",
              "  "
            ]
          },
          "metadata": {},
          "execution_count": 22
        }
      ]
    },
    {
      "cell_type": "code",
      "source": [
        "plt.figure(figsize=(12, 5))\n",
        "plt.subplot(1, 2, 1)\n",
        "plt.plot(range(len(df_model11)), df_model11.loss, label=\"train\")\n",
        "plt.plot(range(len(df_model11)), df_model11.val_loss, label=\"test\")\n",
        "plt.title(\"Loss\")\n",
        "plt.legend()\n",
        "plt.subplot(1, 2, 2)\n",
        "plt.plot(range(len(df_model11)), df_model11.accuracy, label=\"train\")\n",
        "plt.plot(range(len(df_model11)), df_model11.val_accuracy, label=\"test\")\n",
        "plt.title(\"accuracy\")\n",
        "plt.legend()\n",
        "plt.show()"
      ],
      "metadata": {
        "colab": {
          "base_uri": "https://localhost:8080/",
          "height": 336
        },
        "id": "F4OWykv8j11I",
        "outputId": "0d210f10-7712-4336-bdce-b7790eef2c0e"
      },
      "execution_count": 23,
      "outputs": [
        {
          "output_type": "display_data",
          "data": {
            "text/plain": [
              "<Figure size 864x360 with 2 Axes>"
            ],
            "image/png": "[encoded data removed]"
          },
          "metadata": {
            "needs_background": "light"
          }
        }
      ]
    },
    {
      "cell_type": "code",
      "source": [],
      "metadata": {
        "id": "zFBSx8ggj13s"
      },
      "execution_count": 12,
      "outputs": []
    },
    {
      "cell_type": "code",
      "source": [],
      "metadata": {
        "id": "EGqyTz1Sj15l"
      },
      "execution_count": 12,
      "outputs": []
    },
    {
      "cell_type": "code",
      "source": [],
      "metadata": {
        "id": "-d4q26-sj171"
      },
      "execution_count": 12,
      "outputs": []
    },
    {
      "cell_type": "code",
      "source": [],
      "metadata": {
        "id": "D0vjxK1hj1-O"
      },
      "execution_count": 12,
      "outputs": []
    },
    {
      "cell_type": "code",
      "source": [],
      "metadata": {
        "id": "kya55AjGj2A7"
      },
      "execution_count": 12,
      "outputs": []
    },
    {
      "cell_type": "code",
      "source": [],
      "metadata": {
        "id": "bV9WmPamj2Dy"
      },
      "execution_count": 12,
      "outputs": []
    }
  ]
}