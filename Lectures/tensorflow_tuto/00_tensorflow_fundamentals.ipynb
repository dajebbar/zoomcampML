{
  "nbformat": 4,
  "nbformat_minor": 0,
  "metadata": {
    "colab": {
      "provenance": []
    },
    "kernelspec": {
      "name": "python3",
      "display_name": "Python 3"
    },
    "language_info": {
      "name": "python"
    }
  },
  "cells": [
    {
      "cell_type": "code",
      "execution_count": 1,
      "metadata": {
        "colab": {
          "base_uri": "https://localhost:8080/"
        },
        "id": "Ml-pRWA5WaWs",
        "outputId": "9bc56983-dc0e-4290-ad05-1da716ff0b0d"
      },
      "outputs": [
        {
          "output_type": "stream",
          "name": "stdout",
          "text": [
            "2.9.2\n"
          ]
        }
      ],
      "source": [
        "import numpy as np\n",
        "import tensorflow as tf\n",
        "\n",
        "print(tf.__version__)"
      ]
    },
    {
      "cell_type": "markdown",
      "source": [
        "# Introduction to tensors (creating tensors)"
      ],
      "metadata": {
        "id": "jXr7QyIzWzLG"
      }
    },
    {
      "cell_type": "markdown",
      "source": [
        "## Create tensors with `tf.constant`"
      ],
      "metadata": {
        "id": "6Z5Uy905dTk9"
      }
    },
    {
      "cell_type": "code",
      "source": [
        "# Create a scalar (rank 0 tensor)\n",
        "scalar = tf.constant(21)\n",
        "scalar"
      ],
      "metadata": {
        "colab": {
          "base_uri": "https://localhost:8080/"
        },
        "id": "4tzQwJRrWnkZ",
        "outputId": "608d4aad-b10d-43e5-9d32-8097a753d682"
      },
      "execution_count": null,
      "outputs": [
        {
          "output_type": "execute_result",
          "data": {
            "text/plain": [
              "<tf.Tensor: shape=(), dtype=int32, numpy=21>"
            ]
          },
          "metadata": {},
          "execution_count": 36
        }
      ]
    },
    {
      "cell_type": "code",
      "source": [
        "# dimension of scalar\n",
        "scalar.ndim"
      ],
      "metadata": {
        "colab": {
          "base_uri": "https://localhost:8080/"
        },
        "id": "rHfCcK-oX3me",
        "outputId": "ee2e6350-4d70-4f7c-af05-318ee28f0e93"
      },
      "execution_count": null,
      "outputs": [
        {
          "output_type": "execute_result",
          "data": {
            "text/plain": [
              "0"
            ]
          },
          "metadata": {},
          "execution_count": 37
        }
      ]
    },
    {
      "cell_type": "code",
      "source": [
        "# Create a vector\n",
        "vector = tf.constant([-1, 4.15])\n",
        "vector"
      ],
      "metadata": {
        "colab": {
          "base_uri": "https://localhost:8080/"
        },
        "id": "l14W0x9nX7Ku",
        "outputId": "c3d88795-5c87-462d-ae9a-f421b543791b"
      },
      "execution_count": null,
      "outputs": [
        {
          "output_type": "execute_result",
          "data": {
            "text/plain": [
              "<tf.Tensor: shape=(2,), dtype=float32, numpy=array([-1.  ,  4.15], dtype=float32)>"
            ]
          },
          "metadata": {},
          "execution_count": 38
        }
      ]
    },
    {
      "cell_type": "code",
      "source": [
        "# dim of vect\n",
        "vector.ndim"
      ],
      "metadata": {
        "colab": {
          "base_uri": "https://localhost:8080/"
        },
        "id": "JiGTK9r0Y92-",
        "outputId": "cc45b55b-2fd2-45e8-b33d-437a0e5f1dbc"
      },
      "execution_count": null,
      "outputs": [
        {
          "output_type": "execute_result",
          "data": {
            "text/plain": [
              "1"
            ]
          },
          "metadata": {},
          "execution_count": 39
        }
      ]
    },
    {
      "cell_type": "code",
      "source": [
        "# Create a Matrix\n",
        "m = np.array([\n",
        "    [12, 1, 0],\n",
        "    [5, 4, -1]\n",
        "])\n",
        "mat = tf.constant(m)\n",
        "mat"
      ],
      "metadata": {
        "colab": {
          "base_uri": "https://localhost:8080/"
        },
        "id": "yaowkXW6ZGJk",
        "outputId": "d21f4164-0b72-41d7-86c8-cbc2832f8f92"
      },
      "execution_count": null,
      "outputs": [
        {
          "output_type": "execute_result",
          "data": {
            "text/plain": [
              "<tf.Tensor: shape=(2, 3), dtype=int64, numpy=\n",
              "array([[12,  1,  0],\n",
              "       [ 5,  4, -1]])>"
            ]
          },
          "metadata": {},
          "execution_count": 40
        }
      ]
    },
    {
      "cell_type": "code",
      "source": [
        "mat.ndim"
      ],
      "metadata": {
        "colab": {
          "base_uri": "https://localhost:8080/"
        },
        "id": "05MvtC63ZnDl",
        "outputId": "829180cc-7a45-47c2-e3f1-a60bd27054fd"
      },
      "execution_count": null,
      "outputs": [
        {
          "output_type": "execute_result",
          "data": {
            "text/plain": [
              "2"
            ]
          },
          "metadata": {},
          "execution_count": 41
        }
      ]
    },
    {
      "cell_type": "code",
      "source": [
        "m = np.array([\n",
        "    [[12, 1, 0],\n",
        "    [5, 4, -1],\n",
        "    [0, 5, -2]],\n",
        "    [[0, 1, 3],\n",
        "     [4, 5, 1],\n",
        "     [-1, 2, -1]]\n",
        "])\n",
        "\n",
        "mat = tf.constant(m, dtype=tf.int8)\n",
        "mat"
      ],
      "metadata": {
        "colab": {
          "base_uri": "https://localhost:8080/"
        },
        "id": "CRrIeyr6Zuwe",
        "outputId": "70ed9c74-92ba-49a3-8e4c-23d8f0636839"
      },
      "execution_count": null,
      "outputs": [
        {
          "output_type": "execute_result",
          "data": {
            "text/plain": [
              "<tf.Tensor: shape=(2, 3, 3), dtype=int8, numpy=\n",
              "array([[[12,  1,  0],\n",
              "        [ 5,  4, -1],\n",
              "        [ 0,  5, -2]],\n",
              "\n",
              "       [[ 0,  1,  3],\n",
              "        [ 4,  5,  1],\n",
              "        [-1,  2, -1]]], dtype=int8)>"
            ]
          },
          "metadata": {},
          "execution_count": 42
        }
      ]
    },
    {
      "cell_type": "code",
      "source": [
        "mat.ndim"
      ],
      "metadata": {
        "colab": {
          "base_uri": "https://localhost:8080/"
        },
        "id": "ZdeGlsfJaBER",
        "outputId": "d7c0d347-e571-418c-e571-fd1f939c6da2"
      },
      "execution_count": null,
      "outputs": [
        {
          "output_type": "execute_result",
          "data": {
            "text/plain": [
              "3"
            ]
          },
          "metadata": {},
          "execution_count": 43
        }
      ]
    },
    {
      "cell_type": "markdown",
      "source": [
        "## Create tensors with `tf.Variable`\n",
        "\n",
        "You can also (although you likely rarely will, because often, when working with data, tensors are created for you automatically) create tensors using `tf.Variable()`.\n",
        "\n",
        "\n",
        "The difference between `tf.Variable()` and `tf.constant()` is tensors created with `tf.constant()` are **immutable** (can't be changed, can only be used to create a new tensor), where as, tensors created with `tf.Variable()` are **mutable** (can be changed)."
      ],
      "metadata": {
        "id": "h-fUxHT9d50B"
      }
    },
    {
      "cell_type": "code",
      "source": [
        "# Create the same tensor with tf.Variable() and tf.constant()\n",
        "changeable_tensor = tf.Variable([-1, 10])\n",
        "unchangeable_tensor = tf.constant([-1, 10])\n",
        "\n",
        "changeable_tensor, unchangeable_tensor"
      ],
      "metadata": {
        "colab": {
          "base_uri": "https://localhost:8080/"
        },
        "id": "XYRwDFz4aaRN",
        "outputId": "a663ee95-2ae1-4acc-bfa1-5cfd92fa900e"
      },
      "execution_count": null,
      "outputs": [
        {
          "output_type": "execute_result",
          "data": {
            "text/plain": [
              "(<tf.Variable 'Variable:0' shape=(2,) dtype=int32, numpy=array([-1, 10], dtype=int32)>,\n",
              " <tf.Tensor: shape=(2,), dtype=int32, numpy=array([-1, 10], dtype=int32)>)"
            ]
          },
          "metadata": {},
          "execution_count": 44
        }
      ]
    },
    {
      "cell_type": "markdown",
      "source": [
        "Now let's try to change one of the elements of the changeable tensor."
      ],
      "metadata": {
        "id": "yV-cPNi7f5Lr"
      }
    },
    {
      "cell_type": "code",
      "source": [
        "# Will error (requires the .assign() method)\n",
        "changeable_tensor[-1] = 1\n",
        "changeable_tensor"
      ],
      "metadata": {
        "colab": {
          "base_uri": "https://localhost:8080/",
          "height": 202
        },
        "id": "ldQuOeKWfdQW",
        "outputId": "2ac2b833-f738-4be6-b04e-67a1d8ce5bc2"
      },
      "execution_count": null,
      "outputs": [
        {
          "output_type": "error",
          "ename": "TypeError",
          "evalue": "ignored",
          "traceback": [
            "\u001b[0;31m---------------------------------------------------------------------------\u001b[0m",
            "\u001b[0;31mTypeError\u001b[0m                                 Traceback (most recent call last)",
            "\u001b[0;32m<ipython-input-45-bab1a76c14ce>\u001b[0m in \u001b[0;36m<module>\u001b[0;34m\u001b[0m\n\u001b[1;32m      1\u001b[0m \u001b[0;31m# Will error (requires the .assign() method)\u001b[0m\u001b[0;34m\u001b[0m\u001b[0;34m\u001b[0m\u001b[0;34m\u001b[0m\u001b[0m\n\u001b[0;32m----> 2\u001b[0;31m \u001b[0mchangeable_tensor\u001b[0m\u001b[0;34m[\u001b[0m\u001b[0;34m-\u001b[0m\u001b[0;36m1\u001b[0m\u001b[0;34m]\u001b[0m \u001b[0;34m=\u001b[0m \u001b[0;36m1\u001b[0m\u001b[0;34m\u001b[0m\u001b[0;34m\u001b[0m\u001b[0m\n\u001b[0m\u001b[1;32m      3\u001b[0m \u001b[0mchangeable_tensor\u001b[0m\u001b[0;34m\u001b[0m\u001b[0;34m\u001b[0m\u001b[0m\n",
            "\u001b[0;31mTypeError\u001b[0m: 'ResourceVariable' object does not support item assignment"
          ]
        }
      ]
    },
    {
      "cell_type": "code",
      "source": [
        "changeable_tensor[-1].assign(1)\n",
        "changeable_tensor"
      ],
      "metadata": {
        "colab": {
          "base_uri": "https://localhost:8080/"
        },
        "id": "EBXCf9qPgGhO",
        "outputId": "c217bf6a-4e9e-4552-b0e9-9b19400ab583"
      },
      "execution_count": null,
      "outputs": [
        {
          "output_type": "execute_result",
          "data": {
            "text/plain": [
              "<tf.Variable 'Variable:0' shape=(2,) dtype=int32, numpy=array([-1,  1], dtype=int32)>"
            ]
          },
          "metadata": {},
          "execution_count": 46
        }
      ]
    },
    {
      "cell_type": "markdown",
      "source": [
        "\n",
        "\n",
        "Now let's try to change a value in a tf.constant() tensor."
      ],
      "metadata": {
        "id": "TK42Az6igTea"
      }
    },
    {
      "cell_type": "code",
      "source": [
        "# Will error (can't change tf.constant())\n",
        "unchangeable_tensor[0].assign(10)\n",
        "unchangeable_tensor"
      ],
      "metadata": {
        "colab": {
          "base_uri": "https://localhost:8080/",
          "height": 324
        },
        "id": "mkN3j6NdgNnR",
        "outputId": "7d787dbb-d6b5-425e-e687-78ba1e0ab5bf"
      },
      "execution_count": null,
      "outputs": [
        {
          "output_type": "error",
          "ename": "AttributeError",
          "evalue": "ignored",
          "traceback": [
            "\u001b[0;31m---------------------------------------------------------------------------\u001b[0m",
            "\u001b[0;31mAttributeError\u001b[0m                            Traceback (most recent call last)",
            "\u001b[0;32m<ipython-input-47-fdc366e949ef>\u001b[0m in \u001b[0;36m<module>\u001b[0;34m\u001b[0m\n\u001b[1;32m      1\u001b[0m \u001b[0;31m# Will error (can't change tf.constant())\u001b[0m\u001b[0;34m\u001b[0m\u001b[0;34m\u001b[0m\u001b[0;34m\u001b[0m\u001b[0m\n\u001b[0;32m----> 2\u001b[0;31m \u001b[0munchangeable_tensor\u001b[0m\u001b[0;34m[\u001b[0m\u001b[0;36m0\u001b[0m\u001b[0;34m]\u001b[0m\u001b[0;34m.\u001b[0m\u001b[0massign\u001b[0m\u001b[0;34m(\u001b[0m\u001b[0;36m10\u001b[0m\u001b[0;34m)\u001b[0m\u001b[0;34m\u001b[0m\u001b[0;34m\u001b[0m\u001b[0m\n\u001b[0m\u001b[1;32m      3\u001b[0m \u001b[0munchangeable_tensor\u001b[0m\u001b[0;34m\u001b[0m\u001b[0;34m\u001b[0m\u001b[0m\n",
            "\u001b[0;32m/usr/local/lib/python3.7/dist-packages/tensorflow/python/framework/ops.py\u001b[0m in \u001b[0;36m__getattr__\u001b[0;34m(self, name)\u001b[0m\n\u001b[1;32m    444\u001b[0m         \u001b[0mnp_config\u001b[0m\u001b[0;34m.\u001b[0m\u001b[0menable_numpy_behavior\u001b[0m\u001b[0;34m(\u001b[0m\u001b[0;34m)\u001b[0m\u001b[0;34m\u001b[0m\u001b[0;34m\u001b[0m\u001b[0m\n\u001b[1;32m    445\u001b[0m       \"\"\")\n\u001b[0;32m--> 446\u001b[0;31m     \u001b[0mself\u001b[0m\u001b[0;34m.\u001b[0m\u001b[0m__getattribute__\u001b[0m\u001b[0;34m(\u001b[0m\u001b[0mname\u001b[0m\u001b[0;34m)\u001b[0m\u001b[0;34m\u001b[0m\u001b[0;34m\u001b[0m\u001b[0m\n\u001b[0m\u001b[1;32m    447\u001b[0m \u001b[0;34m\u001b[0m\u001b[0m\n\u001b[1;32m    448\u001b[0m   \u001b[0;34m@\u001b[0m\u001b[0mstaticmethod\u001b[0m\u001b[0;34m\u001b[0m\u001b[0;34m\u001b[0m\u001b[0m\n",
            "\u001b[0;31mAttributeError\u001b[0m: 'tensorflow.python.framework.ops.EagerTensor' object has no attribute 'assign'"
          ]
        }
      ]
    },
    {
      "cell_type": "markdown",
      "source": [
        "\n",
        "\n",
        "Which one should you use? `tf.constant()` or `tf.Variable()`?\n",
        "\n",
        "It will depend on what your problem requires. However, most of the time, TensorFlow will automatically choose for you (when loading data or modelling data).\n"
      ],
      "metadata": {
        "id": "f85QjHSEgt-b"
      }
    },
    {
      "cell_type": "markdown",
      "source": [
        "## Creating random tensors"
      ],
      "metadata": {
        "id": "qMwaN3Nfg4U1"
      }
    },
    {
      "cell_type": "markdown",
      "source": [
        "We can create random tensors by using the `tf.random.Generator` class."
      ],
      "metadata": {
        "id": "E8eczKrBlH3a"
      }
    },
    {
      "cell_type": "code",
      "source": [
        "random_1 = tf.random.Generator.from_seed(42)\n",
        "random_1 = random_1.normal(shape=(2, 5))\n",
        "\n",
        "random_2 = tf.random.Generator.from_seed(42)\n",
        "random_2 = random_2.normal(shape=(2, 5))\n",
        "\n",
        "random_1, random_2, random_1 == random_2, random_1 is random_2"
      ],
      "metadata": {
        "colab": {
          "base_uri": "https://localhost:8080/"
        },
        "id": "bl9XktBagcf7",
        "outputId": "66576a64-5328-4369-e064-4d309235ec52"
      },
      "execution_count": null,
      "outputs": [
        {
          "output_type": "execute_result",
          "data": {
            "text/plain": [
              "(<tf.Tensor: shape=(2, 5), dtype=float32, numpy=\n",
              " array([[-0.7565803 , -0.06854702,  0.07595026, -1.2573844 , -0.23193763],\n",
              "        [-1.8107855 ,  0.09988727, -0.50998646, -0.7535805 , -0.57166284]],\n",
              "       dtype=float32)>, <tf.Tensor: shape=(2, 5), dtype=float32, numpy=\n",
              " array([[-0.7565803 , -0.06854702,  0.07595026, -1.2573844 , -0.23193763],\n",
              "        [-1.8107855 ,  0.09988727, -0.50998646, -0.7535805 , -0.57166284]],\n",
              "       dtype=float32)>, <tf.Tensor: shape=(2, 5), dtype=bool, numpy=\n",
              " array([[ True,  True,  True,  True,  True],\n",
              "        [ True,  True,  True,  True,  True]])>, False)"
            ]
          },
          "metadata": {},
          "execution_count": 48
        }
      ]
    },
    {
      "cell_type": "code",
      "source": [
        "id(random_1), id(random_2)"
      ],
      "metadata": {
        "colab": {
          "base_uri": "https://localhost:8080/"
        },
        "id": "iGGgnfbOmnMX",
        "outputId": "5092d482-6cfa-4083-fe2e-276c6b780438"
      },
      "execution_count": null,
      "outputs": [
        {
          "output_type": "execute_result",
          "data": {
            "text/plain": [
              "(140309043525392, 140309043526544)"
            ]
          },
          "metadata": {},
          "execution_count": 49
        }
      ]
    },
    {
      "cell_type": "markdown",
      "source": [
        "## Shuffle"
      ],
      "metadata": {
        "id": "2wp9-e9uqqtG"
      }
    },
    {
      "cell_type": "code",
      "source": [
        "d = np.arange(20, 26).reshape(3, 2)\n",
        "# Shuffle a tensor (valuable for when you want to shuffle your data)\n",
        "not_shuffled = tf.constant(d)\n",
        "not_shuffled"
      ],
      "metadata": {
        "colab": {
          "base_uri": "https://localhost:8080/"
        },
        "id": "WUOoklZGnOrt",
        "outputId": "d26e9eae-5895-4553-aedf-d50e55c8946f"
      },
      "execution_count": null,
      "outputs": [
        {
          "output_type": "execute_result",
          "data": {
            "text/plain": [
              "<tf.Tensor: shape=(3, 2), dtype=int64, numpy=\n",
              "array([[20, 21],\n",
              "       [22, 23],\n",
              "       [24, 25]])>"
            ]
          },
          "metadata": {},
          "execution_count": 50
        }
      ]
    },
    {
      "cell_type": "code",
      "source": [
        "# Gets different results each time\n",
        "tf.random.shuffle(not_shuffled)"
      ],
      "metadata": {
        "colab": {
          "base_uri": "https://localhost:8080/"
        },
        "id": "g6s4DYT_q8To",
        "outputId": "c71154b9-145c-4165-d448-e2cfd884e934"
      },
      "execution_count": null,
      "outputs": [
        {
          "output_type": "execute_result",
          "data": {
            "text/plain": [
              "<tf.Tensor: shape=(3, 2), dtype=int64, numpy=\n",
              "array([[20, 21],\n",
              "       [24, 25],\n",
              "       [22, 23]])>"
            ]
          },
          "metadata": {},
          "execution_count": 51
        }
      ]
    },
    {
      "cell_type": "code",
      "source": [
        "tf.random.shuffle(not_shuffled)"
      ],
      "metadata": {
        "colab": {
          "base_uri": "https://localhost:8080/"
        },
        "id": "OdyukJY7rciF",
        "outputId": "11c4b9ff-3779-412d-baac-75ddd251f18f"
      },
      "execution_count": null,
      "outputs": [
        {
          "output_type": "execute_result",
          "data": {
            "text/plain": [
              "<tf.Tensor: shape=(3, 2), dtype=int64, numpy=\n",
              "array([[22, 23],\n",
              "       [20, 21],\n",
              "       [24, 25]])>"
            ]
          },
          "metadata": {},
          "execution_count": 52
        }
      ]
    },
    {
      "cell_type": "code",
      "source": [
        "tf.random.shuffle(not_shuffled)"
      ],
      "metadata": {
        "colab": {
          "base_uri": "https://localhost:8080/"
        },
        "id": "sfruv74wrkmd",
        "outputId": "b01cd47b-d2cf-411a-d3ea-7b6dc0a0761f"
      },
      "execution_count": null,
      "outputs": [
        {
          "output_type": "execute_result",
          "data": {
            "text/plain": [
              "<tf.Tensor: shape=(3, 2), dtype=int64, numpy=\n",
              "array([[20, 21],\n",
              "       [22, 23],\n",
              "       [24, 25]])>"
            ]
          },
          "metadata": {},
          "execution_count": 53
        }
      ]
    },
    {
      "cell_type": "code",
      "source": [
        "not_shuffled"
      ],
      "metadata": {
        "colab": {
          "base_uri": "https://localhost:8080/"
        },
        "id": "PNw8qY9Hr_77",
        "outputId": "b345a7ce-b655-4835-9063-5c02dbf11636"
      },
      "execution_count": null,
      "outputs": [
        {
          "output_type": "execute_result",
          "data": {
            "text/plain": [
              "<tf.Tensor: shape=(3, 2), dtype=int64, numpy=\n",
              "array([[20, 21],\n",
              "       [22, 23],\n",
              "       [24, 25]])>"
            ]
          },
          "metadata": {},
          "execution_count": 54
        }
      ]
    },
    {
      "cell_type": "code",
      "source": [
        "# Shuffle in the same order every time using the seed parameter \n",
        "# (won't acutally be the same)\n",
        "tf.random.shuffle(not_shuffled, seed=42)"
      ],
      "metadata": {
        "colab": {
          "base_uri": "https://localhost:8080/"
        },
        "id": "rwq0hTFOrmry",
        "outputId": "ce538b46-48d7-4286-e2fc-c85f1f389b14"
      },
      "execution_count": null,
      "outputs": [
        {
          "output_type": "execute_result",
          "data": {
            "text/plain": [
              "<tf.Tensor: shape=(3, 2), dtype=int64, numpy=\n",
              "array([[22, 23],\n",
              "       [24, 25],\n",
              "       [20, 21]])>"
            ]
          },
          "metadata": {},
          "execution_count": 55
        }
      ]
    },
    {
      "cell_type": "code",
      "source": [
        "tf.random.shuffle(not_shuffled, seed=42)"
      ],
      "metadata": {
        "colab": {
          "base_uri": "https://localhost:8080/"
        },
        "id": "MIqynqqdsBx3",
        "outputId": "54726851-a4f8-406a-aa8f-7f4bc16f931d"
      },
      "execution_count": null,
      "outputs": [
        {
          "output_type": "execute_result",
          "data": {
            "text/plain": [
              "<tf.Tensor: shape=(3, 2), dtype=int64, numpy=\n",
              "array([[20, 21],\n",
              "       [24, 25],\n",
              "       [22, 23]])>"
            ]
          },
          "metadata": {},
          "execution_count": 57
        }
      ]
    },
    {
      "cell_type": "code",
      "source": [
        "# Shuffle in the same order every time\n",
        "\n",
        "# Set the global random seed\n",
        "tf.random.set_seed(42)\n",
        "# Set the operation random seed\n",
        "tf.random.shuffle(not_shuffled, seed=42)"
      ],
      "metadata": {
        "colab": {
          "base_uri": "https://localhost:8080/"
        },
        "id": "py7a3NM6sEWc",
        "outputId": "69e3efd1-e5f1-4085-c480-03f5610c20c6"
      },
      "execution_count": null,
      "outputs": [
        {
          "output_type": "execute_result",
          "data": {
            "text/plain": [
              "<tf.Tensor: shape=(3, 2), dtype=int64, numpy=\n",
              "array([[20, 21],\n",
              "       [22, 23],\n",
              "       [24, 25]])>"
            ]
          },
          "metadata": {},
          "execution_count": 58
        }
      ]
    },
    {
      "cell_type": "markdown",
      "source": [
        "\n",
        "## Other ways to make tensors\n",
        "\n",
        "Though you might rarely use these (remember, many tensor operations are done behind the scenes for you), you can use tf.ones() to create a tensor of all ones and tf.zeros() to create a tensor of all zeros.\n"
      ],
      "metadata": {
        "id": "EL9_8ubdBvPY"
      }
    },
    {
      "cell_type": "code",
      "source": [
        "tf.ones(shape=(2, 3), dtype=tf.int8)"
      ],
      "metadata": {
        "colab": {
          "base_uri": "https://localhost:8080/"
        },
        "id": "IZRwgVOFBA9S",
        "outputId": "54ad44a2-73ba-4c4b-d132-37322e55bd5b"
      },
      "execution_count": null,
      "outputs": [
        {
          "output_type": "execute_result",
          "data": {
            "text/plain": [
              "<tf.Tensor: shape=(2, 3), dtype=int8, numpy=\n",
              "array([[1, 1, 1],\n",
              "       [1, 1, 1]], dtype=int8)>"
            ]
          },
          "metadata": {},
          "execution_count": 63
        }
      ]
    },
    {
      "cell_type": "code",
      "source": [
        "tf.zeros(shape=(2, 3), dtype=tf.int8)"
      ],
      "metadata": {
        "colab": {
          "base_uri": "https://localhost:8080/"
        },
        "id": "0KNlTBelBhAc",
        "outputId": "cf99f44e-5c34-4213-d1aa-03319f6a96e6"
      },
      "execution_count": null,
      "outputs": [
        {
          "output_type": "execute_result",
          "data": {
            "text/plain": [
              "<tf.Tensor: shape=(2, 3), dtype=int8, numpy=\n",
              "array([[0, 0, 0],\n",
              "       [0, 0, 0]], dtype=int8)>"
            ]
          },
          "metadata": {},
          "execution_count": 64
        }
      ]
    },
    {
      "cell_type": "code",
      "source": [
        "numpy_A = np.arange(1, 25, dtype=np.int32) # create a NumPy array between 1 and 25\n",
        "A = tf.constant(numpy_A,  \n",
        "                shape=[2, 4, 3]) # note: the shape total (2*4*3) has to match the number of elements in the array\n",
        "numpy_A, A"
      ],
      "metadata": {
        "colab": {
          "base_uri": "https://localhost:8080/"
        },
        "id": "PrEMMOrSBpGd",
        "outputId": "1ed0262e-bbb0-406f-ac88-be6d861b3496"
      },
      "execution_count": null,
      "outputs": [
        {
          "output_type": "execute_result",
          "data": {
            "text/plain": [
              "(array([ 1,  2,  3,  4,  5,  6,  7,  8,  9, 10, 11, 12, 13, 14, 15, 16, 17,\n",
              "        18, 19, 20, 21, 22, 23, 24], dtype=int32),\n",
              " <tf.Tensor: shape=(2, 4, 3), dtype=int32, numpy=\n",
              " array([[[ 1,  2,  3],\n",
              "         [ 4,  5,  6],\n",
              "         [ 7,  8,  9],\n",
              "         [10, 11, 12]],\n",
              " \n",
              "        [[13, 14, 15],\n",
              "         [16, 17, 18],\n",
              "         [19, 20, 21],\n",
              "         [22, 23, 24]]], dtype=int32)>)"
            ]
          },
          "metadata": {},
          "execution_count": 65
        }
      ]
    },
    {
      "cell_type": "markdown",
      "source": [
        "# Getting information from tensors (shape, rank, size)"
      ],
      "metadata": {
        "id": "emDviha-FDHh"
      }
    },
    {
      "cell_type": "code",
      "source": [
        "# Create a rank 4 tensor (4 dimensions)\n",
        "rank_4_tensor = tf.random.Generator.from_seed(42)\n",
        "rank_4_tensor = rank_4_tensor.normal(shape=(2, 4, 2, 3))\n",
        "rank_4_tensor"
      ],
      "metadata": {
        "colab": {
          "base_uri": "https://localhost:8080/"
        },
        "id": "k7dUvSYfCaHa",
        "outputId": "98266964-eb6b-4398-98db-1e84f3099b72"
      },
      "execution_count": null,
      "outputs": [
        {
          "output_type": "execute_result",
          "data": {
            "text/plain": [
              "<tf.Tensor: shape=(2, 4, 2, 3), dtype=float32, numpy=\n",
              "array([[[[-0.7565803 , -0.06854702,  0.07595026],\n",
              "         [-1.2573844 , -0.23193763, -1.8107855 ]],\n",
              "\n",
              "        [[ 0.09988727, -0.50998646, -0.7535805 ],\n",
              "         [-0.57166284,  0.1480774 , -0.23362993]],\n",
              "\n",
              "        [[-0.3522796 ,  0.40621263, -1.0523509 ],\n",
              "         [ 1.2054597 ,  1.6874489 , -0.4462975 ]],\n",
              "\n",
              "        [[-2.3410842 ,  0.99009085, -0.0876323 ],\n",
              "         [-0.635568  , -0.6161736 , -1.9441465 ]]],\n",
              "\n",
              "\n",
              "       [[[-0.48293006, -0.52447474, -1.0345329 ],\n",
              "         [ 1.3066901 , -1.5184573 , -0.4585211 ]],\n",
              "\n",
              "        [[ 0.5714663 , -1.5331722 ,  0.45331386],\n",
              "         [ 1.1487608 , -1.2659091 , -0.47450137]],\n",
              "\n",
              "        [[ 2.006022  ,  0.28288034, -0.30288252],\n",
              "         [-1.443651  ,  1.0034493 ,  0.20857747]],\n",
              "\n",
              "        [[ 0.35700995,  1.0648885 ,  1.2432485 ],\n",
              "         [-2.2173238 ,  0.18706243,  0.6617961 ]]]], dtype=float32)>"
            ]
          },
          "metadata": {},
          "execution_count": 66
        }
      ]
    },
    {
      "cell_type": "code",
      "source": [
        "def infos(tensor):\n",
        "  print(\"Datatype of every element:\", tensor.dtype)\n",
        "  print(\"Number of dimensions (rank):\", tensor.ndim)\n",
        "  print(\"Shape of tensor:\", tensor.shape)\n",
        "  print(\"Elements along axis 0 of tensor:\", tensor.shape[0])\n",
        "  print(\"Elements along last axis of tensor:\", tensor.shape[-1])\n",
        "  print(\"Total number of elements (2*4*2*3):\", tf.size(tensor).numpy()) # .numpy() converts to NumPy array\n",
        "\n",
        "infos(rank_4_tensor)"
      ],
      "metadata": {
        "colab": {
          "base_uri": "https://localhost:8080/"
        },
        "id": "uku5qH8fSBrf",
        "outputId": "43312862-01f2-4d1b-a164-0cfe6c7a24dc"
      },
      "execution_count": null,
      "outputs": [
        {
          "output_type": "stream",
          "name": "stdout",
          "text": [
            "Datatype of every element: <dtype: 'float32'>\n",
            "Number of dimensions (rank): 4\n",
            "Shape of tensor: (2, 4, 2, 3)\n",
            "Elements along axis 0 of tensor: 2\n",
            "Elements along last axis of tensor: 3\n",
            "Total number of elements (2*4*2*3): 48\n"
          ]
        }
      ]
    },
    {
      "cell_type": "code",
      "source": [
        "# Create a rank 2 tensor (2 dimensions)\n",
        "rank_2_tensor = tf.constant([[10, 7],\n",
        "                             [3, 4]])\n",
        "\n",
        "# Get the last item of each row\n",
        "rank_2_tensor[:, -1]\n"
      ],
      "metadata": {
        "colab": {
          "base_uri": "https://localhost:8080/"
        },
        "id": "ts3h1pQ8Sy36",
        "outputId": "debb74fa-75e6-44d2-c795-dc75af46e9e0"
      },
      "execution_count": null,
      "outputs": [
        {
          "output_type": "execute_result",
          "data": {
            "text/plain": [
              "<tf.Tensor: shape=(2,), dtype=int32, numpy=array([7, 4], dtype=int32)>"
            ]
          },
          "metadata": {},
          "execution_count": 2
        }
      ]
    },
    {
      "cell_type": "code",
      "source": [
        "# Add an extra dimension (to the end)\n",
        "rank_3_tensor = rank_2_tensor[..., tf.newaxis] # in Python \"...\" means \"all dimensions prior to\"\n",
        "rank_2_tensor.shape, rank_3_tensor.shape"
      ],
      "metadata": {
        "id": "YO1DbwloTFG-",
        "colab": {
          "base_uri": "https://localhost:8080/"
        },
        "outputId": "ec71587c-6a1e-4eb1-c8cd-b65802d1cad7"
      },
      "execution_count": null,
      "outputs": [
        {
          "output_type": "execute_result",
          "data": {
            "text/plain": [
              "(TensorShape([2, 2]), TensorShape([2, 2, 1]))"
            ]
          },
          "metadata": {},
          "execution_count": 3
        }
      ]
    },
    {
      "cell_type": "markdown",
      "source": [
        "You can achieve the same using `tf.expand_dims()`."
      ],
      "metadata": {
        "id": "nOEYh-qU1lBs"
      }
    },
    {
      "cell_type": "code",
      "source": [
        "tf.expand_dims(rank_2_tensor, axis=-1).shape.as_list()"
      ],
      "metadata": {
        "colab": {
          "base_uri": "https://localhost:8080/"
        },
        "id": "SmZVwNer1c-j",
        "outputId": "9472a5bb-175e-4021-c16f-c378b814bf6c"
      },
      "execution_count": null,
      "outputs": [
        {
          "output_type": "execute_result",
          "data": {
            "text/plain": [
              "[2, 2, 1]"
            ]
          },
          "metadata": {},
          "execution_count": 5
        }
      ]
    },
    {
      "cell_type": "markdown",
      "source": [
        "# Manipulating tensors (tensor operations)\n",
        "\n",
        "Finding patterns in tensors (numerical representation of data) requires manipulating them.\n",
        "\n",
        "Again, when building models in TensorFlow, much of this pattern discovery is done for you.  \n",
        "\n",
        "\n",
        "### Basic operations\n",
        "\n",
        "You can perform many of the basic mathematical operations directly on tensors using Python operators such as, `+, -, *`.\n"
      ],
      "metadata": {
        "id": "RTvZxFv42q_8"
      }
    },
    {
      "cell_type": "code",
      "source": [
        "tensor = tf.constant([[10, 7], [3, 4]])\n",
        "tensor"
      ],
      "metadata": {
        "colab": {
          "base_uri": "https://localhost:8080/"
        },
        "id": "QiNUdl9S2FsC",
        "outputId": "34dea02e-c5e5-48ae-d037-ef62b7a1620e"
      },
      "execution_count": null,
      "outputs": [
        {
          "output_type": "execute_result",
          "data": {
            "text/plain": [
              "<tf.Tensor: shape=(2, 2), dtype=int32, numpy=\n",
              "array([[10,  7],\n",
              "       [ 3,  4]], dtype=int32)>"
            ]
          },
          "metadata": {},
          "execution_count": 6
        }
      ]
    },
    {
      "cell_type": "code",
      "source": [
        "tensor + 10"
      ],
      "metadata": {
        "colab": {
          "base_uri": "https://localhost:8080/"
        },
        "id": "JhZOPgh16y4h",
        "outputId": "09e34b80-4409-4405-dd7a-bccbc5661302"
      },
      "execution_count": null,
      "outputs": [
        {
          "output_type": "execute_result",
          "data": {
            "text/plain": [
              "<tf.Tensor: shape=(2, 2), dtype=int32, numpy=\n",
              "array([[20, 17],\n",
              "       [13, 14]], dtype=int32)>"
            ]
          },
          "metadata": {},
          "execution_count": 7
        }
      ]
    },
    {
      "cell_type": "code",
      "source": [
        "tf.add(tensor, 10)"
      ],
      "metadata": {
        "colab": {
          "base_uri": "https://localhost:8080/"
        },
        "id": "PSg9RLA362Pa",
        "outputId": "108a90d9-5f37-4f62-d0cb-922a13a71d04"
      },
      "execution_count": null,
      "outputs": [
        {
          "output_type": "execute_result",
          "data": {
            "text/plain": [
              "<tf.Tensor: shape=(2, 2), dtype=int32, numpy=\n",
              "array([[20, 17],\n",
              "       [13, 14]], dtype=int32)>"
            ]
          },
          "metadata": {},
          "execution_count": 11
        }
      ]
    },
    {
      "cell_type": "code",
      "source": [
        "tf.multiply(tensor, 10)"
      ],
      "metadata": {
        "colab": {
          "base_uri": "https://localhost:8080/"
        },
        "id": "3PAQmWil66o2",
        "outputId": "739046d6-224e-45cb-bf01-3151e3c28c0f"
      },
      "execution_count": null,
      "outputs": [
        {
          "output_type": "execute_result",
          "data": {
            "text/plain": [
              "<tf.Tensor: shape=(2, 2), dtype=int32, numpy=\n",
              "array([[100,  70],\n",
              "       [ 30,  40]], dtype=int32)>"
            ]
          },
          "metadata": {},
          "execution_count": 12
        }
      ]
    },
    {
      "cell_type": "code",
      "source": [
        "tf.divide(tensor, 0)"
      ],
      "metadata": {
        "colab": {
          "base_uri": "https://localhost:8080/"
        },
        "id": "9AYZqKgy7c3w",
        "outputId": "b09c36e2-dbc5-4f77-df9f-f4484726876f"
      },
      "execution_count": null,
      "outputs": [
        {
          "output_type": "execute_result",
          "data": {
            "text/plain": [
              "<tf.Tensor: shape=(2, 2), dtype=float64, numpy=\n",
              "array([[inf, inf],\n",
              "       [inf, inf]])>"
            ]
          },
          "metadata": {},
          "execution_count": 17
        }
      ]
    },
    {
      "cell_type": "markdown",
      "source": [
        "\n",
        "## Matrix mutliplication\n",
        "\n",
        "One of the most common operations in machine learning algorithms is matrix multiplication.\n",
        "\n",
        "TensorFlow implements this matrix multiplication functionality in the tf.matmul() method.\n",
        "\n",
        "The main two rules for matrix multiplication to remember are:\n",
        "\n",
        "  1. The inner dimensions must match:\n",
        "\n",
        "    - (3, 5) @ (3, 5) won't work\n",
        "    - (5, 3) @ (3, 5) will work\n",
        "    - (3, 5) @ (5, 3) will work\n",
        "\n",
        "  2. The resulting matrix has the shape of the outer dimensions:\n",
        "\n",
        "    - (5, 3) @ (3, 5) -> (5, 5)\n",
        "    - (3, 5) @ (5, 3) -> (3, 3)\n",
        "\n",
        "🔑 **Note**: '@' in Python is the symbol for matrix multiplication.\n",
        "\n"
      ],
      "metadata": {
        "id": "7_K2aP148Vyc"
      }
    },
    {
      "cell_type": "code",
      "source": [
        "# Create (3, 2) tensor\n",
        "X = tf.constant([[1, 2],\n",
        "                 [3, 4],\n",
        "                 [5, 6]])\n",
        "\n",
        "# Create another (3, 2) tensor\n",
        "Y = tf.constant([[7, 8],\n",
        "                 [9, 10],\n",
        "                 [11, 12]])\n",
        "X, Y"
      ],
      "metadata": {
        "colab": {
          "base_uri": "https://localhost:8080/"
        },
        "id": "0LJTS6dL7lYA",
        "outputId": "34c7bf26-4132-488d-e7b5-db04c68097ff"
      },
      "execution_count": null,
      "outputs": [
        {
          "output_type": "execute_result",
          "data": {
            "text/plain": [
              "(<tf.Tensor: shape=(3, 2), dtype=int32, numpy=\n",
              " array([[1, 2],\n",
              "        [3, 4],\n",
              "        [5, 6]], dtype=int32)>, <tf.Tensor: shape=(3, 2), dtype=int32, numpy=\n",
              " array([[ 7,  8],\n",
              "        [ 9, 10],\n",
              "        [11, 12]], dtype=int32)>)"
            ]
          },
          "metadata": {},
          "execution_count": 18
        }
      ]
    },
    {
      "cell_type": "code",
      "source": [
        "X @ tf.transpose(Y)"
      ],
      "metadata": {
        "colab": {
          "base_uri": "https://localhost:8080/"
        },
        "id": "KJx7AYICAVut",
        "outputId": "7dad1e47-639d-48b8-f59a-284edf092e79"
      },
      "execution_count": null,
      "outputs": [
        {
          "output_type": "execute_result",
          "data": {
            "text/plain": [
              "<tf.Tensor: shape=(3, 3), dtype=int32, numpy=\n",
              "array([[ 23,  29,  35],\n",
              "       [ 53,  67,  81],\n",
              "       [ 83, 105, 127]], dtype=int32)>"
            ]
          },
          "metadata": {},
          "execution_count": 21
        }
      ]
    },
    {
      "cell_type": "code",
      "source": [
        "tf.transpose(X) @ Y"
      ],
      "metadata": {
        "colab": {
          "base_uri": "https://localhost:8080/"
        },
        "id": "us7MUBj7AeYk",
        "outputId": "b7cf4ae1-dbc6-4712-cdbd-1ac453a3e65e"
      },
      "execution_count": null,
      "outputs": [
        {
          "output_type": "execute_result",
          "data": {
            "text/plain": [
              "<tf.Tensor: shape=(2, 2), dtype=int32, numpy=\n",
              "array([[ 89,  98],\n",
              "       [116, 128]], dtype=int32)>"
            ]
          },
          "metadata": {},
          "execution_count": 25
        }
      ]
    },
    {
      "cell_type": "code",
      "source": [
        "# Perform matrix multiplication between X and Y (transposed)\n",
        "tf.matmul(X, tf.transpose(Y))"
      ],
      "metadata": {
        "colab": {
          "base_uri": "https://localhost:8080/"
        },
        "id": "GM5WRb4XBP8n",
        "outputId": "5b6ebb83-67cd-4e1b-8cb6-259d62a892d5"
      },
      "execution_count": null,
      "outputs": [
        {
          "output_type": "execute_result",
          "data": {
            "text/plain": [
              "<tf.Tensor: shape=(3, 3), dtype=int32, numpy=\n",
              "array([[ 23,  29,  35],\n",
              "       [ 53,  67,  81],\n",
              "       [ 83, 105, 127]], dtype=int32)>"
            ]
          },
          "metadata": {},
          "execution_count": 23
        }
      ]
    },
    {
      "cell_type": "code",
      "source": [
        "# Perform matrix multiplication between X and Y (reshaped)\n",
        "tf.matmul(X, tf.reshape(Y, (2, 3)))"
      ],
      "metadata": {
        "colab": {
          "base_uri": "https://localhost:8080/"
        },
        "id": "wvEjD5-dCT3O",
        "outputId": "e7c723d8-d911-4081-925a-ef7ff3763559"
      },
      "execution_count": null,
      "outputs": [
        {
          "output_type": "execute_result",
          "data": {
            "text/plain": [
              "<tf.Tensor: shape=(3, 3), dtype=int32, numpy=\n",
              "array([[ 27,  30,  33],\n",
              "       [ 61,  68,  75],\n",
              "       [ 95, 106, 117]], dtype=int32)>"
            ]
          },
          "metadata": {},
          "execution_count": 24
        }
      ]
    },
    {
      "cell_type": "markdown",
      "source": [
        "\n",
        "## Changing the datatype of a tensor\n",
        "\n",
        "Sometimes you'll want to alter the default datatype of your tensor.\n",
        "\n",
        "This is common when you want to compute using less precision (e.g. 16-bit floating point numbers vs. 32-bit floating point numbers).\n",
        "\n",
        "Computing with less precision is useful on devices with less computing capacity such as mobile devices (because the less bits, the less space the computations require).\n",
        "\n",
        "You can change the datatype of a tensor using `tf.cast()`.\n"
      ],
      "metadata": {
        "id": "mzxuDeKuDsJS"
      }
    },
    {
      "cell_type": "code",
      "source": [
        "X1 = tf.constant([10, 7])\n",
        "X2 = tf.constant([-1.2, 5])\n",
        "\n",
        "X1.dtype, X2.dtype"
      ],
      "metadata": {
        "id": "sQhGrHkjCafG",
        "colab": {
          "base_uri": "https://localhost:8080/"
        },
        "outputId": "8750d2ae-169e-4082-be91-3a77691560db"
      },
      "execution_count": 2,
      "outputs": [
        {
          "output_type": "execute_result",
          "data": {
            "text/plain": [
              "(tf.int32, tf.float32)"
            ]
          },
          "metadata": {},
          "execution_count": 2
        }
      ]
    },
    {
      "cell_type": "code",
      "source": [
        "C1 = tf.cast(X1, dtype=tf.float16)\n",
        "C2 = tf.cast(X2, dtype=tf.float64)\n",
        "\n",
        "C1.dtype, C2.dtype"
      ],
      "metadata": {
        "colab": {
          "base_uri": "https://localhost:8080/"
        },
        "id": "bL5_EKuUDNEL",
        "outputId": "01ef7d4f-8a0c-48ba-ce27-d7c33b6425e5"
      },
      "execution_count": 3,
      "outputs": [
        {
          "output_type": "execute_result",
          "data": {
            "text/plain": [
              "(tf.float16, tf.float64)"
            ]
          },
          "metadata": {},
          "execution_count": 3
        }
      ]
    },
    {
      "cell_type": "markdown",
      "source": [
        "## \n",
        "Getting the absolute value\n",
        "\n",
        "Sometimes you'll want the absolute values (all values are positive) of elements in your tensors.\n",
        "\n",
        "To do so, you can use `tf.abs()`.\n"
      ],
      "metadata": {
        "id": "Wvw25h9TEWOV"
      }
    },
    {
      "cell_type": "code",
      "source": [
        "X = tf.constant([[7, -10, -5],[2, -2, -1]])\n",
        "\n",
        "X, tf.abs(X)"
      ],
      "metadata": {
        "colab": {
          "base_uri": "https://localhost:8080/"
        },
        "id": "P0zU-JxMDjIE",
        "outputId": "8cdcfde4-e56b-47fb-957c-640af2f288a8"
      },
      "execution_count": 5,
      "outputs": [
        {
          "output_type": "execute_result",
          "data": {
            "text/plain": [
              "(<tf.Tensor: shape=(2, 3), dtype=int32, numpy=\n",
              " array([[  7, -10,  -5],\n",
              "        [  2,  -2,  -1]], dtype=int32)>,\n",
              " <tf.Tensor: shape=(2, 3), dtype=int32, numpy=\n",
              " array([[ 7, 10,  5],\n",
              "        [ 2,  2,  1]], dtype=int32)>)"
            ]
          },
          "metadata": {},
          "execution_count": 5
        }
      ]
    },
    {
      "cell_type": "markdown",
      "source": [
        "## Finding the min, max, mean, sum (aggregation)\n",
        "\n",
        "You can quickly aggregate (perform a calculation on a whole tensor) tensors to find things like the minimum value, maximum value, mean and sum of all the elements.\n",
        "\n",
        "To do so, aggregation methods typically have the syntax `reduce_[action]()`, such as:\n",
        "\n",
        "  - `tf.reduce_min()` - find the minimum value in a tensor.\n",
        "  - `tf.reduce_max()` - find the maximum value in a tensor (helpful for when you want to find the highest prediction probability).\n",
        "  - `tf.reduce_mean()` - find the mean of all elements in a tensor.\n",
        "  - `tf.reduce_sum()` - find the sum of all elements in a tensor.  \n",
        "\n",
        "**Note**: typically, each of these is under the math module, e.g. `tf.math.reduce_min()` but you can use the alias `tf.reduce_min()`.\n",
        "\n",
        "Let's see them in action."
      ],
      "metadata": {
        "id": "PKsd-VMkE-PJ"
      }
    },
    {
      "cell_type": "code",
      "source": [
        "# Create a tensor with 50 random values between 0 and 100\n",
        "tf.random.set_seed(42)\n",
        "X = tf.constant(np.random.randint(0, 100, size=50))\n",
        "X"
      ],
      "metadata": {
        "colab": {
          "base_uri": "https://localhost:8080/"
        },
        "id": "pybO8ubhEoDB",
        "outputId": "5927fa97-1ef3-45ba-8ffa-afbb5acc902a"
      },
      "execution_count": 6,
      "outputs": [
        {
          "output_type": "execute_result",
          "data": {
            "text/plain": [
              "<tf.Tensor: shape=(50,), dtype=int64, numpy=\n",
              "array([ 6, 68,  5, 92, 51, 16, 49, 74, 46, 69, 28, 91, 55, 81, 27,  5, 32,\n",
              "       60, 29, 37, 56,  9, 45,  3, 23, 14, 45, 46, 87, 71, 81, 54,  8, 14,\n",
              "       29, 42, 10, 27, 37, 96, 29, 42, 47, 99,  1, 92, 45, 87, 74, 36])>"
            ]
          },
          "metadata": {},
          "execution_count": 6
        }
      ]
    },
    {
      "cell_type": "code",
      "source": [
        "# min\n",
        "tf.reduce_min(X).numpy()"
      ],
      "metadata": {
        "colab": {
          "base_uri": "https://localhost:8080/"
        },
        "id": "qyI-awUEHnNS",
        "outputId": "e94b051d-4de6-49ac-e6d4-092251d5c56c"
      },
      "execution_count": 8,
      "outputs": [
        {
          "output_type": "execute_result",
          "data": {
            "text/plain": [
              "1"
            ]
          },
          "metadata": {},
          "execution_count": 8
        }
      ]
    },
    {
      "cell_type": "code",
      "source": [
        "# max\n",
        "tf.reduce_max(X).numpy()"
      ],
      "metadata": {
        "colab": {
          "base_uri": "https://localhost:8080/"
        },
        "id": "vD8aX0WkHy_M",
        "outputId": "73a97ccd-77ec-4e6c-c8bb-7c091d5323d2"
      },
      "execution_count": 9,
      "outputs": [
        {
          "output_type": "execute_result",
          "data": {
            "text/plain": [
              "99"
            ]
          },
          "metadata": {},
          "execution_count": 9
        }
      ]
    },
    {
      "cell_type": "code",
      "source": [
        "# mean\n",
        "tf.reduce_mean(X).numpy()"
      ],
      "metadata": {
        "colab": {
          "base_uri": "https://localhost:8080/"
        },
        "id": "yPPrWSUGH-n2",
        "outputId": "baa14ee6-53c1-4b6d-ff4a-d8f9282809f9"
      },
      "execution_count": 10,
      "outputs": [
        {
          "output_type": "execute_result",
          "data": {
            "text/plain": [
              "45"
            ]
          },
          "metadata": {},
          "execution_count": 10
        }
      ]
    },
    {
      "cell_type": "code",
      "source": [
        "# sum\n",
        "tf.reduce_sum(X).numpy()"
      ],
      "metadata": {
        "colab": {
          "base_uri": "https://localhost:8080/"
        },
        "id": "ysgqKZ7pIHq1",
        "outputId": "249c6564-0002-467b-d269-879cbc864de6"
      },
      "execution_count": 11,
      "outputs": [
        {
          "output_type": "execute_result",
          "data": {
            "text/plain": [
              "2270"
            ]
          },
          "metadata": {},
          "execution_count": 11
        }
      ]
    },
    {
      "cell_type": "code",
      "source": [
        "# std, var\n",
        "# tf.reduce_std(X).numpy(), \n",
        "# tf.reduce_variance(X).numpy()\n",
        "tf.math.reduce_std(tf.cast(X, dtype=tf.float32)).numpy(), tf.math.reduce_variance(tf.cast(X, dtype=tf.float32)).numpy()"
      ],
      "metadata": {
        "colab": {
          "base_uri": "https://localhost:8080/"
        },
        "id": "T9tU5xR-ION6",
        "outputId": "0aeafd68-4699-4ec2-a437-804d3fd15c1e"
      },
      "execution_count": 20,
      "outputs": [
        {
          "output_type": "execute_result",
          "data": {
            "text/plain": [
              "(28.238272, 797.4)"
            ]
          },
          "metadata": {},
          "execution_count": 20
        }
      ]
    },
    {
      "cell_type": "markdown",
      "source": [
        "## Finding the positional maximum and minimum\n",
        "How about finding the position a tensor where the maximum value occurs?\n",
        "\n",
        "This is helpful when you want to line up your labels (say `['Green', 'Blue', 'Red']`) with your prediction probabilities tensor (e.g. `[0.98, 0.01, 0.01]`).\n",
        "\n",
        "In this case, the predicted label (the one with the highest prediction probability) would be 'Green'.\n",
        "\n",
        "You can do the same for the minimum (if required) with the following:\n",
        "\n",
        "  - `tf.argmax()` - find the position of the maximum element in a given tensor.\n",
        "  - `tf.argmin()` - find the position of the minimum element in a given tensor.\n",
        "\n"
      ],
      "metadata": {
        "id": "IsiqH3nUMVvg"
      }
    },
    {
      "cell_type": "code",
      "source": [
        "# Create a tensor with 50 values between 0 and 1\n",
        "tf.random.set_seed(42)\n",
        "X = tf.constant(np.random.random(50))\n",
        "X"
      ],
      "metadata": {
        "colab": {
          "base_uri": "https://localhost:8080/"
        },
        "id": "OqCBElOxIjHh",
        "outputId": "45effd7c-17eb-4818-fa49-8f72da1f0531"
      },
      "execution_count": 22,
      "outputs": [
        {
          "output_type": "execute_result",
          "data": {
            "text/plain": [
              "<tf.Tensor: shape=(50,), dtype=float64, numpy=\n",
              "array([0.78879168, 0.56854168, 0.00779142, 0.12747923, 0.56622722,\n",
              "       0.22132125, 0.45004091, 0.73606034, 0.93555112, 0.66087772,\n",
              "       0.9770007 , 0.49125228, 0.97598242, 0.8687771 , 0.58107209,\n",
              "       0.11667342, 0.08894048, 0.29174401, 0.57122794, 0.07543879,\n",
              "       0.90614608, 0.62481205, 0.52343742, 0.10039582, 0.41120551,\n",
              "       0.09057161, 0.0561985 , 0.17888599, 0.80622938, 0.68932113,\n",
              "       0.5575878 , 0.11290822, 0.97195432, 0.55031114, 0.11571161,\n",
              "       0.78504928, 0.63801887, 0.38093108, 0.08580804, 0.48206252,\n",
              "       0.09889108, 0.42555295, 0.7893639 , 0.72474544, 0.2059244 ,\n",
              "       0.62517019, 0.2817144 , 0.47601526, 0.26817332, 0.38943632])>"
            ]
          },
          "metadata": {},
          "execution_count": 22
        }
      ]
    },
    {
      "cell_type": "code",
      "source": [
        "# argmin argmax\n",
        "tf.argmin(X).numpy(), tf.argmax(X).numpy()"
      ],
      "metadata": {
        "colab": {
          "base_uri": "https://localhost:8080/"
        },
        "id": "GJHmgwvMNyxf",
        "outputId": "be0ba21c-7677-4028-b37f-d4fd770f15d4"
      },
      "execution_count": 23,
      "outputs": [
        {
          "output_type": "execute_result",
          "data": {
            "text/plain": [
              "(2, 10)"
            ]
          },
          "metadata": {},
          "execution_count": 23
        }
      ]
    },
    {
      "cell_type": "code",
      "source": [
        "X[tf.argmin(X)].numpy() == tf.reduce_min(X).numpy(), X[tf.argmax(X)].numpy() == tf.reduce_max(X).numpy()"
      ],
      "metadata": {
        "colab": {
          "base_uri": "https://localhost:8080/"
        },
        "id": "BUWtXM2kOOOn",
        "outputId": "b38027b3-4e01-4ba3-ba1f-ae84618d6161"
      },
      "execution_count": 27,
      "outputs": [
        {
          "output_type": "execute_result",
          "data": {
            "text/plain": [
              "(True, True)"
            ]
          },
          "metadata": {},
          "execution_count": 27
        }
      ]
    },
    {
      "cell_type": "markdown",
      "source": [
        "## Squeezing a tensor (removing all single dimensions)\n",
        "\n",
        "If you need to remove single-dimensions from a tensor (dimensions with size 1), you can use `tf.squeeze()`.\n",
        "\n",
        "- `tf.squeeze()` - remove all dimensions of 1 from a tensor.\n",
        "\n"
      ],
      "metadata": {
        "id": "MZIMIc-SVaRt"
      }
    },
    {
      "cell_type": "code",
      "source": [
        "X = tf.constant(tf.random.normal(shape=[50]), shape=[1,1,1, 2, 25])\n",
        "X"
      ],
      "metadata": {
        "colab": {
          "base_uri": "https://localhost:8080/"
        },
        "id": "NrJ5RpkOOVor",
        "outputId": "8a4023a6-a0a0-46f0-c332-a63b2ecacd64"
      },
      "execution_count": 28,
      "outputs": [
        {
          "output_type": "execute_result",
          "data": {
            "text/plain": [
              "<tf.Tensor: shape=(1, 1, 1, 2, 25), dtype=float32, numpy=\n",
              "array([[[[[ 0.3274685 , -0.8426258 ,  0.3194337 , -1.4075519 ,\n",
              "           -2.3880599 , -1.0392479 , -0.5573232 ,  0.539707  ,\n",
              "            1.6994323 ,  0.28893656, -1.5066116 , -0.26454744,\n",
              "           -0.59722406, -1.9171132 , -0.62044144,  0.8504023 ,\n",
              "           -0.40604794, -3.0258412 ,  0.9058464 ,  0.29855987,\n",
              "           -0.22561555, -0.7616443 , -1.891714  , -0.9384712 ,\n",
              "            0.77852213],\n",
              "          [-0.47338897,  0.97772694,  0.24694404,  0.20573747,\n",
              "           -0.5256233 ,  0.32410017,  0.02545409, -0.10638497,\n",
              "           -0.6369475 ,  1.1603122 ,  0.2507359 , -0.41728497,\n",
              "            0.40125778, -1.4145442 , -0.59318566, -1.6617213 ,\n",
              "            0.33567193,  0.10815629,  0.2347968 , -0.56668764,\n",
              "           -0.35819843,  0.88698626,  0.5274477 ,  0.70402247,\n",
              "           -0.33421248]]]]], dtype=float32)>"
            ]
          },
          "metadata": {},
          "execution_count": 28
        }
      ]
    },
    {
      "cell_type": "code",
      "source": [
        "tf.squeeze(X)"
      ],
      "metadata": {
        "colab": {
          "base_uri": "https://localhost:8080/"
        },
        "id": "Jc9hDk5KWgap",
        "outputId": "8563d32d-7e96-4593-9c40-c41de27699bc"
      },
      "execution_count": 31,
      "outputs": [
        {
          "output_type": "execute_result",
          "data": {
            "text/plain": [
              "<tf.Tensor: shape=(2, 25), dtype=float32, numpy=\n",
              "array([[ 0.3274685 , -0.8426258 ,  0.3194337 , -1.4075519 , -2.3880599 ,\n",
              "        -1.0392479 , -0.5573232 ,  0.539707  ,  1.6994323 ,  0.28893656,\n",
              "        -1.5066116 , -0.26454744, -0.59722406, -1.9171132 , -0.62044144,\n",
              "         0.8504023 , -0.40604794, -3.0258412 ,  0.9058464 ,  0.29855987,\n",
              "        -0.22561555, -0.7616443 , -1.891714  , -0.9384712 ,  0.77852213],\n",
              "       [-0.47338897,  0.97772694,  0.24694404,  0.20573747, -0.5256233 ,\n",
              "         0.32410017,  0.02545409, -0.10638497, -0.6369475 ,  1.1603122 ,\n",
              "         0.2507359 , -0.41728497,  0.40125778, -1.4145442 , -0.59318566,\n",
              "        -1.6617213 ,  0.33567193,  0.10815629,  0.2347968 , -0.56668764,\n",
              "        -0.35819843,  0.88698626,  0.5274477 ,  0.70402247, -0.33421248]],\n",
              "      dtype=float32)>"
            ]
          },
          "metadata": {},
          "execution_count": 31
        }
      ]
    },
    {
      "cell_type": "markdown",
      "source": [
        "## One-hot encoding\n",
        "\n",
        "If you have a tensor of indicies and would like to *one-hot encode* it, you can use `tf.one_hot()`.\n",
        "\n",
        "You should also specify the `depth` parameter (the level which you want to *one-hot encode* to).\n"
      ],
      "metadata": {
        "id": "yI81w0jIXWab"
      }
    },
    {
      "cell_type": "code",
      "source": [
        "# Create a list of indices\n",
        "some_list = [0, 1, 2, 3]\n",
        "\n",
        "# One hot encode them\n",
        "tf.one_hot(some_list, depth=len(some_list))"
      ],
      "metadata": {
        "colab": {
          "base_uri": "https://localhost:8080/"
        },
        "id": "eMEdK9_nWmE6",
        "outputId": "3e203b02-f344-493f-ec8e-676fd8cb7779"
      },
      "execution_count": 33,
      "outputs": [
        {
          "output_type": "execute_result",
          "data": {
            "text/plain": [
              "<tf.Tensor: shape=(4, 4), dtype=float32, numpy=\n",
              "array([[1., 0., 0., 0.],\n",
              "       [0., 1., 0., 0.],\n",
              "       [0., 0., 1., 0.],\n",
              "       [0., 0., 0., 1.]], dtype=float32)>"
            ]
          },
          "metadata": {},
          "execution_count": 33
        }
      ]
    },
    {
      "cell_type": "markdown",
      "source": [
        "You can also specify values for `on_value` and `off_value` instead of the default 0 and 1."
      ],
      "metadata": {
        "id": "lWYeHBOAZakA"
      }
    },
    {
      "cell_type": "code",
      "source": [
        "# Specify custom values for on and off encoding\n",
        "tf.one_hot(some_list, depth=len(some_list), on_value=\"Alto\", off_value=\"Malto\")"
      ],
      "metadata": {
        "colab": {
          "base_uri": "https://localhost:8080/"
        },
        "id": "R0DLZ294ZIr9",
        "outputId": "928c9654-dd13-4f26-8e60-cd523529946c"
      },
      "execution_count": 34,
      "outputs": [
        {
          "output_type": "execute_result",
          "data": {
            "text/plain": [
              "<tf.Tensor: shape=(4, 4), dtype=string, numpy=\n",
              "array([[b'Alto', b'Malto', b'Malto', b'Malto'],\n",
              "       [b'Malto', b'Alto', b'Malto', b'Malto'],\n",
              "       [b'Malto', b'Malto', b'Alto', b'Malto'],\n",
              "       [b'Malto', b'Malto', b'Malto', b'Alto']], dtype=object)>"
            ]
          },
          "metadata": {},
          "execution_count": 34
        }
      ]
    },
    {
      "cell_type": "markdown",
      "source": [
        "## Squaring, log, square root\n",
        "\n",
        "Many other common mathematical operations you'd like to perform at some stage, probably exist.\n",
        "\n",
        "Let's take a look at:\n",
        "\n",
        "  - tf.square() - get the square of every value in a tensor.\n",
        "  - tf.sqrt() - get the squareroot of every value in a tensor (note: the elements need to be floats or this will error).\n",
        "  - tf.math.log() - get the natural log of every value in a tensor (elements need to floats).\n",
        "\n"
      ],
      "metadata": {
        "id": "L4fsm6DNaIsd"
      }
    },
    {
      "cell_type": "code",
      "source": [
        "tf.random.set_seed(42)\n",
        "X = tf.constant(tf.random.uniform(shape=[20]), shape=[2, 2, 5])\n",
        "X"
      ],
      "metadata": {
        "colab": {
          "base_uri": "https://localhost:8080/"
        },
        "id": "PsdZaZufZy3d",
        "outputId": "8759728f-efe1-47ae-96c1-ca4df5cb43d8"
      },
      "execution_count": 38,
      "outputs": [
        {
          "output_type": "execute_result",
          "data": {
            "text/plain": [
              "<tf.Tensor: shape=(2, 2, 5), dtype=float32, numpy=\n",
              "array([[[0.6645621 , 0.44100678, 0.3528825 , 0.46448255, 0.03366041],\n",
              "        [0.68467236, 0.74011743, 0.8724445 , 0.22632635, 0.22319686]],\n",
              "\n",
              "       [[0.3103881 , 0.7223358 , 0.13318717, 0.5480639 , 0.5746088 ],\n",
              "        [0.8996835 , 0.00946367, 0.5212307 , 0.6345445 , 0.1993283 ]]],\n",
              "      dtype=float32)>"
            ]
          },
          "metadata": {},
          "execution_count": 38
        }
      ]
    },
    {
      "cell_type": "code",
      "source": [
        "tf.square(X)"
      ],
      "metadata": {
        "colab": {
          "base_uri": "https://localhost:8080/"
        },
        "id": "kRAZmrCAa2BP",
        "outputId": "3db18f45-f79e-4075-ff57-710a79d55253"
      },
      "execution_count": 39,
      "outputs": [
        {
          "output_type": "execute_result",
          "data": {
            "text/plain": [
              "<tf.Tensor: shape=(2, 2, 5), dtype=float32, numpy=\n",
              "array([[[4.4164279e-01, 1.9448698e-01, 1.2452606e-01, 2.1574403e-01,\n",
              "         1.1330233e-03],\n",
              "        [4.6877623e-01, 5.4777384e-01, 7.6115942e-01, 5.1223613e-02,\n",
              "         4.9816839e-02]],\n",
              "\n",
              "       [[9.6340768e-02, 5.2176905e-01, 1.7738823e-02, 3.0037400e-01,\n",
              "         3.3017528e-01],\n",
              "        [8.0943036e-01, 8.9561006e-05, 2.7168143e-01, 4.0264672e-01,\n",
              "         3.9731771e-02]]], dtype=float32)>"
            ]
          },
          "metadata": {},
          "execution_count": 39
        }
      ]
    },
    {
      "cell_type": "code",
      "source": [
        "tf.sqrt(X)"
      ],
      "metadata": {
        "colab": {
          "base_uri": "https://localhost:8080/"
        },
        "id": "3pNY5LoBbGgc",
        "outputId": "a64dbd0d-378e-4128-afe2-f969590c47d2"
      },
      "execution_count": 40,
      "outputs": [
        {
          "output_type": "execute_result",
          "data": {
            "text/plain": [
              "<tf.Tensor: shape=(2, 2, 5), dtype=float32, numpy=\n",
              "array([[[0.81520677, 0.6640834 , 0.59403914, 0.6815296 , 0.18346775],\n",
              "        [0.8274493 , 0.8603008 , 0.9340474 , 0.4757377 , 0.47243714]],\n",
              "\n",
              "       [[0.55712485, 0.8499034 , 0.36494818, 0.74031335, 0.7580296 ],\n",
              "        [0.9485165 , 0.09728138, 0.7219631 , 0.796583  , 0.44646198]]],\n",
              "      dtype=float32)>"
            ]
          },
          "metadata": {},
          "execution_count": 40
        }
      ]
    },
    {
      "cell_type": "code",
      "source": [
        "tf.math.log(X)"
      ],
      "metadata": {
        "colab": {
          "base_uri": "https://localhost:8080/"
        },
        "id": "twkGNVSZbNF0",
        "outputId": "6c6fd4d2-ae68-4aa4-e3dd-fe26740b00ed"
      },
      "execution_count": 42,
      "outputs": [
        {
          "output_type": "execute_result",
          "data": {
            "text/plain": [
              "<tf.Tensor: shape=(2, 2, 5), dtype=float32, numpy=\n",
              "array([[[-0.40862694, -0.818695  , -1.0416201 , -0.7668313 ,\n",
              "         -3.3914328 ],\n",
              "        [-0.37881485, -0.3009464 , -0.13645622, -1.4857774 ,\n",
              "         -1.4997011 ]],\n",
              "\n",
              "       [[-1.1699319 , -0.32526514, -2.0159998 , -0.6013634 ,\n",
              "         -0.5540658 ],\n",
              "        [-0.10571226, -4.660295  , -0.6515625 , -0.45484787,\n",
              "         -1.612802  ]]], dtype=float32)>"
            ]
          },
          "metadata": {},
          "execution_count": 42
        }
      ]
    },
    {
      "cell_type": "markdown",
      "source": [
        "## Manipulating `tf.Variable` tensors\n",
        "\n",
        "Tensors created with `tf.Variable()` can be changed in place using methods such as:\n",
        "\n",
        "  - `.assign()` - assign a different value to a particular index of a variable tensor.\n",
        "  - `.add_assign()` - add to an existing value and reassign it at a particular index of a variable tensor.\n",
        "\n"
      ],
      "metadata": {
        "id": "71hH8ZoDbmgM"
      }
    },
    {
      "cell_type": "code",
      "source": [
        "# Create a variable tensor\n",
        "X = tf.Variable(np.arange(5))\n",
        "X"
      ],
      "metadata": {
        "colab": {
          "base_uri": "https://localhost:8080/"
        },
        "id": "uIZy45F0bRy5",
        "outputId": "e4699636-93c4-49eb-b544-7903cd9aee24"
      },
      "execution_count": 43,
      "outputs": [
        {
          "output_type": "execute_result",
          "data": {
            "text/plain": [
              "<tf.Variable 'Variable:0' shape=(5,) dtype=int64, numpy=array([0, 1, 2, 3, 4])>"
            ]
          },
          "metadata": {},
          "execution_count": 43
        }
      ]
    },
    {
      "cell_type": "code",
      "source": [
        "X.assign([0, 1, 2, 3, 50])"
      ],
      "metadata": {
        "colab": {
          "base_uri": "https://localhost:8080/"
        },
        "id": "ZFBOWiHUcS8a",
        "outputId": "7cb73efe-1c00-4a71-dfbb-7d11e9988add"
      },
      "execution_count": 44,
      "outputs": [
        {
          "output_type": "execute_result",
          "data": {
            "text/plain": [
              "<tf.Variable 'UnreadVariable' shape=(5,) dtype=int64, numpy=array([ 0,  1,  2,  3, 50])>"
            ]
          },
          "metadata": {},
          "execution_count": 44
        }
      ]
    },
    {
      "cell_type": "code",
      "source": [
        "X"
      ],
      "metadata": {
        "colab": {
          "base_uri": "https://localhost:8080/"
        },
        "id": "G6oKYK0gcscf",
        "outputId": "edb076f4-8b8c-4467-f02e-b3d258972c42"
      },
      "execution_count": 45,
      "outputs": [
        {
          "output_type": "execute_result",
          "data": {
            "text/plain": [
              "<tf.Variable 'Variable:0' shape=(5,) dtype=int64, numpy=array([ 0,  1,  2,  3, 50])>"
            ]
          },
          "metadata": {},
          "execution_count": 45
        }
      ]
    },
    {
      "cell_type": "code",
      "source": [
        "# add 10 to specified elmt\n",
        "X.assign_add([0, 0, 10, 0, 10])"
      ],
      "metadata": {
        "colab": {
          "base_uri": "https://localhost:8080/"
        },
        "id": "F9TigBoqcuf3",
        "outputId": "08cbb15f-cb9e-4780-8d64-e1a075d33ffa"
      },
      "execution_count": 46,
      "outputs": [
        {
          "output_type": "execute_result",
          "data": {
            "text/plain": [
              "<tf.Variable 'UnreadVariable' shape=(5,) dtype=int64, numpy=array([ 0,  1, 12,  3, 60])>"
            ]
          },
          "metadata": {},
          "execution_count": 46
        }
      ]
    },
    {
      "cell_type": "code",
      "source": [
        "X"
      ],
      "metadata": {
        "colab": {
          "base_uri": "https://localhost:8080/"
        },
        "id": "f1ECWm0_dCPU",
        "outputId": "e7cc8070-6a97-4b95-b14d-c068eced3671"
      },
      "execution_count": 47,
      "outputs": [
        {
          "output_type": "execute_result",
          "data": {
            "text/plain": [
              "<tf.Variable 'Variable:0' shape=(5,) dtype=int64, numpy=array([ 0,  1, 12,  3, 60])>"
            ]
          },
          "metadata": {},
          "execution_count": 47
        }
      ]
    },
    {
      "cell_type": "markdown",
      "source": [
        "# ⚒ Exercises"
      ],
      "metadata": {
        "id": "iFnIPvvsmwM7"
      }
    },
    {
      "cell_type": "markdown",
      "source": [
        "1- Create a vector, scalar, matrix and tensor with values of your choosing using `tf.constant()`."
      ],
      "metadata": {
        "id": "ji6wzDX6nMUD"
      }
    },
    {
      "cell_type": "code",
      "source": [
        "# vector\n",
        "vector = tf.constant([10, 7])\n",
        "scalar = tf.constant(-10)\n",
        "matrix = tf.constant(np.arange(6).reshape(2, 3))\n",
        "tensor = tf.constant(tf.random.uniform(shape=[10]), shape=[1, 2, 5])\n",
        "\n",
        "print(f\"Vector: {vector}\")\n",
        "print(f\"Scalar: {scalar}\")\n",
        "print(f\"Matrix: {matrix}\")\n",
        "print(f\"Tensor: {tensor}\")"
      ],
      "metadata": {
        "colab": {
          "base_uri": "https://localhost:8080/"
        },
        "id": "pmOebfaSdGZn",
        "outputId": "075d827a-7d45-44b2-b2f6-67b11c7fa3b2"
      },
      "execution_count": 50,
      "outputs": [
        {
          "output_type": "stream",
          "name": "stdout",
          "text": [
            "Vector: [10  7]\n",
            "Scalar: -10\n",
            "Matrix: [[0 1 2]\n",
            " [3 4 5]]\n",
            "Tensor: [[[0.7413678  0.62854624 0.01738465 0.3431449  0.51063764]\n",
            "  [0.3777541  0.07321596 0.02137029 0.2871771  0.4710616 ]]]\n"
          ]
        }
      ]
    },
    {
      "cell_type": "markdown",
      "source": [
        "2- Find the shape, rank and size of the tensors you created in 1."
      ],
      "metadata": {
        "id": "fwIjhnz_oUOr"
      }
    },
    {
      "cell_type": "code",
      "source": [
        "print(f\"tensor's shape: {tensor.shape}\")\n",
        "print(f\"tensor's rank: {tensor.ndim}\")\n",
        "print(f\"tensor's size: {tf.size(tensor).numpy()}\")"
      ],
      "metadata": {
        "colab": {
          "base_uri": "https://localhost:8080/"
        },
        "id": "xvqgs5dGoKFJ",
        "outputId": "6053488e-a375-4549-fdb2-bf267cee2abc"
      },
      "execution_count": 53,
      "outputs": [
        {
          "output_type": "stream",
          "name": "stdout",
          "text": [
            "tensor's shape: (1, 2, 5)\n",
            "tensor's rank: 3\n",
            "tensor's size: 10\n"
          ]
        }
      ]
    },
    {
      "cell_type": "markdown",
      "source": [
        "3- Create two tensors containing random values between 0 and 1 with shape **[5, 300]**."
      ],
      "metadata": {
        "id": "d_d1cVyvpSCi"
      }
    },
    {
      "cell_type": "code",
      "source": [
        "tf.random.set_seed(42)\n",
        "t1 = tf.constant(tf.random.Generator.from_seed(11).normal([1500]), shape=[5, 300])\n",
        "t2 = tf.constant(tf.random.Generator.from_seed(0).normal([1500]), shape=[5, 300])"
      ],
      "metadata": {
        "id": "HHxoEmuipA3S"
      },
      "execution_count": 59,
      "outputs": []
    },
    {
      "cell_type": "markdown",
      "source": [
        "4- Multiply the two tensors you created in 3 using matrix multiplication."
      ],
      "metadata": {
        "id": "OxKbfjwXqpXy"
      }
    },
    {
      "cell_type": "code",
      "source": [
        "tf.multiply(t1, t2)"
      ],
      "metadata": {
        "colab": {
          "base_uri": "https://localhost:8080/"
        },
        "id": "ergcjSLKp2Ek",
        "outputId": "ea22f48c-183e-4563-87a2-7ba166ced850"
      },
      "execution_count": 62,
      "outputs": [
        {
          "output_type": "execute_result",
          "data": {
            "text/plain": [
              "<tf.Tensor: shape=(5, 300), dtype=float32, numpy=\n",
              "array([[-0.36983323, -0.21084082, -0.01339012, ...,  1.3288081 ,\n",
              "         0.55107135, -2.238598  ],\n",
              "       [-0.0274937 ,  0.89795834, -1.1173551 , ...,  0.3287101 ,\n",
              "        -0.23695119, -0.24585034],\n",
              "       [ 1.0972733 ,  0.7844745 , -1.5798781 , ...,  1.2990292 ,\n",
              "         1.3042287 ,  0.14574468],\n",
              "       [ 0.5478722 , -2.4364238 ,  0.886092  , ..., -0.3075834 ,\n",
              "        -0.6560619 , -0.13849919],\n",
              "       [-0.377499  ,  3.926146  ,  0.00565094, ..., -0.25399336,\n",
              "         0.42198053,  0.01614748]], dtype=float32)>"
            ]
          },
          "metadata": {},
          "execution_count": 62
        }
      ]
    },
    {
      "cell_type": "markdown",
      "source": [
        "5- Multiply the two tensors you created in 3 using dot product."
      ],
      "metadata": {
        "id": "Frk3RZsEq8UM"
      }
    },
    {
      "cell_type": "code",
      "source": [
        "t1 @ tf.transpose(t2)"
      ],
      "metadata": {
        "colab": {
          "base_uri": "https://localhost:8080/"
        },
        "id": "1knafkqrquRl",
        "outputId": "1d103255-1daa-4acb-dd11-ab1bdb3eb36a"
      },
      "execution_count": 63,
      "outputs": [
        {
          "output_type": "execute_result",
          "data": {
            "text/plain": [
              "<tf.Tensor: shape=(5, 5), dtype=float32, numpy=\n",
              "array([[  3.1210232 ,   3.2888627 ,   8.297836  ,  -1.451191  ,\n",
              "         -7.3697224 ],\n",
              "       [-18.10816   , -18.764696  , -27.459526  ,  12.604954  ,\n",
              "          0.14727974],\n",
              "       [  5.0728436 , -11.478337  ,   5.703663  ,  16.322529  ,\n",
              "        -15.3699665 ],\n",
              "       [  5.519634  ,  26.575495  ,   4.1808796 , -22.323376  ,\n",
              "        -26.261166  ],\n",
              "       [  1.581779  , -10.221226  ,  -0.21439886,   9.751976  ,\n",
              "         32.283863  ]], dtype=float32)>"
            ]
          },
          "metadata": {},
          "execution_count": 63
        }
      ]
    },
    {
      "cell_type": "markdown",
      "source": [
        "6- Create a tensor with random values between 0 and 1 with shape **[224, 224, 3]**."
      ],
      "metadata": {
        "id": "KEanHmLCrRVa"
      }
    },
    {
      "cell_type": "code",
      "source": [
        "tf.random.set_seed(42)\n",
        "t = tf.constant(np.random.random(150528), shape=[224, 224, 3])\n",
        "t"
      ],
      "metadata": {
        "colab": {
          "base_uri": "https://localhost:8080/"
        },
        "id": "pJVdlHr2rLa2",
        "outputId": "7d0abdc7-a5f1-419a-d99f-83fa6872258a"
      },
      "execution_count": 70,
      "outputs": [
        {
          "output_type": "execute_result",
          "data": {
            "text/plain": [
              "<tf.Tensor: shape=(224, 224, 3), dtype=float64, numpy=\n",
              "array([[[0.4746618 , 0.81734755, 0.6407131 ],\n",
              "        [0.35371027, 0.5845787 , 0.71074949],\n",
              "        [0.86070341, 0.54623045, 0.90385902],\n",
              "        ...,\n",
              "        [0.49490036, 0.69689467, 0.4270169 ],\n",
              "        [0.31606207, 0.34809655, 0.91568333],\n",
              "        [0.23891109, 0.83162285, 0.27421128]],\n",
              "\n",
              "       [[0.01884424, 0.12142444, 0.43042634],\n",
              "        [0.51242689, 0.38548924, 0.94250766],\n",
              "        [0.72239713, 0.30981962, 0.72801477],\n",
              "        ...,\n",
              "        [0.59902336, 0.70735435, 0.88550088],\n",
              "        [0.73961412, 0.57519137, 0.77412936],\n",
              "        [0.99491094, 0.20003705, 0.80496102]],\n",
              "\n",
              "       [[0.25007182, 0.34424751, 0.18101387],\n",
              "        [0.10948813, 0.34515465, 0.44522458],\n",
              "        [0.11958013, 0.07757852, 0.67351958],\n",
              "        ...,\n",
              "        [0.72511363, 0.79563596, 0.08432173],\n",
              "        [0.75061412, 0.00468549, 0.58613692],\n",
              "        [0.31973649, 0.82138747, 0.68875271]],\n",
              "\n",
              "       ...,\n",
              "\n",
              "       [[0.38570838, 0.86836846, 0.05169172],\n",
              "        [0.63723372, 0.92590981, 0.89741376],\n",
              "        [0.06551255, 0.17927431, 0.23199776],\n",
              "        ...,\n",
              "        [0.77839355, 0.68115487, 0.5627464 ],\n",
              "        [0.7840665 , 0.28267668, 0.57219669],\n",
              "        [0.28735225, 0.21500282, 0.36232576]],\n",
              "\n",
              "       [[0.74711631, 0.48365957, 0.03598228],\n",
              "        [0.22009311, 0.92600463, 0.02466959],\n",
              "        [0.79950661, 0.64095812, 0.88676359],\n",
              "        ...,\n",
              "        [0.30198284, 0.25719214, 0.2749054 ],\n",
              "        [0.49476452, 0.4313601 , 0.60631926],\n",
              "        [0.43407966, 0.39016374, 0.51755884]],\n",
              "\n",
              "       [[0.28879928, 0.94428078, 0.20677643],\n",
              "        [0.83797643, 0.59264304, 0.73087771],\n",
              "        [0.24189331, 0.94501505, 0.22744394],\n",
              "        ...,\n",
              "        [0.21430624, 0.51919428, 0.47249209],\n",
              "        [0.55021382, 0.95649   , 0.04227093],\n",
              "        [0.66110806, 0.14065852, 0.99081143]]])>"
            ]
          },
          "metadata": {},
          "execution_count": 70
        }
      ]
    },
    {
      "cell_type": "markdown",
      "source": [
        "7- Find the min and max values of the tensor you created in 6."
      ],
      "metadata": {
        "id": "36pH-2fbr8_6"
      }
    },
    {
      "cell_type": "code",
      "source": [
        "tf.reduce_min(t).numpy(), tf.reduce_max(t).numpy()"
      ],
      "metadata": {
        "colab": {
          "base_uri": "https://localhost:8080/"
        },
        "id": "j_N-TJ7gry-S",
        "outputId": "a57af85a-d1cd-45a8-c6dc-5890824f80cb"
      },
      "execution_count": 71,
      "outputs": [
        {
          "output_type": "execute_result",
          "data": {
            "text/plain": [
              "(8.367880253490334e-06, 0.9999978150376678)"
            ]
          },
          "metadata": {},
          "execution_count": 71
        }
      ]
    },
    {
      "cell_type": "markdown",
      "source": [
        "8- Created a tensor with random values of shape **[1, 224, 224, 3]** then squeeze it to change the shape to **[224, 224, 3]**."
      ],
      "metadata": {
        "id": "yQmnGlZps-Cm"
      }
    },
    {
      "cell_type": "code",
      "source": [
        "t = tf.constant(tf.random.uniform([150528]), shape=[1, 224, 224, 3])\n",
        "tf.squeeze(t)"
      ],
      "metadata": {
        "colab": {
          "base_uri": "https://localhost:8080/"
        },
        "id": "tb6Nf00DsHkI",
        "outputId": "344800f7-b01f-4dbd-feb1-5af21f709299"
      },
      "execution_count": 72,
      "outputs": [
        {
          "output_type": "execute_result",
          "data": {
            "text/plain": [
              "<tf.Tensor: shape=(224, 224, 3), dtype=float32, numpy=\n",
              "array([[[0.6645621 , 0.44100678, 0.3528825 ],\n",
              "        [0.46448255, 0.03366041, 0.68467236],\n",
              "        [0.74011743, 0.8724445 , 0.22632635],\n",
              "        ...,\n",
              "        [0.42612267, 0.09686017, 0.16105258],\n",
              "        [0.1487099 , 0.04513884, 0.9497483 ],\n",
              "        [0.4393103 , 0.28527975, 0.96971095]],\n",
              "\n",
              "       [[0.73308516, 0.5657046 , 0.33238935],\n",
              "        [0.8838178 , 0.87544763, 0.56711245],\n",
              "        [0.8879347 , 0.47661996, 0.42041814],\n",
              "        ...,\n",
              "        [0.7716515 , 0.9116473 , 0.3229897 ],\n",
              "        [0.43050945, 0.83253574, 0.45549798],\n",
              "        [0.29816985, 0.9639522 , 0.3316357 ]],\n",
              "\n",
              "       [[0.41132426, 0.2179662 , 0.53570235],\n",
              "        [0.5112119 , 0.6484759 , 0.8894886 ],\n",
              "        [0.42459428, 0.20189774, 0.85781324],\n",
              "        ...,\n",
              "        [0.02888799, 0.3995477 , 0.11355484],\n",
              "        [0.68524575, 0.04945195, 0.17778492],\n",
              "        [0.97627187, 0.79811585, 0.9411576 ]],\n",
              "\n",
              "       ...,\n",
              "\n",
              "       [[0.9019445 , 0.27011132, 0.8090267 ],\n",
              "        [0.32395256, 0.6672456 , 0.940673  ],\n",
              "        [0.7166116 , 0.8860713 , 0.6777594 ],\n",
              "        ...,\n",
              "        [0.8318608 , 0.39227867, 0.68916583],\n",
              "        [0.1599741 , 0.46428144, 0.4656595 ],\n",
              "        [0.8619243 , 0.24755931, 0.33835268]],\n",
              "\n",
              "       [[0.47570062, 0.09377229, 0.11811328],\n",
              "        [0.0523994 , 0.38206005, 0.12188685],\n",
              "        [0.2757113 , 0.44918692, 0.9179864 ],\n",
              "        ...,\n",
              "        [0.4974177 , 0.4562863 , 0.8261535 ],\n",
              "        [0.60251105, 0.27676368, 0.258716  ],\n",
              "        [0.7977431 , 0.74125385, 0.76062095]],\n",
              "\n",
              "       [[0.4755299 , 0.4661665 , 0.14167643],\n",
              "        [0.9103775 , 0.41117966, 0.83182037],\n",
              "        [0.79765654, 0.38330686, 0.5313202 ],\n",
              "        ...,\n",
              "        [0.94517136, 0.17730081, 0.00362825],\n",
              "        [0.6170398 , 0.9977623 , 0.8315122 ],\n",
              "        [0.6683676 , 0.68716586, 0.4447713 ]]], dtype=float32)>"
            ]
          },
          "metadata": {},
          "execution_count": 72
        }
      ]
    },
    {
      "cell_type": "markdown",
      "source": [
        "9- Create a tensor with shape **[10]** using your own choice of values, then find the index which has the maximum value."
      ],
      "metadata": {
        "id": "o5QVLV0et-f2"
      }
    },
    {
      "cell_type": "code",
      "source": [
        "t = tf.constant(np.random.random(10), shape=[10])\n",
        "tf.argmin(t).numpy(), tf.argmax(t).numpy()"
      ],
      "metadata": {
        "colab": {
          "base_uri": "https://localhost:8080/"
        },
        "id": "02Khi0k8tyjW",
        "outputId": "89317569-8f56-49a8-c0d7-ecd64724d97c"
      },
      "execution_count": 73,
      "outputs": [
        {
          "output_type": "execute_result",
          "data": {
            "text/plain": [
              "(1, 0)"
            ]
          },
          "metadata": {},
          "execution_count": 73
        }
      ]
    },
    {
      "cell_type": "code",
      "source": [
        "t[tf.argmin(t)].numpy(), t[tf.argmax(t)].numpy()"
      ],
      "metadata": {
        "colab": {
          "base_uri": "https://localhost:8080/"
        },
        "id": "IHyYHV0duY2o",
        "outputId": "c6e93548-d4bb-4cdc-cec4-fa85f50ce3bb"
      },
      "execution_count": 74,
      "outputs": [
        {
          "output_type": "execute_result",
          "data": {
            "text/plain": [
              "(0.06013595105683489, 0.9249000175130836)"
            ]
          },
          "metadata": {},
          "execution_count": 74
        }
      ]
    },
    {
      "cell_type": "markdown",
      "source": [
        "10- One-hot encode the tensor you created in 9."
      ],
      "metadata": {
        "id": "xryFJ2gauwzW"
      }
    },
    {
      "cell_type": "code",
      "source": [
        "len(t)"
      ],
      "metadata": {
        "colab": {
          "base_uri": "https://localhost:8080/"
        },
        "id": "VHVufLjAvHho",
        "outputId": "24b38901-d4e9-434c-c4fd-cd3c03220eab"
      },
      "execution_count": 76,
      "outputs": [
        {
          "output_type": "execute_result",
          "data": {
            "text/plain": [
              "10"
            ]
          },
          "metadata": {},
          "execution_count": 76
        }
      ]
    },
    {
      "cell_type": "code",
      "source": [
        "t.numpy()"
      ],
      "metadata": {
        "colab": {
          "base_uri": "https://localhost:8080/"
        },
        "id": "IXKiL20Gvn0y",
        "outputId": "cdd0a36f-2e38-478d-84fc-3ac3cf61d6ca"
      },
      "execution_count": 81,
      "outputs": [
        {
          "output_type": "execute_result",
          "data": {
            "text/plain": [
              "array([0.92490002, 0.06013595, 0.13900964, 0.1748727 , 0.66929018,\n",
              "       0.82796044, 0.59758386, 0.51597447, 0.18174689, 0.36710101])"
            ]
          },
          "metadata": {},
          "execution_count": 81
        }
      ]
    },
    {
      "cell_type": "code",
      "source": [
        "tf.one_hot(t.numpy(), depth=len(t))"
      ],
      "metadata": {
        "colab": {
          "base_uri": "https://localhost:8080/"
        },
        "id": "h0IGPT75ur_y",
        "outputId": "73e10838-13bd-4651-c427-c051627620f8"
      },
      "execution_count": 79,
      "outputs": [
        {
          "output_type": "execute_result",
          "data": {
            "text/plain": [
              "<tf.Tensor: shape=(10, 10), dtype=float32, numpy=\n",
              "array([[1., 0., 0., 0., 0., 0., 0., 0., 0., 0.],\n",
              "       [1., 0., 0., 0., 0., 0., 0., 0., 0., 0.],\n",
              "       [1., 0., 0., 0., 0., 0., 0., 0., 0., 0.],\n",
              "       [1., 0., 0., 0., 0., 0., 0., 0., 0., 0.],\n",
              "       [1., 0., 0., 0., 0., 0., 0., 0., 0., 0.],\n",
              "       [1., 0., 0., 0., 0., 0., 0., 0., 0., 0.],\n",
              "       [1., 0., 0., 0., 0., 0., 0., 0., 0., 0.],\n",
              "       [1., 0., 0., 0., 0., 0., 0., 0., 0., 0.],\n",
              "       [1., 0., 0., 0., 0., 0., 0., 0., 0., 0.],\n",
              "       [1., 0., 0., 0., 0., 0., 0., 0., 0., 0.]], dtype=float32)>"
            ]
          },
          "metadata": {},
          "execution_count": 79
        }
      ]
    },
    {
      "cell_type": "code",
      "source": [],
      "metadata": {
        "id": "ZbiOmoRuu6e1"
      },
      "execution_count": null,
      "outputs": []
    }
  ]
}