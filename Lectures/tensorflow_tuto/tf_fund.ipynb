{
 "cells": [
  {
   "cell_type": "code",
   "execution_count": 5,
   "id": "6fb6127b-566f-4c60-9d92-09f971a73f31",
   "metadata": {},
   "outputs": [
    {
     "name": "stdout",
     "output_type": "stream",
     "text": [
      "2.10.0\n"
     ]
    }
   ],
   "source": [
    "import tensorflow as tf\n",
    "import numpy as np\n",
    "\n",
    "\n",
    "print(tf.__version__)"
   ]
  },
  {
   "cell_type": "markdown",
   "id": "f3b09735-6bb2-44bc-8f4c-0a8302b184be",
   "metadata": {},
   "source": [
    "# 1. Create a vector, scalar, matrix and tensor with values of your choosing using `tf.constant()`."
   ]
  },
  {
   "cell_type": "markdown",
   "id": "9c736ac3-88b4-4b7a-afc4-bfe3a6c8b6f8",
   "metadata": {},
   "source": [
    "## Verctor"
   ]
  },
  {
   "cell_type": "code",
   "execution_count": 2,
   "id": "bfd34485-ceb6-48e6-8250-eb64129589eb",
   "metadata": {},
   "outputs": [
    {
     "name": "stderr",
     "output_type": "stream",
     "text": [
      "2022-12-03 10:14:52.201817: I tensorflow/core/platform/cpu_feature_guard.cc:193] This TensorFlow binary is optimized with oneAPI Deep Neural Network Library (oneDNN) to use the following CPU instructions in performance-critical operations:  SSE4.1 SSE4.2 AVX AVX2 FMA\n",
      "To enable them in other operations, rebuild TensorFlow with the appropriate compiler flags.\n"
     ]
    },
    {
     "data": {
      "text/plain": [
       "<tf.Tensor: shape=(3,), dtype=float32, numpy=array([ 23.09874 , -23.705032,  22.777348], dtype=float32)>"
      ]
     },
     "execution_count": 2,
     "metadata": {},
     "output_type": "execute_result"
    }
   ],
   "source": [
    "tf.random.set_seed(42)\n",
    "vector = tf.constant(tf.random.normal([3], 10, 40, dtype=tf.float32))\n",
    "vector"
   ]
  },
  {
   "cell_type": "markdown",
   "id": "f5211f2d-14b9-48ed-97f3-27d10c20554a",
   "metadata": {},
   "source": [
    "## Scalar"
   ]
  },
  {
   "cell_type": "code",
   "execution_count": 3,
   "id": "3a79659d-8e93-4b78-b462-c31e1c344a7d",
   "metadata": {},
   "outputs": [
    {
     "data": {
      "text/plain": [
       "<tf.Tensor: shape=(1,), dtype=float32, numpy=array([10.], dtype=float32)>"
      ]
     },
     "execution_count": 3,
     "metadata": {},
     "output_type": "execute_result"
    }
   ],
   "source": [
    "scalar = tf.constant([10], dtype=tf.float32)\n",
    "scalar"
   ]
  },
  {
   "cell_type": "markdown",
   "id": "e13799a4-4eb9-4855-ac61-a2eba02bc68a",
   "metadata": {},
   "source": [
    "## Matrix"
   ]
  },
  {
   "cell_type": "code",
   "execution_count": 6,
   "id": "27199583-c220-474f-8cf4-425092df280c",
   "metadata": {},
   "outputs": [
    {
     "data": {
      "text/plain": [
       "<tf.Tensor: shape=(2, 5), dtype=float32, numpy=\n",
       "array([[0., 1., 2., 3., 4.],\n",
       "       [5., 6., 7., 8., 9.]], dtype=float32)>"
      ]
     },
     "execution_count": 6,
     "metadata": {},
     "output_type": "execute_result"
    }
   ],
   "source": [
    "matrix = tf.constant(np.arange(0, 10).reshape(2, 5), dtype=tf.float32)\n",
    "matrix"
   ]
  },
  {
   "cell_type": "markdown",
   "id": "bc852be5-ac7e-427c-877e-a6dc4a5c2b59",
   "metadata": {},
   "source": [
    "## Tensor"
   ]
  },
  {
   "cell_type": "code",
   "execution_count": 11,
   "id": "9770cc2d-146d-459c-bc2e-5fe1c8103562",
   "metadata": {},
   "outputs": [
    {
     "data": {
      "text/plain": [
       "<tf.Tensor: shape=(150, 150, 3), dtype=float32, numpy=\n",
       "array([[[ 3.27468514e-01, -8.42625797e-01,  3.19433689e-01],\n",
       "        [-1.40755188e+00, -2.38805985e+00, -1.03924787e+00],\n",
       "        [-5.57323217e-01,  5.39707005e-01,  1.69943225e+00],\n",
       "        ...,\n",
       "        [ 9.34684873e-02,  4.64972824e-01, -1.36276677e-01],\n",
       "        [ 1.95608902e+00,  1.33834195e+00, -1.66000390e+00],\n",
       "        [ 5.86475611e-01, -4.42954361e-01, -1.41154170e-01]],\n",
       "\n",
       "       [[-2.09318233e+00,  8.33342791e-01,  8.95059109e-01],\n",
       "        [-1.28661513e+00, -6.66700542e-01,  1.59461153e+00],\n",
       "        [-7.55213678e-01, -6.30860865e-01,  2.24478078e+00],\n",
       "        ...,\n",
       "        [ 1.69578862e+00,  7.40815327e-02, -8.82063448e-01],\n",
       "        [-5.82517311e-03, -2.61725575e-01,  7.83099353e-01],\n",
       "        [ 1.74183771e-01,  9.49244946e-03,  2.07736522e-01]],\n",
       "\n",
       "       [[-6.69199169e-01, -3.93965244e-01, -2.24405956e+00],\n",
       "        [-2.15216398e-01,  4.34078664e-01, -4.06771898e-01],\n",
       "        [-8.01864743e-01,  1.32630324e+00,  3.00820976e-01],\n",
       "        ...,\n",
       "        [-3.73793095e-01,  2.36102596e-01, -1.32976457e-01],\n",
       "        [ 1.30603790e+00,  2.66480178e-01, -7.86444172e-02],\n",
       "        [-1.11452603e+00, -5.95571995e-01,  7.15230644e-01]],\n",
       "\n",
       "       ...,\n",
       "\n",
       "       [[ 1.29403457e-01,  1.76266563e+00,  9.87055242e-01],\n",
       "        [ 9.17087197e-01, -1.95136595e+00,  4.30637270e-01],\n",
       "        [ 2.39488527e-01, -4.04070228e-01,  1.74154413e+00],\n",
       "        ...,\n",
       "        [ 1.16825089e-01,  1.74032700e+00,  6.73713744e-01],\n",
       "        [-6.77735150e-01, -4.34599519e-01, -1.21036756e+00],\n",
       "        [ 1.23830587e-01, -7.43971989e-02,  8.61152589e-01]],\n",
       "\n",
       "       [[-1.58154833e+00,  1.06416500e+00,  6.03517771e-01],\n",
       "        [-7.35554814e-01, -7.82273889e-01, -4.98920619e-01],\n",
       "        [-7.11242259e-01, -4.07328904e-02,  4.33404058e-01],\n",
       "        ...,\n",
       "        [ 6.47110224e-01, -3.63248736e-01, -1.81482673e-01],\n",
       "        [-1.23433697e+00, -1.17918718e+00,  9.29461241e-01],\n",
       "        [ 2.40700811e-01, -1.19219887e+00, -2.44434195e-04]],\n",
       "\n",
       "       [[ 1.64537609e+00, -1.15152442e+00,  5.96395254e-01],\n",
       "        [-6.37223125e-01,  1.79279530e+00,  2.96318144e-01],\n",
       "        [-1.07254004e+00, -1.78530765e+00, -5.05396247e-01],\n",
       "        ...,\n",
       "        [ 1.50614142e+00,  4.03185338e-01,  2.65818626e-01],\n",
       "        [-6.32573068e-01, -1.04939699e+00, -1.33964509e-01],\n",
       "        [ 2.89591372e-01,  1.60722780e+00,  1.04037635e-02]]],\n",
       "      dtype=float32)>"
      ]
     },
     "execution_count": 11,
     "metadata": {},
     "output_type": "execute_result"
    }
   ],
   "source": [
    "tf.random.set_seed(42)\n",
    "tensor = tf.constant(tf.random.normal([150, 150, 3], 0, 1, dtype=tf.float32))\n",
    "tensor"
   ]
  },
  {
   "cell_type": "markdown",
   "id": "6366b536-a456-4e5f-ae0d-de58b7d1324c",
   "metadata": {},
   "source": [
    "# 2. Find the shape, rank and size of the tensors you created in 1."
   ]
  },
  {
   "cell_type": "code",
   "execution_count": 12,
   "id": "c57db398-280b-47bb-8696-548cda162cf4",
   "metadata": {},
   "outputs": [],
   "source": [
    "def tensor_info(tensor):\n",
    "    print(f\"Tensor shape: {tensor.shape}\")\n",
    "    print(f\"Tensor rank: {tensor.ndim}\")\n",
    "    print(f\"Tensor size: {tf.size(tensor).numpy()}\")"
   ]
  },
  {
   "cell_type": "code",
   "execution_count": 13,
   "id": "29e37913-940c-4c7a-b048-5839a34ce44c",
   "metadata": {},
   "outputs": [
    {
     "name": "stdout",
     "output_type": "stream",
     "text": [
      "Tensor shape: (150, 150, 3)\n",
      "Tensor rank: 3\n",
      "Tensor size: 67500\n"
     ]
    }
   ],
   "source": [
    "tensor_info(tensor)"
   ]
  },
  {
   "cell_type": "markdown",
   "id": "294c803b-d312-4a55-adef-3eb7d222f10c",
   "metadata": {},
   "source": [
    "# 3. Create two tensors containing random values between 0 and 1 with shape [5, 300]."
   ]
  },
  {
   "cell_type": "code",
   "execution_count": 14,
   "id": "fc3b89cd-615c-461b-a4a5-c9fae5a33137",
   "metadata": {},
   "outputs": [],
   "source": [
    "t1 = tf.constant(tf.random.normal([5, 300], 0, 1, dtype=tf.float32))\n",
    "t2 = tf.constant(tf.random.normal([5, 300], 0, 1, dtype=tf.float32))"
   ]
  },
  {
   "cell_type": "markdown",
   "id": "d700aab8-abc9-48c0-acde-33c626d9e246",
   "metadata": {},
   "source": [
    "# 4. Multiply the two tensors you created in 3 using matrix multiplication."
   ]
  },
  {
   "cell_type": "code",
   "execution_count": 15,
   "id": "ef1727e1-b605-49a4-bbfb-c55ec63277b4",
   "metadata": {},
   "outputs": [
    {
     "data": {
      "text/plain": [
       "(TensorShape([5, 300]), TensorShape([5, 300]))"
      ]
     },
     "execution_count": 15,
     "metadata": {},
     "output_type": "execute_result"
    }
   ],
   "source": [
    "t1.shape, t2.shape"
   ]
  },
  {
   "cell_type": "code",
   "execution_count": 44,
   "id": "61bcfbad-ecc8-499a-97ed-34e1079e682e",
   "metadata": {},
   "outputs": [],
   "source": [
    "t = tf.linalg.matmul(t1 , tf.transpose(t2))"
   ]
  },
  {
   "cell_type": "code",
   "execution_count": 45,
   "id": "1bc881a4-16bc-4155-99cc-fe4116a58331",
   "metadata": {},
   "outputs": [
    {
     "data": {
      "text/plain": [
       "TensorShape([5, 5])"
      ]
     },
     "execution_count": 45,
     "metadata": {},
     "output_type": "execute_result"
    }
   ],
   "source": [
    "t.shape"
   ]
  },
  {
   "cell_type": "markdown",
   "id": "74cd7b09-db8b-41c3-8f4a-3911b24b5598",
   "metadata": {},
   "source": [
    "# 5. Multiply the two tensors you created in 3 using dot product."
   ]
  },
  {
   "cell_type": "code",
   "execution_count": 20,
   "id": "a4143b8e-6ef5-4248-a001-ac92bb71ddd5",
   "metadata": {},
   "outputs": [
    {
     "data": {
      "text/plain": [
       "<tf.Tensor: shape=(5, 5), dtype=float32, numpy=\n",
       "array([[-19.700884  ,   1.9933591 ,  -7.9026895 ,  19.950592  ,\n",
       "        -19.12231   ],\n",
       "       [ -6.053338  ,  12.419187  ,  22.246252  ,  20.912073  ,\n",
       "          6.4155645 ],\n",
       "       [  9.499852  ,  -2.3097072 ,   7.6603155 , -12.769199  ,\n",
       "          2.4743052 ],\n",
       "       [ 17.098806  ,  11.836251  , -15.267178  ,   0.79975617,\n",
       "        -10.531874  ],\n",
       "       [  9.994848  ,  45.667328  ,  13.350237  , -28.35382   ,\n",
       "          8.682099  ]], dtype=float32)>"
      ]
     },
     "execution_count": 20,
     "metadata": {},
     "output_type": "execute_result"
    }
   ],
   "source": [
    "t1 @ tf.transpose(t2)"
   ]
  },
  {
   "cell_type": "markdown",
   "id": "d64b94f0-3e77-45d8-847e-316f842a3fa0",
   "metadata": {},
   "source": [
    "# 6. Create a tensor with random values between 0 and 1 with shape [224, 224, 3]."
   ]
  },
  {
   "cell_type": "code",
   "execution_count": 22,
   "id": "9ee05a79-3ea6-40ee-a89b-391e3ed2c2c4",
   "metadata": {},
   "outputs": [],
   "source": [
    "tensor = tf.constant(tf.random.normal([224, 224, 3], 0, 1, dtype=tf.float32))"
   ]
  },
  {
   "cell_type": "markdown",
   "id": "c90a9d52-948c-48ab-a290-0cc31e573b88",
   "metadata": {},
   "source": [
    "# 7. Find the min and max values of the tensor you created in 6."
   ]
  },
  {
   "cell_type": "code",
   "execution_count": 23,
   "id": "7eb002b6-97e9-45e2-b164-ad7a5a97bf6c",
   "metadata": {},
   "outputs": [
    {
     "data": {
      "text/plain": [
       "(-4.5823126, 4.118299)"
      ]
     },
     "execution_count": 23,
     "metadata": {},
     "output_type": "execute_result"
    }
   ],
   "source": [
    "tf.math.reduce_min(tensor).numpy(), tf.math.reduce_max(tensor).numpy()"
   ]
  },
  {
   "cell_type": "markdown",
   "id": "0fd4bad0-bb1a-4324-a3e4-236b20e7059c",
   "metadata": {},
   "source": [
    "# 8. Created a tensor with random values of shape [1, 224, 224, 3] then squeeze it to change the shape to [224, 224, 3]."
   ]
  },
  {
   "cell_type": "code",
   "execution_count": 24,
   "id": "bea84e7d-3ed2-47f4-a471-7f0bb5f237da",
   "metadata": {},
   "outputs": [],
   "source": [
    "tf.random.set_seed(42)\n",
    "tensor = tf.constant(tf.random.uniform([1, 224, 224, 3], dtype=tf.float32))"
   ]
  },
  {
   "cell_type": "code",
   "execution_count": 25,
   "id": "cc68f58d-10da-4334-9ed0-de344b8db44d",
   "metadata": {},
   "outputs": [
    {
     "data": {
      "text/plain": [
       "TensorShape([1, 224, 224, 3])"
      ]
     },
     "execution_count": 25,
     "metadata": {},
     "output_type": "execute_result"
    }
   ],
   "source": [
    "tensor.shape"
   ]
  },
  {
   "cell_type": "code",
   "execution_count": 26,
   "id": "bb53298f-98a4-4441-8e97-85d9621b22a2",
   "metadata": {},
   "outputs": [
    {
     "data": {
      "text/plain": [
       "TensorShape([224, 224, 3])"
      ]
     },
     "execution_count": 26,
     "metadata": {},
     "output_type": "execute_result"
    }
   ],
   "source": [
    "tensor_squeeze = tf.squeeze(tensor)\n",
    "tensor_squeeze.shape"
   ]
  },
  {
   "cell_type": "markdown",
   "id": "c278b594-6668-467b-b05f-096acb9bfe10",
   "metadata": {},
   "source": [
    "# 9. Create a tensor with shape [10] using your own choice of values, then find the index which has the maximum value."
   ]
  },
  {
   "cell_type": "code",
   "execution_count": 67,
   "id": "db5b66f9-b52d-454e-a553-1fa2aada86dd",
   "metadata": {},
   "outputs": [
    {
     "data": {
      "text/plain": [
       "<tf.Tensor: shape=(10,), dtype=float32, numpy=\n",
       "array([ 53.616886 , 180.93794  , 147.89066  ,  94.05852  ,   9.904416 ,\n",
       "        26.947803 , 101.5631   ,  65.12486  ,   3.4969864,   3.7946577],\n",
       "      dtype=float32)>"
      ]
     },
     "execution_count": 67,
     "metadata": {},
     "output_type": "execute_result"
    }
   ],
   "source": [
    "tf.random.set_seed(2)\n",
    "tensor = tf.constant(tf.random.normal([10], 10, 100, dtype=tf.float32))\n",
    "tensor = tf.math.abs(tensor)\n",
    "tensor"
   ]
  },
  {
   "cell_type": "code",
   "execution_count": 68,
   "id": "6eba60c3-9d47-4b6c-ad83-1fd50061f166",
   "metadata": {},
   "outputs": [
    {
     "data": {
      "text/plain": [
       "(8, 1)"
      ]
     },
     "execution_count": 68,
     "metadata": {},
     "output_type": "execute_result"
    }
   ],
   "source": [
    "tf.math.argmin(tensor).numpy(), tf.math.argmax(tensor).numpy()"
   ]
  },
  {
   "cell_type": "markdown",
   "id": "75f5866f-fdda-4c11-ad96-edce65359dfb",
   "metadata": {},
   "source": [
    "# 10. One-hot encode the tensor you created in 9."
   ]
  },
  {
   "cell_type": "code",
   "execution_count": 69,
   "id": "c24ee3c0-7276-41aa-88dc-fefd1cd5b879",
   "metadata": {},
   "outputs": [
    {
     "data": {
      "text/plain": [
       "<tf.Tensor: shape=(10, 10), dtype=float32, numpy=\n",
       "array([[0., 0., 0., 0., 0., 0., 0., 0., 0., 0.],\n",
       "       [0., 0., 0., 0., 0., 0., 0., 0., 0., 0.],\n",
       "       [0., 0., 0., 0., 0., 0., 0., 0., 0., 0.],\n",
       "       [0., 0., 0., 0., 0., 0., 0., 0., 0., 0.],\n",
       "       [0., 0., 0., 0., 0., 0., 0., 0., 0., 1.],\n",
       "       [0., 0., 0., 0., 0., 0., 0., 0., 0., 0.],\n",
       "       [0., 0., 0., 0., 0., 0., 0., 0., 0., 0.],\n",
       "       [0., 0., 0., 0., 0., 0., 0., 0., 0., 0.],\n",
       "       [0., 0., 0., 1., 0., 0., 0., 0., 0., 0.],\n",
       "       [0., 0., 0., 1., 0., 0., 0., 0., 0., 0.]], dtype=float32)>"
      ]
     },
     "execution_count": 69,
     "metadata": {},
     "output_type": "execute_result"
    }
   ],
   "source": [
    "tf.one_hot(indices=tf.cast(tensor.numpy(), dtype=tf.int32), depth=10)"
   ]
  },
  {
   "cell_type": "code",
   "execution_count": 54,
   "id": "cba565e3-f806-407c-a90f-7a6f31d3aaf0",
   "metadata": {},
   "outputs": [
    {
     "data": {
      "text/plain": [
       "<tf.Tensor: shape=(10, 10), dtype=float32, numpy=\n",
       "array([[1., 0., 0., 0., 0., 0., 0., 0., 0., 0.],\n",
       "       [0., 1., 0., 0., 0., 0., 0., 0., 0., 0.],\n",
       "       [0., 0., 1., 0., 0., 0., 0., 0., 0., 0.],\n",
       "       [0., 0., 0., 1., 0., 0., 0., 0., 0., 0.],\n",
       "       [0., 0., 0., 0., 1., 0., 0., 0., 0., 0.],\n",
       "       [0., 0., 0., 0., 0., 0., 0., 0., 0., 1.],\n",
       "       [0., 0., 0., 0., 0., 0., 0., 0., 0., 0.],\n",
       "       [1., 0., 0., 0., 0., 0., 0., 0., 0., 0.],\n",
       "       [1., 0., 0., 0., 0., 0., 0., 0., 0., 0.],\n",
       "       [0., 0., 0., 0., 0., 0., 1., 0., 0., 0.]], dtype=float32)>"
      ]
     },
     "execution_count": 54,
     "metadata": {},
     "output_type": "execute_result"
    }
   ],
   "source": [
    "ten_tensor = tf.constant([0 ,1 ,2 ,3, 4, 9, 10, 0.1 , -000.1 , 6])\n",
    "tf.one_hot(indices=tf.cast(ten_tensor.numpy(), dtype=tf.int32), depth=10)"
   ]
  },
  {
   "cell_type": "code",
   "execution_count": 56,
   "id": "f0ab42c6-d99b-427d-b726-ee5671e0ef05",
   "metadata": {},
   "outputs": [
    {
     "data": {
      "text/plain": [
       "(<tf.Tensor: shape=(10,), dtype=float32, numpy=\n",
       " array([ 0. ,  1. ,  2. ,  3. ,  4. ,  9. , 10. ,  0.1, -0.1,  6. ],\n",
       "       dtype=float32)>,\n",
       " <tf.Tensor: shape=(10,), dtype=float32, numpy=\n",
       " array([63.10183  , 38.510746 , 28.817074 , 41.09308  , -6.2973547,\n",
       "        65.31396  , 71.41292  , 85.968895 , 14.895899 , 14.551655 ],\n",
       "       dtype=float32)>)"
      ]
     },
     "execution_count": 56,
     "metadata": {},
     "output_type": "execute_result"
    }
   ],
   "source": [
    "ten_tensor, tensor"
   ]
  },
  {
   "cell_type": "code",
   "execution_count": null,
   "id": "b405eeec-f5e1-4310-b811-df6269421f87",
   "metadata": {},
   "outputs": [],
   "source": []
  }
 ],
 "metadata": {
  "kernelspec": {
   "display_name": "Python 3 (ipykernel)",
   "language": "python",
   "name": "python3"
  },
  "language_info": {
   "codemirror_mode": {
    "name": "ipython",
    "version": 3
   },
   "file_extension": ".py",
   "mimetype": "text/x-python",
   "name": "python",
   "nbconvert_exporter": "python",
   "pygments_lexer": "ipython3",
   "version": "3.10.8"
  }
 },
 "nbformat": 4,
 "nbformat_minor": 5
}
