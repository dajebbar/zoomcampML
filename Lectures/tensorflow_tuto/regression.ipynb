{
 "cells": [
  {
   "cell_type": "code",
   "execution_count": 74,
   "id": "1137f931-a09b-4813-b4df-9d1a1f22d86d",
   "metadata": {},
   "outputs": [],
   "source": [
    "import tensorflow as tf\n",
    "import numpy as np\n",
    "import matplotlib.pyplot as plt\n",
    "import pandas as pd\n",
    "from sklearn import model_selection\n",
    "from sklearn.preprocessing import OneHotEncoder, MinMaxScaler\n",
    "import warnings\n",
    "warnings.filterwarnings(\"ignore\")\n",
    "\n",
    "plt.style.use(\"ggplot\")"
   ]
  },
  {
   "cell_type": "code",
   "execution_count": 2,
   "id": "7b349b15-2de3-48a8-a6b7-dbc6d79f7209",
   "metadata": {},
   "outputs": [
    {
     "name": "stderr",
     "output_type": "stream",
     "text": [
      "2022-12-03 14:03:36.490886: I tensorflow/core/platform/cpu_feature_guard.cc:193] This TensorFlow binary is optimized with oneAPI Deep Neural Network Library (oneDNN) to use the following CPU instructions in performance-critical operations:  SSE4.1 SSE4.2 AVX AVX2 FMA\n",
      "To enable them in other operations, rebuild TensorFlow with the appropriate compiler flags.\n"
     ]
    },
    {
     "data": {
      "text/plain": [
       "(<tf.Tensor: shape=(8,), dtype=float32, numpy=array([-7., -4., -1.,  2.,  5.,  8., 11., 14.], dtype=float32)>,\n",
       " <tf.Tensor: shape=(8,), dtype=float32, numpy=array([ 3.,  6.,  9., 12., 15., 18., 21., 24.], dtype=float32)>)"
      ]
     },
     "execution_count": 2,
     "metadata": {},
     "output_type": "execute_result"
    }
   ],
   "source": [
    "x = np.array([-7., -4., -1.,  2.,  5.,  8., 11., 14.])\n",
    "y = np.array([ 3.,  6.,  9., 12., 15., 18., 21., 24.])\n",
    "\n",
    "X = tf.constant(x, dtype=tf.float32)\n",
    "y = tf.constant(y, dtype=tf.float32)\n",
    "\n",
    "X, y"
   ]
  },
  {
   "cell_type": "code",
   "execution_count": 3,
   "id": "72532a50-0678-4d2f-8222-d37531996f09",
   "metadata": {},
   "outputs": [],
   "source": [
    "tf.random.set_seed(42)\n",
    "\n",
    "model = tf.keras.Sequential([\n",
    "    # tf.keras.Input(shape=(1,)),\n",
    "    tf.keras.layers.Dense(8),\n",
    "    # tf.keras.layers.MaxPool2D(),\n",
    "    tf.keras.layers.Dense(4),\n",
    "    tf.keras.layers.Dense(1)\n",
    "])\n",
    "\n",
    "model.compile(\n",
    "    loss=tf.keras.losses.mae,\n",
    "    optimizer=tf.keras.optimizers.Adam(),\n",
    "    metrics=[\"mae\"]\n",
    ")"
   ]
  },
  {
   "cell_type": "code",
   "execution_count": 4,
   "id": "6a493065-2637-4efd-8319-0ac9aacb9201",
   "metadata": {},
   "outputs": [
    {
     "name": "stdout",
     "output_type": "stream",
     "text": [
      "Epoch 1/5\n",
      "1/1 [==============================] - 1s 916ms/step - loss: 12.0425 - mae: 12.0425\n",
      "Epoch 2/5\n",
      "1/1 [==============================] - 0s 7ms/step - loss: 11.9975 - mae: 11.9975\n",
      "Epoch 3/5\n",
      "1/1 [==============================] - 0s 7ms/step - loss: 11.9525 - mae: 11.9525\n",
      "Epoch 4/5\n",
      "1/1 [==============================] - 0s 8ms/step - loss: 11.9074 - mae: 11.9074\n",
      "Epoch 5/5\n",
      "1/1 [==============================] - 0s 7ms/step - loss: 11.8622 - mae: 11.8622\n"
     ]
    },
    {
     "data": {
      "text/plain": [
       "<keras.callbacks.History at 0x7fea0c523400>"
      ]
     },
     "execution_count": 4,
     "metadata": {},
     "output_type": "execute_result"
    }
   ],
   "source": [
    "model.fit(tf.expand_dims(X, axis=-1), y, epochs=5, verbose=1)"
   ]
  },
  {
   "cell_type": "code",
   "execution_count": 5,
   "id": "315c651d-cef4-4515-a295-1ac6ffac82e4",
   "metadata": {},
   "outputs": [
    {
     "name": "stdout",
     "output_type": "stream",
     "text": [
      "Model: \"sequential\"\n",
      "_________________________________________________________________\n",
      " Layer (type)                Output Shape              Param #   \n",
      "=================================================================\n",
      " dense (Dense)               (None, 8)                 16        \n",
      "                                                                 \n",
      " dense_1 (Dense)             (None, 4)                 36        \n",
      "                                                                 \n",
      " dense_2 (Dense)             (None, 1)                 5         \n",
      "                                                                 \n",
      "=================================================================\n",
      "Total params: 57\n",
      "Trainable params: 57\n",
      "Non-trainable params: 0\n",
      "_________________________________________________________________\n"
     ]
    }
   ],
   "source": [
    "model.summary()"
   ]
  },
  {
   "cell_type": "code",
   "execution_count": 6,
   "id": "227133c9-a29d-4945-bcd2-affc3150b08d",
   "metadata": {},
   "outputs": [
    {
     "data": {
      "text/plain": [
       "(<tf.Tensor: shape=(8,), dtype=float32, numpy=array([-7., -4., -1.,  2.,  5.,  8., 11., 14.], dtype=float32)>,\n",
       " <tf.Tensor: shape=(8,), dtype=float32, numpy=array([ 3.,  6.,  9., 12., 15., 18., 21., 24.], dtype=float32)>)"
      ]
     },
     "execution_count": 6,
     "metadata": {},
     "output_type": "execute_result"
    }
   ],
   "source": [
    "X, y"
   ]
  },
  {
   "cell_type": "code",
   "execution_count": 7,
   "id": "b69d81a5-8a30-4524-8225-c5dd1265aa6d",
   "metadata": {},
   "outputs": [
    {
     "name": "stdout",
     "output_type": "stream",
     "text": [
      "1/1 [==============================] - 0s 191ms/step\n"
     ]
    },
    {
     "data": {
      "text/plain": [
       "array([[8.081557]], dtype=float32)"
      ]
     },
     "execution_count": 7,
     "metadata": {},
     "output_type": "execute_result"
    }
   ],
   "source": [
    "model.predict([17.])"
   ]
  },
  {
   "cell_type": "code",
   "execution_count": 8,
   "id": "e1c2a2d2-b625-4b8a-9955-9b8b6d927dbe",
   "metadata": {},
   "outputs": [
    {
     "name": "stdout",
     "output_type": "stream",
     "text": [
      "Epoch 1/5\n",
      "1/1 [==============================] - 1s 607ms/step - loss: 17.6836 - mae: 17.6836\n",
      "Epoch 2/5\n",
      "1/1 [==============================] - 0s 7ms/step - loss: 17.6442 - mae: 17.6442\n",
      "Epoch 3/5\n",
      "1/1 [==============================] - 0s 7ms/step - loss: 17.6049 - mae: 17.6049\n",
      "Epoch 4/5\n",
      "1/1 [==============================] - 0s 9ms/step - loss: 17.5656 - mae: 17.5656\n",
      "Epoch 5/5\n",
      "1/1 [==============================] - 0s 7ms/step - loss: 17.5263 - mae: 17.5263\n"
     ]
    },
    {
     "data": {
      "text/plain": [
       "<keras.callbacks.History at 0x7fea04f0fc40>"
      ]
     },
     "execution_count": 8,
     "metadata": {},
     "output_type": "execute_result"
    }
   ],
   "source": [
    "tf.random.set_seed(42)\n",
    "\n",
    "model = tf.keras.Sequential([\n",
    "    tf.keras.layers.Dense(10),\n",
    "    tf.keras.layers.Dense(1),\n",
    "])\n",
    "\n",
    "model.compile(\n",
    "    loss=tf.keras.losses.mae,\n",
    "    optimizer=tf.keras.optimizers.Adam(),\n",
    "    metrics=[\"mae\"]\n",
    ")\n",
    "\n",
    "model.fit(tf.expand_dims(X, axis=-1), y, epochs=5, verbose=1)"
   ]
  },
  {
   "cell_type": "code",
   "execution_count": 9,
   "id": "e89f2a43-1d27-4932-aef4-7a2212c9ecfa",
   "metadata": {},
   "outputs": [
    {
     "name": "stdout",
     "output_type": "stream",
     "text": [
      "1/1 [==============================] - 0s 142ms/step\n"
     ]
    },
    {
     "data": {
      "text/plain": [
       "array([[-15.367333]], dtype=float32)"
      ]
     },
     "execution_count": 9,
     "metadata": {},
     "output_type": "execute_result"
    }
   ],
   "source": [
    "model.predict([17.])"
   ]
  },
  {
   "cell_type": "code",
   "execution_count": 10,
   "id": "3bcf1a06-da85-4ee1-ac3e-98921f44e02f",
   "metadata": {},
   "outputs": [
    {
     "name": "stdout",
     "output_type": "stream",
     "text": [
      "Epoch 1/100\n",
      "1/1 [==============================] - 1s 570ms/step - loss: 10.2381 - mae: 10.2381\n",
      "Epoch 2/100\n",
      "1/1 [==============================] - 0s 7ms/step - loss: 10.2060 - mae: 10.2060\n",
      "Epoch 3/100\n",
      "1/1 [==============================] - 0s 11ms/step - loss: 10.1739 - mae: 10.1739\n",
      "Epoch 4/100\n",
      "1/1 [==============================] - 0s 7ms/step - loss: 10.1417 - mae: 10.1417\n",
      "Epoch 5/100\n",
      "1/1 [==============================] - 0s 12ms/step - loss: 10.1094 - mae: 10.1094\n",
      "Epoch 6/100\n",
      "1/1 [==============================] - 0s 6ms/step - loss: 10.0772 - mae: 10.0772\n",
      "Epoch 7/100\n",
      "1/1 [==============================] - 0s 16ms/step - loss: 10.0448 - mae: 10.0448\n",
      "Epoch 8/100\n",
      "1/1 [==============================] - 0s 10ms/step - loss: 10.0125 - mae: 10.0125\n",
      "Epoch 9/100\n",
      "1/1 [==============================] - 0s 7ms/step - loss: 9.9801 - mae: 9.9801\n",
      "Epoch 10/100\n",
      "1/1 [==============================] - 0s 8ms/step - loss: 9.9477 - mae: 9.9477\n",
      "Epoch 11/100\n",
      "1/1 [==============================] - 0s 10ms/step - loss: 9.9152 - mae: 9.9152\n",
      "Epoch 12/100\n",
      "1/1 [==============================] - 0s 8ms/step - loss: 9.8827 - mae: 9.8827\n",
      "Epoch 13/100\n",
      "1/1 [==============================] - 0s 8ms/step - loss: 9.8501 - mae: 9.8501\n",
      "Epoch 14/100\n",
      "1/1 [==============================] - 0s 11ms/step - loss: 9.8175 - mae: 9.8175\n",
      "Epoch 15/100\n",
      "1/1 [==============================] - 0s 7ms/step - loss: 9.7849 - mae: 9.7849\n",
      "Epoch 16/100\n",
      "1/1 [==============================] - 0s 8ms/step - loss: 9.7522 - mae: 9.7522\n",
      "Epoch 17/100\n",
      "1/1 [==============================] - 0s 7ms/step - loss: 9.7194 - mae: 9.7194\n",
      "Epoch 18/100\n",
      "1/1 [==============================] - 0s 7ms/step - loss: 9.6866 - mae: 9.6866\n",
      "Epoch 19/100\n",
      "1/1 [==============================] - 0s 6ms/step - loss: 9.6538 - mae: 9.6538\n",
      "Epoch 20/100\n",
      "1/1 [==============================] - 0s 7ms/step - loss: 9.6209 - mae: 9.6209\n",
      "Epoch 21/100\n",
      "1/1 [==============================] - 0s 6ms/step - loss: 9.5880 - mae: 9.5880\n",
      "Epoch 22/100\n",
      "1/1 [==============================] - 0s 7ms/step - loss: 9.5550 - mae: 9.5550\n",
      "Epoch 23/100\n",
      "1/1 [==============================] - 0s 8ms/step - loss: 9.5219 - mae: 9.5219\n",
      "Epoch 24/100\n",
      "1/1 [==============================] - 0s 10ms/step - loss: 9.4888 - mae: 9.4888\n",
      "Epoch 25/100\n",
      "1/1 [==============================] - 0s 9ms/step - loss: 9.4557 - mae: 9.4557\n",
      "Epoch 26/100\n",
      "1/1 [==============================] - 0s 5ms/step - loss: 9.4225 - mae: 9.4225\n",
      "Epoch 27/100\n",
      "1/1 [==============================] - 0s 7ms/step - loss: 9.3892 - mae: 9.3892\n",
      "Epoch 28/100\n",
      "1/1 [==============================] - 0s 7ms/step - loss: 9.3559 - mae: 9.3559\n",
      "Epoch 29/100\n",
      "1/1 [==============================] - 0s 10ms/step - loss: 9.3225 - mae: 9.3225\n",
      "Epoch 30/100\n",
      "1/1 [==============================] - 0s 9ms/step - loss: 9.2891 - mae: 9.2891\n",
      "Epoch 31/100\n",
      "1/1 [==============================] - 0s 9ms/step - loss: 9.2556 - mae: 9.2556\n",
      "Epoch 32/100\n",
      "1/1 [==============================] - 0s 7ms/step - loss: 9.2220 - mae: 9.2220\n",
      "Epoch 33/100\n",
      "1/1 [==============================] - 0s 7ms/step - loss: 9.1884 - mae: 9.1884\n",
      "Epoch 34/100\n",
      "1/1 [==============================] - 0s 7ms/step - loss: 9.1547 - mae: 9.1547\n",
      "Epoch 35/100\n",
      "1/1 [==============================] - 0s 7ms/step - loss: 9.1210 - mae: 9.1210\n",
      "Epoch 36/100\n",
      "1/1 [==============================] - 0s 8ms/step - loss: 9.0872 - mae: 9.0872\n",
      "Epoch 37/100\n",
      "1/1 [==============================] - 0s 8ms/step - loss: 9.0533 - mae: 9.0533\n",
      "Epoch 38/100\n",
      "1/1 [==============================] - 0s 8ms/step - loss: 9.0194 - mae: 9.0194\n",
      "Epoch 39/100\n",
      "1/1 [==============================] - 0s 10ms/step - loss: 8.9854 - mae: 8.9854\n",
      "Epoch 40/100\n",
      "1/1 [==============================] - 0s 6ms/step - loss: 8.9514 - mae: 8.9514\n",
      "Epoch 41/100\n",
      "1/1 [==============================] - 0s 8ms/step - loss: 8.9172 - mae: 8.9172\n",
      "Epoch 42/100\n",
      "1/1 [==============================] - 0s 9ms/step - loss: 8.8831 - mae: 8.8831\n",
      "Epoch 43/100\n",
      "1/1 [==============================] - 0s 6ms/step - loss: 8.8488 - mae: 8.8488\n",
      "Epoch 44/100\n",
      "1/1 [==============================] - 0s 8ms/step - loss: 8.8145 - mae: 8.8145\n",
      "Epoch 45/100\n",
      "1/1 [==============================] - 0s 8ms/step - loss: 8.7801 - mae: 8.7801\n",
      "Epoch 46/100\n",
      "1/1 [==============================] - 0s 12ms/step - loss: 8.7456 - mae: 8.7456\n",
      "Epoch 47/100\n",
      "1/1 [==============================] - 0s 9ms/step - loss: 8.7111 - mae: 8.7111\n",
      "Epoch 48/100\n",
      "1/1 [==============================] - 0s 9ms/step - loss: 8.6765 - mae: 8.6765\n",
      "Epoch 49/100\n",
      "1/1 [==============================] - 0s 8ms/step - loss: 8.6418 - mae: 8.6418\n",
      "Epoch 50/100\n",
      "1/1 [==============================] - 0s 8ms/step - loss: 8.6070 - mae: 8.6070\n",
      "Epoch 51/100\n",
      "1/1 [==============================] - 0s 7ms/step - loss: 8.5722 - mae: 8.5722\n",
      "Epoch 52/100\n",
      "1/1 [==============================] - 0s 7ms/step - loss: 8.5373 - mae: 8.5373\n",
      "Epoch 53/100\n",
      "1/1 [==============================] - 0s 7ms/step - loss: 8.5023 - mae: 8.5023\n",
      "Epoch 54/100\n",
      "1/1 [==============================] - 0s 7ms/step - loss: 8.4672 - mae: 8.4672\n",
      "Epoch 55/100\n",
      "1/1 [==============================] - 0s 7ms/step - loss: 8.4321 - mae: 8.4321\n",
      "Epoch 56/100\n",
      "1/1 [==============================] - 0s 7ms/step - loss: 8.3969 - mae: 8.3969\n",
      "Epoch 57/100\n",
      "1/1 [==============================] - 0s 6ms/step - loss: 8.3616 - mae: 8.3616\n",
      "Epoch 58/100\n",
      "1/1 [==============================] - 0s 6ms/step - loss: 8.3262 - mae: 8.3262\n",
      "Epoch 59/100\n",
      "1/1 [==============================] - 0s 7ms/step - loss: 8.2908 - mae: 8.2908\n",
      "Epoch 60/100\n",
      "1/1 [==============================] - 0s 7ms/step - loss: 8.2553 - mae: 8.2553\n",
      "Epoch 61/100\n",
      "1/1 [==============================] - 0s 7ms/step - loss: 8.2197 - mae: 8.2197\n",
      "Epoch 62/100\n",
      "1/1 [==============================] - 0s 7ms/step - loss: 8.1840 - mae: 8.1840\n",
      "Epoch 63/100\n",
      "1/1 [==============================] - 0s 13ms/step - loss: 8.1482 - mae: 8.1482\n",
      "Epoch 64/100\n",
      "1/1 [==============================] - 0s 7ms/step - loss: 8.1123 - mae: 8.1123\n",
      "Epoch 65/100\n",
      "1/1 [==============================] - 0s 8ms/step - loss: 8.0764 - mae: 8.0764\n",
      "Epoch 66/100\n",
      "1/1 [==============================] - 0s 8ms/step - loss: 8.0403 - mae: 8.0403\n",
      "Epoch 67/100\n",
      "1/1 [==============================] - 0s 7ms/step - loss: 8.0042 - mae: 8.0042\n",
      "Epoch 68/100\n",
      "1/1 [==============================] - 0s 7ms/step - loss: 7.9680 - mae: 7.9680\n",
      "Epoch 69/100\n",
      "1/1 [==============================] - 0s 6ms/step - loss: 7.9317 - mae: 7.9317\n",
      "Epoch 70/100\n",
      "1/1 [==============================] - 0s 9ms/step - loss: 7.8954 - mae: 7.8954\n",
      "Epoch 71/100\n",
      "1/1 [==============================] - 0s 10ms/step - loss: 7.8589 - mae: 7.8589\n",
      "Epoch 72/100\n",
      "1/1 [==============================] - 0s 8ms/step - loss: 7.8223 - mae: 7.8223\n",
      "Epoch 73/100\n",
      "1/1 [==============================] - 0s 7ms/step - loss: 7.7857 - mae: 7.7857\n",
      "Epoch 74/100\n",
      "1/1 [==============================] - 0s 8ms/step - loss: 7.7489 - mae: 7.7489\n",
      "Epoch 75/100\n",
      "1/1 [==============================] - 0s 11ms/step - loss: 7.7121 - mae: 7.7121\n",
      "Epoch 76/100\n",
      "1/1 [==============================] - 0s 10ms/step - loss: 7.6752 - mae: 7.6752\n",
      "Epoch 77/100\n",
      "1/1 [==============================] - 0s 8ms/step - loss: 7.6381 - mae: 7.6381\n",
      "Epoch 78/100\n",
      "1/1 [==============================] - 0s 8ms/step - loss: 7.6010 - mae: 7.6010\n",
      "Epoch 79/100\n",
      "1/1 [==============================] - 0s 8ms/step - loss: 7.5638 - mae: 7.5638\n",
      "Epoch 80/100\n",
      "1/1 [==============================] - 0s 8ms/step - loss: 7.5265 - mae: 7.5265\n",
      "Epoch 81/100\n",
      "1/1 [==============================] - 0s 7ms/step - loss: 7.4891 - mae: 7.4891\n",
      "Epoch 82/100\n",
      "1/1 [==============================] - 0s 7ms/step - loss: 7.4516 - mae: 7.4516\n",
      "Epoch 83/100\n",
      "1/1 [==============================] - 0s 7ms/step - loss: 7.4139 - mae: 7.4139\n",
      "Epoch 84/100\n",
      "1/1 [==============================] - 0s 7ms/step - loss: 7.3762 - mae: 7.3762\n",
      "Epoch 85/100\n",
      "1/1 [==============================] - 0s 7ms/step - loss: 7.3384 - mae: 7.3384\n",
      "Epoch 86/100\n",
      "1/1 [==============================] - 0s 7ms/step - loss: 7.3005 - mae: 7.3005\n",
      "Epoch 87/100\n",
      "1/1 [==============================] - 0s 7ms/step - loss: 7.2625 - mae: 7.2625\n",
      "Epoch 88/100\n",
      "1/1 [==============================] - 0s 7ms/step - loss: 7.2243 - mae: 7.2243\n",
      "Epoch 89/100\n",
      "1/1 [==============================] - 0s 7ms/step - loss: 7.1861 - mae: 7.1861\n",
      "Epoch 90/100\n",
      "1/1 [==============================] - 0s 7ms/step - loss: 7.1478 - mae: 7.1478\n",
      "Epoch 91/100\n",
      "1/1 [==============================] - 0s 7ms/step - loss: 7.1093 - mae: 7.1093\n",
      "Epoch 92/100\n",
      "1/1 [==============================] - 0s 6ms/step - loss: 7.0929 - mae: 7.0929\n",
      "Epoch 93/100\n",
      "1/1 [==============================] - 0s 6ms/step - loss: 7.0879 - mae: 7.0879\n",
      "Epoch 94/100\n",
      "1/1 [==============================] - 0s 7ms/step - loss: 7.0831 - mae: 7.0831\n",
      "Epoch 95/100\n",
      "1/1 [==============================] - 0s 6ms/step - loss: 7.0783 - mae: 7.0783\n",
      "Epoch 96/100\n",
      "1/1 [==============================] - 0s 7ms/step - loss: 7.0736 - mae: 7.0736\n",
      "Epoch 97/100\n",
      "1/1 [==============================] - 0s 6ms/step - loss: 7.0691 - mae: 7.0691\n",
      "Epoch 98/100\n",
      "1/1 [==============================] - 0s 6ms/step - loss: 7.0646 - mae: 7.0646\n",
      "Epoch 99/100\n",
      "1/1 [==============================] - 0s 6ms/step - loss: 7.0601 - mae: 7.0601\n",
      "Epoch 100/100\n",
      "1/1 [==============================] - 0s 6ms/step - loss: 7.0558 - mae: 7.0558\n"
     ]
    },
    {
     "data": {
      "text/plain": [
       "<keras.callbacks.History at 0x7fea04ff69b0>"
      ]
     },
     "execution_count": 10,
     "metadata": {},
     "output_type": "execute_result"
    }
   ],
   "source": [
    "tf.random.set_seed(42)\n",
    "\n",
    "model = tf.keras.Sequential([\n",
    "    tf.keras.layers.Dense(10),\n",
    "    tf.keras.layers.Dense(1),\n",
    "])\n",
    "\n",
    "model.compile(\n",
    "    loss=tf.keras.losses.mae,\n",
    "    optimizer=tf.keras.optimizers.Adam(),\n",
    "    metrics=[\"mae\"]\n",
    ")\n",
    "\n",
    "model.fit(tf.expand_dims(X, axis=-1), y, epochs=100, verbose=1)"
   ]
  },
  {
   "cell_type": "code",
   "execution_count": 11,
   "id": "8f997376-8de1-47fd-be62-6e3038bdecfa",
   "metadata": {},
   "outputs": [
    {
     "name": "stdout",
     "output_type": "stream",
     "text": [
      "1/1 [==============================] - 0s 122ms/step\n"
     ]
    },
    {
     "data": {
      "text/plain": [
       "array([[30.07448]], dtype=float32)"
      ]
     },
     "execution_count": 11,
     "metadata": {},
     "output_type": "execute_result"
    }
   ],
   "source": [
    "model.predict([17])"
   ]
  },
  {
   "cell_type": "markdown",
   "id": "1b17e9fe-a823-4cfe-be5b-1f50c8db8686",
   "metadata": {},
   "source": [
    "# Make a bigger dataset"
   ]
  },
  {
   "cell_type": "code",
   "execution_count": 15,
   "id": "8ba0c098-cd01-46dc-8d97-8a85c3291333",
   "metadata": {},
   "outputs": [],
   "source": [
    "X = np.arange(-100, 100, 4)"
   ]
  },
  {
   "cell_type": "code",
   "execution_count": 16,
   "id": "9d701a0a-d3c1-4dfa-bda3-777a63d7ce94",
   "metadata": {},
   "outputs": [],
   "source": [
    "y = X + 10"
   ]
  },
  {
   "cell_type": "code",
   "execution_count": 17,
   "id": "da131857-200e-477e-96f7-11c1453f62c7",
   "metadata": {},
   "outputs": [
    {
     "data": {
      "text/plain": [
       "array([-100,  -96,  -92,  -88,  -84,  -80,  -76,  -72,  -68,  -64,  -60,\n",
       "        -56,  -52,  -48,  -44,  -40,  -36,  -32,  -28,  -24,  -20,  -16,\n",
       "        -12,   -8,   -4,    0,    4,    8,   12,   16,   20,   24,   28,\n",
       "         32,   36,   40,   44,   48,   52,   56,   60,   64,   68,   72,\n",
       "         76,   80,   84,   88,   92,   96])"
      ]
     },
     "execution_count": 17,
     "metadata": {},
     "output_type": "execute_result"
    }
   ],
   "source": [
    "X"
   ]
  },
  {
   "cell_type": "code",
   "execution_count": 18,
   "id": "03a91fd2-450c-44ed-856c-32f52396ccef",
   "metadata": {},
   "outputs": [
    {
     "data": {
      "text/plain": [
       "array([-90, -86, -82, -78, -74, -70, -66, -62, -58, -54, -50, -46, -42,\n",
       "       -38, -34, -30, -26, -22, -18, -14, -10,  -6,  -2,   2,   6,  10,\n",
       "        14,  18,  22,  26,  30,  34,  38,  42,  46,  50,  54,  58,  62,\n",
       "        66,  70,  74,  78,  82,  86,  90,  94,  98, 102, 106])"
      ]
     },
     "execution_count": 18,
     "metadata": {},
     "output_type": "execute_result"
    }
   ],
   "source": [
    "y"
   ]
  },
  {
   "cell_type": "code",
   "execution_count": 46,
   "id": "7b774f1b-7b74-4c30-8774-1277f123f4ed",
   "metadata": {},
   "outputs": [
    {
     "data": {
      "text/plain": [
       "(40, 10)"
      ]
     },
     "execution_count": 46,
     "metadata": {},
     "output_type": "execute_result"
    }
   ],
   "source": [
    "# Split data into train and test sets\n",
    "X_train = X[:40] # first 40 examples (80% of data)\n",
    "y_train = y[:40]\n",
    "\n",
    "X_test = X[40:] # last 10 examples (20% of data)\n",
    "y_test = y[40:]\n",
    "\n",
    "len(X_train), len(X_test)"
   ]
  },
  {
   "cell_type": "code",
   "execution_count": 55,
   "id": "4ee1bf00-1a81-4b6e-bc86-ccd194ee290c",
   "metadata": {},
   "outputs": [],
   "source": [
    "def vizualize_plot(X_train, y_train, X_test, y_test, predictions=[]):\n",
    "    plt.figure(figsize=(12,5))\n",
    "    plt.scatter(X_train, y_train, c='b', label='train data')\n",
    "    plt.scatter(X_test, y_test, c='g', label='test data')\n",
    "    if len(predictions) == len(X_test):\n",
    "        plt.scatter(X_test, predictions, c='k', label='preds')\n",
    "        \n",
    "    plt.title(\"Train Test Datas\")\n",
    "    plt.xlabel(\"X\")\n",
    "    plt.ylabel(\"y\")\n",
    "    plt.legend()\n",
    "    plt.show()"
   ]
  },
  {
   "cell_type": "code",
   "execution_count": 56,
   "id": "f4fd45c0-11d2-4a9f-b0a4-eb87281fd7d9",
   "metadata": {},
   "outputs": [
    {
     "data": {
      "image/png": "[encoded data removed]",
      "text/plain": [
       "<Figure size 1200x500 with 1 Axes>"
      ]
     },
     "metadata": {},
     "output_type": "display_data"
    }
   ],
   "source": [
    "vizualize_plot(X_train, y_train, X_test, y_test)"
   ]
  },
  {
   "cell_type": "code",
   "execution_count": 49,
   "id": "35a73647-5e3f-463f-8da0-f9ec3abfde95",
   "metadata": {},
   "outputs": [
    {
     "name": "stdout",
     "output_type": "stream",
     "text": [
      "1/1 [==============================] - 0s 35ms/step\n"
     ]
    },
    {
     "data": {
      "text/plain": [
       "array([[104.63243],\n",
       "       [111.56806],\n",
       "       [118.50369],\n",
       "       [125.43931],\n",
       "       [132.37495],\n",
       "       [139.31056],\n",
       "       [146.24622],\n",
       "       [153.18181],\n",
       "       [160.11745],\n",
       "       [167.05307]], dtype=float32)"
      ]
     },
     "execution_count": 49,
     "metadata": {},
     "output_type": "execute_result"
    }
   ],
   "source": [
    "y_preds = model.predict(X_test)\n",
    "y_preds"
   ]
  },
  {
   "cell_type": "code",
   "execution_count": 57,
   "id": "429b7128-2187-4685-98be-eee60be27ca7",
   "metadata": {},
   "outputs": [
    {
     "data": {
      "image/png": "[encoded data removed]",
      "text/plain": [
       "<Figure size 1200x500 with 1 Axes>"
      ]
     },
     "metadata": {},
     "output_type": "display_data"
    }
   ],
   "source": [
    "vizualize_plot(X_train, y_train, X_test, y_test, predictions=y_preds)"
   ]
  },
  {
   "cell_type": "code",
   "execution_count": 58,
   "id": "d1b67e1e-4d28-42fb-9c33-5b79c18de839",
   "metadata": {},
   "outputs": [
    {
     "name": "stdout",
     "output_type": "stream",
     "text": [
      "1/1 [==============================] - 0s 227ms/step - loss: 47.8428 - mae: 47.8428\n"
     ]
    },
    {
     "data": {
      "text/plain": [
       "[47.84275817871094, 47.84275817871094]"
      ]
     },
     "execution_count": 58,
     "metadata": {},
     "output_type": "execute_result"
    }
   ],
   "source": [
    "model.evaluate(X_test, y_test)"
   ]
  },
  {
   "cell_type": "code",
   "execution_count": 66,
   "id": "ef92b53a-4f45-4ece-880b-0e2bd07f65c3",
   "metadata": {},
   "outputs": [],
   "source": [
    "# Calculate the mean absolute error\n",
    "def mae(y_test=y_test, y_pred=y_preds):\n",
    "    y_pred = tf.squeeze(y_pred)\n",
    "    return tf.metrics.mean_absolute_error(y_true=y_test, y_pred=y_pred).numpy()\n",
    "\n",
    "def mse(y_test=y_test, y_pred=y_preds):\n",
    "    y_pred = tf.squeeze(y_pred)\n",
    "    return tf.metrics.mean_squared_error(y_true=y_test, y_pred=y_pred).numpy()"
   ]
  },
  {
   "cell_type": "code",
   "execution_count": 67,
   "id": "77404b03-d2cf-4e55-bb0d-29634e43d887",
   "metadata": {},
   "outputs": [
    {
     "data": {
      "text/plain": [
       "47.842754"
      ]
     },
     "execution_count": 67,
     "metadata": {},
     "output_type": "execute_result"
    }
   ],
   "source": [
    "mae()"
   ]
  },
  {
   "cell_type": "code",
   "execution_count": 68,
   "id": "b653c7f0-1ed4-461d-8a92-75ba18b38d33",
   "metadata": {},
   "outputs": [
    {
     "data": {
      "text/plain": [
       "2360.0269"
      ]
     },
     "execution_count": 68,
     "metadata": {},
     "output_type": "execute_result"
    }
   ],
   "source": [
    "mse()"
   ]
  },
  {
   "cell_type": "markdown",
   "id": "191c068b-6803-4f33-a76f-244ae8b3e9f3",
   "metadata": {},
   "source": [
    "---"
   ]
  },
  {
   "cell_type": "code",
   "execution_count": 70,
   "id": "67447b47-1d3e-4ef5-9023-626053bfdd44",
   "metadata": {},
   "outputs": [
    {
     "data": {
      "text/html": [
       "<div>\n",
       "<style scoped>\n",
       "    .dataframe tbody tr th:only-of-type {\n",
       "        vertical-align: middle;\n",
       "    }\n",
       "\n",
       "    .dataframe tbody tr th {\n",
       "        vertical-align: top;\n",
       "    }\n",
       "\n",
       "    .dataframe thead th {\n",
       "        text-align: right;\n",
       "    }\n",
       "</style>\n",
       "<table border=\"1\" class=\"dataframe\">\n",
       "  <thead>\n",
       "    <tr style=\"text-align: right;\">\n",
       "      <th></th>\n",
       "      <th>age</th>\n",
       "      <th>sex</th>\n",
       "      <th>bmi</th>\n",
       "      <th>children</th>\n",
       "      <th>smoker</th>\n",
       "      <th>region</th>\n",
       "      <th>charges</th>\n",
       "    </tr>\n",
       "  </thead>\n",
       "  <tbody>\n",
       "    <tr>\n",
       "      <th>488</th>\n",
       "      <td>44</td>\n",
       "      <td>female</td>\n",
       "      <td>38.060</td>\n",
       "      <td>0</td>\n",
       "      <td>yes</td>\n",
       "      <td>southeast</td>\n",
       "      <td>48885.13561</td>\n",
       "    </tr>\n",
       "    <tr>\n",
       "      <th>376</th>\n",
       "      <td>39</td>\n",
       "      <td>female</td>\n",
       "      <td>24.890</td>\n",
       "      <td>3</td>\n",
       "      <td>yes</td>\n",
       "      <td>northeast</td>\n",
       "      <td>21659.93010</td>\n",
       "    </tr>\n",
       "    <tr>\n",
       "      <th>124</th>\n",
       "      <td>47</td>\n",
       "      <td>female</td>\n",
       "      <td>33.915</td>\n",
       "      <td>3</td>\n",
       "      <td>no</td>\n",
       "      <td>northwest</td>\n",
       "      <td>10115.00885</td>\n",
       "    </tr>\n",
       "    <tr>\n",
       "      <th>762</th>\n",
       "      <td>33</td>\n",
       "      <td>male</td>\n",
       "      <td>27.100</td>\n",
       "      <td>1</td>\n",
       "      <td>yes</td>\n",
       "      <td>southwest</td>\n",
       "      <td>19040.87600</td>\n",
       "    </tr>\n",
       "    <tr>\n",
       "      <th>914</th>\n",
       "      <td>33</td>\n",
       "      <td>male</td>\n",
       "      <td>24.605</td>\n",
       "      <td>2</td>\n",
       "      <td>no</td>\n",
       "      <td>northwest</td>\n",
       "      <td>5257.50795</td>\n",
       "    </tr>\n",
       "    <tr>\n",
       "      <th>1105</th>\n",
       "      <td>54</td>\n",
       "      <td>female</td>\n",
       "      <td>31.240</td>\n",
       "      <td>0</td>\n",
       "      <td>no</td>\n",
       "      <td>southeast</td>\n",
       "      <td>10338.93160</td>\n",
       "    </tr>\n",
       "    <tr>\n",
       "      <th>1065</th>\n",
       "      <td>42</td>\n",
       "      <td>female</td>\n",
       "      <td>25.300</td>\n",
       "      <td>1</td>\n",
       "      <td>no</td>\n",
       "      <td>southwest</td>\n",
       "      <td>7045.49900</td>\n",
       "    </tr>\n",
       "    <tr>\n",
       "      <th>1101</th>\n",
       "      <td>53</td>\n",
       "      <td>male</td>\n",
       "      <td>28.600</td>\n",
       "      <td>3</td>\n",
       "      <td>no</td>\n",
       "      <td>southwest</td>\n",
       "      <td>11253.42100</td>\n",
       "    </tr>\n",
       "  </tbody>\n",
       "</table>\n",
       "</div>"
      ],
      "text/plain": [
       "      age     sex     bmi  children smoker     region      charges\n",
       "488    44  female  38.060         0    yes  southeast  48885.13561\n",
       "376    39  female  24.890         3    yes  northeast  21659.93010\n",
       "124    47  female  33.915         3     no  northwest  10115.00885\n",
       "762    33    male  27.100         1    yes  southwest  19040.87600\n",
       "914    33    male  24.605         2     no  northwest   5257.50795\n",
       "1105   54  female  31.240         0     no  southeast  10338.93160\n",
       "1065   42  female  25.300         1     no  southwest   7045.49900\n",
       "1101   53    male  28.600         3     no  southwest  11253.42100"
      ]
     },
     "execution_count": 70,
     "metadata": {},
     "output_type": "execute_result"
    }
   ],
   "source": [
    "url = (\"https://raw.githubusercontent.com/stedy/\"\n",
    "       \"Machine-Learning-with-R-datasets/master/insurance.csv\")\n",
    "df = pd.read_csv(url)\n",
    "df.sample(8)"
   ]
  },
  {
   "cell_type": "code",
   "execution_count": 71,
   "id": "5a751434-15c7-4de8-b29d-59f22838cfbe",
   "metadata": {},
   "outputs": [
    {
     "name": "stdout",
     "output_type": "stream",
     "text": [
      "<class 'pandas.core.frame.DataFrame'>\n",
      "RangeIndex: 1338 entries, 0 to 1337\n",
      "Data columns (total 7 columns):\n",
      " #   Column    Non-Null Count  Dtype  \n",
      "---  ------    --------------  -----  \n",
      " 0   age       1338 non-null   int64  \n",
      " 1   sex       1338 non-null   object \n",
      " 2   bmi       1338 non-null   float64\n",
      " 3   children  1338 non-null   int64  \n",
      " 4   smoker    1338 non-null   object \n",
      " 5   region    1338 non-null   object \n",
      " 6   charges   1338 non-null   float64\n",
      "dtypes: float64(2), int64(2), object(3)\n",
      "memory usage: 73.3+ KB\n"
     ]
    }
   ],
   "source": [
    "df.info()"
   ]
  },
  {
   "cell_type": "code",
   "execution_count": 72,
   "id": "c14278d1-5d7a-4183-a676-b4e6b0428bf6",
   "metadata": {},
   "outputs": [
    {
     "data": {
      "text/plain": [
       "age         0\n",
       "sex         0\n",
       "bmi         0\n",
       "children    0\n",
       "smoker      0\n",
       "region      0\n",
       "charges     0\n",
       "dtype: int64"
      ]
     },
     "execution_count": 72,
     "metadata": {},
     "output_type": "execute_result"
    }
   ],
   "source": [
    "df.isna().sum()"
   ]
  },
  {
   "cell_type": "code",
   "execution_count": 73,
   "id": "c1c571c9-7c8a-4fc9-b6c9-2d6a7a7e3083",
   "metadata": {},
   "outputs": [],
   "source": [
    "numerical = ['age', 'bmi', 'children', ]\n",
    "categorical = ['sex', 'smoker', 'region']\n",
    "\n",
    "data, target = df.drop(columns=['charges']), df.charges"
   ]
  },
  {
   "cell_type": "code",
   "execution_count": 75,
   "id": "6edb027d-1488-43d0-8cf5-f4500045d601",
   "metadata": {},
   "outputs": [
    {
     "data": {
      "text/plain": [
       "((1070, 6), (1070,), (268, 6), (268,))"
      ]
     },
     "execution_count": 75,
     "metadata": {},
     "output_type": "execute_result"
    }
   ],
   "source": [
    "X_train, X_test, y_train, y_test = model_selection.train_test_split(\n",
    "    data,\n",
    "    target,\n",
    "    test_size=.2,\n",
    "    random_state=11\n",
    ")\n",
    "\n",
    "X_train.shape, y_train.shape, X_test.shape, y_test.shape"
   ]
  },
  {
   "cell_type": "code",
   "execution_count": 76,
   "id": "65d45c46-7e44-4f2a-9004-edd482acaa38",
   "metadata": {},
   "outputs": [
    {
     "data": {
      "text/html": [
       "<div>\n",
       "<style scoped>\n",
       "    .dataframe tbody tr th:only-of-type {\n",
       "        vertical-align: middle;\n",
       "    }\n",
       "\n",
       "    .dataframe tbody tr th {\n",
       "        vertical-align: top;\n",
       "    }\n",
       "\n",
       "    .dataframe thead th {\n",
       "        text-align: right;\n",
       "    }\n",
       "</style>\n",
       "<table border=\"1\" class=\"dataframe\">\n",
       "  <thead>\n",
       "    <tr style=\"text-align: right;\">\n",
       "      <th></th>\n",
       "      <th>sex_female</th>\n",
       "      <th>sex_male</th>\n",
       "      <th>smoker_no</th>\n",
       "      <th>smoker_yes</th>\n",
       "      <th>region_northeast</th>\n",
       "      <th>region_northwest</th>\n",
       "      <th>region_southeast</th>\n",
       "      <th>region_southwest</th>\n",
       "    </tr>\n",
       "  </thead>\n",
       "  <tbody>\n",
       "    <tr>\n",
       "      <th>0</th>\n",
       "      <td>0.0</td>\n",
       "      <td>1.0</td>\n",
       "      <td>1.0</td>\n",
       "      <td>0.0</td>\n",
       "      <td>0.0</td>\n",
       "      <td>1.0</td>\n",
       "      <td>0.0</td>\n",
       "      <td>0.0</td>\n",
       "    </tr>\n",
       "    <tr>\n",
       "      <th>1</th>\n",
       "      <td>1.0</td>\n",
       "      <td>0.0</td>\n",
       "      <td>1.0</td>\n",
       "      <td>0.0</td>\n",
       "      <td>0.0</td>\n",
       "      <td>0.0</td>\n",
       "      <td>0.0</td>\n",
       "      <td>1.0</td>\n",
       "    </tr>\n",
       "    <tr>\n",
       "      <th>2</th>\n",
       "      <td>0.0</td>\n",
       "      <td>1.0</td>\n",
       "      <td>1.0</td>\n",
       "      <td>0.0</td>\n",
       "      <td>0.0</td>\n",
       "      <td>0.0</td>\n",
       "      <td>1.0</td>\n",
       "      <td>0.0</td>\n",
       "    </tr>\n",
       "    <tr>\n",
       "      <th>3</th>\n",
       "      <td>1.0</td>\n",
       "      <td>0.0</td>\n",
       "      <td>0.0</td>\n",
       "      <td>1.0</td>\n",
       "      <td>1.0</td>\n",
       "      <td>0.0</td>\n",
       "      <td>0.0</td>\n",
       "      <td>0.0</td>\n",
       "    </tr>\n",
       "    <tr>\n",
       "      <th>4</th>\n",
       "      <td>0.0</td>\n",
       "      <td>1.0</td>\n",
       "      <td>1.0</td>\n",
       "      <td>0.0</td>\n",
       "      <td>0.0</td>\n",
       "      <td>0.0</td>\n",
       "      <td>1.0</td>\n",
       "      <td>0.0</td>\n",
       "    </tr>\n",
       "  </tbody>\n",
       "</table>\n",
       "</div>"
      ],
      "text/plain": [
       "   sex_female  sex_male  smoker_no  smoker_yes  region_northeast  \\\n",
       "0         0.0       1.0        1.0         0.0               0.0   \n",
       "1         1.0       0.0        1.0         0.0               0.0   \n",
       "2         0.0       1.0        1.0         0.0               0.0   \n",
       "3         1.0       0.0        0.0         1.0               1.0   \n",
       "4         0.0       1.0        1.0         0.0               0.0   \n",
       "\n",
       "   region_northwest  region_southeast  region_southwest  \n",
       "0               1.0               0.0               0.0  \n",
       "1               0.0               0.0               1.0  \n",
       "2               0.0               1.0               0.0  \n",
       "3               0.0               0.0               0.0  \n",
       "4               0.0               1.0               0.0  "
      ]
     },
     "execution_count": 76,
     "metadata": {},
     "output_type": "execute_result"
    }
   ],
   "source": [
    "scaler = MinMaxScaler()\n",
    "encoder = OneHotEncoder(sparse=False, handle_unknown='ignore')\n",
    "\n",
    "X_train[numerical] = scaler.fit_transform(X_train[numerical])\n",
    "X_test[numerical] = scaler.transform(X_test[numerical])\n",
    "\n",
    "X_train_ohe = encoder.fit_transform(X_train[categorical])\n",
    "X_test_ohe = encoder.transform(X_test[categorical])\n",
    "\n",
    "X_train_ohe = pd.DataFrame(X_train_ohe, columns=encoder.get_feature_names_out())\n",
    "X_train_ohe.head()"
   ]
  },
  {
   "cell_type": "code",
   "execution_count": 77,
   "id": "e186ca1d-39ce-4042-a072-7b4f19210a34",
   "metadata": {},
   "outputs": [],
   "source": [
    "X_test_ohe = pd.DataFrame(X_test_ohe, columns=encoder.get_feature_names_out())"
   ]
  },
  {
   "cell_type": "code",
   "execution_count": 78,
   "id": "d7d014ce-2a1b-4010-942e-19bcd2a58e5c",
   "metadata": {},
   "outputs": [],
   "source": [
    "X_train = np.column_stack([X_train[numerical], X_train_ohe])\n",
    "X_train = pd.DataFrame(X_train, columns=numerical+list(encoder.get_feature_names_out()))\n",
    "\n",
    "X_test = np.column_stack([X_test[numerical], X_test_ohe])\n",
    "X_test = pd.DataFrame(X_test, columns=numerical+list(encoder.get_feature_names_out()))"
   ]
  },
  {
   "cell_type": "code",
   "execution_count": 79,
   "id": "6746561c-68c2-4edb-86db-2cf050cd1aaf",
   "metadata": {},
   "outputs": [],
   "source": [
    "X_train = X_train.drop(columns=['sex_male'])\n",
    "X_test = X_test.drop(columns=['sex_male'])"
   ]
  },
  {
   "cell_type": "code",
   "execution_count": 80,
   "id": "53de43d8-b83e-47c2-a8e0-7527a008721b",
   "metadata": {},
   "outputs": [
    {
     "data": {
      "text/html": [
       "<div>\n",
       "<style scoped>\n",
       "    .dataframe tbody tr th:only-of-type {\n",
       "        vertical-align: middle;\n",
       "    }\n",
       "\n",
       "    .dataframe tbody tr th {\n",
       "        vertical-align: top;\n",
       "    }\n",
       "\n",
       "    .dataframe thead th {\n",
       "        text-align: right;\n",
       "    }\n",
       "</style>\n",
       "<table border=\"1\" class=\"dataframe\">\n",
       "  <thead>\n",
       "    <tr style=\"text-align: right;\">\n",
       "      <th></th>\n",
       "      <th>age</th>\n",
       "      <th>bmi</th>\n",
       "      <th>children</th>\n",
       "      <th>sex_female</th>\n",
       "      <th>smoker_no</th>\n",
       "      <th>smoker_yes</th>\n",
       "      <th>region_northeast</th>\n",
       "      <th>region_northwest</th>\n",
       "      <th>region_southeast</th>\n",
       "      <th>region_southwest</th>\n",
       "    </tr>\n",
       "  </thead>\n",
       "  <tbody>\n",
       "    <tr>\n",
       "      <th>0</th>\n",
       "      <td>0.695652</td>\n",
       "      <td>0.423792</td>\n",
       "      <td>0.0</td>\n",
       "      <td>0.0</td>\n",
       "      <td>1.0</td>\n",
       "      <td>0.0</td>\n",
       "      <td>0.0</td>\n",
       "      <td>1.0</td>\n",
       "      <td>0.0</td>\n",
       "      <td>0.0</td>\n",
       "    </tr>\n",
       "    <tr>\n",
       "      <th>1</th>\n",
       "      <td>0.130435</td>\n",
       "      <td>0.296985</td>\n",
       "      <td>0.0</td>\n",
       "      <td>1.0</td>\n",
       "      <td>1.0</td>\n",
       "      <td>0.0</td>\n",
       "      <td>0.0</td>\n",
       "      <td>0.0</td>\n",
       "      <td>0.0</td>\n",
       "      <td>1.0</td>\n",
       "    </tr>\n",
       "    <tr>\n",
       "      <th>2</th>\n",
       "      <td>0.652174</td>\n",
       "      <td>0.354812</td>\n",
       "      <td>0.0</td>\n",
       "      <td>0.0</td>\n",
       "      <td>1.0</td>\n",
       "      <td>0.0</td>\n",
       "      <td>0.0</td>\n",
       "      <td>0.0</td>\n",
       "      <td>1.0</td>\n",
       "      <td>0.0</td>\n",
       "    </tr>\n",
       "  </tbody>\n",
       "</table>\n",
       "</div>"
      ],
      "text/plain": [
       "        age       bmi  children  sex_female  smoker_no  smoker_yes  \\\n",
       "0  0.695652  0.423792       0.0         0.0        1.0         0.0   \n",
       "1  0.130435  0.296985       0.0         1.0        1.0         0.0   \n",
       "2  0.652174  0.354812       0.0         0.0        1.0         0.0   \n",
       "\n",
       "   region_northeast  region_northwest  region_southeast  region_southwest  \n",
       "0               0.0               1.0               0.0               0.0  \n",
       "1               0.0               0.0               0.0               1.0  \n",
       "2               0.0               0.0               1.0               0.0  "
      ]
     },
     "execution_count": 80,
     "metadata": {},
     "output_type": "execute_result"
    }
   ],
   "source": [
    "X_train.head(3)"
   ]
  },
  {
   "cell_type": "code",
   "execution_count": 81,
   "id": "a2e65205-a08d-4b81-8297-99c9c9800326",
   "metadata": {},
   "outputs": [
    {
     "data": {
      "text/html": [
       "<div>\n",
       "<style scoped>\n",
       "    .dataframe tbody tr th:only-of-type {\n",
       "        vertical-align: middle;\n",
       "    }\n",
       "\n",
       "    .dataframe tbody tr th {\n",
       "        vertical-align: top;\n",
       "    }\n",
       "\n",
       "    .dataframe thead th {\n",
       "        text-align: right;\n",
       "    }\n",
       "</style>\n",
       "<table border=\"1\" class=\"dataframe\">\n",
       "  <thead>\n",
       "    <tr style=\"text-align: right;\">\n",
       "      <th></th>\n",
       "      <th>age</th>\n",
       "      <th>bmi</th>\n",
       "      <th>children</th>\n",
       "      <th>sex_female</th>\n",
       "      <th>smoker_no</th>\n",
       "      <th>smoker_yes</th>\n",
       "      <th>region_northeast</th>\n",
       "      <th>region_northwest</th>\n",
       "      <th>region_southeast</th>\n",
       "      <th>region_southwest</th>\n",
       "    </tr>\n",
       "  </thead>\n",
       "  <tbody>\n",
       "    <tr>\n",
       "      <th>0</th>\n",
       "      <td>0.021739</td>\n",
       "      <td>0.492496</td>\n",
       "      <td>0.4</td>\n",
       "      <td>1.0</td>\n",
       "      <td>0.0</td>\n",
       "      <td>1.0</td>\n",
       "      <td>0.0</td>\n",
       "      <td>0.0</td>\n",
       "      <td>0.0</td>\n",
       "      <td>1.0</td>\n",
       "    </tr>\n",
       "    <tr>\n",
       "      <th>1</th>\n",
       "      <td>0.347826</td>\n",
       "      <td>0.300289</td>\n",
       "      <td>0.0</td>\n",
       "      <td>1.0</td>\n",
       "      <td>1.0</td>\n",
       "      <td>0.0</td>\n",
       "      <td>0.0</td>\n",
       "      <td>0.0</td>\n",
       "      <td>1.0</td>\n",
       "      <td>0.0</td>\n",
       "    </tr>\n",
       "    <tr>\n",
       "      <th>2</th>\n",
       "      <td>0.521739</td>\n",
       "      <td>0.449952</td>\n",
       "      <td>0.2</td>\n",
       "      <td>1.0</td>\n",
       "      <td>1.0</td>\n",
       "      <td>0.0</td>\n",
       "      <td>1.0</td>\n",
       "      <td>0.0</td>\n",
       "      <td>0.0</td>\n",
       "      <td>0.0</td>\n",
       "    </tr>\n",
       "  </tbody>\n",
       "</table>\n",
       "</div>"
      ],
      "text/plain": [
       "        age       bmi  children  sex_female  smoker_no  smoker_yes  \\\n",
       "0  0.021739  0.492496       0.4         1.0        0.0         1.0   \n",
       "1  0.347826  0.300289       0.0         1.0        1.0         0.0   \n",
       "2  0.521739  0.449952       0.2         1.0        1.0         0.0   \n",
       "\n",
       "   region_northeast  region_northwest  region_southeast  region_southwest  \n",
       "0               0.0               0.0               0.0               1.0  \n",
       "1               0.0               0.0               1.0               0.0  \n",
       "2               1.0               0.0               0.0               0.0  "
      ]
     },
     "execution_count": 81,
     "metadata": {},
     "output_type": "execute_result"
    }
   ],
   "source": [
    "X_test.head(3)"
   ]
  },
  {
   "cell_type": "code",
   "execution_count": 100,
   "id": "0e1d4834-3a92-4782-ae8a-f32eb0d9824c",
   "metadata": {},
   "outputs": [],
   "source": [
    "tf.random.set_seed(42)\n",
    "\n",
    "model = tf.keras.Sequential([\n",
    "    tf.keras.layers.Dense(100),\n",
    "    #tf.keras.layers.Dense(100),\n",
    "    tf.keras.layers.Dense(50),\n",
    "    tf.keras.layers.Dense(10),\n",
    "    tf.keras.layers.Dense(5),\n",
    "    tf.keras.layers.Dense(1),\n",
    "    \n",
    "])\n",
    "\n",
    "model.compile(\n",
    "    loss=tf.keras.losses.mae,\n",
    "    optimizer=tf.keras.optimizers.Adam(),\n",
    "    metrics=[\"mae\"]\n",
    ")\n",
    "\n",
    "history = model.fit(X_train, y_train, epochs=100, verbose=0)"
   ]
  },
  {
   "cell_type": "code",
   "execution_count": 101,
   "id": "0338b687-644f-4669-b56c-1e10ebc0f958",
   "metadata": {},
   "outputs": [
    {
     "name": "stdout",
     "output_type": "stream",
     "text": [
      "9/9 [==============================] - 0s 2ms/step - loss: 3096.0537 - mae: 3096.0537\n"
     ]
    },
    {
     "data": {
      "text/plain": [
       "[3096.0537109375, 3096.0537109375]"
      ]
     },
     "execution_count": 101,
     "metadata": {},
     "output_type": "execute_result"
    }
   ],
   "source": [
    "model.evaluate(X_test, y_test)"
   ]
  },
  {
   "cell_type": "code",
   "execution_count": 91,
   "id": "f5813bcd-7fa3-447c-b473-b52ccca6f1ac",
   "metadata": {},
   "outputs": [
    {
     "data": {
      "image/png": "[encoded data removed]",
      "text/plain": [
       "<Figure size 640x480 with 1 Axes>"
      ]
     },
     "metadata": {},
     "output_type": "display_data"
    }
   ],
   "source": [
    "# Plot history (also known as a loss curve)\n",
    "pd.DataFrame(history.history).plot()\n",
    "plt.ylabel(\"loss\")\n",
    "plt.xlabel(\"epochs\");"
   ]
  },
  {
   "cell_type": "code",
   "execution_count": null,
   "id": "c95e70d9-f296-4051-b402-0e235373c667",
   "metadata": {},
   "outputs": [],
   "source": []
  }
 ],
 "metadata": {
  "kernelspec": {
   "display_name": "Python 3 (ipykernel)",
   "language": "python",
   "name": "python3"
  },
  "language_info": {
   "codemirror_mode": {
    "name": "ipython",
    "version": 3
   },
   "file_extension": ".py",
   "mimetype": "text/x-python",
   "name": "python",
   "nbconvert_exporter": "python",
   "pygments_lexer": "ipython3",
   "version": "3.10.8"
  }
 },
 "nbformat": 4,
 "nbformat_minor": 5
}
