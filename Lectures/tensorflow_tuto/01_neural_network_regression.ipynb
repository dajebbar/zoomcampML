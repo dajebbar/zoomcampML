{
  "nbformat": 4,
  "nbformat_minor": 0,
  "metadata": {
    "colab": {
      "provenance": []
    },
    "kernelspec": {
      "name": "python3",
      "display_name": "Python 3"
    },
    "language_info": {
      "name": "python"
    }
  },
  "cells": [
    {
      "cell_type": "markdown",
      "source": [
        "# Neural Network Regression"
      ],
      "metadata": {
        "id": "pctGRzmvaL3b"
      }
    },
    {
      "cell_type": "markdown",
      "source": [
        "\n",
        "  - Architecture of a regression model\n",
        "  - Input shapes and output shapes\n",
        "      - `X`: features/data (inputs)\n",
        "      - `y`: labels (outputs)\n",
        "  - Creating custom data to view and fit\n",
        "  - Steps in modelling\n",
        "      - Creating a model\n",
        "      - Compiling a model\n",
        "          - Defining a loss function\n",
        "          - Setting up an optimizer\n",
        "          - Creating evaluation metrics\n",
        "      - Fitting a model (getting it to find patterns in our data)\n",
        "  - Evaluating a model\n",
        "      - Visualizng the model (\"visualize, visualize, visualize\")\n",
        "      - Looking at training curves\n",
        "      - Compare predictions to ground truth (using our evaluation metrics)\n",
        "  - Saving a model (so we can use it later)\n",
        "  - Loading a model\n"
      ],
      "metadata": {
        "id": "roQqyki3aV-7"
      }
    },
    {
      "cell_type": "code",
      "execution_count": 1,
      "metadata": {
        "colab": {
          "base_uri": "https://localhost:8080/",
          "height": 35
        },
        "id": "Nsqhplm2aB46",
        "outputId": "0c9abac6-9e3e-4808-9500-dab18a979d17"
      },
      "outputs": [
        {
          "output_type": "execute_result",
          "data": {
            "text/plain": [
              "'2.9.2'"
            ],
            "application/vnd.google.colaboratory.intrinsic+json": {
              "type": "string"
            }
          },
          "metadata": {},
          "execution_count": 1
        }
      ],
      "source": [
        "import tensorflow as tf\n",
        "tf.__version__"
      ]
    },
    {
      "cell_type": "markdown",
      "source": [
        "# Creating data"
      ],
      "metadata": {
        "id": "O_qas5ntbhsK"
      }
    },
    {
      "cell_type": "code",
      "source": [
        "import numpy as np\n",
        "import matplotlib.pyplot as plt\n",
        "\n",
        "# Create features\n",
        "X = np.array([-7.0, -4.0, -1.0, 2.0, 5.0, 8.0, 11.0, 14.0])\n",
        "\n",
        "# Create labels\n",
        "y = np.array([3.0, 6.0, 9.0, 12.0, 15.0, 18.0, 21.0, 24.0])\n",
        "\n",
        "# Visualize it\n",
        "plt.scatter(X, y)\n",
        "plt.show()"
      ],
      "metadata": {
        "colab": {
          "base_uri": "https://localhost:8080/",
          "height": 269
        },
        "id": "a1k7SEyVbKNL",
        "outputId": "432eba1f-4326-465c-c0db-7e9730076b23"
      },
      "execution_count": 2,
      "outputs": [
        {
          "output_type": "display_data",
          "data": {
            "text/plain": [
              "<Figure size 432x288 with 1 Axes>"
            ],
            "image/png": "[encoded data removed]"
          },
          "metadata": {
            "needs_background": "light"
          }
        }
      ]
    },
    {
      "cell_type": "markdown",
      "source": [
        "# Regression input shapes and output shapes"
      ],
      "metadata": {
        "id": "9BgUifFmbjlq"
      }
    },
    {
      "cell_type": "code",
      "source": [
        "X = tf.cast(tf.constant(X),dtype=tf.float32)\n",
        "y = tf.cast(tf.constant(y), dtype=tf.float32)\n",
        "\n",
        "X, y"
      ],
      "metadata": {
        "colab": {
          "base_uri": "https://localhost:8080/"
        },
        "id": "FHRVy7AubV2z",
        "outputId": "c57d5163-0443-4d00-9668-5c0585192d18"
      },
      "execution_count": 3,
      "outputs": [
        {
          "output_type": "execute_result",
          "data": {
            "text/plain": [
              "(<tf.Tensor: shape=(8,), dtype=float32, numpy=array([-7., -4., -1.,  2.,  5.,  8., 11., 14.], dtype=float32)>,\n",
              " <tf.Tensor: shape=(8,), dtype=float32, numpy=array([ 3.,  6.,  9., 12., 15., 18., 21., 24.], dtype=float32)>)"
            ]
          },
          "metadata": {},
          "execution_count": 3
        }
      ]
    },
    {
      "cell_type": "code",
      "source": [
        "# Take a single example of X\n",
        "input_shape = X[0].shape \n",
        "\n",
        "# Take a single example of y\n",
        "output_shape = y[0].shape\n",
        "\n",
        "input_shape, output_shape # these are both scalars (no shape)"
      ],
      "metadata": {
        "colab": {
          "base_uri": "https://localhost:8080/"
        },
        "id": "UiI4htrGcXqP",
        "outputId": "45e365df-d281-49a7-c0ad-8f908e3ba7da"
      },
      "execution_count": 4,
      "outputs": [
        {
          "output_type": "execute_result",
          "data": {
            "text/plain": [
              "(TensorShape([]), TensorShape([]))"
            ]
          },
          "metadata": {},
          "execution_count": 4
        }
      ]
    },
    {
      "cell_type": "markdown",
      "source": [
        "# Steps in modelling with TensorFlow\n",
        "\n",
        "In TensorFlow, there are typically 3 fundamental steps to creating and training a model.\n",
        "\n",
        "  - **Creating a model** - piece together the layers of a neural network yourself (using the [Functional](https://www.tensorflow.org/guide/keras/functional) or [Sequential](https://www.tensorflow.org/api_docs/python/tf/keras/Sequential) API) or import a previously built model (known as transfer learning).\n",
        "  - **Compiling a model** - defining how a models performance should be measured (loss/metrics) as well as defining how it should improve (optimizer).\n",
        "  - **Fitting a model** - letting the model try to find patterns in the data (how does `X `get to `y`).  \n",
        "\n",
        "**Note**: If you're using `TensorFlow 2.7.0**+**`, the `fit()` function no longer upscales input data to go from `(batch_size, ) to (batch_size, 1)`. To fix this, you'll need to expand the dimension of input data using `tf.expand_dims(input_data, axis=-1)`.\n",
        "\n",
        "In our case, this means instead of using `model.fit(X, y, epochs=5)`, use `model.fit(tf.expand_dims(X, axis=-1), y, epochs=5)`.\n",
        "\n"
      ],
      "metadata": {
        "id": "QFI8R9iYdJY0"
      }
    },
    {
      "cell_type": "code",
      "source": [
        "# set random seed\n",
        "tf.random.set_seed(42)\n",
        "\n",
        "# create a model using the Sequential API\n",
        "model = tf.keras.Sequential([\n",
        "    tf.keras.layers.Dense(1)\n",
        "])\n",
        "\n",
        "# compile the model\n",
        "model.compile(\n",
        "    loss=tf.keras.losses.mae,\n",
        "    optimizer=tf.keras.optimizers.SGD(),\n",
        "    metrics=[\"mae\"]\n",
        ")\n",
        "\n",
        "# fit the model\n",
        "model.fit(tf.expand_dims(X, axis=-1), y, epochs=5)"
      ],
      "metadata": {
        "colab": {
          "base_uri": "https://localhost:8080/"
        },
        "id": "M-Gk6WT_cj5L",
        "outputId": "b026d9ec-99b9-4ebc-ad9e-46ecc85a6905"
      },
      "execution_count": 7,
      "outputs": [
        {
          "output_type": "stream",
          "name": "stdout",
          "text": [
            "Epoch 1/5\n",
            "1/1 [==============================] - 1s 857ms/step - loss: 11.5048 - mae: 11.5048\n",
            "Epoch 2/5\n",
            "1/1 [==============================] - 0s 10ms/step - loss: 11.3723 - mae: 11.3723\n",
            "Epoch 3/5\n",
            "1/1 [==============================] - 0s 8ms/step - loss: 11.2398 - mae: 11.2398\n",
            "Epoch 4/5\n",
            "1/1 [==============================] - 0s 7ms/step - loss: 11.1073 - mae: 11.1073\n",
            "Epoch 5/5\n",
            "1/1 [==============================] - 0s 8ms/step - loss: 10.9748 - mae: 10.9748\n"
          ]
        },
        {
          "output_type": "execute_result",
          "data": {
            "text/plain": [
              "<keras.callbacks.History at 0x7f9d420f9ad0>"
            ]
          },
          "metadata": {},
          "execution_count": 7
        }
      ]
    },
    {
      "cell_type": "code",
      "source": [
        "X, y"
      ],
      "metadata": {
        "colab": {
          "base_uri": "https://localhost:8080/"
        },
        "id": "bvLGj6V1fjRf",
        "outputId": "6183fe78-3697-4792-e6af-80f8f6a5e601"
      },
      "execution_count": 8,
      "outputs": [
        {
          "output_type": "execute_result",
          "data": {
            "text/plain": [
              "(<tf.Tensor: shape=(8,), dtype=float32, numpy=array([-7., -4., -1.,  2.,  5.,  8., 11., 14.], dtype=float32)>,\n",
              " <tf.Tensor: shape=(8,), dtype=float32, numpy=array([ 3.,  6.,  9., 12., 15., 18., 21., 24.], dtype=float32)>)"
            ]
          },
          "metadata": {},
          "execution_count": 8
        }
      ]
    },
    {
      "cell_type": "code",
      "source": [
        "y_pred = model.predict([17.0])[0][0]\n",
        "y_pred"
      ],
      "metadata": {
        "colab": {
          "base_uri": "https://localhost:8080/"
        },
        "id": "XHRMazGXt5Uv",
        "outputId": "bef785b3-9a1b-4719-f488-af95cbc36839"
      },
      "execution_count": 11,
      "outputs": [
        {
          "output_type": "stream",
          "name": "stdout",
          "text": [
            "1/1 [==============================] - 0s 28ms/step\n"
          ]
        },
        {
          "output_type": "execute_result",
          "data": {
            "text/plain": [
              "12.716021"
            ]
          },
          "metadata": {},
          "execution_count": 11
        }
      ]
    },
    {
      "cell_type": "markdown",
      "source": [
        "# Improving a model\n",
        "\n",
        "To improve our model, we alter almost every part of the 3 steps we went through before.\n",
        "\n",
        "\n",
        "\n",
        "1.   **Creating a model** - here you might want to add more layers, increase the number of hidden units (also called neurons) within each layer, change the activation functions of each layer.\n",
        "2.   **Compiling a model** - you might want to choose optimization function or perhaps change the **learning rate** of the optimization function.\n",
        "3.  **Fitting a model** - perhaps you could fit a model for more epochs (leave it training for longer) or on more data (give the model more examples to learn from)."
      ],
      "metadata": {
        "id": "8H-9isPzvq-E"
      }
    },
    {
      "cell_type": "code",
      "source": [
        "# set random seed\n",
        "tf.random.set_seed(42)\n",
        "\n",
        "# create a model (same as above)\n",
        "model = tf.keras.Sequential([\n",
        "    tf.keras.layers.Dense(1)\n",
        "])\n",
        "\n",
        "# compile model (same as above)\n",
        "model.compile(\n",
        "    loss=tf.keras.losses.mae,\n",
        "    optimizer=tf.optimizers.SGD(),\n",
        "    metrics=[\"mae\"]\n",
        ")\n",
        "# Fit model (this time we'll train for longer) from 5 to 100\n",
        "model.fit(tf.expand_dims(X, axis=-1), y, epochs=100)"
      ],
      "metadata": {
        "colab": {
          "base_uri": "https://localhost:8080/"
        },
        "id": "HdFFm1WAuA5E",
        "outputId": "1f7e3ed1-c2b8-4431-af5f-0dfcd5bc5963"
      },
      "execution_count": 12,
      "outputs": [
        {
          "output_type": "stream",
          "name": "stdout",
          "text": [
            "Epoch 1/100\n",
            "1/1 [==============================] - 0s 469ms/step - loss: 11.5048 - mae: 11.5048\n",
            "Epoch 2/100\n",
            "1/1 [==============================] - 0s 8ms/step - loss: 11.3723 - mae: 11.3723\n",
            "Epoch 3/100\n",
            "1/1 [==============================] - 0s 10ms/step - loss: 11.2398 - mae: 11.2398\n",
            "Epoch 4/100\n",
            "1/1 [==============================] - 0s 7ms/step - loss: 11.1073 - mae: 11.1073\n",
            "Epoch 5/100\n",
            "1/1 [==============================] - 0s 7ms/step - loss: 10.9748 - mae: 10.9748\n",
            "Epoch 6/100\n",
            "1/1 [==============================] - 0s 7ms/step - loss: 10.8423 - mae: 10.8423\n",
            "Epoch 7/100\n",
            "1/1 [==============================] - 0s 8ms/step - loss: 10.7098 - mae: 10.7098\n",
            "Epoch 8/100\n",
            "1/1 [==============================] - 0s 7ms/step - loss: 10.5773 - mae: 10.5773\n",
            "Epoch 9/100\n",
            "1/1 [==============================] - 0s 8ms/step - loss: 10.4448 - mae: 10.4448\n",
            "Epoch 10/100\n",
            "1/1 [==============================] - 0s 8ms/step - loss: 10.3123 - mae: 10.3123\n",
            "Epoch 11/100\n",
            "1/1 [==============================] - 0s 8ms/step - loss: 10.1798 - mae: 10.1798\n",
            "Epoch 12/100\n",
            "1/1 [==============================] - 0s 9ms/step - loss: 10.0473 - mae: 10.0473\n",
            "Epoch 13/100\n",
            "1/1 [==============================] - 0s 12ms/step - loss: 9.9148 - mae: 9.9148\n",
            "Epoch 14/100\n",
            "1/1 [==============================] - 0s 20ms/step - loss: 9.7823 - mae: 9.7823\n",
            "Epoch 15/100\n",
            "1/1 [==============================] - 0s 9ms/step - loss: 9.6498 - mae: 9.6498\n",
            "Epoch 16/100\n",
            "1/1 [==============================] - 0s 9ms/step - loss: 9.5173 - mae: 9.5173\n",
            "Epoch 17/100\n",
            "1/1 [==============================] - 0s 10ms/step - loss: 9.3848 - mae: 9.3848\n",
            "Epoch 18/100\n",
            "1/1 [==============================] - 0s 15ms/step - loss: 9.2523 - mae: 9.2523\n",
            "Epoch 19/100\n",
            "1/1 [==============================] - 0s 9ms/step - loss: 9.1198 - mae: 9.1198\n",
            "Epoch 20/100\n",
            "1/1 [==============================] - 0s 10ms/step - loss: 8.9873 - mae: 8.9873\n",
            "Epoch 21/100\n",
            "1/1 [==============================] - 0s 8ms/step - loss: 8.8548 - mae: 8.8548\n",
            "Epoch 22/100\n",
            "1/1 [==============================] - 0s 8ms/step - loss: 8.7223 - mae: 8.7223\n",
            "Epoch 23/100\n",
            "1/1 [==============================] - 0s 19ms/step - loss: 8.5898 - mae: 8.5898\n",
            "Epoch 24/100\n",
            "1/1 [==============================] - 0s 16ms/step - loss: 8.4573 - mae: 8.4573\n",
            "Epoch 25/100\n",
            "1/1 [==============================] - 0s 16ms/step - loss: 8.3248 - mae: 8.3248\n",
            "Epoch 26/100\n",
            "1/1 [==============================] - 0s 7ms/step - loss: 8.1923 - mae: 8.1923\n",
            "Epoch 27/100\n",
            "1/1 [==============================] - 0s 7ms/step - loss: 8.0598 - mae: 8.0598\n",
            "Epoch 28/100\n",
            "1/1 [==============================] - 0s 12ms/step - loss: 7.9273 - mae: 7.9273\n",
            "Epoch 29/100\n",
            "1/1 [==============================] - 0s 9ms/step - loss: 7.7948 - mae: 7.7948\n",
            "Epoch 30/100\n",
            "1/1 [==============================] - 0s 14ms/step - loss: 7.6623 - mae: 7.6623\n",
            "Epoch 31/100\n",
            "1/1 [==============================] - 0s 11ms/step - loss: 7.5298 - mae: 7.5298\n",
            "Epoch 32/100\n",
            "1/1 [==============================] - 0s 15ms/step - loss: 7.3973 - mae: 7.3973\n",
            "Epoch 33/100\n",
            "1/1 [==============================] - 0s 15ms/step - loss: 7.2648 - mae: 7.2648\n",
            "Epoch 34/100\n",
            "1/1 [==============================] - 0s 10ms/step - loss: 7.2525 - mae: 7.2525\n",
            "Epoch 35/100\n",
            "1/1 [==============================] - 0s 12ms/step - loss: 7.2469 - mae: 7.2469\n",
            "Epoch 36/100\n",
            "1/1 [==============================] - 0s 11ms/step - loss: 7.2413 - mae: 7.2413\n",
            "Epoch 37/100\n",
            "1/1 [==============================] - 0s 9ms/step - loss: 7.2356 - mae: 7.2356\n",
            "Epoch 38/100\n",
            "1/1 [==============================] - 0s 16ms/step - loss: 7.2300 - mae: 7.2300\n",
            "Epoch 39/100\n",
            "1/1 [==============================] - 0s 14ms/step - loss: 7.2244 - mae: 7.2244\n",
            "Epoch 40/100\n",
            "1/1 [==============================] - 0s 10ms/step - loss: 7.2188 - mae: 7.2188\n",
            "Epoch 41/100\n",
            "1/1 [==============================] - 0s 17ms/step - loss: 7.2131 - mae: 7.2131\n",
            "Epoch 42/100\n",
            "1/1 [==============================] - 0s 11ms/step - loss: 7.2075 - mae: 7.2075\n",
            "Epoch 43/100\n",
            "1/1 [==============================] - 0s 8ms/step - loss: 7.2019 - mae: 7.2019\n",
            "Epoch 44/100\n",
            "1/1 [==============================] - 0s 13ms/step - loss: 7.1963 - mae: 7.1963\n",
            "Epoch 45/100\n",
            "1/1 [==============================] - 0s 13ms/step - loss: 7.1906 - mae: 7.1906\n",
            "Epoch 46/100\n",
            "1/1 [==============================] - 0s 11ms/step - loss: 7.1850 - mae: 7.1850\n",
            "Epoch 47/100\n",
            "1/1 [==============================] - 0s 8ms/step - loss: 7.1794 - mae: 7.1794\n",
            "Epoch 48/100\n",
            "1/1 [==============================] - 0s 13ms/step - loss: 7.1738 - mae: 7.1738\n",
            "Epoch 49/100\n",
            "1/1 [==============================] - 0s 10ms/step - loss: 7.1681 - mae: 7.1681\n",
            "Epoch 50/100\n",
            "1/1 [==============================] - 0s 9ms/step - loss: 7.1625 - mae: 7.1625\n",
            "Epoch 51/100\n",
            "1/1 [==============================] - 0s 8ms/step - loss: 7.1569 - mae: 7.1569\n",
            "Epoch 52/100\n",
            "1/1 [==============================] - 0s 8ms/step - loss: 7.1512 - mae: 7.1512\n",
            "Epoch 53/100\n",
            "1/1 [==============================] - 0s 7ms/step - loss: 7.1456 - mae: 7.1456\n",
            "Epoch 54/100\n",
            "1/1 [==============================] - 0s 8ms/step - loss: 7.1400 - mae: 7.1400\n",
            "Epoch 55/100\n",
            "1/1 [==============================] - 0s 7ms/step - loss: 7.1344 - mae: 7.1344\n",
            "Epoch 56/100\n",
            "1/1 [==============================] - 0s 7ms/step - loss: 7.1287 - mae: 7.1287\n",
            "Epoch 57/100\n",
            "1/1 [==============================] - 0s 9ms/step - loss: 7.1231 - mae: 7.1231\n",
            "Epoch 58/100\n",
            "1/1 [==============================] - 0s 9ms/step - loss: 7.1175 - mae: 7.1175\n",
            "Epoch 59/100\n",
            "1/1 [==============================] - 0s 9ms/step - loss: 7.1119 - mae: 7.1119\n",
            "Epoch 60/100\n",
            "1/1 [==============================] - 0s 8ms/step - loss: 7.1063 - mae: 7.1063\n",
            "Epoch 61/100\n",
            "1/1 [==============================] - 0s 9ms/step - loss: 7.1006 - mae: 7.1006\n",
            "Epoch 62/100\n",
            "1/1 [==============================] - 0s 13ms/step - loss: 7.0950 - mae: 7.0950\n",
            "Epoch 63/100\n",
            "1/1 [==============================] - 0s 9ms/step - loss: 7.0894 - mae: 7.0894\n",
            "Epoch 64/100\n",
            "1/1 [==============================] - 0s 9ms/step - loss: 7.0838 - mae: 7.0838\n",
            "Epoch 65/100\n",
            "1/1 [==============================] - 0s 9ms/step - loss: 7.0781 - mae: 7.0781\n",
            "Epoch 66/100\n",
            "1/1 [==============================] - 0s 15ms/step - loss: 7.0725 - mae: 7.0725\n",
            "Epoch 67/100\n",
            "1/1 [==============================] - 0s 18ms/step - loss: 7.0669 - mae: 7.0669\n",
            "Epoch 68/100\n",
            "1/1 [==============================] - 0s 17ms/step - loss: 7.0613 - mae: 7.0613\n",
            "Epoch 69/100\n",
            "1/1 [==============================] - 0s 23ms/step - loss: 7.0556 - mae: 7.0556\n",
            "Epoch 70/100\n",
            "1/1 [==============================] - 0s 9ms/step - loss: 7.0500 - mae: 7.0500\n",
            "Epoch 71/100\n",
            "1/1 [==============================] - 0s 10ms/step - loss: 7.0444 - mae: 7.0444\n",
            "Epoch 72/100\n",
            "1/1 [==============================] - 0s 9ms/step - loss: 7.0388 - mae: 7.0388\n",
            "Epoch 73/100\n",
            "1/1 [==============================] - 0s 9ms/step - loss: 7.0331 - mae: 7.0331\n",
            "Epoch 74/100\n",
            "1/1 [==============================] - 0s 18ms/step - loss: 7.0275 - mae: 7.0275\n",
            "Epoch 75/100\n",
            "1/1 [==============================] - 0s 16ms/step - loss: 7.0219 - mae: 7.0219\n",
            "Epoch 76/100\n",
            "1/1 [==============================] - 0s 9ms/step - loss: 7.0163 - mae: 7.0163\n",
            "Epoch 77/100\n",
            "1/1 [==============================] - 0s 8ms/step - loss: 7.0106 - mae: 7.0106\n",
            "Epoch 78/100\n",
            "1/1 [==============================] - 0s 15ms/step - loss: 7.0050 - mae: 7.0050\n",
            "Epoch 79/100\n",
            "1/1 [==============================] - 0s 15ms/step - loss: 6.9994 - mae: 6.9994\n",
            "Epoch 80/100\n",
            "1/1 [==============================] - 0s 7ms/step - loss: 6.9938 - mae: 6.9938\n",
            "Epoch 81/100\n",
            "1/1 [==============================] - 0s 6ms/step - loss: 6.9881 - mae: 6.9881\n",
            "Epoch 82/100\n",
            "1/1 [==============================] - 0s 6ms/step - loss: 6.9825 - mae: 6.9825\n",
            "Epoch 83/100\n",
            "1/1 [==============================] - 0s 7ms/step - loss: 6.9769 - mae: 6.9769\n",
            "Epoch 84/100\n",
            "1/1 [==============================] - 0s 9ms/step - loss: 6.9713 - mae: 6.9713\n",
            "Epoch 85/100\n",
            "1/1 [==============================] - 0s 19ms/step - loss: 6.9656 - mae: 6.9656\n",
            "Epoch 86/100\n",
            "1/1 [==============================] - 0s 14ms/step - loss: 6.9600 - mae: 6.9600\n",
            "Epoch 87/100\n",
            "1/1 [==============================] - 0s 12ms/step - loss: 6.9544 - mae: 6.9544\n",
            "Epoch 88/100\n",
            "1/1 [==============================] - 0s 15ms/step - loss: 6.9488 - mae: 6.9488\n",
            "Epoch 89/100\n",
            "1/1 [==============================] - 0s 10ms/step - loss: 6.9431 - mae: 6.9431\n",
            "Epoch 90/100\n",
            "1/1 [==============================] - 0s 10ms/step - loss: 6.9375 - mae: 6.9375\n",
            "Epoch 91/100\n",
            "1/1 [==============================] - 0s 13ms/step - loss: 6.9319 - mae: 6.9319\n",
            "Epoch 92/100\n",
            "1/1 [==============================] - 0s 14ms/step - loss: 6.9263 - mae: 6.9263\n",
            "Epoch 93/100\n",
            "1/1 [==============================] - 0s 21ms/step - loss: 6.9206 - mae: 6.9206\n",
            "Epoch 94/100\n",
            "1/1 [==============================] - 0s 17ms/step - loss: 6.9150 - mae: 6.9150\n",
            "Epoch 95/100\n",
            "1/1 [==============================] - 0s 63ms/step - loss: 6.9094 - mae: 6.9094\n",
            "Epoch 96/100\n",
            "1/1 [==============================] - 0s 79ms/step - loss: 6.9038 - mae: 6.9038\n",
            "Epoch 97/100\n",
            "1/1 [==============================] - 0s 11ms/step - loss: 6.8981 - mae: 6.8981\n",
            "Epoch 98/100\n",
            "1/1 [==============================] - 0s 11ms/step - loss: 6.8925 - mae: 6.8925\n",
            "Epoch 99/100\n",
            "1/1 [==============================] - 0s 10ms/step - loss: 6.8869 - mae: 6.8869\n",
            "Epoch 100/100\n",
            "1/1 [==============================] - 0s 10ms/step - loss: 6.8813 - mae: 6.8813\n"
          ]
        },
        {
          "output_type": "execute_result",
          "data": {
            "text/plain": [
              "<keras.callbacks.History at 0x7f9d38c5fa90>"
            ]
          },
          "metadata": {},
          "execution_count": 12
        }
      ]
    },
    {
      "cell_type": "code",
      "source": [
        "X, y"
      ],
      "metadata": {
        "colab": {
          "base_uri": "https://localhost:8080/"
        },
        "id": "MtbacaU8ys0o",
        "outputId": "d6f54ae3-42c2-4566-a241-21915bc26d44"
      },
      "execution_count": 13,
      "outputs": [
        {
          "output_type": "execute_result",
          "data": {
            "text/plain": [
              "(<tf.Tensor: shape=(8,), dtype=float32, numpy=array([-7., -4., -1.,  2.,  5.,  8., 11., 14.], dtype=float32)>,\n",
              " <tf.Tensor: shape=(8,), dtype=float32, numpy=array([ 3.,  6.,  9., 12., 15., 18., 21., 24.], dtype=float32)>)"
            ]
          },
          "metadata": {},
          "execution_count": 13
        }
      ]
    },
    {
      "cell_type": "code",
      "source": [
        "# Try and predict what y would be if X was 17.0\n",
        "model.predict([17.0])[0][0] # the right answer is 27.0 (y = X + 10)"
      ],
      "metadata": {
        "colab": {
          "base_uri": "https://localhost:8080/"
        },
        "id": "RzBCYv8qy7Xl",
        "outputId": "81ab1ed9-d0be-41fe-fa9c-4b91d6ace571"
      },
      "execution_count": 14,
      "outputs": [
        {
          "output_type": "stream",
          "name": "stdout",
          "text": [
            "1/1 [==============================] - 0s 48ms/step\n"
          ]
        },
        {
          "output_type": "execute_result",
          "data": {
            "text/plain": [
              "30.158512"
            ]
          },
          "metadata": {},
          "execution_count": 14
        }
      ]
    },
    {
      "cell_type": "markdown",
      "source": [
        "\n",
        "\n",
        "Much better!\n",
        "\n",
        "We got closer this time. But we could still be better.\n",
        "\n",
        "Now we've trained a model, how could we evaluate it?\n"
      ],
      "metadata": {
        "id": "EhQJCUZizJvW"
      }
    },
    {
      "cell_type": "code",
      "source": [
        "# Improving model by adding one hidden layer\n",
        "\n",
        "# set random seed\n",
        "tf.random.set_seed(42)\n",
        "\n",
        "# create a model (same as above)\n",
        "model = tf.keras.Sequential([\n",
        "    tf.keras.layers.Dense(100, activation=\"relu\"),\n",
        "    tf.keras.layers.Dense(1)\n",
        "])\n",
        "\n",
        "# compile model (same as above)\n",
        "model.compile(\n",
        "    loss=tf.keras.losses.mae,\n",
        "    optimizer=tf.optimizers.SGD(),\n",
        "    metrics=[\"mae\"]\n",
        ")\n",
        "# Fit model (this time we'll train for longer) from 5 to 100\n",
        "model.fit(tf.expand_dims(X, axis=-1), y, epochs=100)"
      ],
      "metadata": {
        "colab": {
          "base_uri": "https://localhost:8080/"
        },
        "id": "B0XAw5XyzCuE",
        "outputId": "f284b297-2a42-41bd-aa86-ada2bb7086ef"
      },
      "execution_count": 15,
      "outputs": [
        {
          "output_type": "stream",
          "name": "stdout",
          "text": [
            "Epoch 1/100\n",
            "1/1 [==============================] - 1s 638ms/step - loss: 12.3185 - mae: 12.3185\n",
            "Epoch 2/100\n",
            "1/1 [==============================] - 0s 19ms/step - loss: 11.7696 - mae: 11.7696\n",
            "Epoch 3/100\n",
            "1/1 [==============================] - 0s 22ms/step - loss: 11.2132 - mae: 11.2132\n",
            "Epoch 4/100\n",
            "1/1 [==============================] - 0s 15ms/step - loss: 10.6444 - mae: 10.6444\n",
            "Epoch 5/100\n",
            "1/1 [==============================] - 0s 15ms/step - loss: 10.0534 - mae: 10.0534\n",
            "Epoch 6/100\n",
            "1/1 [==============================] - 0s 17ms/step - loss: 9.4344 - mae: 9.4344\n",
            "Epoch 7/100\n",
            "1/1 [==============================] - 0s 13ms/step - loss: 8.7821 - mae: 8.7821\n",
            "Epoch 8/100\n",
            "1/1 [==============================] - 0s 7ms/step - loss: 8.0881 - mae: 8.0881\n",
            "Epoch 9/100\n",
            "1/1 [==============================] - 0s 8ms/step - loss: 7.3552 - mae: 7.3552\n",
            "Epoch 10/100\n",
            "1/1 [==============================] - 0s 9ms/step - loss: 6.5787 - mae: 6.5787\n",
            "Epoch 11/100\n",
            "1/1 [==============================] - 0s 16ms/step - loss: 5.7437 - mae: 5.7437\n",
            "Epoch 12/100\n",
            "1/1 [==============================] - 0s 13ms/step - loss: 4.8395 - mae: 4.8395\n",
            "Epoch 13/100\n",
            "1/1 [==============================] - 0s 13ms/step - loss: 4.1104 - mae: 4.1104\n",
            "Epoch 14/100\n",
            "1/1 [==============================] - 0s 9ms/step - loss: 4.0143 - mae: 4.0143\n",
            "Epoch 15/100\n",
            "1/1 [==============================] - 0s 7ms/step - loss: 3.9156 - mae: 3.9156\n",
            "Epoch 16/100\n",
            "1/1 [==============================] - 0s 7ms/step - loss: 3.9722 - mae: 3.9722\n",
            "Epoch 17/100\n",
            "1/1 [==============================] - 0s 7ms/step - loss: 3.9044 - mae: 3.9044\n",
            "Epoch 18/100\n",
            "1/1 [==============================] - 0s 7ms/step - loss: 3.9636 - mae: 3.9636\n",
            "Epoch 19/100\n",
            "1/1 [==============================] - 0s 7ms/step - loss: 3.9191 - mae: 3.9191\n",
            "Epoch 20/100\n",
            "1/1 [==============================] - 0s 7ms/step - loss: 3.9452 - mae: 3.9452\n",
            "Epoch 21/100\n",
            "1/1 [==============================] - 0s 7ms/step - loss: 3.9259 - mae: 3.9259\n",
            "Epoch 22/100\n",
            "1/1 [==============================] - 0s 7ms/step - loss: 3.9194 - mae: 3.9194\n",
            "Epoch 23/100\n",
            "1/1 [==============================] - 0s 7ms/step - loss: 3.9328 - mae: 3.9328\n",
            "Epoch 24/100\n",
            "1/1 [==============================] - 0s 9ms/step - loss: 3.8934 - mae: 3.8934\n",
            "Epoch 25/100\n",
            "1/1 [==============================] - 0s 9ms/step - loss: 3.9399 - mae: 3.9399\n",
            "Epoch 26/100\n",
            "1/1 [==============================] - 0s 9ms/step - loss: 3.8726 - mae: 3.8726\n",
            "Epoch 27/100\n",
            "1/1 [==============================] - 0s 8ms/step - loss: 3.9469 - mae: 3.9469\n",
            "Epoch 28/100\n",
            "1/1 [==============================] - 0s 14ms/step - loss: 3.8875 - mae: 3.8875\n",
            "Epoch 29/100\n",
            "1/1 [==============================] - 0s 11ms/step - loss: 3.9223 - mae: 3.9223\n",
            "Epoch 30/100\n",
            "1/1 [==============================] - 0s 10ms/step - loss: 3.8945 - mae: 3.8945\n",
            "Epoch 31/100\n",
            "1/1 [==============================] - 0s 9ms/step - loss: 3.8962 - mae: 3.8962\n",
            "Epoch 32/100\n",
            "1/1 [==============================] - 0s 8ms/step - loss: 3.9016 - mae: 3.9016\n",
            "Epoch 33/100\n",
            "1/1 [==============================] - 0s 8ms/step - loss: 3.8700 - mae: 3.8700\n",
            "Epoch 34/100\n",
            "1/1 [==============================] - 0s 8ms/step - loss: 3.9089 - mae: 3.9089\n",
            "Epoch 35/100\n",
            "1/1 [==============================] - 0s 8ms/step - loss: 3.8473 - mae: 3.8473\n",
            "Epoch 36/100\n",
            "1/1 [==============================] - 0s 9ms/step - loss: 3.9242 - mae: 3.9242\n",
            "Epoch 37/100\n",
            "1/1 [==============================] - 0s 8ms/step - loss: 3.8570 - mae: 3.8570\n",
            "Epoch 38/100\n",
            "1/1 [==============================] - 0s 8ms/step - loss: 3.8981 - mae: 3.8981\n",
            "Epoch 39/100\n",
            "1/1 [==============================] - 0s 9ms/step - loss: 3.8642 - mae: 3.8642\n",
            "Epoch 40/100\n",
            "1/1 [==============================] - 0s 11ms/step - loss: 3.8718 - mae: 3.8718\n",
            "Epoch 41/100\n",
            "1/1 [==============================] - 0s 12ms/step - loss: 3.8715 - mae: 3.8715\n",
            "Epoch 42/100\n",
            "1/1 [==============================] - 0s 14ms/step - loss: 3.8453 - mae: 3.8453\n",
            "Epoch 43/100\n",
            "1/1 [==============================] - 0s 8ms/step - loss: 3.8800 - mae: 3.8800\n",
            "Epoch 44/100\n",
            "1/1 [==============================] - 0s 7ms/step - loss: 3.8260 - mae: 3.8260\n",
            "Epoch 45/100\n",
            "1/1 [==============================] - 0s 7ms/step - loss: 3.8944 - mae: 3.8944\n",
            "Epoch 46/100\n",
            "1/1 [==============================] - 0s 13ms/step - loss: 3.8276 - mae: 3.8276\n",
            "Epoch 47/100\n",
            "1/1 [==============================] - 0s 10ms/step - loss: 3.8726 - mae: 3.8726\n",
            "Epoch 48/100\n",
            "1/1 [==============================] - 0s 8ms/step - loss: 3.8350 - mae: 3.8350\n",
            "Epoch 49/100\n",
            "1/1 [==============================] - 0s 12ms/step - loss: 3.8461 - mae: 3.8461\n",
            "Epoch 50/100\n",
            "1/1 [==============================] - 0s 9ms/step - loss: 3.8426 - mae: 3.8426\n",
            "Epoch 51/100\n",
            "1/1 [==============================] - 0s 8ms/step - loss: 3.8194 - mae: 3.8194\n",
            "Epoch 52/100\n",
            "1/1 [==============================] - 0s 9ms/step - loss: 3.8563 - mae: 3.8563\n",
            "Epoch 53/100\n",
            "1/1 [==============================] - 0s 9ms/step - loss: 3.7997 - mae: 3.7997\n",
            "Epoch 54/100\n",
            "1/1 [==============================] - 0s 8ms/step - loss: 3.8659 - mae: 3.8659\n",
            "Epoch 55/100\n",
            "1/1 [==============================] - 0s 8ms/step - loss: 3.7994 - mae: 3.7994\n",
            "Epoch 56/100\n",
            "1/1 [==============================] - 0s 8ms/step - loss: 3.8460 - mae: 3.8460\n",
            "Epoch 57/100\n",
            "1/1 [==============================] - 0s 8ms/step - loss: 3.8070 - mae: 3.8070\n",
            "Epoch 58/100\n",
            "1/1 [==============================] - 0s 12ms/step - loss: 3.8191 - mae: 3.8191\n",
            "Epoch 59/100\n",
            "1/1 [==============================] - 0s 11ms/step - loss: 3.8148 - mae: 3.8148\n",
            "Epoch 60/100\n",
            "1/1 [==============================] - 0s 12ms/step - loss: 3.7959 - mae: 3.7959\n",
            "Epoch 61/100\n",
            "1/1 [==============================] - 0s 11ms/step - loss: 3.8305 - mae: 3.8305\n",
            "Epoch 62/100\n",
            "1/1 [==============================] - 0s 16ms/step - loss: 3.7721 - mae: 3.7721\n",
            "Epoch 63/100\n",
            "1/1 [==============================] - 0s 17ms/step - loss: 3.8384 - mae: 3.8384\n",
            "Epoch 64/100\n",
            "1/1 [==============================] - 0s 15ms/step - loss: 3.7722 - mae: 3.7722\n",
            "Epoch 65/100\n",
            "1/1 [==============================] - 0s 7ms/step - loss: 3.8180 - mae: 3.8180\n",
            "Epoch 66/100\n",
            "1/1 [==============================] - 0s 17ms/step - loss: 3.7800 - mae: 3.7800\n",
            "Epoch 67/100\n",
            "1/1 [==============================] - 0s 8ms/step - loss: 3.7908 - mae: 3.7908\n",
            "Epoch 68/100\n",
            "1/1 [==============================] - 0s 8ms/step - loss: 3.7888 - mae: 3.7888\n",
            "Epoch 69/100\n",
            "1/1 [==============================] - 0s 8ms/step - loss: 3.7707 - mae: 3.7707\n",
            "Epoch 70/100\n",
            "1/1 [==============================] - 0s 9ms/step - loss: 3.8038 - mae: 3.8038\n",
            "Epoch 71/100\n",
            "1/1 [==============================] - 0s 7ms/step - loss: 3.7432 - mae: 3.7432\n",
            "Epoch 72/100\n",
            "1/1 [==============================] - 0s 9ms/step - loss: 3.8120 - mae: 3.8120\n",
            "Epoch 73/100\n",
            "1/1 [==============================] - 0s 10ms/step - loss: 3.7460 - mae: 3.7460\n",
            "Epoch 74/100\n",
            "1/1 [==============================] - 0s 13ms/step - loss: 3.7888 - mae: 3.7888\n",
            "Epoch 75/100\n",
            "1/1 [==============================] - 0s 11ms/step - loss: 3.7540 - mae: 3.7540\n",
            "Epoch 76/100\n",
            "1/1 [==============================] - 0s 9ms/step - loss: 3.7613 - mae: 3.7613\n",
            "Epoch 77/100\n",
            "1/1 [==============================] - 0s 8ms/step - loss: 3.7677 - mae: 3.7677\n",
            "Epoch 78/100\n",
            "1/1 [==============================] - 0s 11ms/step - loss: 3.7409 - mae: 3.7409\n",
            "Epoch 79/100\n",
            "1/1 [==============================] - 0s 13ms/step - loss: 3.7782 - mae: 3.7782\n",
            "Epoch 80/100\n",
            "1/1 [==============================] - 0s 12ms/step - loss: 3.7131 - mae: 3.7131\n",
            "Epoch 81/100\n",
            "1/1 [==============================] - 0s 11ms/step - loss: 3.7865 - mae: 3.7865\n",
            "Epoch 82/100\n",
            "1/1 [==============================] - 0s 13ms/step - loss: 3.7208 - mae: 3.7208\n",
            "Epoch 83/100\n",
            "1/1 [==============================] - 0s 7ms/step - loss: 3.7583 - mae: 3.7583\n",
            "Epoch 84/100\n",
            "1/1 [==============================] - 0s 7ms/step - loss: 3.7290 - mae: 3.7290\n",
            "Epoch 85/100\n",
            "1/1 [==============================] - 0s 7ms/step - loss: 3.7335 - mae: 3.7335\n",
            "Epoch 86/100\n",
            "1/1 [==============================] - 0s 8ms/step - loss: 3.7451 - mae: 3.7451\n",
            "Epoch 87/100\n",
            "1/1 [==============================] - 0s 12ms/step - loss: 3.7097 - mae: 3.7097\n",
            "Epoch 88/100\n",
            "1/1 [==============================] - 0s 17ms/step - loss: 3.7536 - mae: 3.7536\n",
            "Epoch 89/100\n",
            "1/1 [==============================] - 0s 11ms/step - loss: 3.6883 - mae: 3.6883\n",
            "Epoch 90/100\n",
            "1/1 [==============================] - 0s 11ms/step - loss: 3.7544 - mae: 3.7544\n",
            "Epoch 91/100\n",
            "1/1 [==============================] - 0s 7ms/step - loss: 3.6966 - mae: 3.6966\n",
            "Epoch 92/100\n",
            "1/1 [==============================] - 0s 12ms/step - loss: 3.7264 - mae: 3.7264\n",
            "Epoch 93/100\n",
            "1/1 [==============================] - 0s 7ms/step - loss: 3.7051 - mae: 3.7051\n",
            "Epoch 94/100\n",
            "1/1 [==============================] - 0s 7ms/step - loss: 3.7057 - mae: 3.7057\n",
            "Epoch 95/100\n",
            "1/1 [==============================] - 0s 9ms/step - loss: 3.7214 - mae: 3.7214\n",
            "Epoch 96/100\n",
            "1/1 [==============================] - 0s 7ms/step - loss: 3.6772 - mae: 3.6772\n",
            "Epoch 97/100\n",
            "1/1 [==============================] - 0s 7ms/step - loss: 3.7300 - mae: 3.7300\n",
            "Epoch 98/100\n",
            "1/1 [==============================] - 0s 7ms/step - loss: 3.6649 - mae: 3.6649\n",
            "Epoch 99/100\n",
            "1/1 [==============================] - 0s 12ms/step - loss: 3.7216 - mae: 3.7216\n",
            "Epoch 100/100\n",
            "1/1 [==============================] - 0s 10ms/step - loss: 3.6734 - mae: 3.6734\n"
          ]
        },
        {
          "output_type": "execute_result",
          "data": {
            "text/plain": [
              "<keras.callbacks.History at 0x7f9d39cd9b50>"
            ]
          },
          "metadata": {},
          "execution_count": 15
        }
      ]
    },
    {
      "cell_type": "code",
      "source": [
        "X, y"
      ],
      "metadata": {
        "colab": {
          "base_uri": "https://localhost:8080/"
        },
        "id": "LwgksKhC2bsJ",
        "outputId": "e8a00471-5395-4d2a-cfeb-c1ee9c3209b9"
      },
      "execution_count": 16,
      "outputs": [
        {
          "output_type": "execute_result",
          "data": {
            "text/plain": [
              "(<tf.Tensor: shape=(8,), dtype=float32, numpy=array([-7., -4., -1.,  2.,  5.,  8., 11., 14.], dtype=float32)>,\n",
              " <tf.Tensor: shape=(8,), dtype=float32, numpy=array([ 3.,  6.,  9., 12., 15., 18., 21., 24.], dtype=float32)>)"
            ]
          },
          "metadata": {},
          "execution_count": 16
        }
      ]
    },
    {
      "cell_type": "code",
      "source": [
        "# Try and predict what y would be if X was 17.0\n",
        "model.predict([17.0])[0][0] # the right answer is 27.0 (y = X + 10)"
      ],
      "metadata": {
        "colab": {
          "base_uri": "https://localhost:8080/"
        },
        "id": "CMu7dBQQ2i7P",
        "outputId": "4df38789-d1ce-4bd1-e74d-c0378ff7a76d"
      },
      "execution_count": 17,
      "outputs": [
        {
          "output_type": "stream",
          "name": "stdout",
          "text": [
            "1/1 [==============================] - 0s 58ms/step\n"
          ]
        },
        {
          "output_type": "execute_result",
          "data": {
            "text/plain": [
              "31.382648"
            ]
          },
          "metadata": {},
          "execution_count": 17
        }
      ]
    },
    {
      "cell_type": "markdown",
      "source": [
        "Overfitting, should separate train and test sets"
      ],
      "metadata": {
        "id": "jlYU5NAr4Ffz"
      }
    },
    {
      "cell_type": "code",
      "source": [
        "# Improving model by adding one hidden layer,\n",
        "# changing the optimizer and adding a lr\n",
        "\n",
        "# set random seed\n",
        "tf.random.set_seed(42)\n",
        "\n",
        "# create a model (same as above)\n",
        "model = tf.keras.Sequential([\n",
        "    tf.keras.layers.Dense(100, activation=\"relu\"),\n",
        "    tf.keras.layers.Dense(1)\n",
        "])\n",
        "\n",
        "# compile model (same as above)\n",
        "model.compile(\n",
        "    loss=tf.keras.losses.mae,\n",
        "    optimizer=tf.optimizers.Adam(lr=.01),\n",
        "    metrics=[\"mae\"]\n",
        ")\n",
        "# Fit model (this time we'll train for longer) from 5 to 100\n",
        "model.fit(tf.expand_dims(X, axis=-1), y, epochs=100)"
      ],
      "metadata": {
        "colab": {
          "base_uri": "https://localhost:8080/"
        },
        "id": "OcpMOqqT2nTy",
        "outputId": "62b2109a-4ef3-4bf3-d3ed-2f2ee837650b"
      },
      "execution_count": 18,
      "outputs": [
        {
          "output_type": "stream",
          "name": "stdout",
          "text": [
            "Epoch 1/100\n"
          ]
        },
        {
          "output_type": "stream",
          "name": "stderr",
          "text": [
            "/usr/local/lib/python3.7/dist-packages/keras/optimizers/optimizer_v2/adam.py:110: UserWarning: The `lr` argument is deprecated, use `learning_rate` instead.\n",
            "  super(Adam, self).__init__(name, **kwargs)\n"
          ]
        },
        {
          "output_type": "stream",
          "name": "stdout",
          "text": [
            "1/1 [==============================] - 1s 822ms/step - loss: 12.3185 - mae: 12.3185\n",
            "Epoch 2/100\n",
            "1/1 [==============================] - 0s 12ms/step - loss: 11.4382 - mae: 11.4382\n",
            "Epoch 3/100\n",
            "1/1 [==============================] - 0s 12ms/step - loss: 10.5494 - mae: 10.5494\n",
            "Epoch 4/100\n",
            "1/1 [==============================] - 0s 12ms/step - loss: 9.7152 - mae: 9.7152\n",
            "Epoch 5/100\n",
            "1/1 [==============================] - 0s 7ms/step - loss: 9.0090 - mae: 9.0090\n",
            "Epoch 6/100\n",
            "1/1 [==============================] - 0s 7ms/step - loss: 8.2746 - mae: 8.2746\n",
            "Epoch 7/100\n",
            "1/1 [==============================] - 0s 8ms/step - loss: 7.5151 - mae: 7.5151\n",
            "Epoch 8/100\n",
            "1/1 [==============================] - 0s 8ms/step - loss: 6.7230 - mae: 6.7230\n",
            "Epoch 9/100\n",
            "1/1 [==============================] - 0s 8ms/step - loss: 5.8980 - mae: 5.8980\n",
            "Epoch 10/100\n",
            "1/1 [==============================] - 0s 18ms/step - loss: 5.0336 - mae: 5.0336\n",
            "Epoch 11/100\n",
            "1/1 [==============================] - 0s 18ms/step - loss: 4.1246 - mae: 4.1246\n",
            "Epoch 12/100\n",
            "1/1 [==============================] - 0s 13ms/step - loss: 3.7511 - mae: 3.7511\n",
            "Epoch 13/100\n",
            "1/1 [==============================] - 0s 7ms/step - loss: 3.9158 - mae: 3.9158\n",
            "Epoch 14/100\n",
            "1/1 [==============================] - 0s 12ms/step - loss: 4.1521 - mae: 4.1521\n",
            "Epoch 15/100\n",
            "1/1 [==============================] - 0s 13ms/step - loss: 4.5077 - mae: 4.5077\n",
            "Epoch 16/100\n",
            "1/1 [==============================] - 0s 17ms/step - loss: 4.7397 - mae: 4.7397\n",
            "Epoch 17/100\n",
            "1/1 [==============================] - 0s 8ms/step - loss: 4.8614 - mae: 4.8614\n",
            "Epoch 18/100\n",
            "1/1 [==============================] - 0s 8ms/step - loss: 4.8871 - mae: 4.8871\n",
            "Epoch 19/100\n",
            "1/1 [==============================] - 0s 9ms/step - loss: 4.8299 - mae: 4.8299\n",
            "Epoch 20/100\n",
            "1/1 [==============================] - 0s 12ms/step - loss: 4.7016 - mae: 4.7016\n",
            "Epoch 21/100\n",
            "1/1 [==============================] - 0s 11ms/step - loss: 4.5153 - mae: 4.5153\n",
            "Epoch 22/100\n",
            "1/1 [==============================] - 0s 18ms/step - loss: 4.2833 - mae: 4.2833\n",
            "Epoch 23/100\n",
            "1/1 [==============================] - 0s 15ms/step - loss: 4.0132 - mae: 4.0132\n",
            "Epoch 24/100\n",
            "1/1 [==============================] - 0s 8ms/step - loss: 3.7305 - mae: 3.7305\n",
            "Epoch 25/100\n",
            "1/1 [==============================] - 0s 8ms/step - loss: 3.6061 - mae: 3.6061\n",
            "Epoch 26/100\n",
            "1/1 [==============================] - 0s 10ms/step - loss: 3.4817 - mae: 3.4817\n",
            "Epoch 27/100\n",
            "1/1 [==============================] - 0s 7ms/step - loss: 3.3552 - mae: 3.3552\n",
            "Epoch 28/100\n",
            "1/1 [==============================] - 0s 21ms/step - loss: 3.3430 - mae: 3.3430\n",
            "Epoch 29/100\n",
            "1/1 [==============================] - 0s 9ms/step - loss: 3.3752 - mae: 3.3752\n",
            "Epoch 30/100\n",
            "1/1 [==============================] - 0s 11ms/step - loss: 3.3967 - mae: 3.3967\n",
            "Epoch 31/100\n",
            "1/1 [==============================] - 0s 11ms/step - loss: 3.3853 - mae: 3.3853\n",
            "Epoch 32/100\n",
            "1/1 [==============================] - 0s 14ms/step - loss: 3.3337 - mae: 3.3337\n",
            "Epoch 33/100\n",
            "1/1 [==============================] - 0s 10ms/step - loss: 3.2754 - mae: 3.2754\n",
            "Epoch 34/100\n",
            "1/1 [==============================] - 0s 14ms/step - loss: 3.1896 - mae: 3.1896\n",
            "Epoch 35/100\n",
            "1/1 [==============================] - 0s 17ms/step - loss: 3.0763 - mae: 3.0763\n",
            "Epoch 36/100\n",
            "1/1 [==============================] - 0s 13ms/step - loss: 2.9381 - mae: 2.9381\n",
            "Epoch 37/100\n",
            "1/1 [==============================] - 0s 9ms/step - loss: 2.8169 - mae: 2.8169\n",
            "Epoch 38/100\n",
            "1/1 [==============================] - 0s 8ms/step - loss: 2.7896 - mae: 2.7896\n",
            "Epoch 39/100\n",
            "1/1 [==============================] - 0s 8ms/step - loss: 2.7367 - mae: 2.7367\n",
            "Epoch 40/100\n",
            "1/1 [==============================] - 0s 8ms/step - loss: 2.7003 - mae: 2.7003\n",
            "Epoch 41/100\n",
            "1/1 [==============================] - 0s 11ms/step - loss: 2.5916 - mae: 2.5916\n",
            "Epoch 42/100\n",
            "1/1 [==============================] - 0s 8ms/step - loss: 2.4901 - mae: 2.4901\n",
            "Epoch 43/100\n",
            "1/1 [==============================] - 0s 11ms/step - loss: 2.3889 - mae: 2.3889\n",
            "Epoch 44/100\n",
            "1/1 [==============================] - 0s 13ms/step - loss: 2.2773 - mae: 2.2773\n",
            "Epoch 45/100\n",
            "1/1 [==============================] - 0s 13ms/step - loss: 2.1486 - mae: 2.1486\n",
            "Epoch 46/100\n",
            "1/1 [==============================] - 0s 22ms/step - loss: 2.0120 - mae: 2.0120\n",
            "Epoch 47/100\n",
            "1/1 [==============================] - 0s 15ms/step - loss: 1.8716 - mae: 1.8716\n",
            "Epoch 48/100\n",
            "1/1 [==============================] - 0s 14ms/step - loss: 1.8010 - mae: 1.8010\n",
            "Epoch 49/100\n",
            "1/1 [==============================] - 0s 15ms/step - loss: 1.6817 - mae: 1.6817\n",
            "Epoch 50/100\n",
            "1/1 [==============================] - 0s 10ms/step - loss: 1.4949 - mae: 1.4949\n",
            "Epoch 51/100\n",
            "1/1 [==============================] - 0s 8ms/step - loss: 1.3659 - mae: 1.3659\n",
            "Epoch 52/100\n",
            "1/1 [==============================] - 0s 13ms/step - loss: 1.2458 - mae: 1.2458\n",
            "Epoch 53/100\n",
            "1/1 [==============================] - 0s 9ms/step - loss: 1.1011 - mae: 1.1011\n",
            "Epoch 54/100\n",
            "1/1 [==============================] - 0s 12ms/step - loss: 0.9050 - mae: 0.9050\n",
            "Epoch 55/100\n",
            "1/1 [==============================] - 0s 11ms/step - loss: 0.7032 - mae: 0.7032\n",
            "Epoch 56/100\n",
            "1/1 [==============================] - 0s 13ms/step - loss: 0.4866 - mae: 0.4866\n",
            "Epoch 57/100\n",
            "1/1 [==============================] - 0s 11ms/step - loss: 0.3925 - mae: 0.3925\n",
            "Epoch 58/100\n",
            "1/1 [==============================] - 0s 16ms/step - loss: 0.2727 - mae: 0.2727\n",
            "Epoch 59/100\n",
            "1/1 [==============================] - 0s 15ms/step - loss: 0.2035 - mae: 0.2035\n",
            "Epoch 60/100\n",
            "1/1 [==============================] - 0s 14ms/step - loss: 0.4177 - mae: 0.4177\n",
            "Epoch 61/100\n",
            "1/1 [==============================] - 0s 12ms/step - loss: 0.3904 - mae: 0.3904\n",
            "Epoch 62/100\n",
            "1/1 [==============================] - 0s 10ms/step - loss: 0.4483 - mae: 0.4483\n",
            "Epoch 63/100\n",
            "1/1 [==============================] - 0s 8ms/step - loss: 0.4128 - mae: 0.4128\n",
            "Epoch 64/100\n",
            "1/1 [==============================] - 0s 21ms/step - loss: 0.5029 - mae: 0.5029\n",
            "Epoch 65/100\n",
            "1/1 [==============================] - 0s 24ms/step - loss: 0.4210 - mae: 0.4210\n",
            "Epoch 66/100\n",
            "1/1 [==============================] - 0s 28ms/step - loss: 0.4623 - mae: 0.4623\n",
            "Epoch 67/100\n",
            "1/1 [==============================] - 0s 22ms/step - loss: 0.3584 - mae: 0.3584\n",
            "Epoch 68/100\n",
            "1/1 [==============================] - 0s 20ms/step - loss: 0.3169 - mae: 0.3169\n",
            "Epoch 69/100\n",
            "1/1 [==============================] - 0s 8ms/step - loss: 0.2630 - mae: 0.2630\n",
            "Epoch 70/100\n",
            "1/1 [==============================] - 0s 8ms/step - loss: 0.2135 - mae: 0.2135\n",
            "Epoch 71/100\n",
            "1/1 [==============================] - 0s 8ms/step - loss: 0.1765 - mae: 0.1765\n",
            "Epoch 72/100\n",
            "1/1 [==============================] - 0s 10ms/step - loss: 0.3350 - mae: 0.3350\n",
            "Epoch 73/100\n",
            "1/1 [==============================] - 0s 9ms/step - loss: 0.3267 - mae: 0.3267\n",
            "Epoch 74/100\n",
            "1/1 [==============================] - 0s 8ms/step - loss: 0.1933 - mae: 0.1933\n",
            "Epoch 75/100\n",
            "1/1 [==============================] - 0s 8ms/step - loss: 0.2845 - mae: 0.2845\n",
            "Epoch 76/100\n",
            "1/1 [==============================] - 0s 9ms/step - loss: 0.1706 - mae: 0.1706\n",
            "Epoch 77/100\n",
            "1/1 [==============================] - 0s 9ms/step - loss: 0.1886 - mae: 0.1886\n",
            "Epoch 78/100\n",
            "1/1 [==============================] - 0s 10ms/step - loss: 0.2379 - mae: 0.2379\n",
            "Epoch 79/100\n",
            "1/1 [==============================] - 0s 8ms/step - loss: 0.2396 - mae: 0.2396\n",
            "Epoch 80/100\n",
            "1/1 [==============================] - 0s 8ms/step - loss: 0.2633 - mae: 0.2633\n",
            "Epoch 81/100\n",
            "1/1 [==============================] - 0s 8ms/step - loss: 0.1766 - mae: 0.1766\n",
            "Epoch 82/100\n",
            "1/1 [==============================] - 0s 12ms/step - loss: 0.2349 - mae: 0.2349\n",
            "Epoch 83/100\n",
            "1/1 [==============================] - 0s 10ms/step - loss: 0.1657 - mae: 0.1657\n",
            "Epoch 84/100\n",
            "1/1 [==============================] - 0s 7ms/step - loss: 0.2313 - mae: 0.2313\n",
            "Epoch 85/100\n",
            "1/1 [==============================] - 0s 13ms/step - loss: 0.1406 - mae: 0.1406\n",
            "Epoch 86/100\n",
            "1/1 [==============================] - 0s 8ms/step - loss: 0.2704 - mae: 0.2704\n",
            "Epoch 87/100\n",
            "1/1 [==============================] - 0s 7ms/step - loss: 0.2625 - mae: 0.2625\n",
            "Epoch 88/100\n",
            "1/1 [==============================] - 0s 7ms/step - loss: 0.1244 - mae: 0.1244\n",
            "Epoch 89/100\n",
            "1/1 [==============================] - 0s 7ms/step - loss: 0.2429 - mae: 0.2429\n",
            "Epoch 90/100\n",
            "1/1 [==============================] - 0s 7ms/step - loss: 0.1039 - mae: 0.1039\n",
            "Epoch 91/100\n",
            "1/1 [==============================] - 0s 8ms/step - loss: 0.3054 - mae: 0.3054\n",
            "Epoch 92/100\n",
            "1/1 [==============================] - 0s 9ms/step - loss: 0.2531 - mae: 0.2531\n",
            "Epoch 93/100\n",
            "1/1 [==============================] - 0s 10ms/step - loss: 0.1150 - mae: 0.1150\n",
            "Epoch 94/100\n",
            "1/1 [==============================] - 0s 8ms/step - loss: 0.0968 - mae: 0.0968\n",
            "Epoch 95/100\n",
            "1/1 [==============================] - 0s 10ms/step - loss: 0.1926 - mae: 0.1926\n",
            "Epoch 96/100\n",
            "1/1 [==============================] - 0s 50ms/step - loss: 0.0905 - mae: 0.0905\n",
            "Epoch 97/100\n",
            "1/1 [==============================] - 0s 10ms/step - loss: 0.3329 - mae: 0.3329\n",
            "Epoch 98/100\n",
            "1/1 [==============================] - 0s 17ms/step - loss: 0.3907 - mae: 0.3907\n",
            "Epoch 99/100\n",
            "1/1 [==============================] - 0s 8ms/step - loss: 0.2052 - mae: 0.2052\n",
            "Epoch 100/100\n",
            "1/1 [==============================] - 0s 10ms/step - loss: 0.3052 - mae: 0.3052\n"
          ]
        },
        {
          "output_type": "execute_result",
          "data": {
            "text/plain": [
              "<keras.callbacks.History at 0x7f9d39cd0810>"
            ]
          },
          "metadata": {},
          "execution_count": 18
        }
      ]
    },
    {
      "cell_type": "code",
      "source": [
        "model.predict([17.0])[0][0]"
      ],
      "metadata": {
        "colab": {
          "base_uri": "https://localhost:8080/"
        },
        "id": "QnXIsi1T4hMm",
        "outputId": "bdc9655c-8a9d-47a7-ca53-93a4380ca348"
      },
      "execution_count": 19,
      "outputs": [
        {
          "output_type": "stream",
          "name": "stdout",
          "text": [
            "1/1 [==============================] - 0s 66ms/step\n"
          ]
        },
        {
          "output_type": "execute_result",
          "data": {
            "text/plain": [
              "26.206875"
            ]
          },
          "metadata": {},
          "execution_count": 19
        }
      ]
    },
    {
      "cell_type": "markdown",
      "source": [
        "# Evaluating a model\n",
        "A typical workflow you'll go through when building neural networks is:\n",
        "\n",
        "Build a model -> evaluate it -> build (tweak) a model -> evaulate it -> build (tweak) a model -> evaluate it...\n",
        "\n",
        "The tweaking comes from maybe not building a model from scratch but adjusting an existing one."
      ],
      "metadata": {
        "id": "BQ5WP4c048_T"
      }
    },
    {
      "cell_type": "markdown",
      "source": [
        "### Make a bigger dataset"
      ],
      "metadata": {
        "id": "goC_fjyr6RHX"
      }
    },
    {
      "cell_type": "code",
      "source": [
        "X, y = np.arange(-100, 100, 4), np.arange(-90, 110, 4)"
      ],
      "metadata": {
        "id": "o7tOA7I54pYK"
      },
      "execution_count": 20,
      "outputs": []
    },
    {
      "cell_type": "code",
      "source": [
        "X"
      ],
      "metadata": {
        "colab": {
          "base_uri": "https://localhost:8080/"
        },
        "id": "jDeBwLk_6jUt",
        "outputId": "c8ba43fa-660f-467a-c32f-cc08ef3b1605"
      },
      "execution_count": 21,
      "outputs": [
        {
          "output_type": "execute_result",
          "data": {
            "text/plain": [
              "array([-100,  -96,  -92,  -88,  -84,  -80,  -76,  -72,  -68,  -64,  -60,\n",
              "        -56,  -52,  -48,  -44,  -40,  -36,  -32,  -28,  -24,  -20,  -16,\n",
              "        -12,   -8,   -4,    0,    4,    8,   12,   16,   20,   24,   28,\n",
              "         32,   36,   40,   44,   48,   52,   56,   60,   64,   68,   72,\n",
              "         76,   80,   84,   88,   92,   96])"
            ]
          },
          "metadata": {},
          "execution_count": 21
        }
      ]
    },
    {
      "cell_type": "code",
      "source": [
        "y"
      ],
      "metadata": {
        "colab": {
          "base_uri": "https://localhost:8080/"
        },
        "id": "XDjicjb26kIs",
        "outputId": "5c46b958-7fad-4ead-e0b0-faa06027dd99"
      },
      "execution_count": 22,
      "outputs": [
        {
          "output_type": "execute_result",
          "data": {
            "text/plain": [
              "array([-90, -86, -82, -78, -74, -70, -66, -62, -58, -54, -50, -46, -42,\n",
              "       -38, -34, -30, -26, -22, -18, -14, -10,  -6,  -2,   2,   6,  10,\n",
              "        14,  18,  22,  26,  30,  34,  38,  42,  46,  50,  54,  58,  62,\n",
              "        66,  70,  74,  78,  82,  86,  90,  94,  98, 102, 106])"
            ]
          },
          "metadata": {},
          "execution_count": 22
        }
      ]
    },
    {
      "cell_type": "code",
      "source": [
        "y == X + 10"
      ],
      "metadata": {
        "colab": {
          "base_uri": "https://localhost:8080/"
        },
        "id": "IXOpibYB6pXw",
        "outputId": "d22be3b8-766e-46fe-ee45-00610f4d8d01"
      },
      "execution_count": 23,
      "outputs": [
        {
          "output_type": "execute_result",
          "data": {
            "text/plain": [
              "array([ True,  True,  True,  True,  True,  True,  True,  True,  True,\n",
              "        True,  True,  True,  True,  True,  True,  True,  True,  True,\n",
              "        True,  True,  True,  True,  True,  True,  True,  True,  True,\n",
              "        True,  True,  True,  True,  True,  True,  True,  True,  True,\n",
              "        True,  True,  True,  True,  True,  True,  True,  True,  True,\n",
              "        True,  True,  True,  True,  True])"
            ]
          },
          "metadata": {},
          "execution_count": 23
        }
      ]
    },
    {
      "cell_type": "markdown",
      "source": [
        "## Splitting the data"
      ],
      "metadata": {
        "id": "g1LDvJfh7VCA"
      }
    },
    {
      "cell_type": "code",
      "source": [
        "# Check how many samples we have\n",
        "len(X)"
      ],
      "metadata": {
        "colab": {
          "base_uri": "https://localhost:8080/"
        },
        "id": "wl-BtDZO6t3Q",
        "outputId": "bd5be1a7-4566-47ed-ec6b-6c0f595fe67b"
      },
      "execution_count": 24,
      "outputs": [
        {
          "output_type": "execute_result",
          "data": {
            "text/plain": [
              "50"
            ]
          },
          "metadata": {},
          "execution_count": 24
        }
      ]
    },
    {
      "cell_type": "code",
      "source": [
        "# Split data into train and test sets\n",
        "# train:test 80%:20%\n",
        "\n",
        "X_train , y_train = X[:40], y[:40]\n",
        "X_test, y_test = X[40:], y[40:]"
      ],
      "metadata": {
        "id": "6IXZwRcu7ltw"
      },
      "execution_count": 25,
      "outputs": []
    },
    {
      "cell_type": "code",
      "source": [
        "len(X_train), len(y_train), len(X_test), len(y_test)"
      ],
      "metadata": {
        "colab": {
          "base_uri": "https://localhost:8080/"
        },
        "id": "IStqtFi28ARL",
        "outputId": "d4f72dd6-c173-4344-a3ba-cd253d0bd028"
      },
      "execution_count": 26,
      "outputs": [
        {
          "output_type": "execute_result",
          "data": {
            "text/plain": [
              "(40, 40, 10, 10)"
            ]
          },
          "metadata": {},
          "execution_count": 26
        }
      ]
    },
    {
      "cell_type": "code",
      "source": [],
      "metadata": {
        "id": "FojAYPDn8LLg"
      },
      "execution_count": null,
      "outputs": []
    }
  ]
}