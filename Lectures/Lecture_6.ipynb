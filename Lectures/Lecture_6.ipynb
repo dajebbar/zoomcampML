{
  "cells": [
    {
      "cell_type": "markdown",
      "metadata": {
        "id": "uLG0DEmHd06W"
      },
      "source": [
        "# Decision Trees and Ensemble Learning"
      ]
    },
    {
      "cell_type": "markdown",
      "metadata": {
        "id": "oT7crvfqeGHb"
      },
      "source": [
        "## Credit risk scoring project"
      ]
    },
    {
      "cell_type": "markdown",
      "metadata": {
        "id": "kBhvTB44eOun"
      },
      "source": [
        "**Dataset**"
      ]
    },
    {
      "cell_type": "code",
      "execution_count": 1,
      "metadata": {
        "colab": {
          "base_uri": "https://localhost:8080/"
        },
        "id": "VCHpUa9JdJj9",
        "outputId": "13ce0971-842f-49f8-d4d0-5f70cd68ef79"
      },
      "outputs": [
        {
          "output_type": "stream",
          "name": "stdout",
          "text": [
            "--2022-10-12 01:56:12--  https://github.com/gastonstat/CreditScoring/raw/master/CreditScoring.csv\n",
            "Resolving github.com (github.com)... 140.82.121.3\n",
            "Connecting to github.com (github.com)|140.82.121.3|:443... connected.\n",
            "HTTP request sent, awaiting response... 302 Found\n",
            "Location: https://raw.githubusercontent.com/gastonstat/CreditScoring/master/CreditScoring.csv [following]\n",
            "--2022-10-12 01:56:12--  https://raw.githubusercontent.com/gastonstat/CreditScoring/master/CreditScoring.csv\n",
            "Resolving raw.githubusercontent.com (raw.githubusercontent.com)... 185.199.109.133, 185.199.110.133, 185.199.111.133, ...\n",
            "Connecting to raw.githubusercontent.com (raw.githubusercontent.com)|185.199.109.133|:443... connected.\n",
            "HTTP request sent, awaiting response... 200 OK\n",
            "Length: 182489 (178K) [text/plain]\n",
            "Saving to: ‘CreditScoring.csv’\n",
            "\n",
            "CreditScoring.csv   100%[===================>] 178.21K  --.-KB/s    in 0.008s  \n",
            "\n",
            "2022-10-12 01:56:12 (21.2 MB/s) - ‘CreditScoring.csv’ saved [182489/182489]\n",
            "\n"
          ]
        }
      ],
      "source": [
        "!wget https://github.com/gastonstat/CreditScoring/raw/master/CreditScoring.csv"
      ]
    },
    {
      "cell_type": "markdown",
      "metadata": {
        "id": "HAEKCLdmejXQ"
      },
      "source": [
        "### Librairies"
      ]
    },
    {
      "cell_type": "code",
      "execution_count": 2,
      "metadata": {
        "id": "j9Uh3vo8eRc7"
      },
      "outputs": [],
      "source": [
        "import pandas as pd\n",
        "import numpy as np\n",
        "import matplotlib.pyplot as plt\n",
        "import seaborn as sns\n",
        "import missingno as msno\n",
        "\n",
        "plt.style.use('ggplot')"
      ]
    },
    {
      "cell_type": "markdown",
      "metadata": {
        "id": "4AV4RhcPe6TD"
      },
      "source": [
        "**Data cleanining**"
      ]
    },
    {
      "cell_type": "code",
      "execution_count": 3,
      "metadata": {
        "colab": {
          "base_uri": "https://localhost:8080/",
          "height": 206
        },
        "id": "gfKXqUjke1cR",
        "outputId": "b40d07fa-de22-4f17-e37d-9dfdb9af9cbb"
      },
      "outputs": [
        {
          "output_type": "execute_result",
          "data": {
            "text/plain": [
              "   Status  Seniority  Home  Time  Age  Marital  Records  Job  Expenses  \\\n",
              "0       1          9     1    60   30        2        1    3        73   \n",
              "1       1         17     1    60   58        3        1    1        48   \n",
              "2       2         10     2    36   46        2        2    3        90   \n",
              "3       1          0     1    60   24        1        1    1        63   \n",
              "4       1          0     1    36   26        1        1    1        46   \n",
              "\n",
              "   Income  Assets  Debt  Amount  Price  \n",
              "0     129       0     0     800    846  \n",
              "1     131       0     0    1000   1658  \n",
              "2     200    3000     0    2000   2985  \n",
              "3     182    2500     0     900   1325  \n",
              "4     107       0     0     310    910  "
            ],
            "text/html": [
              "\n",
              "  <div id=\"df-7140e67b-83e1-4bae-9407-fb97ea625b5b\">\n",
              "    <div class=\"colab-df-container\">\n",
              "      <div>\n",
              "<style scoped>\n",
              "    .dataframe tbody tr th:only-of-type {\n",
              "        vertical-align: middle;\n",
              "    }\n",
              "\n",
              "    .dataframe tbody tr th {\n",
              "        vertical-align: top;\n",
              "    }\n",
              "\n",
              "    .dataframe thead th {\n",
              "        text-align: right;\n",
              "    }\n",
              "</style>\n",
              "<table border=\"1\" class=\"dataframe\">\n",
              "  <thead>\n",
              "    <tr style=\"text-align: right;\">\n",
              "      <th></th>\n",
              "      <th>Status</th>\n",
              "      <th>Seniority</th>\n",
              "      <th>Home</th>\n",
              "      <th>Time</th>\n",
              "      <th>Age</th>\n",
              "      <th>Marital</th>\n",
              "      <th>Records</th>\n",
              "      <th>Job</th>\n",
              "      <th>Expenses</th>\n",
              "      <th>Income</th>\n",
              "      <th>Assets</th>\n",
              "      <th>Debt</th>\n",
              "      <th>Amount</th>\n",
              "      <th>Price</th>\n",
              "    </tr>\n",
              "  </thead>\n",
              "  <tbody>\n",
              "    <tr>\n",
              "      <th>0</th>\n",
              "      <td>1</td>\n",
              "      <td>9</td>\n",
              "      <td>1</td>\n",
              "      <td>60</td>\n",
              "      <td>30</td>\n",
              "      <td>2</td>\n",
              "      <td>1</td>\n",
              "      <td>3</td>\n",
              "      <td>73</td>\n",
              "      <td>129</td>\n",
              "      <td>0</td>\n",
              "      <td>0</td>\n",
              "      <td>800</td>\n",
              "      <td>846</td>\n",
              "    </tr>\n",
              "    <tr>\n",
              "      <th>1</th>\n",
              "      <td>1</td>\n",
              "      <td>17</td>\n",
              "      <td>1</td>\n",
              "      <td>60</td>\n",
              "      <td>58</td>\n",
              "      <td>3</td>\n",
              "      <td>1</td>\n",
              "      <td>1</td>\n",
              "      <td>48</td>\n",
              "      <td>131</td>\n",
              "      <td>0</td>\n",
              "      <td>0</td>\n",
              "      <td>1000</td>\n",
              "      <td>1658</td>\n",
              "    </tr>\n",
              "    <tr>\n",
              "      <th>2</th>\n",
              "      <td>2</td>\n",
              "      <td>10</td>\n",
              "      <td>2</td>\n",
              "      <td>36</td>\n",
              "      <td>46</td>\n",
              "      <td>2</td>\n",
              "      <td>2</td>\n",
              "      <td>3</td>\n",
              "      <td>90</td>\n",
              "      <td>200</td>\n",
              "      <td>3000</td>\n",
              "      <td>0</td>\n",
              "      <td>2000</td>\n",
              "      <td>2985</td>\n",
              "    </tr>\n",
              "    <tr>\n",
              "      <th>3</th>\n",
              "      <td>1</td>\n",
              "      <td>0</td>\n",
              "      <td>1</td>\n",
              "      <td>60</td>\n",
              "      <td>24</td>\n",
              "      <td>1</td>\n",
              "      <td>1</td>\n",
              "      <td>1</td>\n",
              "      <td>63</td>\n",
              "      <td>182</td>\n",
              "      <td>2500</td>\n",
              "      <td>0</td>\n",
              "      <td>900</td>\n",
              "      <td>1325</td>\n",
              "    </tr>\n",
              "    <tr>\n",
              "      <th>4</th>\n",
              "      <td>1</td>\n",
              "      <td>0</td>\n",
              "      <td>1</td>\n",
              "      <td>36</td>\n",
              "      <td>26</td>\n",
              "      <td>1</td>\n",
              "      <td>1</td>\n",
              "      <td>1</td>\n",
              "      <td>46</td>\n",
              "      <td>107</td>\n",
              "      <td>0</td>\n",
              "      <td>0</td>\n",
              "      <td>310</td>\n",
              "      <td>910</td>\n",
              "    </tr>\n",
              "  </tbody>\n",
              "</table>\n",
              "</div>\n",
              "      <button class=\"colab-df-convert\" onclick=\"convertToInteractive('df-7140e67b-83e1-4bae-9407-fb97ea625b5b')\"\n",
              "              title=\"Convert this dataframe to an interactive table.\"\n",
              "              style=\"display:none;\">\n",
              "        \n",
              "  <svg xmlns=\"http://www.w3.org/2000/svg\" height=\"24px\"viewBox=\"0 0 24 24\"\n",
              "       width=\"24px\">\n",
              "    <path d=\"M0 0h24v24H0V0z\" fill=\"none\"/>\n",
              "    <path d=\"M18.56 5.44l.94 2.06.94-2.06 2.06-.94-2.06-.94-.94-2.06-.94 2.06-2.06.94zm-11 1L8.5 8.5l.94-2.06 2.06-.94-2.06-.94L8.5 2.5l-.94 2.06-2.06.94zm10 10l.94 2.06.94-2.06 2.06-.94-2.06-.94-.94-2.06-.94 2.06-2.06.94z\"/><path d=\"M17.41 7.96l-1.37-1.37c-.4-.4-.92-.59-1.43-.59-.52 0-1.04.2-1.43.59L10.3 9.45l-7.72 7.72c-.78.78-.78 2.05 0 2.83L4 21.41c.39.39.9.59 1.41.59.51 0 1.02-.2 1.41-.59l7.78-7.78 2.81-2.81c.8-.78.8-2.07 0-2.86zM5.41 20L4 18.59l7.72-7.72 1.47 1.35L5.41 20z\"/>\n",
              "  </svg>\n",
              "      </button>\n",
              "      \n",
              "  <style>\n",
              "    .colab-df-container {\n",
              "      display:flex;\n",
              "      flex-wrap:wrap;\n",
              "      gap: 12px;\n",
              "    }\n",
              "\n",
              "    .colab-df-convert {\n",
              "      background-color: #E8F0FE;\n",
              "      border: none;\n",
              "      border-radius: 50%;\n",
              "      cursor: pointer;\n",
              "      display: none;\n",
              "      fill: #1967D2;\n",
              "      height: 32px;\n",
              "      padding: 0 0 0 0;\n",
              "      width: 32px;\n",
              "    }\n",
              "\n",
              "    .colab-df-convert:hover {\n",
              "      background-color: #E2EBFA;\n",
              "      box-shadow: 0px 1px 2px rgba(60, 64, 67, 0.3), 0px 1px 3px 1px rgba(60, 64, 67, 0.15);\n",
              "      fill: #174EA6;\n",
              "    }\n",
              "\n",
              "    [theme=dark] .colab-df-convert {\n",
              "      background-color: #3B4455;\n",
              "      fill: #D2E3FC;\n",
              "    }\n",
              "\n",
              "    [theme=dark] .colab-df-convert:hover {\n",
              "      background-color: #434B5C;\n",
              "      box-shadow: 0px 1px 3px 1px rgba(0, 0, 0, 0.15);\n",
              "      filter: drop-shadow(0px 1px 2px rgba(0, 0, 0, 0.3));\n",
              "      fill: #FFFFFF;\n",
              "    }\n",
              "  </style>\n",
              "\n",
              "      <script>\n",
              "        const buttonEl =\n",
              "          document.querySelector('#df-7140e67b-83e1-4bae-9407-fb97ea625b5b button.colab-df-convert');\n",
              "        buttonEl.style.display =\n",
              "          google.colab.kernel.accessAllowed ? 'block' : 'none';\n",
              "\n",
              "        async function convertToInteractive(key) {\n",
              "          const element = document.querySelector('#df-7140e67b-83e1-4bae-9407-fb97ea625b5b');\n",
              "          const dataTable =\n",
              "            await google.colab.kernel.invokeFunction('convertToInteractive',\n",
              "                                                     [key], {});\n",
              "          if (!dataTable) return;\n",
              "\n",
              "          const docLinkHtml = 'Like what you see? Visit the ' +\n",
              "            '<a target=\"_blank\" href=https://colab.research.google.com/notebooks/data_table.ipynb>data table notebook</a>'\n",
              "            + ' to learn more about interactive tables.';\n",
              "          element.innerHTML = '';\n",
              "          dataTable['output_type'] = 'display_data';\n",
              "          await google.colab.output.renderOutput(dataTable, element);\n",
              "          const docLink = document.createElement('div');\n",
              "          docLink.innerHTML = docLinkHtml;\n",
              "          element.appendChild(docLink);\n",
              "        }\n",
              "      </script>\n",
              "    </div>\n",
              "  </div>\n",
              "  "
            ]
          },
          "metadata": {},
          "execution_count": 3
        }
      ],
      "source": [
        "df = pd.read_csv('CreditScoring.csv')\n",
        "df.head()"
      ]
    },
    {
      "cell_type": "code",
      "execution_count": 4,
      "metadata": {
        "id": "9rhRUNDwfILP"
      },
      "outputs": [],
      "source": [
        "# make all columns in lower\n",
        "df.columns = df.columns.str.lower()"
      ]
    },
    {
      "cell_type": "code",
      "execution_count": 5,
      "metadata": {
        "colab": {
          "base_uri": "https://localhost:8080/"
        },
        "id": "n4xKMvUk3pZS",
        "outputId": "b763a466-fe10-4b13-e324-26347f15e68c"
      },
      "outputs": [
        {
          "output_type": "execute_result",
          "data": {
            "text/plain": [
              "(4455, 14)"
            ]
          },
          "metadata": {},
          "execution_count": 5
        }
      ],
      "source": [
        "df.shape"
      ]
    },
    {
      "cell_type": "markdown",
      "metadata": {
        "id": "XGhIEky4gqkL"
      },
      "source": [
        "**Mapping the target**"
      ]
    },
    {
      "cell_type": "code",
      "execution_count": 6,
      "metadata": {
        "colab": {
          "base_uri": "https://localhost:8080/"
        },
        "id": "6QKq1je0gzGf",
        "outputId": "e3e6b02b-d463-403c-afe8-5b3504fc37c4"
      },
      "outputs": [
        {
          "output_type": "execute_result",
          "data": {
            "text/plain": [
              "1    3200\n",
              "2    1254\n",
              "0       1\n",
              "Name: status, dtype: int64"
            ]
          },
          "metadata": {},
          "execution_count": 6
        }
      ],
      "source": [
        "df['status'].value_counts(dropna=False)"
      ]
    },
    {
      "cell_type": "code",
      "execution_count": 7,
      "metadata": {
        "id": "QzI11CvefWQu"
      },
      "outputs": [],
      "source": [
        "df['status'] = df['status'].map({\n",
        "    1:'ok',\n",
        "    2:'default',\n",
        "    0:'unk'\n",
        "})"
      ]
    },
    {
      "cell_type": "markdown",
      "metadata": {
        "id": "JmGdM5fMiETp"
      },
      "source": [
        "** Mapping categorical features **"
      ]
    },
    {
      "cell_type": "code",
      "execution_count": 8,
      "metadata": {
        "id": "DrqBWQlIiI0G"
      },
      "outputs": [],
      "source": [
        "def mapping_categorical(df, cat, cat_lst):\n",
        "  to_lst = df[cat].value_counts().sort_index().index.to_list()\n",
        "  cat_lst = cat_lst\n",
        "\n",
        "  df[cat] = (\n",
        "      df[cat].map({\n",
        "          k:v for (k,v) in zip(to_lst, cat_lst)\n",
        "      })\n",
        "   )"
      ]
    },
    {
      "cell_type": "code",
      "execution_count": 9,
      "metadata": {
        "id": "PFRstgsuk-s2"
      },
      "outputs": [],
      "source": [
        "cols = ['home', 'marital', 'records', 'job']\n",
        "\n",
        "home_lst = ['unk', 'rent', 'owner', 'private', 'ignore', 'parents', 'other']\n",
        "marital_lst = ['unk', 'single', 'married', 'widow', 'separated', 'divorced']\n",
        "records_lst = ['no', 'yes', 'unk']\n",
        "job_lst = ['unk', 'fixed', 'partime', 'freelance', 'others']\n",
        "cat_lst = [home_lst, marital_lst, records_lst, job_lst]\n",
        "\n",
        "for col, cat in zip(cols, cat_lst):\n",
        "  mapping_categorical(df, col, cat)\n"
      ]
    },
    {
      "cell_type": "code",
      "execution_count": 10,
      "metadata": {
        "colab": {
          "base_uri": "https://localhost:8080/",
          "height": 206
        },
        "id": "iEgsdHlCqXmX",
        "outputId": "b8bb7462-a473-41ca-e8fc-4c35f4e72229"
      },
      "outputs": [
        {
          "output_type": "execute_result",
          "data": {
            "text/plain": [
              "    status  seniority   home  time  age  marital records        job  expenses  \\\n",
              "0       ok          9   rent    60   30  married      no  freelance        73   \n",
              "1       ok         17   rent    60   58    widow      no      fixed        48   \n",
              "2  default         10  owner    36   46  married     yes  freelance        90   \n",
              "3       ok          0   rent    60   24   single      no      fixed        63   \n",
              "4       ok          0   rent    36   26   single      no      fixed        46   \n",
              "\n",
              "   income  assets  debt  amount  price  \n",
              "0     129       0     0     800    846  \n",
              "1     131       0     0    1000   1658  \n",
              "2     200    3000     0    2000   2985  \n",
              "3     182    2500     0     900   1325  \n",
              "4     107       0     0     310    910  "
            ],
            "text/html": [
              "\n",
              "  <div id=\"df-37970ceb-fe8b-4485-9a7f-33289f32856b\">\n",
              "    <div class=\"colab-df-container\">\n",
              "      <div>\n",
              "<style scoped>\n",
              "    .dataframe tbody tr th:only-of-type {\n",
              "        vertical-align: middle;\n",
              "    }\n",
              "\n",
              "    .dataframe tbody tr th {\n",
              "        vertical-align: top;\n",
              "    }\n",
              "\n",
              "    .dataframe thead th {\n",
              "        text-align: right;\n",
              "    }\n",
              "</style>\n",
              "<table border=\"1\" class=\"dataframe\">\n",
              "  <thead>\n",
              "    <tr style=\"text-align: right;\">\n",
              "      <th></th>\n",
              "      <th>status</th>\n",
              "      <th>seniority</th>\n",
              "      <th>home</th>\n",
              "      <th>time</th>\n",
              "      <th>age</th>\n",
              "      <th>marital</th>\n",
              "      <th>records</th>\n",
              "      <th>job</th>\n",
              "      <th>expenses</th>\n",
              "      <th>income</th>\n",
              "      <th>assets</th>\n",
              "      <th>debt</th>\n",
              "      <th>amount</th>\n",
              "      <th>price</th>\n",
              "    </tr>\n",
              "  </thead>\n",
              "  <tbody>\n",
              "    <tr>\n",
              "      <th>0</th>\n",
              "      <td>ok</td>\n",
              "      <td>9</td>\n",
              "      <td>rent</td>\n",
              "      <td>60</td>\n",
              "      <td>30</td>\n",
              "      <td>married</td>\n",
              "      <td>no</td>\n",
              "      <td>freelance</td>\n",
              "      <td>73</td>\n",
              "      <td>129</td>\n",
              "      <td>0</td>\n",
              "      <td>0</td>\n",
              "      <td>800</td>\n",
              "      <td>846</td>\n",
              "    </tr>\n",
              "    <tr>\n",
              "      <th>1</th>\n",
              "      <td>ok</td>\n",
              "      <td>17</td>\n",
              "      <td>rent</td>\n",
              "      <td>60</td>\n",
              "      <td>58</td>\n",
              "      <td>widow</td>\n",
              "      <td>no</td>\n",
              "      <td>fixed</td>\n",
              "      <td>48</td>\n",
              "      <td>131</td>\n",
              "      <td>0</td>\n",
              "      <td>0</td>\n",
              "      <td>1000</td>\n",
              "      <td>1658</td>\n",
              "    </tr>\n",
              "    <tr>\n",
              "      <th>2</th>\n",
              "      <td>default</td>\n",
              "      <td>10</td>\n",
              "      <td>owner</td>\n",
              "      <td>36</td>\n",
              "      <td>46</td>\n",
              "      <td>married</td>\n",
              "      <td>yes</td>\n",
              "      <td>freelance</td>\n",
              "      <td>90</td>\n",
              "      <td>200</td>\n",
              "      <td>3000</td>\n",
              "      <td>0</td>\n",
              "      <td>2000</td>\n",
              "      <td>2985</td>\n",
              "    </tr>\n",
              "    <tr>\n",
              "      <th>3</th>\n",
              "      <td>ok</td>\n",
              "      <td>0</td>\n",
              "      <td>rent</td>\n",
              "      <td>60</td>\n",
              "      <td>24</td>\n",
              "      <td>single</td>\n",
              "      <td>no</td>\n",
              "      <td>fixed</td>\n",
              "      <td>63</td>\n",
              "      <td>182</td>\n",
              "      <td>2500</td>\n",
              "      <td>0</td>\n",
              "      <td>900</td>\n",
              "      <td>1325</td>\n",
              "    </tr>\n",
              "    <tr>\n",
              "      <th>4</th>\n",
              "      <td>ok</td>\n",
              "      <td>0</td>\n",
              "      <td>rent</td>\n",
              "      <td>36</td>\n",
              "      <td>26</td>\n",
              "      <td>single</td>\n",
              "      <td>no</td>\n",
              "      <td>fixed</td>\n",
              "      <td>46</td>\n",
              "      <td>107</td>\n",
              "      <td>0</td>\n",
              "      <td>0</td>\n",
              "      <td>310</td>\n",
              "      <td>910</td>\n",
              "    </tr>\n",
              "  </tbody>\n",
              "</table>\n",
              "</div>\n",
              "      <button class=\"colab-df-convert\" onclick=\"convertToInteractive('df-37970ceb-fe8b-4485-9a7f-33289f32856b')\"\n",
              "              title=\"Convert this dataframe to an interactive table.\"\n",
              "              style=\"display:none;\">\n",
              "        \n",
              "  <svg xmlns=\"http://www.w3.org/2000/svg\" height=\"24px\"viewBox=\"0 0 24 24\"\n",
              "       width=\"24px\">\n",
              "    <path d=\"M0 0h24v24H0V0z\" fill=\"none\"/>\n",
              "    <path d=\"M18.56 5.44l.94 2.06.94-2.06 2.06-.94-2.06-.94-.94-2.06-.94 2.06-2.06.94zm-11 1L8.5 8.5l.94-2.06 2.06-.94-2.06-.94L8.5 2.5l-.94 2.06-2.06.94zm10 10l.94 2.06.94-2.06 2.06-.94-2.06-.94-.94-2.06-.94 2.06-2.06.94z\"/><path d=\"M17.41 7.96l-1.37-1.37c-.4-.4-.92-.59-1.43-.59-.52 0-1.04.2-1.43.59L10.3 9.45l-7.72 7.72c-.78.78-.78 2.05 0 2.83L4 21.41c.39.39.9.59 1.41.59.51 0 1.02-.2 1.41-.59l7.78-7.78 2.81-2.81c.8-.78.8-2.07 0-2.86zM5.41 20L4 18.59l7.72-7.72 1.47 1.35L5.41 20z\"/>\n",
              "  </svg>\n",
              "      </button>\n",
              "      \n",
              "  <style>\n",
              "    .colab-df-container {\n",
              "      display:flex;\n",
              "      flex-wrap:wrap;\n",
              "      gap: 12px;\n",
              "    }\n",
              "\n",
              "    .colab-df-convert {\n",
              "      background-color: #E8F0FE;\n",
              "      border: none;\n",
              "      border-radius: 50%;\n",
              "      cursor: pointer;\n",
              "      display: none;\n",
              "      fill: #1967D2;\n",
              "      height: 32px;\n",
              "      padding: 0 0 0 0;\n",
              "      width: 32px;\n",
              "    }\n",
              "\n",
              "    .colab-df-convert:hover {\n",
              "      background-color: #E2EBFA;\n",
              "      box-shadow: 0px 1px 2px rgba(60, 64, 67, 0.3), 0px 1px 3px 1px rgba(60, 64, 67, 0.15);\n",
              "      fill: #174EA6;\n",
              "    }\n",
              "\n",
              "    [theme=dark] .colab-df-convert {\n",
              "      background-color: #3B4455;\n",
              "      fill: #D2E3FC;\n",
              "    }\n",
              "\n",
              "    [theme=dark] .colab-df-convert:hover {\n",
              "      background-color: #434B5C;\n",
              "      box-shadow: 0px 1px 3px 1px rgba(0, 0, 0, 0.15);\n",
              "      filter: drop-shadow(0px 1px 2px rgba(0, 0, 0, 0.3));\n",
              "      fill: #FFFFFF;\n",
              "    }\n",
              "  </style>\n",
              "\n",
              "      <script>\n",
              "        const buttonEl =\n",
              "          document.querySelector('#df-37970ceb-fe8b-4485-9a7f-33289f32856b button.colab-df-convert');\n",
              "        buttonEl.style.display =\n",
              "          google.colab.kernel.accessAllowed ? 'block' : 'none';\n",
              "\n",
              "        async function convertToInteractive(key) {\n",
              "          const element = document.querySelector('#df-37970ceb-fe8b-4485-9a7f-33289f32856b');\n",
              "          const dataTable =\n",
              "            await google.colab.kernel.invokeFunction('convertToInteractive',\n",
              "                                                     [key], {});\n",
              "          if (!dataTable) return;\n",
              "\n",
              "          const docLinkHtml = 'Like what you see? Visit the ' +\n",
              "            '<a target=\"_blank\" href=https://colab.research.google.com/notebooks/data_table.ipynb>data table notebook</a>'\n",
              "            + ' to learn more about interactive tables.';\n",
              "          element.innerHTML = '';\n",
              "          dataTable['output_type'] = 'display_data';\n",
              "          await google.colab.output.renderOutput(dataTable, element);\n",
              "          const docLink = document.createElement('div');\n",
              "          docLink.innerHTML = docLinkHtml;\n",
              "          element.appendChild(docLink);\n",
              "        }\n",
              "      </script>\n",
              "    </div>\n",
              "  </div>\n",
              "  "
            ]
          },
          "metadata": {},
          "execution_count": 10
        }
      ],
      "source": [
        "df.head()"
      ]
    },
    {
      "cell_type": "markdown",
      "metadata": {
        "id": "VCpksg6_1Lkq"
      },
      "source": [
        "**Check numerical values**"
      ]
    },
    {
      "cell_type": "code",
      "execution_count": 11,
      "metadata": {
        "colab": {
          "base_uri": "https://localhost:8080/",
          "height": 332
        },
        "id": "zyj1vW_MwCXd",
        "outputId": "46f5923e-c8fb-44ba-e060-f0b80e275659"
      },
      "outputs": [
        {
          "output_type": "execute_result",
          "data": {
            "text/plain": [
              "            count       mean         std    min     25%     50%     75%  \\\n",
              "seniority  4455.0        8.0         8.0    0.0     2.0     5.0    12.0   \n",
              "time       4455.0       46.0        15.0    6.0    36.0    48.0    60.0   \n",
              "age        4455.0       37.0        11.0   18.0    28.0    36.0    45.0   \n",
              "expenses   4455.0       56.0        20.0   35.0    35.0    51.0    72.0   \n",
              "income     4455.0   763317.0   8703625.0    0.0    80.0   120.0   166.0   \n",
              "assets     4455.0  1060341.0  10217569.0    0.0     0.0  3500.0  6000.0   \n",
              "debt       4455.0   404382.0   6344253.0    0.0     0.0     0.0     0.0   \n",
              "amount     4455.0     1039.0       475.0  100.0   700.0  1000.0  1300.0   \n",
              "price      4455.0     1463.0       628.0  105.0  1118.0  1400.0  1692.0   \n",
              "\n",
              "                  max  \n",
              "seniority        48.0  \n",
              "time             72.0  \n",
              "age              68.0  \n",
              "expenses        180.0  \n",
              "income     99999999.0  \n",
              "assets     99999999.0  \n",
              "debt       99999999.0  \n",
              "amount         5000.0  \n",
              "price         11140.0  "
            ],
            "text/html": [
              "\n",
              "  <div id=\"df-e6108b10-ab7f-4e10-a4e0-fc516f17558e\">\n",
              "    <div class=\"colab-df-container\">\n",
              "      <div>\n",
              "<style scoped>\n",
              "    .dataframe tbody tr th:only-of-type {\n",
              "        vertical-align: middle;\n",
              "    }\n",
              "\n",
              "    .dataframe tbody tr th {\n",
              "        vertical-align: top;\n",
              "    }\n",
              "\n",
              "    .dataframe thead th {\n",
              "        text-align: right;\n",
              "    }\n",
              "</style>\n",
              "<table border=\"1\" class=\"dataframe\">\n",
              "  <thead>\n",
              "    <tr style=\"text-align: right;\">\n",
              "      <th></th>\n",
              "      <th>count</th>\n",
              "      <th>mean</th>\n",
              "      <th>std</th>\n",
              "      <th>min</th>\n",
              "      <th>25%</th>\n",
              "      <th>50%</th>\n",
              "      <th>75%</th>\n",
              "      <th>max</th>\n",
              "    </tr>\n",
              "  </thead>\n",
              "  <tbody>\n",
              "    <tr>\n",
              "      <th>seniority</th>\n",
              "      <td>4455.0</td>\n",
              "      <td>8.0</td>\n",
              "      <td>8.0</td>\n",
              "      <td>0.0</td>\n",
              "      <td>2.0</td>\n",
              "      <td>5.0</td>\n",
              "      <td>12.0</td>\n",
              "      <td>48.0</td>\n",
              "    </tr>\n",
              "    <tr>\n",
              "      <th>time</th>\n",
              "      <td>4455.0</td>\n",
              "      <td>46.0</td>\n",
              "      <td>15.0</td>\n",
              "      <td>6.0</td>\n",
              "      <td>36.0</td>\n",
              "      <td>48.0</td>\n",
              "      <td>60.0</td>\n",
              "      <td>72.0</td>\n",
              "    </tr>\n",
              "    <tr>\n",
              "      <th>age</th>\n",
              "      <td>4455.0</td>\n",
              "      <td>37.0</td>\n",
              "      <td>11.0</td>\n",
              "      <td>18.0</td>\n",
              "      <td>28.0</td>\n",
              "      <td>36.0</td>\n",
              "      <td>45.0</td>\n",
              "      <td>68.0</td>\n",
              "    </tr>\n",
              "    <tr>\n",
              "      <th>expenses</th>\n",
              "      <td>4455.0</td>\n",
              "      <td>56.0</td>\n",
              "      <td>20.0</td>\n",
              "      <td>35.0</td>\n",
              "      <td>35.0</td>\n",
              "      <td>51.0</td>\n",
              "      <td>72.0</td>\n",
              "      <td>180.0</td>\n",
              "    </tr>\n",
              "    <tr>\n",
              "      <th>income</th>\n",
              "      <td>4455.0</td>\n",
              "      <td>763317.0</td>\n",
              "      <td>8703625.0</td>\n",
              "      <td>0.0</td>\n",
              "      <td>80.0</td>\n",
              "      <td>120.0</td>\n",
              "      <td>166.0</td>\n",
              "      <td>99999999.0</td>\n",
              "    </tr>\n",
              "    <tr>\n",
              "      <th>assets</th>\n",
              "      <td>4455.0</td>\n",
              "      <td>1060341.0</td>\n",
              "      <td>10217569.0</td>\n",
              "      <td>0.0</td>\n",
              "      <td>0.0</td>\n",
              "      <td>3500.0</td>\n",
              "      <td>6000.0</td>\n",
              "      <td>99999999.0</td>\n",
              "    </tr>\n",
              "    <tr>\n",
              "      <th>debt</th>\n",
              "      <td>4455.0</td>\n",
              "      <td>404382.0</td>\n",
              "      <td>6344253.0</td>\n",
              "      <td>0.0</td>\n",
              "      <td>0.0</td>\n",
              "      <td>0.0</td>\n",
              "      <td>0.0</td>\n",
              "      <td>99999999.0</td>\n",
              "    </tr>\n",
              "    <tr>\n",
              "      <th>amount</th>\n",
              "      <td>4455.0</td>\n",
              "      <td>1039.0</td>\n",
              "      <td>475.0</td>\n",
              "      <td>100.0</td>\n",
              "      <td>700.0</td>\n",
              "      <td>1000.0</td>\n",
              "      <td>1300.0</td>\n",
              "      <td>5000.0</td>\n",
              "    </tr>\n",
              "    <tr>\n",
              "      <th>price</th>\n",
              "      <td>4455.0</td>\n",
              "      <td>1463.0</td>\n",
              "      <td>628.0</td>\n",
              "      <td>105.0</td>\n",
              "      <td>1118.0</td>\n",
              "      <td>1400.0</td>\n",
              "      <td>1692.0</td>\n",
              "      <td>11140.0</td>\n",
              "    </tr>\n",
              "  </tbody>\n",
              "</table>\n",
              "</div>\n",
              "      <button class=\"colab-df-convert\" onclick=\"convertToInteractive('df-e6108b10-ab7f-4e10-a4e0-fc516f17558e')\"\n",
              "              title=\"Convert this dataframe to an interactive table.\"\n",
              "              style=\"display:none;\">\n",
              "        \n",
              "  <svg xmlns=\"http://www.w3.org/2000/svg\" height=\"24px\"viewBox=\"0 0 24 24\"\n",
              "       width=\"24px\">\n",
              "    <path d=\"M0 0h24v24H0V0z\" fill=\"none\"/>\n",
              "    <path d=\"M18.56 5.44l.94 2.06.94-2.06 2.06-.94-2.06-.94-.94-2.06-.94 2.06-2.06.94zm-11 1L8.5 8.5l.94-2.06 2.06-.94-2.06-.94L8.5 2.5l-.94 2.06-2.06.94zm10 10l.94 2.06.94-2.06 2.06-.94-2.06-.94-.94-2.06-.94 2.06-2.06.94z\"/><path d=\"M17.41 7.96l-1.37-1.37c-.4-.4-.92-.59-1.43-.59-.52 0-1.04.2-1.43.59L10.3 9.45l-7.72 7.72c-.78.78-.78 2.05 0 2.83L4 21.41c.39.39.9.59 1.41.59.51 0 1.02-.2 1.41-.59l7.78-7.78 2.81-2.81c.8-.78.8-2.07 0-2.86zM5.41 20L4 18.59l7.72-7.72 1.47 1.35L5.41 20z\"/>\n",
              "  </svg>\n",
              "      </button>\n",
              "      \n",
              "  <style>\n",
              "    .colab-df-container {\n",
              "      display:flex;\n",
              "      flex-wrap:wrap;\n",
              "      gap: 12px;\n",
              "    }\n",
              "\n",
              "    .colab-df-convert {\n",
              "      background-color: #E8F0FE;\n",
              "      border: none;\n",
              "      border-radius: 50%;\n",
              "      cursor: pointer;\n",
              "      display: none;\n",
              "      fill: #1967D2;\n",
              "      height: 32px;\n",
              "      padding: 0 0 0 0;\n",
              "      width: 32px;\n",
              "    }\n",
              "\n",
              "    .colab-df-convert:hover {\n",
              "      background-color: #E2EBFA;\n",
              "      box-shadow: 0px 1px 2px rgba(60, 64, 67, 0.3), 0px 1px 3px 1px rgba(60, 64, 67, 0.15);\n",
              "      fill: #174EA6;\n",
              "    }\n",
              "\n",
              "    [theme=dark] .colab-df-convert {\n",
              "      background-color: #3B4455;\n",
              "      fill: #D2E3FC;\n",
              "    }\n",
              "\n",
              "    [theme=dark] .colab-df-convert:hover {\n",
              "      background-color: #434B5C;\n",
              "      box-shadow: 0px 1px 3px 1px rgba(0, 0, 0, 0.15);\n",
              "      filter: drop-shadow(0px 1px 2px rgba(0, 0, 0, 0.3));\n",
              "      fill: #FFFFFF;\n",
              "    }\n",
              "  </style>\n",
              "\n",
              "      <script>\n",
              "        const buttonEl =\n",
              "          document.querySelector('#df-e6108b10-ab7f-4e10-a4e0-fc516f17558e button.colab-df-convert');\n",
              "        buttonEl.style.display =\n",
              "          google.colab.kernel.accessAllowed ? 'block' : 'none';\n",
              "\n",
              "        async function convertToInteractive(key) {\n",
              "          const element = document.querySelector('#df-e6108b10-ab7f-4e10-a4e0-fc516f17558e');\n",
              "          const dataTable =\n",
              "            await google.colab.kernel.invokeFunction('convertToInteractive',\n",
              "                                                     [key], {});\n",
              "          if (!dataTable) return;\n",
              "\n",
              "          const docLinkHtml = 'Like what you see? Visit the ' +\n",
              "            '<a target=\"_blank\" href=https://colab.research.google.com/notebooks/data_table.ipynb>data table notebook</a>'\n",
              "            + ' to learn more about interactive tables.';\n",
              "          element.innerHTML = '';\n",
              "          dataTable['output_type'] = 'display_data';\n",
              "          await google.colab.output.renderOutput(dataTable, element);\n",
              "          const docLink = document.createElement('div');\n",
              "          docLink.innerHTML = docLinkHtml;\n",
              "          element.appendChild(docLink);\n",
              "        }\n",
              "      </script>\n",
              "    </div>\n",
              "  </div>\n",
              "  "
            ]
          },
          "metadata": {},
          "execution_count": 11
        }
      ],
      "source": [
        "df.describe().T.round()"
      ]
    },
    {
      "cell_type": "markdown",
      "metadata": {
        "id": "gD8XQsna2Hfn"
      },
      "source": [
        "One thing we immediately can notice is that the max value is 99999999 in some cases. This is quite suspicious. As it turns out, it’s an artificial value — this is how missing values are encoded in this dataset."
      ]
    },
    {
      "cell_type": "code",
      "execution_count": 12,
      "metadata": {
        "id": "EVtahDkV1Uqv"
      },
      "outputs": [],
      "source": [
        "def fix_missing_values(df, val_to_rep, rep, *f_lst):\n",
        "  for f in f_lst:\n",
        "    df[f] = df[f].replace(val_to_rep, rep)"
      ]
    },
    {
      "cell_type": "code",
      "execution_count": 13,
      "metadata": {
        "id": "MwJF1sQp29Sf"
      },
      "outputs": [],
      "source": [
        "fix_missing_values(df, 99999999.0, np.nan, ['income', 'assets', 'debt'])"
      ]
    },
    {
      "cell_type": "code",
      "execution_count": 14,
      "metadata": {
        "colab": {
          "base_uri": "https://localhost:8080/",
          "height": 332
        },
        "id": "AymfAQsU3Pse",
        "outputId": "23c3f928-b7cb-438e-fe35-584656e4a09f"
      },
      "outputs": [
        {
          "output_type": "execute_result",
          "data": {
            "text/plain": [
              "            count    mean      std    min     25%     50%     75%       max\n",
              "seniority  4455.0     8.0      8.0    0.0     2.0     5.0    12.0      48.0\n",
              "time       4455.0    46.0     15.0    6.0    36.0    48.0    60.0      72.0\n",
              "age        4455.0    37.0     11.0   18.0    28.0    36.0    45.0      68.0\n",
              "expenses   4455.0    56.0     20.0   35.0    35.0    51.0    72.0     180.0\n",
              "income     4421.0   131.0     86.0    0.0    80.0   120.0   165.0     959.0\n",
              "assets     4408.0  5403.0  11573.0    0.0     0.0  3000.0  6000.0  300000.0\n",
              "debt       4437.0   343.0   1246.0    0.0     0.0     0.0     0.0   30000.0\n",
              "amount     4455.0  1039.0    475.0  100.0   700.0  1000.0  1300.0    5000.0\n",
              "price      4455.0  1463.0    628.0  105.0  1118.0  1400.0  1692.0   11140.0"
            ],
            "text/html": [
              "\n",
              "  <div id=\"df-5acedab0-cf57-4f01-85b5-77e259aa5a8b\">\n",
              "    <div class=\"colab-df-container\">\n",
              "      <div>\n",
              "<style scoped>\n",
              "    .dataframe tbody tr th:only-of-type {\n",
              "        vertical-align: middle;\n",
              "    }\n",
              "\n",
              "    .dataframe tbody tr th {\n",
              "        vertical-align: top;\n",
              "    }\n",
              "\n",
              "    .dataframe thead th {\n",
              "        text-align: right;\n",
              "    }\n",
              "</style>\n",
              "<table border=\"1\" class=\"dataframe\">\n",
              "  <thead>\n",
              "    <tr style=\"text-align: right;\">\n",
              "      <th></th>\n",
              "      <th>count</th>\n",
              "      <th>mean</th>\n",
              "      <th>std</th>\n",
              "      <th>min</th>\n",
              "      <th>25%</th>\n",
              "      <th>50%</th>\n",
              "      <th>75%</th>\n",
              "      <th>max</th>\n",
              "    </tr>\n",
              "  </thead>\n",
              "  <tbody>\n",
              "    <tr>\n",
              "      <th>seniority</th>\n",
              "      <td>4455.0</td>\n",
              "      <td>8.0</td>\n",
              "      <td>8.0</td>\n",
              "      <td>0.0</td>\n",
              "      <td>2.0</td>\n",
              "      <td>5.0</td>\n",
              "      <td>12.0</td>\n",
              "      <td>48.0</td>\n",
              "    </tr>\n",
              "    <tr>\n",
              "      <th>time</th>\n",
              "      <td>4455.0</td>\n",
              "      <td>46.0</td>\n",
              "      <td>15.0</td>\n",
              "      <td>6.0</td>\n",
              "      <td>36.0</td>\n",
              "      <td>48.0</td>\n",
              "      <td>60.0</td>\n",
              "      <td>72.0</td>\n",
              "    </tr>\n",
              "    <tr>\n",
              "      <th>age</th>\n",
              "      <td>4455.0</td>\n",
              "      <td>37.0</td>\n",
              "      <td>11.0</td>\n",
              "      <td>18.0</td>\n",
              "      <td>28.0</td>\n",
              "      <td>36.0</td>\n",
              "      <td>45.0</td>\n",
              "      <td>68.0</td>\n",
              "    </tr>\n",
              "    <tr>\n",
              "      <th>expenses</th>\n",
              "      <td>4455.0</td>\n",
              "      <td>56.0</td>\n",
              "      <td>20.0</td>\n",
              "      <td>35.0</td>\n",
              "      <td>35.0</td>\n",
              "      <td>51.0</td>\n",
              "      <td>72.0</td>\n",
              "      <td>180.0</td>\n",
              "    </tr>\n",
              "    <tr>\n",
              "      <th>income</th>\n",
              "      <td>4421.0</td>\n",
              "      <td>131.0</td>\n",
              "      <td>86.0</td>\n",
              "      <td>0.0</td>\n",
              "      <td>80.0</td>\n",
              "      <td>120.0</td>\n",
              "      <td>165.0</td>\n",
              "      <td>959.0</td>\n",
              "    </tr>\n",
              "    <tr>\n",
              "      <th>assets</th>\n",
              "      <td>4408.0</td>\n",
              "      <td>5403.0</td>\n",
              "      <td>11573.0</td>\n",
              "      <td>0.0</td>\n",
              "      <td>0.0</td>\n",
              "      <td>3000.0</td>\n",
              "      <td>6000.0</td>\n",
              "      <td>300000.0</td>\n",
              "    </tr>\n",
              "    <tr>\n",
              "      <th>debt</th>\n",
              "      <td>4437.0</td>\n",
              "      <td>343.0</td>\n",
              "      <td>1246.0</td>\n",
              "      <td>0.0</td>\n",
              "      <td>0.0</td>\n",
              "      <td>0.0</td>\n",
              "      <td>0.0</td>\n",
              "      <td>30000.0</td>\n",
              "    </tr>\n",
              "    <tr>\n",
              "      <th>amount</th>\n",
              "      <td>4455.0</td>\n",
              "      <td>1039.0</td>\n",
              "      <td>475.0</td>\n",
              "      <td>100.0</td>\n",
              "      <td>700.0</td>\n",
              "      <td>1000.0</td>\n",
              "      <td>1300.0</td>\n",
              "      <td>5000.0</td>\n",
              "    </tr>\n",
              "    <tr>\n",
              "      <th>price</th>\n",
              "      <td>4455.0</td>\n",
              "      <td>1463.0</td>\n",
              "      <td>628.0</td>\n",
              "      <td>105.0</td>\n",
              "      <td>1118.0</td>\n",
              "      <td>1400.0</td>\n",
              "      <td>1692.0</td>\n",
              "      <td>11140.0</td>\n",
              "    </tr>\n",
              "  </tbody>\n",
              "</table>\n",
              "</div>\n",
              "      <button class=\"colab-df-convert\" onclick=\"convertToInteractive('df-5acedab0-cf57-4f01-85b5-77e259aa5a8b')\"\n",
              "              title=\"Convert this dataframe to an interactive table.\"\n",
              "              style=\"display:none;\">\n",
              "        \n",
              "  <svg xmlns=\"http://www.w3.org/2000/svg\" height=\"24px\"viewBox=\"0 0 24 24\"\n",
              "       width=\"24px\">\n",
              "    <path d=\"M0 0h24v24H0V0z\" fill=\"none\"/>\n",
              "    <path d=\"M18.56 5.44l.94 2.06.94-2.06 2.06-.94-2.06-.94-.94-2.06-.94 2.06-2.06.94zm-11 1L8.5 8.5l.94-2.06 2.06-.94-2.06-.94L8.5 2.5l-.94 2.06-2.06.94zm10 10l.94 2.06.94-2.06 2.06-.94-2.06-.94-.94-2.06-.94 2.06-2.06.94z\"/><path d=\"M17.41 7.96l-1.37-1.37c-.4-.4-.92-.59-1.43-.59-.52 0-1.04.2-1.43.59L10.3 9.45l-7.72 7.72c-.78.78-.78 2.05 0 2.83L4 21.41c.39.39.9.59 1.41.59.51 0 1.02-.2 1.41-.59l7.78-7.78 2.81-2.81c.8-.78.8-2.07 0-2.86zM5.41 20L4 18.59l7.72-7.72 1.47 1.35L5.41 20z\"/>\n",
              "  </svg>\n",
              "      </button>\n",
              "      \n",
              "  <style>\n",
              "    .colab-df-container {\n",
              "      display:flex;\n",
              "      flex-wrap:wrap;\n",
              "      gap: 12px;\n",
              "    }\n",
              "\n",
              "    .colab-df-convert {\n",
              "      background-color: #E8F0FE;\n",
              "      border: none;\n",
              "      border-radius: 50%;\n",
              "      cursor: pointer;\n",
              "      display: none;\n",
              "      fill: #1967D2;\n",
              "      height: 32px;\n",
              "      padding: 0 0 0 0;\n",
              "      width: 32px;\n",
              "    }\n",
              "\n",
              "    .colab-df-convert:hover {\n",
              "      background-color: #E2EBFA;\n",
              "      box-shadow: 0px 1px 2px rgba(60, 64, 67, 0.3), 0px 1px 3px 1px rgba(60, 64, 67, 0.15);\n",
              "      fill: #174EA6;\n",
              "    }\n",
              "\n",
              "    [theme=dark] .colab-df-convert {\n",
              "      background-color: #3B4455;\n",
              "      fill: #D2E3FC;\n",
              "    }\n",
              "\n",
              "    [theme=dark] .colab-df-convert:hover {\n",
              "      background-color: #434B5C;\n",
              "      box-shadow: 0px 1px 3px 1px rgba(0, 0, 0, 0.15);\n",
              "      filter: drop-shadow(0px 1px 2px rgba(0, 0, 0, 0.3));\n",
              "      fill: #FFFFFF;\n",
              "    }\n",
              "  </style>\n",
              "\n",
              "      <script>\n",
              "        const buttonEl =\n",
              "          document.querySelector('#df-5acedab0-cf57-4f01-85b5-77e259aa5a8b button.colab-df-convert');\n",
              "        buttonEl.style.display =\n",
              "          google.colab.kernel.accessAllowed ? 'block' : 'none';\n",
              "\n",
              "        async function convertToInteractive(key) {\n",
              "          const element = document.querySelector('#df-5acedab0-cf57-4f01-85b5-77e259aa5a8b');\n",
              "          const dataTable =\n",
              "            await google.colab.kernel.invokeFunction('convertToInteractive',\n",
              "                                                     [key], {});\n",
              "          if (!dataTable) return;\n",
              "\n",
              "          const docLinkHtml = 'Like what you see? Visit the ' +\n",
              "            '<a target=\"_blank\" href=https://colab.research.google.com/notebooks/data_table.ipynb>data table notebook</a>'\n",
              "            + ' to learn more about interactive tables.';\n",
              "          element.innerHTML = '';\n",
              "          dataTable['output_type'] = 'display_data';\n",
              "          await google.colab.output.renderOutput(dataTable, element);\n",
              "          const docLink = document.createElement('div');\n",
              "          docLink.innerHTML = docLinkHtml;\n",
              "          element.appendChild(docLink);\n",
              "        }\n",
              "      </script>\n",
              "    </div>\n",
              "  </div>\n",
              "  "
            ]
          },
          "metadata": {},
          "execution_count": 14
        }
      ],
      "source": [
        "df.describe().T.round()"
      ]
    },
    {
      "cell_type": "code",
      "execution_count": 15,
      "metadata": {
        "colab": {
          "base_uri": "https://localhost:8080/"
        },
        "id": "zUjTSr8C3T9t",
        "outputId": "b051a5fc-9144-48fd-a0aa-83a950ed6c36"
      },
      "outputs": [
        {
          "output_type": "execute_result",
          "data": {
            "text/plain": [
              "status        0\n",
              "seniority     0\n",
              "home          0\n",
              "time          0\n",
              "age           0\n",
              "marital       0\n",
              "records       0\n",
              "job           0\n",
              "expenses      0\n",
              "income       34\n",
              "assets       47\n",
              "debt         18\n",
              "amount        0\n",
              "price         0\n",
              "dtype: int64"
            ]
          },
          "metadata": {},
          "execution_count": 15
        }
      ],
      "source": [
        "df.isna().sum()"
      ]
    },
    {
      "cell_type": "markdown",
      "metadata": {
        "id": "gBfTRnc74sqy"
      },
      "source": [
        "We notice that there’s one row with “unknown” status: we don’t know whether this client\n",
        "managed to pay back the loan or not. For our project, this row is not useful"
      ]
    },
    {
      "cell_type": "code",
      "execution_count": 16,
      "metadata": {
        "id": "AZyqFBPe3ipL"
      },
      "outputs": [],
      "source": [
        "df = df[df.status != 'unk']"
      ]
    },
    {
      "cell_type": "markdown",
      "metadata": {
        "id": "r0y-vPvv5Cbi"
      },
      "source": []
    },
    {
      "cell_type": "markdown",
      "metadata": {
        "id": "e71srGg-5Ioa"
      },
      "source": [
        "# Dataset preparation"
      ]
    },
    {
      "cell_type": "markdown",
      "metadata": {
        "id": "RohaCtyR666n"
      },
      "source": [
        "Separate target from features. Since our objective is to determine if somebody fails to pay back their credit, the positive class is “default”. This means that y is “1” if the client defaulted and\n",
        "“0” otherwise."
      ]
    },
    {
      "cell_type": "code",
      "execution_count": 17,
      "metadata": {
        "id": "5sCJtqRH6XUw"
      },
      "outputs": [],
      "source": [
        "data, target = df.drop(columns=['status']), df['status'].map({'ok':0, 'default':1})"
      ]
    },
    {
      "cell_type": "code",
      "execution_count": 18,
      "metadata": {
        "colab": {
          "base_uri": "https://localhost:8080/"
        },
        "id": "M7DSlchu7VC6",
        "outputId": "e5c3249d-c8c9-4adc-99a3-be44f8203c2d"
      },
      "outputs": [
        {
          "output_type": "execute_result",
          "data": {
            "text/plain": [
              "0    0\n",
              "1    0\n",
              "2    1\n",
              "3    0\n",
              "4    0\n",
              "Name: status, dtype: int64"
            ]
          },
          "metadata": {},
          "execution_count": 18
        }
      ],
      "source": [
        "target.head()"
      ]
    },
    {
      "cell_type": "markdown",
      "metadata": {
        "id": "mAZTyM5c5hfP"
      },
      "source": [
        "**Spliting data**"
      ]
    },
    {
      "cell_type": "code",
      "execution_count": 19,
      "metadata": {
        "colab": {
          "base_uri": "https://localhost:8080/"
        },
        "id": "0ViNmhnG41E8",
        "outputId": "66eef6df-17a3-4669-eedc-62bdc0843f27"
      },
      "outputs": [
        {
          "output_type": "execute_result",
          "data": {
            "text/plain": [
              "((2672, 13), (2672,), (891, 13), (891,), (891, 13), (891,))"
            ]
          },
          "metadata": {},
          "execution_count": 19
        }
      ],
      "source": [
        "from sklearn import model_selection\n",
        "\n",
        "X_full_train, X_test, y_full_train, y_test = model_selection.train_test_split(\n",
        "    data,\n",
        "    target,\n",
        "    test_size=.2,\n",
        "    random_state=11,\n",
        ")\n",
        "X_train, X_dev, y_train, y_dev = model_selection.train_test_split(\n",
        "    X_full_train,\n",
        "    y_full_train,\n",
        "    test_size=.25,\n",
        "    random_state=11,\n",
        ")\n",
        "\n",
        "X_train.shape, y_train.shape, X_dev.shape, y_dev.shape, X_test.shape, y_test.shape"
      ]
    },
    {
      "cell_type": "markdown",
      "metadata": {
        "id": "XM6j6NkD-CPs"
      },
      "source": [
        "**impute missing values and make pipelines**"
      ]
    },
    {
      "cell_type": "code",
      "execution_count": 20,
      "metadata": {
        "id": "pmW6udgI9OTY"
      },
      "outputs": [],
      "source": [
        "from sklearn.impute import SimpleImputer\n",
        "from sklearn.preprocessing import OrdinalEncoder\n",
        "from sklearn.compose import (\n",
        "    make_column_selector as selector, \n",
        "    ColumnTransformer, \n",
        "    make_column_transformer,\n",
        ")    \n",
        "from sklearn.pipeline import Pipeline, make_pipeline\n",
        "\n",
        "\n",
        "numerical = selector(dtype_include=np.number)(data)\n",
        "categorical = selector(dtype_include=object)(data)\n",
        "\n",
        "num_imputer = SimpleImputer(missing_values=np.NaN, strategy='constant', fill_value=0)\n",
        "cat_imputer = SimpleImputer(strategy='constant', fill_value='unk')\n",
        "cat_encoder = OrdinalEncoder(handle_unknown='use_encoded_value', unknown_value=-1)\n",
        "\n",
        "cat_preprocessor = Pipeline([\n",
        "    ('category_imputer', cat_imputer),\n",
        "    ('category_encoder', cat_encoder)\n",
        "])\n",
        "\n",
        "processor = ColumnTransformer([\n",
        "    ('numeric', num_imputer, numerical),\n",
        "    ('category', cat_preprocessor, categorical)\n",
        "])"
      ]
    },
    {
      "cell_type": "markdown",
      "metadata": {
        "id": "ZyNCVzxVB3R3"
      },
      "source": [
        "# Models"
      ]
    },
    {
      "cell_type": "markdown",
      "metadata": {
        "id": "771JiHqyB6Co"
      },
      "source": [
        "## Decision Trees"
      ]
    },
    {
      "cell_type": "code",
      "execution_count": 21,
      "metadata": {
        "colab": {
          "base_uri": "https://localhost:8080/"
        },
        "id": "ko89Tp84Bqq_",
        "outputId": "e7024e29-a370-4dcc-c71d-d8becfeec4c1"
      },
      "outputs": [
        {
          "output_type": "execute_result",
          "data": {
            "text/plain": [
              "Pipeline(steps=[('columntransformer',\n",
              "                 ColumnTransformer(transformers=[('numeric',\n",
              "                                                  SimpleImputer(fill_value=0,\n",
              "                                                                strategy='constant'),\n",
              "                                                  ['seniority', 'time', 'age',\n",
              "                                                   'expenses', 'income',\n",
              "                                                   'assets', 'debt', 'amount',\n",
              "                                                   'price']),\n",
              "                                                 ('category',\n",
              "                                                  Pipeline(steps=[('category_imputer',\n",
              "                                                                   SimpleImputer(fill_value='unk',\n",
              "                                                                                 strategy='constant')),\n",
              "                                                                  ('category_encoder',\n",
              "                                                                   OrdinalEncoder(handle_unknown='use_encoded_value',\n",
              "                                                                                  unknown_value=-1))]),\n",
              "                                                  ['home', 'marital', 'records',\n",
              "                                                   'job'])])),\n",
              "                ('decisiontreeclassifier', DecisionTreeClassifier())])"
            ]
          },
          "metadata": {},
          "execution_count": 21
        }
      ],
      "source": [
        "from sklearn.tree import DecisionTreeClassifier\n",
        "\n",
        "dt = make_pipeline(processor, DecisionTreeClassifier())\n",
        "dt.fit(X_train, y_train)"
      ]
    },
    {
      "cell_type": "code",
      "execution_count": 22,
      "metadata": {
        "colab": {
          "base_uri": "https://localhost:8080/"
        },
        "id": "IcV8ePd3DE1z",
        "outputId": "1094d09d-16bb-4ea1-f128-585363bc5e23"
      },
      "outputs": [
        {
          "output_type": "execute_result",
          "data": {
            "text/plain": [
              "1.0"
            ]
          },
          "metadata": {},
          "execution_count": 22
        }
      ],
      "source": [
        "from sklearn import metrics\n",
        "\n",
        "y_pred = dt.predict_proba(X_train)[:, 1]\n",
        "metrics.roc_auc_score(y_train, y_pred)"
      ]
    },
    {
      "cell_type": "code",
      "execution_count": 23,
      "metadata": {
        "colab": {
          "base_uri": "https://localhost:8080/"
        },
        "id": "I_67MGEAGWI3",
        "outputId": "c450a16b-a1d9-475e-ca55-f82ca4d6a531"
      },
      "outputs": [
        {
          "output_type": "execute_result",
          "data": {
            "text/plain": [
              "0.6551003850718073"
            ]
          },
          "metadata": {},
          "execution_count": 23
        }
      ],
      "source": [
        "y_pred = dt.predict_proba(X_dev)[:, 1]\n",
        "metrics.roc_auc_score(y_dev, y_pred)"
      ]
    },
    {
      "cell_type": "code",
      "execution_count": 24,
      "metadata": {
        "colab": {
          "base_uri": "https://localhost:8080/"
        },
        "id": "xQjDcsknGcjj",
        "outputId": "b5367e06-6061-4ad3-cdd0-1c095a72957b"
      },
      "outputs": [
        {
          "output_type": "execute_result",
          "data": {
            "text/plain": [
              "0.49809885931558934"
            ]
          },
          "metadata": {},
          "execution_count": 24
        }
      ],
      "source": [
        "metrics.recall_score(y_dev, y_pred)"
      ]
    },
    {
      "cell_type": "markdown",
      "metadata": {
        "id": "6JgO_RplITzw"
      },
      "source": [
        "We just observed a case of overfitting. The tree learned the training data so well that it simply memorized the outcome for each customer. However, when we applied it to the validation set, the model failed. The rules it extracted from data turned out too specific to the training set, so it worked poorly for customers it didn’t see during training. In such cases, we say that the model cannot generalize. Overfitting happens when we have a complex model with enough power to remember all the training data. If we force the model to be simpler, we can make it less powerful, and improve the model’s ability to generalize. There are multiple ways of controlling the complexity of a tree. One of the options is restricting its size: we can specify the max_depth parameter, which controls the maximal number of levels. The more levels a tree has, the more complex rules it can learn."
      ]
    },
    {
      "cell_type": "markdown",
      "metadata": {
        "id": "Pr31GPj-KuXK"
      },
      "source": [
        "The default value for the `max_depth` parameter is `None`, which means that the tree can grow\n",
        "as large as possible. We can try a smaller value and compare the results."
      ]
    },
    {
      "cell_type": "code",
      "execution_count": 25,
      "metadata": {
        "colab": {
          "base_uri": "https://localhost:8080/"
        },
        "id": "t_4jVC3gHLEM",
        "outputId": "a12be3de-da95-45e6-dfbc-f0c2c5063675"
      },
      "outputs": [
        {
          "output_type": "execute_result",
          "data": {
            "text/plain": [
              "Pipeline(steps=[('columntransformer',\n",
              "                 ColumnTransformer(transformers=[('numeric',\n",
              "                                                  SimpleImputer(fill_value=0,\n",
              "                                                                strategy='constant'),\n",
              "                                                  ['seniority', 'time', 'age',\n",
              "                                                   'expenses', 'income',\n",
              "                                                   'assets', 'debt', 'amount',\n",
              "                                                   'price']),\n",
              "                                                 ('category',\n",
              "                                                  Pipeline(steps=[('category_imputer',\n",
              "                                                                   SimpleImputer(fill_value='unk',\n",
              "                                                                                 strategy='constant')),\n",
              "                                                                  ('category_encoder',\n",
              "                                                                   OrdinalEncoder(handle_unknown='use_encoded_value',\n",
              "                                                                                  unknown_value=-1))]),\n",
              "                                                  ['home', 'marital', 'records',\n",
              "                                                   'job'])])),\n",
              "                ('decisiontreeclassifier',\n",
              "                 DecisionTreeClassifier(max_depth=2))])"
            ]
          },
          "metadata": {},
          "execution_count": 25
        }
      ],
      "source": [
        "max_depth = 2\n",
        "\n",
        "dt = make_pipeline(processor, DecisionTreeClassifier(max_depth=max_depth))\n",
        "dt.fit(X_train, y_train)"
      ]
    },
    {
      "cell_type": "code",
      "execution_count": 26,
      "metadata": {
        "colab": {
          "base_uri": "https://localhost:8080/"
        },
        "id": "q75X8PNcK9Or",
        "outputId": "87d86eda-8203-4766-a9c7-ad5b6ed61321"
      },
      "outputs": [
        {
          "output_type": "stream",
          "name": "stdout",
          "text": [
            "|--- feature_11 <= 0.50\n",
            "|   |--- feature_12 <= 2.50\n",
            "|   |   |--- class: 0\n",
            "|   |--- feature_12 >  2.50\n",
            "|   |   |--- class: 1\n",
            "|--- feature_11 >  0.50\n",
            "|   |--- feature_0 <= 6.50\n",
            "|   |   |--- class: 1\n",
            "|   |--- feature_0 >  6.50\n",
            "|   |   |--- class: 0\n",
            "\n"
          ]
        }
      ],
      "source": [
        "from sklearn.tree import export_text\n",
        "\n",
        "\n",
        "tree_text = export_text(dt[1])\n",
        "print(tree_text)"
      ]
    },
    {
      "cell_type": "code",
      "execution_count": 27,
      "metadata": {
        "colab": {
          "base_uri": "https://localhost:8080/"
        },
        "id": "J78l5g1-O_nl",
        "outputId": "2cb50e3f-564d-4ab7-c1af-d05913673db2"
      },
      "outputs": [
        {
          "output_type": "stream",
          "name": "stdout",
          "text": [
            "AUC train set: 0.7061968339811842\n"
          ]
        }
      ],
      "source": [
        "y_pred = dt.predict_proba(X_train)[:, 1]\n",
        "print(f\"AUC train set: {metrics.roc_auc_score(y_train, y_pred)}\")"
      ]
    },
    {
      "cell_type": "code",
      "execution_count": 28,
      "metadata": {
        "colab": {
          "base_uri": "https://localhost:8080/"
        },
        "id": "pvjMefDcM3Px",
        "outputId": "7ea67c2f-0719-4c81-e687-cde141f664f9"
      },
      "outputs": [
        {
          "output_type": "stream",
          "name": "stdout",
          "text": [
            "AUC dev set: 0.6685264343319367\n"
          ]
        }
      ],
      "source": [
        "y_pred = dt.predict_proba(X_dev)[:, 1]\n",
        "print(f\"AUC dev set: {metrics.roc_auc_score(y_dev, y_pred)}\")"
      ]
    },
    {
      "cell_type": "code",
      "execution_count": 29,
      "metadata": {
        "colab": {
          "base_uri": "https://localhost:8080/"
        },
        "id": "J8OYqca_OooQ",
        "outputId": "62765918-50ca-4b78-ba6a-1d777dad4df0"
      },
      "outputs": [
        {
          "output_type": "stream",
          "name": "stdout",
          "text": [
            "Recall dev set: 0.38022813688212925\n"
          ]
        }
      ],
      "source": [
        "y_pred_rec = dt.predict(X_dev)\n",
        "print(f\"Recall dev set: {metrics.recall_score(y_dev, y_pred_rec)}\")"
      ]
    },
    {
      "cell_type": "code",
      "execution_count": 30,
      "metadata": {
        "colab": {
          "base_uri": "https://localhost:8080/"
        },
        "id": "XhlvKoaZPmDL",
        "outputId": "af3e7ade-0ce4-4610-cd0c-029905a869ef"
      },
      "outputs": [
        {
          "output_type": "stream",
          "name": "stdout",
          "text": [
            "max_depth: 5 ---> auc: 0.767\n",
            "max_depth: 8 ---> auc: 0.726\n",
            "max_depth: 15 ---> auc: 0.659\n",
            "max_depth: 25 ---> auc: 0.667\n",
            "max_depth: 30 ---> auc: 0.657\n",
            "max_depth: None ---> auc: 0.668\n"
          ]
        }
      ],
      "source": [
        "auc = []\n",
        "\n",
        "for depth in [5, 8, 15, 25, 30, None]:\n",
        "  dt = make_pipeline(processor, DecisionTreeClassifier(max_depth=depth))\n",
        "  dt.fit(X_train, y_train)\n",
        "  preds = dt.predict_proba(X_dev)[:, 1]\n",
        "  score = metrics.roc_auc_score(y_dev, preds)\n",
        "  auc.append((depth, score))\n",
        "  # print(f\"max_depth: {depth} ---> auc: {score}\")\n",
        "\n",
        "for depth, score in auc:\n",
        "  print(f\"max_depth: {depth} ---> auc: {score:.3f}\")"
      ]
    },
    {
      "cell_type": "code",
      "execution_count": 31,
      "metadata": {
        "colab": {
          "base_uri": "https://localhost:8080/"
        },
        "id": "LLUh7l6icZdy",
        "outputId": "f251aca4-24df-4882-ff9e-0504907c9f09"
      },
      "outputs": [
        {
          "output_type": "stream",
          "name": "stdout",
          "text": [
            "memory\n",
            "steps\n",
            "verbose\n",
            "columntransformer\n",
            "decisiontreeclassifier\n",
            "columntransformer__n_jobs\n",
            "columntransformer__remainder\n",
            "columntransformer__sparse_threshold\n",
            "columntransformer__transformer_weights\n",
            "columntransformer__transformers\n",
            "columntransformer__verbose\n",
            "columntransformer__verbose_feature_names_out\n",
            "columntransformer__numeric\n",
            "columntransformer__category\n",
            "columntransformer__numeric__add_indicator\n",
            "columntransformer__numeric__copy\n",
            "columntransformer__numeric__fill_value\n",
            "columntransformer__numeric__missing_values\n",
            "columntransformer__numeric__strategy\n",
            "columntransformer__numeric__verbose\n",
            "columntransformer__category__memory\n",
            "columntransformer__category__steps\n",
            "columntransformer__category__verbose\n",
            "columntransformer__category__category_imputer\n",
            "columntransformer__category__category_encoder\n",
            "columntransformer__category__category_imputer__add_indicator\n",
            "columntransformer__category__category_imputer__copy\n",
            "columntransformer__category__category_imputer__fill_value\n",
            "columntransformer__category__category_imputer__missing_values\n",
            "columntransformer__category__category_imputer__strategy\n",
            "columntransformer__category__category_imputer__verbose\n",
            "columntransformer__category__category_encoder__categories\n",
            "columntransformer__category__category_encoder__dtype\n",
            "columntransformer__category__category_encoder__handle_unknown\n",
            "columntransformer__category__category_encoder__unknown_value\n",
            "decisiontreeclassifier__ccp_alpha\n",
            "decisiontreeclassifier__class_weight\n",
            "decisiontreeclassifier__criterion\n",
            "decisiontreeclassifier__max_depth\n",
            "decisiontreeclassifier__max_features\n",
            "decisiontreeclassifier__max_leaf_nodes\n",
            "decisiontreeclassifier__min_impurity_decrease\n",
            "decisiontreeclassifier__min_samples_leaf\n",
            "decisiontreeclassifier__min_samples_split\n",
            "decisiontreeclassifier__min_weight_fraction_leaf\n",
            "decisiontreeclassifier__random_state\n",
            "decisiontreeclassifier__splitter\n"
          ]
        }
      ],
      "source": [
        "for i in dt.get_params().keys():\n",
        "  print(i)"
      ]
    },
    {
      "cell_type": "code",
      "execution_count": 32,
      "metadata": {
        "colab": {
          "base_uri": "https://localhost:8080/"
        },
        "id": "mPI0odTbbgQL",
        "outputId": "9b292c48-5e7f-4f69-a9ef-efb4828ddc08"
      },
      "outputs": [
        {
          "output_type": "stream",
          "name": "stdout",
          "text": [
            "min samples leaf: 1, max_depth: 5 ---> AUC: 0.767\n",
            "min samples leaf: 1, max_depth: 8 ---> AUC: 0.730\n",
            "min samples leaf: 1, max_depth: 15 ---> AUC: 0.660\n",
            "min samples leaf: 1, max_depth: 25 ---> AUC: 0.659\n",
            "min samples leaf: 1, max_depth: 30 ---> AUC: 0.656\n",
            "min samples leaf: 1, max_depth: None ---> AUC: 0.652\n",
            "min samples leaf: 5, max_depth: 5 ---> AUC: 0.768\n",
            "min samples leaf: 5, max_depth: 8 ---> AUC: 0.743\n",
            "min samples leaf: 5, max_depth: 15 ---> AUC: 0.717\n",
            "min samples leaf: 5, max_depth: 25 ---> AUC: 0.717\n",
            "min samples leaf: 5, max_depth: 30 ---> AUC: 0.711\n",
            "min samples leaf: 5, max_depth: None ---> AUC: 0.722\n",
            "min samples leaf: 10, max_depth: 5 ---> AUC: 0.768\n",
            "min samples leaf: 10, max_depth: 8 ---> AUC: 0.765\n",
            "min samples leaf: 10, max_depth: 15 ---> AUC: 0.765\n",
            "min samples leaf: 10, max_depth: 25 ---> AUC: 0.767\n",
            "min samples leaf: 10, max_depth: 30 ---> AUC: 0.765\n",
            "min samples leaf: 10, max_depth: None ---> AUC: 0.764\n",
            "min samples leaf: 15, max_depth: 5 ---> AUC: 0.772\n",
            "min samples leaf: 15, max_depth: 8 ---> AUC: 0.782\n",
            "min samples leaf: 15, max_depth: 15 ---> AUC: 0.791\n",
            "min samples leaf: 15, max_depth: 25 ---> AUC: 0.791\n",
            "min samples leaf: 15, max_depth: 30 ---> AUC: 0.791\n",
            "min samples leaf: 15, max_depth: None ---> AUC: 0.789\n",
            "min samples leaf: 20, max_depth: 5 ---> AUC: 0.774\n",
            "min samples leaf: 20, max_depth: 8 ---> AUC: 0.779\n",
            "min samples leaf: 20, max_depth: 15 ---> AUC: 0.780\n",
            "min samples leaf: 20, max_depth: 25 ---> AUC: 0.782\n",
            "min samples leaf: 20, max_depth: 30 ---> AUC: 0.781\n",
            "min samples leaf: 20, max_depth: None ---> AUC: 0.781\n",
            "min samples leaf: 50, max_depth: 5 ---> AUC: 0.767\n",
            "min samples leaf: 50, max_depth: 8 ---> AUC: 0.778\n",
            "min samples leaf: 50, max_depth: 15 ---> AUC: 0.773\n",
            "min samples leaf: 50, max_depth: 25 ---> AUC: 0.775\n",
            "min samples leaf: 50, max_depth: 30 ---> AUC: 0.775\n",
            "min samples leaf: 50, max_depth: None ---> AUC: 0.773\n",
            "min samples leaf: 100, max_depth: 5 ---> AUC: 0.763\n",
            "min samples leaf: 100, max_depth: 8 ---> AUC: 0.780\n",
            "min samples leaf: 100, max_depth: 15 ---> AUC: 0.780\n",
            "min samples leaf: 100, max_depth: 25 ---> AUC: 0.780\n",
            "min samples leaf: 100, max_depth: 30 ---> AUC: 0.780\n",
            "min samples leaf: 100, max_depth: None ---> AUC: 0.780\n",
            "min samples leaf: 200, max_depth: 5 ---> AUC: 0.759\n",
            "min samples leaf: 200, max_depth: 8 ---> AUC: 0.768\n",
            "min samples leaf: 200, max_depth: 15 ---> AUC: 0.768\n",
            "min samples leaf: 200, max_depth: 25 ---> AUC: 0.768\n",
            "min samples leaf: 200, max_depth: 30 ---> AUC: 0.768\n",
            "min samples leaf: 200, max_depth: None ---> AUC: 0.768\n"
          ]
        }
      ],
      "source": [
        "auc = []\n",
        "\n",
        "for min_leaf in [1, 5, 10, 15, 20, 50, 100, 200]:\n",
        "  for depth in [5, 8, 15, 25, 30, None]:\n",
        "    dt.set_params(\n",
        "        decisiontreeclassifier__min_samples_leaf=min_leaf, \n",
        "        decisiontreeclassifier__max_depth=depth\n",
        "    )\n",
        "    dt.fit(X_train, y_train)\n",
        "    preds = dt.predict_proba(X_dev)[:, 1]\n",
        "    res = metrics.roc_auc_score(y_dev, preds)\n",
        "    auc.append((min_leaf, depth, res))\n",
        "\n",
        "for min_leaf, depth, score in auc:\n",
        "  print(f\"min samples leaf: {min_leaf}, max_depth: {depth} ---> AUC: {score:.3f}\")"
      ]
    },
    {
      "cell_type": "code",
      "execution_count": 33,
      "metadata": {
        "colab": {
          "base_uri": "https://localhost:8080/"
        },
        "id": "1gNBeg7DgIG-",
        "outputId": "f30a2c6c-853c-404a-d658-8c1848d01487"
      },
      "outputs": [
        {
          "output_type": "execute_result",
          "data": {
            "text/plain": [
              "[(15, 30, 0.7908624155384951),\n",
              " (15, 15, 0.7907443510692402),\n",
              " (15, 25, 0.79065655954082),\n",
              " (15, None, 0.7890218207357536),\n",
              " (20, 25, 0.7822649003414788),\n",
              " (15, 8, 0.7815595408200333),\n",
              " (20, 30, 0.7812447022353539),\n",
              " (20, None, 0.7808693177690054),\n",
              " (20, 15, 0.7801276307185585),\n",
              " (100, 8, 0.779812792133879),\n",
              " (100, 15, 0.779812792133879),\n",
              " (100, None, 0.779812792133879),\n",
              " (100, 25, 0.7795615267249522),\n",
              " (100, 30, 0.7795615267249522),\n",
              " (20, 8, 0.7787199389697513),\n",
              " (50, 8, 0.77770276815771),\n",
              " (50, 25, 0.7748268387784263),\n",
              " (50, 30, 0.7748268387784263),\n",
              " (20, 5, 0.7740276331403937),\n",
              " (50, 15, 0.7733828195006176),\n",
              " (50, None, 0.7733828195006176),\n",
              " (15, 5, 0.7724050035116611),\n",
              " (200, 8, 0.7684786030854182),\n",
              " (200, 15, 0.7684786030854182),\n",
              " (200, 25, 0.7684786030854182),\n",
              " (200, 30, 0.7684786030854182),\n",
              " (200, None, 0.7684786030854182),\n",
              " (5, 5, 0.7677702162698894),\n",
              " (10, 5, 0.7677005885059698),\n",
              " (10, 25, 0.7665259984015886),\n",
              " (1, 5, 0.7665108619311716),\n",
              " (50, 5, 0.7665108619311714),\n",
              " (10, 30, 0.7653332445327068),\n",
              " (10, 15, 0.7648125499503524),\n",
              " (10, 8, 0.7647247584219321),\n",
              " (10, None, 0.7637439151388923),\n",
              " (100, 5, 0.7634714586713811),\n",
              " (200, 5, 0.7590728003681189),\n",
              " (5, 8, 0.7428919134920443),\n",
              " (1, 8, 0.729644474582839),\n",
              " (5, None, 0.7218976290232738),\n",
              " (5, 25, 0.7173930154270907),\n",
              " (5, 15, 0.7172870601341697),\n",
              " (5, 30, 0.7108389237364076),\n",
              " (1, 15, 0.6598078273715823),\n",
              " (1, 25, 0.6585938824441161),\n",
              " (1, 30, 0.6562537841176043),\n",
              " (1, None, 0.6519641084013466)]"
            ]
          },
          "metadata": {},
          "execution_count": 33
        }
      ],
      "source": [
        "sorted(auc, key=lambda x: x[-1], reverse=True)"
      ]
    },
    {
      "cell_type": "markdown",
      "metadata": {
        "id": "O8n8kGP9hPHO"
      },
      "source": [
        "The best AUC is 79.15% with parameters min_sample_leaf=15 and\n",
        "max_depth=15"
      ]
    },
    {
      "cell_type": "code",
      "execution_count": 34,
      "metadata": {
        "colab": {
          "base_uri": "https://localhost:8080/"
        },
        "id": "HS6J-Kqog6AR",
        "outputId": "76f4745c-74b5-43e4-faaa-059597aecb55"
      },
      "outputs": [
        {
          "output_type": "stream",
          "name": "stdout",
          "text": [
            "AUC:0.7901752197815504\n",
            "Recall:0.4828897338403042\n"
          ]
        }
      ],
      "source": [
        "dt.set_params(\n",
        "        decisiontreeclassifier__min_samples_leaf=15, \n",
        "        decisiontreeclassifier__max_depth=15\n",
        "    )\n",
        "dt.fit(X_train, y_train)\n",
        "\n",
        "preds = dt.predict_proba(X_dev)[:, 1]\n",
        "pred_r = dt.predict(X_dev)\n",
        "\n",
        "print(f\"AUC:{metrics.roc_auc_score(y_dev, preds)}\")\n",
        "print(f\"Recall:{metrics.recall_score(y_dev, pred_r)}\")"
      ]
    },
    {
      "cell_type": "code",
      "execution_count": 35,
      "metadata": {
        "id": "bHQzNTBDiTrV",
        "colab": {
          "base_uri": "https://localhost:8080/"
        },
        "outputId": "a9582110-d290-4372-b62d-9213ef9adfbb"
      },
      "outputs": [
        {
          "output_type": "stream",
          "name": "stdout",
          "text": [
            "\u001b[K     |████████████████████████████████| 348 kB 12.6 MB/s \n",
            "\u001b[K     |████████████████████████████████| 81 kB 9.1 MB/s \n",
            "\u001b[K     |████████████████████████████████| 209 kB 35.9 MB/s \n",
            "\u001b[K     |████████████████████████████████| 78 kB 6.8 MB/s \n",
            "\u001b[K     |████████████████████████████████| 112 kB 44.2 MB/s \n",
            "\u001b[K     |████████████████████████████████| 147 kB 42.9 MB/s \n",
            "\u001b[K     |████████████████████████████████| 49 kB 6.0 MB/s \n",
            "\u001b[?25h  Building wheel for pyperclip (setup.py) ... \u001b[?25l\u001b[?25hdone\n"
          ]
        }
      ],
      "source": [
        "!pip install optuna --quiet"
      ]
    },
    {
      "cell_type": "code",
      "execution_count": 36,
      "metadata": {
        "id": "EOmt-SRltx-3"
      },
      "outputs": [],
      "source": [
        "X_train_cp = X_train.copy()\n",
        "X_test_cp = X_test.copy()\n",
        "X_full = data.copy()\n",
        "\n",
        "\n",
        "X_full.loc[:, numerical] = num_imputer.fit_transform(X_full[numerical])\n",
        "X_full.loc[:, categorical] = cat_imputer.fit_transform(X_full[categorical])\n",
        "X_full.loc[:, categorical] = cat_encoder.fit_transform(X_full[categorical])\n",
        "\n",
        "X_train_cp.loc[:, numerical] = num_imputer.fit_transform(X_train_cp[numerical])\n",
        "X_train_cp.loc[:, categorical] = cat_imputer.fit_transform(X_train_cp[categorical])\n",
        "X_train_cp.loc[:, categorical] = cat_encoder.fit_transform(X_train_cp[categorical])\n",
        "\n",
        "X_test_cp.loc[:, numerical] = num_imputer.transform(X_test_cp[numerical])\n",
        "X_test_cp.loc[:, categorical] = cat_imputer.transform(X_test_cp[categorical])\n",
        "X_test_cp.loc[:, categorical] = cat_encoder.transform(X_test_cp[categorical])"
      ]
    },
    {
      "cell_type": "code",
      "execution_count": 37,
      "metadata": {
        "colab": {
          "base_uri": "https://localhost:8080/"
        },
        "id": "sbyfCltejGft",
        "outputId": "a88aeba3-e17b-496d-e8d9-d76a89079b6d"
      },
      "outputs": [
        {
          "output_type": "stream",
          "name": "stderr",
          "text": [
            "\u001b[32m[I 2022-10-12 01:56:33,941]\u001b[0m A new study created in memory with name: no-name-6535d65c-0402-4e50-93f2-7546b2564607\u001b[0m\n",
            "\u001b[32m[I 2022-10-12 01:56:33,956]\u001b[0m Trial 0 finished with value: -0.7278520804755373 and parameters: {'min_samples_leaf': 107, 'max_depth': 20, 'max_features': 'log2'}. Best is trial 0 with value: -0.7278520804755373.\u001b[0m\n",
            "\u001b[32m[I 2022-10-12 01:56:34,001]\u001b[0m Trial 1 finished with value: -0.814074963166184 and parameters: {'min_samples_leaf': 107, 'max_depth': 14, 'max_features': None}. Best is trial 1 with value: -0.814074963166184.\u001b[0m\n",
            "\u001b[32m[I 2022-10-12 01:56:34,025]\u001b[0m Trial 2 finished with value: -0.8056381141086216 and parameters: {'min_samples_leaf': 71, 'max_depth': 29, 'max_features': None}. Best is trial 1 with value: -0.814074963166184.\u001b[0m\n",
            "\u001b[32m[I 2022-10-12 01:56:34,038]\u001b[0m Trial 3 finished with value: -0.7656543717929177 and parameters: {'min_samples_leaf': 36, 'max_depth': 15, 'max_features': 'sqrt'}. Best is trial 1 with value: -0.814074963166184.\u001b[0m\n",
            "\u001b[32m[I 2022-10-12 01:56:34,050]\u001b[0m Trial 4 finished with value: -0.7580431082660164 and parameters: {'min_samples_leaf': 43, 'max_depth': 22, 'max_features': 'sqrt'}. Best is trial 1 with value: -0.814074963166184.\u001b[0m\n",
            "\u001b[32m[I 2022-10-12 01:56:34,072]\u001b[0m Trial 5 finished with value: -0.801046588426561 and parameters: {'min_samples_leaf': 63, 'max_depth': 14, 'max_features': None}. Best is trial 1 with value: -0.814074963166184.\u001b[0m\n",
            "\u001b[32m[I 2022-10-12 01:56:34,087]\u001b[0m Trial 6 finished with value: -0.750590611187319 and parameters: {'min_samples_leaf': 122, 'max_depth': 21, 'max_features': 'log2'}. Best is trial 1 with value: -0.814074963166184.\u001b[0m\n",
            "\u001b[32m[I 2022-10-12 01:56:34,099]\u001b[0m Trial 7 finished with value: -0.801716582837982 and parameters: {'min_samples_leaf': 57, 'max_depth': 19, 'max_features': 'sqrt'}. Best is trial 1 with value: -0.814074963166184.\u001b[0m\n",
            "\u001b[32m[I 2022-10-12 01:56:34,121]\u001b[0m Trial 8 finished with value: -0.8100867499872986 and parameters: {'min_samples_leaf': 81, 'max_depth': 13, 'max_features': None}. Best is trial 1 with value: -0.814074963166184.\u001b[0m\n",
            "\u001b[32m[I 2022-10-12 01:56:34,147]\u001b[0m Trial 9 finished with value: -0.7872053294721333 and parameters: {'min_samples_leaf': 102, 'max_depth': 22, 'max_features': 'log2'}. Best is trial 1 with value: -0.814074963166184.\u001b[0m\n",
            "\u001b[32m[I 2022-10-12 01:56:34,187]\u001b[0m Trial 10 finished with value: -0.7786827465325409 and parameters: {'min_samples_leaf': 178, 'max_depth': 8, 'max_features': None}. Best is trial 1 with value: -0.814074963166184.\u001b[0m\n",
            "\u001b[32m[I 2022-10-12 01:56:34,229]\u001b[0m Trial 11 finished with value: -0.8104360361733477 and parameters: {'min_samples_leaf': 151, 'max_depth': 9, 'max_features': None}. Best is trial 1 with value: -0.814074963166184.\u001b[0m\n",
            "\u001b[32m[I 2022-10-12 01:56:34,267]\u001b[0m Trial 12 finished with value: -0.806635167403343 and parameters: {'min_samples_leaf': 153, 'max_depth': 5, 'max_features': None}. Best is trial 1 with value: -0.814074963166184.\u001b[0m\n",
            "\u001b[32m[I 2022-10-12 01:56:34,319]\u001b[0m Trial 13 finished with value: -0.8031200782401057 and parameters: {'min_samples_leaf': 140, 'max_depth': 10, 'max_features': None}. Best is trial 1 with value: -0.814074963166184.\u001b[0m\n",
            "\u001b[32m[I 2022-10-12 01:56:34,380]\u001b[0m Trial 14 finished with value: -0.696314713204288 and parameters: {'min_samples_leaf': 1, 'max_depth': 10, 'max_features': None}. Best is trial 1 with value: -0.814074963166184.\u001b[0m\n",
            "\u001b[32m[I 2022-10-12 01:56:34,411]\u001b[0m Trial 15 finished with value: -0.7865861403241377 and parameters: {'min_samples_leaf': 199, 'max_depth': 6, 'max_features': None}. Best is trial 1 with value: -0.814074963166184.\u001b[0m\n",
            "\u001b[32m[I 2022-10-12 01:56:34,443]\u001b[0m Trial 16 finished with value: -0.8098295483412082 and parameters: {'min_samples_leaf': 160, 'max_depth': 16, 'max_features': None}. Best is trial 1 with value: -0.814074963166184.\u001b[0m\n",
            "\u001b[32m[I 2022-10-12 01:56:34,513]\u001b[0m Trial 17 finished with value: -0.8204637250419143 and parameters: {'min_samples_leaf': 128, 'max_depth': 11, 'max_features': None}. Best is trial 17 with value: -0.8204637250419143.\u001b[0m\n",
            "\u001b[32m[I 2022-10-12 01:56:34,559]\u001b[0m Trial 18 finished with value: -0.8122872529594065 and parameters: {'min_samples_leaf': 125, 'max_depth': 27, 'max_features': 'log2'}. Best is trial 17 with value: -0.8204637250419143.\u001b[0m\n",
            "\u001b[32m[I 2022-10-12 01:56:34,615]\u001b[0m Trial 19 finished with value: -0.7781905705431083 and parameters: {'min_samples_leaf': 91, 'max_depth': 13, 'max_features': 'sqrt'}. Best is trial 17 with value: -0.8204637250419143.\u001b[0m\n",
            "\u001b[32m[I 2022-10-12 01:56:34,661]\u001b[0m Trial 20 finished with value: -0.814389320733628 and parameters: {'min_samples_leaf': 122, 'max_depth': 17, 'max_features': None}. Best is trial 17 with value: -0.8204637250419143.\u001b[0m\n",
            "\u001b[32m[I 2022-10-12 01:56:34,694]\u001b[0m Trial 21 finished with value: -0.814389320733628 and parameters: {'min_samples_leaf': 122, 'max_depth': 17, 'max_features': None}. Best is trial 17 with value: -0.8204637250419143.\u001b[0m\n",
            "\u001b[32m[I 2022-10-12 01:56:34,727]\u001b[0m Trial 22 finished with value: -0.8151895036325764 and parameters: {'min_samples_leaf': 126, 'max_depth': 24, 'max_features': None}. Best is trial 17 with value: -0.8204637250419143.\u001b[0m\n",
            "\u001b[32m[I 2022-10-12 01:56:34,765]\u001b[0m Trial 23 finished with value: -0.7914158156785043 and parameters: {'min_samples_leaf': 174, 'max_depth': 24, 'max_features': None}. Best is trial 17 with value: -0.8204637250419143.\u001b[0m\n",
            "\u001b[32m[I 2022-10-12 01:56:34,798]\u001b[0m Trial 24 finished with value: -0.8029962404105065 and parameters: {'min_samples_leaf': 141, 'max_depth': 25, 'max_features': None}. Best is trial 17 with value: -0.8204637250419143.\u001b[0m\n",
            "\u001b[32m[I 2022-10-12 01:56:34,840]\u001b[0m Trial 25 finished with value: -0.8151895036325764 and parameters: {'min_samples_leaf': 126, 'max_depth': 18, 'max_features': None}. Best is trial 17 with value: -0.8204637250419143.\u001b[0m\n",
            "\u001b[32m[I 2022-10-12 01:56:34,883]\u001b[0m Trial 26 finished with value: -0.8034217344916933 and parameters: {'min_samples_leaf': 135, 'max_depth': 24, 'max_features': None}. Best is trial 17 with value: -0.8204637250419143.\u001b[0m\n",
            "\u001b[32m[I 2022-10-12 01:56:34,927]\u001b[0m Trial 27 finished with value: -0.7927335771985978 and parameters: {'min_samples_leaf': 167, 'max_depth': 19, 'max_features': None}. Best is trial 17 with value: -0.8204637250419143.\u001b[0m\n",
            "\u001b[32m[I 2022-10-12 01:56:34,951]\u001b[0m Trial 28 finished with value: -0.7641587918508357 and parameters: {'min_samples_leaf': 187, 'max_depth': 29, 'max_features': 'log2'}. Best is trial 17 with value: -0.8204637250419143.\u001b[0m\n",
            "\u001b[32m[I 2022-10-12 01:56:34,983]\u001b[0m Trial 29 finished with value: -0.7686709343087944 and parameters: {'min_samples_leaf': 106, 'max_depth': 12, 'max_features': 'sqrt'}. Best is trial 17 with value: -0.8204637250419143.\u001b[0m\n",
            "\u001b[32m[I 2022-10-12 01:56:35,016]\u001b[0m Trial 30 finished with value: -0.779441650154956 and parameters: {'min_samples_leaf': 88, 'max_depth': 19, 'max_features': 'log2'}. Best is trial 17 with value: -0.8204637250419143.\u001b[0m\n",
            "\u001b[32m[I 2022-10-12 01:56:35,055]\u001b[0m Trial 31 finished with value: -0.814706853630036 and parameters: {'min_samples_leaf': 116, 'max_depth': 17, 'max_features': None}. Best is trial 17 with value: -0.8204637250419143.\u001b[0m\n",
            "\u001b[32m[I 2022-10-12 01:56:35,098]\u001b[0m Trial 32 finished with value: -0.814074963166184 and parameters: {'min_samples_leaf': 110, 'max_depth': 27, 'max_features': None}. Best is trial 17 with value: -0.8204637250419143.\u001b[0m\n",
            "\u001b[32m[I 2022-10-12 01:56:35,134]\u001b[0m Trial 33 finished with value: -0.8114299141391049 and parameters: {'min_samples_leaf': 132, 'max_depth': 11, 'max_features': None}. Best is trial 17 with value: -0.8204637250419143.\u001b[0m\n",
            "\u001b[32m[I 2022-10-12 01:56:35,176]\u001b[0m Trial 34 finished with value: -0.8151609256718996 and parameters: {'min_samples_leaf': 115, 'max_depth': 16, 'max_features': None}. Best is trial 17 with value: -0.8204637250419143.\u001b[0m\n",
            "\u001b[32m[I 2022-10-12 01:56:35,225]\u001b[0m Trial 35 finished with value: -0.8108964588731392 and parameters: {'min_samples_leaf': 96, 'max_depth': 15, 'max_features': None}. Best is trial 17 with value: -0.8204637250419143.\u001b[0m\n",
            "\u001b[32m[I 2022-10-12 01:56:35,277]\u001b[0m Trial 36 finished with value: -0.8112235177564396 and parameters: {'min_samples_leaf': 151, 'max_depth': 7, 'max_features': None}. Best is trial 17 with value: -0.8204637250419143.\u001b[0m\n",
            "\u001b[32m[I 2022-10-12 01:56:35,346]\u001b[0m Trial 37 finished with value: -0.750003175328964 and parameters: {'min_samples_leaf': 143, 'max_depth': 21, 'max_features': 'sqrt'}. Best is trial 17 with value: -0.8204637250419143.\u001b[0m\n",
            "\u001b[32m[I 2022-10-12 01:56:35,413]\u001b[0m Trial 38 finished with value: -0.8093437230097038 and parameters: {'min_samples_leaf': 81, 'max_depth': 15, 'max_features': None}. Best is trial 17 with value: -0.8204637250419143.\u001b[0m\n",
            "\u001b[32m[I 2022-10-12 01:56:35,443]\u001b[0m Trial 39 finished with value: -0.814074963166184 and parameters: {'min_samples_leaf': 110, 'max_depth': 30, 'max_features': None}. Best is trial 17 with value: -0.8204637250419143.\u001b[0m\n",
            "\u001b[32m[I 2022-10-12 01:56:35,462]\u001b[0m Trial 40 finished with value: -0.7742023573642229 and parameters: {'min_samples_leaf': 69, 'max_depth': 20, 'max_features': 'sqrt'}. Best is trial 17 with value: -0.8204637250419143.\u001b[0m\n",
            "\u001b[32m[I 2022-10-12 01:56:35,488]\u001b[0m Trial 41 finished with value: -0.813366864807194 and parameters: {'min_samples_leaf': 119, 'max_depth': 18, 'max_features': None}. Best is trial 17 with value: -0.8204637250419143.\u001b[0m\n",
            "\u001b[32m[I 2022-10-12 01:56:35,515]\u001b[0m Trial 42 finished with value: -0.814706853630036 and parameters: {'min_samples_leaf': 116, 'max_depth': 14, 'max_features': None}. Best is trial 17 with value: -0.8204637250419143.\u001b[0m\n",
            "\u001b[32m[I 2022-10-12 01:56:35,541]\u001b[0m Trial 43 finished with value: -0.8204637250419143 and parameters: {'min_samples_leaf': 128, 'max_depth': 13, 'max_features': None}. Best is trial 17 with value: -0.8204637250419143.\u001b[0m\n",
            "\u001b[32m[I 2022-10-12 01:56:35,584]\u001b[0m Trial 44 finished with value: -0.8204637250419143 and parameters: {'min_samples_leaf': 128, 'max_depth': 12, 'max_features': None}. Best is trial 17 with value: -0.8204637250419143.\u001b[0m\n",
            "\u001b[32m[I 2022-10-12 01:56:35,645]\u001b[0m Trial 45 finished with value: -0.811242569730224 and parameters: {'min_samples_leaf': 133, 'max_depth': 12, 'max_features': None}. Best is trial 17 with value: -0.8204637250419143.\u001b[0m\n",
            "\u001b[32m[I 2022-10-12 01:56:35,672]\u001b[0m Trial 46 finished with value: -0.7935147081237617 and parameters: {'min_samples_leaf': 100, 'max_depth': 8, 'max_features': 'log2'}. Best is trial 17 with value: -0.8204637250419143.\u001b[0m\n",
            "\u001b[32m[I 2022-10-12 01:56:35,712]\u001b[0m Trial 47 finished with value: -0.8149577046181985 and parameters: {'min_samples_leaf': 129, 'max_depth': 10, 'max_features': None}. Best is trial 17 with value: -0.8204637250419143.\u001b[0m\n",
            "\u001b[32m[I 2022-10-12 01:56:35,753]\u001b[0m Trial 48 finished with value: -0.8124587207234669 and parameters: {'min_samples_leaf': 146, 'max_depth': 12, 'max_features': None}. Best is trial 17 with value: -0.8204637250419143.\u001b[0m\n",
            "\u001b[32m[I 2022-10-12 01:56:35,789]\u001b[0m Trial 49 finished with value: -0.795458009449779 and parameters: {'min_samples_leaf': 165, 'max_depth': 13, 'max_features': None}. Best is trial 17 with value: -0.8204637250419143.\u001b[0m\n"
          ]
        }
      ],
      "source": [
        "import optuna\n",
        "from functools import partial\n",
        "\n",
        "\n",
        "def optimize(trial, x, y):\n",
        "  min_samples_leaf = trial.suggest_int(\"min_samples_leaf\", 1, 200)\n",
        "  max_depth = trial.suggest_int(\"max_depth\", 5, 30)\n",
        "  # min_samples_split = trial.suggest_int(\"min_samples_split\", 2, 100)\n",
        "  max_features = trial.suggest_categorical(\"max_features\", [\"log2\", \"sqrt\", None])\n",
        "\n",
        "  model = DecisionTreeClassifier(\n",
        "      min_samples_leaf=min_samples_leaf, \n",
        "      max_depth=max_depth,\n",
        "      # min_samples_split=min_samples_split,\n",
        "      max_features=max_features,\n",
        "  )\n",
        "\n",
        "  kf = model_selection.KFold(n_splits=5)\n",
        "  auc = []\n",
        "\n",
        "  for idx in kf.split(X=x, y=y):\n",
        "    train_idx, dev_idx = idx[0], idx[1]\n",
        "    xtrain = x[train_idx]\n",
        "    ytrain = y[train_idx]\n",
        "\n",
        "    xdev = x[dev_idx]\n",
        "    ydev = y[dev_idx]\n",
        "\n",
        "    model.fit(xtrain, ytrain)\n",
        "\n",
        "    preds = model.predict_proba(xdev)[:, 1]\n",
        "    fold_accuracy = metrics.roc_auc_score(ydev, preds)\n",
        "    auc.append(fold_accuracy)\n",
        "\n",
        "    return -1 * np.mean(auc)\n",
        "\n",
        "optimization_function = partial(optimize,x=X_full.values, y=target.values)\n",
        "study = optuna.create_study(direction=\"minimize\")\n",
        "study.optimize(optimization_function, n_trials=50)"
      ]
    },
    {
      "cell_type": "code",
      "execution_count": 38,
      "metadata": {
        "colab": {
          "base_uri": "https://localhost:8080/"
        },
        "id": "MMhMadH2mDki",
        "outputId": "88a423d6-6859-49a7-bf70-18303c696511"
      },
      "outputs": [
        {
          "output_type": "stream",
          "name": "stdout",
          "text": [
            "AUC: 0.773\n",
            "Recall: 0.471\n"
          ]
        }
      ],
      "source": [
        "#81.923, 82.278 83.18\n",
        "\n",
        "dt = make_pipeline(processor, DecisionTreeClassifier(\n",
        "    min_samples_leaf=52, \n",
        "    max_depth=17,  \n",
        "    max_features=None\n",
        "))\n",
        "\n",
        "dt.fit(X_train, y_train)\n",
        "y_pred = dt.predict_proba(X_test)[:,1]\n",
        "pred_r = dt.predict(X_test)\n",
        "\n",
        "print(f\"AUC: {metrics.roc_auc_score(y_test, y_pred):.3f}\")\n",
        "print(f\"Recall: {metrics.recall_score(y_test, pred_r):.3f}\")"
      ]
    },
    {
      "cell_type": "markdown",
      "source": [
        "# Random Forest"
      ],
      "metadata": {
        "id": "O3oUl0EA5zfS"
      }
    },
    {
      "cell_type": "code",
      "source": [
        "from sklearn.ensemble import RandomForestClassifier\n",
        "\n",
        "rf = RandomForestClassifier(n_estimators=10, n_jobs=-1, random_state=3)\n",
        "rf.fit(X_train_cp, y_train)\n",
        "y_pred = rf.predict_proba(X_test_cp)[:, 1]\n",
        "\n",
        "metrics.roc_auc_score(y_test, y_pred)"
      ],
      "metadata": {
        "id": "5Zotf_W9L_gx",
        "colab": {
          "base_uri": "https://localhost:8080/"
        },
        "outputId": "b233dab9-5d88-4521-da4f-4a87878bd004"
      },
      "execution_count": 40,
      "outputs": [
        {
          "output_type": "execute_result",
          "data": {
            "text/plain": [
              "0.8041823469038659"
            ]
          },
          "metadata": {},
          "execution_count": 40
        }
      ]
    },
    {
      "cell_type": "markdown",
      "source": [
        "The number of trees in the ensemble is an important parameter and it influences the\n",
        "performance of the model. Usually, a model with more trees is better than a model with fewer\n",
        "trees. On the other hand, adding too many trees is not always helpful."
      ],
      "metadata": {
        "id": "CXn2hxSW7Uh4"
      }
    },
    {
      "cell_type": "code",
      "source": [
        "auc = []\n",
        "for i in [120, 300, 500, 800, 1200]:\n",
        "  rf = RandomForestClassifier(n_estimators=i, n_jobs=-1, random_state=3)\n",
        "  rf.fit(X_train_cp, y_train)\n",
        "  y_pred = rf.predict_proba(X_test_cp)[:, 1]\n",
        "  score = metrics.roc_auc_score(y_test, y_pred)\n",
        "  auc.append(score)\n",
        "  print(f\"n_estimator:{i} >> score:{score:.3f}\")\n",
        "\n",
        "plt.figure(figsize=(8, 5), dpi=105)\n",
        "plt.plot([120, 300, 500, 800, 1200], auc)\n",
        "plt.show();"
      ],
      "metadata": {
        "colab": {
          "base_uri": "https://localhost:8080/",
          "height": 546
        },
        "id": "2yfCsKyM6_WF",
        "outputId": "91b8ed16-74c9-4010-9316-9c1fa5e417bd"
      },
      "execution_count": 41,
      "outputs": [
        {
          "output_type": "stream",
          "name": "stdout",
          "text": [
            "n_estimator:120 >> score:0.826\n",
            "n_estimator:300 >> score:0.824\n",
            "n_estimator:500 >> score:0.824\n",
            "n_estimator:800 >> score:0.826\n",
            "n_estimator:1200 >> score:0.826\n"
          ]
        },
        {
          "output_type": "display_data",
          "data": {
            "text/plain": [
              "<Figure size 840x525 with 1 Axes>"
            ],
            "image/png": "[encoded data removed]"
          },
          "metadata": {}
        }
      ]
    },
    {
      "cell_type": "code",
      "source": [
        "auc = []\n",
        "for i in range(10, 200, 10):\n",
        "  rf = RandomForestClassifier(n_estimators=i, n_jobs=-1, random_state=3)\n",
        "  rf.fit(X_train_cp, y_train)\n",
        "  y_pred = rf.predict_proba(X_test_cp)[:, 1]\n",
        "  score = metrics.roc_auc_score(y_test, y_pred)\n",
        "  auc.append(score)\n",
        "  # print(f\"n_estimator:{i} >> score:{score}\")\n",
        "\n",
        "plt.figure(figsize=(8, 5), dpi=105)\n",
        "plt.plot(range(10, 200, 10), auc)\n",
        "plt.show();"
      ],
      "metadata": {
        "colab": {
          "base_uri": "https://localhost:8080/",
          "height": 459
        },
        "id": "md0zKKlu8tSB",
        "outputId": "7ed75a7b-582d-4d8d-abcb-459783944da6"
      },
      "execution_count": 47,
      "outputs": [
        {
          "output_type": "display_data",
          "data": {
            "text/plain": [
              "<Figure size 840x525 with 1 Axes>"
            ],
            "image/png": "[encoded data removed]"
          },
          "metadata": {}
        }
      ]
    },
    {
      "cell_type": "markdown",
      "source": [
        "## Parameter tuning for random forest"
      ],
      "metadata": {
        "id": "70605f9q_zR9"
      }
    },
    {
      "cell_type": "code",
      "source": [
        "def optimize(trial, x, y):\n",
        "  min_samples_leaf = trial.suggest_int(\"min_samples_leaf\", 1, 200)\n",
        "  max_depth = trial.suggest_int(\"max_depth\", 5, 30)\n",
        "  n_estimators = trial.suggest_int(\"n_estimators\", 10, 200)\n",
        "  criterion = trial.suggest_categorical(\"criterion\", [\"gini\", \"entropy\"])\n",
        "\n",
        "  model = RandomForestClassifier(\n",
        "      min_samples_leaf=min_samples_leaf, \n",
        "      max_depth=max_depth,\n",
        "      n_estimators=n_estimators,\n",
        "      criterion=criterion,\n",
        "  )\n",
        "\n",
        "  kf = model_selection.KFold(n_splits=5)\n",
        "  auc = []\n",
        "\n",
        "  for idx in kf.split(X=x, y=y):\n",
        "    train_idx, dev_idx = idx[0], idx[1]\n",
        "    xtrain = x[train_idx]\n",
        "    ytrain = y[train_idx]\n",
        "\n",
        "    xdev = x[dev_idx]\n",
        "    ydev = y[dev_idx]\n",
        "\n",
        "    model.fit(xtrain, ytrain)\n",
        "\n",
        "    preds = model.predict_proba(xdev)[:, 1]\n",
        "    fold_accuracy = metrics.roc_auc_score(ydev, preds)\n",
        "    auc.append(fold_accuracy)\n",
        "\n",
        "    return -1 * np.mean(auc)\n",
        "\n",
        "optimization_function = partial(optimize,x=X_full.values, y=target.values)\n",
        "study = optuna.create_study(direction=\"minimize\")\n",
        "study.optimize(optimization_function, n_trials=50)"
      ],
      "metadata": {
        "colab": {
          "base_uri": "https://localhost:8080/"
        },
        "id": "4fG1U8PM9YIl",
        "outputId": "318ab739-8470-4d2d-b625-6a70d80919d3"
      },
      "execution_count": 49,
      "outputs": [
        {
          "output_type": "stream",
          "name": "stderr",
          "text": [
            "\u001b[32m[I 2022-10-12 02:30:04,418]\u001b[0m A new study created in memory with name: no-name-f0d2faa5-254f-4352-98e7-0d595a07ba97\u001b[0m\n",
            "\u001b[32m[I 2022-10-12 02:30:04,875]\u001b[0m Trial 0 finished with value: -0.8521344561296549 and parameters: {'min_samples_leaf': 38, 'max_depth': 26, 'n_estimators': 127, 'criterion': 'gini'}. Best is trial 0 with value: -0.8521344561296549.\u001b[0m\n",
            "\u001b[32m[I 2022-10-12 02:30:05,309]\u001b[0m Trial 1 finished with value: -0.8400555047502921 and parameters: {'min_samples_leaf': 186, 'max_depth': 23, 'n_estimators': 152, 'criterion': 'entropy'}. Best is trial 0 with value: -0.8521344561296549.\u001b[0m\n",
            "\u001b[32m[I 2022-10-12 02:30:05,372]\u001b[0m Trial 2 finished with value: -0.8319361885891379 and parameters: {'min_samples_leaf': 105, 'max_depth': 25, 'n_estimators': 18, 'criterion': 'gini'}. Best is trial 0 with value: -0.8521344561296549.\u001b[0m\n",
            "\u001b[32m[I 2022-10-12 02:30:05,941]\u001b[0m Trial 3 finished with value: -0.8438722501651171 and parameters: {'min_samples_leaf': 116, 'max_depth': 28, 'n_estimators': 184, 'criterion': 'gini'}. Best is trial 0 with value: -0.8521344561296549.\u001b[0m\n",
            "\u001b[32m[I 2022-10-12 02:30:06,178]\u001b[0m Trial 4 finished with value: -0.8418082863384647 and parameters: {'min_samples_leaf': 120, 'max_depth': 27, 'n_estimators': 72, 'criterion': 'entropy'}. Best is trial 0 with value: -0.8521344561296549.\u001b[0m\n",
            "\u001b[32m[I 2022-10-12 02:30:06,635]\u001b[0m Trial 5 finished with value: -0.8535824061372758 and parameters: {'min_samples_leaf': 33, 'max_depth': 28, 'n_estimators': 114, 'criterion': 'entropy'}. Best is trial 5 with value: -0.8535824061372758.\u001b[0m\n",
            "\u001b[32m[I 2022-10-12 02:30:06,985]\u001b[0m Trial 6 finished with value: -0.8437769902961947 and parameters: {'min_samples_leaf': 163, 'max_depth': 21, 'n_estimators': 115, 'criterion': 'entropy'}. Best is trial 5 with value: -0.8535824061372758.\u001b[0m\n",
            "\u001b[32m[I 2022-10-12 02:30:07,615]\u001b[0m Trial 7 finished with value: -0.8472190468932581 and parameters: {'min_samples_leaf': 67, 'max_depth': 19, 'n_estimators': 193, 'criterion': 'gini'}. Best is trial 5 with value: -0.8535824061372758.\u001b[0m\n",
            "\u001b[32m[I 2022-10-12 02:30:08,013]\u001b[0m Trial 8 finished with value: -0.8390775034293554 and parameters: {'min_samples_leaf': 142, 'max_depth': 16, 'n_estimators': 137, 'criterion': 'gini'}. Best is trial 5 with value: -0.8535824061372758.\u001b[0m\n",
            "\u001b[32m[I 2022-10-12 02:30:08,557]\u001b[0m Trial 9 finished with value: -0.8439992633236804 and parameters: {'min_samples_leaf': 120, 'max_depth': 12, 'n_estimators': 176, 'criterion': 'entropy'}. Best is trial 5 with value: -0.8535824061372758.\u001b[0m\n",
            "\u001b[32m[I 2022-10-12 02:30:08,919]\u001b[0m Trial 10 finished with value: -0.8556146166742875 and parameters: {'min_samples_leaf': 13, 'max_depth': 7, 'n_estimators': 81, 'criterion': 'entropy'}. Best is trial 10 with value: -0.8556146166742875.\u001b[0m\n",
            "\u001b[32m[I 2022-10-12 02:30:09,215]\u001b[0m Trial 11 finished with value: -0.8499561804602958 and parameters: {'min_samples_leaf': 7, 'max_depth': 5, 'n_estimators': 78, 'criterion': 'entropy'}. Best is trial 10 with value: -0.8556146166742875.\u001b[0m\n",
            "\u001b[32m[I 2022-10-12 02:30:09,558]\u001b[0m Trial 12 finished with value: -0.8501975054615658 and parameters: {'min_samples_leaf': 7, 'max_depth': 6, 'n_estimators': 80, 'criterion': 'entropy'}. Best is trial 10 with value: -0.8556146166742875.\u001b[0m\n",
            "\u001b[32m[I 2022-10-12 02:30:09,696]\u001b[0m Trial 13 finished with value: -0.8422845856830768 and parameters: {'min_samples_leaf': 60, 'max_depth': 13, 'n_estimators': 35, 'criterion': 'entropy'}. Best is trial 10 with value: -0.8556146166742875.\u001b[0m\n",
            "\u001b[32m[I 2022-10-12 02:30:10,114]\u001b[0m Trial 14 finished with value: -0.8513914291520602 and parameters: {'min_samples_leaf': 44, 'max_depth': 9, 'n_estimators': 100, 'criterion': 'entropy'}. Best is trial 10 with value: -0.8556146166742875.\u001b[0m\n",
            "\u001b[32m[I 2022-10-12 02:30:10,278]\u001b[0m Trial 15 finished with value: -0.8498799725651577 and parameters: {'min_samples_leaf': 80, 'max_depth': 15, 'n_estimators': 42, 'criterion': 'entropy'}. Best is trial 10 with value: -0.8556146166742875.\u001b[0m\n",
            "\u001b[32m[I 2022-10-12 02:30:10,532]\u001b[0m Trial 16 finished with value: -0.8572784890514656 and parameters: {'min_samples_leaf': 30, 'max_depth': 9, 'n_estimators': 58, 'criterion': 'entropy'}. Best is trial 16 with value: -0.8572784890514656.\u001b[0m\n",
            "\u001b[32m[I 2022-10-12 02:30:10,841]\u001b[0m Trial 17 finished with value: -0.8606189351216788 and parameters: {'min_samples_leaf': 2, 'max_depth': 9, 'n_estimators': 55, 'criterion': 'entropy'}. Best is trial 17 with value: -0.8606189351216788.\u001b[0m\n",
            "\u001b[32m[I 2022-10-12 02:30:11,075]\u001b[0m Trial 18 finished with value: -0.8573991515521009 and parameters: {'min_samples_leaf': 23, 'max_depth': 10, 'n_estimators': 53, 'criterion': 'entropy'}. Best is trial 17 with value: -0.8606189351216788.\u001b[0m\n",
            "\u001b[32m[I 2022-10-12 02:30:11,130]\u001b[0m Trial 19 finished with value: -0.8376835340141239 and parameters: {'min_samples_leaf': 86, 'max_depth': 11, 'n_estimators': 11, 'criterion': 'entropy'}. Best is trial 17 with value: -0.8606189351216788.\u001b[0m\n",
            "\u001b[32m[I 2022-10-12 02:30:11,408]\u001b[0m Trial 20 finished with value: -0.8496894528273129 and parameters: {'min_samples_leaf': 1, 'max_depth': 9, 'n_estimators': 51, 'criterion': 'entropy'}. Best is trial 17 with value: -0.8606189351216788.\u001b[0m\n",
            "\u001b[32m[I 2022-10-12 02:30:11,665]\u001b[0m Trial 21 finished with value: -0.8519820403393792 and parameters: {'min_samples_leaf': 27, 'max_depth': 9, 'n_estimators': 57, 'criterion': 'entropy'}. Best is trial 17 with value: -0.8606189351216788.\u001b[0m\n",
            "\u001b[32m[I 2022-10-12 02:30:11,913]\u001b[0m Trial 22 finished with value: -0.8460378245186201 and parameters: {'min_samples_leaf': 56, 'max_depth': 14, 'n_estimators': 62, 'criterion': 'entropy'}. Best is trial 17 with value: -0.8606189351216788.\u001b[0m\n",
            "\u001b[32m[I 2022-10-12 02:30:12,088]\u001b[0m Trial 23 finished with value: -0.8491051922979221 and parameters: {'min_samples_leaf': 23, 'max_depth': 11, 'n_estimators': 37, 'criterion': 'entropy'}. Best is trial 17 with value: -0.8606189351216788.\u001b[0m\n",
            "\u001b[32m[I 2022-10-12 02:30:12,468]\u001b[0m Trial 24 finished with value: -0.8540015495605344 and parameters: {'min_samples_leaf': 48, 'max_depth': 18, 'n_estimators': 94, 'criterion': 'entropy'}. Best is trial 17 with value: -0.8606189351216788.\u001b[0m\n",
            "\u001b[32m[I 2022-10-12 02:30:12,593]\u001b[0m Trial 25 finished with value: -0.8526806127114769 and parameters: {'min_samples_leaf': 23, 'max_depth': 7, 'n_estimators': 27, 'criterion': 'entropy'}. Best is trial 17 with value: -0.8606189351216788.\u001b[0m\n",
            "\u001b[32m[I 2022-10-12 02:30:12,812]\u001b[0m Trial 26 finished with value: -0.8447168876695625 and parameters: {'min_samples_leaf': 85, 'max_depth': 9, 'n_estimators': 62, 'criterion': 'gini'}. Best is trial 17 with value: -0.8606189351216788.\u001b[0m\n",
            "\u001b[32m[I 2022-10-12 02:30:13,036]\u001b[0m Trial 27 finished with value: -0.8547064725905604 and parameters: {'min_samples_leaf': 20, 'max_depth': 30, 'n_estimators': 47, 'criterion': 'entropy'}. Best is trial 17 with value: -0.8606189351216788.\u001b[0m\n",
            "\u001b[32m[I 2022-10-12 02:30:13,362]\u001b[0m Trial 28 finished with value: -0.8467617995224306 and parameters: {'min_samples_leaf': 74, 'max_depth': 11, 'n_estimators': 92, 'criterion': 'entropy'}. Best is trial 17 with value: -0.8606189351216788.\u001b[0m\n",
            "\u001b[32m[I 2022-10-12 02:30:13,477]\u001b[0m Trial 29 finished with value: -0.8472571508408271 and parameters: {'min_samples_leaf': 40, 'max_depth': 16, 'n_estimators': 26, 'criterion': 'gini'}. Best is trial 17 with value: -0.8606189351216788.\u001b[0m\n",
            "\u001b[32m[I 2022-10-12 02:30:13,736]\u001b[0m Trial 30 finished with value: -0.8469777218919881 and parameters: {'min_samples_leaf': 33, 'max_depth': 5, 'n_estimators': 69, 'criterion': 'entropy'}. Best is trial 17 with value: -0.8606189351216788.\u001b[0m\n",
            "\u001b[32m[I 2022-10-12 02:30:14,122]\u001b[0m Trial 31 finished with value: -0.8532267692932989 and parameters: {'min_samples_leaf': 13, 'max_depth': 7, 'n_estimators': 88, 'criterion': 'entropy'}. Best is trial 17 with value: -0.8606189351216788.\u001b[0m\n",
            "\u001b[32m[I 2022-10-12 02:30:14,382]\u001b[0m Trial 32 finished with value: -0.8513850784941319 and parameters: {'min_samples_leaf': 1, 'max_depth': 7, 'n_estimators': 53, 'criterion': 'entropy'}. Best is trial 17 with value: -0.8606189351216788.\u001b[0m\n",
            "\u001b[32m[I 2022-10-12 02:30:14,715]\u001b[0m Trial 33 finished with value: -0.8553986943047299 and parameters: {'min_samples_leaf': 19, 'max_depth': 8, 'n_estimators': 77, 'criterion': 'entropy'}. Best is trial 17 with value: -0.8606189351216788.\u001b[0m\n",
            "\u001b[32m[I 2022-10-12 02:30:15,029]\u001b[0m Trial 34 finished with value: -0.833438119189148 and parameters: {'min_samples_leaf': 190, 'max_depth': 10, 'n_estimators': 106, 'criterion': 'entropy'}. Best is trial 17 with value: -0.8606189351216788.\u001b[0m\n",
            "\u001b[32m[I 2022-10-12 02:30:15,275]\u001b[0m Trial 35 finished with value: -0.8501212975664278 and parameters: {'min_samples_leaf': 50, 'max_depth': 13, 'n_estimators': 66, 'criterion': 'gini'}. Best is trial 17 with value: -0.8606189351216788.\u001b[0m\n",
            "\u001b[32m[I 2022-10-12 02:30:15,379]\u001b[0m Trial 36 finished with value: -0.8462029416247523 and parameters: {'min_samples_leaf': 33, 'max_depth': 5, 'n_estimators': 25, 'criterion': 'entropy'}. Best is trial 17 with value: -0.8606189351216788.\u001b[0m\n",
            "\u001b[32m[I 2022-10-12 02:30:15,751]\u001b[0m Trial 37 finished with value: -0.8550938627241782 and parameters: {'min_samples_leaf': 13, 'max_depth': 7, 'n_estimators': 86, 'criterion': 'entropy'}. Best is trial 17 with value: -0.8606189351216788.\u001b[0m\n",
            "\u001b[32m[I 2022-10-12 02:30:16,124]\u001b[0m Trial 38 finished with value: -0.8400237514606513 and parameters: {'min_samples_leaf': 170, 'max_depth': 24, 'n_estimators': 123, 'criterion': 'entropy'}. Best is trial 17 with value: -0.8606189351216788.\u001b[0m\n",
            "\u001b[32m[I 2022-10-12 02:30:16,301]\u001b[0m Trial 39 finished with value: -0.8530489508713102 and parameters: {'min_samples_leaf': 39, 'max_depth': 21, 'n_estimators': 45, 'criterion': 'gini'}. Best is trial 17 with value: -0.8606189351216788.\u001b[0m\n",
            "\u001b[32m[I 2022-10-12 02:30:16,809]\u001b[0m Trial 40 finished with value: -0.8466538383376518 and parameters: {'min_samples_leaf': 101, 'max_depth': 13, 'n_estimators': 155, 'criterion': 'entropy'}. Best is trial 17 with value: -0.8606189351216788.\u001b[0m\n",
            "\u001b[32m[I 2022-10-12 02:30:17,143]\u001b[0m Trial 41 finished with value: -0.8550303561448966 and parameters: {'min_samples_leaf': 17, 'max_depth': 8, 'n_estimators': 74, 'criterion': 'entropy'}. Best is trial 17 with value: -0.8606189351216788.\u001b[0m\n",
            "\u001b[32m[I 2022-10-12 02:30:17,479]\u001b[0m Trial 42 finished with value: -0.8492449067723415 and parameters: {'min_samples_leaf': 28, 'max_depth': 8, 'n_estimators': 79, 'criterion': 'entropy'}. Best is trial 17 with value: -0.8606189351216788.\u001b[0m\n",
            "\u001b[32m[I 2022-10-12 02:30:17,756]\u001b[0m Trial 43 finished with value: -0.8521471574455114 and parameters: {'min_samples_leaf': 12, 'max_depth': 10, 'n_estimators': 56, 'criterion': 'entropy'}. Best is trial 17 with value: -0.8606189351216788.\u001b[0m\n",
            "\u001b[32m[I 2022-10-12 02:30:18,136]\u001b[0m Trial 44 finished with value: -0.8459997205710512 and parameters: {'min_samples_leaf': 64, 'max_depth': 6, 'n_estimators': 107, 'criterion': 'entropy'}. Best is trial 17 with value: -0.8606189351216788.\u001b[0m\n",
            "\u001b[32m[I 2022-10-12 02:30:18,507]\u001b[0m Trial 45 finished with value: -0.855170070619316 and parameters: {'min_samples_leaf': 11, 'max_depth': 12, 'n_estimators': 71, 'criterion': 'entropy'}. Best is trial 17 with value: -0.8606189351216788.\u001b[0m\n",
            "\u001b[32m[I 2022-10-12 02:30:18,934]\u001b[0m Trial 46 finished with value: -0.8534680942945689 and parameters: {'min_samples_leaf': 5, 'max_depth': 8, 'n_estimators': 84, 'criterion': 'entropy'}. Best is trial 17 with value: -0.8606189351216788.\u001b[0m\n",
            "\u001b[32m[I 2022-10-12 02:30:19,056]\u001b[0m Trial 47 finished with value: -0.8375279428948839 and parameters: {'min_samples_leaf': 112, 'max_depth': 10, 'n_estimators': 32, 'criterion': 'gini'}. Best is trial 17 with value: -0.8606189351216788.\u001b[0m\n",
            "\u001b[32m[I 2022-10-12 02:30:19,260]\u001b[0m Trial 48 finished with value: -0.8385758014530305 and parameters: {'min_samples_leaf': 143, 'max_depth': 6, 'n_estimators': 63, 'criterion': 'entropy'}. Best is trial 17 with value: -0.8606189351216788.\u001b[0m\n",
            "\u001b[32m[I 2022-10-12 02:30:19,639]\u001b[0m Trial 49 finished with value: -0.8522614692882182 and parameters: {'min_samples_leaf': 53, 'max_depth': 12, 'n_estimators': 98, 'criterion': 'entropy'}. Best is trial 17 with value: -0.8606189351216788.\u001b[0m\n"
          ]
        }
      ]
    },
    {
      "cell_type": "code",
      "source": [
        "# {'min_samples_leaf': 2, 'max_depth': 9, 'n_estimators': 55, 'criterion': 'entropy'}\n",
        "rf = RandomForestClassifier(\n",
        "    n_estimators=55,\n",
        "    criterion=\"entropy\",\n",
        "    max_depth=9,\n",
        "    min_samples_leaf=2,\n",
        "    n_jobs=-1,\n",
        "    random_state=3\n",
        ")\n",
        "\n",
        "rf.fit(X_train_cp, y_train)\n",
        "\n",
        "y_pred = rf.predict_proba(X_test_cp)[:, 1]\n",
        "metrics.roc_auc_score(y_test, y_pred)"
      ],
      "metadata": {
        "colab": {
          "base_uri": "https://localhost:8080/"
        },
        "id": "69vq402BBjT3",
        "outputId": "88d758ed-0f3f-436d-97c6-aac2b1594be0"
      },
      "execution_count": 50,
      "outputs": [
        {
          "output_type": "execute_result",
          "data": {
            "text/plain": [
              "0.8210253653291628"
            ]
          },
          "metadata": {},
          "execution_count": 50
        }
      ]
    },
    {
      "cell_type": "code",
      "source": [],
      "metadata": {
        "id": "qloBR-OyDBye"
      },
      "execution_count": null,
      "outputs": []
    }
  ],
  "metadata": {
    "colab": {
      "provenance": []
    },
    "kernelspec": {
      "display_name": "Python 3",
      "name": "python3"
    },
    "language_info": {
      "name": "python"
    }
  },
  "nbformat": 4,
  "nbformat_minor": 0
}