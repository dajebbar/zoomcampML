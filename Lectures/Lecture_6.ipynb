{
  "cells": [
    {
      "cell_type": "markdown",
      "metadata": {
        "id": "uLG0DEmHd06W"
      },
      "source": [
        "# Decision Trees and Ensemble Learning"
      ]
    },
    {
      "cell_type": "markdown",
      "metadata": {
        "id": "oT7crvfqeGHb"
      },
      "source": [
        "## Credit risk scoring project"
      ]
    },
    {
      "cell_type": "markdown",
      "metadata": {
        "id": "kBhvTB44eOun"
      },
      "source": [
        "**Dataset**"
      ]
    },
    {
      "cell_type": "code",
      "execution_count": 1,
      "metadata": {
        "id": "VCHpUa9JdJj9"
      },
      "outputs": [],
      "source": [
        "!wget https://github.com/gastonstat/CreditScoring/raw/master/CreditScoring.csv --quiet"
      ]
    },
    {
      "cell_type": "markdown",
      "metadata": {
        "id": "HAEKCLdmejXQ"
      },
      "source": [
        "### Librairies"
      ]
    },
    {
      "cell_type": "code",
      "execution_count": 2,
      "metadata": {
        "id": "j9Uh3vo8eRc7"
      },
      "outputs": [],
      "source": [
        "import pandas as pd\n",
        "import numpy as np\n",
        "import matplotlib.pyplot as plt\n",
        "import seaborn as sns\n",
        "import missingno as msno\n",
        "\n",
        "plt.style.use('ggplot')"
      ]
    },
    {
      "cell_type": "markdown",
      "metadata": {
        "id": "4AV4RhcPe6TD"
      },
      "source": [
        "**Data cleanining**"
      ]
    },
    {
      "cell_type": "code",
      "execution_count": 3,
      "metadata": {
        "colab": {
          "base_uri": "https://localhost:8080/",
          "height": 206
        },
        "id": "gfKXqUjke1cR",
        "outputId": "877f6baf-7752-4746-8ff1-7e7812a170e9"
      },
      "outputs": [
        {
          "output_type": "execute_result",
          "data": {
            "text/plain": [
              "   Status  Seniority  Home  Time  Age  Marital  Records  Job  Expenses  \\\n",
              "0       1          9     1    60   30        2        1    3        73   \n",
              "1       1         17     1    60   58        3        1    1        48   \n",
              "2       2         10     2    36   46        2        2    3        90   \n",
              "3       1          0     1    60   24        1        1    1        63   \n",
              "4       1          0     1    36   26        1        1    1        46   \n",
              "\n",
              "   Income  Assets  Debt  Amount  Price  \n",
              "0     129       0     0     800    846  \n",
              "1     131       0     0    1000   1658  \n",
              "2     200    3000     0    2000   2985  \n",
              "3     182    2500     0     900   1325  \n",
              "4     107       0     0     310    910  "
            ],
            "text/html": [
              "\n",
              "  <div id=\"df-b18ed5e3-29e9-47d2-b153-d57fa09a5da8\">\n",
              "    <div class=\"colab-df-container\">\n",
              "      <div>\n",
              "<style scoped>\n",
              "    .dataframe tbody tr th:only-of-type {\n",
              "        vertical-align: middle;\n",
              "    }\n",
              "\n",
              "    .dataframe tbody tr th {\n",
              "        vertical-align: top;\n",
              "    }\n",
              "\n",
              "    .dataframe thead th {\n",
              "        text-align: right;\n",
              "    }\n",
              "</style>\n",
              "<table border=\"1\" class=\"dataframe\">\n",
              "  <thead>\n",
              "    <tr style=\"text-align: right;\">\n",
              "      <th></th>\n",
              "      <th>Status</th>\n",
              "      <th>Seniority</th>\n",
              "      <th>Home</th>\n",
              "      <th>Time</th>\n",
              "      <th>Age</th>\n",
              "      <th>Marital</th>\n",
              "      <th>Records</th>\n",
              "      <th>Job</th>\n",
              "      <th>Expenses</th>\n",
              "      <th>Income</th>\n",
              "      <th>Assets</th>\n",
              "      <th>Debt</th>\n",
              "      <th>Amount</th>\n",
              "      <th>Price</th>\n",
              "    </tr>\n",
              "  </thead>\n",
              "  <tbody>\n",
              "    <tr>\n",
              "      <th>0</th>\n",
              "      <td>1</td>\n",
              "      <td>9</td>\n",
              "      <td>1</td>\n",
              "      <td>60</td>\n",
              "      <td>30</td>\n",
              "      <td>2</td>\n",
              "      <td>1</td>\n",
              "      <td>3</td>\n",
              "      <td>73</td>\n",
              "      <td>129</td>\n",
              "      <td>0</td>\n",
              "      <td>0</td>\n",
              "      <td>800</td>\n",
              "      <td>846</td>\n",
              "    </tr>\n",
              "    <tr>\n",
              "      <th>1</th>\n",
              "      <td>1</td>\n",
              "      <td>17</td>\n",
              "      <td>1</td>\n",
              "      <td>60</td>\n",
              "      <td>58</td>\n",
              "      <td>3</td>\n",
              "      <td>1</td>\n",
              "      <td>1</td>\n",
              "      <td>48</td>\n",
              "      <td>131</td>\n",
              "      <td>0</td>\n",
              "      <td>0</td>\n",
              "      <td>1000</td>\n",
              "      <td>1658</td>\n",
              "    </tr>\n",
              "    <tr>\n",
              "      <th>2</th>\n",
              "      <td>2</td>\n",
              "      <td>10</td>\n",
              "      <td>2</td>\n",
              "      <td>36</td>\n",
              "      <td>46</td>\n",
              "      <td>2</td>\n",
              "      <td>2</td>\n",
              "      <td>3</td>\n",
              "      <td>90</td>\n",
              "      <td>200</td>\n",
              "      <td>3000</td>\n",
              "      <td>0</td>\n",
              "      <td>2000</td>\n",
              "      <td>2985</td>\n",
              "    </tr>\n",
              "    <tr>\n",
              "      <th>3</th>\n",
              "      <td>1</td>\n",
              "      <td>0</td>\n",
              "      <td>1</td>\n",
              "      <td>60</td>\n",
              "      <td>24</td>\n",
              "      <td>1</td>\n",
              "      <td>1</td>\n",
              "      <td>1</td>\n",
              "      <td>63</td>\n",
              "      <td>182</td>\n",
              "      <td>2500</td>\n",
              "      <td>0</td>\n",
              "      <td>900</td>\n",
              "      <td>1325</td>\n",
              "    </tr>\n",
              "    <tr>\n",
              "      <th>4</th>\n",
              "      <td>1</td>\n",
              "      <td>0</td>\n",
              "      <td>1</td>\n",
              "      <td>36</td>\n",
              "      <td>26</td>\n",
              "      <td>1</td>\n",
              "      <td>1</td>\n",
              "      <td>1</td>\n",
              "      <td>46</td>\n",
              "      <td>107</td>\n",
              "      <td>0</td>\n",
              "      <td>0</td>\n",
              "      <td>310</td>\n",
              "      <td>910</td>\n",
              "    </tr>\n",
              "  </tbody>\n",
              "</table>\n",
              "</div>\n",
              "      <button class=\"colab-df-convert\" onclick=\"convertToInteractive('df-b18ed5e3-29e9-47d2-b153-d57fa09a5da8')\"\n",
              "              title=\"Convert this dataframe to an interactive table.\"\n",
              "              style=\"display:none;\">\n",
              "        \n",
              "  <svg xmlns=\"http://www.w3.org/2000/svg\" height=\"24px\"viewBox=\"0 0 24 24\"\n",
              "       width=\"24px\">\n",
              "    <path d=\"M0 0h24v24H0V0z\" fill=\"none\"/>\n",
              "    <path d=\"M18.56 5.44l.94 2.06.94-2.06 2.06-.94-2.06-.94-.94-2.06-.94 2.06-2.06.94zm-11 1L8.5 8.5l.94-2.06 2.06-.94-2.06-.94L8.5 2.5l-.94 2.06-2.06.94zm10 10l.94 2.06.94-2.06 2.06-.94-2.06-.94-.94-2.06-.94 2.06-2.06.94z\"/><path d=\"M17.41 7.96l-1.37-1.37c-.4-.4-.92-.59-1.43-.59-.52 0-1.04.2-1.43.59L10.3 9.45l-7.72 7.72c-.78.78-.78 2.05 0 2.83L4 21.41c.39.39.9.59 1.41.59.51 0 1.02-.2 1.41-.59l7.78-7.78 2.81-2.81c.8-.78.8-2.07 0-2.86zM5.41 20L4 18.59l7.72-7.72 1.47 1.35L5.41 20z\"/>\n",
              "  </svg>\n",
              "      </button>\n",
              "      \n",
              "  <style>\n",
              "    .colab-df-container {\n",
              "      display:flex;\n",
              "      flex-wrap:wrap;\n",
              "      gap: 12px;\n",
              "    }\n",
              "\n",
              "    .colab-df-convert {\n",
              "      background-color: #E8F0FE;\n",
              "      border: none;\n",
              "      border-radius: 50%;\n",
              "      cursor: pointer;\n",
              "      display: none;\n",
              "      fill: #1967D2;\n",
              "      height: 32px;\n",
              "      padding: 0 0 0 0;\n",
              "      width: 32px;\n",
              "    }\n",
              "\n",
              "    .colab-df-convert:hover {\n",
              "      background-color: #E2EBFA;\n",
              "      box-shadow: 0px 1px 2px rgba(60, 64, 67, 0.3), 0px 1px 3px 1px rgba(60, 64, 67, 0.15);\n",
              "      fill: #174EA6;\n",
              "    }\n",
              "\n",
              "    [theme=dark] .colab-df-convert {\n",
              "      background-color: #3B4455;\n",
              "      fill: #D2E3FC;\n",
              "    }\n",
              "\n",
              "    [theme=dark] .colab-df-convert:hover {\n",
              "      background-color: #434B5C;\n",
              "      box-shadow: 0px 1px 3px 1px rgba(0, 0, 0, 0.15);\n",
              "      filter: drop-shadow(0px 1px 2px rgba(0, 0, 0, 0.3));\n",
              "      fill: #FFFFFF;\n",
              "    }\n",
              "  </style>\n",
              "\n",
              "      <script>\n",
              "        const buttonEl =\n",
              "          document.querySelector('#df-b18ed5e3-29e9-47d2-b153-d57fa09a5da8 button.colab-df-convert');\n",
              "        buttonEl.style.display =\n",
              "          google.colab.kernel.accessAllowed ? 'block' : 'none';\n",
              "\n",
              "        async function convertToInteractive(key) {\n",
              "          const element = document.querySelector('#df-b18ed5e3-29e9-47d2-b153-d57fa09a5da8');\n",
              "          const dataTable =\n",
              "            await google.colab.kernel.invokeFunction('convertToInteractive',\n",
              "                                                     [key], {});\n",
              "          if (!dataTable) return;\n",
              "\n",
              "          const docLinkHtml = 'Like what you see? Visit the ' +\n",
              "            '<a target=\"_blank\" href=https://colab.research.google.com/notebooks/data_table.ipynb>data table notebook</a>'\n",
              "            + ' to learn more about interactive tables.';\n",
              "          element.innerHTML = '';\n",
              "          dataTable['output_type'] = 'display_data';\n",
              "          await google.colab.output.renderOutput(dataTable, element);\n",
              "          const docLink = document.createElement('div');\n",
              "          docLink.innerHTML = docLinkHtml;\n",
              "          element.appendChild(docLink);\n",
              "        }\n",
              "      </script>\n",
              "    </div>\n",
              "  </div>\n",
              "  "
            ]
          },
          "metadata": {},
          "execution_count": 3
        }
      ],
      "source": [
        "df = pd.read_csv('CreditScoring.csv')\n",
        "df.head()"
      ]
    },
    {
      "cell_type": "code",
      "execution_count": 4,
      "metadata": {
        "id": "9rhRUNDwfILP"
      },
      "outputs": [],
      "source": [
        "# make all columns in lower\n",
        "df.columns = df.columns.str.lower()"
      ]
    },
    {
      "cell_type": "code",
      "execution_count": 5,
      "metadata": {
        "colab": {
          "base_uri": "https://localhost:8080/"
        },
        "id": "n4xKMvUk3pZS",
        "outputId": "777328f7-514d-4629-dfdf-933c335134cb"
      },
      "outputs": [
        {
          "output_type": "execute_result",
          "data": {
            "text/plain": [
              "(4455, 14)"
            ]
          },
          "metadata": {},
          "execution_count": 5
        }
      ],
      "source": [
        "df.shape"
      ]
    },
    {
      "cell_type": "markdown",
      "metadata": {
        "id": "XGhIEky4gqkL"
      },
      "source": [
        "**Mapping the target**"
      ]
    },
    {
      "cell_type": "code",
      "execution_count": 6,
      "metadata": {
        "colab": {
          "base_uri": "https://localhost:8080/"
        },
        "id": "6QKq1je0gzGf",
        "outputId": "9a35852a-c65b-469f-d414-ff9e380900b5"
      },
      "outputs": [
        {
          "output_type": "execute_result",
          "data": {
            "text/plain": [
              "1    3200\n",
              "2    1254\n",
              "0       1\n",
              "Name: status, dtype: int64"
            ]
          },
          "metadata": {},
          "execution_count": 6
        }
      ],
      "source": [
        "df['status'].value_counts(dropna=False)"
      ]
    },
    {
      "cell_type": "code",
      "execution_count": 7,
      "metadata": {
        "id": "QzI11CvefWQu"
      },
      "outputs": [],
      "source": [
        "df['status'] = df['status'].map({\n",
        "    1:'ok',\n",
        "    2:'default',\n",
        "    0:'unk'\n",
        "})"
      ]
    },
    {
      "cell_type": "markdown",
      "metadata": {
        "id": "JmGdM5fMiETp"
      },
      "source": [
        "** Mapping categorical features **"
      ]
    },
    {
      "cell_type": "code",
      "execution_count": 8,
      "metadata": {
        "id": "DrqBWQlIiI0G"
      },
      "outputs": [],
      "source": [
        "def mapping_categorical(df, cat, cat_lst):\n",
        "  to_lst = df[cat].value_counts().sort_index().index.to_list()\n",
        "  cat_lst = cat_lst\n",
        "\n",
        "  df[cat] = (\n",
        "      df[cat].map({\n",
        "          k:v for (k,v) in zip(to_lst, cat_lst)\n",
        "      })\n",
        "   )"
      ]
    },
    {
      "cell_type": "code",
      "execution_count": 9,
      "metadata": {
        "id": "PFRstgsuk-s2"
      },
      "outputs": [],
      "source": [
        "cols = ['home', 'marital', 'records', 'job']\n",
        "\n",
        "home_lst = ['unk', 'rent', 'owner', 'private', 'ignore', 'parents', 'other']\n",
        "marital_lst = ['unk', 'single', 'married', 'widow', 'separated', 'divorced']\n",
        "records_lst = ['no', 'yes', 'unk']\n",
        "job_lst = ['unk', 'fixed', 'partime', 'freelance', 'others']\n",
        "cat_lst = [home_lst, marital_lst, records_lst, job_lst]\n",
        "\n",
        "for col, cat in zip(cols, cat_lst):\n",
        "  mapping_categorical(df, col, cat)\n"
      ]
    },
    {
      "cell_type": "code",
      "execution_count": 10,
      "metadata": {
        "colab": {
          "base_uri": "https://localhost:8080/",
          "height": 206
        },
        "id": "iEgsdHlCqXmX",
        "outputId": "557fdbcf-11fa-4efd-b0e5-b207aa4c20f9"
      },
      "outputs": [
        {
          "output_type": "execute_result",
          "data": {
            "text/plain": [
              "    status  seniority   home  time  age  marital records        job  expenses  \\\n",
              "0       ok          9   rent    60   30  married      no  freelance        73   \n",
              "1       ok         17   rent    60   58    widow      no      fixed        48   \n",
              "2  default         10  owner    36   46  married     yes  freelance        90   \n",
              "3       ok          0   rent    60   24   single      no      fixed        63   \n",
              "4       ok          0   rent    36   26   single      no      fixed        46   \n",
              "\n",
              "   income  assets  debt  amount  price  \n",
              "0     129       0     0     800    846  \n",
              "1     131       0     0    1000   1658  \n",
              "2     200    3000     0    2000   2985  \n",
              "3     182    2500     0     900   1325  \n",
              "4     107       0     0     310    910  "
            ],
            "text/html": [
              "\n",
              "  <div id=\"df-55db7d65-514b-4c43-9571-5013c2f31d29\">\n",
              "    <div class=\"colab-df-container\">\n",
              "      <div>\n",
              "<style scoped>\n",
              "    .dataframe tbody tr th:only-of-type {\n",
              "        vertical-align: middle;\n",
              "    }\n",
              "\n",
              "    .dataframe tbody tr th {\n",
              "        vertical-align: top;\n",
              "    }\n",
              "\n",
              "    .dataframe thead th {\n",
              "        text-align: right;\n",
              "    }\n",
              "</style>\n",
              "<table border=\"1\" class=\"dataframe\">\n",
              "  <thead>\n",
              "    <tr style=\"text-align: right;\">\n",
              "      <th></th>\n",
              "      <th>status</th>\n",
              "      <th>seniority</th>\n",
              "      <th>home</th>\n",
              "      <th>time</th>\n",
              "      <th>age</th>\n",
              "      <th>marital</th>\n",
              "      <th>records</th>\n",
              "      <th>job</th>\n",
              "      <th>expenses</th>\n",
              "      <th>income</th>\n",
              "      <th>assets</th>\n",
              "      <th>debt</th>\n",
              "      <th>amount</th>\n",
              "      <th>price</th>\n",
              "    </tr>\n",
              "  </thead>\n",
              "  <tbody>\n",
              "    <tr>\n",
              "      <th>0</th>\n",
              "      <td>ok</td>\n",
              "      <td>9</td>\n",
              "      <td>rent</td>\n",
              "      <td>60</td>\n",
              "      <td>30</td>\n",
              "      <td>married</td>\n",
              "      <td>no</td>\n",
              "      <td>freelance</td>\n",
              "      <td>73</td>\n",
              "      <td>129</td>\n",
              "      <td>0</td>\n",
              "      <td>0</td>\n",
              "      <td>800</td>\n",
              "      <td>846</td>\n",
              "    </tr>\n",
              "    <tr>\n",
              "      <th>1</th>\n",
              "      <td>ok</td>\n",
              "      <td>17</td>\n",
              "      <td>rent</td>\n",
              "      <td>60</td>\n",
              "      <td>58</td>\n",
              "      <td>widow</td>\n",
              "      <td>no</td>\n",
              "      <td>fixed</td>\n",
              "      <td>48</td>\n",
              "      <td>131</td>\n",
              "      <td>0</td>\n",
              "      <td>0</td>\n",
              "      <td>1000</td>\n",
              "      <td>1658</td>\n",
              "    </tr>\n",
              "    <tr>\n",
              "      <th>2</th>\n",
              "      <td>default</td>\n",
              "      <td>10</td>\n",
              "      <td>owner</td>\n",
              "      <td>36</td>\n",
              "      <td>46</td>\n",
              "      <td>married</td>\n",
              "      <td>yes</td>\n",
              "      <td>freelance</td>\n",
              "      <td>90</td>\n",
              "      <td>200</td>\n",
              "      <td>3000</td>\n",
              "      <td>0</td>\n",
              "      <td>2000</td>\n",
              "      <td>2985</td>\n",
              "    </tr>\n",
              "    <tr>\n",
              "      <th>3</th>\n",
              "      <td>ok</td>\n",
              "      <td>0</td>\n",
              "      <td>rent</td>\n",
              "      <td>60</td>\n",
              "      <td>24</td>\n",
              "      <td>single</td>\n",
              "      <td>no</td>\n",
              "      <td>fixed</td>\n",
              "      <td>63</td>\n",
              "      <td>182</td>\n",
              "      <td>2500</td>\n",
              "      <td>0</td>\n",
              "      <td>900</td>\n",
              "      <td>1325</td>\n",
              "    </tr>\n",
              "    <tr>\n",
              "      <th>4</th>\n",
              "      <td>ok</td>\n",
              "      <td>0</td>\n",
              "      <td>rent</td>\n",
              "      <td>36</td>\n",
              "      <td>26</td>\n",
              "      <td>single</td>\n",
              "      <td>no</td>\n",
              "      <td>fixed</td>\n",
              "      <td>46</td>\n",
              "      <td>107</td>\n",
              "      <td>0</td>\n",
              "      <td>0</td>\n",
              "      <td>310</td>\n",
              "      <td>910</td>\n",
              "    </tr>\n",
              "  </tbody>\n",
              "</table>\n",
              "</div>\n",
              "      <button class=\"colab-df-convert\" onclick=\"convertToInteractive('df-55db7d65-514b-4c43-9571-5013c2f31d29')\"\n",
              "              title=\"Convert this dataframe to an interactive table.\"\n",
              "              style=\"display:none;\">\n",
              "        \n",
              "  <svg xmlns=\"http://www.w3.org/2000/svg\" height=\"24px\"viewBox=\"0 0 24 24\"\n",
              "       width=\"24px\">\n",
              "    <path d=\"M0 0h24v24H0V0z\" fill=\"none\"/>\n",
              "    <path d=\"M18.56 5.44l.94 2.06.94-2.06 2.06-.94-2.06-.94-.94-2.06-.94 2.06-2.06.94zm-11 1L8.5 8.5l.94-2.06 2.06-.94-2.06-.94L8.5 2.5l-.94 2.06-2.06.94zm10 10l.94 2.06.94-2.06 2.06-.94-2.06-.94-.94-2.06-.94 2.06-2.06.94z\"/><path d=\"M17.41 7.96l-1.37-1.37c-.4-.4-.92-.59-1.43-.59-.52 0-1.04.2-1.43.59L10.3 9.45l-7.72 7.72c-.78.78-.78 2.05 0 2.83L4 21.41c.39.39.9.59 1.41.59.51 0 1.02-.2 1.41-.59l7.78-7.78 2.81-2.81c.8-.78.8-2.07 0-2.86zM5.41 20L4 18.59l7.72-7.72 1.47 1.35L5.41 20z\"/>\n",
              "  </svg>\n",
              "      </button>\n",
              "      \n",
              "  <style>\n",
              "    .colab-df-container {\n",
              "      display:flex;\n",
              "      flex-wrap:wrap;\n",
              "      gap: 12px;\n",
              "    }\n",
              "\n",
              "    .colab-df-convert {\n",
              "      background-color: #E8F0FE;\n",
              "      border: none;\n",
              "      border-radius: 50%;\n",
              "      cursor: pointer;\n",
              "      display: none;\n",
              "      fill: #1967D2;\n",
              "      height: 32px;\n",
              "      padding: 0 0 0 0;\n",
              "      width: 32px;\n",
              "    }\n",
              "\n",
              "    .colab-df-convert:hover {\n",
              "      background-color: #E2EBFA;\n",
              "      box-shadow: 0px 1px 2px rgba(60, 64, 67, 0.3), 0px 1px 3px 1px rgba(60, 64, 67, 0.15);\n",
              "      fill: #174EA6;\n",
              "    }\n",
              "\n",
              "    [theme=dark] .colab-df-convert {\n",
              "      background-color: #3B4455;\n",
              "      fill: #D2E3FC;\n",
              "    }\n",
              "\n",
              "    [theme=dark] .colab-df-convert:hover {\n",
              "      background-color: #434B5C;\n",
              "      box-shadow: 0px 1px 3px 1px rgba(0, 0, 0, 0.15);\n",
              "      filter: drop-shadow(0px 1px 2px rgba(0, 0, 0, 0.3));\n",
              "      fill: #FFFFFF;\n",
              "    }\n",
              "  </style>\n",
              "\n",
              "      <script>\n",
              "        const buttonEl =\n",
              "          document.querySelector('#df-55db7d65-514b-4c43-9571-5013c2f31d29 button.colab-df-convert');\n",
              "        buttonEl.style.display =\n",
              "          google.colab.kernel.accessAllowed ? 'block' : 'none';\n",
              "\n",
              "        async function convertToInteractive(key) {\n",
              "          const element = document.querySelector('#df-55db7d65-514b-4c43-9571-5013c2f31d29');\n",
              "          const dataTable =\n",
              "            await google.colab.kernel.invokeFunction('convertToInteractive',\n",
              "                                                     [key], {});\n",
              "          if (!dataTable) return;\n",
              "\n",
              "          const docLinkHtml = 'Like what you see? Visit the ' +\n",
              "            '<a target=\"_blank\" href=https://colab.research.google.com/notebooks/data_table.ipynb>data table notebook</a>'\n",
              "            + ' to learn more about interactive tables.';\n",
              "          element.innerHTML = '';\n",
              "          dataTable['output_type'] = 'display_data';\n",
              "          await google.colab.output.renderOutput(dataTable, element);\n",
              "          const docLink = document.createElement('div');\n",
              "          docLink.innerHTML = docLinkHtml;\n",
              "          element.appendChild(docLink);\n",
              "        }\n",
              "      </script>\n",
              "    </div>\n",
              "  </div>\n",
              "  "
            ]
          },
          "metadata": {},
          "execution_count": 10
        }
      ],
      "source": [
        "df.head()"
      ]
    },
    {
      "cell_type": "markdown",
      "metadata": {
        "id": "VCpksg6_1Lkq"
      },
      "source": [
        "**Check numerical values**"
      ]
    },
    {
      "cell_type": "code",
      "execution_count": 11,
      "metadata": {
        "colab": {
          "base_uri": "https://localhost:8080/",
          "height": 332
        },
        "id": "zyj1vW_MwCXd",
        "outputId": "8790ee90-899e-4477-b319-4e3c42f91636"
      },
      "outputs": [
        {
          "output_type": "execute_result",
          "data": {
            "text/plain": [
              "            count       mean         std    min     25%     50%     75%  \\\n",
              "seniority  4455.0        8.0         8.0    0.0     2.0     5.0    12.0   \n",
              "time       4455.0       46.0        15.0    6.0    36.0    48.0    60.0   \n",
              "age        4455.0       37.0        11.0   18.0    28.0    36.0    45.0   \n",
              "expenses   4455.0       56.0        20.0   35.0    35.0    51.0    72.0   \n",
              "income     4455.0   763317.0   8703625.0    0.0    80.0   120.0   166.0   \n",
              "assets     4455.0  1060341.0  10217569.0    0.0     0.0  3500.0  6000.0   \n",
              "debt       4455.0   404382.0   6344253.0    0.0     0.0     0.0     0.0   \n",
              "amount     4455.0     1039.0       475.0  100.0   700.0  1000.0  1300.0   \n",
              "price      4455.0     1463.0       628.0  105.0  1118.0  1400.0  1692.0   \n",
              "\n",
              "                  max  \n",
              "seniority        48.0  \n",
              "time             72.0  \n",
              "age              68.0  \n",
              "expenses        180.0  \n",
              "income     99999999.0  \n",
              "assets     99999999.0  \n",
              "debt       99999999.0  \n",
              "amount         5000.0  \n",
              "price         11140.0  "
            ],
            "text/html": [
              "\n",
              "  <div id=\"df-b78ff1d8-9dc6-4b55-b92e-af603ca48637\">\n",
              "    <div class=\"colab-df-container\">\n",
              "      <div>\n",
              "<style scoped>\n",
              "    .dataframe tbody tr th:only-of-type {\n",
              "        vertical-align: middle;\n",
              "    }\n",
              "\n",
              "    .dataframe tbody tr th {\n",
              "        vertical-align: top;\n",
              "    }\n",
              "\n",
              "    .dataframe thead th {\n",
              "        text-align: right;\n",
              "    }\n",
              "</style>\n",
              "<table border=\"1\" class=\"dataframe\">\n",
              "  <thead>\n",
              "    <tr style=\"text-align: right;\">\n",
              "      <th></th>\n",
              "      <th>count</th>\n",
              "      <th>mean</th>\n",
              "      <th>std</th>\n",
              "      <th>min</th>\n",
              "      <th>25%</th>\n",
              "      <th>50%</th>\n",
              "      <th>75%</th>\n",
              "      <th>max</th>\n",
              "    </tr>\n",
              "  </thead>\n",
              "  <tbody>\n",
              "    <tr>\n",
              "      <th>seniority</th>\n",
              "      <td>4455.0</td>\n",
              "      <td>8.0</td>\n",
              "      <td>8.0</td>\n",
              "      <td>0.0</td>\n",
              "      <td>2.0</td>\n",
              "      <td>5.0</td>\n",
              "      <td>12.0</td>\n",
              "      <td>48.0</td>\n",
              "    </tr>\n",
              "    <tr>\n",
              "      <th>time</th>\n",
              "      <td>4455.0</td>\n",
              "      <td>46.0</td>\n",
              "      <td>15.0</td>\n",
              "      <td>6.0</td>\n",
              "      <td>36.0</td>\n",
              "      <td>48.0</td>\n",
              "      <td>60.0</td>\n",
              "      <td>72.0</td>\n",
              "    </tr>\n",
              "    <tr>\n",
              "      <th>age</th>\n",
              "      <td>4455.0</td>\n",
              "      <td>37.0</td>\n",
              "      <td>11.0</td>\n",
              "      <td>18.0</td>\n",
              "      <td>28.0</td>\n",
              "      <td>36.0</td>\n",
              "      <td>45.0</td>\n",
              "      <td>68.0</td>\n",
              "    </tr>\n",
              "    <tr>\n",
              "      <th>expenses</th>\n",
              "      <td>4455.0</td>\n",
              "      <td>56.0</td>\n",
              "      <td>20.0</td>\n",
              "      <td>35.0</td>\n",
              "      <td>35.0</td>\n",
              "      <td>51.0</td>\n",
              "      <td>72.0</td>\n",
              "      <td>180.0</td>\n",
              "    </tr>\n",
              "    <tr>\n",
              "      <th>income</th>\n",
              "      <td>4455.0</td>\n",
              "      <td>763317.0</td>\n",
              "      <td>8703625.0</td>\n",
              "      <td>0.0</td>\n",
              "      <td>80.0</td>\n",
              "      <td>120.0</td>\n",
              "      <td>166.0</td>\n",
              "      <td>99999999.0</td>\n",
              "    </tr>\n",
              "    <tr>\n",
              "      <th>assets</th>\n",
              "      <td>4455.0</td>\n",
              "      <td>1060341.0</td>\n",
              "      <td>10217569.0</td>\n",
              "      <td>0.0</td>\n",
              "      <td>0.0</td>\n",
              "      <td>3500.0</td>\n",
              "      <td>6000.0</td>\n",
              "      <td>99999999.0</td>\n",
              "    </tr>\n",
              "    <tr>\n",
              "      <th>debt</th>\n",
              "      <td>4455.0</td>\n",
              "      <td>404382.0</td>\n",
              "      <td>6344253.0</td>\n",
              "      <td>0.0</td>\n",
              "      <td>0.0</td>\n",
              "      <td>0.0</td>\n",
              "      <td>0.0</td>\n",
              "      <td>99999999.0</td>\n",
              "    </tr>\n",
              "    <tr>\n",
              "      <th>amount</th>\n",
              "      <td>4455.0</td>\n",
              "      <td>1039.0</td>\n",
              "      <td>475.0</td>\n",
              "      <td>100.0</td>\n",
              "      <td>700.0</td>\n",
              "      <td>1000.0</td>\n",
              "      <td>1300.0</td>\n",
              "      <td>5000.0</td>\n",
              "    </tr>\n",
              "    <tr>\n",
              "      <th>price</th>\n",
              "      <td>4455.0</td>\n",
              "      <td>1463.0</td>\n",
              "      <td>628.0</td>\n",
              "      <td>105.0</td>\n",
              "      <td>1118.0</td>\n",
              "      <td>1400.0</td>\n",
              "      <td>1692.0</td>\n",
              "      <td>11140.0</td>\n",
              "    </tr>\n",
              "  </tbody>\n",
              "</table>\n",
              "</div>\n",
              "      <button class=\"colab-df-convert\" onclick=\"convertToInteractive('df-b78ff1d8-9dc6-4b55-b92e-af603ca48637')\"\n",
              "              title=\"Convert this dataframe to an interactive table.\"\n",
              "              style=\"display:none;\">\n",
              "        \n",
              "  <svg xmlns=\"http://www.w3.org/2000/svg\" height=\"24px\"viewBox=\"0 0 24 24\"\n",
              "       width=\"24px\">\n",
              "    <path d=\"M0 0h24v24H0V0z\" fill=\"none\"/>\n",
              "    <path d=\"M18.56 5.44l.94 2.06.94-2.06 2.06-.94-2.06-.94-.94-2.06-.94 2.06-2.06.94zm-11 1L8.5 8.5l.94-2.06 2.06-.94-2.06-.94L8.5 2.5l-.94 2.06-2.06.94zm10 10l.94 2.06.94-2.06 2.06-.94-2.06-.94-.94-2.06-.94 2.06-2.06.94z\"/><path d=\"M17.41 7.96l-1.37-1.37c-.4-.4-.92-.59-1.43-.59-.52 0-1.04.2-1.43.59L10.3 9.45l-7.72 7.72c-.78.78-.78 2.05 0 2.83L4 21.41c.39.39.9.59 1.41.59.51 0 1.02-.2 1.41-.59l7.78-7.78 2.81-2.81c.8-.78.8-2.07 0-2.86zM5.41 20L4 18.59l7.72-7.72 1.47 1.35L5.41 20z\"/>\n",
              "  </svg>\n",
              "      </button>\n",
              "      \n",
              "  <style>\n",
              "    .colab-df-container {\n",
              "      display:flex;\n",
              "      flex-wrap:wrap;\n",
              "      gap: 12px;\n",
              "    }\n",
              "\n",
              "    .colab-df-convert {\n",
              "      background-color: #E8F0FE;\n",
              "      border: none;\n",
              "      border-radius: 50%;\n",
              "      cursor: pointer;\n",
              "      display: none;\n",
              "      fill: #1967D2;\n",
              "      height: 32px;\n",
              "      padding: 0 0 0 0;\n",
              "      width: 32px;\n",
              "    }\n",
              "\n",
              "    .colab-df-convert:hover {\n",
              "      background-color: #E2EBFA;\n",
              "      box-shadow: 0px 1px 2px rgba(60, 64, 67, 0.3), 0px 1px 3px 1px rgba(60, 64, 67, 0.15);\n",
              "      fill: #174EA6;\n",
              "    }\n",
              "\n",
              "    [theme=dark] .colab-df-convert {\n",
              "      background-color: #3B4455;\n",
              "      fill: #D2E3FC;\n",
              "    }\n",
              "\n",
              "    [theme=dark] .colab-df-convert:hover {\n",
              "      background-color: #434B5C;\n",
              "      box-shadow: 0px 1px 3px 1px rgba(0, 0, 0, 0.15);\n",
              "      filter: drop-shadow(0px 1px 2px rgba(0, 0, 0, 0.3));\n",
              "      fill: #FFFFFF;\n",
              "    }\n",
              "  </style>\n",
              "\n",
              "      <script>\n",
              "        const buttonEl =\n",
              "          document.querySelector('#df-b78ff1d8-9dc6-4b55-b92e-af603ca48637 button.colab-df-convert');\n",
              "        buttonEl.style.display =\n",
              "          google.colab.kernel.accessAllowed ? 'block' : 'none';\n",
              "\n",
              "        async function convertToInteractive(key) {\n",
              "          const element = document.querySelector('#df-b78ff1d8-9dc6-4b55-b92e-af603ca48637');\n",
              "          const dataTable =\n",
              "            await google.colab.kernel.invokeFunction('convertToInteractive',\n",
              "                                                     [key], {});\n",
              "          if (!dataTable) return;\n",
              "\n",
              "          const docLinkHtml = 'Like what you see? Visit the ' +\n",
              "            '<a target=\"_blank\" href=https://colab.research.google.com/notebooks/data_table.ipynb>data table notebook</a>'\n",
              "            + ' to learn more about interactive tables.';\n",
              "          element.innerHTML = '';\n",
              "          dataTable['output_type'] = 'display_data';\n",
              "          await google.colab.output.renderOutput(dataTable, element);\n",
              "          const docLink = document.createElement('div');\n",
              "          docLink.innerHTML = docLinkHtml;\n",
              "          element.appendChild(docLink);\n",
              "        }\n",
              "      </script>\n",
              "    </div>\n",
              "  </div>\n",
              "  "
            ]
          },
          "metadata": {},
          "execution_count": 11
        }
      ],
      "source": [
        "df.describe().T.round()"
      ]
    },
    {
      "cell_type": "markdown",
      "metadata": {
        "id": "gD8XQsna2Hfn"
      },
      "source": [
        "One thing we immediately can notice is that the max value is 99999999 in some cases. This is quite suspicious. As it turns out, it’s an artificial value — this is how missing values are encoded in this dataset."
      ]
    },
    {
      "cell_type": "code",
      "execution_count": 12,
      "metadata": {
        "id": "EVtahDkV1Uqv"
      },
      "outputs": [],
      "source": [
        "def fix_missing_values(df, val_to_rep, rep, *f_lst):\n",
        "  for f in f_lst:\n",
        "    df[f] = df[f].replace(val_to_rep, rep)"
      ]
    },
    {
      "cell_type": "code",
      "execution_count": 13,
      "metadata": {
        "id": "MwJF1sQp29Sf"
      },
      "outputs": [],
      "source": [
        "fix_missing_values(df, 99999999.0, np.nan, ['income', 'assets', 'debt'])"
      ]
    },
    {
      "cell_type": "code",
      "execution_count": 14,
      "metadata": {
        "colab": {
          "base_uri": "https://localhost:8080/",
          "height": 332
        },
        "id": "AymfAQsU3Pse",
        "outputId": "93479548-0ef5-4027-e9c0-3f23f061b03c"
      },
      "outputs": [
        {
          "output_type": "execute_result",
          "data": {
            "text/plain": [
              "            count    mean      std    min     25%     50%     75%       max\n",
              "seniority  4455.0     8.0      8.0    0.0     2.0     5.0    12.0      48.0\n",
              "time       4455.0    46.0     15.0    6.0    36.0    48.0    60.0      72.0\n",
              "age        4455.0    37.0     11.0   18.0    28.0    36.0    45.0      68.0\n",
              "expenses   4455.0    56.0     20.0   35.0    35.0    51.0    72.0     180.0\n",
              "income     4421.0   131.0     86.0    0.0    80.0   120.0   165.0     959.0\n",
              "assets     4408.0  5403.0  11573.0    0.0     0.0  3000.0  6000.0  300000.0\n",
              "debt       4437.0   343.0   1246.0    0.0     0.0     0.0     0.0   30000.0\n",
              "amount     4455.0  1039.0    475.0  100.0   700.0  1000.0  1300.0    5000.0\n",
              "price      4455.0  1463.0    628.0  105.0  1118.0  1400.0  1692.0   11140.0"
            ],
            "text/html": [
              "\n",
              "  <div id=\"df-bc2daf22-790c-4255-9fb4-6d6760de6e62\">\n",
              "    <div class=\"colab-df-container\">\n",
              "      <div>\n",
              "<style scoped>\n",
              "    .dataframe tbody tr th:only-of-type {\n",
              "        vertical-align: middle;\n",
              "    }\n",
              "\n",
              "    .dataframe tbody tr th {\n",
              "        vertical-align: top;\n",
              "    }\n",
              "\n",
              "    .dataframe thead th {\n",
              "        text-align: right;\n",
              "    }\n",
              "</style>\n",
              "<table border=\"1\" class=\"dataframe\">\n",
              "  <thead>\n",
              "    <tr style=\"text-align: right;\">\n",
              "      <th></th>\n",
              "      <th>count</th>\n",
              "      <th>mean</th>\n",
              "      <th>std</th>\n",
              "      <th>min</th>\n",
              "      <th>25%</th>\n",
              "      <th>50%</th>\n",
              "      <th>75%</th>\n",
              "      <th>max</th>\n",
              "    </tr>\n",
              "  </thead>\n",
              "  <tbody>\n",
              "    <tr>\n",
              "      <th>seniority</th>\n",
              "      <td>4455.0</td>\n",
              "      <td>8.0</td>\n",
              "      <td>8.0</td>\n",
              "      <td>0.0</td>\n",
              "      <td>2.0</td>\n",
              "      <td>5.0</td>\n",
              "      <td>12.0</td>\n",
              "      <td>48.0</td>\n",
              "    </tr>\n",
              "    <tr>\n",
              "      <th>time</th>\n",
              "      <td>4455.0</td>\n",
              "      <td>46.0</td>\n",
              "      <td>15.0</td>\n",
              "      <td>6.0</td>\n",
              "      <td>36.0</td>\n",
              "      <td>48.0</td>\n",
              "      <td>60.0</td>\n",
              "      <td>72.0</td>\n",
              "    </tr>\n",
              "    <tr>\n",
              "      <th>age</th>\n",
              "      <td>4455.0</td>\n",
              "      <td>37.0</td>\n",
              "      <td>11.0</td>\n",
              "      <td>18.0</td>\n",
              "      <td>28.0</td>\n",
              "      <td>36.0</td>\n",
              "      <td>45.0</td>\n",
              "      <td>68.0</td>\n",
              "    </tr>\n",
              "    <tr>\n",
              "      <th>expenses</th>\n",
              "      <td>4455.0</td>\n",
              "      <td>56.0</td>\n",
              "      <td>20.0</td>\n",
              "      <td>35.0</td>\n",
              "      <td>35.0</td>\n",
              "      <td>51.0</td>\n",
              "      <td>72.0</td>\n",
              "      <td>180.0</td>\n",
              "    </tr>\n",
              "    <tr>\n",
              "      <th>income</th>\n",
              "      <td>4421.0</td>\n",
              "      <td>131.0</td>\n",
              "      <td>86.0</td>\n",
              "      <td>0.0</td>\n",
              "      <td>80.0</td>\n",
              "      <td>120.0</td>\n",
              "      <td>165.0</td>\n",
              "      <td>959.0</td>\n",
              "    </tr>\n",
              "    <tr>\n",
              "      <th>assets</th>\n",
              "      <td>4408.0</td>\n",
              "      <td>5403.0</td>\n",
              "      <td>11573.0</td>\n",
              "      <td>0.0</td>\n",
              "      <td>0.0</td>\n",
              "      <td>3000.0</td>\n",
              "      <td>6000.0</td>\n",
              "      <td>300000.0</td>\n",
              "    </tr>\n",
              "    <tr>\n",
              "      <th>debt</th>\n",
              "      <td>4437.0</td>\n",
              "      <td>343.0</td>\n",
              "      <td>1246.0</td>\n",
              "      <td>0.0</td>\n",
              "      <td>0.0</td>\n",
              "      <td>0.0</td>\n",
              "      <td>0.0</td>\n",
              "      <td>30000.0</td>\n",
              "    </tr>\n",
              "    <tr>\n",
              "      <th>amount</th>\n",
              "      <td>4455.0</td>\n",
              "      <td>1039.0</td>\n",
              "      <td>475.0</td>\n",
              "      <td>100.0</td>\n",
              "      <td>700.0</td>\n",
              "      <td>1000.0</td>\n",
              "      <td>1300.0</td>\n",
              "      <td>5000.0</td>\n",
              "    </tr>\n",
              "    <tr>\n",
              "      <th>price</th>\n",
              "      <td>4455.0</td>\n",
              "      <td>1463.0</td>\n",
              "      <td>628.0</td>\n",
              "      <td>105.0</td>\n",
              "      <td>1118.0</td>\n",
              "      <td>1400.0</td>\n",
              "      <td>1692.0</td>\n",
              "      <td>11140.0</td>\n",
              "    </tr>\n",
              "  </tbody>\n",
              "</table>\n",
              "</div>\n",
              "      <button class=\"colab-df-convert\" onclick=\"convertToInteractive('df-bc2daf22-790c-4255-9fb4-6d6760de6e62')\"\n",
              "              title=\"Convert this dataframe to an interactive table.\"\n",
              "              style=\"display:none;\">\n",
              "        \n",
              "  <svg xmlns=\"http://www.w3.org/2000/svg\" height=\"24px\"viewBox=\"0 0 24 24\"\n",
              "       width=\"24px\">\n",
              "    <path d=\"M0 0h24v24H0V0z\" fill=\"none\"/>\n",
              "    <path d=\"M18.56 5.44l.94 2.06.94-2.06 2.06-.94-2.06-.94-.94-2.06-.94 2.06-2.06.94zm-11 1L8.5 8.5l.94-2.06 2.06-.94-2.06-.94L8.5 2.5l-.94 2.06-2.06.94zm10 10l.94 2.06.94-2.06 2.06-.94-2.06-.94-.94-2.06-.94 2.06-2.06.94z\"/><path d=\"M17.41 7.96l-1.37-1.37c-.4-.4-.92-.59-1.43-.59-.52 0-1.04.2-1.43.59L10.3 9.45l-7.72 7.72c-.78.78-.78 2.05 0 2.83L4 21.41c.39.39.9.59 1.41.59.51 0 1.02-.2 1.41-.59l7.78-7.78 2.81-2.81c.8-.78.8-2.07 0-2.86zM5.41 20L4 18.59l7.72-7.72 1.47 1.35L5.41 20z\"/>\n",
              "  </svg>\n",
              "      </button>\n",
              "      \n",
              "  <style>\n",
              "    .colab-df-container {\n",
              "      display:flex;\n",
              "      flex-wrap:wrap;\n",
              "      gap: 12px;\n",
              "    }\n",
              "\n",
              "    .colab-df-convert {\n",
              "      background-color: #E8F0FE;\n",
              "      border: none;\n",
              "      border-radius: 50%;\n",
              "      cursor: pointer;\n",
              "      display: none;\n",
              "      fill: #1967D2;\n",
              "      height: 32px;\n",
              "      padding: 0 0 0 0;\n",
              "      width: 32px;\n",
              "    }\n",
              "\n",
              "    .colab-df-convert:hover {\n",
              "      background-color: #E2EBFA;\n",
              "      box-shadow: 0px 1px 2px rgba(60, 64, 67, 0.3), 0px 1px 3px 1px rgba(60, 64, 67, 0.15);\n",
              "      fill: #174EA6;\n",
              "    }\n",
              "\n",
              "    [theme=dark] .colab-df-convert {\n",
              "      background-color: #3B4455;\n",
              "      fill: #D2E3FC;\n",
              "    }\n",
              "\n",
              "    [theme=dark] .colab-df-convert:hover {\n",
              "      background-color: #434B5C;\n",
              "      box-shadow: 0px 1px 3px 1px rgba(0, 0, 0, 0.15);\n",
              "      filter: drop-shadow(0px 1px 2px rgba(0, 0, 0, 0.3));\n",
              "      fill: #FFFFFF;\n",
              "    }\n",
              "  </style>\n",
              "\n",
              "      <script>\n",
              "        const buttonEl =\n",
              "          document.querySelector('#df-bc2daf22-790c-4255-9fb4-6d6760de6e62 button.colab-df-convert');\n",
              "        buttonEl.style.display =\n",
              "          google.colab.kernel.accessAllowed ? 'block' : 'none';\n",
              "\n",
              "        async function convertToInteractive(key) {\n",
              "          const element = document.querySelector('#df-bc2daf22-790c-4255-9fb4-6d6760de6e62');\n",
              "          const dataTable =\n",
              "            await google.colab.kernel.invokeFunction('convertToInteractive',\n",
              "                                                     [key], {});\n",
              "          if (!dataTable) return;\n",
              "\n",
              "          const docLinkHtml = 'Like what you see? Visit the ' +\n",
              "            '<a target=\"_blank\" href=https://colab.research.google.com/notebooks/data_table.ipynb>data table notebook</a>'\n",
              "            + ' to learn more about interactive tables.';\n",
              "          element.innerHTML = '';\n",
              "          dataTable['output_type'] = 'display_data';\n",
              "          await google.colab.output.renderOutput(dataTable, element);\n",
              "          const docLink = document.createElement('div');\n",
              "          docLink.innerHTML = docLinkHtml;\n",
              "          element.appendChild(docLink);\n",
              "        }\n",
              "      </script>\n",
              "    </div>\n",
              "  </div>\n",
              "  "
            ]
          },
          "metadata": {},
          "execution_count": 14
        }
      ],
      "source": [
        "df.describe().T.round()"
      ]
    },
    {
      "cell_type": "code",
      "execution_count": 15,
      "metadata": {
        "colab": {
          "base_uri": "https://localhost:8080/"
        },
        "id": "zUjTSr8C3T9t",
        "outputId": "0968497a-c040-495d-ce6c-7fc46db8d3ce"
      },
      "outputs": [
        {
          "output_type": "execute_result",
          "data": {
            "text/plain": [
              "status        0\n",
              "seniority     0\n",
              "home          0\n",
              "time          0\n",
              "age           0\n",
              "marital       0\n",
              "records       0\n",
              "job           0\n",
              "expenses      0\n",
              "income       34\n",
              "assets       47\n",
              "debt         18\n",
              "amount        0\n",
              "price         0\n",
              "dtype: int64"
            ]
          },
          "metadata": {},
          "execution_count": 15
        }
      ],
      "source": [
        "df.isna().sum()"
      ]
    },
    {
      "cell_type": "markdown",
      "metadata": {
        "id": "gBfTRnc74sqy"
      },
      "source": [
        "We notice that there’s one row with “unknown” status: we don’t know whether this client\n",
        "managed to pay back the loan or not. For our project, this row is not useful"
      ]
    },
    {
      "cell_type": "code",
      "execution_count": 16,
      "metadata": {
        "id": "AZyqFBPe3ipL"
      },
      "outputs": [],
      "source": [
        "df = df[df.status != 'unk']"
      ]
    },
    {
      "cell_type": "markdown",
      "metadata": {
        "id": "e71srGg-5Ioa"
      },
      "source": [
        "# Dataset preparation"
      ]
    },
    {
      "cell_type": "markdown",
      "metadata": {
        "id": "RohaCtyR666n"
      },
      "source": [
        "Separate target from features. Since our objective is to determine if somebody fails to pay back their credit, the positive class is “default”. This means that y is “1” if the client defaulted and\n",
        "“0” otherwise."
      ]
    },
    {
      "cell_type": "code",
      "execution_count": 17,
      "metadata": {
        "id": "5sCJtqRH6XUw"
      },
      "outputs": [],
      "source": [
        "data, target = df.drop(columns=['status']), df['status'].map({'ok':0, 'default':1})"
      ]
    },
    {
      "cell_type": "code",
      "execution_count": 18,
      "metadata": {
        "colab": {
          "base_uri": "https://localhost:8080/"
        },
        "id": "M7DSlchu7VC6",
        "outputId": "2430ce10-f579-4be7-a8a4-b54d8729acbd"
      },
      "outputs": [
        {
          "output_type": "execute_result",
          "data": {
            "text/plain": [
              "0    0\n",
              "1    0\n",
              "2    1\n",
              "3    0\n",
              "4    0\n",
              "Name: status, dtype: int64"
            ]
          },
          "metadata": {},
          "execution_count": 18
        }
      ],
      "source": [
        "target.head()"
      ]
    },
    {
      "cell_type": "markdown",
      "metadata": {
        "id": "mAZTyM5c5hfP"
      },
      "source": [
        "**Spliting data**"
      ]
    },
    {
      "cell_type": "markdown",
      "metadata": {
        "id": "XM6j6NkD-CPs"
      },
      "source": [
        "**impute missing values and make pipelines**"
      ]
    },
    {
      "cell_type": "code",
      "execution_count": 19,
      "metadata": {
        "id": "pmW6udgI9OTY"
      },
      "outputs": [],
      "source": [
        "from sklearn import model_selection\n",
        "from sklearn.impute import SimpleImputer\n",
        "from sklearn.preprocessing import OrdinalEncoder\n",
        "from sklearn.compose import (\n",
        "    make_column_selector as selector, \n",
        "    ColumnTransformer, \n",
        "    make_column_transformer,\n",
        ")    \n",
        "from sklearn.pipeline import Pipeline, make_pipeline"
      ]
    },
    {
      "cell_type": "code",
      "source": [
        "X_full_train, X_test, y_full_train, y_test = model_selection.train_test_split(\n",
        "      data,\n",
        "      target,\n",
        "      test_size=.2,\n",
        "      random_state=11,\n",
        "    )\n",
        "X_train, X_dev, y_train, y_dev = model_selection.train_test_split(\n",
        "      X_full_train,\n",
        "      y_full_train,\n",
        "      test_size=.25,\n",
        "      random_state=11,\n",
        "    )"
      ],
      "metadata": {
        "id": "mB_zIlRxmLpm"
      },
      "execution_count": 20,
      "outputs": []
    },
    {
      "cell_type": "code",
      "execution_count": 21,
      "metadata": {
        "id": "EOmt-SRltx-3"
      },
      "outputs": [],
      "source": [
        "def tweaking(data, target, pipeline=False, origin=False):\n",
        "  X = data.copy()\n",
        "\n",
        "  numerical = selector(dtype_include=np.number)(data)\n",
        "  categorical = selector(dtype_include=object)(data)\n",
        "\n",
        "  num_imputer = SimpleImputer(missing_values=np.NaN, strategy='constant', fill_value=0)\n",
        "  cat_imputer = SimpleImputer(strategy='most_frequent', fill_value='unk')\n",
        "  cat_encoder = OrdinalEncoder(handle_unknown='use_encoded_value', unknown_value=-1)\n",
        "  \n",
        "  if pipeline:\n",
        "    cat_preprocessor = Pipeline([\n",
        "      ('category_imputer', cat_imputer),\n",
        "      ('category_encoder', cat_encoder)\n",
        "    ])\n",
        "    \n",
        "    processor = ColumnTransformer([\n",
        "      ('numeric', num_imputer, numerical),\n",
        "      ('category', cat_preprocessor, categorical)\n",
        "    ])\n",
        "    \n",
        "    return processor\n",
        "\n",
        "  elif origin:\n",
        "    X.loc[:, numerical] = num_imputer.fit_transform(X[numerical])\n",
        "    X.loc[:, categorical] = cat_imputer.fit_transform(X[categorical])\n",
        "    X.loc[:, categorical] = cat_encoder.fit_transform(X[categorical])\n",
        "\n",
        "    return X\n",
        "\n",
        "  else:\n",
        "    X_full_train, X_test, y_full_train, y_test = model_selection.train_test_split(\n",
        "      data,\n",
        "      target,\n",
        "      test_size=.2,\n",
        "      random_state=11,\n",
        "    )\n",
        "    X_train, X_dev, y_train, y_dev = model_selection.train_test_split(\n",
        "          X_full_train,\n",
        "          y_full_train,\n",
        "          test_size=.25,\n",
        "          random_state=11,\n",
        "        )\n",
        "\n",
        "\n",
        "    X_train.loc[:, numerical] = num_imputer.fit_transform(X_train[numerical])\n",
        "    X_train.loc[:, categorical] = cat_imputer.fit_transform(X_train[categorical])\n",
        "    X_train.loc[:, categorical] = cat_encoder.fit_transform(X_train[categorical])\n",
        "\n",
        "    X_dev.loc[:, numerical] = num_imputer.transform(X_dev[numerical])\n",
        "    X_dev.loc[:, categorical] = cat_imputer.transform(X_dev[categorical])\n",
        "    X_dev.loc[:, categorical] = cat_encoder.transform(X_dev[categorical])\n",
        "\n",
        "    X_test.loc[:, numerical] = num_imputer.transform(X_test[numerical])\n",
        "    X_test.loc[:, categorical] = cat_imputer.transform(X_test[categorical])\n",
        "    X_test.loc[:, categorical] = cat_encoder.transform(X_test[categorical])\n",
        "\n",
        "    return X_train, y_train, X_dev, y_dev, X_test, y_test"
      ]
    },
    {
      "cell_type": "markdown",
      "metadata": {
        "id": "ZyNCVzxVB3R3"
      },
      "source": [
        "# Models"
      ]
    },
    {
      "cell_type": "markdown",
      "metadata": {
        "id": "771JiHqyB6Co"
      },
      "source": [
        "## Decision Trees"
      ]
    },
    {
      "cell_type": "code",
      "execution_count": 22,
      "metadata": {
        "colab": {
          "base_uri": "https://localhost:8080/"
        },
        "id": "ko89Tp84Bqq_",
        "outputId": "5d5f680d-d45f-4743-dd34-7fa0725aa106"
      },
      "outputs": [
        {
          "output_type": "execute_result",
          "data": {
            "text/plain": [
              "Pipeline(steps=[('columntransformer',\n",
              "                 ColumnTransformer(transformers=[('numeric',\n",
              "                                                  SimpleImputer(fill_value=0,\n",
              "                                                                strategy='constant'),\n",
              "                                                  ['seniority', 'time', 'age',\n",
              "                                                   'expenses', 'income',\n",
              "                                                   'assets', 'debt', 'amount',\n",
              "                                                   'price']),\n",
              "                                                 ('category',\n",
              "                                                  Pipeline(steps=[('category_imputer',\n",
              "                                                                   SimpleImputer(fill_value='unk',\n",
              "                                                                                 strategy='most_frequent')),\n",
              "                                                                  ('category_encoder',\n",
              "                                                                   OrdinalEncoder(handle_unknown='use_encoded_value',\n",
              "                                                                                  unknown_value=-1))]),\n",
              "                                                  ['home', 'marital', 'records',\n",
              "                                                   'job'])])),\n",
              "                ('decisiontreeclassifier', DecisionTreeClassifier())])"
            ]
          },
          "metadata": {},
          "execution_count": 22
        }
      ],
      "source": [
        "from sklearn.tree import DecisionTreeClassifier\n",
        "\n",
        "\n",
        "processor = tweaking(data, target, pipeline=True)\n",
        "# X_train, y_train, X_dev, y_dev, X_test, y_test = tweaking(data, target)\n",
        "\n",
        "dt = make_pipeline(processor, DecisionTreeClassifier())\n",
        "dt.fit(X_train, y_train)"
      ]
    },
    {
      "cell_type": "code",
      "execution_count": 23,
      "metadata": {
        "colab": {
          "base_uri": "https://localhost:8080/"
        },
        "id": "IcV8ePd3DE1z",
        "outputId": "0c3f9aa3-5419-4019-d505-ff8575ce2bc6"
      },
      "outputs": [
        {
          "output_type": "execute_result",
          "data": {
            "text/plain": [
              "1.0"
            ]
          },
          "metadata": {},
          "execution_count": 23
        }
      ],
      "source": [
        "from sklearn import metrics\n",
        "\n",
        "y_pred = dt.predict_proba(X_train)[:, 1]\n",
        "metrics.roc_auc_score(y_train, y_pred)"
      ]
    },
    {
      "cell_type": "code",
      "execution_count": 24,
      "metadata": {
        "colab": {
          "base_uri": "https://localhost:8080/"
        },
        "id": "I_67MGEAGWI3",
        "outputId": "1f6e1d70-e895-4b2e-af37-6c012f118ac8"
      },
      "outputs": [
        {
          "output_type": "execute_result",
          "data": {
            "text/plain": [
              "0.6554576057736553"
            ]
          },
          "metadata": {},
          "execution_count": 24
        }
      ],
      "source": [
        "y_pred = dt.predict_proba(X_dev)[:, 1]\n",
        "metrics.roc_auc_score(y_dev, y_pred)"
      ]
    },
    {
      "cell_type": "code",
      "execution_count": 25,
      "metadata": {
        "colab": {
          "base_uri": "https://localhost:8080/"
        },
        "id": "xQjDcsknGcjj",
        "outputId": "0cb6538f-73a0-4eba-fbe0-bdf230d0ad67"
      },
      "outputs": [
        {
          "output_type": "execute_result",
          "data": {
            "text/plain": [
              "0.4828897338403042"
            ]
          },
          "metadata": {},
          "execution_count": 25
        }
      ],
      "source": [
        "metrics.recall_score(y_dev, y_pred)"
      ]
    },
    {
      "cell_type": "markdown",
      "metadata": {
        "id": "6JgO_RplITzw"
      },
      "source": [
        "We just observed a case of overfitting. The tree learned the training data so well that it simply memorized the outcome for each customer. However, when we applied it to the validation set, the model failed. The rules it extracted from data turned out too specific to the training set, so it worked poorly for customers it didn’t see during training. In such cases, we say that the model cannot generalize. Overfitting happens when we have a complex model with enough power to remember all the training data. If we force the model to be simpler, we can make it less powerful, and improve the model’s ability to generalize. There are multiple ways of controlling the complexity of a tree. One of the options is restricting its size: we can specify the max_depth parameter, which controls the maximal number of levels. The more levels a tree has, the more complex rules it can learn."
      ]
    },
    {
      "cell_type": "markdown",
      "metadata": {
        "id": "Pr31GPj-KuXK"
      },
      "source": [
        "The default value for the `max_depth` parameter is `None`, which means that the tree can grow\n",
        "as large as possible. We can try a smaller value and compare the results."
      ]
    },
    {
      "cell_type": "code",
      "execution_count": 26,
      "metadata": {
        "colab": {
          "base_uri": "https://localhost:8080/"
        },
        "id": "t_4jVC3gHLEM",
        "outputId": "967a30cd-cf0b-4ee9-915f-e13892888b00"
      },
      "outputs": [
        {
          "output_type": "execute_result",
          "data": {
            "text/plain": [
              "Pipeline(steps=[('columntransformer',\n",
              "                 ColumnTransformer(transformers=[('numeric',\n",
              "                                                  SimpleImputer(fill_value=0,\n",
              "                                                                strategy='constant'),\n",
              "                                                  ['seniority', 'time', 'age',\n",
              "                                                   'expenses', 'income',\n",
              "                                                   'assets', 'debt', 'amount',\n",
              "                                                   'price']),\n",
              "                                                 ('category',\n",
              "                                                  Pipeline(steps=[('category_imputer',\n",
              "                                                                   SimpleImputer(fill_value='unk',\n",
              "                                                                                 strategy='most_frequent')),\n",
              "                                                                  ('category_encoder',\n",
              "                                                                   OrdinalEncoder(handle_unknown='use_encoded_value',\n",
              "                                                                                  unknown_value=-1))]),\n",
              "                                                  ['home', 'marital', 'records',\n",
              "                                                   'job'])])),\n",
              "                ('decisiontreeclassifier',\n",
              "                 DecisionTreeClassifier(max_depth=2))])"
            ]
          },
          "metadata": {},
          "execution_count": 26
        }
      ],
      "source": [
        "max_depth = 2\n",
        "\n",
        "dt = make_pipeline(processor, DecisionTreeClassifier(max_depth=max_depth))\n",
        "dt.fit(X_train, y_train)"
      ]
    },
    {
      "cell_type": "code",
      "execution_count": 27,
      "metadata": {
        "colab": {
          "base_uri": "https://localhost:8080/"
        },
        "id": "q75X8PNcK9Or",
        "outputId": "b49d1048-b433-4195-bc59-f1d3d30ebf6e"
      },
      "outputs": [
        {
          "output_type": "stream",
          "name": "stdout",
          "text": [
            "|--- feature_11 <= 0.50\n",
            "|   |--- feature_12 <= 2.50\n",
            "|   |   |--- class: 0\n",
            "|   |--- feature_12 >  2.50\n",
            "|   |   |--- class: 1\n",
            "|--- feature_11 >  0.50\n",
            "|   |--- feature_0 <= 6.50\n",
            "|   |   |--- class: 1\n",
            "|   |--- feature_0 >  6.50\n",
            "|   |   |--- class: 0\n",
            "\n"
          ]
        }
      ],
      "source": [
        "from sklearn.tree import export_text\n",
        "\n",
        "\n",
        "tree_text = export_text(dt[1])\n",
        "print(tree_text)"
      ]
    },
    {
      "cell_type": "code",
      "execution_count": 28,
      "metadata": {
        "colab": {
          "base_uri": "https://localhost:8080/"
        },
        "id": "J78l5g1-O_nl",
        "outputId": "a53d9e0e-f921-485d-b311-52a018d8132f"
      },
      "outputs": [
        {
          "output_type": "stream",
          "name": "stdout",
          "text": [
            "AUC train set: 0.7061968339811842\n"
          ]
        }
      ],
      "source": [
        "y_pred = dt.predict_proba(X_train)[:, 1]\n",
        "print(f\"AUC train set: {metrics.roc_auc_score(y_train, y_pred)}\")"
      ]
    },
    {
      "cell_type": "code",
      "execution_count": 29,
      "metadata": {
        "colab": {
          "base_uri": "https://localhost:8080/"
        },
        "id": "pvjMefDcM3Px",
        "outputId": "daf05b52-3295-4573-ce24-04692b67dded"
      },
      "outputs": [
        {
          "output_type": "stream",
          "name": "stdout",
          "text": [
            "AUC dev set: 0.6685264343319367\n"
          ]
        }
      ],
      "source": [
        "y_pred = dt.predict_proba(X_dev)[:, 1]\n",
        "print(f\"AUC dev set: {metrics.roc_auc_score(y_dev, y_pred)}\")"
      ]
    },
    {
      "cell_type": "code",
      "execution_count": 30,
      "metadata": {
        "colab": {
          "base_uri": "https://localhost:8080/"
        },
        "id": "J8OYqca_OooQ",
        "outputId": "f8ef750e-0ac0-47d8-af27-3daad6aa2b5c"
      },
      "outputs": [
        {
          "output_type": "stream",
          "name": "stdout",
          "text": [
            "Recall dev set: 0.38022813688212925\n"
          ]
        }
      ],
      "source": [
        "y_pred_rec = dt.predict(X_dev)\n",
        "print(f\"Recall dev set: {metrics.recall_score(y_dev, y_pred_rec)}\")"
      ]
    },
    {
      "cell_type": "code",
      "execution_count": 31,
      "metadata": {
        "colab": {
          "base_uri": "https://localhost:8080/"
        },
        "id": "XhlvKoaZPmDL",
        "outputId": "ff09752d-f788-43dd-bd81-eff3647de8af"
      },
      "outputs": [
        {
          "output_type": "stream",
          "name": "stdout",
          "text": [
            "max_depth: 5 ---> auc: 0.767\n",
            "max_depth: 8 ---> auc: 0.728\n",
            "max_depth: 15 ---> auc: 0.657\n",
            "max_depth: 25 ---> auc: 0.651\n",
            "max_depth: 30 ---> auc: 0.658\n",
            "max_depth: None ---> auc: 0.648\n"
          ]
        }
      ],
      "source": [
        "auc = []\n",
        "\n",
        "for depth in [5, 8, 15, 25, 30, None]:\n",
        "  dt = make_pipeline(processor, DecisionTreeClassifier(max_depth=depth))\n",
        "  dt.fit(X_train, y_train)\n",
        "  preds = dt.predict_proba(X_dev)[:, 1]\n",
        "  score = metrics.roc_auc_score(y_dev, preds)\n",
        "  auc.append((depth, score))\n",
        "  # print(f\"max_depth: {depth} ---> auc: {score}\")\n",
        "\n",
        "for depth, score in auc:\n",
        "  print(f\"max_depth: {depth} ---> auc: {score:.3f}\")"
      ]
    },
    {
      "cell_type": "code",
      "execution_count": 32,
      "metadata": {
        "colab": {
          "base_uri": "https://localhost:8080/"
        },
        "id": "LLUh7l6icZdy",
        "outputId": "d36b55c8-b890-4f49-81af-c412abcbdf10"
      },
      "outputs": [
        {
          "output_type": "stream",
          "name": "stdout",
          "text": [
            "memory\n",
            "steps\n",
            "verbose\n",
            "columntransformer\n",
            "decisiontreeclassifier\n",
            "columntransformer__n_jobs\n",
            "columntransformer__remainder\n",
            "columntransformer__sparse_threshold\n",
            "columntransformer__transformer_weights\n",
            "columntransformer__transformers\n",
            "columntransformer__verbose\n",
            "columntransformer__verbose_feature_names_out\n",
            "columntransformer__numeric\n",
            "columntransformer__category\n",
            "columntransformer__numeric__add_indicator\n",
            "columntransformer__numeric__copy\n",
            "columntransformer__numeric__fill_value\n",
            "columntransformer__numeric__missing_values\n",
            "columntransformer__numeric__strategy\n",
            "columntransformer__numeric__verbose\n",
            "columntransformer__category__memory\n",
            "columntransformer__category__steps\n",
            "columntransformer__category__verbose\n",
            "columntransformer__category__category_imputer\n",
            "columntransformer__category__category_encoder\n",
            "columntransformer__category__category_imputer__add_indicator\n",
            "columntransformer__category__category_imputer__copy\n",
            "columntransformer__category__category_imputer__fill_value\n",
            "columntransformer__category__category_imputer__missing_values\n",
            "columntransformer__category__category_imputer__strategy\n",
            "columntransformer__category__category_imputer__verbose\n",
            "columntransformer__category__category_encoder__categories\n",
            "columntransformer__category__category_encoder__dtype\n",
            "columntransformer__category__category_encoder__handle_unknown\n",
            "columntransformer__category__category_encoder__unknown_value\n",
            "decisiontreeclassifier__ccp_alpha\n",
            "decisiontreeclassifier__class_weight\n",
            "decisiontreeclassifier__criterion\n",
            "decisiontreeclassifier__max_depth\n",
            "decisiontreeclassifier__max_features\n",
            "decisiontreeclassifier__max_leaf_nodes\n",
            "decisiontreeclassifier__min_impurity_decrease\n",
            "decisiontreeclassifier__min_samples_leaf\n",
            "decisiontreeclassifier__min_samples_split\n",
            "decisiontreeclassifier__min_weight_fraction_leaf\n",
            "decisiontreeclassifier__random_state\n",
            "decisiontreeclassifier__splitter\n"
          ]
        }
      ],
      "source": [
        "for i in dt.get_params().keys():\n",
        "  print(i)"
      ]
    },
    {
      "cell_type": "code",
      "execution_count": 33,
      "metadata": {
        "colab": {
          "base_uri": "https://localhost:8080/"
        },
        "id": "mPI0odTbbgQL",
        "outputId": "b268274c-f308-4d83-d7d3-c0c8e2d3f343"
      },
      "outputs": [
        {
          "output_type": "stream",
          "name": "stdout",
          "text": [
            "min samples leaf: 1, max_depth: 5 ---> AUC: 0.767\n",
            "min samples leaf: 1, max_depth: 8 ---> AUC: 0.733\n",
            "min samples leaf: 1, max_depth: 15 ---> AUC: 0.663\n",
            "min samples leaf: 1, max_depth: 25 ---> AUC: 0.644\n",
            "min samples leaf: 1, max_depth: 30 ---> AUC: 0.650\n",
            "min samples leaf: 1, max_depth: None ---> AUC: 0.648\n",
            "min samples leaf: 5, max_depth: 5 ---> AUC: 0.768\n",
            "min samples leaf: 5, max_depth: 8 ---> AUC: 0.747\n",
            "min samples leaf: 5, max_depth: 15 ---> AUC: 0.711\n",
            "min samples leaf: 5, max_depth: 25 ---> AUC: 0.717\n",
            "min samples leaf: 5, max_depth: 30 ---> AUC: 0.719\n",
            "min samples leaf: 5, max_depth: None ---> AUC: 0.715\n",
            "min samples leaf: 10, max_depth: 5 ---> AUC: 0.767\n",
            "min samples leaf: 10, max_depth: 8 ---> AUC: 0.766\n",
            "min samples leaf: 10, max_depth: 15 ---> AUC: 0.761\n",
            "min samples leaf: 10, max_depth: 25 ---> AUC: 0.764\n",
            "min samples leaf: 10, max_depth: 30 ---> AUC: 0.765\n",
            "min samples leaf: 10, max_depth: None ---> AUC: 0.762\n",
            "min samples leaf: 15, max_depth: 5 ---> AUC: 0.773\n",
            "min samples leaf: 15, max_depth: 8 ---> AUC: 0.782\n",
            "min samples leaf: 15, max_depth: 15 ---> AUC: 0.789\n",
            "min samples leaf: 15, max_depth: 25 ---> AUC: 0.790\n",
            "min samples leaf: 15, max_depth: 30 ---> AUC: 0.790\n",
            "min samples leaf: 15, max_depth: None ---> AUC: 0.789\n",
            "min samples leaf: 20, max_depth: 5 ---> AUC: 0.774\n",
            "min samples leaf: 20, max_depth: 8 ---> AUC: 0.779\n",
            "min samples leaf: 20, max_depth: 15 ---> AUC: 0.781\n",
            "min samples leaf: 20, max_depth: 25 ---> AUC: 0.782\n",
            "min samples leaf: 20, max_depth: 30 ---> AUC: 0.781\n",
            "min samples leaf: 20, max_depth: None ---> AUC: 0.781\n",
            "min samples leaf: 50, max_depth: 5 ---> AUC: 0.767\n",
            "min samples leaf: 50, max_depth: 8 ---> AUC: 0.779\n",
            "min samples leaf: 50, max_depth: 15 ---> AUC: 0.775\n",
            "min samples leaf: 50, max_depth: 25 ---> AUC: 0.773\n",
            "min samples leaf: 50, max_depth: 30 ---> AUC: 0.775\n",
            "min samples leaf: 50, max_depth: None ---> AUC: 0.775\n",
            "min samples leaf: 100, max_depth: 5 ---> AUC: 0.763\n",
            "min samples leaf: 100, max_depth: 8 ---> AUC: 0.780\n",
            "min samples leaf: 100, max_depth: 15 ---> AUC: 0.780\n",
            "min samples leaf: 100, max_depth: 25 ---> AUC: 0.780\n",
            "min samples leaf: 100, max_depth: 30 ---> AUC: 0.780\n",
            "min samples leaf: 100, max_depth: None ---> AUC: 0.780\n",
            "min samples leaf: 200, max_depth: 5 ---> AUC: 0.759\n",
            "min samples leaf: 200, max_depth: 8 ---> AUC: 0.768\n",
            "min samples leaf: 200, max_depth: 15 ---> AUC: 0.768\n",
            "min samples leaf: 200, max_depth: 25 ---> AUC: 0.768\n",
            "min samples leaf: 200, max_depth: 30 ---> AUC: 0.768\n",
            "min samples leaf: 200, max_depth: None ---> AUC: 0.768\n"
          ]
        }
      ],
      "source": [
        "auc = []\n",
        "\n",
        "for min_leaf in [1, 5, 10, 15, 20, 50, 100, 200]:\n",
        "  for depth in [5, 8, 15, 25, 30, None]:\n",
        "    dt.set_params(\n",
        "        decisiontreeclassifier__min_samples_leaf=min_leaf, \n",
        "        decisiontreeclassifier__max_depth=depth\n",
        "    )\n",
        "    dt.fit(X_train, y_train)\n",
        "    preds = dt.predict_proba(X_dev)[:, 1]\n",
        "    res = metrics.roc_auc_score(y_dev, preds)\n",
        "    auc.append((min_leaf, depth, res))\n",
        "\n",
        "for min_leaf, depth, score in auc:\n",
        "  print(f\"min samples leaf: {min_leaf}, max_depth: {depth} ---> AUC: {score:.3f}\")"
      ]
    },
    {
      "cell_type": "code",
      "execution_count": 34,
      "metadata": {
        "colab": {
          "base_uri": "https://localhost:8080/"
        },
        "id": "1gNBeg7DgIG-",
        "outputId": "b39e6f01-52c6-429f-a995-a05f3db49093"
      },
      "outputs": [
        {
          "output_type": "execute_result",
          "data": {
            "text/plain": [
              "[(15, 30, 0.790311448015306),\n",
              " (15, 25, 0.7902842023685549),\n",
              " (15, 15, 0.7889007289724154),\n",
              " (15, None, 0.7888250466203289),\n",
              " (20, 25, 0.7822649003414788),\n",
              " (15, 8, 0.7817048509360393),\n",
              " (20, 30, 0.7812447022353539),\n",
              " (20, 15, 0.7805484245961589),\n",
              " (20, None, 0.7805030151849071),\n",
              " (100, 15, 0.779812792133879),\n",
              " (100, 25, 0.779812792133879),\n",
              " (100, None, 0.779812792133879),\n",
              " (100, 8, 0.7795615267249522),\n",
              " (100, 30, 0.7795615267249522),\n",
              " (50, 8, 0.7791467874355187),\n",
              " (20, 8, 0.7787199389697513),\n",
              " (50, 15, 0.7748268387784263),\n",
              " (50, 30, 0.7748268387784263),\n",
              " (50, None, 0.7748268387784263),\n",
              " (20, 5, 0.7735372114988738),\n",
              " (50, 25, 0.7733828195006176),\n",
              " (15, 5, 0.7727228693904241),\n",
              " (200, 8, 0.7684786030854182),\n",
              " (200, 15, 0.7684786030854182),\n",
              " (200, 25, 0.7684786030854182),\n",
              " (200, 30, 0.7684786030854182),\n",
              " (200, None, 0.7684786030854182),\n",
              " (5, 5, 0.7677702162698894),\n",
              " (10, 5, 0.7672949310987867),\n",
              " (1, 5, 0.7669528468673561),\n",
              " (50, 5, 0.7665108619311714),\n",
              " (10, 8, 0.7655239640599647),\n",
              " (10, 30, 0.7650547334770288),\n",
              " (10, 25, 0.763795379138311),\n",
              " (100, 5, 0.7634714586713811),\n",
              " (10, None, 0.7624966699765081),\n",
              " (10, 15, 0.7612736431667918),\n",
              " (200, 5, 0.7590728003681189),\n",
              " (5, 8, 0.7473813906178102),\n",
              " (1, 8, 0.7330562350148943),\n",
              " (5, 30, 0.7185978784723063),\n",
              " (5, 25, 0.7165151001428882),\n",
              " (5, None, 0.7145413044004747),\n",
              " (5, 15, 0.7112899905548423),\n",
              " (1, 15, 0.6626504565159477),\n",
              " (1, 30, 0.6501931413625245),\n",
              " (1, None, 0.6482920006781139),\n",
              " (1, 25, 0.644002324961856)]"
            ]
          },
          "metadata": {},
          "execution_count": 34
        }
      ],
      "source": [
        "sorted(auc, key=lambda x: x[-1], reverse=True)"
      ]
    },
    {
      "cell_type": "markdown",
      "metadata": {
        "id": "O8n8kGP9hPHO"
      },
      "source": [
        "The best AUC is 79.15% with parameters min_sample_leaf=15 and\n",
        "max_depth=15"
      ]
    },
    {
      "cell_type": "code",
      "execution_count": 35,
      "metadata": {
        "colab": {
          "base_uri": "https://localhost:8080/"
        },
        "id": "HS6J-Kqog6AR",
        "outputId": "897b5e58-5c94-4b30-c566-74ff305f45ea"
      },
      "outputs": [
        {
          "output_type": "stream",
          "name": "stdout",
          "text": [
            "AUC:0.7909774527136665\n",
            "Recall:0.49429657794676807\n"
          ]
        }
      ],
      "source": [
        "dt.set_params(\n",
        "        decisiontreeclassifier__min_samples_leaf=15, \n",
        "        decisiontreeclassifier__max_depth=15\n",
        "    )\n",
        "dt.fit(X_train, y_train)\n",
        "\n",
        "preds = dt.predict_proba(X_dev)[:, 1]\n",
        "pred_r = dt.predict(X_dev)\n",
        "\n",
        "print(f\"AUC:{metrics.roc_auc_score(y_dev, preds)}\")\n",
        "print(f\"Recall:{metrics.recall_score(y_dev, pred_r)}\")"
      ]
    },
    {
      "cell_type": "code",
      "execution_count": 36,
      "metadata": {
        "id": "bHQzNTBDiTrV",
        "colab": {
          "base_uri": "https://localhost:8080/"
        },
        "outputId": "b9dd3f11-0476-4c29-f00b-2809c7ba7829"
      },
      "outputs": [
        {
          "output_type": "stream",
          "name": "stdout",
          "text": [
            "\u001b[K     |████████████████████████████████| 348 kB 5.8 MB/s \n",
            "\u001b[K     |████████████████████████████████| 209 kB 9.8 MB/s \n",
            "\u001b[K     |████████████████████████████████| 81 kB 4.4 MB/s \n",
            "\u001b[K     |████████████████████████████████| 78 kB 5.2 MB/s \n",
            "\u001b[K     |████████████████████████████████| 112 kB 7.9 MB/s \n",
            "\u001b[K     |████████████████████████████████| 147 kB 11.1 MB/s \n",
            "\u001b[K     |████████████████████████████████| 49 kB 5.0 MB/s \n",
            "\u001b[?25h  Building wheel for pyperclip (setup.py) ... \u001b[?25l\u001b[?25hdone\n"
          ]
        }
      ],
      "source": [
        "!pip install optuna --quiet"
      ]
    },
    {
      "cell_type": "code",
      "execution_count": 37,
      "metadata": {
        "colab": {
          "base_uri": "https://localhost:8080/"
        },
        "id": "sbyfCltejGft",
        "outputId": "6a4b0388-203a-40e1-eeeb-5c9410e0435d"
      },
      "outputs": [
        {
          "output_type": "stream",
          "name": "stderr",
          "text": [
            "\u001b[32m[I 2022-10-13 08:36:34,247]\u001b[0m A new study created in memory with name: no-name-f7139352-d50d-4e28-be50-2e9873046e9e\u001b[0m\n",
            "\u001b[32m[I 2022-10-13 08:36:34,268]\u001b[0m Trial 0 finished with value: -0.7695727277345933 and parameters: {'min_samples_leaf': 24, 'max_depth': 30, 'max_features': 'log2'}. Best is trial 0 with value: -0.7695727277345933.\u001b[0m\n",
            "\u001b[32m[I 2022-10-13 08:36:34,327]\u001b[0m Trial 1 finished with value: -0.7778444596860234 and parameters: {'min_samples_leaf': 9, 'max_depth': 29, 'max_features': 'sqrt'}. Best is trial 1 with value: -0.7778444596860234.\u001b[0m\n",
            "\u001b[32m[I 2022-10-13 08:36:34,348]\u001b[0m Trial 2 finished with value: -0.797702967027384 and parameters: {'min_samples_leaf': 117, 'max_depth': 21, 'max_features': 'log2'}. Best is trial 2 with value: -0.797702967027384.\u001b[0m\n",
            "\u001b[32m[I 2022-10-13 08:36:34,377]\u001b[0m Trial 3 finished with value: -0.7493966874968246 and parameters: {'min_samples_leaf': 134, 'max_depth': 24, 'max_features': 'sqrt'}. Best is trial 2 with value: -0.797702967027384.\u001b[0m\n",
            "\u001b[32m[I 2022-10-13 08:36:34,399]\u001b[0m Trial 4 finished with value: -0.7833282528069908 and parameters: {'min_samples_leaf': 13, 'max_depth': 15, 'max_features': 'log2'}. Best is trial 2 with value: -0.797702967027384.\u001b[0m\n",
            "\u001b[32m[I 2022-10-13 08:36:34,414]\u001b[0m Trial 5 finished with value: -0.7586718234009043 and parameters: {'min_samples_leaf': 155, 'max_depth': 21, 'max_features': 'sqrt'}. Best is trial 2 with value: -0.797702967027384.\u001b[0m\n",
            "\u001b[32m[I 2022-10-13 08:36:34,430]\u001b[0m Trial 6 finished with value: -0.7694584158918862 and parameters: {'min_samples_leaf': 135, 'max_depth': 12, 'max_features': 'log2'}. Best is trial 2 with value: -0.797702967027384.\u001b[0m\n",
            "\u001b[32m[I 2022-10-13 08:36:34,455]\u001b[0m Trial 7 finished with value: -0.7786827465325409 and parameters: {'min_samples_leaf': 177, 'max_depth': 27, 'max_features': None}. Best is trial 2 with value: -0.797702967027384.\u001b[0m\n",
            "\u001b[32m[I 2022-10-13 08:36:34,478]\u001b[0m Trial 8 finished with value: -0.7865861403241377 and parameters: {'min_samples_leaf': 196, 'max_depth': 18, 'max_features': None}. Best is trial 2 with value: -0.797702967027384.\u001b[0m\n",
            "\u001b[32m[I 2022-10-13 08:36:34,504]\u001b[0m Trial 9 finished with value: -0.8124174414469338 and parameters: {'min_samples_leaf': 101, 'max_depth': 10, 'max_features': None}. Best is trial 9 with value: -0.8124174414469338.\u001b[0m\n",
            "\u001b[32m[I 2022-10-13 08:36:34,541]\u001b[0m Trial 10 finished with value: -0.79951290453691 and parameters: {'min_samples_leaf': 73, 'max_depth': 5, 'max_features': None}. Best is trial 9 with value: -0.8124174414469338.\u001b[0m\n",
            "\u001b[32m[I 2022-10-13 08:36:34,575]\u001b[0m Trial 11 finished with value: -0.8001606716455825 and parameters: {'min_samples_leaf': 67, 'max_depth': 5, 'max_features': None}. Best is trial 9 with value: -0.8124174414469338.\u001b[0m\n",
            "\u001b[32m[I 2022-10-13 08:36:34,609]\u001b[0m Trial 12 finished with value: -0.79951290453691 and parameters: {'min_samples_leaf': 80, 'max_depth': 5, 'max_features': None}. Best is trial 9 with value: -0.8124174414469338.\u001b[0m\n",
            "\u001b[32m[I 2022-10-13 08:36:34,639]\u001b[0m Trial 13 finished with value: -0.7926446679876035 and parameters: {'min_samples_leaf': 51, 'max_depth': 11, 'max_features': None}. Best is trial 9 with value: -0.8124174414469338.\u001b[0m\n",
            "\u001b[32m[I 2022-10-13 08:36:34,663]\u001b[0m Trial 14 finished with value: -0.8103407763044251 and parameters: {'min_samples_leaf': 95, 'max_depth': 9, 'max_features': None}. Best is trial 9 with value: -0.8124174414469338.\u001b[0m\n",
            "\u001b[32m[I 2022-10-13 08:36:34,691]\u001b[0m Trial 15 finished with value: -0.814074963166184 and parameters: {'min_samples_leaf': 109, 'max_depth': 9, 'max_features': None}. Best is trial 15 with value: -0.814074963166184.\u001b[0m\n",
            "\u001b[32m[I 2022-10-13 08:36:34,717]\u001b[0m Trial 16 finished with value: -0.8151609256718996 and parameters: {'min_samples_leaf': 113, 'max_depth': 9, 'max_features': None}. Best is trial 16 with value: -0.8151609256718996.\u001b[0m\n",
            "\u001b[32m[I 2022-10-13 08:36:34,742]\u001b[0m Trial 17 finished with value: -0.8123920388152213 and parameters: {'min_samples_leaf': 146, 'max_depth': 14, 'max_features': None}. Best is trial 16 with value: -0.8151609256718996.\u001b[0m\n",
            "\u001b[32m[I 2022-10-13 08:36:34,765]\u001b[0m Trial 18 finished with value: -0.8143670934308795 and parameters: {'min_samples_leaf': 111, 'max_depth': 8, 'max_features': None}. Best is trial 16 with value: -0.8151609256718996.\u001b[0m\n",
            "\u001b[32m[I 2022-10-13 08:36:34,784]\u001b[0m Trial 19 finished with value: -0.7165256820606615 and parameters: {'min_samples_leaf': 171, 'max_depth': 8, 'max_features': 'sqrt'}. Best is trial 16 with value: -0.8151609256718996.\u001b[0m\n",
            "\u001b[32m[I 2022-10-13 08:36:34,812]\u001b[0m Trial 20 finished with value: -0.789831326525428 and parameters: {'min_samples_leaf': 43, 'max_depth': 15, 'max_features': None}. Best is trial 16 with value: -0.8151609256718996.\u001b[0m\n",
            "\u001b[32m[I 2022-10-13 08:36:34,836]\u001b[0m Trial 21 finished with value: -0.813874917441447 and parameters: {'min_samples_leaf': 109, 'max_depth': 8, 'max_features': None}. Best is trial 16 with value: -0.8151609256718996.\u001b[0m\n",
            "\u001b[32m[I 2022-10-13 08:36:34,865]\u001b[0m Trial 22 finished with value: -0.814389320733628 and parameters: {'min_samples_leaf': 121, 'max_depth': 13, 'max_features': None}. Best is trial 16 with value: -0.8151609256718996.\u001b[0m\n",
            "\u001b[32m[I 2022-10-13 08:36:34,891]\u001b[0m Trial 23 finished with value: -0.8204637250419143 and parameters: {'min_samples_leaf': 128, 'max_depth': 13, 'max_features': None}. Best is trial 23 with value: -0.8204637250419143.\u001b[0m\n",
            "\u001b[32m[I 2022-10-13 08:36:34,914]\u001b[0m Trial 24 finished with value: -0.8149577046181985 and parameters: {'min_samples_leaf': 129, 'max_depth': 18, 'max_features': None}. Best is trial 23 with value: -0.8204637250419143.\u001b[0m\n",
            "\u001b[32m[I 2022-10-13 08:36:34,944]\u001b[0m Trial 25 finished with value: -0.809664431235076 and parameters: {'min_samples_leaf': 92, 'max_depth': 18, 'max_features': None}. Best is trial 23 with value: -0.8204637250419143.\u001b[0m\n",
            "\u001b[32m[I 2022-10-13 08:36:34,975]\u001b[0m Trial 26 finished with value: -0.8092897424173146 and parameters: {'min_samples_leaf': 157, 'max_depth': 17, 'max_features': None}. Best is trial 23 with value: -0.8204637250419143.\u001b[0m\n",
            "\u001b[32m[I 2022-10-13 08:36:35,001]\u001b[0m Trial 27 finished with value: -0.803212162780064 and parameters: {'min_samples_leaf': 136, 'max_depth': 22, 'max_features': None}. Best is trial 23 with value: -0.8204637250419143.\u001b[0m\n",
            "\u001b[32m[I 2022-10-13 08:36:35,021]\u001b[0m Trial 28 finished with value: -0.7576049128689732 and parameters: {'min_samples_leaf': 130, 'max_depth': 19, 'max_features': 'log2'}. Best is trial 23 with value: -0.8204637250419143.\u001b[0m\n",
            "\u001b[32m[I 2022-10-13 08:36:35,042]\u001b[0m Trial 29 finished with value: -0.7882754153330285 and parameters: {'min_samples_leaf': 167, 'max_depth': 16, 'max_features': 'sqrt'}. Best is trial 23 with value: -0.8204637250419143.\u001b[0m\n",
            "\u001b[32m[I 2022-10-13 08:36:35,061]\u001b[0m Trial 30 finished with value: -0.7561220342427475 and parameters: {'min_samples_leaf': 187, 'max_depth': 13, 'max_features': 'log2'}. Best is trial 23 with value: -0.8204637250419143.\u001b[0m\n",
            "\u001b[32m[I 2022-10-13 08:36:35,087]\u001b[0m Trial 31 finished with value: -0.814389320733628 and parameters: {'min_samples_leaf': 123, 'max_depth': 12, 'max_features': None}. Best is trial 23 with value: -0.8204637250419143.\u001b[0m\n",
            "\u001b[32m[I 2022-10-13 08:36:35,111]\u001b[0m Trial 32 finished with value: -0.8123920388152213 and parameters: {'min_samples_leaf': 146, 'max_depth': 11, 'max_features': None}. Best is trial 23 with value: -0.8204637250419143.\u001b[0m\n",
            "\u001b[32m[I 2022-10-13 08:36:35,136]\u001b[0m Trial 33 finished with value: -0.814389320733628 and parameters: {'min_samples_leaf': 120, 'max_depth': 13, 'max_features': None}. Best is trial 23 with value: -0.8204637250419143.\u001b[0m\n",
            "\u001b[32m[I 2022-10-13 08:36:35,164]\u001b[0m Trial 34 finished with value: -0.812461896052431 and parameters: {'min_samples_leaf': 89, 'max_depth': 20, 'max_features': None}. Best is trial 23 with value: -0.8204637250419143.\u001b[0m\n",
            "\u001b[32m[I 2022-10-13 08:36:35,192]\u001b[0m Trial 35 finished with value: -0.7136456586902403 and parameters: {'min_samples_leaf': 124, 'max_depth': 16, 'max_features': 'sqrt'}. Best is trial 23 with value: -0.8204637250419143.\u001b[0m\n",
            "\u001b[32m[I 2022-10-13 08:36:35,211]\u001b[0m Trial 36 finished with value: -0.8034947670578672 and parameters: {'min_samples_leaf': 105, 'max_depth': 23, 'max_features': 'log2'}. Best is trial 23 with value: -0.8204637250419143.\u001b[0m\n",
            "\u001b[32m[I 2022-10-13 08:36:35,235]\u001b[0m Trial 37 finished with value: -0.8124587207234669 and parameters: {'min_samples_leaf': 146, 'max_depth': 14, 'max_features': None}. Best is trial 23 with value: -0.8204637250419143.\u001b[0m\n",
            "\u001b[32m[I 2022-10-13 08:36:35,260]\u001b[0m Trial 38 finished with value: -0.7645525326423818 and parameters: {'min_samples_leaf': 158, 'max_depth': 27, 'max_features': 'sqrt'}. Best is trial 23 with value: -0.8204637250419143.\u001b[0m\n",
            "\u001b[32m[I 2022-10-13 08:36:35,285]\u001b[0m Trial 39 finished with value: -0.804704567393182 and parameters: {'min_samples_leaf': 137, 'max_depth': 7, 'max_features': None}. Best is trial 23 with value: -0.8204637250419143.\u001b[0m\n",
            "\u001b[32m[I 2022-10-13 08:36:35,306]\u001b[0m Trial 40 finished with value: -0.7541247523243408 and parameters: {'min_samples_leaf': 83, 'max_depth': 12, 'max_features': 'log2'}. Best is trial 23 with value: -0.8204637250419143.\u001b[0m\n",
            "\u001b[32m[I 2022-10-13 08:36:35,333]\u001b[0m Trial 41 finished with value: -0.814389320733628 and parameters: {'min_samples_leaf': 121, 'max_depth': 11, 'max_features': None}. Best is trial 23 with value: -0.8204637250419143.\u001b[0m\n",
            "\u001b[32m[I 2022-10-13 08:36:35,359]\u001b[0m Trial 42 finished with value: -0.8143575674439872 and parameters: {'min_samples_leaf': 117, 'max_depth': 10, 'max_features': None}. Best is trial 23 with value: -0.8204637250419143.\u001b[0m\n",
            "\u001b[32m[I 2022-10-13 08:36:35,384]\u001b[0m Trial 43 finished with value: -0.8151895036325764 and parameters: {'min_samples_leaf': 127, 'max_depth': 14, 'max_features': None}. Best is trial 23 with value: -0.8204637250419143.\u001b[0m\n",
            "\u001b[32m[I 2022-10-13 08:36:35,410]\u001b[0m Trial 44 finished with value: -0.811242569730224 and parameters: {'min_samples_leaf': 133, 'max_depth': 15, 'max_features': None}. Best is trial 23 with value: -0.8204637250419143.\u001b[0m\n",
            "\u001b[32m[I 2022-10-13 08:36:35,436]\u001b[0m Trial 45 finished with value: -0.8124174414469338 and parameters: {'min_samples_leaf': 101, 'max_depth': 17, 'max_features': None}. Best is trial 23 with value: -0.8204637250419143.\u001b[0m\n",
            "\u001b[32m[I 2022-10-13 08:36:35,465]\u001b[0m Trial 46 finished with value: -0.8116204338769496 and parameters: {'min_samples_leaf': 144, 'max_depth': 14, 'max_features': None}. Best is trial 23 with value: -0.8204637250419143.\u001b[0m\n",
            "\u001b[32m[I 2022-10-13 08:36:35,494]\u001b[0m Trial 47 finished with value: -0.8149577046181985 and parameters: {'min_samples_leaf': 130, 'max_depth': 19, 'max_features': None}. Best is trial 23 with value: -0.8204637250419143.\u001b[0m\n",
            "\u001b[32m[I 2022-10-13 08:36:35,522]\u001b[0m Trial 48 finished with value: -0.8092897424173146 and parameters: {'min_samples_leaf': 154, 'max_depth': 19, 'max_features': None}. Best is trial 23 with value: -0.8204637250419143.\u001b[0m\n",
            "\u001b[32m[I 2022-10-13 08:36:35,548]\u001b[0m Trial 49 finished with value: -0.8149577046181985 and parameters: {'min_samples_leaf': 129, 'max_depth': 25, 'max_features': None}. Best is trial 23 with value: -0.8204637250419143.\u001b[0m\n"
          ]
        }
      ],
      "source": [
        "import optuna\n",
        "from functools import partial\n",
        "\n",
        "\n",
        "def optimize(trial, x, y):\n",
        "  min_samples_leaf = trial.suggest_int(\"min_samples_leaf\", 1, 200)\n",
        "  max_depth = trial.suggest_int(\"max_depth\", 5, 30)\n",
        "  # min_samples_split = trial.suggest_int(\"min_samples_split\", 2, 100)\n",
        "  max_features = trial.suggest_categorical(\"max_features\", [\"log2\", \"sqrt\", None])\n",
        "\n",
        "  model = DecisionTreeClassifier(\n",
        "      min_samples_leaf=min_samples_leaf, \n",
        "      max_depth=max_depth,\n",
        "      # min_samples_split=min_samples_split,\n",
        "      max_features=max_features,\n",
        "  )\n",
        "\n",
        "  kf = model_selection.KFold(n_splits=5)\n",
        "  auc = []\n",
        "\n",
        "  for idx in kf.split(X=x, y=y):\n",
        "    train_idx, dev_idx = idx[0], idx[1]\n",
        "    xtrain = x[train_idx]\n",
        "    ytrain = y[train_idx]\n",
        "\n",
        "    xdev = x[dev_idx]\n",
        "    ydev = y[dev_idx]\n",
        "\n",
        "    model.fit(xtrain, ytrain)\n",
        "\n",
        "    preds = model.predict_proba(xdev)[:, 1]\n",
        "    fold_accuracy = metrics.roc_auc_score(ydev, preds)\n",
        "    auc.append(fold_accuracy)\n",
        "\n",
        "    return -1 * np.mean(auc)\n",
        "\n",
        "X = tweaking(data, target, origin=True)\n",
        "optimization_function = partial(optimize,x=X.values, y=target.values)\n",
        "study = optuna.create_study(direction=\"minimize\")\n",
        "study.optimize(optimization_function, n_trials=50)"
      ]
    },
    {
      "cell_type": "code",
      "execution_count": 38,
      "metadata": {
        "colab": {
          "base_uri": "https://localhost:8080/"
        },
        "id": "MMhMadH2mDki",
        "outputId": "a7d287fa-ba28-430a-8795-34e1b54a3220"
      },
      "outputs": [
        {
          "output_type": "stream",
          "name": "stdout",
          "text": [
            "AUC: 0.776\n",
            "Recall: 0.498\n"
          ]
        }
      ],
      "source": [
        "#81.923, 82.278 83.18\n",
        "\n",
        "dt = make_pipeline(processor, DecisionTreeClassifier(\n",
        "    min_samples_leaf=52, \n",
        "    max_depth=17,  \n",
        "    max_features=None\n",
        "))\n",
        "\n",
        "X_train, y_train, X_dev, y_dev, X_test, y_test = tweaking(data, target)\n",
        "\n",
        "dt.fit(X_train, y_train)\n",
        "y_pred = dt.predict_proba(X_dev)[:,1]\n",
        "pred_r = dt.predict(X_dev)\n",
        "\n",
        "print(f\"AUC: {metrics.roc_auc_score(y_dev, y_pred):.3f}\")\n",
        "print(f\"Recall: {metrics.recall_score(y_dev, pred_r):.3f}\")"
      ]
    },
    {
      "cell_type": "code",
      "source": [
        "X_train.isna().sum()"
      ],
      "metadata": {
        "colab": {
          "base_uri": "https://localhost:8080/"
        },
        "id": "7DoIdaZpoKfM",
        "outputId": "847af938-1a3b-4d4e-830b-3197bd196eea"
      },
      "execution_count": 39,
      "outputs": [
        {
          "output_type": "execute_result",
          "data": {
            "text/plain": [
              "seniority    0\n",
              "home         0\n",
              "time         0\n",
              "age          0\n",
              "marital      0\n",
              "records      0\n",
              "job          0\n",
              "expenses     0\n",
              "income       0\n",
              "assets       0\n",
              "debt         0\n",
              "amount       0\n",
              "price        0\n",
              "dtype: int64"
            ]
          },
          "metadata": {},
          "execution_count": 39
        }
      ]
    },
    {
      "cell_type": "markdown",
      "source": [
        "# Random Forest"
      ],
      "metadata": {
        "id": "O3oUl0EA5zfS"
      }
    },
    {
      "cell_type": "code",
      "source": [
        "from sklearn.ensemble import RandomForestClassifier\n",
        "\n",
        "rf = RandomForestClassifier(n_estimators=10, n_jobs=-1, random_state=3)\n",
        "rf.fit(X_train, y_train)\n",
        "y_pred = rf.predict_proba(X_dev)[:, 1]\n",
        "\n",
        "metrics.roc_auc_score(y_dev, y_pred)"
      ],
      "metadata": {
        "id": "5Zotf_W9L_gx",
        "colab": {
          "base_uri": "https://localhost:8080/"
        },
        "outputId": "c9aaa239-9b02-45ac-da02-714530ba734a"
      },
      "execution_count": 40,
      "outputs": [
        {
          "output_type": "execute_result",
          "data": {
            "text/plain": [
              "0.7734312562059529"
            ]
          },
          "metadata": {},
          "execution_count": 40
        }
      ]
    },
    {
      "cell_type": "markdown",
      "source": [
        "The number of trees in the ensemble is an important parameter and it influences the\n",
        "performance of the model. Usually, a model with more trees is better than a model with fewer\n",
        "trees. On the other hand, adding too many trees is not always helpful."
      ],
      "metadata": {
        "id": "CXn2hxSW7Uh4"
      }
    },
    {
      "cell_type": "code",
      "source": [
        "auc = []\n",
        "for i in [120, 300, 500, 800, 1200]:\n",
        "  rf = RandomForestClassifier(n_estimators=i, n_jobs=-1, random_state=3)\n",
        "  rf.fit(X_train, y_train)\n",
        "  y_pred = rf.predict_proba(X_dev)[:, 1]\n",
        "  score = metrics.roc_auc_score(y_dev, y_pred)\n",
        "  auc.append(score)\n",
        "  print(f\"n_estimator:{i} >> score:{score:.3f}\")\n",
        "\n",
        "plt.figure(figsize=(8, 5), dpi=105)\n",
        "plt.plot([120, 300, 500, 800, 1200], auc)\n",
        "plt.show();"
      ],
      "metadata": {
        "colab": {
          "base_uri": "https://localhost:8080/",
          "height": 546
        },
        "id": "2yfCsKyM6_WF",
        "outputId": "9fb5028e-b61d-46e1-e658-52224c9dd744"
      },
      "execution_count": 41,
      "outputs": [
        {
          "output_type": "stream",
          "name": "stdout",
          "text": [
            "n_estimator:120 >> score:0.820\n",
            "n_estimator:300 >> score:0.822\n",
            "n_estimator:500 >> score:0.823\n",
            "n_estimator:800 >> score:0.825\n",
            "n_estimator:1200 >> score:0.826\n"
          ]
        },
        {
          "output_type": "display_data",
          "data": {
            "text/plain": [
              "<Figure size 840x525 with 1 Axes>"
            ],
            "image/png": "[encoded data removed]"
          },
          "metadata": {}
        }
      ]
    },
    {
      "cell_type": "code",
      "source": [
        "auc = []\n",
        "for i in range(10, 200, 10):\n",
        "  rf = RandomForestClassifier(n_estimators=i, n_jobs=-1, random_state=3)\n",
        "  rf.fit(X_train, y_train)\n",
        "  y_pred = rf.predict_proba(X_dev)[:, 1]\n",
        "  score = metrics.roc_auc_score(y_dev, y_pred)\n",
        "  auc.append(score)\n",
        "  # print(f\"n_estimator:{i} >> score:{score}\")\n",
        "\n",
        "plt.figure(figsize=(8, 5), dpi=105)\n",
        "plt.plot(range(10, 200, 10), auc)\n",
        "plt.show();"
      ],
      "metadata": {
        "colab": {
          "base_uri": "https://localhost:8080/",
          "height": 459
        },
        "id": "md0zKKlu8tSB",
        "outputId": "16afb6f9-77af-4a96-bbb9-a51856ede2a4"
      },
      "execution_count": 42,
      "outputs": [
        {
          "output_type": "display_data",
          "data": {
            "text/plain": [
              "<Figure size 840x525 with 1 Axes>"
            ],
            "image/png": "[encoded data removed]"
          },
          "metadata": {}
        }
      ]
    },
    {
      "cell_type": "markdown",
      "source": [
        "## Parameter tuning for random forest"
      ],
      "metadata": {
        "id": "70605f9q_zR9"
      }
    },
    {
      "cell_type": "code",
      "source": [
        "def optimize(trial, x, y):\n",
        "  min_samples_leaf = trial.suggest_int(\"min_samples_leaf\", 1, 200)\n",
        "  max_depth = trial.suggest_int(\"max_depth\", 5, 30)\n",
        "  n_estimators = trial.suggest_int(\"n_estimators\", 10, 200)\n",
        "  criterion = trial.suggest_categorical(\"criterion\", [\"gini\", \"entropy\"])\n",
        "\n",
        "  model = RandomForestClassifier(\n",
        "      min_samples_leaf=min_samples_leaf, \n",
        "      max_depth=max_depth,\n",
        "      n_estimators=n_estimators,\n",
        "      criterion=criterion,\n",
        "  )\n",
        "\n",
        "  kf = model_selection.KFold(n_splits=5)\n",
        "  auc = []\n",
        "\n",
        "  for idx in kf.split(X=x, y=y):\n",
        "    train_idx, dev_idx = idx[0], idx[1]\n",
        "    xtrain = x[train_idx]\n",
        "    ytrain = y[train_idx]\n",
        "\n",
        "    xdev = x[dev_idx]\n",
        "    ydev = y[dev_idx]\n",
        "\n",
        "    model.fit(xtrain, ytrain)\n",
        "\n",
        "    preds = model.predict_proba(xdev)[:, 1]\n",
        "    fold_accuracy = metrics.roc_auc_score(ydev, preds)\n",
        "    auc.append(fold_accuracy)\n",
        "\n",
        "    return -1 * np.mean(auc)\n",
        "\n",
        "optimization_function = partial(optimize,x=X.values, y=target.values)\n",
        "study = optuna.create_study(direction=\"minimize\")\n",
        "study.optimize(optimization_function, n_trials=50)"
      ],
      "metadata": {
        "colab": {
          "base_uri": "https://localhost:8080/"
        },
        "id": "4fG1U8PM9YIl",
        "outputId": "b49c6f25-4a70-4417-9911-886bbc1b869d"
      },
      "execution_count": 43,
      "outputs": [
        {
          "output_type": "stream",
          "name": "stderr",
          "text": [
            "\u001b[32m[I 2022-10-13 08:37:11,929]\u001b[0m A new study created in memory with name: no-name-b7d68d11-ef16-4cff-ae5b-54d311779e3d\u001b[0m\n",
            "\u001b[32m[I 2022-10-13 08:37:12,017]\u001b[0m Trial 0 finished with value: -0.8398141797490221 and parameters: {'min_samples_leaf': 67, 'max_depth': 24, 'n_estimators': 24, 'criterion': 'gini'}. Best is trial 0 with value: -0.8398141797490221.\u001b[0m\n",
            "\u001b[32m[I 2022-10-13 08:37:12,470]\u001b[0m Trial 1 finished with value: -0.8413383376517807 and parameters: {'min_samples_leaf': 182, 'max_depth': 9, 'n_estimators': 154, 'criterion': 'entropy'}. Best is trial 1 with value: -0.8413383376517807.\u001b[0m\n",
            "\u001b[32m[I 2022-10-13 08:37:12,608]\u001b[0m Trial 2 finished with value: -0.8386393080323121 and parameters: {'min_samples_leaf': 138, 'max_depth': 15, 'n_estimators': 43, 'criterion': 'gini'}. Best is trial 1 with value: -0.8413383376517807.\u001b[0m\n",
            "\u001b[32m[I 2022-10-13 08:37:12,790]\u001b[0m Trial 3 finished with value: -0.8451169791190367 and parameters: {'min_samples_leaf': 81, 'max_depth': 22, 'n_estimators': 48, 'criterion': 'entropy'}. Best is trial 3 with value: -0.8451169791190367.\u001b[0m\n",
            "\u001b[32m[I 2022-10-13 08:37:13,501]\u001b[0m Trial 4 finished with value: -0.8588153482700808 and parameters: {'min_samples_leaf': 18, 'max_depth': 19, 'n_estimators': 172, 'criterion': 'gini'}. Best is trial 4 with value: -0.8588153482700808.\u001b[0m\n",
            "\u001b[32m[I 2022-10-13 08:37:13,870]\u001b[0m Trial 5 finished with value: -0.8427164304221917 and parameters: {'min_samples_leaf': 117, 'max_depth': 10, 'n_estimators': 117, 'criterion': 'gini'}. Best is trial 4 with value: -0.8588153482700808.\u001b[0m\n",
            "\u001b[32m[I 2022-10-13 08:37:13,952]\u001b[0m Trial 6 finished with value: -0.8408461616623482 and parameters: {'min_samples_leaf': 79, 'max_depth': 13, 'n_estimators': 20, 'criterion': 'entropy'}. Best is trial 4 with value: -0.8588153482700808.\u001b[0m\n",
            "\u001b[32m[I 2022-10-13 08:37:14,376]\u001b[0m Trial 7 finished with value: -0.8443930041152263 and parameters: {'min_samples_leaf': 107, 'max_depth': 17, 'n_estimators': 132, 'criterion': 'gini'}. Best is trial 4 with value: -0.8588153482700808.\u001b[0m\n",
            "\u001b[32m[I 2022-10-13 08:37:14,916]\u001b[0m Trial 8 finished with value: -0.8431800284509475 and parameters: {'min_samples_leaf': 164, 'max_depth': 20, 'n_estimators': 183, 'criterion': 'gini'}. Best is trial 4 with value: -0.8588153482700808.\u001b[0m\n",
            "\u001b[32m[I 2022-10-13 08:37:14,987]\u001b[0m Trial 9 finished with value: -0.8465268251790886 and parameters: {'min_samples_leaf': 25, 'max_depth': 15, 'n_estimators': 16, 'criterion': 'gini'}. Best is trial 4 with value: -0.8588153482700808.\u001b[0m\n",
            "\u001b[32m[I 2022-10-13 08:37:15,919]\u001b[0m Trial 10 finished with value: -0.8561671239140376 and parameters: {'min_samples_leaf': 20, 'max_depth': 30, 'n_estimators': 200, 'criterion': 'entropy'}. Best is trial 4 with value: -0.8588153482700808.\u001b[0m\n",
            "\u001b[32m[I 2022-10-13 08:37:17,355]\u001b[0m Trial 11 finished with value: -0.8509151298074481 and parameters: {'min_samples_leaf': 1, 'max_depth': 30, 'n_estimators': 197, 'criterion': 'entropy'}. Best is trial 4 with value: -0.8588153482700808.\u001b[0m\n",
            "\u001b[32m[I 2022-10-13 08:37:18,035]\u001b[0m Trial 12 finished with value: -0.8518740791546004 and parameters: {'min_samples_leaf': 36, 'max_depth': 30, 'n_estimators': 165, 'criterion': 'entropy'}. Best is trial 4 with value: -0.8588153482700808.\u001b[0m\n",
            "\u001b[32m[I 2022-10-13 08:37:18,395]\u001b[0m Trial 13 finished with value: -0.8501467001981405 and parameters: {'min_samples_leaf': 43, 'max_depth': 26, 'n_estimators': 84, 'criterion': 'entropy'}. Best is trial 4 with value: -0.8588153482700808.\u001b[0m\n",
            "\u001b[32m[I 2022-10-13 08:37:19,550]\u001b[0m Trial 14 finished with value: -0.8589931666920693 and parameters: {'min_samples_leaf': 7, 'max_depth': 26, 'n_estimators': 199, 'criterion': 'entropy'}. Best is trial 14 with value: -0.8589931666920693.\u001b[0m\n",
            "\u001b[32m[I 2022-10-13 08:37:20,046]\u001b[0m Trial 15 finished with value: -0.8473206574201088 and parameters: {'min_samples_leaf': 55, 'max_depth': 5, 'n_estimators': 157, 'criterion': 'gini'}. Best is trial 14 with value: -0.8589931666920693.\u001b[0m\n",
            "\u001b[32m[I 2022-10-13 08:37:20,863]\u001b[0m Trial 16 finished with value: -0.8581548798455519 and parameters: {'min_samples_leaf': 8, 'max_depth': 25, 'n_estimators': 174, 'criterion': 'gini'}. Best is trial 14 with value: -0.8589931666920693.\u001b[0m\n",
            "\u001b[32m[I 2022-10-13 08:37:21,396]\u001b[0m Trial 17 finished with value: -0.8515565462581923 and parameters: {'min_samples_leaf': 48, 'max_depth': 19, 'n_estimators': 134, 'criterion': 'entropy'}. Best is trial 14 with value: -0.8589931666920693.\u001b[0m\n",
            "\u001b[32m[I 2022-10-13 08:37:21,811]\u001b[0m Trial 18 finished with value: -0.853353782451862 and parameters: {'min_samples_leaf': 20, 'max_depth': 27, 'n_estimators': 96, 'criterion': 'gini'}. Best is trial 14 with value: -0.8589931666920693.\u001b[0m\n",
            "\u001b[32m[I 2022-10-13 08:37:22,308]\u001b[0m Trial 19 finished with value: -0.8473079561042524 and parameters: {'min_samples_leaf': 86, 'max_depth': 20, 'n_estimators': 143, 'criterion': 'entropy'}. Best is trial 14 with value: -0.8589931666920693.\u001b[0m\n",
            "\u001b[32m[I 2022-10-13 08:37:22,897]\u001b[0m Trial 20 finished with value: -0.8435420159528527 and parameters: {'min_samples_leaf': 129, 'max_depth': 23, 'n_estimators': 182, 'criterion': 'entropy'}. Best is trial 14 with value: -0.8589931666920693.\u001b[0m\n",
            "\u001b[32m[I 2022-10-13 08:37:23,720]\u001b[0m Trial 21 finished with value: -0.8555257074632932 and parameters: {'min_samples_leaf': 9, 'max_depth': 26, 'n_estimators': 178, 'criterion': 'gini'}. Best is trial 14 with value: -0.8589931666920693.\u001b[0m\n",
            "\u001b[32m[I 2022-10-13 08:37:24,630]\u001b[0m Trial 22 finished with value: -0.8596536351165981 and parameters: {'min_samples_leaf': 3, 'max_depth': 27, 'n_estimators': 173, 'criterion': 'gini'}. Best is trial 22 with value: -0.8596536351165981.\u001b[0m\n",
            "\u001b[32m[I 2022-10-13 08:37:25,379]\u001b[0m Trial 23 finished with value: -0.853950744297109 and parameters: {'min_samples_leaf': 32, 'max_depth': 28, 'n_estimators': 199, 'criterion': 'gini'}. Best is trial 22 with value: -0.8596536351165981.\u001b[0m\n",
            "\u001b[32m[I 2022-10-13 08:37:25,794]\u001b[0m Trial 24 finished with value: -0.8509595844129452 and parameters: {'min_samples_leaf': 55, 'max_depth': 22, 'n_estimators': 111, 'criterion': 'gini'}. Best is trial 22 with value: -0.8596536351165981.\u001b[0m\n",
            "\u001b[32m[I 2022-10-13 08:37:26,604]\u001b[0m Trial 25 finished with value: -0.8544969008789312 and parameters: {'min_samples_leaf': 2, 'max_depth': 18, 'n_estimators': 149, 'criterion': 'gini'}. Best is trial 22 with value: -0.8596536351165981.\u001b[0m\n",
            "\u001b[32m[I 2022-10-13 08:37:27,278]\u001b[0m Trial 26 finished with value: -0.8579262561601382 and parameters: {'min_samples_leaf': 20, 'max_depth': 28, 'n_estimators': 164, 'criterion': 'gini'}. Best is trial 22 with value: -0.8596536351165981.\u001b[0m\n",
            "\u001b[32m[I 2022-10-13 08:37:27,554]\u001b[0m Trial 27 finished with value: -0.843948458060255 and parameters: {'min_samples_leaf': 68, 'max_depth': 21, 'n_estimators': 74, 'criterion': 'gini'}. Best is trial 22 with value: -0.8596536351165981.\u001b[0m\n",
            "\u001b[32m[I 2022-10-13 08:37:28,102]\u001b[0m Trial 28 finished with value: -0.8533220291622212 and parameters: {'min_samples_leaf': 35, 'max_depth': 24, 'n_estimators': 127, 'criterion': 'entropy'}. Best is trial 22 with value: -0.8596536351165981.\u001b[0m\n",
            "\u001b[32m[I 2022-10-13 08:37:28,751]\u001b[0m Trial 29 finished with value: -0.8503372199359854 and parameters: {'min_samples_leaf': 58, 'max_depth': 24, 'n_estimators': 187, 'criterion': 'gini'}. Best is trial 22 with value: -0.8596536351165981.\u001b[0m\n",
            "\u001b[32m[I 2022-10-13 08:37:29,507]\u001b[0m Trial 30 finished with value: -0.8578627495808566 and parameters: {'min_samples_leaf': 13, 'max_depth': 16, 'n_estimators': 172, 'criterion': 'gini'}. Best is trial 22 with value: -0.8596536351165981.\u001b[0m\n",
            "\u001b[32m[I 2022-10-13 08:37:30,306]\u001b[0m Trial 31 finished with value: -0.8592027384036985 and parameters: {'min_samples_leaf': 8, 'max_depth': 25, 'n_estimators': 171, 'criterion': 'gini'}. Best is trial 22 with value: -0.8596536351165981.\u001b[0m\n",
            "\u001b[32m[I 2022-10-13 08:37:31,066]\u001b[0m Trial 32 finished with value: -0.8550049535131841 and parameters: {'min_samples_leaf': 26, 'max_depth': 28, 'n_estimators': 190, 'criterion': 'gini'}. Best is trial 22 with value: -0.8596536351165981.\u001b[0m\n",
            "\u001b[32m[I 2022-10-13 08:37:31,906]\u001b[0m Trial 33 finished with value: -0.8600029213026469 and parameters: {'min_samples_leaf': 3, 'max_depth': 25, 'n_estimators': 160, 'criterion': 'gini'}. Best is trial 33 with value: -0.8600029213026469.\u001b[0m\n",
            "\u001b[32m[I 2022-10-13 08:37:32,351]\u001b[0m Trial 34 finished with value: -0.8365943961794441 and parameters: {'min_samples_leaf': 198, 'max_depth': 25, 'n_estimators': 155, 'criterion': 'gini'}. Best is trial 33 with value: -0.8600029213026469.\u001b[0m\n",
            "\u001b[32m[I 2022-10-13 08:37:33,134]\u001b[0m Trial 35 finished with value: -0.8539507442971092 and parameters: {'min_samples_leaf': 2, 'max_depth': 23, 'n_estimators': 142, 'criterion': 'gini'}. Best is trial 33 with value: -0.8600029213026469.\u001b[0m\n",
            "\u001b[32m[I 2022-10-13 08:37:33,798]\u001b[0m Trial 36 finished with value: -0.8500895442767871 and parameters: {'min_samples_leaf': 42, 'max_depth': 28, 'n_estimators': 161, 'criterion': 'entropy'}. Best is trial 33 with value: -0.8600029213026469.\u001b[0m\n",
            "\u001b[32m[I 2022-10-13 08:37:33,988]\u001b[0m Trial 37 finished with value: -0.8541095107453133 and parameters: {'min_samples_leaf': 13, 'max_depth': 26, 'n_estimators': 39, 'criterion': 'gini'}. Best is trial 33 with value: -0.8600029213026469.\u001b[0m\n",
            "\u001b[32m[I 2022-10-13 08:37:34,544]\u001b[0m Trial 38 finished with value: -0.8431736777930193 and parameters: {'min_samples_leaf': 163, 'max_depth': 22, 'n_estimators': 187, 'criterion': 'gini'}. Best is trial 33 with value: -0.8600029213026469.\u001b[0m\n",
            "\u001b[32m[I 2022-10-13 08:37:35,130]\u001b[0m Trial 39 finished with value: -0.8449455113549764 and parameters: {'min_samples_leaf': 98, 'max_depth': 11, 'n_estimators': 170, 'criterion': 'entropy'}. Best is trial 33 with value: -0.8600029213026469.\u001b[0m\n",
            "\u001b[32m[I 2022-10-13 08:37:35,545]\u001b[0m Trial 40 finished with value: -0.8474730732103846 and parameters: {'min_samples_leaf': 67, 'max_depth': 29, 'n_estimators': 120, 'criterion': 'gini'}. Best is trial 33 with value: -0.8600029213026469.\u001b[0m\n",
            "\u001b[32m[I 2022-10-13 08:37:36,302]\u001b[0m Trial 41 finished with value: -0.8561671239140376 and parameters: {'min_samples_leaf': 15, 'max_depth': 26, 'n_estimators': 176, 'criterion': 'gini'}. Best is trial 33 with value: -0.8600029213026469.\u001b[0m\n",
            "\u001b[32m[I 2022-10-13 08:37:36,906]\u001b[0m Trial 42 finished with value: -0.8547890311436265 and parameters: {'min_samples_leaf': 30, 'max_depth': 24, 'n_estimators': 150, 'criterion': 'gini'}. Best is trial 33 with value: -0.8600029213026469.\u001b[0m\n",
            "\u001b[32m[I 2022-10-13 08:37:37,798]\u001b[0m Trial 43 finished with value: -0.8605173245948282 and parameters: {'min_samples_leaf': 9, 'max_depth': 21, 'n_estimators': 192, 'criterion': 'gini'}. Best is trial 43 with value: -0.8605173245948282.\u001b[0m\n",
            "\u001b[32m[I 2022-10-13 08:37:38,889]\u001b[0m Trial 44 finished with value: -0.8536109840979524 and parameters: {'min_samples_leaf': 1, 'max_depth': 23, 'n_estimators': 192, 'criterion': 'gini'}. Best is trial 43 with value: -0.8605173245948282.\u001b[0m\n",
            "\u001b[32m[I 2022-10-13 08:37:39,611]\u001b[0m Trial 45 finished with value: -0.8524710409998477 and parameters: {'min_samples_leaf': 27, 'max_depth': 21, 'n_estimators': 182, 'criterion': 'gini'}. Best is trial 43 with value: -0.8605173245948282.\u001b[0m\n",
            "\u001b[32m[I 2022-10-13 08:37:40,655]\u001b[0m Trial 46 finished with value: -0.8568847482599197 and parameters: {'min_samples_leaf': 11, 'max_depth': 25, 'n_estimators': 200, 'criterion': 'entropy'}. Best is trial 43 with value: -0.8605173245948282.\u001b[0m\n",
            "\u001b[32m[I 2022-10-13 08:37:41,274]\u001b[0m Trial 47 finished with value: -0.8492893613778387 and parameters: {'min_samples_leaf': 43, 'max_depth': 27, 'n_estimators': 169, 'criterion': 'gini'}. Best is trial 43 with value: -0.8605173245948282.\u001b[0m\n",
            "\u001b[32m[I 2022-10-13 08:37:42,062]\u001b[0m Trial 48 finished with value: -0.8564084489153077 and parameters: {'min_samples_leaf': 21, 'max_depth': 29, 'n_estimators': 191, 'criterion': 'gini'}. Best is trial 43 with value: -0.8605173245948282.\u001b[0m\n",
            "\u001b[32m[I 2022-10-13 08:37:42,636]\u001b[0m Trial 49 finished with value: -0.8449899659604735 and parameters: {'min_samples_leaf': 153, 'max_depth': 21, 'n_estimators': 179, 'criterion': 'entropy'}. Best is trial 43 with value: -0.8605173245948282.\u001b[0m\n"
          ]
        }
      ]
    },
    {
      "cell_type": "code",
      "source": [
        "# {'min_samples_leaf': 2, 'max_depth': 9, 'n_estimators': 55, 'criterion': 'entropy'}\n",
        "rf = RandomForestClassifier(\n",
        "    n_estimators=55,\n",
        "    criterion=\"entropy\",\n",
        "    max_depth=9,\n",
        "    min_samples_leaf=2,\n",
        "    n_jobs=-1,\n",
        "    random_state=3\n",
        ")\n",
        "\n",
        "rf.fit(X_train, y_train)\n",
        "\n",
        "y_pred = rf.predict_proba(X_dev)[:, 1]\n",
        "metrics.roc_auc_score(y_dev, y_pred)"
      ],
      "metadata": {
        "colab": {
          "base_uri": "https://localhost:8080/"
        },
        "id": "69vq402BBjT3",
        "outputId": "bf527de9-2cdf-4e31-d58f-65c1cdc70414"
      },
      "execution_count": 44,
      "outputs": [
        {
          "output_type": "execute_result",
          "data": {
            "text/plain": [
              "0.8246379356276186"
            ]
          },
          "metadata": {},
          "execution_count": 44
        }
      ]
    },
    {
      "cell_type": "markdown",
      "source": [
        "## Gradient boosting"
      ],
      "metadata": {
        "id": "i8PC94mODe-E"
      }
    },
    {
      "cell_type": "markdown",
      "source": [
        "In a random forest, each tree is independent: it’s trained on a different set of features. After individual trees are trained, we combine all their decisions together to get the final decision. It’s not the only way to combine multiple models together in one ensemble. Alternatively, we can train models sequentially: each next model tries to fix errors from the previous one:\n",
        "* Train the first model.\n",
        "* Look at the errors it makes.\n",
        "* Train another model that fixes these errors.\n",
        "* Look at the errors again, repeat sequentially.  \n",
        "\n",
        "This way of combining models is called boosting. Gradient boosting is a particular variation of this approach that works especially well with trees."
      ],
      "metadata": {
        "id": "5hF9D9HqEQ6n"
      }
    },
    {
      "cell_type": "markdown",
      "source": [
        "## XGBoost: extreme gradient boosting"
      ],
      "metadata": {
        "id": "a92xeU9RcZC7"
      }
    },
    {
      "cell_type": "code",
      "source": [
        "import xgboost as xgb \n",
        "\n",
        "# wrap data into DMatrix — a special\n",
        "# data structure for finding splits efficiently.\n",
        "dtrain = xgb.DMatrix(\n",
        "    X_train.values, \n",
        "    label=y_train.values, \n",
        "    feature_names=X_train.columns\n",
        ")\n",
        "\n",
        "# for validation\n",
        "dval = xgb.DMatrix(\n",
        "    X_dev.values,\n",
        "    label=y_dev.values,\n",
        "    feature_names=X_dev.columns\n",
        ")\n",
        "\n",
        "# specifying the parameters for training\n",
        "xgb_params = {\n",
        "    'eta':.3,\n",
        "    'max_depth':6,\n",
        "    'min_child_weight': 1,\n",
        "    'objective': 'binary:logistic',\n",
        "    'nthread': 8,\n",
        "    'seed': 1,\n",
        "    'silent':1\n",
        "}\n",
        "\n",
        "# For training an XGBoost model, we use the train function\n",
        "model = xgb.train(\n",
        "    xgb_params,\n",
        "    dtrain,\n",
        "    num_boost_round=10\n",
        ")"
      ],
      "metadata": {
        "id": "qloBR-OyDBye"
      },
      "execution_count": 47,
      "outputs": []
    },
    {
      "cell_type": "code",
      "source": [
        "# Evaluate the model with predict function\n",
        "y_pred = model.predict(dval)\n",
        "y_pred[:10]"
      ],
      "metadata": {
        "colab": {
          "base_uri": "https://localhost:8080/"
        },
        "id": "HBv3HbbUfjrg",
        "outputId": "36d34d46-243a-44ea-a300-ff2adadad917"
      },
      "execution_count": 48,
      "outputs": [
        {
          "output_type": "execute_result",
          "data": {
            "text/plain": [
              "array([0.06651721, 0.08702892, 0.16599497, 0.17462038, 0.06536325,\n",
              "       0.08394843, 0.07825396, 0.65124536, 0.45046538, 0.03558019],\n",
              "      dtype=float32)"
            ]
          },
          "metadata": {},
          "execution_count": 48
        }
      ]
    },
    {
      "cell_type": "code",
      "source": [
        "metrics.roc_auc_score(y_dev, y_pred)"
      ],
      "metadata": {
        "colab": {
          "base_uri": "https://localhost:8080/"
        },
        "id": "z4YpbcWMf1VR",
        "outputId": "9f816c1d-9ccd-48ca-afd7-c39e13f19270"
      },
      "execution_count": 49,
      "outputs": [
        {
          "output_type": "execute_result",
          "data": {
            "text/plain": [
              "0.8121897023564457"
            ]
          },
          "metadata": {},
          "execution_count": 49
        }
      ]
    },
    {
      "cell_type": "markdown",
      "source": [
        "### Model performance monitoring\n",
        "\n",
        "To get an idea how `AUC` changes as the number of trees **grows**, we can use a *watchlist* built-in feature in `XGBoost` for monitoring model performance."
      ],
      "metadata": {
        "id": "uJ1A6Fbxg0N2"
      }
    },
    {
      "cell_type": "code",
      "source": [
        "watchlist = [(dtrain, 'train'), (dval, 'dev')]\n",
        "\n",
        "# Additionally, we’ll modify the list of parameters for training: \n",
        "# we need to specify the metric we\n",
        "# use for evaluation. In our case, it’s AUC\n",
        "\n",
        "xgb_params = {\n",
        "    'eta':.3,\n",
        "    'max_depth':6,\n",
        "    'min_child_weight': 1,\n",
        "    'objective': 'binary:logistic',\n",
        "    'eval_metric': 'auc',\n",
        "    'nthread': 8,\n",
        "    'seed': 1,\n",
        "    'silent':1\n",
        "}\n",
        "\n",
        "# To use the watchlist during training, we need to specify two extra \n",
        "# arguments for the train function:\n",
        "#   - evals — the watchlist.\n",
        "#   - verbose_eval — how often we print the metric. \n",
        "#     If we put “10”, we’ll see the result after each 10th step.\n",
        "\n",
        "model = xgb.train(\n",
        "    xgb_params,\n",
        "    dtrain,\n",
        "    num_boost_round=100,\n",
        "    evals=watchlist,\n",
        "    verbose_eval=10\n",
        ")"
      ],
      "metadata": {
        "colab": {
          "base_uri": "https://localhost:8080/"
        },
        "id": "n-mAeQrVgRAX",
        "outputId": "6825965c-8848-4293-fffd-8b65af999cea"
      },
      "execution_count": 51,
      "outputs": [
        {
          "output_type": "stream",
          "name": "stdout",
          "text": [
            "[0]\ttrain-auc:0.863973\tdev-auc:0.766608\n",
            "[10]\ttrain-auc:0.955016\tdev-auc:0.812099\n",
            "[20]\ttrain-auc:0.977688\tdev-auc:0.817518\n",
            "[30]\ttrain-auc:0.988884\tdev-auc:0.813667\n",
            "[40]\ttrain-auc:0.993779\tdev-auc:0.814085\n",
            "[50]\ttrain-auc:0.997623\tdev-auc:0.813782\n",
            "[60]\ttrain-auc:0.999038\tdev-auc:0.811966\n",
            "[70]\ttrain-auc:0.999658\tdev-auc:0.812105\n",
            "[80]\ttrain-auc:0.999951\tdev-auc:0.811064\n",
            "[90]\ttrain-auc:0.999996\tdev-auc:0.80886\n",
            "[99]\ttrain-auc:1\tdev-auc:0.806698\n"
          ]
        }
      ]
    },
    {
      "cell_type": "code",
      "source": [],
      "metadata": {
        "id": "ZD4ixmtHiobI"
      },
      "execution_count": null,
      "outputs": []
    }
  ],
  "metadata": {
    "colab": {
      "provenance": []
    },
    "kernelspec": {
      "display_name": "Python 3",
      "name": "python3"
    },
    "language_info": {
      "name": "python"
    }
  },
  "nbformat": 4,
  "nbformat_minor": 0
}