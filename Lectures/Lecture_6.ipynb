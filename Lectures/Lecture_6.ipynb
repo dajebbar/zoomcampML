{
  "cells": [
    {
      "cell_type": "markdown",
      "metadata": {
        "id": "uLG0DEmHd06W"
      },
      "source": [
        "# Decision Trees and Ensemble Learning"
      ]
    },
    {
      "cell_type": "markdown",
      "metadata": {
        "id": "oT7crvfqeGHb"
      },
      "source": [
        "## Credit risk scoring project"
      ]
    },
    {
      "cell_type": "markdown",
      "metadata": {
        "id": "kBhvTB44eOun"
      },
      "source": [
        "**Dataset**"
      ]
    },
    {
      "cell_type": "code",
      "execution_count": 1,
      "metadata": {
        "colab": {
          "base_uri": "https://localhost:8080/"
        },
        "id": "VCHpUa9JdJj9",
        "outputId": "c1416ecf-24cf-415e-f8e2-29d89bec4429"
      },
      "outputs": [
        {
          "output_type": "stream",
          "name": "stdout",
          "text": [
            "--2022-10-11 17:05:41--  https://github.com/gastonstat/CreditScoring/raw/master/CreditScoring.csv\n",
            "Resolving github.com (github.com)... 140.82.114.3\n",
            "Connecting to github.com (github.com)|140.82.114.3|:443... connected.\n",
            "HTTP request sent, awaiting response... 302 Found\n",
            "Location: https://raw.githubusercontent.com/gastonstat/CreditScoring/master/CreditScoring.csv [following]\n",
            "--2022-10-11 17:05:41--  https://raw.githubusercontent.com/gastonstat/CreditScoring/master/CreditScoring.csv\n",
            "Resolving raw.githubusercontent.com (raw.githubusercontent.com)... 185.199.108.133, 185.199.109.133, 185.199.110.133, ...\n",
            "Connecting to raw.githubusercontent.com (raw.githubusercontent.com)|185.199.108.133|:443... connected.\n",
            "HTTP request sent, awaiting response... 200 OK\n",
            "Length: 182489 (178K) [text/plain]\n",
            "Saving to: ‘CreditScoring.csv.16’\n",
            "\n",
            "CreditScoring.csv.1 100%[===================>] 178.21K  --.-KB/s    in 0.02s   \n",
            "\n",
            "2022-10-11 17:05:41 (7.19 MB/s) - ‘CreditScoring.csv.16’ saved [182489/182489]\n",
            "\n"
          ]
        }
      ],
      "source": [
        "!wget https://github.com/gastonstat/CreditScoring/raw/master/CreditScoring.csv"
      ]
    },
    {
      "cell_type": "markdown",
      "metadata": {
        "id": "HAEKCLdmejXQ"
      },
      "source": [
        "### Librairies"
      ]
    },
    {
      "cell_type": "code",
      "execution_count": 2,
      "metadata": {
        "id": "j9Uh3vo8eRc7"
      },
      "outputs": [],
      "source": [
        "import pandas as pd\n",
        "import numpy as np\n",
        "import matplotlib.pyplot as plt\n",
        "import seaborn as sns\n",
        "import missingno as msno\n",
        "\n",
        "plt.style.use('ggplot')"
      ]
    },
    {
      "cell_type": "markdown",
      "metadata": {
        "id": "4AV4RhcPe6TD"
      },
      "source": [
        "**Data cleanining**"
      ]
    },
    {
      "cell_type": "code",
      "execution_count": 3,
      "metadata": {
        "colab": {
          "base_uri": "https://localhost:8080/",
          "height": 206
        },
        "id": "gfKXqUjke1cR",
        "outputId": "636d1f2e-49f0-4824-97d5-d8e2631cbdc0"
      },
      "outputs": [
        {
          "output_type": "execute_result",
          "data": {
            "text/plain": [
              "   Status  Seniority  Home  Time  Age  Marital  Records  Job  Expenses  \\\n",
              "0       1          9     1    60   30        2        1    3        73   \n",
              "1       1         17     1    60   58        3        1    1        48   \n",
              "2       2         10     2    36   46        2        2    3        90   \n",
              "3       1          0     1    60   24        1        1    1        63   \n",
              "4       1          0     1    36   26        1        1    1        46   \n",
              "\n",
              "   Income  Assets  Debt  Amount  Price  \n",
              "0     129       0     0     800    846  \n",
              "1     131       0     0    1000   1658  \n",
              "2     200    3000     0    2000   2985  \n",
              "3     182    2500     0     900   1325  \n",
              "4     107       0     0     310    910  "
            ],
            "text/html": [
              "\n",
              "  <div id=\"df-b4423292-a7c5-430a-8ebf-aa1361a468cf\">\n",
              "    <div class=\"colab-df-container\">\n",
              "      <div>\n",
              "<style scoped>\n",
              "    .dataframe tbody tr th:only-of-type {\n",
              "        vertical-align: middle;\n",
              "    }\n",
              "\n",
              "    .dataframe tbody tr th {\n",
              "        vertical-align: top;\n",
              "    }\n",
              "\n",
              "    .dataframe thead th {\n",
              "        text-align: right;\n",
              "    }\n",
              "</style>\n",
              "<table border=\"1\" class=\"dataframe\">\n",
              "  <thead>\n",
              "    <tr style=\"text-align: right;\">\n",
              "      <th></th>\n",
              "      <th>Status</th>\n",
              "      <th>Seniority</th>\n",
              "      <th>Home</th>\n",
              "      <th>Time</th>\n",
              "      <th>Age</th>\n",
              "      <th>Marital</th>\n",
              "      <th>Records</th>\n",
              "      <th>Job</th>\n",
              "      <th>Expenses</th>\n",
              "      <th>Income</th>\n",
              "      <th>Assets</th>\n",
              "      <th>Debt</th>\n",
              "      <th>Amount</th>\n",
              "      <th>Price</th>\n",
              "    </tr>\n",
              "  </thead>\n",
              "  <tbody>\n",
              "    <tr>\n",
              "      <th>0</th>\n",
              "      <td>1</td>\n",
              "      <td>9</td>\n",
              "      <td>1</td>\n",
              "      <td>60</td>\n",
              "      <td>30</td>\n",
              "      <td>2</td>\n",
              "      <td>1</td>\n",
              "      <td>3</td>\n",
              "      <td>73</td>\n",
              "      <td>129</td>\n",
              "      <td>0</td>\n",
              "      <td>0</td>\n",
              "      <td>800</td>\n",
              "      <td>846</td>\n",
              "    </tr>\n",
              "    <tr>\n",
              "      <th>1</th>\n",
              "      <td>1</td>\n",
              "      <td>17</td>\n",
              "      <td>1</td>\n",
              "      <td>60</td>\n",
              "      <td>58</td>\n",
              "      <td>3</td>\n",
              "      <td>1</td>\n",
              "      <td>1</td>\n",
              "      <td>48</td>\n",
              "      <td>131</td>\n",
              "      <td>0</td>\n",
              "      <td>0</td>\n",
              "      <td>1000</td>\n",
              "      <td>1658</td>\n",
              "    </tr>\n",
              "    <tr>\n",
              "      <th>2</th>\n",
              "      <td>2</td>\n",
              "      <td>10</td>\n",
              "      <td>2</td>\n",
              "      <td>36</td>\n",
              "      <td>46</td>\n",
              "      <td>2</td>\n",
              "      <td>2</td>\n",
              "      <td>3</td>\n",
              "      <td>90</td>\n",
              "      <td>200</td>\n",
              "      <td>3000</td>\n",
              "      <td>0</td>\n",
              "      <td>2000</td>\n",
              "      <td>2985</td>\n",
              "    </tr>\n",
              "    <tr>\n",
              "      <th>3</th>\n",
              "      <td>1</td>\n",
              "      <td>0</td>\n",
              "      <td>1</td>\n",
              "      <td>60</td>\n",
              "      <td>24</td>\n",
              "      <td>1</td>\n",
              "      <td>1</td>\n",
              "      <td>1</td>\n",
              "      <td>63</td>\n",
              "      <td>182</td>\n",
              "      <td>2500</td>\n",
              "      <td>0</td>\n",
              "      <td>900</td>\n",
              "      <td>1325</td>\n",
              "    </tr>\n",
              "    <tr>\n",
              "      <th>4</th>\n",
              "      <td>1</td>\n",
              "      <td>0</td>\n",
              "      <td>1</td>\n",
              "      <td>36</td>\n",
              "      <td>26</td>\n",
              "      <td>1</td>\n",
              "      <td>1</td>\n",
              "      <td>1</td>\n",
              "      <td>46</td>\n",
              "      <td>107</td>\n",
              "      <td>0</td>\n",
              "      <td>0</td>\n",
              "      <td>310</td>\n",
              "      <td>910</td>\n",
              "    </tr>\n",
              "  </tbody>\n",
              "</table>\n",
              "</div>\n",
              "      <button class=\"colab-df-convert\" onclick=\"convertToInteractive('df-b4423292-a7c5-430a-8ebf-aa1361a468cf')\"\n",
              "              title=\"Convert this dataframe to an interactive table.\"\n",
              "              style=\"display:none;\">\n",
              "        \n",
              "  <svg xmlns=\"http://www.w3.org/2000/svg\" height=\"24px\"viewBox=\"0 0 24 24\"\n",
              "       width=\"24px\">\n",
              "    <path d=\"M0 0h24v24H0V0z\" fill=\"none\"/>\n",
              "    <path d=\"M18.56 5.44l.94 2.06.94-2.06 2.06-.94-2.06-.94-.94-2.06-.94 2.06-2.06.94zm-11 1L8.5 8.5l.94-2.06 2.06-.94-2.06-.94L8.5 2.5l-.94 2.06-2.06.94zm10 10l.94 2.06.94-2.06 2.06-.94-2.06-.94-.94-2.06-.94 2.06-2.06.94z\"/><path d=\"M17.41 7.96l-1.37-1.37c-.4-.4-.92-.59-1.43-.59-.52 0-1.04.2-1.43.59L10.3 9.45l-7.72 7.72c-.78.78-.78 2.05 0 2.83L4 21.41c.39.39.9.59 1.41.59.51 0 1.02-.2 1.41-.59l7.78-7.78 2.81-2.81c.8-.78.8-2.07 0-2.86zM5.41 20L4 18.59l7.72-7.72 1.47 1.35L5.41 20z\"/>\n",
              "  </svg>\n",
              "      </button>\n",
              "      \n",
              "  <style>\n",
              "    .colab-df-container {\n",
              "      display:flex;\n",
              "      flex-wrap:wrap;\n",
              "      gap: 12px;\n",
              "    }\n",
              "\n",
              "    .colab-df-convert {\n",
              "      background-color: #E8F0FE;\n",
              "      border: none;\n",
              "      border-radius: 50%;\n",
              "      cursor: pointer;\n",
              "      display: none;\n",
              "      fill: #1967D2;\n",
              "      height: 32px;\n",
              "      padding: 0 0 0 0;\n",
              "      width: 32px;\n",
              "    }\n",
              "\n",
              "    .colab-df-convert:hover {\n",
              "      background-color: #E2EBFA;\n",
              "      box-shadow: 0px 1px 2px rgba(60, 64, 67, 0.3), 0px 1px 3px 1px rgba(60, 64, 67, 0.15);\n",
              "      fill: #174EA6;\n",
              "    }\n",
              "\n",
              "    [theme=dark] .colab-df-convert {\n",
              "      background-color: #3B4455;\n",
              "      fill: #D2E3FC;\n",
              "    }\n",
              "\n",
              "    [theme=dark] .colab-df-convert:hover {\n",
              "      background-color: #434B5C;\n",
              "      box-shadow: 0px 1px 3px 1px rgba(0, 0, 0, 0.15);\n",
              "      filter: drop-shadow(0px 1px 2px rgba(0, 0, 0, 0.3));\n",
              "      fill: #FFFFFF;\n",
              "    }\n",
              "  </style>\n",
              "\n",
              "      <script>\n",
              "        const buttonEl =\n",
              "          document.querySelector('#df-b4423292-a7c5-430a-8ebf-aa1361a468cf button.colab-df-convert');\n",
              "        buttonEl.style.display =\n",
              "          google.colab.kernel.accessAllowed ? 'block' : 'none';\n",
              "\n",
              "        async function convertToInteractive(key) {\n",
              "          const element = document.querySelector('#df-b4423292-a7c5-430a-8ebf-aa1361a468cf');\n",
              "          const dataTable =\n",
              "            await google.colab.kernel.invokeFunction('convertToInteractive',\n",
              "                                                     [key], {});\n",
              "          if (!dataTable) return;\n",
              "\n",
              "          const docLinkHtml = 'Like what you see? Visit the ' +\n",
              "            '<a target=\"_blank\" href=https://colab.research.google.com/notebooks/data_table.ipynb>data table notebook</a>'\n",
              "            + ' to learn more about interactive tables.';\n",
              "          element.innerHTML = '';\n",
              "          dataTable['output_type'] = 'display_data';\n",
              "          await google.colab.output.renderOutput(dataTable, element);\n",
              "          const docLink = document.createElement('div');\n",
              "          docLink.innerHTML = docLinkHtml;\n",
              "          element.appendChild(docLink);\n",
              "        }\n",
              "      </script>\n",
              "    </div>\n",
              "  </div>\n",
              "  "
            ]
          },
          "metadata": {},
          "execution_count": 3
        }
      ],
      "source": [
        "df = pd.read_csv('CreditScoring.csv')\n",
        "df.head()"
      ]
    },
    {
      "cell_type": "code",
      "execution_count": 4,
      "metadata": {
        "id": "9rhRUNDwfILP"
      },
      "outputs": [],
      "source": [
        "# make all columns in lower\n",
        "df.columns = df.columns.str.lower()"
      ]
    },
    {
      "cell_type": "code",
      "execution_count": 5,
      "metadata": {
        "colab": {
          "base_uri": "https://localhost:8080/"
        },
        "id": "n4xKMvUk3pZS",
        "outputId": "8f31fd4c-33d0-40fa-94c3-c99978372200"
      },
      "outputs": [
        {
          "output_type": "execute_result",
          "data": {
            "text/plain": [
              "(4455, 14)"
            ]
          },
          "metadata": {},
          "execution_count": 5
        }
      ],
      "source": [
        "df.shape"
      ]
    },
    {
      "cell_type": "markdown",
      "metadata": {
        "id": "XGhIEky4gqkL"
      },
      "source": [
        "**Mapping the target**"
      ]
    },
    {
      "cell_type": "code",
      "execution_count": 6,
      "metadata": {
        "colab": {
          "base_uri": "https://localhost:8080/"
        },
        "id": "6QKq1je0gzGf",
        "outputId": "ad942650-446e-4546-bbd6-3bf226e530cf"
      },
      "outputs": [
        {
          "output_type": "execute_result",
          "data": {
            "text/plain": [
              "1    3200\n",
              "2    1254\n",
              "0       1\n",
              "Name: status, dtype: int64"
            ]
          },
          "metadata": {},
          "execution_count": 6
        }
      ],
      "source": [
        "df['status'].value_counts(dropna=False)"
      ]
    },
    {
      "cell_type": "code",
      "execution_count": 7,
      "metadata": {
        "id": "QzI11CvefWQu"
      },
      "outputs": [],
      "source": [
        "df['status'] = df['status'].map({\n",
        "    1:'ok',\n",
        "    2:'default',\n",
        "    0:'unk'\n",
        "})"
      ]
    },
    {
      "cell_type": "markdown",
      "metadata": {
        "id": "JmGdM5fMiETp"
      },
      "source": [
        "** Mapping categorical features **"
      ]
    },
    {
      "cell_type": "code",
      "execution_count": 8,
      "metadata": {
        "id": "DrqBWQlIiI0G"
      },
      "outputs": [],
      "source": [
        "def mapping_categorical(df, cat, cat_lst):\n",
        "  to_lst = df[cat].value_counts().sort_index().index.to_list()\n",
        "  cat_lst = cat_lst\n",
        "\n",
        "  df[cat] = (\n",
        "      df[cat].map({\n",
        "          k:v for (k,v) in zip(to_lst, cat_lst)\n",
        "      })\n",
        "   )"
      ]
    },
    {
      "cell_type": "code",
      "execution_count": 9,
      "metadata": {
        "id": "PFRstgsuk-s2"
      },
      "outputs": [],
      "source": [
        "cols = ['home', 'marital', 'records', 'job']\n",
        "\n",
        "home_lst = ['unk', 'rent', 'owner', 'private', 'ignore', 'parents', 'other']\n",
        "marital_lst = ['unk', 'single', 'married', 'widow', 'separated', 'divorced']\n",
        "records_lst = ['no', 'yes', 'unk']\n",
        "job_lst = ['unk', 'fixed', 'partime', 'freelance', 'others']\n",
        "cat_lst = [home_lst, marital_lst, records_lst, job_lst]\n",
        "\n",
        "for col, cat in zip(cols, cat_lst):\n",
        "  mapping_categorical(df, col, cat)\n"
      ]
    },
    {
      "cell_type": "code",
      "execution_count": 10,
      "metadata": {
        "colab": {
          "base_uri": "https://localhost:8080/",
          "height": 206
        },
        "id": "iEgsdHlCqXmX",
        "outputId": "3732fbf4-f904-4c25-d0ba-a277b25b801b"
      },
      "outputs": [
        {
          "output_type": "execute_result",
          "data": {
            "text/plain": [
              "    status  seniority   home  time  age  marital records        job  expenses  \\\n",
              "0       ok          9   rent    60   30  married      no  freelance        73   \n",
              "1       ok         17   rent    60   58    widow      no      fixed        48   \n",
              "2  default         10  owner    36   46  married     yes  freelance        90   \n",
              "3       ok          0   rent    60   24   single      no      fixed        63   \n",
              "4       ok          0   rent    36   26   single      no      fixed        46   \n",
              "\n",
              "   income  assets  debt  amount  price  \n",
              "0     129       0     0     800    846  \n",
              "1     131       0     0    1000   1658  \n",
              "2     200    3000     0    2000   2985  \n",
              "3     182    2500     0     900   1325  \n",
              "4     107       0     0     310    910  "
            ],
            "text/html": [
              "\n",
              "  <div id=\"df-c945dbdf-0091-467f-9ee1-b92375c274bc\">\n",
              "    <div class=\"colab-df-container\">\n",
              "      <div>\n",
              "<style scoped>\n",
              "    .dataframe tbody tr th:only-of-type {\n",
              "        vertical-align: middle;\n",
              "    }\n",
              "\n",
              "    .dataframe tbody tr th {\n",
              "        vertical-align: top;\n",
              "    }\n",
              "\n",
              "    .dataframe thead th {\n",
              "        text-align: right;\n",
              "    }\n",
              "</style>\n",
              "<table border=\"1\" class=\"dataframe\">\n",
              "  <thead>\n",
              "    <tr style=\"text-align: right;\">\n",
              "      <th></th>\n",
              "      <th>status</th>\n",
              "      <th>seniority</th>\n",
              "      <th>home</th>\n",
              "      <th>time</th>\n",
              "      <th>age</th>\n",
              "      <th>marital</th>\n",
              "      <th>records</th>\n",
              "      <th>job</th>\n",
              "      <th>expenses</th>\n",
              "      <th>income</th>\n",
              "      <th>assets</th>\n",
              "      <th>debt</th>\n",
              "      <th>amount</th>\n",
              "      <th>price</th>\n",
              "    </tr>\n",
              "  </thead>\n",
              "  <tbody>\n",
              "    <tr>\n",
              "      <th>0</th>\n",
              "      <td>ok</td>\n",
              "      <td>9</td>\n",
              "      <td>rent</td>\n",
              "      <td>60</td>\n",
              "      <td>30</td>\n",
              "      <td>married</td>\n",
              "      <td>no</td>\n",
              "      <td>freelance</td>\n",
              "      <td>73</td>\n",
              "      <td>129</td>\n",
              "      <td>0</td>\n",
              "      <td>0</td>\n",
              "      <td>800</td>\n",
              "      <td>846</td>\n",
              "    </tr>\n",
              "    <tr>\n",
              "      <th>1</th>\n",
              "      <td>ok</td>\n",
              "      <td>17</td>\n",
              "      <td>rent</td>\n",
              "      <td>60</td>\n",
              "      <td>58</td>\n",
              "      <td>widow</td>\n",
              "      <td>no</td>\n",
              "      <td>fixed</td>\n",
              "      <td>48</td>\n",
              "      <td>131</td>\n",
              "      <td>0</td>\n",
              "      <td>0</td>\n",
              "      <td>1000</td>\n",
              "      <td>1658</td>\n",
              "    </tr>\n",
              "    <tr>\n",
              "      <th>2</th>\n",
              "      <td>default</td>\n",
              "      <td>10</td>\n",
              "      <td>owner</td>\n",
              "      <td>36</td>\n",
              "      <td>46</td>\n",
              "      <td>married</td>\n",
              "      <td>yes</td>\n",
              "      <td>freelance</td>\n",
              "      <td>90</td>\n",
              "      <td>200</td>\n",
              "      <td>3000</td>\n",
              "      <td>0</td>\n",
              "      <td>2000</td>\n",
              "      <td>2985</td>\n",
              "    </tr>\n",
              "    <tr>\n",
              "      <th>3</th>\n",
              "      <td>ok</td>\n",
              "      <td>0</td>\n",
              "      <td>rent</td>\n",
              "      <td>60</td>\n",
              "      <td>24</td>\n",
              "      <td>single</td>\n",
              "      <td>no</td>\n",
              "      <td>fixed</td>\n",
              "      <td>63</td>\n",
              "      <td>182</td>\n",
              "      <td>2500</td>\n",
              "      <td>0</td>\n",
              "      <td>900</td>\n",
              "      <td>1325</td>\n",
              "    </tr>\n",
              "    <tr>\n",
              "      <th>4</th>\n",
              "      <td>ok</td>\n",
              "      <td>0</td>\n",
              "      <td>rent</td>\n",
              "      <td>36</td>\n",
              "      <td>26</td>\n",
              "      <td>single</td>\n",
              "      <td>no</td>\n",
              "      <td>fixed</td>\n",
              "      <td>46</td>\n",
              "      <td>107</td>\n",
              "      <td>0</td>\n",
              "      <td>0</td>\n",
              "      <td>310</td>\n",
              "      <td>910</td>\n",
              "    </tr>\n",
              "  </tbody>\n",
              "</table>\n",
              "</div>\n",
              "      <button class=\"colab-df-convert\" onclick=\"convertToInteractive('df-c945dbdf-0091-467f-9ee1-b92375c274bc')\"\n",
              "              title=\"Convert this dataframe to an interactive table.\"\n",
              "              style=\"display:none;\">\n",
              "        \n",
              "  <svg xmlns=\"http://www.w3.org/2000/svg\" height=\"24px\"viewBox=\"0 0 24 24\"\n",
              "       width=\"24px\">\n",
              "    <path d=\"M0 0h24v24H0V0z\" fill=\"none\"/>\n",
              "    <path d=\"M18.56 5.44l.94 2.06.94-2.06 2.06-.94-2.06-.94-.94-2.06-.94 2.06-2.06.94zm-11 1L8.5 8.5l.94-2.06 2.06-.94-2.06-.94L8.5 2.5l-.94 2.06-2.06.94zm10 10l.94 2.06.94-2.06 2.06-.94-2.06-.94-.94-2.06-.94 2.06-2.06.94z\"/><path d=\"M17.41 7.96l-1.37-1.37c-.4-.4-.92-.59-1.43-.59-.52 0-1.04.2-1.43.59L10.3 9.45l-7.72 7.72c-.78.78-.78 2.05 0 2.83L4 21.41c.39.39.9.59 1.41.59.51 0 1.02-.2 1.41-.59l7.78-7.78 2.81-2.81c.8-.78.8-2.07 0-2.86zM5.41 20L4 18.59l7.72-7.72 1.47 1.35L5.41 20z\"/>\n",
              "  </svg>\n",
              "      </button>\n",
              "      \n",
              "  <style>\n",
              "    .colab-df-container {\n",
              "      display:flex;\n",
              "      flex-wrap:wrap;\n",
              "      gap: 12px;\n",
              "    }\n",
              "\n",
              "    .colab-df-convert {\n",
              "      background-color: #E8F0FE;\n",
              "      border: none;\n",
              "      border-radius: 50%;\n",
              "      cursor: pointer;\n",
              "      display: none;\n",
              "      fill: #1967D2;\n",
              "      height: 32px;\n",
              "      padding: 0 0 0 0;\n",
              "      width: 32px;\n",
              "    }\n",
              "\n",
              "    .colab-df-convert:hover {\n",
              "      background-color: #E2EBFA;\n",
              "      box-shadow: 0px 1px 2px rgba(60, 64, 67, 0.3), 0px 1px 3px 1px rgba(60, 64, 67, 0.15);\n",
              "      fill: #174EA6;\n",
              "    }\n",
              "\n",
              "    [theme=dark] .colab-df-convert {\n",
              "      background-color: #3B4455;\n",
              "      fill: #D2E3FC;\n",
              "    }\n",
              "\n",
              "    [theme=dark] .colab-df-convert:hover {\n",
              "      background-color: #434B5C;\n",
              "      box-shadow: 0px 1px 3px 1px rgba(0, 0, 0, 0.15);\n",
              "      filter: drop-shadow(0px 1px 2px rgba(0, 0, 0, 0.3));\n",
              "      fill: #FFFFFF;\n",
              "    }\n",
              "  </style>\n",
              "\n",
              "      <script>\n",
              "        const buttonEl =\n",
              "          document.querySelector('#df-c945dbdf-0091-467f-9ee1-b92375c274bc button.colab-df-convert');\n",
              "        buttonEl.style.display =\n",
              "          google.colab.kernel.accessAllowed ? 'block' : 'none';\n",
              "\n",
              "        async function convertToInteractive(key) {\n",
              "          const element = document.querySelector('#df-c945dbdf-0091-467f-9ee1-b92375c274bc');\n",
              "          const dataTable =\n",
              "            await google.colab.kernel.invokeFunction('convertToInteractive',\n",
              "                                                     [key], {});\n",
              "          if (!dataTable) return;\n",
              "\n",
              "          const docLinkHtml = 'Like what you see? Visit the ' +\n",
              "            '<a target=\"_blank\" href=https://colab.research.google.com/notebooks/data_table.ipynb>data table notebook</a>'\n",
              "            + ' to learn more about interactive tables.';\n",
              "          element.innerHTML = '';\n",
              "          dataTable['output_type'] = 'display_data';\n",
              "          await google.colab.output.renderOutput(dataTable, element);\n",
              "          const docLink = document.createElement('div');\n",
              "          docLink.innerHTML = docLinkHtml;\n",
              "          element.appendChild(docLink);\n",
              "        }\n",
              "      </script>\n",
              "    </div>\n",
              "  </div>\n",
              "  "
            ]
          },
          "metadata": {},
          "execution_count": 10
        }
      ],
      "source": [
        "df.head()"
      ]
    },
    {
      "cell_type": "markdown",
      "metadata": {
        "id": "VCpksg6_1Lkq"
      },
      "source": [
        "**Check numerical values**"
      ]
    },
    {
      "cell_type": "code",
      "execution_count": 11,
      "metadata": {
        "colab": {
          "base_uri": "https://localhost:8080/",
          "height": 332
        },
        "id": "zyj1vW_MwCXd",
        "outputId": "75be59a7-446d-442f-9ba9-bb51d1e69297"
      },
      "outputs": [
        {
          "output_type": "execute_result",
          "data": {
            "text/plain": [
              "            count       mean         std    min     25%     50%     75%  \\\n",
              "seniority  4455.0        8.0         8.0    0.0     2.0     5.0    12.0   \n",
              "time       4455.0       46.0        15.0    6.0    36.0    48.0    60.0   \n",
              "age        4455.0       37.0        11.0   18.0    28.0    36.0    45.0   \n",
              "expenses   4455.0       56.0        20.0   35.0    35.0    51.0    72.0   \n",
              "income     4455.0   763317.0   8703625.0    0.0    80.0   120.0   166.0   \n",
              "assets     4455.0  1060341.0  10217569.0    0.0     0.0  3500.0  6000.0   \n",
              "debt       4455.0   404382.0   6344253.0    0.0     0.0     0.0     0.0   \n",
              "amount     4455.0     1039.0       475.0  100.0   700.0  1000.0  1300.0   \n",
              "price      4455.0     1463.0       628.0  105.0  1118.0  1400.0  1692.0   \n",
              "\n",
              "                  max  \n",
              "seniority        48.0  \n",
              "time             72.0  \n",
              "age              68.0  \n",
              "expenses        180.0  \n",
              "income     99999999.0  \n",
              "assets     99999999.0  \n",
              "debt       99999999.0  \n",
              "amount         5000.0  \n",
              "price         11140.0  "
            ],
            "text/html": [
              "\n",
              "  <div id=\"df-1ac9bffc-b3ec-47ff-a407-b960b32c0132\">\n",
              "    <div class=\"colab-df-container\">\n",
              "      <div>\n",
              "<style scoped>\n",
              "    .dataframe tbody tr th:only-of-type {\n",
              "        vertical-align: middle;\n",
              "    }\n",
              "\n",
              "    .dataframe tbody tr th {\n",
              "        vertical-align: top;\n",
              "    }\n",
              "\n",
              "    .dataframe thead th {\n",
              "        text-align: right;\n",
              "    }\n",
              "</style>\n",
              "<table border=\"1\" class=\"dataframe\">\n",
              "  <thead>\n",
              "    <tr style=\"text-align: right;\">\n",
              "      <th></th>\n",
              "      <th>count</th>\n",
              "      <th>mean</th>\n",
              "      <th>std</th>\n",
              "      <th>min</th>\n",
              "      <th>25%</th>\n",
              "      <th>50%</th>\n",
              "      <th>75%</th>\n",
              "      <th>max</th>\n",
              "    </tr>\n",
              "  </thead>\n",
              "  <tbody>\n",
              "    <tr>\n",
              "      <th>seniority</th>\n",
              "      <td>4455.0</td>\n",
              "      <td>8.0</td>\n",
              "      <td>8.0</td>\n",
              "      <td>0.0</td>\n",
              "      <td>2.0</td>\n",
              "      <td>5.0</td>\n",
              "      <td>12.0</td>\n",
              "      <td>48.0</td>\n",
              "    </tr>\n",
              "    <tr>\n",
              "      <th>time</th>\n",
              "      <td>4455.0</td>\n",
              "      <td>46.0</td>\n",
              "      <td>15.0</td>\n",
              "      <td>6.0</td>\n",
              "      <td>36.0</td>\n",
              "      <td>48.0</td>\n",
              "      <td>60.0</td>\n",
              "      <td>72.0</td>\n",
              "    </tr>\n",
              "    <tr>\n",
              "      <th>age</th>\n",
              "      <td>4455.0</td>\n",
              "      <td>37.0</td>\n",
              "      <td>11.0</td>\n",
              "      <td>18.0</td>\n",
              "      <td>28.0</td>\n",
              "      <td>36.0</td>\n",
              "      <td>45.0</td>\n",
              "      <td>68.0</td>\n",
              "    </tr>\n",
              "    <tr>\n",
              "      <th>expenses</th>\n",
              "      <td>4455.0</td>\n",
              "      <td>56.0</td>\n",
              "      <td>20.0</td>\n",
              "      <td>35.0</td>\n",
              "      <td>35.0</td>\n",
              "      <td>51.0</td>\n",
              "      <td>72.0</td>\n",
              "      <td>180.0</td>\n",
              "    </tr>\n",
              "    <tr>\n",
              "      <th>income</th>\n",
              "      <td>4455.0</td>\n",
              "      <td>763317.0</td>\n",
              "      <td>8703625.0</td>\n",
              "      <td>0.0</td>\n",
              "      <td>80.0</td>\n",
              "      <td>120.0</td>\n",
              "      <td>166.0</td>\n",
              "      <td>99999999.0</td>\n",
              "    </tr>\n",
              "    <tr>\n",
              "      <th>assets</th>\n",
              "      <td>4455.0</td>\n",
              "      <td>1060341.0</td>\n",
              "      <td>10217569.0</td>\n",
              "      <td>0.0</td>\n",
              "      <td>0.0</td>\n",
              "      <td>3500.0</td>\n",
              "      <td>6000.0</td>\n",
              "      <td>99999999.0</td>\n",
              "    </tr>\n",
              "    <tr>\n",
              "      <th>debt</th>\n",
              "      <td>4455.0</td>\n",
              "      <td>404382.0</td>\n",
              "      <td>6344253.0</td>\n",
              "      <td>0.0</td>\n",
              "      <td>0.0</td>\n",
              "      <td>0.0</td>\n",
              "      <td>0.0</td>\n",
              "      <td>99999999.0</td>\n",
              "    </tr>\n",
              "    <tr>\n",
              "      <th>amount</th>\n",
              "      <td>4455.0</td>\n",
              "      <td>1039.0</td>\n",
              "      <td>475.0</td>\n",
              "      <td>100.0</td>\n",
              "      <td>700.0</td>\n",
              "      <td>1000.0</td>\n",
              "      <td>1300.0</td>\n",
              "      <td>5000.0</td>\n",
              "    </tr>\n",
              "    <tr>\n",
              "      <th>price</th>\n",
              "      <td>4455.0</td>\n",
              "      <td>1463.0</td>\n",
              "      <td>628.0</td>\n",
              "      <td>105.0</td>\n",
              "      <td>1118.0</td>\n",
              "      <td>1400.0</td>\n",
              "      <td>1692.0</td>\n",
              "      <td>11140.0</td>\n",
              "    </tr>\n",
              "  </tbody>\n",
              "</table>\n",
              "</div>\n",
              "      <button class=\"colab-df-convert\" onclick=\"convertToInteractive('df-1ac9bffc-b3ec-47ff-a407-b960b32c0132')\"\n",
              "              title=\"Convert this dataframe to an interactive table.\"\n",
              "              style=\"display:none;\">\n",
              "        \n",
              "  <svg xmlns=\"http://www.w3.org/2000/svg\" height=\"24px\"viewBox=\"0 0 24 24\"\n",
              "       width=\"24px\">\n",
              "    <path d=\"M0 0h24v24H0V0z\" fill=\"none\"/>\n",
              "    <path d=\"M18.56 5.44l.94 2.06.94-2.06 2.06-.94-2.06-.94-.94-2.06-.94 2.06-2.06.94zm-11 1L8.5 8.5l.94-2.06 2.06-.94-2.06-.94L8.5 2.5l-.94 2.06-2.06.94zm10 10l.94 2.06.94-2.06 2.06-.94-2.06-.94-.94-2.06-.94 2.06-2.06.94z\"/><path d=\"M17.41 7.96l-1.37-1.37c-.4-.4-.92-.59-1.43-.59-.52 0-1.04.2-1.43.59L10.3 9.45l-7.72 7.72c-.78.78-.78 2.05 0 2.83L4 21.41c.39.39.9.59 1.41.59.51 0 1.02-.2 1.41-.59l7.78-7.78 2.81-2.81c.8-.78.8-2.07 0-2.86zM5.41 20L4 18.59l7.72-7.72 1.47 1.35L5.41 20z\"/>\n",
              "  </svg>\n",
              "      </button>\n",
              "      \n",
              "  <style>\n",
              "    .colab-df-container {\n",
              "      display:flex;\n",
              "      flex-wrap:wrap;\n",
              "      gap: 12px;\n",
              "    }\n",
              "\n",
              "    .colab-df-convert {\n",
              "      background-color: #E8F0FE;\n",
              "      border: none;\n",
              "      border-radius: 50%;\n",
              "      cursor: pointer;\n",
              "      display: none;\n",
              "      fill: #1967D2;\n",
              "      height: 32px;\n",
              "      padding: 0 0 0 0;\n",
              "      width: 32px;\n",
              "    }\n",
              "\n",
              "    .colab-df-convert:hover {\n",
              "      background-color: #E2EBFA;\n",
              "      box-shadow: 0px 1px 2px rgba(60, 64, 67, 0.3), 0px 1px 3px 1px rgba(60, 64, 67, 0.15);\n",
              "      fill: #174EA6;\n",
              "    }\n",
              "\n",
              "    [theme=dark] .colab-df-convert {\n",
              "      background-color: #3B4455;\n",
              "      fill: #D2E3FC;\n",
              "    }\n",
              "\n",
              "    [theme=dark] .colab-df-convert:hover {\n",
              "      background-color: #434B5C;\n",
              "      box-shadow: 0px 1px 3px 1px rgba(0, 0, 0, 0.15);\n",
              "      filter: drop-shadow(0px 1px 2px rgba(0, 0, 0, 0.3));\n",
              "      fill: #FFFFFF;\n",
              "    }\n",
              "  </style>\n",
              "\n",
              "      <script>\n",
              "        const buttonEl =\n",
              "          document.querySelector('#df-1ac9bffc-b3ec-47ff-a407-b960b32c0132 button.colab-df-convert');\n",
              "        buttonEl.style.display =\n",
              "          google.colab.kernel.accessAllowed ? 'block' : 'none';\n",
              "\n",
              "        async function convertToInteractive(key) {\n",
              "          const element = document.querySelector('#df-1ac9bffc-b3ec-47ff-a407-b960b32c0132');\n",
              "          const dataTable =\n",
              "            await google.colab.kernel.invokeFunction('convertToInteractive',\n",
              "                                                     [key], {});\n",
              "          if (!dataTable) return;\n",
              "\n",
              "          const docLinkHtml = 'Like what you see? Visit the ' +\n",
              "            '<a target=\"_blank\" href=https://colab.research.google.com/notebooks/data_table.ipynb>data table notebook</a>'\n",
              "            + ' to learn more about interactive tables.';\n",
              "          element.innerHTML = '';\n",
              "          dataTable['output_type'] = 'display_data';\n",
              "          await google.colab.output.renderOutput(dataTable, element);\n",
              "          const docLink = document.createElement('div');\n",
              "          docLink.innerHTML = docLinkHtml;\n",
              "          element.appendChild(docLink);\n",
              "        }\n",
              "      </script>\n",
              "    </div>\n",
              "  </div>\n",
              "  "
            ]
          },
          "metadata": {},
          "execution_count": 11
        }
      ],
      "source": [
        "df.describe().T.round()"
      ]
    },
    {
      "cell_type": "markdown",
      "metadata": {
        "id": "gD8XQsna2Hfn"
      },
      "source": [
        "One thing we immediately can notice is that the max value is 99999999 in some cases. This is quite suspicious. As it turns out, it’s an artificial value — this is how missing values are encoded in this dataset."
      ]
    },
    {
      "cell_type": "code",
      "execution_count": 12,
      "metadata": {
        "id": "EVtahDkV1Uqv"
      },
      "outputs": [],
      "source": [
        "def fix_missing_values(df, val_to_rep, rep, *f_lst):\n",
        "  for f in f_lst:\n",
        "    df[f] = df[f].replace(val_to_rep, rep)"
      ]
    },
    {
      "cell_type": "code",
      "execution_count": 13,
      "metadata": {
        "id": "MwJF1sQp29Sf"
      },
      "outputs": [],
      "source": [
        "fix_missing_values(df, 99999999.0, np.nan, ['income', 'assets', 'debt'])"
      ]
    },
    {
      "cell_type": "code",
      "execution_count": 14,
      "metadata": {
        "colab": {
          "base_uri": "https://localhost:8080/",
          "height": 332
        },
        "id": "AymfAQsU3Pse",
        "outputId": "b74e2a3e-1e29-4ebf-d7a6-6edcd2c02004"
      },
      "outputs": [
        {
          "output_type": "execute_result",
          "data": {
            "text/plain": [
              "            count    mean      std    min     25%     50%     75%       max\n",
              "seniority  4455.0     8.0      8.0    0.0     2.0     5.0    12.0      48.0\n",
              "time       4455.0    46.0     15.0    6.0    36.0    48.0    60.0      72.0\n",
              "age        4455.0    37.0     11.0   18.0    28.0    36.0    45.0      68.0\n",
              "expenses   4455.0    56.0     20.0   35.0    35.0    51.0    72.0     180.0\n",
              "income     4421.0   131.0     86.0    0.0    80.0   120.0   165.0     959.0\n",
              "assets     4408.0  5403.0  11573.0    0.0     0.0  3000.0  6000.0  300000.0\n",
              "debt       4437.0   343.0   1246.0    0.0     0.0     0.0     0.0   30000.0\n",
              "amount     4455.0  1039.0    475.0  100.0   700.0  1000.0  1300.0    5000.0\n",
              "price      4455.0  1463.0    628.0  105.0  1118.0  1400.0  1692.0   11140.0"
            ],
            "text/html": [
              "\n",
              "  <div id=\"df-175c443f-60ba-4e7b-b335-acc7eb088994\">\n",
              "    <div class=\"colab-df-container\">\n",
              "      <div>\n",
              "<style scoped>\n",
              "    .dataframe tbody tr th:only-of-type {\n",
              "        vertical-align: middle;\n",
              "    }\n",
              "\n",
              "    .dataframe tbody tr th {\n",
              "        vertical-align: top;\n",
              "    }\n",
              "\n",
              "    .dataframe thead th {\n",
              "        text-align: right;\n",
              "    }\n",
              "</style>\n",
              "<table border=\"1\" class=\"dataframe\">\n",
              "  <thead>\n",
              "    <tr style=\"text-align: right;\">\n",
              "      <th></th>\n",
              "      <th>count</th>\n",
              "      <th>mean</th>\n",
              "      <th>std</th>\n",
              "      <th>min</th>\n",
              "      <th>25%</th>\n",
              "      <th>50%</th>\n",
              "      <th>75%</th>\n",
              "      <th>max</th>\n",
              "    </tr>\n",
              "  </thead>\n",
              "  <tbody>\n",
              "    <tr>\n",
              "      <th>seniority</th>\n",
              "      <td>4455.0</td>\n",
              "      <td>8.0</td>\n",
              "      <td>8.0</td>\n",
              "      <td>0.0</td>\n",
              "      <td>2.0</td>\n",
              "      <td>5.0</td>\n",
              "      <td>12.0</td>\n",
              "      <td>48.0</td>\n",
              "    </tr>\n",
              "    <tr>\n",
              "      <th>time</th>\n",
              "      <td>4455.0</td>\n",
              "      <td>46.0</td>\n",
              "      <td>15.0</td>\n",
              "      <td>6.0</td>\n",
              "      <td>36.0</td>\n",
              "      <td>48.0</td>\n",
              "      <td>60.0</td>\n",
              "      <td>72.0</td>\n",
              "    </tr>\n",
              "    <tr>\n",
              "      <th>age</th>\n",
              "      <td>4455.0</td>\n",
              "      <td>37.0</td>\n",
              "      <td>11.0</td>\n",
              "      <td>18.0</td>\n",
              "      <td>28.0</td>\n",
              "      <td>36.0</td>\n",
              "      <td>45.0</td>\n",
              "      <td>68.0</td>\n",
              "    </tr>\n",
              "    <tr>\n",
              "      <th>expenses</th>\n",
              "      <td>4455.0</td>\n",
              "      <td>56.0</td>\n",
              "      <td>20.0</td>\n",
              "      <td>35.0</td>\n",
              "      <td>35.0</td>\n",
              "      <td>51.0</td>\n",
              "      <td>72.0</td>\n",
              "      <td>180.0</td>\n",
              "    </tr>\n",
              "    <tr>\n",
              "      <th>income</th>\n",
              "      <td>4421.0</td>\n",
              "      <td>131.0</td>\n",
              "      <td>86.0</td>\n",
              "      <td>0.0</td>\n",
              "      <td>80.0</td>\n",
              "      <td>120.0</td>\n",
              "      <td>165.0</td>\n",
              "      <td>959.0</td>\n",
              "    </tr>\n",
              "    <tr>\n",
              "      <th>assets</th>\n",
              "      <td>4408.0</td>\n",
              "      <td>5403.0</td>\n",
              "      <td>11573.0</td>\n",
              "      <td>0.0</td>\n",
              "      <td>0.0</td>\n",
              "      <td>3000.0</td>\n",
              "      <td>6000.0</td>\n",
              "      <td>300000.0</td>\n",
              "    </tr>\n",
              "    <tr>\n",
              "      <th>debt</th>\n",
              "      <td>4437.0</td>\n",
              "      <td>343.0</td>\n",
              "      <td>1246.0</td>\n",
              "      <td>0.0</td>\n",
              "      <td>0.0</td>\n",
              "      <td>0.0</td>\n",
              "      <td>0.0</td>\n",
              "      <td>30000.0</td>\n",
              "    </tr>\n",
              "    <tr>\n",
              "      <th>amount</th>\n",
              "      <td>4455.0</td>\n",
              "      <td>1039.0</td>\n",
              "      <td>475.0</td>\n",
              "      <td>100.0</td>\n",
              "      <td>700.0</td>\n",
              "      <td>1000.0</td>\n",
              "      <td>1300.0</td>\n",
              "      <td>5000.0</td>\n",
              "    </tr>\n",
              "    <tr>\n",
              "      <th>price</th>\n",
              "      <td>4455.0</td>\n",
              "      <td>1463.0</td>\n",
              "      <td>628.0</td>\n",
              "      <td>105.0</td>\n",
              "      <td>1118.0</td>\n",
              "      <td>1400.0</td>\n",
              "      <td>1692.0</td>\n",
              "      <td>11140.0</td>\n",
              "    </tr>\n",
              "  </tbody>\n",
              "</table>\n",
              "</div>\n",
              "      <button class=\"colab-df-convert\" onclick=\"convertToInteractive('df-175c443f-60ba-4e7b-b335-acc7eb088994')\"\n",
              "              title=\"Convert this dataframe to an interactive table.\"\n",
              "              style=\"display:none;\">\n",
              "        \n",
              "  <svg xmlns=\"http://www.w3.org/2000/svg\" height=\"24px\"viewBox=\"0 0 24 24\"\n",
              "       width=\"24px\">\n",
              "    <path d=\"M0 0h24v24H0V0z\" fill=\"none\"/>\n",
              "    <path d=\"M18.56 5.44l.94 2.06.94-2.06 2.06-.94-2.06-.94-.94-2.06-.94 2.06-2.06.94zm-11 1L8.5 8.5l.94-2.06 2.06-.94-2.06-.94L8.5 2.5l-.94 2.06-2.06.94zm10 10l.94 2.06.94-2.06 2.06-.94-2.06-.94-.94-2.06-.94 2.06-2.06.94z\"/><path d=\"M17.41 7.96l-1.37-1.37c-.4-.4-.92-.59-1.43-.59-.52 0-1.04.2-1.43.59L10.3 9.45l-7.72 7.72c-.78.78-.78 2.05 0 2.83L4 21.41c.39.39.9.59 1.41.59.51 0 1.02-.2 1.41-.59l7.78-7.78 2.81-2.81c.8-.78.8-2.07 0-2.86zM5.41 20L4 18.59l7.72-7.72 1.47 1.35L5.41 20z\"/>\n",
              "  </svg>\n",
              "      </button>\n",
              "      \n",
              "  <style>\n",
              "    .colab-df-container {\n",
              "      display:flex;\n",
              "      flex-wrap:wrap;\n",
              "      gap: 12px;\n",
              "    }\n",
              "\n",
              "    .colab-df-convert {\n",
              "      background-color: #E8F0FE;\n",
              "      border: none;\n",
              "      border-radius: 50%;\n",
              "      cursor: pointer;\n",
              "      display: none;\n",
              "      fill: #1967D2;\n",
              "      height: 32px;\n",
              "      padding: 0 0 0 0;\n",
              "      width: 32px;\n",
              "    }\n",
              "\n",
              "    .colab-df-convert:hover {\n",
              "      background-color: #E2EBFA;\n",
              "      box-shadow: 0px 1px 2px rgba(60, 64, 67, 0.3), 0px 1px 3px 1px rgba(60, 64, 67, 0.15);\n",
              "      fill: #174EA6;\n",
              "    }\n",
              "\n",
              "    [theme=dark] .colab-df-convert {\n",
              "      background-color: #3B4455;\n",
              "      fill: #D2E3FC;\n",
              "    }\n",
              "\n",
              "    [theme=dark] .colab-df-convert:hover {\n",
              "      background-color: #434B5C;\n",
              "      box-shadow: 0px 1px 3px 1px rgba(0, 0, 0, 0.15);\n",
              "      filter: drop-shadow(0px 1px 2px rgba(0, 0, 0, 0.3));\n",
              "      fill: #FFFFFF;\n",
              "    }\n",
              "  </style>\n",
              "\n",
              "      <script>\n",
              "        const buttonEl =\n",
              "          document.querySelector('#df-175c443f-60ba-4e7b-b335-acc7eb088994 button.colab-df-convert');\n",
              "        buttonEl.style.display =\n",
              "          google.colab.kernel.accessAllowed ? 'block' : 'none';\n",
              "\n",
              "        async function convertToInteractive(key) {\n",
              "          const element = document.querySelector('#df-175c443f-60ba-4e7b-b335-acc7eb088994');\n",
              "          const dataTable =\n",
              "            await google.colab.kernel.invokeFunction('convertToInteractive',\n",
              "                                                     [key], {});\n",
              "          if (!dataTable) return;\n",
              "\n",
              "          const docLinkHtml = 'Like what you see? Visit the ' +\n",
              "            '<a target=\"_blank\" href=https://colab.research.google.com/notebooks/data_table.ipynb>data table notebook</a>'\n",
              "            + ' to learn more about interactive tables.';\n",
              "          element.innerHTML = '';\n",
              "          dataTable['output_type'] = 'display_data';\n",
              "          await google.colab.output.renderOutput(dataTable, element);\n",
              "          const docLink = document.createElement('div');\n",
              "          docLink.innerHTML = docLinkHtml;\n",
              "          element.appendChild(docLink);\n",
              "        }\n",
              "      </script>\n",
              "    </div>\n",
              "  </div>\n",
              "  "
            ]
          },
          "metadata": {},
          "execution_count": 14
        }
      ],
      "source": [
        "df.describe().T.round()"
      ]
    },
    {
      "cell_type": "code",
      "execution_count": 15,
      "metadata": {
        "colab": {
          "base_uri": "https://localhost:8080/"
        },
        "id": "zUjTSr8C3T9t",
        "outputId": "a9292e56-270b-4b5b-ecd3-bec50bf81b5a"
      },
      "outputs": [
        {
          "output_type": "execute_result",
          "data": {
            "text/plain": [
              "status        0\n",
              "seniority     0\n",
              "home          0\n",
              "time          0\n",
              "age           0\n",
              "marital       0\n",
              "records       0\n",
              "job           0\n",
              "expenses      0\n",
              "income       34\n",
              "assets       47\n",
              "debt         18\n",
              "amount        0\n",
              "price         0\n",
              "dtype: int64"
            ]
          },
          "metadata": {},
          "execution_count": 15
        }
      ],
      "source": [
        "df.isna().sum()"
      ]
    },
    {
      "cell_type": "markdown",
      "metadata": {
        "id": "gBfTRnc74sqy"
      },
      "source": [
        "We notice that there’s one row with “unknown” status: we don’t know whether this client\n",
        "managed to pay back the loan or not. For our project, this row is not useful"
      ]
    },
    {
      "cell_type": "code",
      "execution_count": 16,
      "metadata": {
        "id": "AZyqFBPe3ipL"
      },
      "outputs": [],
      "source": [
        "df = df[df.status != 'unk']"
      ]
    },
    {
      "cell_type": "markdown",
      "metadata": {
        "id": "r0y-vPvv5Cbi"
      },
      "source": []
    },
    {
      "cell_type": "markdown",
      "metadata": {
        "id": "e71srGg-5Ioa"
      },
      "source": [
        "# Dataset preparation"
      ]
    },
    {
      "cell_type": "markdown",
      "metadata": {
        "id": "RohaCtyR666n"
      },
      "source": [
        "Separate target from features. Since our objective is to determine if somebody fails to pay back their credit, the positive class is “default”. This means that y is “1” if the client defaulted and\n",
        "“0” otherwise."
      ]
    },
    {
      "cell_type": "code",
      "execution_count": 17,
      "metadata": {
        "id": "5sCJtqRH6XUw"
      },
      "outputs": [],
      "source": [
        "data, target = df.drop(columns=['status']), df['status'].map({'ok':0, 'default':1})"
      ]
    },
    {
      "cell_type": "code",
      "execution_count": 18,
      "metadata": {
        "colab": {
          "base_uri": "https://localhost:8080/"
        },
        "id": "M7DSlchu7VC6",
        "outputId": "e6d6920b-1bab-4af0-cd81-15079e6f2e37"
      },
      "outputs": [
        {
          "output_type": "execute_result",
          "data": {
            "text/plain": [
              "0    0\n",
              "1    0\n",
              "2    1\n",
              "3    0\n",
              "4    0\n",
              "Name: status, dtype: int64"
            ]
          },
          "metadata": {},
          "execution_count": 18
        }
      ],
      "source": [
        "target.head()"
      ]
    },
    {
      "cell_type": "markdown",
      "metadata": {
        "id": "mAZTyM5c5hfP"
      },
      "source": [
        "**Spliting data**"
      ]
    },
    {
      "cell_type": "code",
      "execution_count": 19,
      "metadata": {
        "colab": {
          "base_uri": "https://localhost:8080/"
        },
        "id": "0ViNmhnG41E8",
        "outputId": "1f0d2967-1eb2-44cd-bf88-2c400f903543"
      },
      "outputs": [
        {
          "output_type": "execute_result",
          "data": {
            "text/plain": [
              "((2672, 13), (2672,), (891, 13), (891,), (891, 13), (891,))"
            ]
          },
          "metadata": {},
          "execution_count": 19
        }
      ],
      "source": [
        "from sklearn import model_selection\n",
        "\n",
        "X_full_train, X_test, y_full_train, y_test = model_selection.train_test_split(\n",
        "    data,\n",
        "    target,\n",
        "    test_size=.2,\n",
        "    random_state=11,\n",
        ")\n",
        "X_train, X_dev, y_train, y_dev = model_selection.train_test_split(\n",
        "    X_full_train,\n",
        "    y_full_train,\n",
        "    test_size=.25,\n",
        "    random_state=11,\n",
        ")\n",
        "\n",
        "X_train.shape, y_train.shape, X_dev.shape, y_dev.shape, X_test.shape, y_test.shape"
      ]
    },
    {
      "cell_type": "markdown",
      "metadata": {
        "id": "XM6j6NkD-CPs"
      },
      "source": [
        "**impute missing values and make pipelines**"
      ]
    },
    {
      "cell_type": "code",
      "execution_count": 20,
      "metadata": {
        "id": "pmW6udgI9OTY"
      },
      "outputs": [],
      "source": [
        "from sklearn.impute import SimpleImputer\n",
        "from sklearn.preprocessing import OrdinalEncoder\n",
        "from sklearn.compose import (\n",
        "    make_column_selector as selector, \n",
        "    ColumnTransformer, \n",
        "    make_column_transformer,\n",
        ")    \n",
        "from sklearn.pipeline import Pipeline, make_pipeline\n",
        "\n",
        "\n",
        "numerical = selector(dtype_include=np.number)(data)\n",
        "categorical = selector(dtype_include=object)(data)\n",
        "\n",
        "num_imputer = SimpleImputer(missing_values=np.NaN, strategy='constant', fill_value=0)\n",
        "cat_imputer = SimpleImputer(strategy='constant', fill_value='unk')\n",
        "cat_encoder = OrdinalEncoder(handle_unknown='use_encoded_value', unknown_value=-1)\n",
        "\n",
        "cat_preprocessor = Pipeline([\n",
        "    ('category_imputer', cat_imputer),\n",
        "    ('category_encoder', cat_encoder)\n",
        "])\n",
        "\n",
        "processor = ColumnTransformer([\n",
        "    ('numeric', num_imputer, numerical),\n",
        "    ('category', cat_preprocessor, categorical)\n",
        "])"
      ]
    },
    {
      "cell_type": "markdown",
      "metadata": {
        "id": "ZyNCVzxVB3R3"
      },
      "source": [
        "# Models"
      ]
    },
    {
      "cell_type": "markdown",
      "metadata": {
        "id": "771JiHqyB6Co"
      },
      "source": [
        "## Decision Trees"
      ]
    },
    {
      "cell_type": "code",
      "execution_count": 21,
      "metadata": {
        "colab": {
          "base_uri": "https://localhost:8080/"
        },
        "id": "ko89Tp84Bqq_",
        "outputId": "8f715ecc-9431-4189-8159-2edb5a31fbee"
      },
      "outputs": [
        {
          "output_type": "execute_result",
          "data": {
            "text/plain": [
              "Pipeline(steps=[('columntransformer',\n",
              "                 ColumnTransformer(transformers=[('numeric',\n",
              "                                                  SimpleImputer(fill_value=0,\n",
              "                                                                strategy='constant'),\n",
              "                                                  ['seniority', 'time', 'age',\n",
              "                                                   'expenses', 'income',\n",
              "                                                   'assets', 'debt', 'amount',\n",
              "                                                   'price']),\n",
              "                                                 ('category',\n",
              "                                                  Pipeline(steps=[('category_imputer',\n",
              "                                                                   SimpleImputer(fill_value='unk',\n",
              "                                                                                 strategy='constant')),\n",
              "                                                                  ('category_encoder',\n",
              "                                                                   OrdinalEncoder(handle_unknown='use_encoded_value',\n",
              "                                                                                  unknown_value=-1))]),\n",
              "                                                  ['home', 'marital', 'records',\n",
              "                                                   'job'])])),\n",
              "                ('decisiontreeclassifier', DecisionTreeClassifier())])"
            ]
          },
          "metadata": {},
          "execution_count": 21
        }
      ],
      "source": [
        "from sklearn.tree import DecisionTreeClassifier\n",
        "\n",
        "dt = make_pipeline(processor, DecisionTreeClassifier())\n",
        "dt.fit(X_train, y_train)"
      ]
    },
    {
      "cell_type": "code",
      "execution_count": 22,
      "metadata": {
        "colab": {
          "base_uri": "https://localhost:8080/"
        },
        "id": "IcV8ePd3DE1z",
        "outputId": "ea14a9ee-a3c2-4c98-8e5b-36c90b23463e"
      },
      "outputs": [
        {
          "output_type": "execute_result",
          "data": {
            "text/plain": [
              "1.0"
            ]
          },
          "metadata": {},
          "execution_count": 22
        }
      ],
      "source": [
        "from sklearn import metrics\n",
        "\n",
        "y_pred = dt.predict_proba(X_train)[:, 1]\n",
        "metrics.roc_auc_score(y_train, y_pred)"
      ]
    },
    {
      "cell_type": "code",
      "execution_count": 23,
      "metadata": {
        "colab": {
          "base_uri": "https://localhost:8080/"
        },
        "id": "I_67MGEAGWI3",
        "outputId": "238dbb1a-eedf-4bed-ffaa-daa41deddff4"
      },
      "outputs": [
        {
          "output_type": "execute_result",
          "data": {
            "text/plain": [
              "0.6544828170787822"
            ]
          },
          "metadata": {},
          "execution_count": 23
        }
      ],
      "source": [
        "y_pred = dt.predict_proba(X_dev)[:, 1]\n",
        "metrics.roc_auc_score(y_dev, y_pred)"
      ]
    },
    {
      "cell_type": "code",
      "execution_count": 24,
      "metadata": {
        "colab": {
          "base_uri": "https://localhost:8080/"
        },
        "id": "xQjDcsknGcjj",
        "outputId": "a3bb25f2-5f76-4c04-c105-ca9ef5a660c8"
      },
      "outputs": [
        {
          "output_type": "execute_result",
          "data": {
            "text/plain": [
              "0.49049429657794674"
            ]
          },
          "metadata": {},
          "execution_count": 24
        }
      ],
      "source": [
        "metrics.recall_score(y_dev, y_pred)"
      ]
    },
    {
      "cell_type": "markdown",
      "metadata": {
        "id": "6JgO_RplITzw"
      },
      "source": [
        "We just observed a case of overfitting. The tree learned the training data so well that it simply memorized the outcome for each customer. However, when we applied it to the validation set, the model failed. The rules it extracted from data turned out too specific to the training set, so it worked poorly for customers it didn’t see during training. In such cases, we say that the model cannot generalize. Overfitting happens when we have a complex model with enough power to remember all the training data. If we force the model to be simpler, we can make it less powerful, and improve the model’s ability to generalize. There are multiple ways of controlling the complexity of a tree. One of the options is restricting its size: we can specify the max_depth parameter, which controls the maximal number of levels. The more levels a tree has, the more complex rules it can learn."
      ]
    },
    {
      "cell_type": "markdown",
      "metadata": {
        "id": "Pr31GPj-KuXK"
      },
      "source": [
        "The default value for the `max_depth` parameter is `None`, which means that the tree can grow\n",
        "as large as possible. We can try a smaller value and compare the results."
      ]
    },
    {
      "cell_type": "code",
      "execution_count": 25,
      "metadata": {
        "colab": {
          "base_uri": "https://localhost:8080/"
        },
        "id": "t_4jVC3gHLEM",
        "outputId": "117a5aba-20d9-40d4-c30e-fea54cc6b823"
      },
      "outputs": [
        {
          "output_type": "execute_result",
          "data": {
            "text/plain": [
              "Pipeline(steps=[('columntransformer',\n",
              "                 ColumnTransformer(transformers=[('numeric',\n",
              "                                                  SimpleImputer(fill_value=0,\n",
              "                                                                strategy='constant'),\n",
              "                                                  ['seniority', 'time', 'age',\n",
              "                                                   'expenses', 'income',\n",
              "                                                   'assets', 'debt', 'amount',\n",
              "                                                   'price']),\n",
              "                                                 ('category',\n",
              "                                                  Pipeline(steps=[('category_imputer',\n",
              "                                                                   SimpleImputer(fill_value='unk',\n",
              "                                                                                 strategy='constant')),\n",
              "                                                                  ('category_encoder',\n",
              "                                                                   OrdinalEncoder(handle_unknown='use_encoded_value',\n",
              "                                                                                  unknown_value=-1))]),\n",
              "                                                  ['home', 'marital', 'records',\n",
              "                                                   'job'])])),\n",
              "                ('decisiontreeclassifier',\n",
              "                 DecisionTreeClassifier(max_depth=2))])"
            ]
          },
          "metadata": {},
          "execution_count": 25
        }
      ],
      "source": [
        "max_depth = 2\n",
        "\n",
        "dt = make_pipeline(processor, DecisionTreeClassifier(max_depth=max_depth))\n",
        "dt.fit(X_train, y_train)"
      ]
    },
    {
      "cell_type": "code",
      "execution_count": 26,
      "metadata": {
        "colab": {
          "base_uri": "https://localhost:8080/"
        },
        "id": "q75X8PNcK9Or",
        "outputId": "fb279189-e583-4282-b081-5f3de07d0644"
      },
      "outputs": [
        {
          "output_type": "stream",
          "name": "stdout",
          "text": [
            "|--- feature_11 <= 0.50\n",
            "|   |--- feature_12 <= 2.50\n",
            "|   |   |--- class: 0\n",
            "|   |--- feature_12 >  2.50\n",
            "|   |   |--- class: 1\n",
            "|--- feature_11 >  0.50\n",
            "|   |--- feature_0 <= 6.50\n",
            "|   |   |--- class: 1\n",
            "|   |--- feature_0 >  6.50\n",
            "|   |   |--- class: 0\n",
            "\n"
          ]
        }
      ],
      "source": [
        "from sklearn.tree import export_text\n",
        "\n",
        "\n",
        "tree_text = export_text(dt[1])\n",
        "print(tree_text)"
      ]
    },
    {
      "cell_type": "code",
      "execution_count": 27,
      "metadata": {
        "colab": {
          "base_uri": "https://localhost:8080/"
        },
        "id": "J78l5g1-O_nl",
        "outputId": "e1fc396d-a325-4e05-dfba-508739cac683"
      },
      "outputs": [
        {
          "output_type": "stream",
          "name": "stdout",
          "text": [
            "AUC train set: 0.7061968339811842\n"
          ]
        }
      ],
      "source": [
        "y_pred = dt.predict_proba(X_train)[:, 1]\n",
        "print(f\"AUC train set: {metrics.roc_auc_score(y_train, y_pred)}\")"
      ]
    },
    {
      "cell_type": "code",
      "execution_count": 28,
      "metadata": {
        "colab": {
          "base_uri": "https://localhost:8080/"
        },
        "id": "pvjMefDcM3Px",
        "outputId": "1e73ad7c-c7e5-4622-91b0-88d04aa89f1a"
      },
      "outputs": [
        {
          "output_type": "stream",
          "name": "stdout",
          "text": [
            "AUC dev set: 0.6685264343319367\n"
          ]
        }
      ],
      "source": [
        "y_pred = dt.predict_proba(X_dev)[:, 1]\n",
        "print(f\"AUC dev set: {metrics.roc_auc_score(y_dev, y_pred)}\")"
      ]
    },
    {
      "cell_type": "code",
      "execution_count": 29,
      "metadata": {
        "colab": {
          "base_uri": "https://localhost:8080/"
        },
        "id": "J8OYqca_OooQ",
        "outputId": "d347f23f-d69e-4925-ffba-be14ade53369"
      },
      "outputs": [
        {
          "output_type": "stream",
          "name": "stdout",
          "text": [
            "Recall dev set: 0.38022813688212925\n"
          ]
        }
      ],
      "source": [
        "y_pred_rec = dt.predict(X_dev)\n",
        "print(f\"Recall dev set: {metrics.recall_score(y_dev, y_pred_rec)}\")"
      ]
    },
    {
      "cell_type": "code",
      "execution_count": 30,
      "metadata": {
        "colab": {
          "base_uri": "https://localhost:8080/"
        },
        "id": "XhlvKoaZPmDL",
        "outputId": "950ec25a-b04c-405a-8cd6-22cf88e77cdd"
      },
      "outputs": [
        {
          "output_type": "stream",
          "name": "stdout",
          "text": [
            "max_depth: 5 ---> auc: 0.767\n",
            "max_depth: 8 ---> auc: 0.729\n",
            "max_depth: 15 ---> auc: 0.668\n",
            "max_depth: 25 ---> auc: 0.655\n",
            "max_depth: 30 ---> auc: 0.664\n",
            "max_depth: None ---> auc: 0.665\n"
          ]
        }
      ],
      "source": [
        "auc = []\n",
        "\n",
        "for depth in [5, 8, 15, 25, 30, None]:\n",
        "  dt = make_pipeline(processor, DecisionTreeClassifier(max_depth=depth))\n",
        "  dt.fit(X_train, y_train)\n",
        "  preds = dt.predict_proba(X_dev)[:, 1]\n",
        "  score = metrics.roc_auc_score(y_dev, preds)\n",
        "  auc.append((depth, score))\n",
        "  # print(f\"max_depth: {depth} ---> auc: {score}\")\n",
        "\n",
        "for depth, score in auc:\n",
        "  print(f\"max_depth: {depth} ---> auc: {score:.3f}\")"
      ]
    },
    {
      "cell_type": "code",
      "execution_count": 31,
      "metadata": {
        "colab": {
          "base_uri": "https://localhost:8080/"
        },
        "id": "LLUh7l6icZdy",
        "outputId": "86179720-d071-492e-ebbc-a4187bc58e17"
      },
      "outputs": [
        {
          "output_type": "stream",
          "name": "stdout",
          "text": [
            "memory\n",
            "steps\n",
            "verbose\n",
            "columntransformer\n",
            "decisiontreeclassifier\n",
            "columntransformer__n_jobs\n",
            "columntransformer__remainder\n",
            "columntransformer__sparse_threshold\n",
            "columntransformer__transformer_weights\n",
            "columntransformer__transformers\n",
            "columntransformer__verbose\n",
            "columntransformer__verbose_feature_names_out\n",
            "columntransformer__numeric\n",
            "columntransformer__category\n",
            "columntransformer__numeric__add_indicator\n",
            "columntransformer__numeric__copy\n",
            "columntransformer__numeric__fill_value\n",
            "columntransformer__numeric__missing_values\n",
            "columntransformer__numeric__strategy\n",
            "columntransformer__numeric__verbose\n",
            "columntransformer__category__memory\n",
            "columntransformer__category__steps\n",
            "columntransformer__category__verbose\n",
            "columntransformer__category__category_imputer\n",
            "columntransformer__category__category_encoder\n",
            "columntransformer__category__category_imputer__add_indicator\n",
            "columntransformer__category__category_imputer__copy\n",
            "columntransformer__category__category_imputer__fill_value\n",
            "columntransformer__category__category_imputer__missing_values\n",
            "columntransformer__category__category_imputer__strategy\n",
            "columntransformer__category__category_imputer__verbose\n",
            "columntransformer__category__category_encoder__categories\n",
            "columntransformer__category__category_encoder__dtype\n",
            "columntransformer__category__category_encoder__handle_unknown\n",
            "columntransformer__category__category_encoder__unknown_value\n",
            "decisiontreeclassifier__ccp_alpha\n",
            "decisiontreeclassifier__class_weight\n",
            "decisiontreeclassifier__criterion\n",
            "decisiontreeclassifier__max_depth\n",
            "decisiontreeclassifier__max_features\n",
            "decisiontreeclassifier__max_leaf_nodes\n",
            "decisiontreeclassifier__min_impurity_decrease\n",
            "decisiontreeclassifier__min_samples_leaf\n",
            "decisiontreeclassifier__min_samples_split\n",
            "decisiontreeclassifier__min_weight_fraction_leaf\n",
            "decisiontreeclassifier__random_state\n",
            "decisiontreeclassifier__splitter\n"
          ]
        }
      ],
      "source": [
        "for i in dt.get_params().keys():\n",
        "  print(i)"
      ]
    },
    {
      "cell_type": "code",
      "execution_count": 32,
      "metadata": {
        "colab": {
          "base_uri": "https://localhost:8080/"
        },
        "id": "mPI0odTbbgQL",
        "outputId": "11550db8-54b4-46a5-8b83-109e5009979d"
      },
      "outputs": [
        {
          "output_type": "stream",
          "name": "stdout",
          "text": [
            "min samples leaf: 1, max_depth: 5 ---> AUC: 0.767\n",
            "min samples leaf: 1, max_depth: 8 ---> AUC: 0.734\n",
            "min samples leaf: 1, max_depth: 15 ---> AUC: 0.669\n",
            "min samples leaf: 1, max_depth: 25 ---> AUC: 0.649\n",
            "min samples leaf: 1, max_depth: 30 ---> AUC: 0.649\n",
            "min samples leaf: 1, max_depth: None ---> AUC: 0.650\n",
            "min samples leaf: 5, max_depth: 5 ---> AUC: 0.768\n",
            "min samples leaf: 5, max_depth: 8 ---> AUC: 0.744\n",
            "min samples leaf: 5, max_depth: 15 ---> AUC: 0.710\n",
            "min samples leaf: 5, max_depth: 25 ---> AUC: 0.716\n",
            "min samples leaf: 5, max_depth: 30 ---> AUC: 0.711\n",
            "min samples leaf: 5, max_depth: None ---> AUC: 0.717\n",
            "min samples leaf: 10, max_depth: 5 ---> AUC: 0.767\n",
            "min samples leaf: 10, max_depth: 8 ---> AUC: 0.763\n",
            "min samples leaf: 10, max_depth: 15 ---> AUC: 0.763\n",
            "min samples leaf: 10, max_depth: 25 ---> AUC: 0.761\n",
            "min samples leaf: 10, max_depth: 30 ---> AUC: 0.766\n",
            "min samples leaf: 10, max_depth: None ---> AUC: 0.761\n",
            "min samples leaf: 15, max_depth: 5 ---> AUC: 0.772\n",
            "min samples leaf: 15, max_depth: 8 ---> AUC: 0.782\n",
            "min samples leaf: 15, max_depth: 15 ---> AUC: 0.791\n",
            "min samples leaf: 15, max_depth: 25 ---> AUC: 0.790\n",
            "min samples leaf: 15, max_depth: 30 ---> AUC: 0.788\n",
            "min samples leaf: 15, max_depth: None ---> AUC: 0.789\n",
            "min samples leaf: 20, max_depth: 5 ---> AUC: 0.774\n",
            "min samples leaf: 20, max_depth: 8 ---> AUC: 0.778\n",
            "min samples leaf: 20, max_depth: 15 ---> AUC: 0.782\n",
            "min samples leaf: 20, max_depth: 25 ---> AUC: 0.783\n",
            "min samples leaf: 20, max_depth: 30 ---> AUC: 0.781\n",
            "min samples leaf: 20, max_depth: None ---> AUC: 0.782\n",
            "min samples leaf: 50, max_depth: 5 ---> AUC: 0.768\n",
            "min samples leaf: 50, max_depth: 8 ---> AUC: 0.779\n",
            "min samples leaf: 50, max_depth: 15 ---> AUC: 0.775\n",
            "min samples leaf: 50, max_depth: 25 ---> AUC: 0.773\n",
            "min samples leaf: 50, max_depth: 30 ---> AUC: 0.775\n",
            "min samples leaf: 50, max_depth: None ---> AUC: 0.775\n",
            "min samples leaf: 100, max_depth: 5 ---> AUC: 0.763\n",
            "min samples leaf: 100, max_depth: 8 ---> AUC: 0.780\n",
            "min samples leaf: 100, max_depth: 15 ---> AUC: 0.780\n",
            "min samples leaf: 100, max_depth: 25 ---> AUC: 0.780\n",
            "min samples leaf: 100, max_depth: 30 ---> AUC: 0.780\n",
            "min samples leaf: 100, max_depth: None ---> AUC: 0.780\n",
            "min samples leaf: 200, max_depth: 5 ---> AUC: 0.759\n",
            "min samples leaf: 200, max_depth: 8 ---> AUC: 0.768\n",
            "min samples leaf: 200, max_depth: 15 ---> AUC: 0.768\n",
            "min samples leaf: 200, max_depth: 25 ---> AUC: 0.768\n",
            "min samples leaf: 200, max_depth: 30 ---> AUC: 0.768\n",
            "min samples leaf: 200, max_depth: None ---> AUC: 0.768\n"
          ]
        }
      ],
      "source": [
        "auc = []\n",
        "\n",
        "for min_leaf in [1, 5, 10, 15, 20, 50, 100, 200]:\n",
        "  for depth in [5, 8, 15, 25, 30, None]:\n",
        "    dt.set_params(\n",
        "        decisiontreeclassifier__min_samples_leaf=min_leaf, \n",
        "        decisiontreeclassifier__max_depth=depth\n",
        "    )\n",
        "    dt.fit(X_train, y_train)\n",
        "    preds = dt.predict_proba(X_dev)[:, 1]\n",
        "    res = metrics.roc_auc_score(y_dev, preds)\n",
        "    auc.append((min_leaf, depth, res))\n",
        "\n",
        "for min_leaf, depth, score in auc:\n",
        "  print(f\"min samples leaf: {min_leaf}, max_depth: {depth} ---> AUC: {score:.3f}\")"
      ]
    },
    {
      "cell_type": "code",
      "execution_count": 33,
      "metadata": {
        "colab": {
          "base_uri": "https://localhost:8080/"
        },
        "id": "1gNBeg7DgIG-",
        "outputId": "c30285fb-f9e7-4918-c8a3-16713d68abce"
      },
      "outputs": [
        {
          "output_type": "execute_result",
          "data": {
            "text/plain": [
              "[(15, 15, 0.791219636240343),\n",
              " (15, 25, 0.7897695623743674),\n",
              " (15, None, 0.7891186941464242),\n",
              " (15, 30, 0.7878018212201207),\n",
              " (20, 25, 0.7826402848078273),\n",
              " (20, None, 0.7822649003414788),\n",
              " (15, 8, 0.781934925286382),\n",
              " (20, 15, 0.7818985977573805),\n",
              " (20, 30, 0.7808693177690054),\n",
              " (100, 8, 0.779812792133879),\n",
              " (100, 15, 0.779812792133879),\n",
              " (100, 25, 0.779812792133879),\n",
              " (100, 30, 0.779812792133879),\n",
              " (100, None, 0.779812792133879),\n",
              " (50, 8, 0.7791467874355187),\n",
              " (20, 8, 0.7777360683926279),\n",
              " (50, 15, 0.7748268387784263),\n",
              " (50, 30, 0.7748268387784263),\n",
              " (50, None, 0.7748268387784263),\n",
              " (20, 5, 0.7740276331403937),\n",
              " (50, 25, 0.7733828195006176),\n",
              " (15, 5, 0.7721416289264004),\n",
              " (200, 8, 0.7684786030854182),\n",
              " (200, 15, 0.7684786030854182),\n",
              " (200, 25, 0.7684786030854182),\n",
              " (200, 30, 0.7684786030854182),\n",
              " (200, None, 0.7684786030854182),\n",
              " (50, 5, 0.76795488120898),\n",
              " (5, 5, 0.7677702162698894),\n",
              " (10, 5, 0.7672949310987867),\n",
              " (1, 5, 0.7669528468673561),\n",
              " (10, 30, 0.7655451551185488),\n",
              " (100, 5, 0.7634714586713811),\n",
              " (10, 8, 0.7630415829115303),\n",
              " (10, 15, 0.7626631711510983),\n",
              " (10, 25, 0.7614552808117991),\n",
              " (10, None, 0.7613674892833789),\n",
              " (200, 5, 0.7590728003681189),\n",
              " (5, 8, 0.7436003003075731),\n",
              " (1, 8, 0.7341157879441039),\n",
              " (5, None, 0.7173657697803395),\n",
              " (5, 25, 0.7161911796759585),\n",
              " (5, 30, 0.710590685621564),\n",
              " (5, 15, 0.7098005618657819),\n",
              " (1, 15, 0.6690017195030394),\n",
              " (1, None, 0.6501931413625245),\n",
              " (1, 25, 0.649088179022063),\n",
              " (1, 30, 0.6489095686711389)]"
            ]
          },
          "metadata": {},
          "execution_count": 33
        }
      ],
      "source": [
        "sorted(auc, key=lambda x: x[-1], reverse=True)"
      ]
    },
    {
      "cell_type": "markdown",
      "metadata": {
        "id": "O8n8kGP9hPHO"
      },
      "source": [
        "The best AUC is 79.15% with parameters min_sample_leaf=15 and\n",
        "max_depth=15"
      ]
    },
    {
      "cell_type": "code",
      "execution_count": 34,
      "metadata": {
        "colab": {
          "base_uri": "https://localhost:8080/"
        },
        "id": "HS6J-Kqog6AR",
        "outputId": "20d682a5-8e94-491d-8439-0196c2054d18"
      },
      "outputs": [
        {
          "output_type": "stream",
          "name": "stdout",
          "text": [
            "AUC:0.7914436560025188\n",
            "Recall:0.49429657794676807\n"
          ]
        }
      ],
      "source": [
        "dt.set_params(\n",
        "        decisiontreeclassifier__min_samples_leaf=15, \n",
        "        decisiontreeclassifier__max_depth=15\n",
        "    )\n",
        "dt.fit(X_train, y_train)\n",
        "\n",
        "preds = dt.predict_proba(X_dev)[:, 1]\n",
        "pred_r = dt.predict(X_dev)\n",
        "\n",
        "print(f\"AUC:{metrics.roc_auc_score(y_dev, preds)}\")\n",
        "print(f\"Recall:{metrics.recall_score(y_dev, pred_r)}\")"
      ]
    },
    {
      "cell_type": "code",
      "execution_count": 35,
      "metadata": {
        "id": "bHQzNTBDiTrV"
      },
      "outputs": [],
      "source": [
        "!pip install optuna --quiet"
      ]
    },
    {
      "cell_type": "code",
      "execution_count": 36,
      "metadata": {
        "id": "EOmt-SRltx-3"
      },
      "outputs": [],
      "source": [
        "X_train_cp = X_train.copy()\n",
        "X_dev_cp = X_dev.copy()\n",
        "\n",
        "\n",
        "X_train_cp.loc[:, numerical] = num_imputer.fit_transform(X_train_cp[numerical])\n",
        "X_train_cp.loc[:, categorical] = cat_imputer.fit_transform(X_train_cp[categorical])\n",
        "X_train_cp.loc[:, categorical] = cat_encoder.fit_transform(X_train_cp[categorical])\n",
        "\n",
        "X_dev_cp.loc[:, numerical] = num_imputer.transform(X_dev_cp[numerical])\n",
        "X_dev_cp.loc[:, categorical] = cat_imputer.transform(X_dev_cp[categorical])\n",
        "X_dev_cp.loc[:, categorical] = cat_encoder.transform(X_dev_cp[categorical])"
      ]
    },
    {
      "cell_type": "code",
      "execution_count": 37,
      "metadata": {
        "colab": {
          "base_uri": "https://localhost:8080/"
        },
        "id": "sbyfCltejGft",
        "outputId": "d1b56d90-d67f-41ac-dde6-94bb85491df8"
      },
      "outputs": [
        {
          "output_type": "stream",
          "name": "stderr",
          "text": [
            "\u001b[32m[I 2022-10-11 17:05:51,378]\u001b[0m A new study created in memory with name: no-name-b56e34bd-08bc-4d53-b4c6-22681f852af7\u001b[0m\n",
            "\u001b[32m[I 2022-10-11 17:05:51,400]\u001b[0m Trial 0 finished with value: -0.7263466293946887 and parameters: {'min_samples_leaf': 177, 'max_depth': 26, 'max_features': 'sqrt'}. Best is trial 0 with value: -0.7263466293946887.\u001b[0m\n",
            "\u001b[32m[I 2022-10-11 17:05:51,419]\u001b[0m Trial 1 finished with value: -0.668476507902376 and parameters: {'min_samples_leaf': 153, 'max_depth': 12, 'max_features': 'sqrt'}. Best is trial 0 with value: -0.7263466293946887.\u001b[0m\n",
            "\u001b[32m[I 2022-10-11 17:05:51,449]\u001b[0m Trial 2 finished with value: -0.6251030355158943 and parameters: {'min_samples_leaf': 179, 'max_depth': 12, 'max_features': 'log2'}. Best is trial 0 with value: -0.7263466293946887.\u001b[0m\n",
            "\u001b[32m[I 2022-10-11 17:05:51,467]\u001b[0m Trial 3 finished with value: -0.7492115543131563 and parameters: {'min_samples_leaf': 31, 'max_depth': 28, 'max_features': 'sqrt'}. Best is trial 3 with value: -0.7492115543131563.\u001b[0m\n",
            "\u001b[32m[I 2022-10-11 17:05:51,485]\u001b[0m Trial 4 finished with value: -0.8015446367774074 and parameters: {'min_samples_leaf': 28, 'max_depth': 8, 'max_features': 'sqrt'}. Best is trial 4 with value: -0.8015446367774074.\u001b[0m\n",
            "\u001b[32m[I 2022-10-11 17:05:51,507]\u001b[0m Trial 5 finished with value: -0.8105848833458767 and parameters: {'min_samples_leaf': 133, 'max_depth': 13, 'max_features': None}. Best is trial 5 with value: -0.8105848833458767.\u001b[0m\n",
            "\u001b[32m[I 2022-10-11 17:05:51,525]\u001b[0m Trial 6 finished with value: -0.7846020141203455 and parameters: {'min_samples_leaf': 6, 'max_depth': 5, 'max_features': 'log2'}. Best is trial 5 with value: -0.8105848833458767.\u001b[0m\n",
            "\u001b[32m[I 2022-10-11 17:05:51,551]\u001b[0m Trial 7 finished with value: -0.7483872701860015 and parameters: {'min_samples_leaf': 177, 'max_depth': 10, 'max_features': 'log2'}. Best is trial 5 with value: -0.8105848833458767.\u001b[0m\n",
            "\u001b[32m[I 2022-10-11 17:05:51,577]\u001b[0m Trial 8 finished with value: -0.6946296097193849 and parameters: {'min_samples_leaf': 198, 'max_depth': 15, 'max_features': 'sqrt'}. Best is trial 5 with value: -0.8105848833458767.\u001b[0m\n",
            "\u001b[32m[I 2022-10-11 17:05:51,595]\u001b[0m Trial 9 finished with value: -0.7616116546607892 and parameters: {'min_samples_leaf': 69, 'max_depth': 7, 'max_features': 'sqrt'}. Best is trial 5 with value: -0.8105848833458767.\u001b[0m\n",
            "\u001b[32m[I 2022-10-11 17:05:51,634]\u001b[0m Trial 10 finished with value: -0.8102981758233881 and parameters: {'min_samples_leaf': 131, 'max_depth': 21, 'max_features': None}. Best is trial 5 with value: -0.8105848833458767.\u001b[0m\n",
            "\u001b[32m[I 2022-10-11 17:05:51,667]\u001b[0m Trial 11 finished with value: -0.8143389599684623 and parameters: {'min_samples_leaf': 121, 'max_depth': 21, 'max_features': None}. Best is trial 11 with value: -0.8143389599684623.\u001b[0m\n",
            "\u001b[32m[I 2022-10-11 17:05:51,701]\u001b[0m Trial 12 finished with value: -0.8058183707845035 and parameters: {'min_samples_leaf': 100, 'max_depth': 20, 'max_features': None}. Best is trial 11 with value: -0.8143389599684623.\u001b[0m\n",
            "\u001b[32m[I 2022-10-11 17:05:51,748]\u001b[0m Trial 13 finished with value: -0.8143389599684623 and parameters: {'min_samples_leaf': 114, 'max_depth': 23, 'max_features': None}. Best is trial 11 with value: -0.8143389599684623.\u001b[0m\n",
            "\u001b[32m[I 2022-10-11 17:05:51,780]\u001b[0m Trial 14 finished with value: -0.8008009891409527 and parameters: {'min_samples_leaf': 83, 'max_depth': 24, 'max_features': None}. Best is trial 11 with value: -0.8143389599684623.\u001b[0m\n",
            "\u001b[32m[I 2022-10-11 17:05:51,817]\u001b[0m Trial 15 finished with value: -0.8128875031358636 and parameters: {'min_samples_leaf': 113, 'max_depth': 30, 'max_features': None}. Best is trial 11 with value: -0.8143389599684623.\u001b[0m\n",
            "\u001b[32m[I 2022-10-11 17:05:51,877]\u001b[0m Trial 16 finished with value: -0.800747231480486 and parameters: {'min_samples_leaf': 70, 'max_depth': 19, 'max_features': None}. Best is trial 11 with value: -0.8143389599684623.\u001b[0m\n",
            "\u001b[32m[I 2022-10-11 17:05:51,908]\u001b[0m Trial 17 finished with value: -0.8066426549116583 and parameters: {'min_samples_leaf': 142, 'max_depth': 23, 'max_features': None}. Best is trial 11 with value: -0.8143389599684623.\u001b[0m\n",
            "\u001b[32m[I 2022-10-11 17:05:51,938]\u001b[0m Trial 18 finished with value: -0.8051822384689817 and parameters: {'min_samples_leaf': 104, 'max_depth': 17, 'max_features': None}. Best is trial 11 with value: -0.8143389599684623.\u001b[0m\n",
            "\u001b[32m[I 2022-10-11 17:05:51,967]\u001b[0m Trial 19 finished with value: -0.8043489947317493 and parameters: {'min_samples_leaf': 86, 'max_depth': 23, 'max_features': None}. Best is trial 11 with value: -0.8143389599684623.\u001b[0m\n",
            "\u001b[32m[I 2022-10-11 17:05:51,996]\u001b[0m Trial 20 finished with value: -0.8143389599684623 and parameters: {'min_samples_leaf': 119, 'max_depth': 17, 'max_features': None}. Best is trial 11 with value: -0.8143389599684623.\u001b[0m\n",
            "\u001b[32m[I 2022-10-11 17:05:52,027]\u001b[0m Trial 21 finished with value: -0.8143389599684623 and parameters: {'min_samples_leaf': 120, 'max_depth': 17, 'max_features': None}. Best is trial 11 with value: -0.8143389599684623.\u001b[0m\n",
            "\u001b[32m[I 2022-10-11 17:05:52,060]\u001b[0m Trial 22 finished with value: -0.8140970504963625 and parameters: {'min_samples_leaf': 159, 'max_depth': 21, 'max_features': None}. Best is trial 11 with value: -0.8143389599684623.\u001b[0m\n",
            "\u001b[32m[I 2022-10-11 17:05:52,097]\u001b[0m Trial 23 finished with value: -0.8143389599684623 and parameters: {'min_samples_leaf': 121, 'max_depth': 26, 'max_features': None}. Best is trial 11 with value: -0.8143389599684623.\u001b[0m\n",
            "\u001b[32m[I 2022-10-11 17:05:52,132]\u001b[0m Trial 24 finished with value: -0.803390316453428 and parameters: {'min_samples_leaf': 95, 'max_depth': 17, 'max_features': None}. Best is trial 11 with value: -0.8143389599684623.\u001b[0m\n",
            "\u001b[32m[I 2022-10-11 17:05:52,160]\u001b[0m Trial 25 finished with value: -0.7850320754040784 and parameters: {'min_samples_leaf': 60, 'max_depth': 15, 'max_features': 'log2'}. Best is trial 11 with value: -0.8143389599684623.\u001b[0m\n",
            "\u001b[32m[I 2022-10-11 17:05:52,204]\u001b[0m Trial 26 finished with value: -0.8192309070709243 and parameters: {'min_samples_leaf': 150, 'max_depth': 26, 'max_features': None}. Best is trial 26 with value: -0.8192309070709243.\u001b[0m\n",
            "\u001b[32m[I 2022-10-11 17:05:52,234]\u001b[0m Trial 27 finished with value: -0.8129233415761746 and parameters: {'min_samples_leaf': 157, 'max_depth': 26, 'max_features': None}. Best is trial 26 with value: -0.8192309070709243.\u001b[0m\n",
            "\u001b[32m[I 2022-10-11 17:05:52,295]\u001b[0m Trial 28 finished with value: -0.8066426549116583 and parameters: {'min_samples_leaf': 139, 'max_depth': 27, 'max_features': None}. Best is trial 26 with value: -0.8192309070709243.\u001b[0m\n",
            "\u001b[32m[I 2022-10-11 17:05:52,347]\u001b[0m Trial 29 finished with value: -0.7273680249435545 and parameters: {'min_samples_leaf': 170, 'max_depth': 29, 'max_features': 'log2'}. Best is trial 26 with value: -0.8192309070709243.\u001b[0m\n",
            "\u001b[32m[I 2022-10-11 17:05:52,379]\u001b[0m Trial 30 finished with value: -0.8014102426262408 and parameters: {'min_samples_leaf': 198, 'max_depth': 18, 'max_features': None}. Best is trial 26 with value: -0.8192309070709243.\u001b[0m\n",
            "\u001b[32m[I 2022-10-11 17:05:52,413]\u001b[0m Trial 31 finished with value: -0.8143389599684623 and parameters: {'min_samples_leaf': 115, 'max_depth': 24, 'max_features': None}. Best is trial 26 with value: -0.8192309070709243.\u001b[0m\n",
            "\u001b[32m[I 2022-10-11 17:05:52,445]\u001b[0m Trial 32 finished with value: -0.8088735978210229 and parameters: {'min_samples_leaf': 148, 'max_depth': 26, 'max_features': None}. Best is trial 26 with value: -0.8192309070709243.\u001b[0m\n",
            "\u001b[32m[I 2022-10-11 17:05:52,479]\u001b[0m Trial 33 finished with value: -0.8071802315163243 and parameters: {'min_samples_leaf': 106, 'max_depth': 23, 'max_features': None}. Best is trial 26 with value: -0.8192309070709243.\u001b[0m\n",
            "\u001b[32m[I 2022-10-11 17:05:52,514]\u001b[0m Trial 34 finished with value: -0.8102981758233881 and parameters: {'min_samples_leaf': 129, 'max_depth': 25, 'max_features': None}. Best is trial 26 with value: -0.8192309070709243.\u001b[0m\n",
            "\u001b[32m[I 2022-10-11 17:05:52,544]\u001b[0m Trial 35 finished with value: -0.7903092857398847 and parameters: {'min_samples_leaf': 165, 'max_depth': 27, 'max_features': 'sqrt'}. Best is trial 26 with value: -0.8192309070709243.\u001b[0m\n",
            "\u001b[32m[I 2022-10-11 17:05:52,595]\u001b[0m Trial 36 finished with value: -0.8088735978210229 and parameters: {'min_samples_leaf': 148, 'max_depth': 24, 'max_features': None}. Best is trial 26 with value: -0.8192309070709243.\u001b[0m\n",
            "\u001b[32m[I 2022-10-11 17:05:52,620]\u001b[0m Trial 37 finished with value: -0.7132028814106011 and parameters: {'min_samples_leaf': 124, 'max_depth': 28, 'max_features': 'log2'}. Best is trial 26 with value: -0.8192309070709243.\u001b[0m\n",
            "\u001b[32m[I 2022-10-11 17:05:52,682]\u001b[0m Trial 38 finished with value: -0.7100849371035373 and parameters: {'min_samples_leaf': 91, 'max_depth': 30, 'max_features': 'sqrt'}. Best is trial 26 with value: -0.8192309070709243.\u001b[0m\n",
            "\u001b[32m[I 2022-10-11 17:05:52,727]\u001b[0m Trial 39 finished with value: -0.8011952119843745 and parameters: {'min_samples_leaf': 181, 'max_depth': 14, 'max_features': None}. Best is trial 26 with value: -0.8192309070709243.\u001b[0m\n",
            "\u001b[32m[I 2022-10-11 17:05:52,777]\u001b[0m Trial 40 finished with value: -0.8066426549116583 and parameters: {'min_samples_leaf': 138, 'max_depth': 11, 'max_features': None}. Best is trial 26 with value: -0.8192309070709243.\u001b[0m\n",
            "\u001b[32m[I 2022-10-11 17:05:52,819]\u001b[0m Trial 41 finished with value: -0.8143389599684623 and parameters: {'min_samples_leaf': 119, 'max_depth': 22, 'max_features': None}. Best is trial 26 with value: -0.8192309070709243.\u001b[0m\n",
            "\u001b[32m[I 2022-10-11 17:05:52,851]\u001b[0m Trial 42 finished with value: -0.8072967064473354 and parameters: {'min_samples_leaf': 112, 'max_depth': 16, 'max_features': None}. Best is trial 26 with value: -0.8192309070709243.\u001b[0m\n",
            "\u001b[32m[I 2022-10-11 17:05:52,901]\u001b[0m Trial 43 finished with value: -0.8102981758233881 and parameters: {'min_samples_leaf': 129, 'max_depth': 20, 'max_features': None}. Best is trial 26 with value: -0.8192309070709243.\u001b[0m\n",
            "\u001b[32m[I 2022-10-11 17:05:52,942]\u001b[0m Trial 44 finished with value: -0.8184066229437694 and parameters: {'min_samples_leaf': 75, 'max_depth': 22, 'max_features': 'sqrt'}. Best is trial 26 with value: -0.8192309070709243.\u001b[0m\n",
            "\u001b[32m[I 2022-10-11 17:05:52,985]\u001b[0m Trial 45 finished with value: -0.7810719277497042 and parameters: {'min_samples_leaf': 41, 'max_depth': 25, 'max_features': 'sqrt'}. Best is trial 26 with value: -0.8192309070709243.\u001b[0m\n",
            "\u001b[32m[I 2022-10-11 17:05:53,018]\u001b[0m Trial 46 finished with value: -0.7417034010679856 and parameters: {'min_samples_leaf': 79, 'max_depth': 22, 'max_features': 'sqrt'}. Best is trial 26 with value: -0.8192309070709243.\u001b[0m\n",
            "\u001b[32m[I 2022-10-11 17:05:53,053]\u001b[0m Trial 47 finished with value: -0.7853635809769559 and parameters: {'min_samples_leaf': 52, 'max_depth': 19, 'max_features': 'sqrt'}. Best is trial 26 with value: -0.8192309070709243.\u001b[0m\n",
            "\u001b[32m[I 2022-10-11 17:05:53,091]\u001b[0m Trial 48 finished with value: -0.7479213704619575 and parameters: {'min_samples_leaf': 100, 'max_depth': 28, 'max_features': 'sqrt'}. Best is trial 26 with value: -0.8192309070709243.\u001b[0m\n",
            "\u001b[32m[I 2022-10-11 17:05:53,116]\u001b[0m Trial 49 finished with value: -0.7566211518474717 and parameters: {'min_samples_leaf': 78, 'max_depth': 25, 'max_features': 'sqrt'}. Best is trial 26 with value: -0.8192309070709243.\u001b[0m\n"
          ]
        }
      ],
      "source": [
        "import optuna\n",
        "from functools import partial\n",
        "\n",
        "\n",
        "def optimize(trial, x, y):\n",
        "  min_samples_leaf = trial.suggest_int(\"min_samples_leaf\", 1, 200)\n",
        "  max_depth = trial.suggest_int(\"max_depth\", 5, 30)\n",
        "  # min_samples_split = trial.suggest_int(\"min_samples_split\", 2, 100)\n",
        "  max_features = trial.suggest_categorical(\"max_features\", [\"log2\", \"sqrt\", None])\n",
        "\n",
        "  model = DecisionTreeClassifier(\n",
        "      min_samples_leaf=min_samples_leaf, \n",
        "      max_depth=max_depth,\n",
        "      # min_samples_split=min_samples_split,\n",
        "      max_features=max_features,\n",
        "  )\n",
        "\n",
        "  kf = model_selection.KFold(n_splits=5)\n",
        "  auc = []\n",
        "\n",
        "  for idx in kf.split(X=x, y=y):\n",
        "    train_idx, dev_idx = idx[0], idx[1]\n",
        "    xtrain = x[train_idx]\n",
        "    ytrain = y[train_idx]\n",
        "\n",
        "    xdev = x[dev_idx]\n",
        "    ydev = y[dev_idx]\n",
        "\n",
        "    model.fit(xtrain, ytrain)\n",
        "\n",
        "    preds = model.predict_proba(xdev)[:, 1]\n",
        "    fold_accuracy = metrics.roc_auc_score(ydev, preds)\n",
        "    auc.append(fold_accuracy)\n",
        "\n",
        "    return -1 * np.mean(auc)\n",
        "\n",
        "optimization_function = partial(optimize,x=X_train_cp.values, y=y_train.values)\n",
        "study = optuna.create_study(direction=\"minimize\")\n",
        "study.optimize(optimization_function, n_trials=50)"
      ]
    },
    {
      "cell_type": "code",
      "execution_count": 38,
      "metadata": {
        "colab": {
          "base_uri": "https://localhost:8080/"
        },
        "id": "MMhMadH2mDki",
        "outputId": "e943c687-bdbd-4561-f30b-86d4295ad061"
      },
      "outputs": [
        {
          "output_type": "stream",
          "name": "stdout",
          "text": [
            "AUC: 0.7798\n",
            "Recall: 0.4525\n"
          ]
        }
      ],
      "source": [
        "#81.923, 82.278 \n",
        "\n",
        "dt = make_pipeline(processor, DecisionTreeClassifier(\n",
        "    min_samples_leaf=31, \n",
        "    max_depth=8, \n",
        "    min_samples_split=60, \n",
        "    max_features=None\n",
        "))\n",
        "\n",
        "dt.fit(X_train, y_train)\n",
        "y_pred = dt.predict_proba(X_dev)[:,1]\n",
        "pred_r = dt.predict(X_dev)\n",
        "\n",
        "print(f\"AUC: {metrics.roc_auc_score(y_dev, y_pred):.4f}\")\n",
        "print(f\"Recall: {metrics.recall_score(y_dev, pred_r):.4f}\")"
      ]
    },
    {
      "cell_type": "code",
      "execution_count": 38,
      "metadata": {
        "id": "xfbhCqnS7yxr"
      },
      "outputs": [],
      "source": []
    }
  ],
  "metadata": {
    "colab": {
      "provenance": []
    },
    "kernelspec": {
      "display_name": "Python 3",
      "name": "python3"
    },
    "language_info": {
      "name": "python"
    }
  },
  "nbformat": 4,
  "nbformat_minor": 0
}