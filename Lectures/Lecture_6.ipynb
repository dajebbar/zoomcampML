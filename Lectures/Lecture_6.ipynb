{
  "nbformat": 4,
  "nbformat_minor": 0,
  "metadata": {
    "colab": {
      "provenance": []
    },
    "kernelspec": {
      "name": "python3",
      "display_name": "Python 3"
    },
    "language_info": {
      "name": "python"
    }
  },
  "cells": [
    {
      "cell_type": "markdown",
      "source": [
        "# Decision Trees and Ensemble Learning"
      ],
      "metadata": {
        "id": "uLG0DEmHd06W"
      }
    },
    {
      "cell_type": "markdown",
      "source": [
        "## Credit risk scoring project"
      ],
      "metadata": {
        "id": "oT7crvfqeGHb"
      }
    },
    {
      "cell_type": "markdown",
      "source": [
        "**Dataset**"
      ],
      "metadata": {
        "id": "kBhvTB44eOun"
      }
    },
    {
      "cell_type": "code",
      "execution_count": 1,
      "metadata": {
        "colab": {
          "base_uri": "https://localhost:8080/"
        },
        "id": "VCHpUa9JdJj9",
        "outputId": "8d568077-811e-46c0-86e8-85348cdde31e"
      },
      "outputs": [
        {
          "output_type": "stream",
          "name": "stdout",
          "text": [
            "--2022-10-11 14:55:15--  https://github.com/gastonstat/CreditScoring/raw/master/CreditScoring.csv\n",
            "Resolving github.com (github.com)... 140.82.113.3\n",
            "Connecting to github.com (github.com)|140.82.113.3|:443... connected.\n",
            "HTTP request sent, awaiting response... 302 Found\n",
            "Location: https://raw.githubusercontent.com/gastonstat/CreditScoring/master/CreditScoring.csv [following]\n",
            "--2022-10-11 14:55:15--  https://raw.githubusercontent.com/gastonstat/CreditScoring/master/CreditScoring.csv\n",
            "Resolving raw.githubusercontent.com (raw.githubusercontent.com)... 185.199.109.133, 185.199.110.133, 185.199.108.133, ...\n",
            "Connecting to raw.githubusercontent.com (raw.githubusercontent.com)|185.199.109.133|:443... connected.\n",
            "HTTP request sent, awaiting response... 200 OK\n",
            "Length: 182489 (178K) [text/plain]\n",
            "Saving to: ‘CreditScoring.csv.10’\n",
            "\n",
            "CreditScoring.csv.1 100%[===================>] 178.21K  --.-KB/s    in 0.02s   \n",
            "\n",
            "2022-10-11 14:55:16 (7.14 MB/s) - ‘CreditScoring.csv.10’ saved [182489/182489]\n",
            "\n"
          ]
        }
      ],
      "source": [
        "!wget https://github.com/gastonstat/CreditScoring/raw/master/CreditScoring.csv"
      ]
    },
    {
      "cell_type": "markdown",
      "source": [
        "### Librairies"
      ],
      "metadata": {
        "id": "HAEKCLdmejXQ"
      }
    },
    {
      "cell_type": "code",
      "source": [
        "import pandas as pd\n",
        "import numpy as np\n",
        "import matplotlib.pyplot as plt\n",
        "import seaborn as sns\n",
        "import missingno as msno\n",
        "\n",
        "plt.style.use('ggplot')"
      ],
      "metadata": {
        "id": "j9Uh3vo8eRc7"
      },
      "execution_count": 2,
      "outputs": []
    },
    {
      "cell_type": "markdown",
      "source": [
        "**Data cleanining**"
      ],
      "metadata": {
        "id": "4AV4RhcPe6TD"
      }
    },
    {
      "cell_type": "code",
      "source": [
        "df = pd.read_csv('CreditScoring.csv')\n",
        "df.head()"
      ],
      "metadata": {
        "colab": {
          "base_uri": "https://localhost:8080/",
          "height": 206
        },
        "id": "gfKXqUjke1cR",
        "outputId": "1ca9093b-7f3b-41cf-8e5e-486eed837c4d"
      },
      "execution_count": 3,
      "outputs": [
        {
          "output_type": "execute_result",
          "data": {
            "text/plain": [
              "   Status  Seniority  Home  Time  Age  Marital  Records  Job  Expenses  \\\n",
              "0       1          9     1    60   30        2        1    3        73   \n",
              "1       1         17     1    60   58        3        1    1        48   \n",
              "2       2         10     2    36   46        2        2    3        90   \n",
              "3       1          0     1    60   24        1        1    1        63   \n",
              "4       1          0     1    36   26        1        1    1        46   \n",
              "\n",
              "   Income  Assets  Debt  Amount  Price  \n",
              "0     129       0     0     800    846  \n",
              "1     131       0     0    1000   1658  \n",
              "2     200    3000     0    2000   2985  \n",
              "3     182    2500     0     900   1325  \n",
              "4     107       0     0     310    910  "
            ],
            "text/html": [
              "\n",
              "  <div id=\"df-fb5084ef-9a66-4ab9-a417-6d4ecc7282c5\">\n",
              "    <div class=\"colab-df-container\">\n",
              "      <div>\n",
              "<style scoped>\n",
              "    .dataframe tbody tr th:only-of-type {\n",
              "        vertical-align: middle;\n",
              "    }\n",
              "\n",
              "    .dataframe tbody tr th {\n",
              "        vertical-align: top;\n",
              "    }\n",
              "\n",
              "    .dataframe thead th {\n",
              "        text-align: right;\n",
              "    }\n",
              "</style>\n",
              "<table border=\"1\" class=\"dataframe\">\n",
              "  <thead>\n",
              "    <tr style=\"text-align: right;\">\n",
              "      <th></th>\n",
              "      <th>Status</th>\n",
              "      <th>Seniority</th>\n",
              "      <th>Home</th>\n",
              "      <th>Time</th>\n",
              "      <th>Age</th>\n",
              "      <th>Marital</th>\n",
              "      <th>Records</th>\n",
              "      <th>Job</th>\n",
              "      <th>Expenses</th>\n",
              "      <th>Income</th>\n",
              "      <th>Assets</th>\n",
              "      <th>Debt</th>\n",
              "      <th>Amount</th>\n",
              "      <th>Price</th>\n",
              "    </tr>\n",
              "  </thead>\n",
              "  <tbody>\n",
              "    <tr>\n",
              "      <th>0</th>\n",
              "      <td>1</td>\n",
              "      <td>9</td>\n",
              "      <td>1</td>\n",
              "      <td>60</td>\n",
              "      <td>30</td>\n",
              "      <td>2</td>\n",
              "      <td>1</td>\n",
              "      <td>3</td>\n",
              "      <td>73</td>\n",
              "      <td>129</td>\n",
              "      <td>0</td>\n",
              "      <td>0</td>\n",
              "      <td>800</td>\n",
              "      <td>846</td>\n",
              "    </tr>\n",
              "    <tr>\n",
              "      <th>1</th>\n",
              "      <td>1</td>\n",
              "      <td>17</td>\n",
              "      <td>1</td>\n",
              "      <td>60</td>\n",
              "      <td>58</td>\n",
              "      <td>3</td>\n",
              "      <td>1</td>\n",
              "      <td>1</td>\n",
              "      <td>48</td>\n",
              "      <td>131</td>\n",
              "      <td>0</td>\n",
              "      <td>0</td>\n",
              "      <td>1000</td>\n",
              "      <td>1658</td>\n",
              "    </tr>\n",
              "    <tr>\n",
              "      <th>2</th>\n",
              "      <td>2</td>\n",
              "      <td>10</td>\n",
              "      <td>2</td>\n",
              "      <td>36</td>\n",
              "      <td>46</td>\n",
              "      <td>2</td>\n",
              "      <td>2</td>\n",
              "      <td>3</td>\n",
              "      <td>90</td>\n",
              "      <td>200</td>\n",
              "      <td>3000</td>\n",
              "      <td>0</td>\n",
              "      <td>2000</td>\n",
              "      <td>2985</td>\n",
              "    </tr>\n",
              "    <tr>\n",
              "      <th>3</th>\n",
              "      <td>1</td>\n",
              "      <td>0</td>\n",
              "      <td>1</td>\n",
              "      <td>60</td>\n",
              "      <td>24</td>\n",
              "      <td>1</td>\n",
              "      <td>1</td>\n",
              "      <td>1</td>\n",
              "      <td>63</td>\n",
              "      <td>182</td>\n",
              "      <td>2500</td>\n",
              "      <td>0</td>\n",
              "      <td>900</td>\n",
              "      <td>1325</td>\n",
              "    </tr>\n",
              "    <tr>\n",
              "      <th>4</th>\n",
              "      <td>1</td>\n",
              "      <td>0</td>\n",
              "      <td>1</td>\n",
              "      <td>36</td>\n",
              "      <td>26</td>\n",
              "      <td>1</td>\n",
              "      <td>1</td>\n",
              "      <td>1</td>\n",
              "      <td>46</td>\n",
              "      <td>107</td>\n",
              "      <td>0</td>\n",
              "      <td>0</td>\n",
              "      <td>310</td>\n",
              "      <td>910</td>\n",
              "    </tr>\n",
              "  </tbody>\n",
              "</table>\n",
              "</div>\n",
              "      <button class=\"colab-df-convert\" onclick=\"convertToInteractive('df-fb5084ef-9a66-4ab9-a417-6d4ecc7282c5')\"\n",
              "              title=\"Convert this dataframe to an interactive table.\"\n",
              "              style=\"display:none;\">\n",
              "        \n",
              "  <svg xmlns=\"http://www.w3.org/2000/svg\" height=\"24px\"viewBox=\"0 0 24 24\"\n",
              "       width=\"24px\">\n",
              "    <path d=\"M0 0h24v24H0V0z\" fill=\"none\"/>\n",
              "    <path d=\"M18.56 5.44l.94 2.06.94-2.06 2.06-.94-2.06-.94-.94-2.06-.94 2.06-2.06.94zm-11 1L8.5 8.5l.94-2.06 2.06-.94-2.06-.94L8.5 2.5l-.94 2.06-2.06.94zm10 10l.94 2.06.94-2.06 2.06-.94-2.06-.94-.94-2.06-.94 2.06-2.06.94z\"/><path d=\"M17.41 7.96l-1.37-1.37c-.4-.4-.92-.59-1.43-.59-.52 0-1.04.2-1.43.59L10.3 9.45l-7.72 7.72c-.78.78-.78 2.05 0 2.83L4 21.41c.39.39.9.59 1.41.59.51 0 1.02-.2 1.41-.59l7.78-7.78 2.81-2.81c.8-.78.8-2.07 0-2.86zM5.41 20L4 18.59l7.72-7.72 1.47 1.35L5.41 20z\"/>\n",
              "  </svg>\n",
              "      </button>\n",
              "      \n",
              "  <style>\n",
              "    .colab-df-container {\n",
              "      display:flex;\n",
              "      flex-wrap:wrap;\n",
              "      gap: 12px;\n",
              "    }\n",
              "\n",
              "    .colab-df-convert {\n",
              "      background-color: #E8F0FE;\n",
              "      border: none;\n",
              "      border-radius: 50%;\n",
              "      cursor: pointer;\n",
              "      display: none;\n",
              "      fill: #1967D2;\n",
              "      height: 32px;\n",
              "      padding: 0 0 0 0;\n",
              "      width: 32px;\n",
              "    }\n",
              "\n",
              "    .colab-df-convert:hover {\n",
              "      background-color: #E2EBFA;\n",
              "      box-shadow: 0px 1px 2px rgba(60, 64, 67, 0.3), 0px 1px 3px 1px rgba(60, 64, 67, 0.15);\n",
              "      fill: #174EA6;\n",
              "    }\n",
              "\n",
              "    [theme=dark] .colab-df-convert {\n",
              "      background-color: #3B4455;\n",
              "      fill: #D2E3FC;\n",
              "    }\n",
              "\n",
              "    [theme=dark] .colab-df-convert:hover {\n",
              "      background-color: #434B5C;\n",
              "      box-shadow: 0px 1px 3px 1px rgba(0, 0, 0, 0.15);\n",
              "      filter: drop-shadow(0px 1px 2px rgba(0, 0, 0, 0.3));\n",
              "      fill: #FFFFFF;\n",
              "    }\n",
              "  </style>\n",
              "\n",
              "      <script>\n",
              "        const buttonEl =\n",
              "          document.querySelector('#df-fb5084ef-9a66-4ab9-a417-6d4ecc7282c5 button.colab-df-convert');\n",
              "        buttonEl.style.display =\n",
              "          google.colab.kernel.accessAllowed ? 'block' : 'none';\n",
              "\n",
              "        async function convertToInteractive(key) {\n",
              "          const element = document.querySelector('#df-fb5084ef-9a66-4ab9-a417-6d4ecc7282c5');\n",
              "          const dataTable =\n",
              "            await google.colab.kernel.invokeFunction('convertToInteractive',\n",
              "                                                     [key], {});\n",
              "          if (!dataTable) return;\n",
              "\n",
              "          const docLinkHtml = 'Like what you see? Visit the ' +\n",
              "            '<a target=\"_blank\" href=https://colab.research.google.com/notebooks/data_table.ipynb>data table notebook</a>'\n",
              "            + ' to learn more about interactive tables.';\n",
              "          element.innerHTML = '';\n",
              "          dataTable['output_type'] = 'display_data';\n",
              "          await google.colab.output.renderOutput(dataTable, element);\n",
              "          const docLink = document.createElement('div');\n",
              "          docLink.innerHTML = docLinkHtml;\n",
              "          element.appendChild(docLink);\n",
              "        }\n",
              "      </script>\n",
              "    </div>\n",
              "  </div>\n",
              "  "
            ]
          },
          "metadata": {},
          "execution_count": 3
        }
      ]
    },
    {
      "cell_type": "code",
      "source": [
        "# make all columns in lower\n",
        "df.columns = df.columns.str.lower()"
      ],
      "metadata": {
        "id": "9rhRUNDwfILP"
      },
      "execution_count": 4,
      "outputs": []
    },
    {
      "cell_type": "code",
      "source": [
        "df.shape"
      ],
      "metadata": {
        "colab": {
          "base_uri": "https://localhost:8080/"
        },
        "id": "n4xKMvUk3pZS",
        "outputId": "121fdff2-b1ac-4dab-f967-557372eab970"
      },
      "execution_count": 5,
      "outputs": [
        {
          "output_type": "execute_result",
          "data": {
            "text/plain": [
              "(4455, 14)"
            ]
          },
          "metadata": {},
          "execution_count": 5
        }
      ]
    },
    {
      "cell_type": "markdown",
      "source": [
        "**Mapping the target**"
      ],
      "metadata": {
        "id": "XGhIEky4gqkL"
      }
    },
    {
      "cell_type": "code",
      "source": [
        "df['status'].value_counts(dropna=False)"
      ],
      "metadata": {
        "colab": {
          "base_uri": "https://localhost:8080/"
        },
        "id": "6QKq1je0gzGf",
        "outputId": "a5ab8b8e-fae4-40c8-d600-f99df6ca9c48"
      },
      "execution_count": 6,
      "outputs": [
        {
          "output_type": "execute_result",
          "data": {
            "text/plain": [
              "1    3200\n",
              "2    1254\n",
              "0       1\n",
              "Name: status, dtype: int64"
            ]
          },
          "metadata": {},
          "execution_count": 6
        }
      ]
    },
    {
      "cell_type": "code",
      "source": [
        "df['status'] = df['status'].map({\n",
        "    1:'ok',\n",
        "    2:'default',\n",
        "    0:'unk'\n",
        "})"
      ],
      "metadata": {
        "id": "QzI11CvefWQu"
      },
      "execution_count": 7,
      "outputs": []
    },
    {
      "cell_type": "markdown",
      "source": [
        "** Mapping categorical features **"
      ],
      "metadata": {
        "id": "JmGdM5fMiETp"
      }
    },
    {
      "cell_type": "code",
      "source": [
        "def mapping_categorical(df, cat, cat_lst):\n",
        "  to_lst = df[cat].value_counts().sort_index().index.to_list()\n",
        "  cat_lst = cat_lst\n",
        "\n",
        "  df[cat] = (\n",
        "      df[cat].map({\n",
        "          k:v for (k,v) in zip(to_lst, cat_lst)\n",
        "      })\n",
        "   )"
      ],
      "metadata": {
        "id": "DrqBWQlIiI0G"
      },
      "execution_count": 8,
      "outputs": []
    },
    {
      "cell_type": "code",
      "source": [
        "cols = ['home', 'marital', 'records', 'job']\n",
        "\n",
        "home_lst = ['unk', 'rent', 'owner', 'private', 'ignore', 'parents', 'other']\n",
        "marital_lst = ['unk', 'single', 'married', 'widow', 'separated', 'divorced']\n",
        "records_lst = ['no', 'yes', 'unk']\n",
        "job_lst = ['unk', 'fixed', 'partime', 'freelance', 'others']\n",
        "cat_lst = [home_lst, marital_lst, records_lst, job_lst]\n",
        "\n",
        "for col, cat in zip(cols, cat_lst):\n",
        "  mapping_categorical(df, col, cat)\n"
      ],
      "metadata": {
        "id": "PFRstgsuk-s2"
      },
      "execution_count": 9,
      "outputs": []
    },
    {
      "cell_type": "code",
      "source": [
        "df.head()"
      ],
      "metadata": {
        "colab": {
          "base_uri": "https://localhost:8080/",
          "height": 206
        },
        "id": "iEgsdHlCqXmX",
        "outputId": "a8d2f82d-00a8-4586-ec22-2d2dbcb128b8"
      },
      "execution_count": 10,
      "outputs": [
        {
          "output_type": "execute_result",
          "data": {
            "text/plain": [
              "    status  seniority   home  time  age  marital records        job  expenses  \\\n",
              "0       ok          9   rent    60   30  married      no  freelance        73   \n",
              "1       ok         17   rent    60   58    widow      no      fixed        48   \n",
              "2  default         10  owner    36   46  married     yes  freelance        90   \n",
              "3       ok          0   rent    60   24   single      no      fixed        63   \n",
              "4       ok          0   rent    36   26   single      no      fixed        46   \n",
              "\n",
              "   income  assets  debt  amount  price  \n",
              "0     129       0     0     800    846  \n",
              "1     131       0     0    1000   1658  \n",
              "2     200    3000     0    2000   2985  \n",
              "3     182    2500     0     900   1325  \n",
              "4     107       0     0     310    910  "
            ],
            "text/html": [
              "\n",
              "  <div id=\"df-a7e0eb22-eb88-42eb-a134-66108e94912e\">\n",
              "    <div class=\"colab-df-container\">\n",
              "      <div>\n",
              "<style scoped>\n",
              "    .dataframe tbody tr th:only-of-type {\n",
              "        vertical-align: middle;\n",
              "    }\n",
              "\n",
              "    .dataframe tbody tr th {\n",
              "        vertical-align: top;\n",
              "    }\n",
              "\n",
              "    .dataframe thead th {\n",
              "        text-align: right;\n",
              "    }\n",
              "</style>\n",
              "<table border=\"1\" class=\"dataframe\">\n",
              "  <thead>\n",
              "    <tr style=\"text-align: right;\">\n",
              "      <th></th>\n",
              "      <th>status</th>\n",
              "      <th>seniority</th>\n",
              "      <th>home</th>\n",
              "      <th>time</th>\n",
              "      <th>age</th>\n",
              "      <th>marital</th>\n",
              "      <th>records</th>\n",
              "      <th>job</th>\n",
              "      <th>expenses</th>\n",
              "      <th>income</th>\n",
              "      <th>assets</th>\n",
              "      <th>debt</th>\n",
              "      <th>amount</th>\n",
              "      <th>price</th>\n",
              "    </tr>\n",
              "  </thead>\n",
              "  <tbody>\n",
              "    <tr>\n",
              "      <th>0</th>\n",
              "      <td>ok</td>\n",
              "      <td>9</td>\n",
              "      <td>rent</td>\n",
              "      <td>60</td>\n",
              "      <td>30</td>\n",
              "      <td>married</td>\n",
              "      <td>no</td>\n",
              "      <td>freelance</td>\n",
              "      <td>73</td>\n",
              "      <td>129</td>\n",
              "      <td>0</td>\n",
              "      <td>0</td>\n",
              "      <td>800</td>\n",
              "      <td>846</td>\n",
              "    </tr>\n",
              "    <tr>\n",
              "      <th>1</th>\n",
              "      <td>ok</td>\n",
              "      <td>17</td>\n",
              "      <td>rent</td>\n",
              "      <td>60</td>\n",
              "      <td>58</td>\n",
              "      <td>widow</td>\n",
              "      <td>no</td>\n",
              "      <td>fixed</td>\n",
              "      <td>48</td>\n",
              "      <td>131</td>\n",
              "      <td>0</td>\n",
              "      <td>0</td>\n",
              "      <td>1000</td>\n",
              "      <td>1658</td>\n",
              "    </tr>\n",
              "    <tr>\n",
              "      <th>2</th>\n",
              "      <td>default</td>\n",
              "      <td>10</td>\n",
              "      <td>owner</td>\n",
              "      <td>36</td>\n",
              "      <td>46</td>\n",
              "      <td>married</td>\n",
              "      <td>yes</td>\n",
              "      <td>freelance</td>\n",
              "      <td>90</td>\n",
              "      <td>200</td>\n",
              "      <td>3000</td>\n",
              "      <td>0</td>\n",
              "      <td>2000</td>\n",
              "      <td>2985</td>\n",
              "    </tr>\n",
              "    <tr>\n",
              "      <th>3</th>\n",
              "      <td>ok</td>\n",
              "      <td>0</td>\n",
              "      <td>rent</td>\n",
              "      <td>60</td>\n",
              "      <td>24</td>\n",
              "      <td>single</td>\n",
              "      <td>no</td>\n",
              "      <td>fixed</td>\n",
              "      <td>63</td>\n",
              "      <td>182</td>\n",
              "      <td>2500</td>\n",
              "      <td>0</td>\n",
              "      <td>900</td>\n",
              "      <td>1325</td>\n",
              "    </tr>\n",
              "    <tr>\n",
              "      <th>4</th>\n",
              "      <td>ok</td>\n",
              "      <td>0</td>\n",
              "      <td>rent</td>\n",
              "      <td>36</td>\n",
              "      <td>26</td>\n",
              "      <td>single</td>\n",
              "      <td>no</td>\n",
              "      <td>fixed</td>\n",
              "      <td>46</td>\n",
              "      <td>107</td>\n",
              "      <td>0</td>\n",
              "      <td>0</td>\n",
              "      <td>310</td>\n",
              "      <td>910</td>\n",
              "    </tr>\n",
              "  </tbody>\n",
              "</table>\n",
              "</div>\n",
              "      <button class=\"colab-df-convert\" onclick=\"convertToInteractive('df-a7e0eb22-eb88-42eb-a134-66108e94912e')\"\n",
              "              title=\"Convert this dataframe to an interactive table.\"\n",
              "              style=\"display:none;\">\n",
              "        \n",
              "  <svg xmlns=\"http://www.w3.org/2000/svg\" height=\"24px\"viewBox=\"0 0 24 24\"\n",
              "       width=\"24px\">\n",
              "    <path d=\"M0 0h24v24H0V0z\" fill=\"none\"/>\n",
              "    <path d=\"M18.56 5.44l.94 2.06.94-2.06 2.06-.94-2.06-.94-.94-2.06-.94 2.06-2.06.94zm-11 1L8.5 8.5l.94-2.06 2.06-.94-2.06-.94L8.5 2.5l-.94 2.06-2.06.94zm10 10l.94 2.06.94-2.06 2.06-.94-2.06-.94-.94-2.06-.94 2.06-2.06.94z\"/><path d=\"M17.41 7.96l-1.37-1.37c-.4-.4-.92-.59-1.43-.59-.52 0-1.04.2-1.43.59L10.3 9.45l-7.72 7.72c-.78.78-.78 2.05 0 2.83L4 21.41c.39.39.9.59 1.41.59.51 0 1.02-.2 1.41-.59l7.78-7.78 2.81-2.81c.8-.78.8-2.07 0-2.86zM5.41 20L4 18.59l7.72-7.72 1.47 1.35L5.41 20z\"/>\n",
              "  </svg>\n",
              "      </button>\n",
              "      \n",
              "  <style>\n",
              "    .colab-df-container {\n",
              "      display:flex;\n",
              "      flex-wrap:wrap;\n",
              "      gap: 12px;\n",
              "    }\n",
              "\n",
              "    .colab-df-convert {\n",
              "      background-color: #E8F0FE;\n",
              "      border: none;\n",
              "      border-radius: 50%;\n",
              "      cursor: pointer;\n",
              "      display: none;\n",
              "      fill: #1967D2;\n",
              "      height: 32px;\n",
              "      padding: 0 0 0 0;\n",
              "      width: 32px;\n",
              "    }\n",
              "\n",
              "    .colab-df-convert:hover {\n",
              "      background-color: #E2EBFA;\n",
              "      box-shadow: 0px 1px 2px rgba(60, 64, 67, 0.3), 0px 1px 3px 1px rgba(60, 64, 67, 0.15);\n",
              "      fill: #174EA6;\n",
              "    }\n",
              "\n",
              "    [theme=dark] .colab-df-convert {\n",
              "      background-color: #3B4455;\n",
              "      fill: #D2E3FC;\n",
              "    }\n",
              "\n",
              "    [theme=dark] .colab-df-convert:hover {\n",
              "      background-color: #434B5C;\n",
              "      box-shadow: 0px 1px 3px 1px rgba(0, 0, 0, 0.15);\n",
              "      filter: drop-shadow(0px 1px 2px rgba(0, 0, 0, 0.3));\n",
              "      fill: #FFFFFF;\n",
              "    }\n",
              "  </style>\n",
              "\n",
              "      <script>\n",
              "        const buttonEl =\n",
              "          document.querySelector('#df-a7e0eb22-eb88-42eb-a134-66108e94912e button.colab-df-convert');\n",
              "        buttonEl.style.display =\n",
              "          google.colab.kernel.accessAllowed ? 'block' : 'none';\n",
              "\n",
              "        async function convertToInteractive(key) {\n",
              "          const element = document.querySelector('#df-a7e0eb22-eb88-42eb-a134-66108e94912e');\n",
              "          const dataTable =\n",
              "            await google.colab.kernel.invokeFunction('convertToInteractive',\n",
              "                                                     [key], {});\n",
              "          if (!dataTable) return;\n",
              "\n",
              "          const docLinkHtml = 'Like what you see? Visit the ' +\n",
              "            '<a target=\"_blank\" href=https://colab.research.google.com/notebooks/data_table.ipynb>data table notebook</a>'\n",
              "            + ' to learn more about interactive tables.';\n",
              "          element.innerHTML = '';\n",
              "          dataTable['output_type'] = 'display_data';\n",
              "          await google.colab.output.renderOutput(dataTable, element);\n",
              "          const docLink = document.createElement('div');\n",
              "          docLink.innerHTML = docLinkHtml;\n",
              "          element.appendChild(docLink);\n",
              "        }\n",
              "      </script>\n",
              "    </div>\n",
              "  </div>\n",
              "  "
            ]
          },
          "metadata": {},
          "execution_count": 10
        }
      ]
    },
    {
      "cell_type": "markdown",
      "source": [
        "**Check numerical values**"
      ],
      "metadata": {
        "id": "VCpksg6_1Lkq"
      }
    },
    {
      "cell_type": "code",
      "source": [
        "df.describe().T.round()"
      ],
      "metadata": {
        "colab": {
          "base_uri": "https://localhost:8080/",
          "height": 332
        },
        "id": "zyj1vW_MwCXd",
        "outputId": "519bc3ab-6520-44aa-8e6a-48d435baeb55"
      },
      "execution_count": 11,
      "outputs": [
        {
          "output_type": "execute_result",
          "data": {
            "text/plain": [
              "            count       mean         std    min     25%     50%     75%  \\\n",
              "seniority  4455.0        8.0         8.0    0.0     2.0     5.0    12.0   \n",
              "time       4455.0       46.0        15.0    6.0    36.0    48.0    60.0   \n",
              "age        4455.0       37.0        11.0   18.0    28.0    36.0    45.0   \n",
              "expenses   4455.0       56.0        20.0   35.0    35.0    51.0    72.0   \n",
              "income     4455.0   763317.0   8703625.0    0.0    80.0   120.0   166.0   \n",
              "assets     4455.0  1060341.0  10217569.0    0.0     0.0  3500.0  6000.0   \n",
              "debt       4455.0   404382.0   6344253.0    0.0     0.0     0.0     0.0   \n",
              "amount     4455.0     1039.0       475.0  100.0   700.0  1000.0  1300.0   \n",
              "price      4455.0     1463.0       628.0  105.0  1118.0  1400.0  1692.0   \n",
              "\n",
              "                  max  \n",
              "seniority        48.0  \n",
              "time             72.0  \n",
              "age              68.0  \n",
              "expenses        180.0  \n",
              "income     99999999.0  \n",
              "assets     99999999.0  \n",
              "debt       99999999.0  \n",
              "amount         5000.0  \n",
              "price         11140.0  "
            ],
            "text/html": [
              "\n",
              "  <div id=\"df-6943c83f-5661-4195-ae0d-34cac44d9593\">\n",
              "    <div class=\"colab-df-container\">\n",
              "      <div>\n",
              "<style scoped>\n",
              "    .dataframe tbody tr th:only-of-type {\n",
              "        vertical-align: middle;\n",
              "    }\n",
              "\n",
              "    .dataframe tbody tr th {\n",
              "        vertical-align: top;\n",
              "    }\n",
              "\n",
              "    .dataframe thead th {\n",
              "        text-align: right;\n",
              "    }\n",
              "</style>\n",
              "<table border=\"1\" class=\"dataframe\">\n",
              "  <thead>\n",
              "    <tr style=\"text-align: right;\">\n",
              "      <th></th>\n",
              "      <th>count</th>\n",
              "      <th>mean</th>\n",
              "      <th>std</th>\n",
              "      <th>min</th>\n",
              "      <th>25%</th>\n",
              "      <th>50%</th>\n",
              "      <th>75%</th>\n",
              "      <th>max</th>\n",
              "    </tr>\n",
              "  </thead>\n",
              "  <tbody>\n",
              "    <tr>\n",
              "      <th>seniority</th>\n",
              "      <td>4455.0</td>\n",
              "      <td>8.0</td>\n",
              "      <td>8.0</td>\n",
              "      <td>0.0</td>\n",
              "      <td>2.0</td>\n",
              "      <td>5.0</td>\n",
              "      <td>12.0</td>\n",
              "      <td>48.0</td>\n",
              "    </tr>\n",
              "    <tr>\n",
              "      <th>time</th>\n",
              "      <td>4455.0</td>\n",
              "      <td>46.0</td>\n",
              "      <td>15.0</td>\n",
              "      <td>6.0</td>\n",
              "      <td>36.0</td>\n",
              "      <td>48.0</td>\n",
              "      <td>60.0</td>\n",
              "      <td>72.0</td>\n",
              "    </tr>\n",
              "    <tr>\n",
              "      <th>age</th>\n",
              "      <td>4455.0</td>\n",
              "      <td>37.0</td>\n",
              "      <td>11.0</td>\n",
              "      <td>18.0</td>\n",
              "      <td>28.0</td>\n",
              "      <td>36.0</td>\n",
              "      <td>45.0</td>\n",
              "      <td>68.0</td>\n",
              "    </tr>\n",
              "    <tr>\n",
              "      <th>expenses</th>\n",
              "      <td>4455.0</td>\n",
              "      <td>56.0</td>\n",
              "      <td>20.0</td>\n",
              "      <td>35.0</td>\n",
              "      <td>35.0</td>\n",
              "      <td>51.0</td>\n",
              "      <td>72.0</td>\n",
              "      <td>180.0</td>\n",
              "    </tr>\n",
              "    <tr>\n",
              "      <th>income</th>\n",
              "      <td>4455.0</td>\n",
              "      <td>763317.0</td>\n",
              "      <td>8703625.0</td>\n",
              "      <td>0.0</td>\n",
              "      <td>80.0</td>\n",
              "      <td>120.0</td>\n",
              "      <td>166.0</td>\n",
              "      <td>99999999.0</td>\n",
              "    </tr>\n",
              "    <tr>\n",
              "      <th>assets</th>\n",
              "      <td>4455.0</td>\n",
              "      <td>1060341.0</td>\n",
              "      <td>10217569.0</td>\n",
              "      <td>0.0</td>\n",
              "      <td>0.0</td>\n",
              "      <td>3500.0</td>\n",
              "      <td>6000.0</td>\n",
              "      <td>99999999.0</td>\n",
              "    </tr>\n",
              "    <tr>\n",
              "      <th>debt</th>\n",
              "      <td>4455.0</td>\n",
              "      <td>404382.0</td>\n",
              "      <td>6344253.0</td>\n",
              "      <td>0.0</td>\n",
              "      <td>0.0</td>\n",
              "      <td>0.0</td>\n",
              "      <td>0.0</td>\n",
              "      <td>99999999.0</td>\n",
              "    </tr>\n",
              "    <tr>\n",
              "      <th>amount</th>\n",
              "      <td>4455.0</td>\n",
              "      <td>1039.0</td>\n",
              "      <td>475.0</td>\n",
              "      <td>100.0</td>\n",
              "      <td>700.0</td>\n",
              "      <td>1000.0</td>\n",
              "      <td>1300.0</td>\n",
              "      <td>5000.0</td>\n",
              "    </tr>\n",
              "    <tr>\n",
              "      <th>price</th>\n",
              "      <td>4455.0</td>\n",
              "      <td>1463.0</td>\n",
              "      <td>628.0</td>\n",
              "      <td>105.0</td>\n",
              "      <td>1118.0</td>\n",
              "      <td>1400.0</td>\n",
              "      <td>1692.0</td>\n",
              "      <td>11140.0</td>\n",
              "    </tr>\n",
              "  </tbody>\n",
              "</table>\n",
              "</div>\n",
              "      <button class=\"colab-df-convert\" onclick=\"convertToInteractive('df-6943c83f-5661-4195-ae0d-34cac44d9593')\"\n",
              "              title=\"Convert this dataframe to an interactive table.\"\n",
              "              style=\"display:none;\">\n",
              "        \n",
              "  <svg xmlns=\"http://www.w3.org/2000/svg\" height=\"24px\"viewBox=\"0 0 24 24\"\n",
              "       width=\"24px\">\n",
              "    <path d=\"M0 0h24v24H0V0z\" fill=\"none\"/>\n",
              "    <path d=\"M18.56 5.44l.94 2.06.94-2.06 2.06-.94-2.06-.94-.94-2.06-.94 2.06-2.06.94zm-11 1L8.5 8.5l.94-2.06 2.06-.94-2.06-.94L8.5 2.5l-.94 2.06-2.06.94zm10 10l.94 2.06.94-2.06 2.06-.94-2.06-.94-.94-2.06-.94 2.06-2.06.94z\"/><path d=\"M17.41 7.96l-1.37-1.37c-.4-.4-.92-.59-1.43-.59-.52 0-1.04.2-1.43.59L10.3 9.45l-7.72 7.72c-.78.78-.78 2.05 0 2.83L4 21.41c.39.39.9.59 1.41.59.51 0 1.02-.2 1.41-.59l7.78-7.78 2.81-2.81c.8-.78.8-2.07 0-2.86zM5.41 20L4 18.59l7.72-7.72 1.47 1.35L5.41 20z\"/>\n",
              "  </svg>\n",
              "      </button>\n",
              "      \n",
              "  <style>\n",
              "    .colab-df-container {\n",
              "      display:flex;\n",
              "      flex-wrap:wrap;\n",
              "      gap: 12px;\n",
              "    }\n",
              "\n",
              "    .colab-df-convert {\n",
              "      background-color: #E8F0FE;\n",
              "      border: none;\n",
              "      border-radius: 50%;\n",
              "      cursor: pointer;\n",
              "      display: none;\n",
              "      fill: #1967D2;\n",
              "      height: 32px;\n",
              "      padding: 0 0 0 0;\n",
              "      width: 32px;\n",
              "    }\n",
              "\n",
              "    .colab-df-convert:hover {\n",
              "      background-color: #E2EBFA;\n",
              "      box-shadow: 0px 1px 2px rgba(60, 64, 67, 0.3), 0px 1px 3px 1px rgba(60, 64, 67, 0.15);\n",
              "      fill: #174EA6;\n",
              "    }\n",
              "\n",
              "    [theme=dark] .colab-df-convert {\n",
              "      background-color: #3B4455;\n",
              "      fill: #D2E3FC;\n",
              "    }\n",
              "\n",
              "    [theme=dark] .colab-df-convert:hover {\n",
              "      background-color: #434B5C;\n",
              "      box-shadow: 0px 1px 3px 1px rgba(0, 0, 0, 0.15);\n",
              "      filter: drop-shadow(0px 1px 2px rgba(0, 0, 0, 0.3));\n",
              "      fill: #FFFFFF;\n",
              "    }\n",
              "  </style>\n",
              "\n",
              "      <script>\n",
              "        const buttonEl =\n",
              "          document.querySelector('#df-6943c83f-5661-4195-ae0d-34cac44d9593 button.colab-df-convert');\n",
              "        buttonEl.style.display =\n",
              "          google.colab.kernel.accessAllowed ? 'block' : 'none';\n",
              "\n",
              "        async function convertToInteractive(key) {\n",
              "          const element = document.querySelector('#df-6943c83f-5661-4195-ae0d-34cac44d9593');\n",
              "          const dataTable =\n",
              "            await google.colab.kernel.invokeFunction('convertToInteractive',\n",
              "                                                     [key], {});\n",
              "          if (!dataTable) return;\n",
              "\n",
              "          const docLinkHtml = 'Like what you see? Visit the ' +\n",
              "            '<a target=\"_blank\" href=https://colab.research.google.com/notebooks/data_table.ipynb>data table notebook</a>'\n",
              "            + ' to learn more about interactive tables.';\n",
              "          element.innerHTML = '';\n",
              "          dataTable['output_type'] = 'display_data';\n",
              "          await google.colab.output.renderOutput(dataTable, element);\n",
              "          const docLink = document.createElement('div');\n",
              "          docLink.innerHTML = docLinkHtml;\n",
              "          element.appendChild(docLink);\n",
              "        }\n",
              "      </script>\n",
              "    </div>\n",
              "  </div>\n",
              "  "
            ]
          },
          "metadata": {},
          "execution_count": 11
        }
      ]
    },
    {
      "cell_type": "markdown",
      "source": [
        "One thing we immediately can notice is that the max value is 99999999 in some cases. This is quite suspicious. As it turns out, it’s an artificial value — this is how missing values are encoded in this dataset."
      ],
      "metadata": {
        "id": "gD8XQsna2Hfn"
      }
    },
    {
      "cell_type": "code",
      "source": [
        "def fix_missing_values(df, val_to_rep, rep, *f_lst):\n",
        "  for f in f_lst:\n",
        "    df[f] = df[f].replace(val_to_rep, rep)"
      ],
      "metadata": {
        "id": "EVtahDkV1Uqv"
      },
      "execution_count": 12,
      "outputs": []
    },
    {
      "cell_type": "code",
      "source": [
        "fix_missing_values(df, 99999999.0, np.nan, ['income', 'assets', 'debt'])"
      ],
      "metadata": {
        "id": "MwJF1sQp29Sf"
      },
      "execution_count": 13,
      "outputs": []
    },
    {
      "cell_type": "code",
      "source": [
        "df.describe().T.round()"
      ],
      "metadata": {
        "colab": {
          "base_uri": "https://localhost:8080/",
          "height": 332
        },
        "id": "AymfAQsU3Pse",
        "outputId": "61988dfc-15ea-4bde-e01d-8c13103f8698"
      },
      "execution_count": 14,
      "outputs": [
        {
          "output_type": "execute_result",
          "data": {
            "text/plain": [
              "            count    mean      std    min     25%     50%     75%       max\n",
              "seniority  4455.0     8.0      8.0    0.0     2.0     5.0    12.0      48.0\n",
              "time       4455.0    46.0     15.0    6.0    36.0    48.0    60.0      72.0\n",
              "age        4455.0    37.0     11.0   18.0    28.0    36.0    45.0      68.0\n",
              "expenses   4455.0    56.0     20.0   35.0    35.0    51.0    72.0     180.0\n",
              "income     4421.0   131.0     86.0    0.0    80.0   120.0   165.0     959.0\n",
              "assets     4408.0  5403.0  11573.0    0.0     0.0  3000.0  6000.0  300000.0\n",
              "debt       4437.0   343.0   1246.0    0.0     0.0     0.0     0.0   30000.0\n",
              "amount     4455.0  1039.0    475.0  100.0   700.0  1000.0  1300.0    5000.0\n",
              "price      4455.0  1463.0    628.0  105.0  1118.0  1400.0  1692.0   11140.0"
            ],
            "text/html": [
              "\n",
              "  <div id=\"df-89fb5a1a-ecd9-4a03-9f59-35fe05472859\">\n",
              "    <div class=\"colab-df-container\">\n",
              "      <div>\n",
              "<style scoped>\n",
              "    .dataframe tbody tr th:only-of-type {\n",
              "        vertical-align: middle;\n",
              "    }\n",
              "\n",
              "    .dataframe tbody tr th {\n",
              "        vertical-align: top;\n",
              "    }\n",
              "\n",
              "    .dataframe thead th {\n",
              "        text-align: right;\n",
              "    }\n",
              "</style>\n",
              "<table border=\"1\" class=\"dataframe\">\n",
              "  <thead>\n",
              "    <tr style=\"text-align: right;\">\n",
              "      <th></th>\n",
              "      <th>count</th>\n",
              "      <th>mean</th>\n",
              "      <th>std</th>\n",
              "      <th>min</th>\n",
              "      <th>25%</th>\n",
              "      <th>50%</th>\n",
              "      <th>75%</th>\n",
              "      <th>max</th>\n",
              "    </tr>\n",
              "  </thead>\n",
              "  <tbody>\n",
              "    <tr>\n",
              "      <th>seniority</th>\n",
              "      <td>4455.0</td>\n",
              "      <td>8.0</td>\n",
              "      <td>8.0</td>\n",
              "      <td>0.0</td>\n",
              "      <td>2.0</td>\n",
              "      <td>5.0</td>\n",
              "      <td>12.0</td>\n",
              "      <td>48.0</td>\n",
              "    </tr>\n",
              "    <tr>\n",
              "      <th>time</th>\n",
              "      <td>4455.0</td>\n",
              "      <td>46.0</td>\n",
              "      <td>15.0</td>\n",
              "      <td>6.0</td>\n",
              "      <td>36.0</td>\n",
              "      <td>48.0</td>\n",
              "      <td>60.0</td>\n",
              "      <td>72.0</td>\n",
              "    </tr>\n",
              "    <tr>\n",
              "      <th>age</th>\n",
              "      <td>4455.0</td>\n",
              "      <td>37.0</td>\n",
              "      <td>11.0</td>\n",
              "      <td>18.0</td>\n",
              "      <td>28.0</td>\n",
              "      <td>36.0</td>\n",
              "      <td>45.0</td>\n",
              "      <td>68.0</td>\n",
              "    </tr>\n",
              "    <tr>\n",
              "      <th>expenses</th>\n",
              "      <td>4455.0</td>\n",
              "      <td>56.0</td>\n",
              "      <td>20.0</td>\n",
              "      <td>35.0</td>\n",
              "      <td>35.0</td>\n",
              "      <td>51.0</td>\n",
              "      <td>72.0</td>\n",
              "      <td>180.0</td>\n",
              "    </tr>\n",
              "    <tr>\n",
              "      <th>income</th>\n",
              "      <td>4421.0</td>\n",
              "      <td>131.0</td>\n",
              "      <td>86.0</td>\n",
              "      <td>0.0</td>\n",
              "      <td>80.0</td>\n",
              "      <td>120.0</td>\n",
              "      <td>165.0</td>\n",
              "      <td>959.0</td>\n",
              "    </tr>\n",
              "    <tr>\n",
              "      <th>assets</th>\n",
              "      <td>4408.0</td>\n",
              "      <td>5403.0</td>\n",
              "      <td>11573.0</td>\n",
              "      <td>0.0</td>\n",
              "      <td>0.0</td>\n",
              "      <td>3000.0</td>\n",
              "      <td>6000.0</td>\n",
              "      <td>300000.0</td>\n",
              "    </tr>\n",
              "    <tr>\n",
              "      <th>debt</th>\n",
              "      <td>4437.0</td>\n",
              "      <td>343.0</td>\n",
              "      <td>1246.0</td>\n",
              "      <td>0.0</td>\n",
              "      <td>0.0</td>\n",
              "      <td>0.0</td>\n",
              "      <td>0.0</td>\n",
              "      <td>30000.0</td>\n",
              "    </tr>\n",
              "    <tr>\n",
              "      <th>amount</th>\n",
              "      <td>4455.0</td>\n",
              "      <td>1039.0</td>\n",
              "      <td>475.0</td>\n",
              "      <td>100.0</td>\n",
              "      <td>700.0</td>\n",
              "      <td>1000.0</td>\n",
              "      <td>1300.0</td>\n",
              "      <td>5000.0</td>\n",
              "    </tr>\n",
              "    <tr>\n",
              "      <th>price</th>\n",
              "      <td>4455.0</td>\n",
              "      <td>1463.0</td>\n",
              "      <td>628.0</td>\n",
              "      <td>105.0</td>\n",
              "      <td>1118.0</td>\n",
              "      <td>1400.0</td>\n",
              "      <td>1692.0</td>\n",
              "      <td>11140.0</td>\n",
              "    </tr>\n",
              "  </tbody>\n",
              "</table>\n",
              "</div>\n",
              "      <button class=\"colab-df-convert\" onclick=\"convertToInteractive('df-89fb5a1a-ecd9-4a03-9f59-35fe05472859')\"\n",
              "              title=\"Convert this dataframe to an interactive table.\"\n",
              "              style=\"display:none;\">\n",
              "        \n",
              "  <svg xmlns=\"http://www.w3.org/2000/svg\" height=\"24px\"viewBox=\"0 0 24 24\"\n",
              "       width=\"24px\">\n",
              "    <path d=\"M0 0h24v24H0V0z\" fill=\"none\"/>\n",
              "    <path d=\"M18.56 5.44l.94 2.06.94-2.06 2.06-.94-2.06-.94-.94-2.06-.94 2.06-2.06.94zm-11 1L8.5 8.5l.94-2.06 2.06-.94-2.06-.94L8.5 2.5l-.94 2.06-2.06.94zm10 10l.94 2.06.94-2.06 2.06-.94-2.06-.94-.94-2.06-.94 2.06-2.06.94z\"/><path d=\"M17.41 7.96l-1.37-1.37c-.4-.4-.92-.59-1.43-.59-.52 0-1.04.2-1.43.59L10.3 9.45l-7.72 7.72c-.78.78-.78 2.05 0 2.83L4 21.41c.39.39.9.59 1.41.59.51 0 1.02-.2 1.41-.59l7.78-7.78 2.81-2.81c.8-.78.8-2.07 0-2.86zM5.41 20L4 18.59l7.72-7.72 1.47 1.35L5.41 20z\"/>\n",
              "  </svg>\n",
              "      </button>\n",
              "      \n",
              "  <style>\n",
              "    .colab-df-container {\n",
              "      display:flex;\n",
              "      flex-wrap:wrap;\n",
              "      gap: 12px;\n",
              "    }\n",
              "\n",
              "    .colab-df-convert {\n",
              "      background-color: #E8F0FE;\n",
              "      border: none;\n",
              "      border-radius: 50%;\n",
              "      cursor: pointer;\n",
              "      display: none;\n",
              "      fill: #1967D2;\n",
              "      height: 32px;\n",
              "      padding: 0 0 0 0;\n",
              "      width: 32px;\n",
              "    }\n",
              "\n",
              "    .colab-df-convert:hover {\n",
              "      background-color: #E2EBFA;\n",
              "      box-shadow: 0px 1px 2px rgba(60, 64, 67, 0.3), 0px 1px 3px 1px rgba(60, 64, 67, 0.15);\n",
              "      fill: #174EA6;\n",
              "    }\n",
              "\n",
              "    [theme=dark] .colab-df-convert {\n",
              "      background-color: #3B4455;\n",
              "      fill: #D2E3FC;\n",
              "    }\n",
              "\n",
              "    [theme=dark] .colab-df-convert:hover {\n",
              "      background-color: #434B5C;\n",
              "      box-shadow: 0px 1px 3px 1px rgba(0, 0, 0, 0.15);\n",
              "      filter: drop-shadow(0px 1px 2px rgba(0, 0, 0, 0.3));\n",
              "      fill: #FFFFFF;\n",
              "    }\n",
              "  </style>\n",
              "\n",
              "      <script>\n",
              "        const buttonEl =\n",
              "          document.querySelector('#df-89fb5a1a-ecd9-4a03-9f59-35fe05472859 button.colab-df-convert');\n",
              "        buttonEl.style.display =\n",
              "          google.colab.kernel.accessAllowed ? 'block' : 'none';\n",
              "\n",
              "        async function convertToInteractive(key) {\n",
              "          const element = document.querySelector('#df-89fb5a1a-ecd9-4a03-9f59-35fe05472859');\n",
              "          const dataTable =\n",
              "            await google.colab.kernel.invokeFunction('convertToInteractive',\n",
              "                                                     [key], {});\n",
              "          if (!dataTable) return;\n",
              "\n",
              "          const docLinkHtml = 'Like what you see? Visit the ' +\n",
              "            '<a target=\"_blank\" href=https://colab.research.google.com/notebooks/data_table.ipynb>data table notebook</a>'\n",
              "            + ' to learn more about interactive tables.';\n",
              "          element.innerHTML = '';\n",
              "          dataTable['output_type'] = 'display_data';\n",
              "          await google.colab.output.renderOutput(dataTable, element);\n",
              "          const docLink = document.createElement('div');\n",
              "          docLink.innerHTML = docLinkHtml;\n",
              "          element.appendChild(docLink);\n",
              "        }\n",
              "      </script>\n",
              "    </div>\n",
              "  </div>\n",
              "  "
            ]
          },
          "metadata": {},
          "execution_count": 14
        }
      ]
    },
    {
      "cell_type": "code",
      "source": [
        "df.isna().sum()"
      ],
      "metadata": {
        "colab": {
          "base_uri": "https://localhost:8080/"
        },
        "id": "zUjTSr8C3T9t",
        "outputId": "cf511c54-367a-4db9-cc29-9cccb4850cdb"
      },
      "execution_count": 15,
      "outputs": [
        {
          "output_type": "execute_result",
          "data": {
            "text/plain": [
              "status        0\n",
              "seniority     0\n",
              "home          0\n",
              "time          0\n",
              "age           0\n",
              "marital       0\n",
              "records       0\n",
              "job           0\n",
              "expenses      0\n",
              "income       34\n",
              "assets       47\n",
              "debt         18\n",
              "amount        0\n",
              "price         0\n",
              "dtype: int64"
            ]
          },
          "metadata": {},
          "execution_count": 15
        }
      ]
    },
    {
      "cell_type": "markdown",
      "source": [
        "We notice that there’s one row with “unknown” status: we don’t know whether this client\n",
        "managed to pay back the loan or not. For our project, this row is not useful"
      ],
      "metadata": {
        "id": "gBfTRnc74sqy"
      }
    },
    {
      "cell_type": "code",
      "source": [
        "df = df[df.status != 'unk']"
      ],
      "metadata": {
        "id": "AZyqFBPe3ipL"
      },
      "execution_count": 16,
      "outputs": []
    },
    {
      "cell_type": "markdown",
      "source": [],
      "metadata": {
        "id": "r0y-vPvv5Cbi"
      }
    },
    {
      "cell_type": "markdown",
      "source": [
        "# Dataset preparation"
      ],
      "metadata": {
        "id": "e71srGg-5Ioa"
      }
    },
    {
      "cell_type": "markdown",
      "source": [
        "Separate target from features. Since our objective is to determine if somebody fails to pay back their credit, the positive class is “default”. This means that y is “1” if the client defaulted and\n",
        "“0” otherwise."
      ],
      "metadata": {
        "id": "RohaCtyR666n"
      }
    },
    {
      "cell_type": "code",
      "source": [
        "data, target = df.drop(columns=['status']), df['status'].map({'ok':0, 'default':1})"
      ],
      "metadata": {
        "id": "5sCJtqRH6XUw"
      },
      "execution_count": 17,
      "outputs": []
    },
    {
      "cell_type": "code",
      "source": [
        "target.head()"
      ],
      "metadata": {
        "colab": {
          "base_uri": "https://localhost:8080/"
        },
        "id": "M7DSlchu7VC6",
        "outputId": "7a087a06-038b-4c2b-c02f-30fec0d529e3"
      },
      "execution_count": 18,
      "outputs": [
        {
          "output_type": "execute_result",
          "data": {
            "text/plain": [
              "0    0\n",
              "1    0\n",
              "2    1\n",
              "3    0\n",
              "4    0\n",
              "Name: status, dtype: int64"
            ]
          },
          "metadata": {},
          "execution_count": 18
        }
      ]
    },
    {
      "cell_type": "markdown",
      "source": [
        "**Spliting data**"
      ],
      "metadata": {
        "id": "mAZTyM5c5hfP"
      }
    },
    {
      "cell_type": "code",
      "source": [
        "from sklearn import model_selection\n",
        "\n",
        "X_full_train, X_test, y_full_train, y_test = model_selection.train_test_split(\n",
        "    data,\n",
        "    target,\n",
        "    test_size=.2,\n",
        "    random_state=11,\n",
        ")\n",
        "X_train, X_dev, y_train, y_dev = model_selection.train_test_split(\n",
        "    X_full_train,\n",
        "    y_full_train,\n",
        "    test_size=.25,\n",
        "    random_state=11,\n",
        ")\n",
        "\n",
        "X_train.shape, y_train.shape, X_dev.shape, y_dev.shape, X_test.shape, y_test.shape"
      ],
      "metadata": {
        "colab": {
          "base_uri": "https://localhost:8080/"
        },
        "id": "0ViNmhnG41E8",
        "outputId": "e5ef2353-11da-4c79-bc89-f08319b4e0a5"
      },
      "execution_count": 19,
      "outputs": [
        {
          "output_type": "execute_result",
          "data": {
            "text/plain": [
              "((2672, 13), (2672,), (891, 13), (891,), (891, 13), (891,))"
            ]
          },
          "metadata": {},
          "execution_count": 19
        }
      ]
    },
    {
      "cell_type": "markdown",
      "source": [
        "**impute missing values and make pipelines**"
      ],
      "metadata": {
        "id": "XM6j6NkD-CPs"
      }
    },
    {
      "cell_type": "code",
      "source": [
        "from sklearn.impute import SimpleImputer\n",
        "from sklearn.preprocessing import OrdinalEncoder\n",
        "from sklearn.compose import make_column_selector as selector, ColumnTransformer\n",
        "from sklearn.pipeline import Pipeline, make_pipeline\n",
        "\n",
        "\n",
        "numerical = selector(dtype_include=np.number)(data)\n",
        "categorical = selector(dtype_include=object)(data)\n",
        "\n",
        "num_imputer = SimpleImputer(missing_values=np.NaN, strategy='constant', fill_value=0)\n",
        "cat_imputer = SimpleImputer(strategy='constant', fill_value='unk')\n",
        "cat_encoder = OrdinalEncoder(handle_unknown='use_encoded_value', unknown_value=-1)\n",
        "\n",
        "cat_preprocessor = Pipeline([\n",
        "    ('category_imputer', cat_imputer),\n",
        "    ('category_encoder', cat_encoder)\n",
        "])\n",
        "\n",
        "processor = ColumnTransformer([\n",
        "    ('numeric', num_imputer, numerical),\n",
        "    ('category', cat_preprocessor, categorical)\n",
        "])"
      ],
      "metadata": {
        "id": "pmW6udgI9OTY"
      },
      "execution_count": 20,
      "outputs": []
    },
    {
      "cell_type": "markdown",
      "source": [
        "# Models"
      ],
      "metadata": {
        "id": "ZyNCVzxVB3R3"
      }
    },
    {
      "cell_type": "markdown",
      "source": [
        "## Decision Trees"
      ],
      "metadata": {
        "id": "771JiHqyB6Co"
      }
    },
    {
      "cell_type": "code",
      "source": [
        "from sklearn.tree import DecisionTreeClassifier\n",
        "\n",
        "dt = make_pipeline(processor, DecisionTreeClassifier())\n",
        "dt.fit(X_train, y_train)"
      ],
      "metadata": {
        "colab": {
          "base_uri": "https://localhost:8080/"
        },
        "id": "ko89Tp84Bqq_",
        "outputId": "fb7b81d6-4950-4fc2-f702-e73f57a0f367"
      },
      "execution_count": 21,
      "outputs": [
        {
          "output_type": "execute_result",
          "data": {
            "text/plain": [
              "Pipeline(steps=[('columntransformer',\n",
              "                 ColumnTransformer(transformers=[('numeric',\n",
              "                                                  SimpleImputer(fill_value=0,\n",
              "                                                                strategy='constant'),\n",
              "                                                  ['seniority', 'time', 'age',\n",
              "                                                   'expenses', 'income',\n",
              "                                                   'assets', 'debt', 'amount',\n",
              "                                                   'price']),\n",
              "                                                 ('category',\n",
              "                                                  Pipeline(steps=[('category_imputer',\n",
              "                                                                   SimpleImputer(fill_value='unk',\n",
              "                                                                                 strategy='constant')),\n",
              "                                                                  ('category_encoder',\n",
              "                                                                   OrdinalEncoder(handle_unknown='use_encoded_value',\n",
              "                                                                                  unknown_value=-1))]),\n",
              "                                                  ['home', 'marital', 'records',\n",
              "                                                   'job'])])),\n",
              "                ('decisiontreeclassifier', DecisionTreeClassifier())])"
            ]
          },
          "metadata": {},
          "execution_count": 21
        }
      ]
    },
    {
      "cell_type": "code",
      "source": [
        "from sklearn import metrics\n",
        "\n",
        "y_pred = dt.predict_proba(X_train)[:, 1]\n",
        "metrics.roc_auc_score(y_train, y_pred)"
      ],
      "metadata": {
        "colab": {
          "base_uri": "https://localhost:8080/"
        },
        "id": "IcV8ePd3DE1z",
        "outputId": "fd602057-1943-4d82-bb6a-70cb3338e091"
      },
      "execution_count": 22,
      "outputs": [
        {
          "output_type": "execute_result",
          "data": {
            "text/plain": [
              "1.0"
            ]
          },
          "metadata": {},
          "execution_count": 22
        }
      ]
    },
    {
      "cell_type": "code",
      "source": [
        "y_pred = dt.predict_proba(X_dev)[:, 1]\n",
        "metrics.roc_auc_score(y_dev, y_pred)"
      ],
      "metadata": {
        "colab": {
          "base_uri": "https://localhost:8080/"
        },
        "id": "I_67MGEAGWI3",
        "outputId": "60475906-0358-48d0-9b4a-988500d505de"
      },
      "execution_count": 23,
      "outputs": [
        {
          "output_type": "execute_result",
          "data": {
            "text/plain": [
              "0.650680535709961"
            ]
          },
          "metadata": {},
          "execution_count": 23
        }
      ]
    },
    {
      "cell_type": "code",
      "source": [
        "metrics.recall_score(y_dev, y_pred)"
      ],
      "metadata": {
        "colab": {
          "base_uri": "https://localhost:8080/"
        },
        "id": "xQjDcsknGcjj",
        "outputId": "1cdb7013-1f46-4723-dc24-e1e6761cfe2b"
      },
      "execution_count": 24,
      "outputs": [
        {
          "output_type": "execute_result",
          "data": {
            "text/plain": [
              "0.4828897338403042"
            ]
          },
          "metadata": {},
          "execution_count": 24
        }
      ]
    },
    {
      "cell_type": "markdown",
      "source": [
        "We just observed a case of overfitting. The tree learned the training data so well that it simply memorized the outcome for each customer. However, when we applied it to the validation set, the model failed. The rules it extracted from data turned out too specific to the training set, so it worked poorly for customers it didn’t see during training. In such cases, we say that the model cannot generalize. Overfitting happens when we have a complex model with enough power to remember all the training data. If we force the model to be simpler, we can make it less powerful, and improve the model’s ability to generalize. There are multiple ways of controlling the complexity of a tree. One of the options is restricting its size: we can specify the max_depth parameter, which controls the maximal number of levels. The more levels a tree has, the more complex rules it can learn."
      ],
      "metadata": {
        "id": "6JgO_RplITzw"
      }
    },
    {
      "cell_type": "markdown",
      "source": [
        "The default value for the `max_depth` parameter is `None`, which means that the tree can grow\n",
        "as large as possible. We can try a smaller value and compare the results."
      ],
      "metadata": {
        "id": "Pr31GPj-KuXK"
      }
    },
    {
      "cell_type": "code",
      "source": [
        "max_depth = 2\n",
        "\n",
        "dt = make_pipeline(processor, DecisionTreeClassifier(max_depth=max_depth))\n",
        "dt.fit(X_train, y_train)"
      ],
      "metadata": {
        "colab": {
          "base_uri": "https://localhost:8080/"
        },
        "id": "t_4jVC3gHLEM",
        "outputId": "a773898c-9f24-4999-d345-6f678eb8f56f"
      },
      "execution_count": 25,
      "outputs": [
        {
          "output_type": "execute_result",
          "data": {
            "text/plain": [
              "Pipeline(steps=[('columntransformer',\n",
              "                 ColumnTransformer(transformers=[('numeric',\n",
              "                                                  SimpleImputer(fill_value=0,\n",
              "                                                                strategy='constant'),\n",
              "                                                  ['seniority', 'time', 'age',\n",
              "                                                   'expenses', 'income',\n",
              "                                                   'assets', 'debt', 'amount',\n",
              "                                                   'price']),\n",
              "                                                 ('category',\n",
              "                                                  Pipeline(steps=[('category_imputer',\n",
              "                                                                   SimpleImputer(fill_value='unk',\n",
              "                                                                                 strategy='constant')),\n",
              "                                                                  ('category_encoder',\n",
              "                                                                   OrdinalEncoder(handle_unknown='use_encoded_value',\n",
              "                                                                                  unknown_value=-1))]),\n",
              "                                                  ['home', 'marital', 'records',\n",
              "                                                   'job'])])),\n",
              "                ('decisiontreeclassifier',\n",
              "                 DecisionTreeClassifier(max_depth=2))])"
            ]
          },
          "metadata": {},
          "execution_count": 25
        }
      ]
    },
    {
      "cell_type": "code",
      "source": [
        "from sklearn.tree import export_text\n",
        "\n",
        "\n",
        "tree_text = export_text(dt[1])\n",
        "print(tree_text)"
      ],
      "metadata": {
        "colab": {
          "base_uri": "https://localhost:8080/"
        },
        "id": "q75X8PNcK9Or",
        "outputId": "dbcb92f2-a9b6-4101-ea8d-75ea43790aeb"
      },
      "execution_count": 26,
      "outputs": [
        {
          "output_type": "stream",
          "name": "stdout",
          "text": [
            "|--- feature_11 <= 0.50\n",
            "|   |--- feature_12 <= 2.50\n",
            "|   |   |--- class: 0\n",
            "|   |--- feature_12 >  2.50\n",
            "|   |   |--- class: 1\n",
            "|--- feature_11 >  0.50\n",
            "|   |--- feature_0 <= 6.50\n",
            "|   |   |--- class: 1\n",
            "|   |--- feature_0 >  6.50\n",
            "|   |   |--- class: 0\n",
            "\n"
          ]
        }
      ]
    },
    {
      "cell_type": "code",
      "source": [
        "y_pred = dt.predict_proba(X_train)[:, 1]\n",
        "print(f\"AUC train set: {metrics.roc_auc_score(y_train, y_pred)}\")"
      ],
      "metadata": {
        "colab": {
          "base_uri": "https://localhost:8080/"
        },
        "id": "J78l5g1-O_nl",
        "outputId": "400558d3-4bfc-4eba-b942-5578a8f44f0c"
      },
      "execution_count": 27,
      "outputs": [
        {
          "output_type": "stream",
          "name": "stdout",
          "text": [
            "AUC train set: 0.7061968339811842\n"
          ]
        }
      ]
    },
    {
      "cell_type": "code",
      "source": [
        "y_pred = dt.predict_proba(X_dev)[:, 1]\n",
        "print(f\"AUC dev set: {metrics.roc_auc_score(y_dev, y_pred)}\")"
      ],
      "metadata": {
        "colab": {
          "base_uri": "https://localhost:8080/"
        },
        "id": "pvjMefDcM3Px",
        "outputId": "baeae3cd-869e-468d-d8ac-b320fd3689f1"
      },
      "execution_count": 28,
      "outputs": [
        {
          "output_type": "stream",
          "name": "stdout",
          "text": [
            "AUC dev set: 0.6685264343319367\n"
          ]
        }
      ]
    },
    {
      "cell_type": "code",
      "source": [
        "y_pred_rec = dt.predict(X_dev)\n",
        "print(f\"Recall dev set: {metrics.recall_score(y_dev, y_pred_rec)}\")"
      ],
      "metadata": {
        "colab": {
          "base_uri": "https://localhost:8080/"
        },
        "id": "J8OYqca_OooQ",
        "outputId": "c0287df8-ea4e-46e5-cbb5-07e7c862bba6"
      },
      "execution_count": 29,
      "outputs": [
        {
          "output_type": "stream",
          "name": "stdout",
          "text": [
            "Recall dev set: 0.38022813688212925\n"
          ]
        }
      ]
    },
    {
      "cell_type": "code",
      "source": [
        "auc = []\n",
        "\n",
        "for depth in [5, 8, 15, 25, 30, None]:\n",
        "  dt = make_pipeline(processor, DecisionTreeClassifier(max_depth=depth))\n",
        "  dt.fit(X_train, y_train)\n",
        "  preds = dt.predict_proba(X_dev)[:, 1]\n",
        "  score = metrics.roc_auc_score(y_dev, preds)\n",
        "  auc.append((depth, score))\n",
        "  # print(f\"max_depth: {depth} ---> auc: {score}\")\n",
        "\n",
        "for depth, score in auc:\n",
        "  print(f\"max_depth: {depth} ---> auc: {score:.3f}\")"
      ],
      "metadata": {
        "colab": {
          "base_uri": "https://localhost:8080/"
        },
        "id": "XhlvKoaZPmDL",
        "outputId": "baa445b9-4b50-4e0a-86ef-9f196e75462d"
      },
      "execution_count": 30,
      "outputs": [
        {
          "output_type": "stream",
          "name": "stdout",
          "text": [
            "max_depth: 5 ---> auc: 0.767\n",
            "max_depth: 8 ---> auc: 0.732\n",
            "max_depth: 15 ---> auc: 0.672\n",
            "max_depth: 25 ---> auc: 0.644\n",
            "max_depth: 30 ---> auc: 0.646\n",
            "max_depth: None ---> auc: 0.664\n"
          ]
        }
      ]
    },
    {
      "cell_type": "code",
      "source": [
        "for i in dt.get_params().keys():\n",
        "  print(i)"
      ],
      "metadata": {
        "colab": {
          "base_uri": "https://localhost:8080/"
        },
        "id": "LLUh7l6icZdy",
        "outputId": "eed7affb-46b6-40f2-a0f8-e011c892425d"
      },
      "execution_count": 31,
      "outputs": [
        {
          "output_type": "stream",
          "name": "stdout",
          "text": [
            "memory\n",
            "steps\n",
            "verbose\n",
            "columntransformer\n",
            "decisiontreeclassifier\n",
            "columntransformer__n_jobs\n",
            "columntransformer__remainder\n",
            "columntransformer__sparse_threshold\n",
            "columntransformer__transformer_weights\n",
            "columntransformer__transformers\n",
            "columntransformer__verbose\n",
            "columntransformer__verbose_feature_names_out\n",
            "columntransformer__numeric\n",
            "columntransformer__category\n",
            "columntransformer__numeric__add_indicator\n",
            "columntransformer__numeric__copy\n",
            "columntransformer__numeric__fill_value\n",
            "columntransformer__numeric__missing_values\n",
            "columntransformer__numeric__strategy\n",
            "columntransformer__numeric__verbose\n",
            "columntransformer__category__memory\n",
            "columntransformer__category__steps\n",
            "columntransformer__category__verbose\n",
            "columntransformer__category__category_imputer\n",
            "columntransformer__category__category_encoder\n",
            "columntransformer__category__category_imputer__add_indicator\n",
            "columntransformer__category__category_imputer__copy\n",
            "columntransformer__category__category_imputer__fill_value\n",
            "columntransformer__category__category_imputer__missing_values\n",
            "columntransformer__category__category_imputer__strategy\n",
            "columntransformer__category__category_imputer__verbose\n",
            "columntransformer__category__category_encoder__categories\n",
            "columntransformer__category__category_encoder__dtype\n",
            "columntransformer__category__category_encoder__handle_unknown\n",
            "columntransformer__category__category_encoder__unknown_value\n",
            "decisiontreeclassifier__ccp_alpha\n",
            "decisiontreeclassifier__class_weight\n",
            "decisiontreeclassifier__criterion\n",
            "decisiontreeclassifier__max_depth\n",
            "decisiontreeclassifier__max_features\n",
            "decisiontreeclassifier__max_leaf_nodes\n",
            "decisiontreeclassifier__min_impurity_decrease\n",
            "decisiontreeclassifier__min_samples_leaf\n",
            "decisiontreeclassifier__min_samples_split\n",
            "decisiontreeclassifier__min_weight_fraction_leaf\n",
            "decisiontreeclassifier__random_state\n",
            "decisiontreeclassifier__splitter\n"
          ]
        }
      ]
    },
    {
      "cell_type": "code",
      "source": [
        "auc = []\n",
        "\n",
        "for min_leaf in [1, 5, 10, 15, 20, 50, 100, 200]:\n",
        "  for depth in [5, 8, 15, 25, 30, None]:\n",
        "    dt.set_params(\n",
        "        decisiontreeclassifier__min_samples_leaf=min_leaf, \n",
        "        decisiontreeclassifier__max_depth=depth\n",
        "    )\n",
        "    dt.fit(X_train, y_train)\n",
        "    preds = dt.predict_proba(X_dev)[:, 1]\n",
        "    res = metrics.roc_auc_score(y_dev, preds)\n",
        "    auc.append((min_leaf, depth, res))\n",
        "\n",
        "for min_leaf, depth, score in auc:\n",
        "  print(f\"min samples leaf: {min_leaf}, max_depth: {depth} ---> AUC: {score:.3f}\")"
      ],
      "metadata": {
        "colab": {
          "base_uri": "https://localhost:8080/"
        },
        "id": "mPI0odTbbgQL",
        "outputId": "408cacea-5741-4e4a-e5e6-84e0c14fcd81"
      },
      "execution_count": 32,
      "outputs": [
        {
          "output_type": "stream",
          "name": "stdout",
          "text": [
            "min samples leaf: 1, max_depth: 5 ---> AUC: 0.767\n",
            "min samples leaf: 1, max_depth: 8 ---> AUC: 0.724\n",
            "min samples leaf: 1, max_depth: 15 ---> AUC: 0.669\n",
            "min samples leaf: 1, max_depth: 25 ---> AUC: 0.660\n",
            "min samples leaf: 1, max_depth: 30 ---> AUC: 0.641\n",
            "min samples leaf: 1, max_depth: None ---> AUC: 0.645\n",
            "min samples leaf: 5, max_depth: 5 ---> AUC: 0.768\n",
            "min samples leaf: 5, max_depth: 8 ---> AUC: 0.747\n",
            "min samples leaf: 5, max_depth: 15 ---> AUC: 0.712\n",
            "min samples leaf: 5, max_depth: 25 ---> AUC: 0.719\n",
            "min samples leaf: 5, max_depth: 30 ---> AUC: 0.716\n",
            "min samples leaf: 5, max_depth: None ---> AUC: 0.718\n",
            "min samples leaf: 10, max_depth: 5 ---> AUC: 0.767\n",
            "min samples leaf: 10, max_depth: 8 ---> AUC: 0.765\n",
            "min samples leaf: 10, max_depth: 15 ---> AUC: 0.760\n",
            "min samples leaf: 10, max_depth: 25 ---> AUC: 0.760\n",
            "min samples leaf: 10, max_depth: 30 ---> AUC: 0.764\n",
            "min samples leaf: 10, max_depth: None ---> AUC: 0.766\n",
            "min samples leaf: 15, max_depth: 5 ---> AUC: 0.772\n",
            "min samples leaf: 15, max_depth: 8 ---> AUC: 0.781\n",
            "min samples leaf: 15, max_depth: 15 ---> AUC: 0.790\n",
            "min samples leaf: 15, max_depth: 25 ---> AUC: 0.792\n",
            "min samples leaf: 15, max_depth: 30 ---> AUC: 0.788\n",
            "min samples leaf: 15, max_depth: None ---> AUC: 0.790\n",
            "min samples leaf: 20, max_depth: 5 ---> AUC: 0.774\n",
            "min samples leaf: 20, max_depth: 8 ---> AUC: 0.778\n",
            "min samples leaf: 20, max_depth: 15 ---> AUC: 0.782\n",
            "min samples leaf: 20, max_depth: 25 ---> AUC: 0.781\n",
            "min samples leaf: 20, max_depth: 30 ---> AUC: 0.780\n",
            "min samples leaf: 20, max_depth: None ---> AUC: 0.782\n",
            "min samples leaf: 50, max_depth: 5 ---> AUC: 0.767\n",
            "min samples leaf: 50, max_depth: 8 ---> AUC: 0.778\n",
            "min samples leaf: 50, max_depth: 15 ---> AUC: 0.773\n",
            "min samples leaf: 50, max_depth: 25 ---> AUC: 0.773\n",
            "min samples leaf: 50, max_depth: 30 ---> AUC: 0.773\n",
            "min samples leaf: 50, max_depth: None ---> AUC: 0.775\n",
            "min samples leaf: 100, max_depth: 5 ---> AUC: 0.763\n",
            "min samples leaf: 100, max_depth: 8 ---> AUC: 0.780\n",
            "min samples leaf: 100, max_depth: 15 ---> AUC: 0.780\n",
            "min samples leaf: 100, max_depth: 25 ---> AUC: 0.780\n",
            "min samples leaf: 100, max_depth: 30 ---> AUC: 0.780\n",
            "min samples leaf: 100, max_depth: None ---> AUC: 0.780\n",
            "min samples leaf: 200, max_depth: 5 ---> AUC: 0.759\n",
            "min samples leaf: 200, max_depth: 8 ---> AUC: 0.768\n",
            "min samples leaf: 200, max_depth: 15 ---> AUC: 0.768\n",
            "min samples leaf: 200, max_depth: 25 ---> AUC: 0.768\n",
            "min samples leaf: 200, max_depth: 30 ---> AUC: 0.768\n",
            "min samples leaf: 200, max_depth: None ---> AUC: 0.768\n"
          ]
        }
      ]
    },
    {
      "cell_type": "code",
      "source": [
        "sorted(auc, key=lambda x: x[-1], reverse=True)"
      ],
      "metadata": {
        "colab": {
          "base_uri": "https://localhost:8080/"
        },
        "id": "1gNBeg7DgIG-",
        "outputId": "a2d243b0-650a-4260-e75b-d45c82e4ee01"
      },
      "execution_count": 33,
      "outputs": [
        {
          "output_type": "execute_result",
          "data": {
            "text/plain": [
              "[(15, 25, 0.7917796856457824),\n",
              " (15, None, 0.7901631106052167),\n",
              " (15, 15, 0.7899148724903733),\n",
              " (15, 30, 0.7876111016928629),\n",
              " (20, None, 0.7819440071686323),\n",
              " (20, 15, 0.7818985977573805),\n",
              " (15, 8, 0.7812689205880216),\n",
              " (20, 25, 0.7808693177690054),\n",
              " (20, 30, 0.7801276307185585),\n",
              " (100, 8, 0.779812792133879),\n",
              " (100, 15, 0.7795615267249522),\n",
              " (100, 25, 0.7795615267249522),\n",
              " (100, 30, 0.7795615267249522),\n",
              " (100, None, 0.7795615267249522),\n",
              " (20, 8, 0.7781114528589765),\n",
              " (50, 8, 0.77770276815771),\n",
              " (50, None, 0.7748268387784263),\n",
              " (20, 5, 0.7740276331403937),\n",
              " (50, 15, 0.7733828195006176),\n",
              " (50, 25, 0.7733828195006176),\n",
              " (50, 30, 0.7733828195006176),\n",
              " (15, 5, 0.7721416289264004),\n",
              " (200, 8, 0.7684786030854182),\n",
              " (200, 15, 0.7684786030854182),\n",
              " (200, 25, 0.7684786030854182),\n",
              " (200, 30, 0.7684786030854182),\n",
              " (200, None, 0.7684786030854182),\n",
              " (5, 5, 0.7681879828534064),\n",
              " (10, 5, 0.7672949310987867),\n",
              " (1, 5, 0.7665108619311716),\n",
              " (50, 5, 0.7665108619311714),\n",
              " (10, None, 0.7658327480564773),\n",
              " (10, 8, 0.7646944854810976),\n",
              " (10, 30, 0.7635501683175511),\n",
              " (100, 5, 0.7634714586713811),\n",
              " (10, 15, 0.760141435179579),\n",
              " (10, 25, 0.7597266958901456),\n",
              " (200, 5, 0.7590728003681189),\n",
              " (5, 8, 0.7471876437964691),\n",
              " (1, 8, 0.7235081494756727),\n",
              " (5, 25, 0.7185827420018891),\n",
              " (5, None, 0.7176412535419341),\n",
              " (5, 30, 0.7160458695599525),\n",
              " (5, 15, 0.7121557966627109),\n",
              " (1, 15, 0.6686777990361096),\n",
              " (1, 25, 0.6601862391320142),\n",
              " (1, None, 0.6452858976532416),\n",
              " (1, 30, 0.6408176115860599)]"
            ]
          },
          "metadata": {},
          "execution_count": 33
        }
      ]
    },
    {
      "cell_type": "markdown",
      "source": [
        "The best AUC is 79.15% with parameters min_sample_leaf=15 and\n",
        "max_depth=15"
      ],
      "metadata": {
        "id": "O8n8kGP9hPHO"
      }
    },
    {
      "cell_type": "code",
      "source": [
        "dt.set_params(\n",
        "        decisiontreeclassifier__min_samples_leaf=15, \n",
        "        decisiontreeclassifier__max_depth=15\n",
        "    )\n",
        "dt.fit(X_train, y_train)\n",
        "\n",
        "preds = dt.predict_proba(X_dev)[:, 1]\n",
        "pred_r = dt.predict(X_dev)\n",
        "\n",
        "print(f\"AUC:{metrics.roc_auc_score(y_dev, preds)}\")\n",
        "print(f\"Recall:{metrics.recall_score(y_dev, pred_r)}\")"
      ],
      "metadata": {
        "colab": {
          "base_uri": "https://localhost:8080/"
        },
        "id": "HS6J-Kqog6AR",
        "outputId": "2b85a3cc-6ed4-4a3d-83ba-10d6eb534031"
      },
      "execution_count": 34,
      "outputs": [
        {
          "output_type": "stream",
          "name": "stdout",
          "text": [
            "AUC:0.7915042018841879\n",
            "Recall:0.5019011406844106\n"
          ]
        }
      ]
    },
    {
      "cell_type": "code",
      "source": [],
      "metadata": {
        "id": "bHQzNTBDiTrV"
      },
      "execution_count": 34,
      "outputs": []
    }
  ]
}