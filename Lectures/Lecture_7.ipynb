{
  "nbformat": 4,
  "nbformat_minor": 0,
  "metadata": {
    "colab": {
      "provenance": []
    },
    "kernelspec": {
      "name": "python3",
      "display_name": "Python 3"
    },
    "language_info": {
      "name": "python"
    }
  },
  "cells": [
    {
      "cell_type": "markdown",
      "source": [
        "# From Model to BentoML"
      ],
      "metadata": {
        "id": "eCbHmJKes66A"
      }
    },
    {
      "cell_type": "markdown",
      "source": [
        "**Dataset**"
      ],
      "metadata": {
        "id": "KHlLOnieszZ9"
      }
    },
    {
      "cell_type": "code",
      "execution_count": 1,
      "metadata": {
        "id": "n65KtCXxselW"
      },
      "outputs": [],
      "source": [
        "!wget https://github.com/gastonstat/CreditScoring/raw/master/CreditScoring.csv --quiet"
      ]
    },
    {
      "cell_type": "markdown",
      "source": [
        "**Libraries**"
      ],
      "metadata": {
        "id": "vnLGcQ2LtFkD"
      }
    },
    {
      "cell_type": "code",
      "source": [
        "import pandas as pd\n",
        "import numpy as np\n",
        "from sklearn import model_selection\n",
        "from sklearn import metrics\n",
        "from sklearn.impute import SimpleImputer\n",
        "from sklearn.preprocessing import OrdinalEncoder\n",
        "from sklearn.compose import make_column_selector as selector\n",
        "import xgboost as xgb "
      ],
      "metadata": {
        "id": "HUtJtCzws52F"
      },
      "execution_count": 13,
      "outputs": []
    },
    {
      "cell_type": "code",
      "source": [
        "df = pd.read_csv('CreditScoring.csv')"
      ],
      "metadata": {
        "id": "dxkBWcH9tIYP"
      },
      "execution_count": 3,
      "outputs": []
    },
    {
      "cell_type": "code",
      "source": [
        "# make all columns in lower\n",
        "df.columns = df.columns.str.lower()"
      ],
      "metadata": {
        "id": "cwIgI-CztM5o"
      },
      "execution_count": 4,
      "outputs": []
    },
    {
      "cell_type": "code",
      "source": [
        "# mapping the target\n",
        "df['status'] = df['status'].map({\n",
        "    1:'ok',\n",
        "    2:'default',\n",
        "    0:'unk'\n",
        "})"
      ],
      "metadata": {
        "id": "Y8_gIpwstRvi"
      },
      "execution_count": 5,
      "outputs": []
    },
    {
      "cell_type": "code",
      "source": [
        "# mapping categorical features\n",
        "def mapping_categorical(df, cat, cat_lst):\n",
        "  to_lst = df[cat].value_counts().sort_index().index.to_list()\n",
        "  cat_lst = cat_lst\n",
        "\n",
        "  df[cat] = (\n",
        "      df[cat].map({\n",
        "          k:v for (k,v) in zip(to_lst, cat_lst)\n",
        "      })\n",
        "   )\n",
        "\n",
        "cols = ['home', 'marital', 'records', 'job']\n",
        "\n",
        "home_lst = ['unk', 'rent', 'owner', 'private', 'ignore', 'parents', 'other']\n",
        "marital_lst = ['unk', 'single', 'married', 'widow', 'separated', 'divorced']\n",
        "records_lst = ['no', 'yes', 'unk']\n",
        "job_lst = ['unk', 'fixed', 'partime', 'freelance', 'others']\n",
        "cat_lst = [home_lst, marital_lst, records_lst, job_lst]\n",
        "\n",
        "for col, cat in zip(cols, cat_lst):\n",
        "  mapping_categorical(df, col, cat)"
      ],
      "metadata": {
        "id": "UwNk3aO8thOh"
      },
      "execution_count": 6,
      "outputs": []
    },
    {
      "cell_type": "code",
      "source": [
        "# fix missing values\n",
        "def fix_missing_values(df, val_to_rep, rep, *f_lst):\n",
        "  for f in f_lst:\n",
        "    df[f] = df[f].replace(val_to_rep, rep)\n",
        "\n",
        "fix_missing_values(df, 99999999.0, np.nan, ['income', 'assets', 'debt'])"
      ],
      "metadata": {
        "id": "kDXHSgxHtv8F"
      },
      "execution_count": 7,
      "outputs": []
    },
    {
      "cell_type": "code",
      "source": [
        "# don't nees unk in status\n",
        "df = df[df.status != 'unk']"
      ],
      "metadata": {
        "id": "5yi8zsQot_KZ"
      },
      "execution_count": 8,
      "outputs": []
    },
    {
      "cell_type": "code",
      "source": [
        "# data preparation\n",
        "data, target = df.drop(columns=['status']), df['status'].map({'ok':0, 'default':1})\n",
        "\n",
        "def tweaking(data, target):\n",
        "  numerical = selector(dtype_include=np.number)(data)\n",
        "  categorical = selector(dtype_include=object)(data)\n",
        "\n",
        "  num_imputer = SimpleImputer(missing_values=np.NaN, strategy='constant', fill_value=0)\n",
        "  cat_imputer = SimpleImputer(strategy='most_frequent', fill_value='unk')\n",
        "  cat_encoder = OrdinalEncoder(handle_unknown='use_encoded_value', unknown_value=-1)\n",
        "  \n",
        "  X_full_train, X_test, y_full_train, y_test = model_selection.train_test_split(\n",
        "      data,\n",
        "      target,\n",
        "      test_size=.2,\n",
        "      random_state=11,\n",
        "    )\n",
        "  X_train, X_dev, y_train, y_dev = model_selection.train_test_split(\n",
        "          X_full_train,\n",
        "          y_full_train,\n",
        "          test_size=.25,\n",
        "          random_state=11,\n",
        "        )\n",
        "\n",
        "\n",
        "  X_train.loc[:, numerical] = num_imputer.fit_transform(X_train[numerical])\n",
        "  X_train.loc[:, categorical] = cat_imputer.fit_transform(X_train[categorical])\n",
        "  X_train.loc[:, categorical] = cat_encoder.fit_transform(X_train[categorical])\n",
        "\n",
        "  X_dev.loc[:, numerical] = num_imputer.transform(X_dev[numerical])\n",
        "  X_dev.loc[:, categorical] = cat_imputer.transform(X_dev[categorical])\n",
        "  X_dev.loc[:, categorical] = cat_encoder.transform(X_dev[categorical])\n",
        "\n",
        "  X_test.loc[:, numerical] = num_imputer.transform(X_test[numerical])\n",
        "  X_test.loc[:, categorical] = cat_imputer.transform(X_test[categorical])\n",
        "  X_test.loc[:, categorical] = cat_encoder.transform(X_test[categorical])\n",
        "\n",
        "  return X_train, y_train, X_dev, y_dev, X_test, y_test"
      ],
      "metadata": {
        "id": "boC92xE-uNEi"
      },
      "execution_count": 10,
      "outputs": []
    },
    {
      "cell_type": "code",
      "source": [
        "X_train, y_train, X_dev, y_dev, X_test, y_test = tweaking(data, target)"
      ],
      "metadata": {
        "id": "lcgzZtH7wEnq"
      },
      "execution_count": 12,
      "outputs": []
    },
    {
      "cell_type": "code",
      "source": [
        "# wrap data into DMatrix — a special\n",
        "# data structure for finding splits efficiently.\n",
        "dtrain = xgb.DMatrix(\n",
        "    X_train.values, \n",
        "    label=y_train.values, \n",
        "    feature_names=X_train.columns\n",
        ")\n",
        "\n",
        "# for validation\n",
        "dval = xgb.DMatrix(\n",
        "    X_dev.values,\n",
        "    label=y_dev.values,\n",
        "    feature_names=X_dev.columns\n",
        ")\n",
        "\n",
        "# specifying the parameters for training\n",
        "xgb_params = {\n",
        "    'eta':.3,\n",
        "    'max_depth':6,\n",
        "    'min_child_weight': 1,\n",
        "    'objective': 'binary:logistic',\n",
        "    'nthread': -1,\n",
        "    'seed': 1,\n",
        "    'silent':1\n",
        "}\n",
        "\n",
        "# For training an XGBoost model, we use the train function\n",
        "model = xgb.train(\n",
        "    xgb_params,\n",
        "    dtrain,\n",
        "    num_boost_round=10\n",
        ")\n",
        "\n",
        "y_pred = model.predict(dval)\n",
        "metrics.roc_auc_score(y_dev, y_pred)"
      ],
      "metadata": {
        "colab": {
          "base_uri": "https://localhost:8080/"
        },
        "id": "VlxaHHZmvZ7y",
        "outputId": "84ec8f29-63f6-47f4-8715-8f5b98e576a9"
      },
      "execution_count": 14,
      "outputs": [
        {
          "output_type": "execute_result",
          "data": {
            "text/plain": [
              "0.8121897023564457"
            ]
          },
          "metadata": {},
          "execution_count": 14
        }
      ]
    },
    {
      "cell_type": "code",
      "source": [
        "watchlist = [(dtrain, 'train'), (dval, 'dev')]\n",
        "\n",
        "xgb_params = {\n",
        "    'eta':.05,\n",
        "    'max_depth':3,\n",
        "    'min_child_weight': 30,\n",
        "    'objective': 'binary:logistic',\n",
        "    'eval_metric': 'auc',\n",
        "    'nthread': -1,\n",
        "    'seed': 1,\n",
        "    'silent':1\n",
        "}\n",
        "\n",
        "model = xgb.train(\n",
        "    xgb_params,\n",
        "    dtrain,\n",
        "    num_boost_round=500,\n",
        "    evals=watchlist,\n",
        "    verbose_eval=10\n",
        ")"
      ],
      "metadata": {
        "colab": {
          "base_uri": "https://localhost:8080/"
        },
        "id": "HZS-pKfNxJhx",
        "outputId": "912b6a30-3207-4f1c-8926-ad6b15cc204e"
      },
      "execution_count": 15,
      "outputs": [
        {
          "output_type": "stream",
          "name": "stdout",
          "text": [
            "[0]\ttrain-auc:0.766001\tdev-auc:0.734594\n",
            "[10]\ttrain-auc:0.82062\tdev-auc:0.769786\n",
            "[20]\ttrain-auc:0.836773\tdev-auc:0.785713\n",
            "[30]\ttrain-auc:0.846398\tdev-auc:0.79379\n",
            "[40]\ttrain-auc:0.85774\tdev-auc:0.806181\n",
            "[50]\ttrain-auc:0.86499\tdev-auc:0.812032\n",
            "[60]\ttrain-auc:0.869141\tdev-auc:0.815054\n",
            "[70]\ttrain-auc:0.873505\tdev-auc:0.819407\n",
            "[80]\ttrain-auc:0.876601\tdev-auc:0.822128\n",
            "[90]\ttrain-auc:0.878781\tdev-auc:0.822334\n",
            "[100]\ttrain-auc:0.880879\tdev-auc:0.824502\n",
            "[110]\ttrain-auc:0.882434\tdev-auc:0.826506\n",
            "[120]\ttrain-auc:0.883788\tdev-auc:0.827841\n",
            "[130]\ttrain-auc:0.88528\tdev-auc:0.82841\n",
            "[140]\ttrain-auc:0.886643\tdev-auc:0.8293\n",
            "[150]\ttrain-auc:0.887832\tdev-auc:0.829863\n",
            "[160]\ttrain-auc:0.889011\tdev-auc:0.830801\n",
            "[170]\ttrain-auc:0.89029\tdev-auc:0.831643\n",
            "[180]\ttrain-auc:0.891469\tdev-auc:0.832218\n",
            "[190]\ttrain-auc:0.892371\tdev-auc:0.832418\n",
            "[200]\ttrain-auc:0.893084\tdev-auc:0.832757\n",
            "[210]\ttrain-auc:0.893869\tdev-auc:0.833054\n",
            "[220]\ttrain-auc:0.894574\tdev-auc:0.833175\n",
            "[230]\ttrain-auc:0.895326\tdev-auc:0.833357\n",
            "[240]\ttrain-auc:0.895985\tdev-auc:0.83336\n",
            "[250]\ttrain-auc:0.896549\tdev-auc:0.833587\n",
            "[260]\ttrain-auc:0.897143\tdev-auc:0.833623\n",
            "[270]\ttrain-auc:0.897761\tdev-auc:0.833871\n",
            "[280]\ttrain-auc:0.898346\tdev-auc:0.834107\n",
            "[290]\ttrain-auc:0.898972\tdev-auc:0.834283\n",
            "[300]\ttrain-auc:0.899516\tdev-auc:0.834622\n",
            "[310]\ttrain-auc:0.900077\tdev-auc:0.834779\n",
            "[320]\ttrain-auc:0.900565\tdev-auc:0.834785\n",
            "[330]\ttrain-auc:0.901151\tdev-auc:0.834525\n",
            "[340]\ttrain-auc:0.901643\tdev-auc:0.83481\n",
            "[350]\ttrain-auc:0.902288\tdev-auc:0.834979\n",
            "[360]\ttrain-auc:0.902941\tdev-auc:0.834925\n",
            "[370]\ttrain-auc:0.903552\tdev-auc:0.834822\n",
            "[380]\ttrain-auc:0.904353\tdev-auc:0.834458\n",
            "[390]\ttrain-auc:0.905024\tdev-auc:0.834222\n",
            "[400]\ttrain-auc:0.905626\tdev-auc:0.834138\n",
            "[410]\ttrain-auc:0.906139\tdev-auc:0.833756\n",
            "[420]\ttrain-auc:0.906579\tdev-auc:0.833677\n",
            "[430]\ttrain-auc:0.90715\tdev-auc:0.833514\n",
            "[440]\ttrain-auc:0.907552\tdev-auc:0.833514\n",
            "[450]\ttrain-auc:0.907979\tdev-auc:0.833441\n",
            "[460]\ttrain-auc:0.908421\tdev-auc:0.833308\n",
            "[470]\ttrain-auc:0.908926\tdev-auc:0.833629\n",
            "[480]\ttrain-auc:0.909494\tdev-auc:0.833211\n",
            "[490]\ttrain-auc:0.909879\tdev-auc:0.833181\n",
            "[499]\ttrain-auc:0.910114\tdev-auc:0.833363\n"
          ]
        }
      ]
    },
    {
      "cell_type": "code",
      "source": [
        "dtest = xgb.DMatrix(\n",
        "    X_test.values,\n",
        "    label=y_test.values, \n",
        "    feature_names=X_test.columns\n",
        ")\n",
        "\n",
        "y_pred_dev = model.predict(dval)\n",
        "y_pred_test = model.predict(dtest)\n",
        "\n",
        "print(f\"AUC-dev: {metrics.roc_auc_score(y_dev, y_pred_dev): .3f}\")\n",
        "print(f\"AUC-test: {metrics.roc_auc_score(y_test, y_pred_test): .3f}\")"
      ],
      "metadata": {
        "colab": {
          "base_uri": "https://localhost:8080/"
        },
        "id": "QEm5z7TQxhum",
        "outputId": "a1ffbd57-d6ed-4d96-abb4-55e30fd5fb2d"
      },
      "execution_count": 16,
      "outputs": [
        {
          "output_type": "stream",
          "name": "stdout",
          "text": [
            "AUC-dev:  0.833\n",
            "AUC-test:  0.820\n"
          ]
        }
      ]
    },
    {
      "cell_type": "code",
      "source": [],
      "metadata": {
        "id": "VcSMjL-ox5mJ"
      },
      "execution_count": null,
      "outputs": []
    }
  ]
}