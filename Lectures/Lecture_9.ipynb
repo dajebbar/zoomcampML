{
  "nbformat": 4,
  "nbformat_minor": 0,
  "metadata": {
    "colab": {
      "provenance": []
    },
    "kernelspec": {
      "name": "python3",
      "display_name": "Python 3"
    },
    "language_info": {
      "name": "python"
    }
  },
  "cells": [
    {
      "cell_type": "markdown",
      "source": [
        "# Serverless"
      ],
      "metadata": {
        "id": "MAqRD8x6hjJP"
      }
    },
    {
      "cell_type": "code",
      "execution_count": 6,
      "metadata": {
        "id": "MtUwr_HxhY05"
      },
      "outputs": [],
      "source": [
        "import numpy as np\n",
        "import tensorflow as tf\n",
        "from tensorflow import keras\n",
        "from tensorflow.keras.preprocessing.image import load_img\n",
        "from tensorflow.keras.applications.xception import preprocess_input"
      ]
    },
    {
      "cell_type": "code",
      "source": [
        "!wget https://github.com/alexeygrigorev/mlbookcamp-code/releases/download/chapter7-model/xception_v4_large_08_0.894.h5 -O clothing_model.h5 --quiet"
      ],
      "metadata": {
        "id": "JXLJx_4ZhwDs"
      },
      "execution_count": 2,
      "outputs": []
    },
    {
      "cell_type": "code",
      "source": [
        "model = keras.models.load_model('clothing_model.h5')"
      ],
      "metadata": {
        "id": "3Cn9OqAGiWlN"
      },
      "execution_count": 4,
      "outputs": []
    },
    {
      "cell_type": "code",
      "source": [
        "!wget http://bit.ly/mlbookcamp-pants -O pants.jpg --quiet"
      ],
      "metadata": {
        "id": "L-e9XW3eixOQ"
      },
      "execution_count": 5,
      "outputs": []
    },
    {
      "cell_type": "code",
      "source": [
        "img = load_img('pants.jpg', target_size=(299, 299))"
      ],
      "metadata": {
        "id": "f-3ACjnwk7Hm"
      },
      "execution_count": 7,
      "outputs": []
    },
    {
      "cell_type": "code",
      "source": [
        "x = np.array(img)\n",
        "X = np.array([x])\n",
        "X = preprocess_input(X)"
      ],
      "metadata": {
        "id": "xLVWXGPllNZN"
      },
      "execution_count": 8,
      "outputs": []
    },
    {
      "cell_type": "code",
      "source": [
        "X.shape"
      ],
      "metadata": {
        "colab": {
          "base_uri": "https://localhost:8080/"
        },
        "id": "Amqe0YeulewH",
        "outputId": "39c281d0-df13-4de4-9ccb-fad9f1faf1f2"
      },
      "execution_count": 9,
      "outputs": [
        {
          "output_type": "execute_result",
          "data": {
            "text/plain": [
              "(1, 299, 299, 3)"
            ]
          },
          "metadata": {},
          "execution_count": 9
        }
      ]
    },
    {
      "cell_type": "code",
      "source": [
        "preds = model.predict(X)\n",
        "preds"
      ],
      "metadata": {
        "colab": {
          "base_uri": "https://localhost:8080/"
        },
        "id": "fMhraysblgOc",
        "outputId": "d770e75b-9da1-4457-a3ad-12a300761694"
      },
      "execution_count": 10,
      "outputs": [
        {
          "output_type": "stream",
          "name": "stdout",
          "text": [
            "1/1 [==============================] - 1s 1s/step\n"
          ]
        },
        {
          "output_type": "execute_result",
          "data": {
            "text/plain": [
              "array([[-1.8682904, -4.7612453, -2.3169832, -1.0625703,  9.887159 ,\n",
              "        -2.8124344, -3.666283 ,  3.2003617, -2.602338 , -4.835046 ]],\n",
              "      dtype=float32)"
            ]
          },
          "metadata": {},
          "execution_count": 10
        }
      ]
    },
    {
      "cell_type": "code",
      "source": [
        "labels = [\n",
        "    'dress',\n",
        "    'hat',\n",
        "    'longsleeve',\n",
        "    'outwear',\n",
        "    'pants',\n",
        "    'shirt',\n",
        "    'shoes',\n",
        "    'shorts',\n",
        "    'skirt',\n",
        "    't-shirt'\n",
        "]\n",
        "\n",
        "results = dict(zip(labels, preds[0]))\n",
        "results"
      ],
      "metadata": {
        "colab": {
          "base_uri": "https://localhost:8080/"
        },
        "id": "Fa0e11f_lwx-",
        "outputId": "215d6e38-c060-4426-cfe5-d96418e5dc0a"
      },
      "execution_count": 11,
      "outputs": [
        {
          "output_type": "execute_result",
          "data": {
            "text/plain": [
              "{'dress': -1.8682904,\n",
              " 'hat': -4.7612453,\n",
              " 'longsleeve': -2.3169832,\n",
              " 'outwear': -1.0625703,\n",
              " 'pants': 9.887159,\n",
              " 'shirt': -2.8124344,\n",
              " 'shoes': -3.666283,\n",
              " 'shorts': 3.2003617,\n",
              " 'skirt': -2.602338,\n",
              " 't-shirt': -4.835046}"
            ]
          },
          "metadata": {},
          "execution_count": 11
        }
      ]
    },
    {
      "cell_type": "markdown",
      "source": [
        "# Convert Keras to TF-Lite"
      ],
      "metadata": {
        "id": "gkJ8sFxgmZLk"
      }
    },
    {
      "cell_type": "code",
      "source": [
        "converter = tf.lite.TFLiteConverter.from_keras_model(model)\n",
        "\n",
        "tflite_model = converter.convert()\n",
        "\n",
        "with tf.io.gfile.GFile('clothing-model.tflite', 'wb') as f:\n",
        "    f.write(tflite_model)"
      ],
      "metadata": {
        "colab": {
          "base_uri": "https://localhost:8080/"
        },
        "id": "FhHnWK4RmCia",
        "outputId": "fb70d196-3137-4275-9dd9-d45da496d5c7"
      },
      "execution_count": 12,
      "outputs": [
        {
          "output_type": "stream",
          "name": "stderr",
          "text": [
            "WARNING:absl:Found untraced functions such as _jit_compiled_convolution_op, _jit_compiled_convolution_op, _jit_compiled_convolution_op, _jit_compiled_convolution_op, _jit_compiled_convolution_op while saving (showing 5 of 40). These functions will not be directly callable after loading.\n"
          ]
        }
      ]
    },
    {
      "cell_type": "code",
      "source": [
        "import tensorflow.lite as tflite"
      ],
      "metadata": {
        "id": "rXTf5R_7nYIJ"
      },
      "execution_count": 13,
      "outputs": []
    },
    {
      "cell_type": "code",
      "source": [
        "interpreter = tflite.Interpreter(model_path='clothing-model.tflite')\n",
        "interpreter.allocate_tensors()"
      ],
      "metadata": {
        "id": "V6de9-F0oUsm"
      },
      "execution_count": 14,
      "outputs": []
    },
    {
      "cell_type": "code",
      "source": [
        "interpreter.get_input_details()"
      ],
      "metadata": {
        "colab": {
          "base_uri": "https://localhost:8080/"
        },
        "id": "m8FBSI1ao5cb",
        "outputId": "1dd41298-9b66-45f0-a0c9-84d1d209b970"
      },
      "execution_count": 15,
      "outputs": [
        {
          "output_type": "execute_result",
          "data": {
            "text/plain": [
              "[{'name': 'serving_default_input_8:0',\n",
              "  'index': 0,\n",
              "  'shape': array([  1, 299, 299,   3], dtype=int32),\n",
              "  'shape_signature': array([ -1, 299, 299,   3], dtype=int32),\n",
              "  'dtype': numpy.float32,\n",
              "  'quantization': (0.0, 0),\n",
              "  'quantization_parameters': {'scales': array([], dtype=float32),\n",
              "   'zero_points': array([], dtype=int32),\n",
              "   'quantized_dimension': 0},\n",
              "  'sparsity_parameters': {}}]"
            ]
          },
          "metadata": {},
          "execution_count": 15
        }
      ]
    },
    {
      "cell_type": "code",
      "source": [
        "input_index = interpreter.get_input_details()[0]['index']"
      ],
      "metadata": {
        "id": "zmifgCMPo9hO"
      },
      "execution_count": 16,
      "outputs": []
    },
    {
      "cell_type": "code",
      "source": [
        "interpreter.get_output_details()"
      ],
      "metadata": {
        "colab": {
          "base_uri": "https://localhost:8080/"
        },
        "id": "symMIF4Mpd7m",
        "outputId": "c25254bc-e810-4bf7-ae0a-7864592b72bc"
      },
      "execution_count": 21,
      "outputs": [
        {
          "output_type": "execute_result",
          "data": {
            "text/plain": [
              "[{'name': 'StatefulPartitionedCall:0',\n",
              "  'index': 229,\n",
              "  'shape': array([ 1, 10], dtype=int32),\n",
              "  'shape_signature': array([-1, 10], dtype=int32),\n",
              "  'dtype': numpy.float32,\n",
              "  'quantization': (0.0, 0),\n",
              "  'quantization_parameters': {'scales': array([], dtype=float32),\n",
              "   'zero_points': array([], dtype=int32),\n",
              "   'quantized_dimension': 0},\n",
              "  'sparsity_parameters': {}}]"
            ]
          },
          "metadata": {},
          "execution_count": 21
        }
      ]
    },
    {
      "cell_type": "code",
      "source": [
        "output_index = interpreter.get_output_details()[0]['index']"
      ],
      "metadata": {
        "id": "ChzSzmc-phsi"
      },
      "execution_count": 22,
      "outputs": []
    },
    {
      "cell_type": "code",
      "source": [
        "interpreter.set_tensor(input_index, X)"
      ],
      "metadata": {
        "id": "SeIlmJMrp9BB"
      },
      "execution_count": 23,
      "outputs": []
    },
    {
      "cell_type": "code",
      "source": [
        "interpreter.invoke()"
      ],
      "metadata": {
        "id": "bIW8aLkfqaYf"
      },
      "execution_count": 24,
      "outputs": []
    },
    {
      "cell_type": "code",
      "source": [
        "preds = interpreter.get_tensor(output_index)"
      ],
      "metadata": {
        "colab": {
          "base_uri": "https://localhost:8080/"
        },
        "id": "61WyvVRmqPp_",
        "outputId": "21d2c95d-9932-400a-8b7f-08a0189864d9"
      },
      "execution_count": 25,
      "outputs": [
        {
          "output_type": "execute_result",
          "data": {
            "text/plain": [
              "array([[-1.8682916, -4.7612457, -2.316979 , -1.0625672,  9.8871565,\n",
              "        -2.8124275, -3.666287 ,  3.2003636, -2.6023414, -4.8350444]],\n",
              "      dtype=float32)"
            ]
          },
          "metadata": {},
          "execution_count": 25
        }
      ]
    },
    {
      "cell_type": "code",
      "source": [
        "labels = [\n",
        "    'dress',\n",
        "    'hat',\n",
        "    'longsleeve',\n",
        "    'outwear',\n",
        "    'pants',\n",
        "    'shirt',\n",
        "    'shoes',\n",
        "    'shorts',\n",
        "    'skirt',\n",
        "    't-shirt'\n",
        "]\n",
        "\n",
        "results = dict(zip(labels, preds[0]))\n",
        "results"
      ],
      "metadata": {
        "colab": {
          "base_uri": "https://localhost:8080/"
        },
        "id": "-P0fsAmfqVwU",
        "outputId": "ec68d5bd-17fb-40f4-824b-3192705bf752"
      },
      "execution_count": 26,
      "outputs": [
        {
          "output_type": "execute_result",
          "data": {
            "text/plain": [
              "{'dress': -1.8682904,\n",
              " 'hat': -4.7612453,\n",
              " 'longsleeve': -2.3169832,\n",
              " 'outwear': -1.0625703,\n",
              " 'pants': 9.887159,\n",
              " 'shirt': -2.8124344,\n",
              " 'shoes': -3.666283,\n",
              " 'shorts': 3.2003617,\n",
              " 'skirt': -2.602338,\n",
              " 't-shirt': -4.835046}"
            ]
          },
          "metadata": {},
          "execution_count": 26
        }
      ]
    },
    {
      "cell_type": "markdown",
      "source": [
        "# Remove TF dependency"
      ],
      "metadata": {
        "id": "ZBrtIkTer58N"
      }
    },
    {
      "cell_type": "code",
      "source": [
        "import tensorflow.lite as tflite\n",
        "from PIL import Image\n",
        "from tensorflow import keras\n",
        "import warnings\n",
        "warnings.filterwarnings('ignore')\n",
        "\n",
        "\n",
        "model = keras.models.load_model('clothing_model.h5')\n",
        "converter = tf.lite.TFLiteConverter.from_keras_model(model)\n",
        "\n",
        "tflite_model = converter.convert()\n",
        "\n",
        "with tf.io.gfile.GFile('clothing-model.tflite', 'wb') as f:\n",
        "    f.write(tflite_model)\n",
        "\n",
        "with Image.open('pants.jpg') as img:\n",
        "  img = img.resize((299, 299), Image.NEAREST)\n",
        "\n",
        "def preprocess_input(x):\n",
        "  x /= 127.5\n",
        "  x -= 1.\n",
        "  return x\n",
        "\n",
        "x = np.array(img, dtype='float32')\n",
        "X = np.array([x])\n",
        "\n",
        "X = preprocess_input(X)\n",
        "\n",
        "interpreter = tflite.Interpreter(model_path='clothing-model.tflite')\n",
        "interpreter.allocate_tensors()\n",
        "\n",
        "input_index = interpreter.get_input_details()[0]['index']\n",
        "output_index = interpreter.get_output_details()[0]['index']\n",
        "\n",
        "interpreter.set_tensor(input_index, X)\n",
        "interpreter.invoke()\n",
        "\n",
        "preds = interpreter.get_tensor(output_index)\n",
        "\n",
        "labels = [\n",
        "    'dress',\n",
        "    'hat',\n",
        "    'longsleeve',\n",
        "    'outwear',\n",
        "    'pants',\n",
        "    'shirt',\n",
        "    'shoes',\n",
        "    'shorts',\n",
        "    'skirt',\n",
        "    't-shirt'\n",
        "]\n",
        "\n",
        "results = dict(zip(labels, preds[0]))\n",
        "results"
      ],
      "metadata": {
        "colab": {
          "base_uri": "https://localhost:8080/"
        },
        "id": "Rp56UDaEsN3P",
        "outputId": "02eedfef-3539-4f3e-8e8d-5054376530c7"
      },
      "execution_count": 28,
      "outputs": [
        {
          "output_type": "stream",
          "name": "stderr",
          "text": [
            "WARNING:absl:Found untraced functions such as _jit_compiled_convolution_op, _jit_compiled_convolution_op, _jit_compiled_convolution_op, _jit_compiled_convolution_op, _jit_compiled_convolution_op while saving (showing 5 of 40). These functions will not be directly callable after loading.\n"
          ]
        },
        {
          "output_type": "execute_result",
          "data": {
            "text/plain": [
              "{'dress': -1.8682916,\n",
              " 'hat': -4.7612457,\n",
              " 'longsleeve': -2.316979,\n",
              " 'outwear': -1.0625672,\n",
              " 'pants': 9.8871565,\n",
              " 'shirt': -2.8124275,\n",
              " 'shoes': -3.666287,\n",
              " 'shorts': 3.2003636,\n",
              " 'skirt': -2.6023414,\n",
              " 't-shirt': -4.8350444}"
            ]
          },
          "metadata": {},
          "execution_count": 28
        }
      ]
    },
    {
      "cell_type": "markdown",
      "source": [
        "# Simpler way of doing it"
      ],
      "metadata": {
        "id": "edFXAXkWzqzD"
      }
    },
    {
      "cell_type": "code",
      "source": [
        "!pip install keras-image-helper --quiet"
      ],
      "metadata": {
        "id": "Glua3a-7qySC"
      },
      "execution_count": 29,
      "outputs": []
    },
    {
      "cell_type": "code",
      "source": [
        "!pip install --extra-index-url https://google-coral.github.io/py-repo/ tflite_runtime --quiet"
      ],
      "metadata": {
        "colab": {
          "base_uri": "https://localhost:8080/"
        },
        "id": "RvSdcPk3zv1y",
        "outputId": "885b17a2-312e-4836-9074-3bd2b24fe25b"
      },
      "execution_count": 30,
      "outputs": [
        {
          "output_type": "stream",
          "name": "stdout",
          "text": [
            "\u001b[?25l\r\u001b[K     |▏                               | 10 kB 14.3 MB/s eta 0:00:01\r\u001b[K     |▎                               | 20 kB 6.4 MB/s eta 0:00:01\r\u001b[K     |▍                               | 30 kB 8.7 MB/s eta 0:00:01\r\u001b[K     |▌                               | 40 kB 6.4 MB/s eta 0:00:01\r\u001b[K     |▋                               | 51 kB 5.5 MB/s eta 0:00:01\r\u001b[K     |▉                               | 61 kB 6.4 MB/s eta 0:00:01\r\u001b[K     |█                               | 71 kB 7.0 MB/s eta 0:00:01\r\u001b[K     |█                               | 81 kB 6.6 MB/s eta 0:00:01\r\u001b[K     |█▏                              | 92 kB 7.2 MB/s eta 0:00:01\r\u001b[K     |█▎                              | 102 kB 7.1 MB/s eta 0:00:01\r\u001b[K     |█▌                              | 112 kB 7.1 MB/s eta 0:00:01\r\u001b[K     |█▋                              | 122 kB 7.1 MB/s eta 0:00:01\r\u001b[K     |█▊                              | 133 kB 7.1 MB/s eta 0:00:01\r\u001b[K     |█▉                              | 143 kB 7.1 MB/s eta 0:00:01\r\u001b[K     |██                              | 153 kB 7.1 MB/s eta 0:00:01\r\u001b[K     |██▏                             | 163 kB 7.1 MB/s eta 0:00:01\r\u001b[K     |██▎                             | 174 kB 7.1 MB/s eta 0:00:01\r\u001b[K     |██▍                             | 184 kB 7.1 MB/s eta 0:00:01\r\u001b[K     |██▌                             | 194 kB 7.1 MB/s eta 0:00:01\r\u001b[K     |██▋                             | 204 kB 7.1 MB/s eta 0:00:01\r\u001b[K     |██▉                             | 215 kB 7.1 MB/s eta 0:00:01\r\u001b[K     |███                             | 225 kB 7.1 MB/s eta 0:00:01\r\u001b[K     |███                             | 235 kB 7.1 MB/s eta 0:00:01\r\u001b[K     |███▏                            | 245 kB 7.1 MB/s eta 0:00:01\r\u001b[K     |███▎                            | 256 kB 7.1 MB/s eta 0:00:01\r\u001b[K     |███▌                            | 266 kB 7.1 MB/s eta 0:00:01\r\u001b[K     |███▋                            | 276 kB 7.1 MB/s eta 0:00:01\r\u001b[K     |███▊                            | 286 kB 7.1 MB/s eta 0:00:01\r\u001b[K     |███▉                            | 296 kB 7.1 MB/s eta 0:00:01\r\u001b[K     |████                            | 307 kB 7.1 MB/s eta 0:00:01\r\u001b[K     |████▏                           | 317 kB 7.1 MB/s eta 0:00:01\r\u001b[K     |████▎                           | 327 kB 7.1 MB/s eta 0:00:01\r\u001b[K     |████▍                           | 337 kB 7.1 MB/s eta 0:00:01\r\u001b[K     |████▌                           | 348 kB 7.1 MB/s eta 0:00:01\r\u001b[K     |████▋                           | 358 kB 7.1 MB/s eta 0:00:01\r\u001b[K     |████▉                           | 368 kB 7.1 MB/s eta 0:00:01\r\u001b[K     |█████                           | 378 kB 7.1 MB/s eta 0:00:01\r\u001b[K     |█████                           | 389 kB 7.1 MB/s eta 0:00:01\r\u001b[K     |█████▏                          | 399 kB 7.1 MB/s eta 0:00:01\r\u001b[K     |█████▎                          | 409 kB 7.1 MB/s eta 0:00:01\r\u001b[K     |█████▌                          | 419 kB 7.1 MB/s eta 0:00:01\r\u001b[K     |█████▋                          | 430 kB 7.1 MB/s eta 0:00:01\r\u001b[K     |█████▊                          | 440 kB 7.1 MB/s eta 0:00:01\r\u001b[K     |█████▉                          | 450 kB 7.1 MB/s eta 0:00:01\r\u001b[K     |██████                          | 460 kB 7.1 MB/s eta 0:00:01\r\u001b[K     |██████▏                         | 471 kB 7.1 MB/s eta 0:00:01\r\u001b[K     |██████▎                         | 481 kB 7.1 MB/s eta 0:00:01\r\u001b[K     |██████▍                         | 491 kB 7.1 MB/s eta 0:00:01\r\u001b[K     |██████▌                         | 501 kB 7.1 MB/s eta 0:00:01\r\u001b[K     |██████▋                         | 512 kB 7.1 MB/s eta 0:00:01\r\u001b[K     |██████▉                         | 522 kB 7.1 MB/s eta 0:00:01\r\u001b[K     |███████                         | 532 kB 7.1 MB/s eta 0:00:01\r\u001b[K     |███████                         | 542 kB 7.1 MB/s eta 0:00:01\r\u001b[K     |███████▏                        | 552 kB 7.1 MB/s eta 0:00:01\r\u001b[K     |███████▎                        | 563 kB 7.1 MB/s eta 0:00:01\r\u001b[K     |███████▌                        | 573 kB 7.1 MB/s eta 0:00:01\r\u001b[K     |███████▋                        | 583 kB 7.1 MB/s eta 0:00:01\r\u001b[K     |███████▊                        | 593 kB 7.1 MB/s eta 0:00:01\r\u001b[K     |███████▉                        | 604 kB 7.1 MB/s eta 0:00:01\r\u001b[K     |████████                        | 614 kB 7.1 MB/s eta 0:00:01\r\u001b[K     |████████                        | 624 kB 7.1 MB/s eta 0:00:01\r\u001b[K     |████████▎                       | 634 kB 7.1 MB/s eta 0:00:01\r\u001b[K     |████████▍                       | 645 kB 7.1 MB/s eta 0:00:01\r\u001b[K     |████████▌                       | 655 kB 7.1 MB/s eta 0:00:01\r\u001b[K     |████████▋                       | 665 kB 7.1 MB/s eta 0:00:01\r\u001b[K     |████████▊                       | 675 kB 7.1 MB/s eta 0:00:01\r\u001b[K     |█████████                       | 686 kB 7.1 MB/s eta 0:00:01\r\u001b[K     |█████████                       | 696 kB 7.1 MB/s eta 0:00:01\r\u001b[K     |█████████▏                      | 706 kB 7.1 MB/s eta 0:00:01\r\u001b[K     |█████████▎                      | 716 kB 7.1 MB/s eta 0:00:01\r\u001b[K     |█████████▍                      | 727 kB 7.1 MB/s eta 0:00:01\r\u001b[K     |█████████▋                      | 737 kB 7.1 MB/s eta 0:00:01\r\u001b[K     |█████████▊                      | 747 kB 7.1 MB/s eta 0:00:01\r\u001b[K     |█████████▉                      | 757 kB 7.1 MB/s eta 0:00:01\r\u001b[K     |██████████                      | 768 kB 7.1 MB/s eta 0:00:01\r\u001b[K     |██████████                      | 778 kB 7.1 MB/s eta 0:00:01\r\u001b[K     |██████████▎                     | 788 kB 7.1 MB/s eta 0:00:01\r\u001b[K     |██████████▍                     | 798 kB 7.1 MB/s eta 0:00:01\r\u001b[K     |██████████▌                     | 808 kB 7.1 MB/s eta 0:00:01\r\u001b[K     |██████████▋                     | 819 kB 7.1 MB/s eta 0:00:01\r\u001b[K     |██████████▊                     | 829 kB 7.1 MB/s eta 0:00:01\r\u001b[K     |███████████                     | 839 kB 7.1 MB/s eta 0:00:01\r\u001b[K     |███████████                     | 849 kB 7.1 MB/s eta 0:00:01\r\u001b[K     |███████████▏                    | 860 kB 7.1 MB/s eta 0:00:01\r\u001b[K     |███████████▎                    | 870 kB 7.1 MB/s eta 0:00:01\r\u001b[K     |███████████▍                    | 880 kB 7.1 MB/s eta 0:00:01\r\u001b[K     |███████████▋                    | 890 kB 7.1 MB/s eta 0:00:01\r\u001b[K     |███████████▊                    | 901 kB 7.1 MB/s eta 0:00:01\r\u001b[K     |███████████▉                    | 911 kB 7.1 MB/s eta 0:00:01\r\u001b[K     |████████████                    | 921 kB 7.1 MB/s eta 0:00:01\r\u001b[K     |████████████                    | 931 kB 7.1 MB/s eta 0:00:01\r\u001b[K     |████████████▎                   | 942 kB 7.1 MB/s eta 0:00:01\r\u001b[K     |████████████▍                   | 952 kB 7.1 MB/s eta 0:00:01\r\u001b[K     |████████████▌                   | 962 kB 7.1 MB/s eta 0:00:01\r\u001b[K     |████████████▋                   | 972 kB 7.1 MB/s eta 0:00:01\r\u001b[K     |████████████▊                   | 983 kB 7.1 MB/s eta 0:00:01\r\u001b[K     |█████████████                   | 993 kB 7.1 MB/s eta 0:00:01\r\u001b[K     |█████████████                   | 1.0 MB 7.1 MB/s eta 0:00:01\r\u001b[K     |█████████████▏                  | 1.0 MB 7.1 MB/s eta 0:00:01\r\u001b[K     |█████████████▎                  | 1.0 MB 7.1 MB/s eta 0:00:01\r\u001b[K     |█████████████▍                  | 1.0 MB 7.1 MB/s eta 0:00:01\r\u001b[K     |█████████████▋                  | 1.0 MB 7.1 MB/s eta 0:00:01\r\u001b[K     |█████████████▊                  | 1.1 MB 7.1 MB/s eta 0:00:01\r\u001b[K     |█████████████▉                  | 1.1 MB 7.1 MB/s eta 0:00:01\r\u001b[K     |██████████████                  | 1.1 MB 7.1 MB/s eta 0:00:01\r\u001b[K     |██████████████                  | 1.1 MB 7.1 MB/s eta 0:00:01\r\u001b[K     |██████████████▎                 | 1.1 MB 7.1 MB/s eta 0:00:01\r\u001b[K     |██████████████▍                 | 1.1 MB 7.1 MB/s eta 0:00:01\r\u001b[K     |██████████████▌                 | 1.1 MB 7.1 MB/s eta 0:00:01\r\u001b[K     |██████████████▋                 | 1.1 MB 7.1 MB/s eta 0:00:01\r\u001b[K     |██████████████▊                 | 1.1 MB 7.1 MB/s eta 0:00:01\r\u001b[K     |███████████████                 | 1.1 MB 7.1 MB/s eta 0:00:01\r\u001b[K     |███████████████                 | 1.2 MB 7.1 MB/s eta 0:00:01\r\u001b[K     |███████████████▏                | 1.2 MB 7.1 MB/s eta 0:00:01\r\u001b[K     |███████████████▎                | 1.2 MB 7.1 MB/s eta 0:00:01\r\u001b[K     |███████████████▍                | 1.2 MB 7.1 MB/s eta 0:00:01\r\u001b[K     |███████████████▌                | 1.2 MB 7.1 MB/s eta 0:00:01\r\u001b[K     |███████████████▊                | 1.2 MB 7.1 MB/s eta 0:00:01\r\u001b[K     |███████████████▉                | 1.2 MB 7.1 MB/s eta 0:00:01\r\u001b[K     |████████████████                | 1.2 MB 7.1 MB/s eta 0:00:01\r\u001b[K     |████████████████                | 1.2 MB 7.1 MB/s eta 0:00:01\r\u001b[K     |████████████████▏               | 1.2 MB 7.1 MB/s eta 0:00:01\r\u001b[K     |████████████████▍               | 1.3 MB 7.1 MB/s eta 0:00:01\r\u001b[K     |████████████████▌               | 1.3 MB 7.1 MB/s eta 0:00:01\r\u001b[K     |████████████████▋               | 1.3 MB 7.1 MB/s eta 0:00:01\r\u001b[K     |████████████████▊               | 1.3 MB 7.1 MB/s eta 0:00:01\r\u001b[K     |████████████████▉               | 1.3 MB 7.1 MB/s eta 0:00:01\r\u001b[K     |█████████████████               | 1.3 MB 7.1 MB/s eta 0:00:01\r\u001b[K     |█████████████████▏              | 1.3 MB 7.1 MB/s eta 0:00:01\r\u001b[K     |█████████████████▎              | 1.3 MB 7.1 MB/s eta 0:00:01\r\u001b[K     |█████████████████▍              | 1.3 MB 7.1 MB/s eta 0:00:01\r\u001b[K     |█████████████████▌              | 1.4 MB 7.1 MB/s eta 0:00:01\r\u001b[K     |█████████████████▊              | 1.4 MB 7.1 MB/s eta 0:00:01\r\u001b[K     |█████████████████▉              | 1.4 MB 7.1 MB/s eta 0:00:01\r\u001b[K     |██████████████████              | 1.4 MB 7.1 MB/s eta 0:00:01\r\u001b[K     |██████████████████              | 1.4 MB 7.1 MB/s eta 0:00:01\r\u001b[K     |██████████████████▏             | 1.4 MB 7.1 MB/s eta 0:00:01\r\u001b[K     |██████████████████▍             | 1.4 MB 7.1 MB/s eta 0:00:01\r\u001b[K     |██████████████████▌             | 1.4 MB 7.1 MB/s eta 0:00:01\r\u001b[K     |██████████████████▋             | 1.4 MB 7.1 MB/s eta 0:00:01\r\u001b[K     |██████████████████▊             | 1.4 MB 7.1 MB/s eta 0:00:01\r\u001b[K     |██████████████████▉             | 1.5 MB 7.1 MB/s eta 0:00:01\r\u001b[K     |███████████████████             | 1.5 MB 7.1 MB/s eta 0:00:01\r\u001b[K     |███████████████████▏            | 1.5 MB 7.1 MB/s eta 0:00:01\r\u001b[K     |███████████████████▎            | 1.5 MB 7.1 MB/s eta 0:00:01\r\u001b[K     |███████████████████▍            | 1.5 MB 7.1 MB/s eta 0:00:01\r\u001b[K     |███████████████████▌            | 1.5 MB 7.1 MB/s eta 0:00:01\r\u001b[K     |███████████████████▊            | 1.5 MB 7.1 MB/s eta 0:00:01\r\u001b[K     |███████████████████▉            | 1.5 MB 7.1 MB/s eta 0:00:01\r\u001b[K     |████████████████████            | 1.5 MB 7.1 MB/s eta 0:00:01\r\u001b[K     |████████████████████            | 1.5 MB 7.1 MB/s eta 0:00:01\r\u001b[K     |████████████████████▏           | 1.6 MB 7.1 MB/s eta 0:00:01\r\u001b[K     |████████████████████▍           | 1.6 MB 7.1 MB/s eta 0:00:01\r\u001b[K     |████████████████████▌           | 1.6 MB 7.1 MB/s eta 0:00:01\r\u001b[K     |████████████████████▋           | 1.6 MB 7.1 MB/s eta 0:00:01\r\u001b[K     |████████████████████▊           | 1.6 MB 7.1 MB/s eta 0:00:01\r\u001b[K     |████████████████████▉           | 1.6 MB 7.1 MB/s eta 0:00:01\r\u001b[K     |█████████████████████           | 1.6 MB 7.1 MB/s eta 0:00:01\r\u001b[K     |█████████████████████▏          | 1.6 MB 7.1 MB/s eta 0:00:01\r\u001b[K     |█████████████████████▎          | 1.6 MB 7.1 MB/s eta 0:00:01\r\u001b[K     |█████████████████████▍          | 1.6 MB 7.1 MB/s eta 0:00:01\r\u001b[K     |█████████████████████▌          | 1.7 MB 7.1 MB/s eta 0:00:01\r\u001b[K     |█████████████████████▊          | 1.7 MB 7.1 MB/s eta 0:00:01\r\u001b[K     |█████████████████████▉          | 1.7 MB 7.1 MB/s eta 0:00:01\r\u001b[K     |██████████████████████          | 1.7 MB 7.1 MB/s eta 0:00:01\r\u001b[K     |██████████████████████          | 1.7 MB 7.1 MB/s eta 0:00:01\r\u001b[K     |██████████████████████▏         | 1.7 MB 7.1 MB/s eta 0:00:01\r\u001b[K     |██████████████████████▍         | 1.7 MB 7.1 MB/s eta 0:00:01\r\u001b[K     |██████████████████████▌         | 1.7 MB 7.1 MB/s eta 0:00:01\r\u001b[K     |██████████████████████▋         | 1.7 MB 7.1 MB/s eta 0:00:01\r\u001b[K     |██████████████████████▊         | 1.8 MB 7.1 MB/s eta 0:00:01\r\u001b[K     |██████████████████████▉         | 1.8 MB 7.1 MB/s eta 0:00:01\r\u001b[K     |███████████████████████         | 1.8 MB 7.1 MB/s eta 0:00:01\r\u001b[K     |███████████████████████▏        | 1.8 MB 7.1 MB/s eta 0:00:01\r\u001b[K     |███████████████████████▎        | 1.8 MB 7.1 MB/s eta 0:00:01\r\u001b[K     |███████████████████████▍        | 1.8 MB 7.1 MB/s eta 0:00:01\r\u001b[K     |███████████████████████▌        | 1.8 MB 7.1 MB/s eta 0:00:01\r\u001b[K     |███████████████████████▋        | 1.8 MB 7.1 MB/s eta 0:00:01\r\u001b[K     |███████████████████████▉        | 1.8 MB 7.1 MB/s eta 0:00:01\r\u001b[K     |████████████████████████        | 1.8 MB 7.1 MB/s eta 0:00:01\r\u001b[K     |████████████████████████        | 1.9 MB 7.1 MB/s eta 0:00:01\r\u001b[K     |████████████████████████▏       | 1.9 MB 7.1 MB/s eta 0:00:01\r\u001b[K     |████████████████████████▎       | 1.9 MB 7.1 MB/s eta 0:00:01\r\u001b[K     |████████████████████████▌       | 1.9 MB 7.1 MB/s eta 0:00:01\r\u001b[K     |████████████████████████▋       | 1.9 MB 7.1 MB/s eta 0:00:01\r\u001b[K     |████████████████████████▊       | 1.9 MB 7.1 MB/s eta 0:00:01\r\u001b[K     |████████████████████████▉       | 1.9 MB 7.1 MB/s eta 0:00:01\r\u001b[K     |█████████████████████████       | 1.9 MB 7.1 MB/s eta 0:00:01\r\u001b[K     |█████████████████████████▏      | 1.9 MB 7.1 MB/s eta 0:00:01\r\u001b[K     |█████████████████████████▎      | 1.9 MB 7.1 MB/s eta 0:00:01\r\u001b[K     |█████████████████████████▍      | 2.0 MB 7.1 MB/s eta 0:00:01\r\u001b[K     |█████████████████████████▌      | 2.0 MB 7.1 MB/s eta 0:00:01\r\u001b[K     |█████████████████████████▋      | 2.0 MB 7.1 MB/s eta 0:00:01\r\u001b[K     |█████████████████████████▉      | 2.0 MB 7.1 MB/s eta 0:00:01\r\u001b[K     |██████████████████████████      | 2.0 MB 7.1 MB/s eta 0:00:01\r\u001b[K     |██████████████████████████      | 2.0 MB 7.1 MB/s eta 0:00:01\r\u001b[K     |██████████████████████████▏     | 2.0 MB 7.1 MB/s eta 0:00:01\r\u001b[K     |██████████████████████████▎     | 2.0 MB 7.1 MB/s eta 0:00:01\r\u001b[K     |██████████████████████████▌     | 2.0 MB 7.1 MB/s eta 0:00:01\r\u001b[K     |██████████████████████████▋     | 2.0 MB 7.1 MB/s eta 0:00:01\r\u001b[K     |██████████████████████████▊     | 2.1 MB 7.1 MB/s eta 0:00:01\r\u001b[K     |██████████████████████████▉     | 2.1 MB 7.1 MB/s eta 0:00:01\r\u001b[K     |███████████████████████████     | 2.1 MB 7.1 MB/s eta 0:00:01\r\u001b[K     |███████████████████████████▏    | 2.1 MB 7.1 MB/s eta 0:00:01\r\u001b[K     |███████████████████████████▎    | 2.1 MB 7.1 MB/s eta 0:00:01\r\u001b[K     |███████████████████████████▍    | 2.1 MB 7.1 MB/s eta 0:00:01\r\u001b[K     |███████████████████████████▌    | 2.1 MB 7.1 MB/s eta 0:00:01\r\u001b[K     |███████████████████████████▋    | 2.1 MB 7.1 MB/s eta 0:00:01\r\u001b[K     |███████████████████████████▉    | 2.1 MB 7.1 MB/s eta 0:00:01\r\u001b[K     |████████████████████████████    | 2.2 MB 7.1 MB/s eta 0:00:01\r\u001b[K     |████████████████████████████    | 2.2 MB 7.1 MB/s eta 0:00:01\r\u001b[K     |████████████████████████████▏   | 2.2 MB 7.1 MB/s eta 0:00:01\r\u001b[K     |████████████████████████████▎   | 2.2 MB 7.1 MB/s eta 0:00:01\r\u001b[K     |████████████████████████████▌   | 2.2 MB 7.1 MB/s eta 0:00:01\r\u001b[K     |████████████████████████████▋   | 2.2 MB 7.1 MB/s eta 0:00:01\r\u001b[K     |████████████████████████████▊   | 2.2 MB 7.1 MB/s eta 0:00:01\r\u001b[K     |████████████████████████████▉   | 2.2 MB 7.1 MB/s eta 0:00:01\r\u001b[K     |█████████████████████████████   | 2.2 MB 7.1 MB/s eta 0:00:01\r\u001b[K     |█████████████████████████████▏  | 2.2 MB 7.1 MB/s eta 0:00:01\r\u001b[K     |█████████████████████████████▎  | 2.3 MB 7.1 MB/s eta 0:00:01\r\u001b[K     |█████████████████████████████▍  | 2.3 MB 7.1 MB/s eta 0:00:01\r\u001b[K     |█████████████████████████████▌  | 2.3 MB 7.1 MB/s eta 0:00:01\r\u001b[K     |█████████████████████████████▋  | 2.3 MB 7.1 MB/s eta 0:00:01\r\u001b[K     |█████████████████████████████▉  | 2.3 MB 7.1 MB/s eta 0:00:01\r\u001b[K     |██████████████████████████████  | 2.3 MB 7.1 MB/s eta 0:00:01\r\u001b[K     |██████████████████████████████  | 2.3 MB 7.1 MB/s eta 0:00:01\r\u001b[K     |██████████████████████████████▏ | 2.3 MB 7.1 MB/s eta 0:00:01\r\u001b[K     |██████████████████████████████▎ | 2.3 MB 7.1 MB/s eta 0:00:01\r\u001b[K     |██████████████████████████████▍ | 2.3 MB 7.1 MB/s eta 0:00:01\r\u001b[K     |██████████████████████████████▋ | 2.4 MB 7.1 MB/s eta 0:00:01\r\u001b[K     |██████████████████████████████▊ | 2.4 MB 7.1 MB/s eta 0:00:01\r\u001b[K     |██████████████████████████████▉ | 2.4 MB 7.1 MB/s eta 0:00:01\r\u001b[K     |███████████████████████████████ | 2.4 MB 7.1 MB/s eta 0:00:01\r\u001b[K     |███████████████████████████████ | 2.4 MB 7.1 MB/s eta 0:00:01\r\u001b[K     |███████████████████████████████▎| 2.4 MB 7.1 MB/s eta 0:00:01\r\u001b[K     |███████████████████████████████▍| 2.4 MB 7.1 MB/s eta 0:00:01\r\u001b[K     |███████████████████████████████▌| 2.4 MB 7.1 MB/s eta 0:00:01\r\u001b[K     |███████████████████████████████▋| 2.4 MB 7.1 MB/s eta 0:00:01\r\u001b[K     |███████████████████████████████▊| 2.4 MB 7.1 MB/s eta 0:00:01\r\u001b[K     |████████████████████████████████| 2.5 MB 7.1 MB/s eta 0:00:01\r\u001b[K     |████████████████████████████████| 2.5 MB 7.1 MB/s \n",
            "\u001b[?25h"
          ]
        }
      ]
    },
    {
      "cell_type": "code",
      "source": [
        "#import tensorflow.lite as tflite # this also works locally, but it won't work in Lambda\n",
        "import tflite_runtime.interpreter as tflite\n",
        "from keras_image_helper import create_preprocessor\n",
        "\n",
        "interpreter = tflite.Interpreter(model_path='clothing-model.tflite')\n",
        "interpreter.allocate_tensors()\n",
        "\n",
        "input_index = interpreter.get_input_details()[0]['index']\n",
        "output_index = interpreter.get_output_details()[0]['index']\n",
        "\n",
        "preprocessor = create_preprocessor('xception', target_size=(299, 299))\n",
        "\n",
        "url = 'http://bit.ly/mlbookcamp-pants'\n",
        "X = preprocessor.from_url(url)\n",
        "\n",
        "interpreter.set_tensor(input_index, X)\n",
        "interpreter.invoke()\n",
        "preds = interpreter.get_tensor(output_index)\n",
        "\n",
        "labels = [\n",
        "    'dress',\n",
        "    'hat',\n",
        "    'longsleeve',\n",
        "    'outwear',\n",
        "    'pants',\n",
        "    'shirt',\n",
        "    'shoes',\n",
        "    'shorts',\n",
        "    'skirt',\n",
        "    't-shirt'\n",
        "]\n",
        "\n",
        "results = dict(zip(labels, preds[0]))\n",
        "results"
      ],
      "metadata": {
        "colab": {
          "base_uri": "https://localhost:8080/"
        },
        "id": "IX7fJTktz2BG",
        "outputId": "35454d9d-6b40-4f21-d302-f67694910044"
      },
      "execution_count": 31,
      "outputs": [
        {
          "output_type": "execute_result",
          "data": {
            "text/plain": [
              "{'dress': -1.8682916,\n",
              " 'hat': -4.7612457,\n",
              " 'longsleeve': -2.316979,\n",
              " 'outwear': -1.0625672,\n",
              " 'pants': 9.8871565,\n",
              " 'shirt': -2.8124275,\n",
              " 'shoes': -3.666287,\n",
              " 'shorts': 3.2003636,\n",
              " 'skirt': -2.6023414,\n",
              " 't-shirt': -4.8350444}"
            ]
          },
          "metadata": {},
          "execution_count": 31
        }
      ]
    },
    {
      "cell_type": "code",
      "source": [],
      "metadata": {
        "id": "Bgw5QOdg0roS"
      },
      "execution_count": null,
      "outputs": []
    }
  ]
}