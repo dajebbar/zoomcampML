{
  "nbformat": 4,
  "nbformat_minor": 0,
  "metadata": {
    "colab": {
      "provenance": []
    },
    "kernelspec": {
      "name": "python3",
      "display_name": "Python 3"
    },
    "language_info": {
      "name": "python"
    }
  },
  "cells": [
    {
      "cell_type": "markdown",
      "source": [
        "# Serverless"
      ],
      "metadata": {
        "id": "MAqRD8x6hjJP"
      }
    },
    {
      "cell_type": "code",
      "execution_count": 6,
      "metadata": {
        "id": "MtUwr_HxhY05"
      },
      "outputs": [],
      "source": [
        "import numpy as np\n",
        "import tensorflow as tf\n",
        "from tensorflow import keras\n",
        "from tensorflow.keras.preprocessing.image import load_img\n",
        "from tensorflow.keras.applications.xception import preprocess_input"
      ]
    },
    {
      "cell_type": "code",
      "source": [
        "!wget https://github.com/alexeygrigorev/mlbookcamp-code/releases/download/chapter7-model/xception_v4_large_08_0.894.h5 -O clothing_model.h5 --quiet"
      ],
      "metadata": {
        "id": "JXLJx_4ZhwDs"
      },
      "execution_count": 2,
      "outputs": []
    },
    {
      "cell_type": "code",
      "source": [
        "model = keras.models.load_model('clothing_model.h5')"
      ],
      "metadata": {
        "id": "3Cn9OqAGiWlN"
      },
      "execution_count": 4,
      "outputs": []
    },
    {
      "cell_type": "code",
      "source": [
        "!wget http://bit.ly/mlbookcamp-pants -O pants.jpg --quiet"
      ],
      "metadata": {
        "id": "L-e9XW3eixOQ"
      },
      "execution_count": 5,
      "outputs": []
    },
    {
      "cell_type": "code",
      "source": [
        "img = load_img('pants.jpg', target_size=(299, 299))"
      ],
      "metadata": {
        "id": "f-3ACjnwk7Hm"
      },
      "execution_count": 7,
      "outputs": []
    },
    {
      "cell_type": "code",
      "source": [
        "x = np.array(img)\n",
        "X = np.array([x])\n",
        "X = preprocess_input(X)"
      ],
      "metadata": {
        "id": "xLVWXGPllNZN"
      },
      "execution_count": 8,
      "outputs": []
    },
    {
      "cell_type": "code",
      "source": [
        "X.shape"
      ],
      "metadata": {
        "colab": {
          "base_uri": "https://localhost:8080/"
        },
        "id": "Amqe0YeulewH",
        "outputId": "39c281d0-df13-4de4-9ccb-fad9f1faf1f2"
      },
      "execution_count": 9,
      "outputs": [
        {
          "output_type": "execute_result",
          "data": {
            "text/plain": [
              "(1, 299, 299, 3)"
            ]
          },
          "metadata": {},
          "execution_count": 9
        }
      ]
    },
    {
      "cell_type": "code",
      "source": [
        "preds = model.predict(X)\n",
        "preds"
      ],
      "metadata": {
        "colab": {
          "base_uri": "https://localhost:8080/"
        },
        "id": "fMhraysblgOc",
        "outputId": "d770e75b-9da1-4457-a3ad-12a300761694"
      },
      "execution_count": 10,
      "outputs": [
        {
          "output_type": "stream",
          "name": "stdout",
          "text": [
            "1/1 [==============================] - 1s 1s/step\n"
          ]
        },
        {
          "output_type": "execute_result",
          "data": {
            "text/plain": [
              "array([[-1.8682904, -4.7612453, -2.3169832, -1.0625703,  9.887159 ,\n",
              "        -2.8124344, -3.666283 ,  3.2003617, -2.602338 , -4.835046 ]],\n",
              "      dtype=float32)"
            ]
          },
          "metadata": {},
          "execution_count": 10
        }
      ]
    },
    {
      "cell_type": "code",
      "source": [
        "labels = [\n",
        "    'dress',\n",
        "    'hat',\n",
        "    'longsleeve',\n",
        "    'outwear',\n",
        "    'pants',\n",
        "    'shirt',\n",
        "    'shoes',\n",
        "    'shorts',\n",
        "    'skirt',\n",
        "    't-shirt'\n",
        "]\n",
        "\n",
        "results = dict(zip(labels, preds[0]))\n",
        "results"
      ],
      "metadata": {
        "colab": {
          "base_uri": "https://localhost:8080/"
        },
        "id": "Fa0e11f_lwx-",
        "outputId": "215d6e38-c060-4426-cfe5-d96418e5dc0a"
      },
      "execution_count": 11,
      "outputs": [
        {
          "output_type": "execute_result",
          "data": {
            "text/plain": [
              "{'dress': -1.8682904,\n",
              " 'hat': -4.7612453,\n",
              " 'longsleeve': -2.3169832,\n",
              " 'outwear': -1.0625703,\n",
              " 'pants': 9.887159,\n",
              " 'shirt': -2.8124344,\n",
              " 'shoes': -3.666283,\n",
              " 'shorts': 3.2003617,\n",
              " 'skirt': -2.602338,\n",
              " 't-shirt': -4.835046}"
            ]
          },
          "metadata": {},
          "execution_count": 11
        }
      ]
    },
    {
      "cell_type": "markdown",
      "source": [
        "# Convert Keras to TF-Lite"
      ],
      "metadata": {
        "id": "gkJ8sFxgmZLk"
      }
    },
    {
      "cell_type": "code",
      "source": [
        "converter = tf.lite.TFLiteConverter.from_keras_model(model)\n",
        "\n",
        "tflite_model = converter.convert()\n",
        "\n",
        "with tf.io.gfile.GFile('clothing-model.tflite', 'wb') as f:\n",
        "    f.write(tflite_model)"
      ],
      "metadata": {
        "colab": {
          "base_uri": "https://localhost:8080/"
        },
        "id": "FhHnWK4RmCia",
        "outputId": "fb70d196-3137-4275-9dd9-d45da496d5c7"
      },
      "execution_count": 12,
      "outputs": [
        {
          "output_type": "stream",
          "name": "stderr",
          "text": [
            "WARNING:absl:Found untraced functions such as _jit_compiled_convolution_op, _jit_compiled_convolution_op, _jit_compiled_convolution_op, _jit_compiled_convolution_op, _jit_compiled_convolution_op while saving (showing 5 of 40). These functions will not be directly callable after loading.\n"
          ]
        }
      ]
    },
    {
      "cell_type": "code",
      "source": [],
      "metadata": {
        "id": "rXTf5R_7nYIJ"
      },
      "execution_count": null,
      "outputs": []
    }
  ]
}