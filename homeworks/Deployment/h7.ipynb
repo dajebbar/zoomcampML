{
 "cells": [
  {
   "cell_type": "markdown",
   "id": "60d193c5",
   "metadata": {},
   "source": [
    "# Bentoml Production"
   ]
  },
  {
   "cell_type": "markdown",
   "id": "76a20181",
   "metadata": {},
   "source": [
    "## **Question 1**\n",
    "What's the version of BentoML you installed?"
   ]
  },
  {
   "cell_type": "markdown",
   "id": "2ad436b7",
   "metadata": {},
   "source": [
    "![bento-version](img/img1.png)"
   ]
  },
  {
   "cell_type": "markdown",
   "id": "bb75d9c8",
   "metadata": {},
   "source": [
    "## **Question 2**\n",
    "How big approximately is the saved BentoML model?"
   ]
  },
  {
   "cell_type": "markdown",
   "id": "8d6f2cd0",
   "metadata": {},
   "source": [
    "**114 Kib**"
   ]
  },
  {
   "cell_type": "markdown",
   "id": "61dbf825",
   "metadata": {},
   "source": [
    "![risk-model-size](img/img2bis.png)"
   ]
  },
  {
   "cell_type": "markdown",
   "id": "53ed33ec",
   "metadata": {},
   "source": [
    "##  **Question3**\n",
    "### pydantic class"
   ]
  },
  {
   "cell_type": "markdown",
   "id": "29e2e2b3",
   "metadata": {},
   "source": [
    "``` \n",
    "import bentoml\n",
    "from bentoml.io import JSON\n",
    "from pydantic import BaseModel\n",
    "\n",
    "\n",
    "class UserProfile(BaseModel):\n",
    "    name: str\n",
    "    age: int\n",
    "    country: str\n",
    "    rating: float\n",
    "```"
   ]
  },
  {
   "cell_type": "markdown",
   "id": "2f7a4998",
   "metadata": {},
   "source": [
    "## **Question 4**\n",
    "What version of scikit-learn was this model trained with?"
   ]
  },
  {
   "cell_type": "markdown",
   "id": "37d56316",
   "metadata": {},
   "source": [
    "**1.1.1**"
   ]
  },
  {
   "cell_type": "markdown",
   "id": "67d2ec47",
   "metadata": {},
   "source": [
    "![sklearn-version](img/img3.png)"
   ]
  },
  {
   "cell_type": "markdown",
   "id": "887cca5a",
   "metadata": {},
   "source": [
    "## **Question 5**\n"
   ]
  },
  {
   "cell_type": "markdown",
   "id": "c1ac9795",
   "metadata": {},
   "source": [
    "**1**"
   ]
  },
  {
   "cell_type": "markdown",
   "id": "6a655a00",
   "metadata": {},
   "source": [
    "![pred](img/img4.png)"
   ]
  },
  {
   "cell_type": "markdown",
   "id": "2a511bd5",
   "metadata": {},
   "source": [
    "## **Question 6**\n",
    "Which model has better performance at higher volumes?"
   ]
  },
  {
   "cell_type": "markdown",
   "id": "e29f5df2",
   "metadata": {},
   "source": [
    "**Model 2**"
   ]
  }
 ],
 "metadata": {
  "kernelspec": {
   "display_name": "Python 3.9.13 ('.venv': pipenv)",
   "language": "python",
   "name": "python3"
  },
  "language_info": {
   "codemirror_mode": {
    "name": "ipython",
    "version": 3
   },
   "file_extension": ".py",
   "mimetype": "text/x-python",
   "name": "python",
   "nbconvert_exporter": "python",
   "pygments_lexer": "ipython3",
   "version": "3.9.13"
  },
  "vscode": {
   "interpreter": {
    "hash": "61213446770e8710ed4a3f946ffda1defcaa9920090cc1db3a2c3f39fc43db58"
   }
  }
 },
 "nbformat": 4,
 "nbformat_minor": 5
}
