{
  "nbformat": 4,
  "nbformat_minor": 0,
  "metadata": {
    "colab": {
      "provenance": []
    },
    "kernelspec": {
      "name": "python3",
      "display_name": "Python 3"
    },
    "language_info": {
      "name": "python"
    }
  },
  "cells": [
    {
      "cell_type": "markdown",
      "source": [
        "# Create a regression model for predicting housing prices using tree and ensemble models"
      ],
      "metadata": {
        "id": "8NvaNkRAZf7s"
      }
    },
    {
      "cell_type": "markdown",
      "source": [
        "## Libraries"
      ],
      "metadata": {
        "id": "OSVzuLwCZrqH"
      }
    },
    {
      "cell_type": "code",
      "execution_count": 1,
      "metadata": {
        "id": "OfBnu4gJZK7_"
      },
      "outputs": [],
      "source": [
        "import pandas as pd\n",
        "import numpy as np\n",
        "import matplotlib\n",
        "import matplotlib.pyplot as plt\n",
        "import seaborn as sns\n",
        "import missingno as msno\n",
        "from sklearn import (\n",
        "    model_selection,\n",
        "    metrics,\n",
        "    tree,\n",
        "    ensemble\n",
        ")\n",
        "from sklearn.impute import SimpleImputer\n",
        "from sklearn.feature_extraction import DictVectorizer\n",
        "import warnings\n",
        "\n",
        "warnings.filterwarnings('ignore')\n",
        "plt.style.use('ggplot')\n",
        "matplotlib.rcParams['font.size'] = 14\n",
        "matplotlib.rcParams['figure.figsize'] = (10, 6)\n",
        "matplotlib.rcParams['figure.facecolor'] = '#00000000'"
      ]
    },
    {
      "cell_type": "markdown",
      "source": [
        "## Importing data set"
      ],
      "metadata": {
        "id": "8IweKSxoa-qR"
      }
    },
    {
      "cell_type": "code",
      "source": [
        "! wget https://raw.githubusercontent.com/alexeygrigorev/datasets/master/housing.csv --quiet"
      ],
      "metadata": {
        "id": "8HSvALnMaoXt"
      },
      "execution_count": 2,
      "outputs": []
    },
    {
      "cell_type": "code",
      "source": [
        "df = pd.read_csv('housing.csv')\n",
        "df.sample(n=8)"
      ],
      "metadata": {
        "colab": {
          "base_uri": "https://localhost:8080/",
          "height": 364
        },
        "id": "XhJNSRcCbF_4",
        "outputId": "0f63c954-dbce-4f09-cce7-0de711400170"
      },
      "execution_count": 3,
      "outputs": [
        {
          "output_type": "execute_result",
          "data": {
            "text/plain": [
              "       longitude  latitude  housing_median_age  total_rooms  total_bedrooms  \\\n",
              "7016     -118.08     33.97                36.0       1678.0           323.0   \n",
              "10805    -117.94     33.62                25.0       1188.0           264.0   \n",
              "6665     -118.09     34.17                36.0       2875.0           552.0   \n",
              "14376    -117.25     32.72                33.0       1677.0           228.0   \n",
              "7143     -118.13     34.02                40.0       2988.0           690.0   \n",
              "4267     -118.30     34.10                25.0       3926.0          1715.0   \n",
              "16615    -120.92     35.40                23.0       2059.0           354.0   \n",
              "17431    -120.45     34.65                27.0       2215.0           578.0   \n",
              "\n",
              "       population  households  median_income  median_house_value  \\\n",
              "7016       1380.0       352.0         3.5481            163300.0   \n",
              "10805       569.0       249.0         3.6607            500001.0   \n",
              "6665       1131.0       458.0         4.3083            269300.0   \n",
              "14376       629.0       239.0         6.5970            496400.0   \n",
              "7143       2144.0       667.0         2.3359            189300.0   \n",
              "4267       4865.0      1612.0         1.6112            262500.0   \n",
              "16615       636.0       278.0         3.6908            278800.0   \n",
              "17431      1544.0       527.0         1.9257            135300.0   \n",
              "\n",
              "      ocean_proximity  \n",
              "7016        <1H OCEAN  \n",
              "10805       <1H OCEAN  \n",
              "6665           INLAND  \n",
              "14376      NEAR OCEAN  \n",
              "7143        <1H OCEAN  \n",
              "4267        <1H OCEAN  \n",
              "16615      NEAR OCEAN  \n",
              "17431      NEAR OCEAN  "
            ],
            "text/html": [
              "\n",
              "  <div id=\"df-d9c51a84-0dbf-4f6d-a7c3-f092e6085e25\">\n",
              "    <div class=\"colab-df-container\">\n",
              "      <div>\n",
              "<style scoped>\n",
              "    .dataframe tbody tr th:only-of-type {\n",
              "        vertical-align: middle;\n",
              "    }\n",
              "\n",
              "    .dataframe tbody tr th {\n",
              "        vertical-align: top;\n",
              "    }\n",
              "\n",
              "    .dataframe thead th {\n",
              "        text-align: right;\n",
              "    }\n",
              "</style>\n",
              "<table border=\"1\" class=\"dataframe\">\n",
              "  <thead>\n",
              "    <tr style=\"text-align: right;\">\n",
              "      <th></th>\n",
              "      <th>longitude</th>\n",
              "      <th>latitude</th>\n",
              "      <th>housing_median_age</th>\n",
              "      <th>total_rooms</th>\n",
              "      <th>total_bedrooms</th>\n",
              "      <th>population</th>\n",
              "      <th>households</th>\n",
              "      <th>median_income</th>\n",
              "      <th>median_house_value</th>\n",
              "      <th>ocean_proximity</th>\n",
              "    </tr>\n",
              "  </thead>\n",
              "  <tbody>\n",
              "    <tr>\n",
              "      <th>7016</th>\n",
              "      <td>-118.08</td>\n",
              "      <td>33.97</td>\n",
              "      <td>36.0</td>\n",
              "      <td>1678.0</td>\n",
              "      <td>323.0</td>\n",
              "      <td>1380.0</td>\n",
              "      <td>352.0</td>\n",
              "      <td>3.5481</td>\n",
              "      <td>163300.0</td>\n",
              "      <td>&lt;1H OCEAN</td>\n",
              "    </tr>\n",
              "    <tr>\n",
              "      <th>10805</th>\n",
              "      <td>-117.94</td>\n",
              "      <td>33.62</td>\n",
              "      <td>25.0</td>\n",
              "      <td>1188.0</td>\n",
              "      <td>264.0</td>\n",
              "      <td>569.0</td>\n",
              "      <td>249.0</td>\n",
              "      <td>3.6607</td>\n",
              "      <td>500001.0</td>\n",
              "      <td>&lt;1H OCEAN</td>\n",
              "    </tr>\n",
              "    <tr>\n",
              "      <th>6665</th>\n",
              "      <td>-118.09</td>\n",
              "      <td>34.17</td>\n",
              "      <td>36.0</td>\n",
              "      <td>2875.0</td>\n",
              "      <td>552.0</td>\n",
              "      <td>1131.0</td>\n",
              "      <td>458.0</td>\n",
              "      <td>4.3083</td>\n",
              "      <td>269300.0</td>\n",
              "      <td>INLAND</td>\n",
              "    </tr>\n",
              "    <tr>\n",
              "      <th>14376</th>\n",
              "      <td>-117.25</td>\n",
              "      <td>32.72</td>\n",
              "      <td>33.0</td>\n",
              "      <td>1677.0</td>\n",
              "      <td>228.0</td>\n",
              "      <td>629.0</td>\n",
              "      <td>239.0</td>\n",
              "      <td>6.5970</td>\n",
              "      <td>496400.0</td>\n",
              "      <td>NEAR OCEAN</td>\n",
              "    </tr>\n",
              "    <tr>\n",
              "      <th>7143</th>\n",
              "      <td>-118.13</td>\n",
              "      <td>34.02</td>\n",
              "      <td>40.0</td>\n",
              "      <td>2988.0</td>\n",
              "      <td>690.0</td>\n",
              "      <td>2144.0</td>\n",
              "      <td>667.0</td>\n",
              "      <td>2.3359</td>\n",
              "      <td>189300.0</td>\n",
              "      <td>&lt;1H OCEAN</td>\n",
              "    </tr>\n",
              "    <tr>\n",
              "      <th>4267</th>\n",
              "      <td>-118.30</td>\n",
              "      <td>34.10</td>\n",
              "      <td>25.0</td>\n",
              "      <td>3926.0</td>\n",
              "      <td>1715.0</td>\n",
              "      <td>4865.0</td>\n",
              "      <td>1612.0</td>\n",
              "      <td>1.6112</td>\n",
              "      <td>262500.0</td>\n",
              "      <td>&lt;1H OCEAN</td>\n",
              "    </tr>\n",
              "    <tr>\n",
              "      <th>16615</th>\n",
              "      <td>-120.92</td>\n",
              "      <td>35.40</td>\n",
              "      <td>23.0</td>\n",
              "      <td>2059.0</td>\n",
              "      <td>354.0</td>\n",
              "      <td>636.0</td>\n",
              "      <td>278.0</td>\n",
              "      <td>3.6908</td>\n",
              "      <td>278800.0</td>\n",
              "      <td>NEAR OCEAN</td>\n",
              "    </tr>\n",
              "    <tr>\n",
              "      <th>17431</th>\n",
              "      <td>-120.45</td>\n",
              "      <td>34.65</td>\n",
              "      <td>27.0</td>\n",
              "      <td>2215.0</td>\n",
              "      <td>578.0</td>\n",
              "      <td>1544.0</td>\n",
              "      <td>527.0</td>\n",
              "      <td>1.9257</td>\n",
              "      <td>135300.0</td>\n",
              "      <td>NEAR OCEAN</td>\n",
              "    </tr>\n",
              "  </tbody>\n",
              "</table>\n",
              "</div>\n",
              "      <button class=\"colab-df-convert\" onclick=\"convertToInteractive('df-d9c51a84-0dbf-4f6d-a7c3-f092e6085e25')\"\n",
              "              title=\"Convert this dataframe to an interactive table.\"\n",
              "              style=\"display:none;\">\n",
              "        \n",
              "  <svg xmlns=\"http://www.w3.org/2000/svg\" height=\"24px\"viewBox=\"0 0 24 24\"\n",
              "       width=\"24px\">\n",
              "    <path d=\"M0 0h24v24H0V0z\" fill=\"none\"/>\n",
              "    <path d=\"M18.56 5.44l.94 2.06.94-2.06 2.06-.94-2.06-.94-.94-2.06-.94 2.06-2.06.94zm-11 1L8.5 8.5l.94-2.06 2.06-.94-2.06-.94L8.5 2.5l-.94 2.06-2.06.94zm10 10l.94 2.06.94-2.06 2.06-.94-2.06-.94-.94-2.06-.94 2.06-2.06.94z\"/><path d=\"M17.41 7.96l-1.37-1.37c-.4-.4-.92-.59-1.43-.59-.52 0-1.04.2-1.43.59L10.3 9.45l-7.72 7.72c-.78.78-.78 2.05 0 2.83L4 21.41c.39.39.9.59 1.41.59.51 0 1.02-.2 1.41-.59l7.78-7.78 2.81-2.81c.8-.78.8-2.07 0-2.86zM5.41 20L4 18.59l7.72-7.72 1.47 1.35L5.41 20z\"/>\n",
              "  </svg>\n",
              "      </button>\n",
              "      \n",
              "  <style>\n",
              "    .colab-df-container {\n",
              "      display:flex;\n",
              "      flex-wrap:wrap;\n",
              "      gap: 12px;\n",
              "    }\n",
              "\n",
              "    .colab-df-convert {\n",
              "      background-color: #E8F0FE;\n",
              "      border: none;\n",
              "      border-radius: 50%;\n",
              "      cursor: pointer;\n",
              "      display: none;\n",
              "      fill: #1967D2;\n",
              "      height: 32px;\n",
              "      padding: 0 0 0 0;\n",
              "      width: 32px;\n",
              "    }\n",
              "\n",
              "    .colab-df-convert:hover {\n",
              "      background-color: #E2EBFA;\n",
              "      box-shadow: 0px 1px 2px rgba(60, 64, 67, 0.3), 0px 1px 3px 1px rgba(60, 64, 67, 0.15);\n",
              "      fill: #174EA6;\n",
              "    }\n",
              "\n",
              "    [theme=dark] .colab-df-convert {\n",
              "      background-color: #3B4455;\n",
              "      fill: #D2E3FC;\n",
              "    }\n",
              "\n",
              "    [theme=dark] .colab-df-convert:hover {\n",
              "      background-color: #434B5C;\n",
              "      box-shadow: 0px 1px 3px 1px rgba(0, 0, 0, 0.15);\n",
              "      filter: drop-shadow(0px 1px 2px rgba(0, 0, 0, 0.3));\n",
              "      fill: #FFFFFF;\n",
              "    }\n",
              "  </style>\n",
              "\n",
              "      <script>\n",
              "        const buttonEl =\n",
              "          document.querySelector('#df-d9c51a84-0dbf-4f6d-a7c3-f092e6085e25 button.colab-df-convert');\n",
              "        buttonEl.style.display =\n",
              "          google.colab.kernel.accessAllowed ? 'block' : 'none';\n",
              "\n",
              "        async function convertToInteractive(key) {\n",
              "          const element = document.querySelector('#df-d9c51a84-0dbf-4f6d-a7c3-f092e6085e25');\n",
              "          const dataTable =\n",
              "            await google.colab.kernel.invokeFunction('convertToInteractive',\n",
              "                                                     [key], {});\n",
              "          if (!dataTable) return;\n",
              "\n",
              "          const docLinkHtml = 'Like what you see? Visit the ' +\n",
              "            '<a target=\"_blank\" href=https://colab.research.google.com/notebooks/data_table.ipynb>data table notebook</a>'\n",
              "            + ' to learn more about interactive tables.';\n",
              "          element.innerHTML = '';\n",
              "          dataTable['output_type'] = 'display_data';\n",
              "          await google.colab.output.renderOutput(dataTable, element);\n",
              "          const docLink = document.createElement('div');\n",
              "          docLink.innerHTML = docLinkHtml;\n",
              "          element.appendChild(docLink);\n",
              "        }\n",
              "      </script>\n",
              "    </div>\n",
              "  </div>\n",
              "  "
            ]
          },
          "metadata": {},
          "execution_count": 3
        }
      ]
    },
    {
      "cell_type": "markdown",
      "source": [
        "# Preparing the Data for Training"
      ],
      "metadata": {
        "id": "k9whJRaHd1jo"
      }
    },
    {
      "cell_type": "markdown",
      "source": [
        "## Separate features and target"
      ],
      "metadata": {
        "id": "b2IoWPj7b5OU"
      }
    },
    {
      "cell_type": "code",
      "source": [
        "data, target = df.drop(columns=['median_house_value']), np.log1p(df['median_house_value'])"
      ],
      "metadata": {
        "id": "FexSQj8jbOA3"
      },
      "execution_count": 4,
      "outputs": []
    },
    {
      "cell_type": "code",
      "source": [
        "data.isna().sum()"
      ],
      "metadata": {
        "colab": {
          "base_uri": "https://localhost:8080/"
        },
        "id": "FguxyDaaeryc",
        "outputId": "6d409fb9-31fd-485e-f7ab-800779686fa0"
      },
      "execution_count": 5,
      "outputs": [
        {
          "output_type": "execute_result",
          "data": {
            "text/plain": [
              "longitude               0\n",
              "latitude                0\n",
              "housing_median_age      0\n",
              "total_rooms             0\n",
              "total_bedrooms        207\n",
              "population              0\n",
              "households              0\n",
              "median_income           0\n",
              "ocean_proximity         0\n",
              "dtype: int64"
            ]
          },
          "metadata": {},
          "execution_count": 5
        }
      ]
    },
    {
      "cell_type": "code",
      "source": [
        "data['total_bedrooms'].fillna(0, inplace=True)"
      ],
      "metadata": {
        "id": "oesNbdfkp2Yg"
      },
      "execution_count": 6,
      "outputs": []
    },
    {
      "cell_type": "code",
      "source": [
        "target.isna().sum()"
      ],
      "metadata": {
        "colab": {
          "base_uri": "https://localhost:8080/"
        },
        "id": "Xy2Xygfmi2hd",
        "outputId": "48023da1-ae33-4314-94da-9646074d1ce5"
      },
      "execution_count": 7,
      "outputs": [
        {
          "output_type": "execute_result",
          "data": {
            "text/plain": [
              "0"
            ]
          },
          "metadata": {},
          "execution_count": 7
        }
      ]
    },
    {
      "cell_type": "markdown",
      "source": [
        "## Training, Validation and Test Sets"
      ],
      "metadata": {
        "id": "zokCzxvtcOZg"
      }
    },
    {
      "cell_type": "code",
      "source": [
        "X_full_train, X_test, y_full_train, y_test = model_selection.train_test_split(\n",
        "    data,\n",
        "    target,\n",
        "    test_size=.2,\n",
        "    random_state=1\n",
        ")\n",
        "\n",
        "X_train, X_dev, y_train, y_dev = model_selection.train_test_split(\n",
        "    X_full_train,\n",
        "    y_full_train,\n",
        "    test_size=.25,\n",
        "    random_state=1\n",
        ")\n",
        "\n",
        "X_train.shape, y_train.shape, X_dev.shape, y_dev.shape, X_test.shape, y_test.shape"
      ],
      "metadata": {
        "colab": {
          "base_uri": "https://localhost:8080/"
        },
        "id": "BE4zW0_TcNjq",
        "outputId": "304e1b8d-233e-43a5-fd14-d06d3afab179"
      },
      "execution_count": 8,
      "outputs": [
        {
          "output_type": "execute_result",
          "data": {
            "text/plain": [
              "((12384, 9), (12384,), (4128, 9), (4128,), (4128, 9), (4128,))"
            ]
          },
          "metadata": {},
          "execution_count": 8
        }
      ]
    },
    {
      "cell_type": "markdown",
      "source": [
        "## Separate numerical and categorical variables"
      ],
      "metadata": {
        "id": "0mChvgWheDxz"
      }
    },
    {
      "cell_type": "code",
      "source": [
        "numerical = data.columns[:-1].to_list()\n",
        "categorical = [data.columns[-1]]\n",
        "\n",
        "print(numerical)\n",
        "print()\n",
        "print(categorical)"
      ],
      "metadata": {
        "colab": {
          "base_uri": "https://localhost:8080/"
        },
        "id": "JCx65J-ddoH9",
        "outputId": "a2f416a6-2abf-4824-f1f0-3d32e98745de"
      },
      "execution_count": 9,
      "outputs": [
        {
          "output_type": "stream",
          "name": "stdout",
          "text": [
            "['longitude', 'latitude', 'housing_median_age', 'total_rooms', 'total_bedrooms', 'population', 'households', 'median_income']\n",
            "\n",
            "['ocean_proximity']\n"
          ]
        }
      ]
    },
    {
      "cell_type": "markdown",
      "source": [
        "## One Hot Encoding"
      ],
      "metadata": {
        "id": "8n4cyHxefGH9"
      }
    },
    {
      "cell_type": "code",
      "source": [
        "dict_train = X_train.to_dict(orient='records')\n",
        "dict_dev = X_dev.to_dict(orient='records')\n",
        "dict_test = X_test.to_dict(orient='records')\n",
        "\n",
        "dv = DictVectorizer(sparse=False)\n",
        "\n",
        "X_train = dv.fit_transform(dict_train)\n",
        "X_dev = dv.transform(dict_dev)\n",
        "X_test = dv.transform(dict_test)\n",
        "\n"
      ],
      "metadata": {
        "id": "FzL4JAOqfRWI"
      },
      "execution_count": 10,
      "outputs": []
    },
    {
      "cell_type": "markdown",
      "source": [
        "## **Question 1**\n",
        "train a decision tree regressor to predict the median_house_value variable.\n",
        "\n",
        "`max_depth` = 1\n",
        "\n",
        "Which feature is used for splitting the data?"
      ],
      "metadata": {
        "id": "HQJ_hwfykxlM"
      }
    },
    {
      "cell_type": "code",
      "source": [
        "dt_model = tree.DecisionTreeRegressor(max_depth=1)\n",
        "dt_model.fit(X_train, y_train)"
      ],
      "metadata": {
        "colab": {
          "base_uri": "https://localhost:8080/"
        },
        "id": "9d1V3ReVi8EP",
        "outputId": "0478a5b1-3dcc-426b-c7c9-a6e84227b21f"
      },
      "execution_count": 11,
      "outputs": [
        {
          "output_type": "execute_result",
          "data": {
            "text/plain": [
              "DecisionTreeRegressor(max_depth=1)"
            ]
          },
          "metadata": {},
          "execution_count": 11
        }
      ]
    },
    {
      "cell_type": "code",
      "source": [
        "tree.plot_tree(\n",
        "    dt_model,\n",
        "    feature_names=dv.get_feature_names(), \n",
        "    max_depth=1, \n",
        "    filled=True\n",
        ")"
      ],
      "metadata": {
        "colab": {
          "base_uri": "https://localhost:8080/",
          "height": 409
        },
        "id": "0EoXshonlRyk",
        "outputId": "0c2c51c9-17ac-4711-d635-6fb2a59e74f1"
      },
      "execution_count": 12,
      "outputs": [
        {
          "output_type": "execute_result",
          "data": {
            "text/plain": [
              "[Text(0.5, 0.75, 'ocean_proximity=INLAND <= 0.5\\nsquared_error = 0.322\\nsamples = 12384\\nvalue = 12.088'),\n",
              " Text(0.25, 0.25, 'squared_error = 0.214\\nsamples = 8483\\nvalue = 12.307'),\n",
              " Text(0.75, 0.25, 'squared_error = 0.227\\nsamples = 3901\\nvalue = 11.613')]"
            ]
          },
          "metadata": {},
          "execution_count": 12
        },
        {
          "output_type": "display_data",
          "data": {
            "text/plain": [
              "<Figure size 720x432 with 1 Axes>"
            ],
            "image/png": "[encoded data removed]"
          },
          "metadata": {
            "needs_background": "light"
          }
        }
      ]
    },
    {
      "cell_type": "code",
      "source": [
        "tree_text = tree.export_text(\n",
        "    dt_model,\n",
        "    feature_names=dv.get_feature_names(), \n",
        "    max_depth=1, \n",
        ")\n",
        "\n",
        "print(tree_text[:5000])"
      ],
      "metadata": {
        "colab": {
          "base_uri": "https://localhost:8080/"
        },
        "id": "pKnP17T-l_fM",
        "outputId": "d6af3b74-8993-44f4-c8a6-764771f6960a"
      },
      "execution_count": 13,
      "outputs": [
        {
          "output_type": "stream",
          "name": "stdout",
          "text": [
            "|--- ocean_proximity=INLAND <= 0.50\n",
            "|   |--- value: [12.31]\n",
            "|--- ocean_proximity=INLAND >  0.50\n",
            "|   |--- value: [11.61]\n",
            "\n"
          ]
        }
      ]
    },
    {
      "cell_type": "markdown",
      "source": [
        "## **Question 2**\n",
        "\n",
        "Train a random forest model with these parameters:\n",
        "- n_estimators=10\n",
        "- random_state=1\n",
        "- n_jobs=-1"
      ],
      "metadata": {
        "id": "oms-Qh_2sal9"
      }
    },
    {
      "cell_type": "code",
      "source": [
        "rf_model = ensemble.RandomForestRegressor(\n",
        "    n_estimators=10,\n",
        "    random_state=1,\n",
        "    n_jobs=-1\n",
        ")\n",
        "\n",
        "rf_model.fit(X_train, y_train)"
      ],
      "metadata": {
        "colab": {
          "base_uri": "https://localhost:8080/"
        },
        "id": "rNvt5y1vms15",
        "outputId": "57844735-5941-4dbd-8068-5ecf2ec47b19"
      },
      "execution_count": 14,
      "outputs": [
        {
          "output_type": "execute_result",
          "data": {
            "text/plain": [
              "RandomForestRegressor(n_estimators=10, n_jobs=-1, random_state=1)"
            ]
          },
          "metadata": {},
          "execution_count": 14
        }
      ]
    },
    {
      "cell_type": "markdown",
      "source": [
        "What's the RMSE of this model on validation?"
      ],
      "metadata": {
        "id": "6mq2vG0UtAou"
      }
    },
    {
      "cell_type": "code",
      "source": [
        "y_pred = rf_model.predict(X_dev)\n",
        "print(f\"RMSE on validation: {metrics.mean_squared_error(y_dev, y_pred, squared=False):.2f}\")"
      ],
      "metadata": {
        "colab": {
          "base_uri": "https://localhost:8080/"
        },
        "id": "MXiXrJoRs9nh",
        "outputId": "45d843c9-a22a-430a-d733-b72a06c52d52"
      },
      "execution_count": 15,
      "outputs": [
        {
          "output_type": "stream",
          "name": "stdout",
          "text": [
            "RMSE on validation: 0.25\n"
          ]
        }
      ]
    },
    {
      "cell_type": "markdown",
      "source": [
        "## **Question 3**"
      ],
      "metadata": {
        "id": "ZT7tWl-dvhZL"
      }
    },
    {
      "cell_type": "markdown",
      "source": [
        "**`n_estimators`**"
      ],
      "metadata": {
        "id": "wQ_aihFFy8TF"
      }
    },
    {
      "cell_type": "code",
      "source": [
        "estimator_range = list(range(10, 200, 10))\n",
        "errors = []\n",
        "for i in estimator_range:\n",
        "  rf_model = ensemble.RandomForestRegressor(\n",
        "    n_estimators=i,\n",
        "    random_state=1,\n",
        "    n_jobs=-1\n",
        "  )\n",
        "  rf_model.fit(X_train, y_train)\n",
        "  y_pred = rf_model.predict(X_dev)\n",
        "  err = metrics.mean_squared_error(y_dev, y_pred, squared=False)\n",
        "  errors.append(err)\n",
        "  print(f\"estimator: {i} --> error: {err:.3f}\")\n",
        "\n",
        "plt.figure()\n",
        "plt.plot(estimator_range, errors)\n",
        "plt.xlabel('n_estimators')\n",
        "plt.ylabel('Error')\n",
        "plt.show();"
      ],
      "metadata": {
        "colab": {
          "base_uri": "https://localhost:8080/",
          "height": 730
        },
        "id": "kmddPtgRu0nI",
        "outputId": "d2737736-3b2c-4b46-ccb0-db8d6270b273"
      },
      "execution_count": 16,
      "outputs": [
        {
          "output_type": "stream",
          "name": "stdout",
          "text": [
            "estimator: 10 --> error: 0.246\n",
            "estimator: 20 --> error: 0.239\n",
            "estimator: 30 --> error: 0.235\n",
            "estimator: 40 --> error: 0.234\n",
            "estimator: 50 --> error: 0.233\n",
            "estimator: 60 --> error: 0.233\n",
            "estimator: 70 --> error: 0.232\n",
            "estimator: 80 --> error: 0.232\n",
            "estimator: 90 --> error: 0.232\n",
            "estimator: 100 --> error: 0.232\n",
            "estimator: 110 --> error: 0.231\n",
            "estimator: 120 --> error: 0.232\n",
            "estimator: 130 --> error: 0.232\n",
            "estimator: 140 --> error: 0.232\n",
            "estimator: 150 --> error: 0.232\n",
            "estimator: 160 --> error: 0.232\n",
            "estimator: 170 --> error: 0.231\n",
            "estimator: 180 --> error: 0.232\n",
            "estimator: 190 --> error: 0.232\n"
          ]
        },
        {
          "output_type": "display_data",
          "data": {
            "text/plain": [
              "<Figure size 720x432 with 1 Axes>"
            ],
            "image/png": "[encoded data removed]"
          },
          "metadata": {
            "needs_background": "light"
          }
        }
      ]
    },
    {
      "cell_type": "markdown",
      "source": [
        "## **Question 4**\n",
        "\n",
        "**`max_depth`**"
      ],
      "metadata": {
        "id": "eHwLtiHczBtj"
      }
    },
    {
      "cell_type": "code",
      "source": [
        "depth_range = [10, 15, 20, 25]\n",
        "errors = []\n",
        "\n",
        "for depth in depth_range:\n",
        "  print(f\"{depth}:\")\n",
        "  for i in estimator_range:\n",
        "    rf_model = ensemble.RandomForestRegressor(\n",
        "        max_depth=depth,\n",
        "        n_estimators=i,\n",
        "        random_state=1,\n",
        "        n_jobs=-1\n",
        "    )\n",
        "    rf_model.fit(X_train, y_train)\n",
        "    y_pred = rf_model.predict(X_dev)\n",
        "    err = metrics.mean_squared_error(y_dev, y_pred, squared=False)\n",
        "    errors.append(err)\n",
        "    print(f\"estimator: {i} --> error: {err:.3f}\")\n",
        "  print(\"*-*-*\" * 20)"
      ],
      "metadata": {
        "colab": {
          "base_uri": "https://localhost:8080/"
        },
        "id": "0_R_7c6qxW4y",
        "outputId": "e917cd51-fdd9-452a-f658-cc600aeff911"
      },
      "execution_count": 17,
      "outputs": [
        {
          "output_type": "stream",
          "name": "stdout",
          "text": [
            "10:\n",
            "estimator: 10 --> error: 0.255\n",
            "estimator: 20 --> error: 0.253\n",
            "estimator: 30 --> error: 0.251\n",
            "estimator: 40 --> error: 0.251\n",
            "estimator: 50 --> error: 0.250\n",
            "estimator: 60 --> error: 0.250\n",
            "estimator: 70 --> error: 0.250\n",
            "estimator: 80 --> error: 0.250\n",
            "estimator: 90 --> error: 0.249\n",
            "estimator: 100 --> error: 0.249\n",
            "estimator: 110 --> error: 0.249\n",
            "estimator: 120 --> error: 0.249\n",
            "estimator: 130 --> error: 0.249\n",
            "estimator: 140 --> error: 0.249\n",
            "estimator: 150 --> error: 0.249\n",
            "estimator: 160 --> error: 0.249\n",
            "estimator: 170 --> error: 0.249\n",
            "estimator: 180 --> error: 0.249\n",
            "estimator: 190 --> error: 0.249\n",
            "*-*-**-*-**-*-**-*-**-*-**-*-**-*-**-*-**-*-**-*-**-*-**-*-**-*-**-*-**-*-**-*-**-*-**-*-**-*-**-*-*\n",
            "15:\n",
            "estimator: 10 --> error: 0.245\n",
            "estimator: 20 --> error: 0.239\n",
            "estimator: 30 --> error: 0.237\n",
            "estimator: 40 --> error: 0.236\n",
            "estimator: 50 --> error: 0.235\n",
            "estimator: 60 --> error: 0.235\n",
            "estimator: 70 --> error: 0.234\n",
            "estimator: 80 --> error: 0.234\n",
            "estimator: 90 --> error: 0.234\n",
            "estimator: 100 --> error: 0.234\n",
            "estimator: 110 --> error: 0.233\n",
            "estimator: 120 --> error: 0.233\n",
            "estimator: 130 --> error: 0.233\n",
            "estimator: 140 --> error: 0.233\n",
            "estimator: 150 --> error: 0.233\n",
            "estimator: 160 --> error: 0.233\n",
            "estimator: 170 --> error: 0.233\n",
            "estimator: 180 --> error: 0.233\n",
            "estimator: 190 --> error: 0.233\n",
            "*-*-**-*-**-*-**-*-**-*-**-*-**-*-**-*-**-*-**-*-**-*-**-*-**-*-**-*-**-*-**-*-**-*-**-*-**-*-**-*-*\n",
            "20:\n",
            "estimator: 10 --> error: 0.246\n",
            "estimator: 20 --> error: 0.238\n",
            "estimator: 30 --> error: 0.236\n",
            "estimator: 40 --> error: 0.235\n",
            "estimator: 50 --> error: 0.233\n",
            "estimator: 60 --> error: 0.233\n",
            "estimator: 70 --> error: 0.233\n",
            "estimator: 80 --> error: 0.233\n",
            "estimator: 90 --> error: 0.232\n",
            "estimator: 100 --> error: 0.232\n",
            "estimator: 110 --> error: 0.232\n",
            "estimator: 120 --> error: 0.232\n",
            "estimator: 130 --> error: 0.232\n",
            "estimator: 140 --> error: 0.232\n",
            "estimator: 150 --> error: 0.232\n",
            "estimator: 160 --> error: 0.232\n",
            "estimator: 170 --> error: 0.232\n",
            "estimator: 180 --> error: 0.232\n",
            "estimator: 190 --> error: 0.232\n",
            "*-*-**-*-**-*-**-*-**-*-**-*-**-*-**-*-**-*-**-*-**-*-**-*-**-*-**-*-**-*-**-*-**-*-**-*-**-*-**-*-*\n",
            "25:\n",
            "estimator: 10 --> error: 0.246\n",
            "estimator: 20 --> error: 0.239\n",
            "estimator: 30 --> error: 0.236\n",
            "estimator: 40 --> error: 0.235\n",
            "estimator: 50 --> error: 0.233\n",
            "estimator: 60 --> error: 0.233\n",
            "estimator: 70 --> error: 0.232\n",
            "estimator: 80 --> error: 0.232\n",
            "estimator: 90 --> error: 0.232\n",
            "estimator: 100 --> error: 0.232\n",
            "estimator: 110 --> error: 0.231\n",
            "estimator: 120 --> error: 0.231\n",
            "estimator: 130 --> error: 0.232\n",
            "estimator: 140 --> error: 0.231\n",
            "estimator: 150 --> error: 0.232\n",
            "estimator: 160 --> error: 0.231\n",
            "estimator: 170 --> error: 0.231\n",
            "estimator: 180 --> error: 0.232\n",
            "estimator: 190 --> error: 0.232\n",
            "*-*-**-*-**-*-**-*-**-*-**-*-**-*-**-*-**-*-**-*-**-*-**-*-**-*-**-*-**-*-**-*-**-*-**-*-**-*-**-*-*\n"
          ]
        }
      ]
    },
    {
      "cell_type": "markdown",
      "source": [
        "Best max_depth=25 with n_estimators=110"
      ],
      "metadata": {
        "id": "_YHzuywm26ZX"
      }
    },
    {
      "cell_type": "markdown",
      "source": [
        "## **Question 5**"
      ],
      "metadata": {
        "id": "oOuULvCl3E0q"
      }
    },
    {
      "cell_type": "code",
      "source": [
        "rf_model = ensemble.RandomForestRegressor(\n",
        "    n_estimators=10,\n",
        "    max_depth=20,\n",
        "    random_state=1,\n",
        "    n_jobs=-1\n",
        ")\n",
        "\n",
        "rf_model.fit(X_train, y_train)\n",
        "\n",
        "importance_df = pd.DataFrame({\n",
        "    'feature': dv.get_feature_names(),\n",
        "    'importance': rf_model.feature_importances_\n",
        "}).sort_values('importance', ascending=False)\n",
        "\n",
        "importance_df"
      ],
      "metadata": {
        "colab": {
          "base_uri": "https://localhost:8080/",
          "height": 457
        },
        "id": "umnnSKF31O-u",
        "outputId": "24245e15-757f-452c-f2b6-350642459dec"
      },
      "execution_count": 18,
      "outputs": [
        {
          "output_type": "execute_result",
          "data": {
            "text/plain": [
              "                       feature  importance\n",
              "4                median_income    0.363326\n",
              "6       ocean_proximity=INLAND    0.310901\n",
              "2                     latitude    0.101256\n",
              "3                    longitude    0.096470\n",
              "1           housing_median_age    0.033145\n",
              "10                  population    0.030777\n",
              "12                 total_rooms    0.020541\n",
              "11              total_bedrooms    0.019172\n",
              "0                   households    0.016387\n",
              "9   ocean_proximity=NEAR OCEAN    0.004699\n",
              "5    ocean_proximity=<1H OCEAN    0.002489\n",
              "8     ocean_proximity=NEAR BAY    0.000480\n",
              "7       ocean_proximity=ISLAND    0.000357"
            ],
            "text/html": [
              "\n",
              "  <div id=\"df-ac9a8469-9734-453a-aadc-a6b5bf4789ab\">\n",
              "    <div class=\"colab-df-container\">\n",
              "      <div>\n",
              "<style scoped>\n",
              "    .dataframe tbody tr th:only-of-type {\n",
              "        vertical-align: middle;\n",
              "    }\n",
              "\n",
              "    .dataframe tbody tr th {\n",
              "        vertical-align: top;\n",
              "    }\n",
              "\n",
              "    .dataframe thead th {\n",
              "        text-align: right;\n",
              "    }\n",
              "</style>\n",
              "<table border=\"1\" class=\"dataframe\">\n",
              "  <thead>\n",
              "    <tr style=\"text-align: right;\">\n",
              "      <th></th>\n",
              "      <th>feature</th>\n",
              "      <th>importance</th>\n",
              "    </tr>\n",
              "  </thead>\n",
              "  <tbody>\n",
              "    <tr>\n",
              "      <th>4</th>\n",
              "      <td>median_income</td>\n",
              "      <td>0.363326</td>\n",
              "    </tr>\n",
              "    <tr>\n",
              "      <th>6</th>\n",
              "      <td>ocean_proximity=INLAND</td>\n",
              "      <td>0.310901</td>\n",
              "    </tr>\n",
              "    <tr>\n",
              "      <th>2</th>\n",
              "      <td>latitude</td>\n",
              "      <td>0.101256</td>\n",
              "    </tr>\n",
              "    <tr>\n",
              "      <th>3</th>\n",
              "      <td>longitude</td>\n",
              "      <td>0.096470</td>\n",
              "    </tr>\n",
              "    <tr>\n",
              "      <th>1</th>\n",
              "      <td>housing_median_age</td>\n",
              "      <td>0.033145</td>\n",
              "    </tr>\n",
              "    <tr>\n",
              "      <th>10</th>\n",
              "      <td>population</td>\n",
              "      <td>0.030777</td>\n",
              "    </tr>\n",
              "    <tr>\n",
              "      <th>12</th>\n",
              "      <td>total_rooms</td>\n",
              "      <td>0.020541</td>\n",
              "    </tr>\n",
              "    <tr>\n",
              "      <th>11</th>\n",
              "      <td>total_bedrooms</td>\n",
              "      <td>0.019172</td>\n",
              "    </tr>\n",
              "    <tr>\n",
              "      <th>0</th>\n",
              "      <td>households</td>\n",
              "      <td>0.016387</td>\n",
              "    </tr>\n",
              "    <tr>\n",
              "      <th>9</th>\n",
              "      <td>ocean_proximity=NEAR OCEAN</td>\n",
              "      <td>0.004699</td>\n",
              "    </tr>\n",
              "    <tr>\n",
              "      <th>5</th>\n",
              "      <td>ocean_proximity=&lt;1H OCEAN</td>\n",
              "      <td>0.002489</td>\n",
              "    </tr>\n",
              "    <tr>\n",
              "      <th>8</th>\n",
              "      <td>ocean_proximity=NEAR BAY</td>\n",
              "      <td>0.000480</td>\n",
              "    </tr>\n",
              "    <tr>\n",
              "      <th>7</th>\n",
              "      <td>ocean_proximity=ISLAND</td>\n",
              "      <td>0.000357</td>\n",
              "    </tr>\n",
              "  </tbody>\n",
              "</table>\n",
              "</div>\n",
              "      <button class=\"colab-df-convert\" onclick=\"convertToInteractive('df-ac9a8469-9734-453a-aadc-a6b5bf4789ab')\"\n",
              "              title=\"Convert this dataframe to an interactive table.\"\n",
              "              style=\"display:none;\">\n",
              "        \n",
              "  <svg xmlns=\"http://www.w3.org/2000/svg\" height=\"24px\"viewBox=\"0 0 24 24\"\n",
              "       width=\"24px\">\n",
              "    <path d=\"M0 0h24v24H0V0z\" fill=\"none\"/>\n",
              "    <path d=\"M18.56 5.44l.94 2.06.94-2.06 2.06-.94-2.06-.94-.94-2.06-.94 2.06-2.06.94zm-11 1L8.5 8.5l.94-2.06 2.06-.94-2.06-.94L8.5 2.5l-.94 2.06-2.06.94zm10 10l.94 2.06.94-2.06 2.06-.94-2.06-.94-.94-2.06-.94 2.06-2.06.94z\"/><path d=\"M17.41 7.96l-1.37-1.37c-.4-.4-.92-.59-1.43-.59-.52 0-1.04.2-1.43.59L10.3 9.45l-7.72 7.72c-.78.78-.78 2.05 0 2.83L4 21.41c.39.39.9.59 1.41.59.51 0 1.02-.2 1.41-.59l7.78-7.78 2.81-2.81c.8-.78.8-2.07 0-2.86zM5.41 20L4 18.59l7.72-7.72 1.47 1.35L5.41 20z\"/>\n",
              "  </svg>\n",
              "      </button>\n",
              "      \n",
              "  <style>\n",
              "    .colab-df-container {\n",
              "      display:flex;\n",
              "      flex-wrap:wrap;\n",
              "      gap: 12px;\n",
              "    }\n",
              "\n",
              "    .colab-df-convert {\n",
              "      background-color: #E8F0FE;\n",
              "      border: none;\n",
              "      border-radius: 50%;\n",
              "      cursor: pointer;\n",
              "      display: none;\n",
              "      fill: #1967D2;\n",
              "      height: 32px;\n",
              "      padding: 0 0 0 0;\n",
              "      width: 32px;\n",
              "    }\n",
              "\n",
              "    .colab-df-convert:hover {\n",
              "      background-color: #E2EBFA;\n",
              "      box-shadow: 0px 1px 2px rgba(60, 64, 67, 0.3), 0px 1px 3px 1px rgba(60, 64, 67, 0.15);\n",
              "      fill: #174EA6;\n",
              "    }\n",
              "\n",
              "    [theme=dark] .colab-df-convert {\n",
              "      background-color: #3B4455;\n",
              "      fill: #D2E3FC;\n",
              "    }\n",
              "\n",
              "    [theme=dark] .colab-df-convert:hover {\n",
              "      background-color: #434B5C;\n",
              "      box-shadow: 0px 1px 3px 1px rgba(0, 0, 0, 0.15);\n",
              "      filter: drop-shadow(0px 1px 2px rgba(0, 0, 0, 0.3));\n",
              "      fill: #FFFFFF;\n",
              "    }\n",
              "  </style>\n",
              "\n",
              "      <script>\n",
              "        const buttonEl =\n",
              "          document.querySelector('#df-ac9a8469-9734-453a-aadc-a6b5bf4789ab button.colab-df-convert');\n",
              "        buttonEl.style.display =\n",
              "          google.colab.kernel.accessAllowed ? 'block' : 'none';\n",
              "\n",
              "        async function convertToInteractive(key) {\n",
              "          const element = document.querySelector('#df-ac9a8469-9734-453a-aadc-a6b5bf4789ab');\n",
              "          const dataTable =\n",
              "            await google.colab.kernel.invokeFunction('convertToInteractive',\n",
              "                                                     [key], {});\n",
              "          if (!dataTable) return;\n",
              "\n",
              "          const docLinkHtml = 'Like what you see? Visit the ' +\n",
              "            '<a target=\"_blank\" href=https://colab.research.google.com/notebooks/data_table.ipynb>data table notebook</a>'\n",
              "            + ' to learn more about interactive tables.';\n",
              "          element.innerHTML = '';\n",
              "          dataTable['output_type'] = 'display_data';\n",
              "          await google.colab.output.renderOutput(dataTable, element);\n",
              "          const docLink = document.createElement('div');\n",
              "          docLink.innerHTML = docLinkHtml;\n",
              "          element.appendChild(docLink);\n",
              "        }\n",
              "      </script>\n",
              "    </div>\n",
              "  </div>\n",
              "  "
            ]
          },
          "metadata": {},
          "execution_count": 18
        }
      ]
    },
    {
      "cell_type": "code",
      "source": [
        "plt.title('Feature Importance')\n",
        "sns.barplot(data=importance_df.head(10), x='importance', y='feature');"
      ],
      "metadata": {
        "colab": {
          "base_uri": "https://localhost:8080/",
          "height": 421
        },
        "id": "54fS6cEv3zlu",
        "outputId": "946cdcf1-80a5-4886-da6a-52187b765b2c"
      },
      "execution_count": 19,
      "outputs": [
        {
          "output_type": "display_data",
          "data": {
            "text/plain": [
              "<Figure size 720x432 with 1 Axes>"
            ],
            "image/png": "[encoded data removed]"
          },
          "metadata": {
            "needs_background": "light"
          }
        }
      ]
    },
    {
      "cell_type": "markdown",
      "source": [
        "## **Question6**"
      ],
      "metadata": {
        "id": "ywPivxFP42fV"
      }
    },
    {
      "cell_type": "markdown",
      "source": [
        "#### Eta=0.3"
      ],
      "metadata": {
        "id": "NeOOQhTV8nWt"
      }
    },
    {
      "cell_type": "code",
      "source": [
        "import xgboost as xgb \n",
        "\n",
        "\n",
        "dv.feature_names_ = ['households',\n",
        " 'housing_median_age',\n",
        " 'latitude',\n",
        " 'longitude',\n",
        " 'median_income',\n",
        " 'ocean_proximity=less1H OCEAN',\n",
        " 'ocean_proximity=INLAND',\n",
        " 'ocean_proximity=ISLAND',\n",
        " 'ocean_proximity=NEAR BAY',\n",
        " 'ocean_proximity=NEAR OCEAN',\n",
        " 'population',\n",
        " 'total_bedrooms',\n",
        " 'total_rooms'\n",
        " ]\n",
        "\n",
        "dtrain = xgb.DMatrix(\n",
        "    X_train, \n",
        "    label=y_train, \n",
        "    feature_names=dv.feature_names_,\n",
        ")\n",
        "\n",
        "\n",
        "dval = xgb.DMatrix(\n",
        "    X_dev,\n",
        "    label=y_dev,\n",
        "    feature_names=dv.feature_names_,\n",
        ")\n",
        "\n",
        "\n",
        "xgb_params = {\n",
        "    'eta': 0.3, \n",
        "    'max_depth': 6,\n",
        "    'min_child_weight': 1,\n",
        "    'objective': 'reg:squarederror',\n",
        "    'nthread': 8,\n",
        "    'seed': 1,\n",
        "    'verbosity': 1,\n",
        "}\n",
        "\n",
        "model = xgb.train(\n",
        "    xgb_params,\n",
        "    dtrain,\n",
        "    num_boost_round=100\n",
        ")"
      ],
      "metadata": {
        "id": "1v8C7EV04GO1"
      },
      "execution_count": 20,
      "outputs": []
    },
    {
      "cell_type": "code",
      "source": [
        "y_pred = model.predict(dval)\n",
        "metrics.mean_squared_error(y_dev, y_pred, squared=False)"
      ],
      "metadata": {
        "colab": {
          "base_uri": "https://localhost:8080/"
        },
        "id": "9Nnf9jV75OZc",
        "outputId": "734b52c1-fcfb-4ae4-ad9a-5e4b0f17edbc"
      },
      "execution_count": 21,
      "outputs": [
        {
          "output_type": "execute_result",
          "data": {
            "text/plain": [
              "0.22609578268142666"
            ]
          },
          "metadata": {},
          "execution_count": 21
        }
      ]
    },
    {
      "cell_type": "markdown",
      "source": [
        "#### Eta=0.1"
      ],
      "metadata": {
        "id": "63sahLwu77nj"
      }
    },
    {
      "cell_type": "code",
      "source": [
        "xgb_params = {\n",
        "    'eta': 0.1, \n",
        "    'max_depth': 6,\n",
        "    'min_child_weight': 1,\n",
        "    'objective': 'reg:squarederror',\n",
        "    'nthread': 8,\n",
        "    'seed': 1,\n",
        "    'verbosity': 1,\n",
        "}\n",
        "\n",
        "model = xgb.train(\n",
        "    xgb_params,\n",
        "    dtrain,\n",
        "    num_boost_round=100\n",
        ")\n",
        "\n",
        "y_pred = model.predict(dval)\n",
        "metrics.mean_squared_error(y_dev, y_pred, squared=False)"
      ],
      "metadata": {
        "colab": {
          "base_uri": "https://localhost:8080/"
        },
        "id": "XShfkTD98Bi7",
        "outputId": "2c7fa15e-56ae-483b-bc57-a2a2ed628442"
      },
      "execution_count": 22,
      "outputs": [
        {
          "output_type": "execute_result",
          "data": {
            "text/plain": [
              "0.2305416080901341"
            ]
          },
          "metadata": {},
          "execution_count": 22
        }
      ]
    },
    {
      "cell_type": "markdown",
      "source": [
        "#### Eta=0.01"
      ],
      "metadata": {
        "id": "0B5qjGxE8Pu3"
      }
    },
    {
      "cell_type": "code",
      "source": [
        "xgb_params = {\n",
        "    'eta': 0.01, \n",
        "    'max_depth': 6,\n",
        "    'min_child_weight': 1,\n",
        "    'objective': 'reg:squarederror',\n",
        "    'nthread': 8,\n",
        "    'seed': 1,\n",
        "    'verbosity': 1,\n",
        "}\n",
        "\n",
        "model = xgb.train(\n",
        "    xgb_params,\n",
        "    dtrain,\n",
        "    num_boost_round=100\n",
        ")\n",
        "\n",
        "y_pred = model.predict(dval)\n",
        "metrics.mean_squared_error(y_dev, y_pred, squared=False)"
      ],
      "metadata": {
        "colab": {
          "base_uri": "https://localhost:8080/"
        },
        "id": "-fK9yB-Y8NG7",
        "outputId": "e2f9b3ab-13eb-46de-f14d-a1f57593e43a"
      },
      "execution_count": 23,
      "outputs": [
        {
          "output_type": "execute_result",
          "data": {
            "text/plain": [
              "4.264960724590359"
            ]
          },
          "metadata": {},
          "execution_count": 23
        }
      ]
    },
    {
      "cell_type": "markdown",
      "source": [
        "Eta=0.3 is the best param"
      ],
      "metadata": {
        "id": "bPnFNN5F8r_s"
      }
    }
  ]
}