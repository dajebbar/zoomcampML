{
 "cells": [
  {
   "cell_type": "markdown",
   "id": "872a7b26",
   "metadata": {},
   "source": [
    "# Deployment"
   ]
  },
  {
   "cell_type": "markdown",
   "id": "b27014ef",
   "metadata": {},
   "source": [
    "## **Question 1**  \n",
    "What's the version of pipenv you installed?"
   ]
  },
  {
   "cell_type": "markdown",
   "id": "5e722cf1",
   "metadata": {},
   "source": [
    "![pipenv version](img/1-version.png)"
   ]
  },
  {
   "cell_type": "markdown",
   "id": "27189a90",
   "metadata": {},
   "source": [
    "## **Question 2**  \n",
    "What's the first hash for scikit-learn you get in Pipfile.lock?\n"
   ]
  },
  {
   "cell_type": "markdown",
   "id": "ab74e66c",
   "metadata": {},
   "source": [
    "![sklearn-hash](img/sklearn.png)"
   ]
  },
  {
   "cell_type": "markdown",
   "id": "ed4b43c9",
   "metadata": {},
   "source": [
    "# Models"
   ]
  },
  {
   "cell_type": "markdown",
   "id": "f4ae7c40",
   "metadata": {},
   "source": [
    "## ** Question 3**  \n",
    "Write a script for loading these models with pickle\n",
    "\n",
    "[link to the script](predict.py)"
   ]
  },
  {
   "cell_type": "markdown",
   "id": "1cc29b07",
   "metadata": {},
   "source": [
    "```\n",
    "    with open('dv.bin', 'rb') as dv_in, open('model1.bin', 'rb') as model_in:\n",
    "    \n",
    "        dv = pickle.load(dv_in)\n",
    "        model = pickle.load(model_in)\n",
    "\n",
    "    def score_client(client):\n",
    "    \n",
    "        X = dv.transform([client])\n",
    "        return model.predict_proba(X)[0,1]\n",
    "    \n",
    "    if __name__=='__main__':\n",
    "    \n",
    "        client = {\"reports\": 0, \"share\": 0.001694, \"expenditure\": 0.12, \"owner\": \"yes\"}\n",
    "        print(score_client(client))\n",
    "\n",
    "\n",
    "```"
   ]
  },
  {
   "cell_type": "markdown",
   "id": "fb402c15",
   "metadata": {},
   "source": [
    "What's the probability that this client will get a credit card?\n",
    "\n",
    "![proba_client1](img/client1.png)"
   ]
  },
  {
   "cell_type": "markdown",
   "id": "549d0d2b",
   "metadata": {},
   "source": [
    "## **Question 4**  \n",
    "Write Flask code for serving the model\n",
    "[link to the script](predict.py)"
   ]
  },
  {
   "cell_type": "markdown",
   "id": "6141fcdc",
   "metadata": {},
   "source": [
    "``` \n",
    "    #!/usr/bin/env python\n",
    "    # coding: utf-8\n",
    "\n",
    "    import pickle\n",
    "    from flask import (\n",
    "        Flask,\n",
    "        request,\n",
    "        jsonify\n",
    "    )\n",
    "\n",
    "\n",
    "    app = Flask(__name__)\n",
    "\n",
    "    with open('dv.bin', 'rb') as dv_in, open('model1.bin', 'rb') as model_in:\n",
    "        dv = pickle.load(dv_in)\n",
    "        model = pickle.load(model_in)\n",
    "\n",
    "    def score_client(client):\n",
    "        X = dv.transform([client])\n",
    "        return model.predict_proba(X)[0,1]\n",
    "\n",
    "    @app.route('/predict', methods=['POST'])\n",
    "    def predict():\n",
    "        client = request.get_json()\n",
    "        y_pred = score_client(client)\n",
    "\n",
    "        card = y_pred >= .5\n",
    "\n",
    "        return jsonify({\n",
    "            'card_probability': float(y_pred.round(3)),\n",
    "            'card': bool(card)\n",
    "        })\n",
    "\n",
    "    if __name__=='__main__':\n",
    "        app.run(debug=True, host='0.0.0.0', port=9696)\n",
    "        \n",
    "\n",
    "```"
   ]
  },
  {
   "cell_type": "markdown",
   "id": "9840bda0",
   "metadata": {},
   "source": [
    "Score the client using requests:\n",
    "[link to the code](test_predict.py)"
   ]
  },
  {
   "cell_type": "markdown",
   "id": "8b9586d2",
   "metadata": {},
   "source": [
    "![client2_score](img/client2.png)"
   ]
  },
  {
   "cell_type": "markdown",
   "id": "7717bbc7",
   "metadata": {},
   "source": [
    "# Docker"
   ]
  },
  {
   "cell_type": "markdown",
   "id": "d22e597b",
   "metadata": {},
   "source": [
    "Download the base image svizor/zoomcamp-model:3.9.12-slim. You can easily make it by using docker pull command.\n",
    "\n",
    "So what's the size of this base image?"
   ]
  },
  {
   "cell_type": "markdown",
   "id": "0f02d151",
   "metadata": {},
   "source": [
    "![size docker img](img/size.png)"
   ]
  },
  {
   "cell_type": "markdown",
   "id": "61d5c67a",
   "metadata": {},
   "source": [
    "# Dockerfile"
   ]
  },
  {
   "cell_type": "markdown",
   "id": "e1c0310a",
   "metadata": {},
   "source": [
    "create your own Dockerfile based on the image we prepared."
   ]
  },
  {
   "cell_type": "markdown",
   "id": "88b1ae7c",
   "metadata": {},
   "source": [
    "![new docker image](img/docker-img.png)\n",
    "\n",
    "[link to dockerfile](Dockerfile)"
   ]
  },
  {
   "cell_type": "markdown",
   "id": "b1c82fd9",
   "metadata": {},
   "source": [
    "## **Question 6**\n",
    " run your docker container!"
   ]
  },
  {
   "cell_type": "markdown",
   "id": "2b1eb12b",
   "metadata": {},
   "source": [
    "![container](img/docker-container.png)"
   ]
  },
  {
   "cell_type": "code",
   "execution_count": null,
   "id": "604bb25d",
   "metadata": {},
   "outputs": [],
   "source": []
  }
 ],
 "metadata": {
  "kernelspec": {
   "display_name": "Python 3 (ipykernel)",
   "language": "python",
   "name": "python3"
  },
  "language_info": {
   "codemirror_mode": {
    "name": "ipython",
    "version": 3
   },
   "file_extension": ".py",
   "mimetype": "text/x-python",
   "name": "python",
   "nbconvert_exporter": "python",
   "pygments_lexer": "ipython3",
   "version": "3.9.12"
  }
 },
 "nbformat": 4,
 "nbformat_minor": 5
}
