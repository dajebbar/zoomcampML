{
 "cells": [
  {
   "cell_type": "markdown",
   "id": "88cb25d1",
   "metadata": {},
   "source": [
    "# Deployment"
   ]
  },
  {
   "cell_type": "markdown",
   "id": "d8617a5e",
   "metadata": {},
   "source": [
    "## **Question 1**  \n",
    "What's the version of pipenv you installed?"
   ]
  },
  {
   "cell_type": "markdown",
   "id": "b555b910",
   "metadata": {},
   "source": [
    "![pipenv version](img/1-version.png)"
   ]
  },
  {
   "cell_type": "markdown",
   "id": "18be2c50",
   "metadata": {},
   "source": [
    "## **Question 2**  \n",
    "What's the first hash for scikit-learn you get in Pipfile.lock?\n"
   ]
  },
  {
   "cell_type": "markdown",
   "id": "04baccb4",
   "metadata": {},
   "source": [
    "![sklearn-hash](img/sklearn.png)"
   ]
  },
  {
   "cell_type": "markdown",
   "id": "2b1607db",
   "metadata": {},
   "source": [
    "# Models"
   ]
  },
  {
   "cell_type": "markdown",
   "id": "4af8dc66",
   "metadata": {},
   "source": [
    "## ** Question 3**  \n",
    "Write a script for loading these models with pickle\n",
    "\n",
    "[link to the script](Q3.py)"
   ]
  },
  {
   "cell_type": "markdown",
   "id": "f30552db",
   "metadata": {},
   "source": [
    "```\n",
    "    with open('dv.bin', 'rb') as dv_in, open('model1.bin', 'rb') as model_in:\n",
    "    \n",
    "        dv = pickle.load(dv_in)\n",
    "        model = pickle.load(model_in)\n",
    "\n",
    "    def score_client(client):\n",
    "    \n",
    "        X = dv.transform([client])\n",
    "        return model.predict_proba(X)[0,1]\n",
    "    \n",
    "    if __name__=='__main__':\n",
    "    \n",
    "        client = {\"reports\": 0, \"share\": 0.001694, \"expenditure\": 0.12, \"owner\": \"yes\"}\n",
    "        print(score_client(client))\n",
    "\n",
    "\n",
    "```"
   ]
  },
  {
   "cell_type": "markdown",
   "id": "277292db",
   "metadata": {},
   "source": [
    "What's the probability that this client will get a credit card?\n",
    "\n",
    "![proba_client1](img/client1.png)"
   ]
  },
  {
   "cell_type": "markdown",
   "id": "42860a7e",
   "metadata": {},
   "source": [
    "## **Question 4**  \n",
    "Write Flask code for serving the model\n",
    "[link to the script](predict.py)"
   ]
  },
  {
   "cell_type": "markdown",
   "id": "6a87aece",
   "metadata": {},
   "source": [
    "``` \n",
    "    #!/usr/bin/env python\n",
    "    # coding: utf-8\n",
    "\n",
    "    import pickle\n",
    "    from flask import (\n",
    "        Flask,\n",
    "        request,\n",
    "        jsonify\n",
    "    )\n",
    "\n",
    "\n",
    "    app = Flask(__name__)\n",
    "\n",
    "    with open('dv.bin', 'rb') as dv_in, open('model1.bin', 'rb') as model_in:\n",
    "        dv = pickle.load(dv_in)\n",
    "        model = pickle.load(model_in)\n",
    "\n",
    "    def score_client(client):\n",
    "        X = dv.transform([client])\n",
    "        return model.predict_proba(X)[0,1]\n",
    "\n",
    "    @app.route('/predict', methods=['POST'])\n",
    "    def predict():\n",
    "        client = request.get_json()\n",
    "        y_pred = score_client(client)\n",
    "\n",
    "        card = y_pred >= .5\n",
    "\n",
    "        return jsonify({\n",
    "            'card_probability': float(y_pred.round(3)),\n",
    "            'card': bool(card)\n",
    "        })\n",
    "\n",
    "    if __name__=='__main__':\n",
    "        app.run(debug=True, host='0.0.0.0', port=9696)\n",
    "        \n",
    "\n",
    "```"
   ]
  },
  {
   "cell_type": "markdown",
   "id": "5f15237b",
   "metadata": {},
   "source": [
    "Score the client using requests:\n",
    "[link to the code](test_predict.py)"
   ]
  },
  {
   "cell_type": "markdown",
   "id": "5e20a8d0",
   "metadata": {},
   "source": [
    "![client2_score](img/client2.png)"
   ]
  },
  {
   "cell_type": "markdown",
   "id": "257e927c",
   "metadata": {},
   "source": [
    "# Docker"
   ]
  },
  {
   "cell_type": "markdown",
   "id": "2fe6093a",
   "metadata": {},
   "source": [
    "Download the base image svizor/zoomcamp-model:3.9.12-slim. You can easily make it by using docker pull command.\n",
    "\n",
    "So what's the size of this base image?"
   ]
  },
  {
   "cell_type": "markdown",
   "id": "10b47add",
   "metadata": {},
   "source": [
    "![size docker img](img/size.png)"
   ]
  },
  {
   "cell_type": "markdown",
   "id": "aeb365e7",
   "metadata": {},
   "source": [
    "# Dockerfile"
   ]
  },
  {
   "cell_type": "markdown",
   "id": "0ba8229d",
   "metadata": {},
   "source": [
    "create your own Dockerfile based on the image we prepared."
   ]
  },
  {
   "cell_type": "markdown",
   "id": "aab4e3d4",
   "metadata": {},
   "source": [
    "![new docker image](img/docker-img.png)\n",
    "\n",
    "[link to dockerfile](Dockerfile)"
   ]
  },
  {
   "cell_type": "markdown",
   "id": "fc68737e",
   "metadata": {},
   "source": [
    "## **Question 6**\n",
    " run your docker container!"
   ]
  },
  {
   "cell_type": "markdown",
   "id": "a9538435",
   "metadata": {},
   "source": [
    "![container](img/docker-container.png)"
   ]
  },
  {
   "cell_type": "markdown",
   "id": "f39fbdfc",
   "metadata": {},
   "source": [
    "![client2_score](img/client2.png)"
   ]
  },
  {
   "cell_type": "code",
   "execution_count": null,
   "id": "5ad80ce0",
   "metadata": {},
   "outputs": [],
   "source": []
  }
 ],
 "metadata": {
  "kernelspec": {
   "display_name": "Python 3 (ipykernel)",
   "language": "python",
   "name": "python3"
  },
  "language_info": {
   "codemirror_mode": {
    "name": "ipython",
    "version": 3
   },
   "file_extension": ".py",
   "mimetype": "text/x-python",
   "name": "python",
   "nbconvert_exporter": "python",
   "pygments_lexer": "ipython3",
   "version": "3.9.12"
  }
 },
 "nbformat": 4,
 "nbformat_minor": 5
}
