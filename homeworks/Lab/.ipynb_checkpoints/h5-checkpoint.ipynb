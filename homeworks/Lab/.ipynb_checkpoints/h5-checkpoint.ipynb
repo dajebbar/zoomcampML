{
 "cells": [
  {
   "cell_type": "markdown",
   "id": "d1ad8bf4",
   "metadata": {},
   "source": [
    "# Deployment"
   ]
  },
  {
   "cell_type": "markdown",
   "id": "9602a090",
   "metadata": {},
   "source": [
    "## **Question 1**  \n",
    "What's the version of pipenv you installed?"
   ]
  },
  {
   "cell_type": "markdown",
   "id": "f272a7c1",
   "metadata": {},
   "source": [
    "![pipenv version](img/1-version.png)"
   ]
  },
  {
   "cell_type": "markdown",
   "id": "c0672351",
   "metadata": {},
   "source": [
    "## **Question 2**  \n",
    "What's the first hash for scikit-learn you get in Pipfile.lock?\n"
   ]
  },
  {
   "cell_type": "markdown",
   "id": "fb44164b",
   "metadata": {},
   "source": [
    "![sklearn-hash](img/sklearn.png)"
   ]
  },
  {
   "cell_type": "markdown",
   "id": "9f690fec",
   "metadata": {},
   "source": [
    "# Models"
   ]
  },
  {
   "cell_type": "markdown",
   "id": "5fe1c799",
   "metadata": {},
   "source": [
    "## ** Question 3**  \n",
    "Write a script for loading these models with pickle\n",
    "\n",
    "[link to the script](predict.py)"
   ]
  },
  {
   "cell_type": "markdown",
   "id": "6e18be9b",
   "metadata": {},
   "source": [
    "```\n",
    "    with open('dv.bin', 'rb') as dv_in, open('model1.bin', 'rb') as model_in:\n",
    "    \n",
    "        dv = pickle.load(dv_in)\n",
    "        model = pickle.load(model_in)\n",
    "\n",
    "    def score_client(client):\n",
    "    \n",
    "        X = dv.transform([client])\n",
    "        return model.predict_proba(X)[0,1]\n",
    "    \n",
    "    if __name__=='__main__':\n",
    "    \n",
    "        client = {\"reports\": 0, \"share\": 0.001694, \"expenditure\": 0.12, \"owner\": \"yes\"}\n",
    "        print(score_client(client))\n",
    "\n",
    "\n",
    "```"
   ]
  },
  {
   "cell_type": "markdown",
   "id": "2c9c4f9f",
   "metadata": {},
   "source": [
    "What's the probability that this client will get a credit card?\n",
    "\n",
    "![proba_client1](img/client1.png)"
   ]
  },
  {
   "cell_type": "markdown",
   "id": "8dbc96bf",
   "metadata": {},
   "source": [
    "## **Question 4**  \n",
    "Write Flask code for serving the model\n",
    "[link to the script](predict.py)"
   ]
  },
  {
   "cell_type": "markdown",
   "id": "e4be0315",
   "metadata": {},
   "source": [
    "``` \n",
    "    #!/usr/bin/env python\n",
    "    # coding: utf-8\n",
    "\n",
    "    import pickle\n",
    "    from flask import (\n",
    "        Flask,\n",
    "        request,\n",
    "        jsonify\n",
    "    )\n",
    "\n",
    "\n",
    "    app = Flask(__name__)\n",
    "\n",
    "    with open('dv.bin', 'rb') as dv_in, open('model1.bin', 'rb') as model_in:\n",
    "        dv = pickle.load(dv_in)\n",
    "        model = pickle.load(model_in)\n",
    "\n",
    "    def score_client(client):\n",
    "        X = dv.transform([client])\n",
    "        return model.predict_proba(X)[0,1]\n",
    "\n",
    "    @app.route('/predict', methods=['POST'])\n",
    "    def predict():\n",
    "        client = request.get_json()\n",
    "        y_pred = score_client(client)\n",
    "\n",
    "        card = y_pred >= .5\n",
    "\n",
    "        return jsonify({\n",
    "            'card_probability': float(y_pred.round(3)),\n",
    "            'card': bool(card)\n",
    "        })\n",
    "\n",
    "    if __name__=='__main__':\n",
    "        app.run(debug=True, host='0.0.0.0', port=9696)\n",
    "        \n",
    "\n",
    "```"
   ]
  },
  {
   "cell_type": "markdown",
   "id": "7d16d51d",
   "metadata": {},
   "source": [
    "Score the client using requests:\n",
    "[link to the code](test_predict.py)"
   ]
  },
  {
   "cell_type": "markdown",
   "id": "c19fcc8c",
   "metadata": {},
   "source": [
    "![](img/client2.png)"
   ]
  }
 ],
 "metadata": {
  "kernelspec": {
   "display_name": "Python 3 (ipykernel)",
   "language": "python",
   "name": "python3"
  },
  "language_info": {
   "codemirror_mode": {
    "name": "ipython",
    "version": 3
   },
   "file_extension": ".py",
   "mimetype": "text/x-python",
   "name": "python",
   "nbconvert_exporter": "python",
   "pygments_lexer": "ipython3",
   "version": "3.9.12"
  }
 },
 "nbformat": 4,
 "nbformat_minor": 5
}
