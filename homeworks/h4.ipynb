{
  "nbformat": 4,
  "nbformat_minor": 0,
  "metadata": {
    "colab": {
      "provenance": []
    },
    "kernelspec": {
      "name": "python3",
      "display_name": "Python 3"
    },
    "language_info": {
      "name": "python"
    }
  },
  "cells": [
    {
      "cell_type": "code",
      "execution_count": 1,
      "metadata": {
        "id": "5q17w_gCX1zg"
      },
      "outputs": [],
      "source": [
        "import pandas as pd\n",
        "import numpy as np\n",
        "import matplotlib.pyplot as plt\n",
        "import seaborn as sns\n",
        "import missingno as msno\n",
        "plt.style.use('ggplot')"
      ]
    },
    {
      "cell_type": "markdown",
      "source": [
        "# Preparing Data"
      ],
      "metadata": {
        "id": "uBsKJBKEYdz8"
      }
    },
    {
      "cell_type": "code",
      "source": [
        "fp = ('https://raw.githubusercontent.com/alexeygrigorev/datasets'\n",
        "      '/master/AER_credit_card_data.csv')\n",
        "\n",
        "df = pd.read_csv(fp)\n",
        "df.sample(n=5)"
      ],
      "metadata": {
        "colab": {
          "base_uri": "https://localhost:8080/",
          "height": 206
        },
        "id": "Z-g2WN_VYWij",
        "outputId": "bcfddaee-37e3-4267-b646-b26d3376b16c"
      },
      "execution_count": 2,
      "outputs": [
        {
          "output_type": "execute_result",
          "data": {
            "text/plain": [
              "    card  reports       age  income     share  expenditure owner selfemp  \\\n",
              "9    yes        0  28.41667  3.2000  0.019780      52.5800    no      no   \n",
              "71   yes        0  27.41667  2.0000  0.111812     186.3533    no      no   \n",
              "677  yes        0  32.58333  1.8142  0.054141      81.4350   yes      no   \n",
              "804  yes        0  28.25000  2.0272  0.111025     187.1425   yes      no   \n",
              "398  yes        0  32.33333  5.1000  0.101359     430.6925   yes      no   \n",
              "\n",
              "     dependents  months  majorcards  active  \n",
              "9             0      65           1      18  \n",
              "71            0       9           1       5  \n",
              "677           0       9           1      22  \n",
              "804           1      91           1       1  \n",
              "398           0      38           1      10  "
            ],
            "text/html": [
              "\n",
              "  <div id=\"df-20d0132c-8e9c-429b-9224-e5ab5e566ac4\">\n",
              "    <div class=\"colab-df-container\">\n",
              "      <div>\n",
              "<style scoped>\n",
              "    .dataframe tbody tr th:only-of-type {\n",
              "        vertical-align: middle;\n",
              "    }\n",
              "\n",
              "    .dataframe tbody tr th {\n",
              "        vertical-align: top;\n",
              "    }\n",
              "\n",
              "    .dataframe thead th {\n",
              "        text-align: right;\n",
              "    }\n",
              "</style>\n",
              "<table border=\"1\" class=\"dataframe\">\n",
              "  <thead>\n",
              "    <tr style=\"text-align: right;\">\n",
              "      <th></th>\n",
              "      <th>card</th>\n",
              "      <th>reports</th>\n",
              "      <th>age</th>\n",
              "      <th>income</th>\n",
              "      <th>share</th>\n",
              "      <th>expenditure</th>\n",
              "      <th>owner</th>\n",
              "      <th>selfemp</th>\n",
              "      <th>dependents</th>\n",
              "      <th>months</th>\n",
              "      <th>majorcards</th>\n",
              "      <th>active</th>\n",
              "    </tr>\n",
              "  </thead>\n",
              "  <tbody>\n",
              "    <tr>\n",
              "      <th>9</th>\n",
              "      <td>yes</td>\n",
              "      <td>0</td>\n",
              "      <td>28.41667</td>\n",
              "      <td>3.2000</td>\n",
              "      <td>0.019780</td>\n",
              "      <td>52.5800</td>\n",
              "      <td>no</td>\n",
              "      <td>no</td>\n",
              "      <td>0</td>\n",
              "      <td>65</td>\n",
              "      <td>1</td>\n",
              "      <td>18</td>\n",
              "    </tr>\n",
              "    <tr>\n",
              "      <th>71</th>\n",
              "      <td>yes</td>\n",
              "      <td>0</td>\n",
              "      <td>27.41667</td>\n",
              "      <td>2.0000</td>\n",
              "      <td>0.111812</td>\n",
              "      <td>186.3533</td>\n",
              "      <td>no</td>\n",
              "      <td>no</td>\n",
              "      <td>0</td>\n",
              "      <td>9</td>\n",
              "      <td>1</td>\n",
              "      <td>5</td>\n",
              "    </tr>\n",
              "    <tr>\n",
              "      <th>677</th>\n",
              "      <td>yes</td>\n",
              "      <td>0</td>\n",
              "      <td>32.58333</td>\n",
              "      <td>1.8142</td>\n",
              "      <td>0.054141</td>\n",
              "      <td>81.4350</td>\n",
              "      <td>yes</td>\n",
              "      <td>no</td>\n",
              "      <td>0</td>\n",
              "      <td>9</td>\n",
              "      <td>1</td>\n",
              "      <td>22</td>\n",
              "    </tr>\n",
              "    <tr>\n",
              "      <th>804</th>\n",
              "      <td>yes</td>\n",
              "      <td>0</td>\n",
              "      <td>28.25000</td>\n",
              "      <td>2.0272</td>\n",
              "      <td>0.111025</td>\n",
              "      <td>187.1425</td>\n",
              "      <td>yes</td>\n",
              "      <td>no</td>\n",
              "      <td>1</td>\n",
              "      <td>91</td>\n",
              "      <td>1</td>\n",
              "      <td>1</td>\n",
              "    </tr>\n",
              "    <tr>\n",
              "      <th>398</th>\n",
              "      <td>yes</td>\n",
              "      <td>0</td>\n",
              "      <td>32.33333</td>\n",
              "      <td>5.1000</td>\n",
              "      <td>0.101359</td>\n",
              "      <td>430.6925</td>\n",
              "      <td>yes</td>\n",
              "      <td>no</td>\n",
              "      <td>0</td>\n",
              "      <td>38</td>\n",
              "      <td>1</td>\n",
              "      <td>10</td>\n",
              "    </tr>\n",
              "  </tbody>\n",
              "</table>\n",
              "</div>\n",
              "      <button class=\"colab-df-convert\" onclick=\"convertToInteractive('df-20d0132c-8e9c-429b-9224-e5ab5e566ac4')\"\n",
              "              title=\"Convert this dataframe to an interactive table.\"\n",
              "              style=\"display:none;\">\n",
              "        \n",
              "  <svg xmlns=\"http://www.w3.org/2000/svg\" height=\"24px\"viewBox=\"0 0 24 24\"\n",
              "       width=\"24px\">\n",
              "    <path d=\"M0 0h24v24H0V0z\" fill=\"none\"/>\n",
              "    <path d=\"M18.56 5.44l.94 2.06.94-2.06 2.06-.94-2.06-.94-.94-2.06-.94 2.06-2.06.94zm-11 1L8.5 8.5l.94-2.06 2.06-.94-2.06-.94L8.5 2.5l-.94 2.06-2.06.94zm10 10l.94 2.06.94-2.06 2.06-.94-2.06-.94-.94-2.06-.94 2.06-2.06.94z\"/><path d=\"M17.41 7.96l-1.37-1.37c-.4-.4-.92-.59-1.43-.59-.52 0-1.04.2-1.43.59L10.3 9.45l-7.72 7.72c-.78.78-.78 2.05 0 2.83L4 21.41c.39.39.9.59 1.41.59.51 0 1.02-.2 1.41-.59l7.78-7.78 2.81-2.81c.8-.78.8-2.07 0-2.86zM5.41 20L4 18.59l7.72-7.72 1.47 1.35L5.41 20z\"/>\n",
              "  </svg>\n",
              "      </button>\n",
              "      \n",
              "  <style>\n",
              "    .colab-df-container {\n",
              "      display:flex;\n",
              "      flex-wrap:wrap;\n",
              "      gap: 12px;\n",
              "    }\n",
              "\n",
              "    .colab-df-convert {\n",
              "      background-color: #E8F0FE;\n",
              "      border: none;\n",
              "      border-radius: 50%;\n",
              "      cursor: pointer;\n",
              "      display: none;\n",
              "      fill: #1967D2;\n",
              "      height: 32px;\n",
              "      padding: 0 0 0 0;\n",
              "      width: 32px;\n",
              "    }\n",
              "\n",
              "    .colab-df-convert:hover {\n",
              "      background-color: #E2EBFA;\n",
              "      box-shadow: 0px 1px 2px rgba(60, 64, 67, 0.3), 0px 1px 3px 1px rgba(60, 64, 67, 0.15);\n",
              "      fill: #174EA6;\n",
              "    }\n",
              "\n",
              "    [theme=dark] .colab-df-convert {\n",
              "      background-color: #3B4455;\n",
              "      fill: #D2E3FC;\n",
              "    }\n",
              "\n",
              "    [theme=dark] .colab-df-convert:hover {\n",
              "      background-color: #434B5C;\n",
              "      box-shadow: 0px 1px 3px 1px rgba(0, 0, 0, 0.15);\n",
              "      filter: drop-shadow(0px 1px 2px rgba(0, 0, 0, 0.3));\n",
              "      fill: #FFFFFF;\n",
              "    }\n",
              "  </style>\n",
              "\n",
              "      <script>\n",
              "        const buttonEl =\n",
              "          document.querySelector('#df-20d0132c-8e9c-429b-9224-e5ab5e566ac4 button.colab-df-convert');\n",
              "        buttonEl.style.display =\n",
              "          google.colab.kernel.accessAllowed ? 'block' : 'none';\n",
              "\n",
              "        async function convertToInteractive(key) {\n",
              "          const element = document.querySelector('#df-20d0132c-8e9c-429b-9224-e5ab5e566ac4');\n",
              "          const dataTable =\n",
              "            await google.colab.kernel.invokeFunction('convertToInteractive',\n",
              "                                                     [key], {});\n",
              "          if (!dataTable) return;\n",
              "\n",
              "          const docLinkHtml = 'Like what you see? Visit the ' +\n",
              "            '<a target=\"_blank\" href=https://colab.research.google.com/notebooks/data_table.ipynb>data table notebook</a>'\n",
              "            + ' to learn more about interactive tables.';\n",
              "          element.innerHTML = '';\n",
              "          dataTable['output_type'] = 'display_data';\n",
              "          await google.colab.output.renderOutput(dataTable, element);\n",
              "          const docLink = document.createElement('div');\n",
              "          docLink.innerHTML = docLinkHtml;\n",
              "          element.appendChild(docLink);\n",
              "        }\n",
              "      </script>\n",
              "    </div>\n",
              "  </div>\n",
              "  "
            ]
          },
          "metadata": {},
          "execution_count": 2
        }
      ]
    },
    {
      "cell_type": "markdown",
      "source": [
        "### Checking missing values"
      ],
      "metadata": {
        "id": "LEQfz1QiY5hW"
      }
    },
    {
      "cell_type": "code",
      "source": [
        "msno.matrix(df, figsize=(12, 7));"
      ],
      "metadata": {
        "colab": {
          "base_uri": "https://localhost:8080/",
          "height": 509
        },
        "id": "JH3VQbGDYyCx",
        "outputId": "668e8b90-7452-40cf-b236-0753f15859db"
      },
      "execution_count": 4,
      "outputs": [
        {
          "output_type": "display_data",
          "data": {
            "text/plain": [
              "<Figure size 864x504 with 2 Axes>"
            ],
            "image/png": "[encoded data removed]"
          },
          "metadata": {}
        }
      ]
    },
    {
      "cell_type": "markdown",
      "source": [
        "The data set contains no missing values."
      ],
      "metadata": {
        "id": "CoLtFxfVZMyj"
      }
    },
    {
      "cell_type": "code",
      "source": [
        "df.info()"
      ],
      "metadata": {
        "colab": {
          "base_uri": "https://localhost:8080/"
        },
        "id": "SRW15dS7ZH9W",
        "outputId": "b85174ee-007e-405a-a792-4ae775b25cfe"
      },
      "execution_count": 5,
      "outputs": [
        {
          "output_type": "stream",
          "name": "stdout",
          "text": [
            "<class 'pandas.core.frame.DataFrame'>\n",
            "RangeIndex: 1319 entries, 0 to 1318\n",
            "Data columns (total 12 columns):\n",
            " #   Column       Non-Null Count  Dtype  \n",
            "---  ------       --------------  -----  \n",
            " 0   card         1319 non-null   object \n",
            " 1   reports      1319 non-null   int64  \n",
            " 2   age          1319 non-null   float64\n",
            " 3   income       1319 non-null   float64\n",
            " 4   share        1319 non-null   float64\n",
            " 5   expenditure  1319 non-null   float64\n",
            " 6   owner        1319 non-null   object \n",
            " 7   selfemp      1319 non-null   object \n",
            " 8   dependents   1319 non-null   int64  \n",
            " 9   months       1319 non-null   int64  \n",
            " 10  majorcards   1319 non-null   int64  \n",
            " 11  active       1319 non-null   int64  \n",
            "dtypes: float64(4), int64(5), object(3)\n",
            "memory usage: 123.8+ KB\n"
          ]
        }
      ]
    },
    {
      "cell_type": "code",
      "source": [
        "df.describe().T"
      ],
      "metadata": {
        "colab": {
          "base_uri": "https://localhost:8080/",
          "height": 332
        },
        "id": "rNyoIe8_ZZBU",
        "outputId": "36a9461b-ff6c-49bc-cdfe-c7ab02c17f0f"
      },
      "execution_count": 6,
      "outputs": [
        {
          "output_type": "execute_result",
          "data": {
            "text/plain": [
              "              count        mean         std       min        25%         50%  \\\n",
              "reports      1319.0    0.456406    1.345267  0.000000   0.000000    0.000000   \n",
              "age          1319.0   33.213103   10.142783  0.166667  25.416670   31.250000   \n",
              "income       1319.0    3.365376    1.693902  0.210000   2.243750    2.900000   \n",
              "share        1319.0    0.068732    0.094656  0.000109   0.002316    0.038827   \n",
              "expenditure  1319.0  185.057071  272.218917  0.000000   4.583333  101.298300   \n",
              "dependents   1319.0    0.993935    1.247745  0.000000   0.000000    1.000000   \n",
              "months       1319.0   55.267627   66.271746  0.000000  12.000000   30.000000   \n",
              "majorcards   1319.0    0.817286    0.386579  0.000000   1.000000    1.000000   \n",
              "active       1319.0    6.996967    6.305812  0.000000   2.000000    6.000000   \n",
              "\n",
              "                    75%         max  \n",
              "reports        0.000000    14.00000  \n",
              "age           39.416670    83.50000  \n",
              "income         4.000000    13.50000  \n",
              "share          0.093617     0.90632  \n",
              "expenditure  249.035800  3099.50500  \n",
              "dependents     2.000000     6.00000  \n",
              "months        72.000000   540.00000  \n",
              "majorcards     1.000000     1.00000  \n",
              "active        11.000000    46.00000  "
            ],
            "text/html": [
              "\n",
              "  <div id=\"df-ce71e01b-683d-439c-8984-53980394d2e5\">\n",
              "    <div class=\"colab-df-container\">\n",
              "      <div>\n",
              "<style scoped>\n",
              "    .dataframe tbody tr th:only-of-type {\n",
              "        vertical-align: middle;\n",
              "    }\n",
              "\n",
              "    .dataframe tbody tr th {\n",
              "        vertical-align: top;\n",
              "    }\n",
              "\n",
              "    .dataframe thead th {\n",
              "        text-align: right;\n",
              "    }\n",
              "</style>\n",
              "<table border=\"1\" class=\"dataframe\">\n",
              "  <thead>\n",
              "    <tr style=\"text-align: right;\">\n",
              "      <th></th>\n",
              "      <th>count</th>\n",
              "      <th>mean</th>\n",
              "      <th>std</th>\n",
              "      <th>min</th>\n",
              "      <th>25%</th>\n",
              "      <th>50%</th>\n",
              "      <th>75%</th>\n",
              "      <th>max</th>\n",
              "    </tr>\n",
              "  </thead>\n",
              "  <tbody>\n",
              "    <tr>\n",
              "      <th>reports</th>\n",
              "      <td>1319.0</td>\n",
              "      <td>0.456406</td>\n",
              "      <td>1.345267</td>\n",
              "      <td>0.000000</td>\n",
              "      <td>0.000000</td>\n",
              "      <td>0.000000</td>\n",
              "      <td>0.000000</td>\n",
              "      <td>14.00000</td>\n",
              "    </tr>\n",
              "    <tr>\n",
              "      <th>age</th>\n",
              "      <td>1319.0</td>\n",
              "      <td>33.213103</td>\n",
              "      <td>10.142783</td>\n",
              "      <td>0.166667</td>\n",
              "      <td>25.416670</td>\n",
              "      <td>31.250000</td>\n",
              "      <td>39.416670</td>\n",
              "      <td>83.50000</td>\n",
              "    </tr>\n",
              "    <tr>\n",
              "      <th>income</th>\n",
              "      <td>1319.0</td>\n",
              "      <td>3.365376</td>\n",
              "      <td>1.693902</td>\n",
              "      <td>0.210000</td>\n",
              "      <td>2.243750</td>\n",
              "      <td>2.900000</td>\n",
              "      <td>4.000000</td>\n",
              "      <td>13.50000</td>\n",
              "    </tr>\n",
              "    <tr>\n",
              "      <th>share</th>\n",
              "      <td>1319.0</td>\n",
              "      <td>0.068732</td>\n",
              "      <td>0.094656</td>\n",
              "      <td>0.000109</td>\n",
              "      <td>0.002316</td>\n",
              "      <td>0.038827</td>\n",
              "      <td>0.093617</td>\n",
              "      <td>0.90632</td>\n",
              "    </tr>\n",
              "    <tr>\n",
              "      <th>expenditure</th>\n",
              "      <td>1319.0</td>\n",
              "      <td>185.057071</td>\n",
              "      <td>272.218917</td>\n",
              "      <td>0.000000</td>\n",
              "      <td>4.583333</td>\n",
              "      <td>101.298300</td>\n",
              "      <td>249.035800</td>\n",
              "      <td>3099.50500</td>\n",
              "    </tr>\n",
              "    <tr>\n",
              "      <th>dependents</th>\n",
              "      <td>1319.0</td>\n",
              "      <td>0.993935</td>\n",
              "      <td>1.247745</td>\n",
              "      <td>0.000000</td>\n",
              "      <td>0.000000</td>\n",
              "      <td>1.000000</td>\n",
              "      <td>2.000000</td>\n",
              "      <td>6.00000</td>\n",
              "    </tr>\n",
              "    <tr>\n",
              "      <th>months</th>\n",
              "      <td>1319.0</td>\n",
              "      <td>55.267627</td>\n",
              "      <td>66.271746</td>\n",
              "      <td>0.000000</td>\n",
              "      <td>12.000000</td>\n",
              "      <td>30.000000</td>\n",
              "      <td>72.000000</td>\n",
              "      <td>540.00000</td>\n",
              "    </tr>\n",
              "    <tr>\n",
              "      <th>majorcards</th>\n",
              "      <td>1319.0</td>\n",
              "      <td>0.817286</td>\n",
              "      <td>0.386579</td>\n",
              "      <td>0.000000</td>\n",
              "      <td>1.000000</td>\n",
              "      <td>1.000000</td>\n",
              "      <td>1.000000</td>\n",
              "      <td>1.00000</td>\n",
              "    </tr>\n",
              "    <tr>\n",
              "      <th>active</th>\n",
              "      <td>1319.0</td>\n",
              "      <td>6.996967</td>\n",
              "      <td>6.305812</td>\n",
              "      <td>0.000000</td>\n",
              "      <td>2.000000</td>\n",
              "      <td>6.000000</td>\n",
              "      <td>11.000000</td>\n",
              "      <td>46.00000</td>\n",
              "    </tr>\n",
              "  </tbody>\n",
              "</table>\n",
              "</div>\n",
              "      <button class=\"colab-df-convert\" onclick=\"convertToInteractive('df-ce71e01b-683d-439c-8984-53980394d2e5')\"\n",
              "              title=\"Convert this dataframe to an interactive table.\"\n",
              "              style=\"display:none;\">\n",
              "        \n",
              "  <svg xmlns=\"http://www.w3.org/2000/svg\" height=\"24px\"viewBox=\"0 0 24 24\"\n",
              "       width=\"24px\">\n",
              "    <path d=\"M0 0h24v24H0V0z\" fill=\"none\"/>\n",
              "    <path d=\"M18.56 5.44l.94 2.06.94-2.06 2.06-.94-2.06-.94-.94-2.06-.94 2.06-2.06.94zm-11 1L8.5 8.5l.94-2.06 2.06-.94-2.06-.94L8.5 2.5l-.94 2.06-2.06.94zm10 10l.94 2.06.94-2.06 2.06-.94-2.06-.94-.94-2.06-.94 2.06-2.06.94z\"/><path d=\"M17.41 7.96l-1.37-1.37c-.4-.4-.92-.59-1.43-.59-.52 0-1.04.2-1.43.59L10.3 9.45l-7.72 7.72c-.78.78-.78 2.05 0 2.83L4 21.41c.39.39.9.59 1.41.59.51 0 1.02-.2 1.41-.59l7.78-7.78 2.81-2.81c.8-.78.8-2.07 0-2.86zM5.41 20L4 18.59l7.72-7.72 1.47 1.35L5.41 20z\"/>\n",
              "  </svg>\n",
              "      </button>\n",
              "      \n",
              "  <style>\n",
              "    .colab-df-container {\n",
              "      display:flex;\n",
              "      flex-wrap:wrap;\n",
              "      gap: 12px;\n",
              "    }\n",
              "\n",
              "    .colab-df-convert {\n",
              "      background-color: #E8F0FE;\n",
              "      border: none;\n",
              "      border-radius: 50%;\n",
              "      cursor: pointer;\n",
              "      display: none;\n",
              "      fill: #1967D2;\n",
              "      height: 32px;\n",
              "      padding: 0 0 0 0;\n",
              "      width: 32px;\n",
              "    }\n",
              "\n",
              "    .colab-df-convert:hover {\n",
              "      background-color: #E2EBFA;\n",
              "      box-shadow: 0px 1px 2px rgba(60, 64, 67, 0.3), 0px 1px 3px 1px rgba(60, 64, 67, 0.15);\n",
              "      fill: #174EA6;\n",
              "    }\n",
              "\n",
              "    [theme=dark] .colab-df-convert {\n",
              "      background-color: #3B4455;\n",
              "      fill: #D2E3FC;\n",
              "    }\n",
              "\n",
              "    [theme=dark] .colab-df-convert:hover {\n",
              "      background-color: #434B5C;\n",
              "      box-shadow: 0px 1px 3px 1px rgba(0, 0, 0, 0.15);\n",
              "      filter: drop-shadow(0px 1px 2px rgba(0, 0, 0, 0.3));\n",
              "      fill: #FFFFFF;\n",
              "    }\n",
              "  </style>\n",
              "\n",
              "      <script>\n",
              "        const buttonEl =\n",
              "          document.querySelector('#df-ce71e01b-683d-439c-8984-53980394d2e5 button.colab-df-convert');\n",
              "        buttonEl.style.display =\n",
              "          google.colab.kernel.accessAllowed ? 'block' : 'none';\n",
              "\n",
              "        async function convertToInteractive(key) {\n",
              "          const element = document.querySelector('#df-ce71e01b-683d-439c-8984-53980394d2e5');\n",
              "          const dataTable =\n",
              "            await google.colab.kernel.invokeFunction('convertToInteractive',\n",
              "                                                     [key], {});\n",
              "          if (!dataTable) return;\n",
              "\n",
              "          const docLinkHtml = 'Like what you see? Visit the ' +\n",
              "            '<a target=\"_blank\" href=https://colab.research.google.com/notebooks/data_table.ipynb>data table notebook</a>'\n",
              "            + ' to learn more about interactive tables.';\n",
              "          element.innerHTML = '';\n",
              "          dataTable['output_type'] = 'display_data';\n",
              "          await google.colab.output.renderOutput(dataTable, element);\n",
              "          const docLink = document.createElement('div');\n",
              "          docLink.innerHTML = docLinkHtml;\n",
              "          element.appendChild(docLink);\n",
              "        }\n",
              "      </script>\n",
              "    </div>\n",
              "  </div>\n",
              "  "
            ]
          },
          "metadata": {},
          "execution_count": 6
        }
      ]
    },
    {
      "cell_type": "markdown",
      "source": [
        "We can notice that the numerical features have a large variation, since the chosen model is a logistic regression, it will be better to scale these features. Also `dependents` and `majorcards` features should be categorical not numerical."
      ],
      "metadata": {
        "id": "k-o18UlcZ0iz"
      }
    },
    {
      "cell_type": "code",
      "source": [
        "df['owner'].value_counts()"
      ],
      "metadata": {
        "colab": {
          "base_uri": "https://localhost:8080/"
        },
        "id": "Ui9ef7bmcVY8",
        "outputId": "3217a6e6-14b0-43fe-e988-dbaf241d8ebc"
      },
      "execution_count": 8,
      "outputs": [
        {
          "output_type": "execute_result",
          "data": {
            "text/plain": [
              "no     738\n",
              "yes    581\n",
              "Name: owner, dtype: int64"
            ]
          },
          "metadata": {},
          "execution_count": 8
        }
      ]
    },
    {
      "cell_type": "code",
      "source": [
        "df['selfemp'].value_counts()"
      ],
      "metadata": {
        "colab": {
          "base_uri": "https://localhost:8080/"
        },
        "id": "zuYuK4hhceYV",
        "outputId": "24d83b8a-9989-4e4d-9542-6d26dbb4b029"
      },
      "execution_count": 9,
      "outputs": [
        {
          "output_type": "execute_result",
          "data": {
            "text/plain": [
              "no     1228\n",
              "yes      91\n",
              "Name: selfemp, dtype: int64"
            ]
          },
          "metadata": {},
          "execution_count": 9
        }
      ]
    },
    {
      "cell_type": "code",
      "source": [
        "df['majorcards'].value_counts()"
      ],
      "metadata": {
        "colab": {
          "base_uri": "https://localhost:8080/"
        },
        "id": "RYqiitlid6PW",
        "outputId": "232b0db0-e72a-4a94-b584-fb9257dc3ef5"
      },
      "execution_count": 10,
      "outputs": [
        {
          "output_type": "execute_result",
          "data": {
            "text/plain": [
              "1    1078\n",
              "0     241\n",
              "Name: majorcards, dtype: int64"
            ]
          },
          "metadata": {},
          "execution_count": 10
        }
      ]
    },
    {
      "cell_type": "code",
      "source": [
        "df['dependents'].value_counts()"
      ],
      "metadata": {
        "colab": {
          "base_uri": "https://localhost:8080/"
        },
        "id": "fenBcTiXeRiI",
        "outputId": "7fcccbbf-1425-4536-de2d-acee6ac77f54"
      },
      "execution_count": 11,
      "outputs": [
        {
          "output_type": "execute_result",
          "data": {
            "text/plain": [
              "0    659\n",
              "1    267\n",
              "2    218\n",
              "3    115\n",
              "4     44\n",
              "5      9\n",
              "6      7\n",
              "Name: dependents, dtype: int64"
            ]
          },
          "metadata": {},
          "execution_count": 11
        }
      ]
    },
    {
      "cell_type": "markdown",
      "source": [
        "### Mapping target variable"
      ],
      "metadata": {
        "id": "YVuKW6pSbrOJ"
      }
    },
    {
      "cell_type": "code",
      "source": [
        "df['card'].value_counts()"
      ],
      "metadata": {
        "colab": {
          "base_uri": "https://localhost:8080/"
        },
        "id": "SHwKjPVNb_CJ",
        "outputId": "2e20fd7f-e927-4e24-8032-c122882f7387"
      },
      "execution_count": 7,
      "outputs": [
        {
          "output_type": "execute_result",
          "data": {
            "text/plain": [
              "yes    1023\n",
              "no      296\n",
              "Name: card, dtype: int64"
            ]
          },
          "metadata": {},
          "execution_count": 7
        }
      ]
    },
    {
      "cell_type": "markdown",
      "source": [
        "The target variable `card` and the categorical feature `selfemp` are clearly imbalanced. They can therefore easily define **unfair behavior** on the model."
      ],
      "metadata": {
        "id": "HFCTIX73cG2P"
      }
    },
    {
      "cell_type": "code",
      "source": [
        "data, target = df.drop(columns=['card']), df['card'].map({'yes':1, 'no':0})"
      ],
      "metadata": {
        "id": "Mz4ffjOWbx0U"
      },
      "execution_count": 12,
      "outputs": []
    },
    {
      "cell_type": "markdown",
      "source": [
        "### Numerical and categorical features separation"
      ],
      "metadata": {
        "id": "Kqq54zitaxHP"
      }
    },
    {
      "cell_type": "code",
      "source": [
        "from sklearn.compose import make_column_selector as selector\n",
        "\n",
        "numerical = selector(dtype_include=np.number)(data)\n",
        "categorical = selector(dtype_include=object)(data)"
      ],
      "metadata": {
        "id": "GdW_Dst2ZsHp"
      },
      "execution_count": 14,
      "outputs": []
    },
    {
      "cell_type": "markdown",
      "source": [
        "### Split data set"
      ],
      "metadata": {
        "id": "7pAWH070fmYG"
      }
    },
    {
      "cell_type": "code",
      "source": [
        "from sklearn.model_selection import train_test_split\n",
        "\n",
        "df_full_train, df_test, y_full_train, y_test = train_test_split(\n",
        "    data,\n",
        "    target,\n",
        "    test_size=.2,\n",
        "    random_state=1,\n",
        "    stratify=target\n",
        ")\n",
        "\n",
        "dev_size = df_test.shape[0] / df_full_train.shape[0]\n",
        "\n",
        "df_train, df_dev, y_train, y_dev = train_test_split(\n",
        "    df_full_train,\n",
        "    y_full_train,\n",
        "    test_size=dev_size,\n",
        "    random_state=1,\n",
        "    stratify=y_full_train\n",
        ")\n",
        "\n",
        "df_train.shape, y_train.shape, df_dev.shape, y_dev.shape, df_test.shape, y_test.shape"
      ],
      "metadata": {
        "colab": {
          "base_uri": "https://localhost:8080/"
        },
        "id": "x64eL9BNfi3G",
        "outputId": "73b488e6-a620-4267-96df-c949fae2bdb3"
      },
      "execution_count": 15,
      "outputs": [
        {
          "output_type": "execute_result",
          "data": {
            "text/plain": [
              "((791, 11), (791,), (264, 11), (264,), (264, 11), (264,))"
            ]
          },
          "metadata": {},
          "execution_count": 15
        }
      ]
    },
    {
      "cell_type": "markdown",
      "source": [
        "# **Question 1**\n",
        "\n",
        "Which numerical variable (among the following 4) has the highest AUC?\n",
        "\n",
        "- reports\n",
        "- dependents\n",
        "- active\n",
        "- share\n"
      ],
      "metadata": {
        "id": "cUGITLqTihzs"
      }
    },
    {
      "cell_type": "code",
      "source": [
        "from sklearn.metrics import roc_auc_score\n",
        "\n",
        "def evaluate_feature_importance(df, features, target='card'):\n",
        "  evaluation = {}\n",
        "  for f in features:\n",
        "    if roc_auc_score(df[target], df[f]) < .5:\n",
        "      evaluation[f] = roc_auc_score(df[target], -df[f])\n",
        "    else:\n",
        "      evaluation[f] = roc_auc_score(df[target], df[f])\n",
        "  \n",
        "  return evaluation\n"
      ],
      "metadata": {
        "id": "EFX2UXCjhF2q"
      },
      "execution_count": 23,
      "outputs": []
    },
    {
      "cell_type": "code",
      "source": [
        "evaluation = evaluate_feature_importance(df, numerical)\n",
        "evaluation"
      ],
      "metadata": {
        "colab": {
          "base_uri": "https://localhost:8080/"
        },
        "id": "ttOmbtKMm_Pd",
        "outputId": "66f67b44-a669-4795-a540-8b4fcda187e9"
      },
      "execution_count": 25,
      "outputs": [
        {
          "output_type": "execute_result",
          "data": {
            "text/plain": [
              "{'reports': 0.7178013790917016,\n",
              " 'age': 0.5013754590367494,\n",
              " 'income': 0.5888896594541755,\n",
              " 'share': 0.9898054212570342,\n",
              " 'expenditure': 0.9897360703812317,\n",
              " 'dependents': 0.5257721064172676,\n",
              " 'months': 0.5178826186890704,\n",
              " 'majorcards': 0.5499111648305197,\n",
              " 'active': 0.5824680985971309}"
            ]
          },
          "metadata": {},
          "execution_count": 25
        }
      ]
    },
    {
      "cell_type": "code",
      "source": [
        "ev_filtred = { f: evaluation[f] for f in ['reports', 'dependents', 'active', 'share'] }\n",
        "max(ev_filtred, key=ev_filtred.get)"
      ],
      "metadata": {
        "colab": {
          "base_uri": "https://localhost:8080/",
          "height": 35
        },
        "id": "X4Co5BIGocz-",
        "outputId": "1019815d-3be6-4c08-be1f-2d372244e265"
      },
      "execution_count": 26,
      "outputs": [
        {
          "output_type": "execute_result",
          "data": {
            "text/plain": [
              "'share'"
            ],
            "application/vnd.google.colaboratory.intrinsic+json": {
              "type": "string"
            }
          },
          "metadata": {},
          "execution_count": 26
        }
      ]
    },
    {
      "cell_type": "markdown",
      "source": [
        "# **Question 2**\n",
        "What's the AUC of this model on the validation dataset?"
      ],
      "metadata": {
        "id": "YQy3sx6br_7z"
      }
    },
    {
      "cell_type": "code",
      "source": [
        "all_features = numerical + categorical"
      ],
      "metadata": {
        "id": "95ZOm2e3rdnQ"
      },
      "execution_count": 29,
      "outputs": []
    },
    {
      "cell_type": "code",
      "source": [
        "from sklearn.linear_model import LogisticRegression\n",
        "from sklearn.feature_extraction import DictVectorizer\n",
        "\n",
        "dv = DictVectorizer(sparse = False)\n",
        "\n",
        "train_dico = df_train[all_features].to_dict(orient= 'records')\n",
        "X_train = dv.fit_transform(train_dico)\n",
        "\n",
        "dev_dico = df_dev[all_features].to_dict(orient = 'records')\n",
        "X_dev = dv.transform(dev_dico)\n",
        "\n",
        "model = LogisticRegression(solver='liblinear', C=1.0, max_iter=1000)\n",
        "model.fit(X_train, y_train)\n",
        "\n",
        "y_dev_pred = model.predict_proba(X_dev)[:, 1]\n",
        "\n",
        "roc_auc_score(y_dev, y_dev_pred).round(3)"
      ],
      "metadata": {
        "colab": {
          "base_uri": "https://localhost:8080/"
        },
        "id": "wEJ6XT6FtHNm",
        "outputId": "3f37e77e-4918-49b9-c3cc-293646d24952"
      },
      "execution_count": 31,
      "outputs": [
        {
          "output_type": "execute_result",
          "data": {
            "text/plain": [
              "0.992"
            ]
          },
          "metadata": {},
          "execution_count": 31
        }
      ]
    },
    {
      "cell_type": "code",
      "source": [],
      "metadata": {
        "id": "rnp7jD0Tuhm_"
      },
      "execution_count": null,
      "outputs": []
    }
  ]
}