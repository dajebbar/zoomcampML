{
  "nbformat": 4,
  "nbformat_minor": 0,
  "metadata": {
    "colab": {
      "provenance": []
    },
    "kernelspec": {
      "name": "python3",
      "display_name": "Python 3"
    },
    "language_info": {
      "name": "python"
    }
  },
  "cells": [
    {
      "cell_type": "markdown",
      "source": [],
      "metadata": {
        "id": "dDQ7vTU_we9p"
      }
    },
    {
      "cell_type": "code",
      "execution_count": 1,
      "metadata": {
        "id": "j29JkZ5runyw"
      },
      "outputs": [],
      "source": [
        "!pip install opendatasets --upgrade --quiet"
      ]
    },
    {
      "cell_type": "code",
      "source": [
        "import opendatasets as od\n",
        "\n",
        "url = 'https://www.kaggle.com/datasets/camnugent/california-housing-prices'\n",
        "\n",
        "od.download(url)"
      ],
      "metadata": {
        "colab": {
          "base_uri": "https://localhost:8080/"
        },
        "id": "YdG1OUHDwgCd",
        "outputId": "0a2410ab-265d-404a-bf86-4f5a188fb683"
      },
      "execution_count": 2,
      "outputs": [
        {
          "output_type": "stream",
          "name": "stdout",
          "text": [
            "Skipping, found downloaded files in \"./california-housing-prices\" (use force=True to force download)\n"
          ]
        }
      ]
    },
    {
      "cell_type": "code",
      "source": [
        "import pandas as pd\n",
        "import numpy as np\n",
        "import matplotlib.pyplot as plt\n",
        "import seaborn as sns\n",
        "plt.style.use('ggplot')\n",
        "%matplotlib inline\n",
        "\n",
        "data_set = pd.read_csv('./california-housing-prices/housing.csv')\n",
        "data_set.sample(10)"
      ],
      "metadata": {
        "colab": {
          "base_uri": "https://localhost:8080/",
          "height": 441
        },
        "id": "4i9k_UFmxQvu",
        "outputId": "ddb7c769-4435-46b2-b58f-c1ee355fd76f"
      },
      "execution_count": 3,
      "outputs": [
        {
          "output_type": "execute_result",
          "data": {
            "text/plain": [
              "       longitude  latitude  housing_median_age  total_rooms  total_bedrooms  \\\n",
              "6076     -117.87     34.07                21.0       4723.0           882.0   \n",
              "8761     -118.38     33.82                34.0       1822.0           364.0   \n",
              "19662    -120.85     37.50                52.0       1724.0           352.0   \n",
              "7021     -118.10     33.98                34.0       1357.0           310.0   \n",
              "17741    -121.74     37.30                12.0       1961.0           280.0   \n",
              "20394    -118.87     34.22                14.0       3108.0           451.0   \n",
              "1569     -121.98     37.74                 8.0       2865.0           389.0   \n",
              "19996    -119.45     36.16                27.0       2119.0           373.0   \n",
              "16967    -122.31     37.54                49.0       1340.0           281.0   \n",
              "4068     -118.48     34.15                31.0       2536.0           429.0   \n",
              "\n",
              "       population  households  median_income  median_house_value  \\\n",
              "6076       2210.0       768.0         3.8167            258700.0   \n",
              "8761        750.0       366.0         5.9907            500001.0   \n",
              "19662       922.0       348.0         1.7227             85700.0   \n",
              "7021       1042.0       287.0         3.4083            156700.0   \n",
              "17741       985.0       269.0         6.7159            362700.0   \n",
              "20394      1566.0       434.0         6.2423            305400.0   \n",
              "1569       1376.0       417.0         7.9393            399300.0   \n",
              "19996      1268.0       345.0         2.8152            106900.0   \n",
              "16967       660.0       284.0         4.1630            393800.0   \n",
              "4068        990.0       424.0         5.4591            495500.0   \n",
              "\n",
              "      ocean_proximity  \n",
              "6076        <1H OCEAN  \n",
              "8761       NEAR OCEAN  \n",
              "19662          INLAND  \n",
              "7021        <1H OCEAN  \n",
              "17741       <1H OCEAN  \n",
              "20394       <1H OCEAN  \n",
              "1569        <1H OCEAN  \n",
              "19996          INLAND  \n",
              "16967      NEAR OCEAN  \n",
              "4068        <1H OCEAN  "
            ],
            "text/html": [
              "\n",
              "  <div id=\"df-1134f3e8-9e08-43b0-a1db-5a6d25e05477\">\n",
              "    <div class=\"colab-df-container\">\n",
              "      <div>\n",
              "<style scoped>\n",
              "    .dataframe tbody tr th:only-of-type {\n",
              "        vertical-align: middle;\n",
              "    }\n",
              "\n",
              "    .dataframe tbody tr th {\n",
              "        vertical-align: top;\n",
              "    }\n",
              "\n",
              "    .dataframe thead th {\n",
              "        text-align: right;\n",
              "    }\n",
              "</style>\n",
              "<table border=\"1\" class=\"dataframe\">\n",
              "  <thead>\n",
              "    <tr style=\"text-align: right;\">\n",
              "      <th></th>\n",
              "      <th>longitude</th>\n",
              "      <th>latitude</th>\n",
              "      <th>housing_median_age</th>\n",
              "      <th>total_rooms</th>\n",
              "      <th>total_bedrooms</th>\n",
              "      <th>population</th>\n",
              "      <th>households</th>\n",
              "      <th>median_income</th>\n",
              "      <th>median_house_value</th>\n",
              "      <th>ocean_proximity</th>\n",
              "    </tr>\n",
              "  </thead>\n",
              "  <tbody>\n",
              "    <tr>\n",
              "      <th>6076</th>\n",
              "      <td>-117.87</td>\n",
              "      <td>34.07</td>\n",
              "      <td>21.0</td>\n",
              "      <td>4723.0</td>\n",
              "      <td>882.0</td>\n",
              "      <td>2210.0</td>\n",
              "      <td>768.0</td>\n",
              "      <td>3.8167</td>\n",
              "      <td>258700.0</td>\n",
              "      <td>&lt;1H OCEAN</td>\n",
              "    </tr>\n",
              "    <tr>\n",
              "      <th>8761</th>\n",
              "      <td>-118.38</td>\n",
              "      <td>33.82</td>\n",
              "      <td>34.0</td>\n",
              "      <td>1822.0</td>\n",
              "      <td>364.0</td>\n",
              "      <td>750.0</td>\n",
              "      <td>366.0</td>\n",
              "      <td>5.9907</td>\n",
              "      <td>500001.0</td>\n",
              "      <td>NEAR OCEAN</td>\n",
              "    </tr>\n",
              "    <tr>\n",
              "      <th>19662</th>\n",
              "      <td>-120.85</td>\n",
              "      <td>37.50</td>\n",
              "      <td>52.0</td>\n",
              "      <td>1724.0</td>\n",
              "      <td>352.0</td>\n",
              "      <td>922.0</td>\n",
              "      <td>348.0</td>\n",
              "      <td>1.7227</td>\n",
              "      <td>85700.0</td>\n",
              "      <td>INLAND</td>\n",
              "    </tr>\n",
              "    <tr>\n",
              "      <th>7021</th>\n",
              "      <td>-118.10</td>\n",
              "      <td>33.98</td>\n",
              "      <td>34.0</td>\n",
              "      <td>1357.0</td>\n",
              "      <td>310.0</td>\n",
              "      <td>1042.0</td>\n",
              "      <td>287.0</td>\n",
              "      <td>3.4083</td>\n",
              "      <td>156700.0</td>\n",
              "      <td>&lt;1H OCEAN</td>\n",
              "    </tr>\n",
              "    <tr>\n",
              "      <th>17741</th>\n",
              "      <td>-121.74</td>\n",
              "      <td>37.30</td>\n",
              "      <td>12.0</td>\n",
              "      <td>1961.0</td>\n",
              "      <td>280.0</td>\n",
              "      <td>985.0</td>\n",
              "      <td>269.0</td>\n",
              "      <td>6.7159</td>\n",
              "      <td>362700.0</td>\n",
              "      <td>&lt;1H OCEAN</td>\n",
              "    </tr>\n",
              "    <tr>\n",
              "      <th>20394</th>\n",
              "      <td>-118.87</td>\n",
              "      <td>34.22</td>\n",
              "      <td>14.0</td>\n",
              "      <td>3108.0</td>\n",
              "      <td>451.0</td>\n",
              "      <td>1566.0</td>\n",
              "      <td>434.0</td>\n",
              "      <td>6.2423</td>\n",
              "      <td>305400.0</td>\n",
              "      <td>&lt;1H OCEAN</td>\n",
              "    </tr>\n",
              "    <tr>\n",
              "      <th>1569</th>\n",
              "      <td>-121.98</td>\n",
              "      <td>37.74</td>\n",
              "      <td>8.0</td>\n",
              "      <td>2865.0</td>\n",
              "      <td>389.0</td>\n",
              "      <td>1376.0</td>\n",
              "      <td>417.0</td>\n",
              "      <td>7.9393</td>\n",
              "      <td>399300.0</td>\n",
              "      <td>&lt;1H OCEAN</td>\n",
              "    </tr>\n",
              "    <tr>\n",
              "      <th>19996</th>\n",
              "      <td>-119.45</td>\n",
              "      <td>36.16</td>\n",
              "      <td>27.0</td>\n",
              "      <td>2119.0</td>\n",
              "      <td>373.0</td>\n",
              "      <td>1268.0</td>\n",
              "      <td>345.0</td>\n",
              "      <td>2.8152</td>\n",
              "      <td>106900.0</td>\n",
              "      <td>INLAND</td>\n",
              "    </tr>\n",
              "    <tr>\n",
              "      <th>16967</th>\n",
              "      <td>-122.31</td>\n",
              "      <td>37.54</td>\n",
              "      <td>49.0</td>\n",
              "      <td>1340.0</td>\n",
              "      <td>281.0</td>\n",
              "      <td>660.0</td>\n",
              "      <td>284.0</td>\n",
              "      <td>4.1630</td>\n",
              "      <td>393800.0</td>\n",
              "      <td>NEAR OCEAN</td>\n",
              "    </tr>\n",
              "    <tr>\n",
              "      <th>4068</th>\n",
              "      <td>-118.48</td>\n",
              "      <td>34.15</td>\n",
              "      <td>31.0</td>\n",
              "      <td>2536.0</td>\n",
              "      <td>429.0</td>\n",
              "      <td>990.0</td>\n",
              "      <td>424.0</td>\n",
              "      <td>5.4591</td>\n",
              "      <td>495500.0</td>\n",
              "      <td>&lt;1H OCEAN</td>\n",
              "    </tr>\n",
              "  </tbody>\n",
              "</table>\n",
              "</div>\n",
              "      <button class=\"colab-df-convert\" onclick=\"convertToInteractive('df-1134f3e8-9e08-43b0-a1db-5a6d25e05477')\"\n",
              "              title=\"Convert this dataframe to an interactive table.\"\n",
              "              style=\"display:none;\">\n",
              "        \n",
              "  <svg xmlns=\"http://www.w3.org/2000/svg\" height=\"24px\"viewBox=\"0 0 24 24\"\n",
              "       width=\"24px\">\n",
              "    <path d=\"M0 0h24v24H0V0z\" fill=\"none\"/>\n",
              "    <path d=\"M18.56 5.44l.94 2.06.94-2.06 2.06-.94-2.06-.94-.94-2.06-.94 2.06-2.06.94zm-11 1L8.5 8.5l.94-2.06 2.06-.94-2.06-.94L8.5 2.5l-.94 2.06-2.06.94zm10 10l.94 2.06.94-2.06 2.06-.94-2.06-.94-.94-2.06-.94 2.06-2.06.94z\"/><path d=\"M17.41 7.96l-1.37-1.37c-.4-.4-.92-.59-1.43-.59-.52 0-1.04.2-1.43.59L10.3 9.45l-7.72 7.72c-.78.78-.78 2.05 0 2.83L4 21.41c.39.39.9.59 1.41.59.51 0 1.02-.2 1.41-.59l7.78-7.78 2.81-2.81c.8-.78.8-2.07 0-2.86zM5.41 20L4 18.59l7.72-7.72 1.47 1.35L5.41 20z\"/>\n",
              "  </svg>\n",
              "      </button>\n",
              "      \n",
              "  <style>\n",
              "    .colab-df-container {\n",
              "      display:flex;\n",
              "      flex-wrap:wrap;\n",
              "      gap: 12px;\n",
              "    }\n",
              "\n",
              "    .colab-df-convert {\n",
              "      background-color: #E8F0FE;\n",
              "      border: none;\n",
              "      border-radius: 50%;\n",
              "      cursor: pointer;\n",
              "      display: none;\n",
              "      fill: #1967D2;\n",
              "      height: 32px;\n",
              "      padding: 0 0 0 0;\n",
              "      width: 32px;\n",
              "    }\n",
              "\n",
              "    .colab-df-convert:hover {\n",
              "      background-color: #E2EBFA;\n",
              "      box-shadow: 0px 1px 2px rgba(60, 64, 67, 0.3), 0px 1px 3px 1px rgba(60, 64, 67, 0.15);\n",
              "      fill: #174EA6;\n",
              "    }\n",
              "\n",
              "    [theme=dark] .colab-df-convert {\n",
              "      background-color: #3B4455;\n",
              "      fill: #D2E3FC;\n",
              "    }\n",
              "\n",
              "    [theme=dark] .colab-df-convert:hover {\n",
              "      background-color: #434B5C;\n",
              "      box-shadow: 0px 1px 3px 1px rgba(0, 0, 0, 0.15);\n",
              "      filter: drop-shadow(0px 1px 2px rgba(0, 0, 0, 0.3));\n",
              "      fill: #FFFFFF;\n",
              "    }\n",
              "  </style>\n",
              "\n",
              "      <script>\n",
              "        const buttonEl =\n",
              "          document.querySelector('#df-1134f3e8-9e08-43b0-a1db-5a6d25e05477 button.colab-df-convert');\n",
              "        buttonEl.style.display =\n",
              "          google.colab.kernel.accessAllowed ? 'block' : 'none';\n",
              "\n",
              "        async function convertToInteractive(key) {\n",
              "          const element = document.querySelector('#df-1134f3e8-9e08-43b0-a1db-5a6d25e05477');\n",
              "          const dataTable =\n",
              "            await google.colab.kernel.invokeFunction('convertToInteractive',\n",
              "                                                     [key], {});\n",
              "          if (!dataTable) return;\n",
              "\n",
              "          const docLinkHtml = 'Like what you see? Visit the ' +\n",
              "            '<a target=\"_blank\" href=https://colab.research.google.com/notebooks/data_table.ipynb>data table notebook</a>'\n",
              "            + ' to learn more about interactive tables.';\n",
              "          element.innerHTML = '';\n",
              "          dataTable['output_type'] = 'display_data';\n",
              "          await google.colab.output.renderOutput(dataTable, element);\n",
              "          const docLink = document.createElement('div');\n",
              "          docLink.innerHTML = docLinkHtml;\n",
              "          element.appendChild(docLink);\n",
              "        }\n",
              "      </script>\n",
              "    </div>\n",
              "  </div>\n",
              "  "
            ]
          },
          "metadata": {},
          "execution_count": 3
        }
      ]
    },
    {
      "cell_type": "code",
      "source": [
        "data_set.shape"
      ],
      "metadata": {
        "colab": {
          "base_uri": "https://localhost:8080/"
        },
        "id": "1J5ozSr1GYlc",
        "outputId": "e2c7e992-6ba0-41ca-bc69-4a155a749d2c"
      },
      "execution_count": 4,
      "outputs": [
        {
          "output_type": "execute_result",
          "data": {
            "text/plain": [
              "(20640, 10)"
            ]
          },
          "metadata": {},
          "execution_count": 4
        }
      ]
    },
    {
      "cell_type": "code",
      "source": [
        "data_set.info()"
      ],
      "metadata": {
        "id": "j780mWHGzCxu",
        "colab": {
          "base_uri": "https://localhost:8080/"
        },
        "outputId": "78308512-38b6-4d99-d562-7f0d9584be76"
      },
      "execution_count": 5,
      "outputs": [
        {
          "output_type": "stream",
          "name": "stdout",
          "text": [
            "<class 'pandas.core.frame.DataFrame'>\n",
            "RangeIndex: 20640 entries, 0 to 20639\n",
            "Data columns (total 10 columns):\n",
            " #   Column              Non-Null Count  Dtype  \n",
            "---  ------              --------------  -----  \n",
            " 0   longitude           20640 non-null  float64\n",
            " 1   latitude            20640 non-null  float64\n",
            " 2   housing_median_age  20640 non-null  float64\n",
            " 3   total_rooms         20640 non-null  float64\n",
            " 4   total_bedrooms      20433 non-null  float64\n",
            " 5   population          20640 non-null  float64\n",
            " 6   households          20640 non-null  float64\n",
            " 7   median_income       20640 non-null  float64\n",
            " 8   median_house_value  20640 non-null  float64\n",
            " 9   ocean_proximity     20640 non-null  object \n",
            "dtypes: float64(9), object(1)\n",
            "memory usage: 1.6+ MB\n"
          ]
        }
      ]
    },
    {
      "cell_type": "code",
      "source": [
        "data_set.describe().T"
      ],
      "metadata": {
        "colab": {
          "base_uri": "https://localhost:8080/",
          "height": 344
        },
        "id": "LQnFGQMPCXls",
        "outputId": "072a56f3-9225-4c7e-bc0f-dd103b00b7c4"
      },
      "execution_count": 6,
      "outputs": [
        {
          "output_type": "execute_result",
          "data": {
            "text/plain": [
              "                      count           mean            std         min  \\\n",
              "longitude           20640.0    -119.569704       2.003532   -124.3500   \n",
              "latitude            20640.0      35.631861       2.135952     32.5400   \n",
              "housing_median_age  20640.0      28.639486      12.585558      1.0000   \n",
              "total_rooms         20640.0    2635.763081    2181.615252      2.0000   \n",
              "total_bedrooms      20433.0     537.870553     421.385070      1.0000   \n",
              "population          20640.0    1425.476744    1132.462122      3.0000   \n",
              "households          20640.0     499.539680     382.329753      1.0000   \n",
              "median_income       20640.0       3.870671       1.899822      0.4999   \n",
              "median_house_value  20640.0  206855.816909  115395.615874  14999.0000   \n",
              "\n",
              "                            25%          50%           75%          max  \n",
              "longitude             -121.8000    -118.4900    -118.01000    -114.3100  \n",
              "latitude                33.9300      34.2600      37.71000      41.9500  \n",
              "housing_median_age      18.0000      29.0000      37.00000      52.0000  \n",
              "total_rooms           1447.7500    2127.0000    3148.00000   39320.0000  \n",
              "total_bedrooms         296.0000     435.0000     647.00000    6445.0000  \n",
              "population             787.0000    1166.0000    1725.00000   35682.0000  \n",
              "households             280.0000     409.0000     605.00000    6082.0000  \n",
              "median_income            2.5634       3.5348       4.74325      15.0001  \n",
              "median_house_value  119600.0000  179700.0000  264725.00000  500001.0000  "
            ],
            "text/html": [
              "\n",
              "  <div id=\"df-56233681-2f49-4567-a2fa-95afd751a06b\">\n",
              "    <div class=\"colab-df-container\">\n",
              "      <div>\n",
              "<style scoped>\n",
              "    .dataframe tbody tr th:only-of-type {\n",
              "        vertical-align: middle;\n",
              "    }\n",
              "\n",
              "    .dataframe tbody tr th {\n",
              "        vertical-align: top;\n",
              "    }\n",
              "\n",
              "    .dataframe thead th {\n",
              "        text-align: right;\n",
              "    }\n",
              "</style>\n",
              "<table border=\"1\" class=\"dataframe\">\n",
              "  <thead>\n",
              "    <tr style=\"text-align: right;\">\n",
              "      <th></th>\n",
              "      <th>count</th>\n",
              "      <th>mean</th>\n",
              "      <th>std</th>\n",
              "      <th>min</th>\n",
              "      <th>25%</th>\n",
              "      <th>50%</th>\n",
              "      <th>75%</th>\n",
              "      <th>max</th>\n",
              "    </tr>\n",
              "  </thead>\n",
              "  <tbody>\n",
              "    <tr>\n",
              "      <th>longitude</th>\n",
              "      <td>20640.0</td>\n",
              "      <td>-119.569704</td>\n",
              "      <td>2.003532</td>\n",
              "      <td>-124.3500</td>\n",
              "      <td>-121.8000</td>\n",
              "      <td>-118.4900</td>\n",
              "      <td>-118.01000</td>\n",
              "      <td>-114.3100</td>\n",
              "    </tr>\n",
              "    <tr>\n",
              "      <th>latitude</th>\n",
              "      <td>20640.0</td>\n",
              "      <td>35.631861</td>\n",
              "      <td>2.135952</td>\n",
              "      <td>32.5400</td>\n",
              "      <td>33.9300</td>\n",
              "      <td>34.2600</td>\n",
              "      <td>37.71000</td>\n",
              "      <td>41.9500</td>\n",
              "    </tr>\n",
              "    <tr>\n",
              "      <th>housing_median_age</th>\n",
              "      <td>20640.0</td>\n",
              "      <td>28.639486</td>\n",
              "      <td>12.585558</td>\n",
              "      <td>1.0000</td>\n",
              "      <td>18.0000</td>\n",
              "      <td>29.0000</td>\n",
              "      <td>37.00000</td>\n",
              "      <td>52.0000</td>\n",
              "    </tr>\n",
              "    <tr>\n",
              "      <th>total_rooms</th>\n",
              "      <td>20640.0</td>\n",
              "      <td>2635.763081</td>\n",
              "      <td>2181.615252</td>\n",
              "      <td>2.0000</td>\n",
              "      <td>1447.7500</td>\n",
              "      <td>2127.0000</td>\n",
              "      <td>3148.00000</td>\n",
              "      <td>39320.0000</td>\n",
              "    </tr>\n",
              "    <tr>\n",
              "      <th>total_bedrooms</th>\n",
              "      <td>20433.0</td>\n",
              "      <td>537.870553</td>\n",
              "      <td>421.385070</td>\n",
              "      <td>1.0000</td>\n",
              "      <td>296.0000</td>\n",
              "      <td>435.0000</td>\n",
              "      <td>647.00000</td>\n",
              "      <td>6445.0000</td>\n",
              "    </tr>\n",
              "    <tr>\n",
              "      <th>population</th>\n",
              "      <td>20640.0</td>\n",
              "      <td>1425.476744</td>\n",
              "      <td>1132.462122</td>\n",
              "      <td>3.0000</td>\n",
              "      <td>787.0000</td>\n",
              "      <td>1166.0000</td>\n",
              "      <td>1725.00000</td>\n",
              "      <td>35682.0000</td>\n",
              "    </tr>\n",
              "    <tr>\n",
              "      <th>households</th>\n",
              "      <td>20640.0</td>\n",
              "      <td>499.539680</td>\n",
              "      <td>382.329753</td>\n",
              "      <td>1.0000</td>\n",
              "      <td>280.0000</td>\n",
              "      <td>409.0000</td>\n",
              "      <td>605.00000</td>\n",
              "      <td>6082.0000</td>\n",
              "    </tr>\n",
              "    <tr>\n",
              "      <th>median_income</th>\n",
              "      <td>20640.0</td>\n",
              "      <td>3.870671</td>\n",
              "      <td>1.899822</td>\n",
              "      <td>0.4999</td>\n",
              "      <td>2.5634</td>\n",
              "      <td>3.5348</td>\n",
              "      <td>4.74325</td>\n",
              "      <td>15.0001</td>\n",
              "    </tr>\n",
              "    <tr>\n",
              "      <th>median_house_value</th>\n",
              "      <td>20640.0</td>\n",
              "      <td>206855.816909</td>\n",
              "      <td>115395.615874</td>\n",
              "      <td>14999.0000</td>\n",
              "      <td>119600.0000</td>\n",
              "      <td>179700.0000</td>\n",
              "      <td>264725.00000</td>\n",
              "      <td>500001.0000</td>\n",
              "    </tr>\n",
              "  </tbody>\n",
              "</table>\n",
              "</div>\n",
              "      <button class=\"colab-df-convert\" onclick=\"convertToInteractive('df-56233681-2f49-4567-a2fa-95afd751a06b')\"\n",
              "              title=\"Convert this dataframe to an interactive table.\"\n",
              "              style=\"display:none;\">\n",
              "        \n",
              "  <svg xmlns=\"http://www.w3.org/2000/svg\" height=\"24px\"viewBox=\"0 0 24 24\"\n",
              "       width=\"24px\">\n",
              "    <path d=\"M0 0h24v24H0V0z\" fill=\"none\"/>\n",
              "    <path d=\"M18.56 5.44l.94 2.06.94-2.06 2.06-.94-2.06-.94-.94-2.06-.94 2.06-2.06.94zm-11 1L8.5 8.5l.94-2.06 2.06-.94-2.06-.94L8.5 2.5l-.94 2.06-2.06.94zm10 10l.94 2.06.94-2.06 2.06-.94-2.06-.94-.94-2.06-.94 2.06-2.06.94z\"/><path d=\"M17.41 7.96l-1.37-1.37c-.4-.4-.92-.59-1.43-.59-.52 0-1.04.2-1.43.59L10.3 9.45l-7.72 7.72c-.78.78-.78 2.05 0 2.83L4 21.41c.39.39.9.59 1.41.59.51 0 1.02-.2 1.41-.59l7.78-7.78 2.81-2.81c.8-.78.8-2.07 0-2.86zM5.41 20L4 18.59l7.72-7.72 1.47 1.35L5.41 20z\"/>\n",
              "  </svg>\n",
              "      </button>\n",
              "      \n",
              "  <style>\n",
              "    .colab-df-container {\n",
              "      display:flex;\n",
              "      flex-wrap:wrap;\n",
              "      gap: 12px;\n",
              "    }\n",
              "\n",
              "    .colab-df-convert {\n",
              "      background-color: #E8F0FE;\n",
              "      border: none;\n",
              "      border-radius: 50%;\n",
              "      cursor: pointer;\n",
              "      display: none;\n",
              "      fill: #1967D2;\n",
              "      height: 32px;\n",
              "      padding: 0 0 0 0;\n",
              "      width: 32px;\n",
              "    }\n",
              "\n",
              "    .colab-df-convert:hover {\n",
              "      background-color: #E2EBFA;\n",
              "      box-shadow: 0px 1px 2px rgba(60, 64, 67, 0.3), 0px 1px 3px 1px rgba(60, 64, 67, 0.15);\n",
              "      fill: #174EA6;\n",
              "    }\n",
              "\n",
              "    [theme=dark] .colab-df-convert {\n",
              "      background-color: #3B4455;\n",
              "      fill: #D2E3FC;\n",
              "    }\n",
              "\n",
              "    [theme=dark] .colab-df-convert:hover {\n",
              "      background-color: #434B5C;\n",
              "      box-shadow: 0px 1px 3px 1px rgba(0, 0, 0, 0.15);\n",
              "      filter: drop-shadow(0px 1px 2px rgba(0, 0, 0, 0.3));\n",
              "      fill: #FFFFFF;\n",
              "    }\n",
              "  </style>\n",
              "\n",
              "      <script>\n",
              "        const buttonEl =\n",
              "          document.querySelector('#df-56233681-2f49-4567-a2fa-95afd751a06b button.colab-df-convert');\n",
              "        buttonEl.style.display =\n",
              "          google.colab.kernel.accessAllowed ? 'block' : 'none';\n",
              "\n",
              "        async function convertToInteractive(key) {\n",
              "          const element = document.querySelector('#df-56233681-2f49-4567-a2fa-95afd751a06b');\n",
              "          const dataTable =\n",
              "            await google.colab.kernel.invokeFunction('convertToInteractive',\n",
              "                                                     [key], {});\n",
              "          if (!dataTable) return;\n",
              "\n",
              "          const docLinkHtml = 'Like what you see? Visit the ' +\n",
              "            '<a target=\"_blank\" href=https://colab.research.google.com/notebooks/data_table.ipynb>data table notebook</a>'\n",
              "            + ' to learn more about interactive tables.';\n",
              "          element.innerHTML = '';\n",
              "          dataTable['output_type'] = 'display_data';\n",
              "          await google.colab.output.renderOutput(dataTable, element);\n",
              "          const docLink = document.createElement('div');\n",
              "          docLink.innerHTML = docLinkHtml;\n",
              "          element.appendChild(docLink);\n",
              "        }\n",
              "      </script>\n",
              "    </div>\n",
              "  </div>\n",
              "  "
            ]
          },
          "metadata": {},
          "execution_count": 6
        }
      ]
    },
    {
      "cell_type": "code",
      "source": [
        "\n",
        "sns.displot(data_set['median_house_value'], color='k', bins=20, kde=True)"
      ],
      "metadata": {
        "colab": {
          "base_uri": "https://localhost:8080/",
          "height": 388
        },
        "id": "pOBZSC7-DJBD",
        "outputId": "7030c97b-8749-446f-9fbe-02e79b864405"
      },
      "execution_count": 7,
      "outputs": [
        {
          "output_type": "execute_result",
          "data": {
            "text/plain": [
              "<seaborn.axisgrid.FacetGrid at 0x7f1b39c85890>"
            ]
          },
          "metadata": {},
          "execution_count": 7
        },
        {
          "output_type": "display_data",
          "data": {
            "text/plain": [
              "<Figure size 360x360 with 1 Axes>"
            ],
            "image/png": "[encoded data removed]"
          },
          "metadata": {
            "needs_background": "light"
          }
        }
      ]
    },
    {
      "cell_type": "code",
      "source": [
        "sns.displot(np.log1p(data_set['median_house_value']), color='k', bins=20, kde=True)"
      ],
      "metadata": {
        "colab": {
          "base_uri": "https://localhost:8080/",
          "height": 388
        },
        "id": "uzQu9ZpRsljJ",
        "outputId": "1ef3ddda-7ba2-4d56-bb77-69aa75cfc893"
      },
      "execution_count": 8,
      "outputs": [
        {
          "output_type": "execute_result",
          "data": {
            "text/plain": [
              "<seaborn.axisgrid.FacetGrid at 0x7f1b2566ad50>"
            ]
          },
          "metadata": {},
          "execution_count": 8
        },
        {
          "output_type": "display_data",
          "data": {
            "text/plain": [
              "<Figure size 360x360 with 1 Axes>"
            ],
            "image/png": "[encoded data removed]"
          },
          "metadata": {
            "needs_background": "light"
          }
        }
      ]
    },
    {
      "cell_type": "code",
      "source": [
        "numerical_features = data_set.select_dtypes(include = ['float64'])\n",
        "numerical_features.hist(figsize=(16, 20), color = 'k', bins=30, xlabelsize=8, ylabelsize=8)"
      ],
      "metadata": {
        "colab": {
          "base_uri": "https://localhost:8080/",
          "height": 1000
        },
        "id": "Ds9FOh_LEncq",
        "outputId": "9fc2b470-1c58-4142-e963-5344dad21bca"
      },
      "execution_count": 9,
      "outputs": [
        {
          "output_type": "execute_result",
          "data": {
            "text/plain": [
              "array([[<matplotlib.axes._subplots.AxesSubplot object at 0x7f1b2507dd50>,\n",
              "        <matplotlib.axes._subplots.AxesSubplot object at 0x7f1b250392d0>,\n",
              "        <matplotlib.axes._subplots.AxesSubplot object at 0x7f1b25072a90>],\n",
              "       [<matplotlib.axes._subplots.AxesSubplot object at 0x7f1b24fb60d0>,\n",
              "        <matplotlib.axes._subplots.AxesSubplot object at 0x7f1b24fee7d0>,\n",
              "        <matplotlib.axes._subplots.AxesSubplot object at 0x7f1b24fa9e90>],\n",
              "       [<matplotlib.axes._subplots.AxesSubplot object at 0x7f1b24f6b1d0>,\n",
              "        <matplotlib.axes._subplots.AxesSubplot object at 0x7f1b24f20750>,\n",
              "        <matplotlib.axes._subplots.AxesSubplot object at 0x7f1b24f20790>]],\n",
              "      dtype=object)"
            ]
          },
          "metadata": {},
          "execution_count": 9
        },
        {
          "output_type": "display_data",
          "data": {
            "text/plain": [
              "<Figure size 1152x1440 with 9 Axes>"
            ],
            "image/png": "[encoded data removed]"
          },
          "metadata": {
            "needs_background": "light"
          }
        }
      ]
    },
    {
      "cell_type": "code",
      "source": [
        "data_set.drop(columns=['ocean_proximity'], inplace=True)"
      ],
      "metadata": {
        "id": "-ju3l4zLGHB5"
      },
      "execution_count": 10,
      "outputs": []
    },
    {
      "cell_type": "code",
      "source": [
        "corr_mat = data_set.corr()\n",
        "mask = np.array(corr_mat)\n",
        "mask[np.tril_indices_from(mask)] = False\n",
        "fig,ax= plt.subplots()\n",
        "fig.set_size_inches(20,10)\n",
        "sns.heatmap(corr_mat, mask=mask,vmax=.8, square=True,annot=True)"
      ],
      "metadata": {
        "colab": {
          "base_uri": "https://localhost:8080/",
          "height": 710
        },
        "id": "0MCF5Li9Gz74",
        "outputId": "38856e0c-38a9-4c14-8423-1d4506ce028b"
      },
      "execution_count": 11,
      "outputs": [
        {
          "output_type": "execute_result",
          "data": {
            "text/plain": [
              "<matplotlib.axes._subplots.AxesSubplot at 0x7f1b2498ef10>"
            ]
          },
          "metadata": {},
          "execution_count": 11
        },
        {
          "output_type": "display_data",
          "data": {
            "text/plain": [
              "<Figure size 1440x720 with 2 Axes>"
            ],
            "image/png": "[encoded data removed]"
          },
          "metadata": {
            "needs_background": "light"
          }
        }
      ]
    },
    {
      "cell_type": "markdown",
      "source": [
        "### Question 1\n",
        "Find a feature with missing values. How many missing values does it have?"
      ],
      "metadata": {
        "id": "yIQIwbW4Hbzj"
      }
    },
    {
      "cell_type": "code",
      "source": [
        "print(f'There are {data_set.isna().sum().sum()} missing values.')"
      ],
      "metadata": {
        "colab": {
          "base_uri": "https://localhost:8080/"
        },
        "id": "pZQqrYnLHJSC",
        "outputId": "c3458e13-d76a-4eef-ab9f-dc5edcb6971d"
      },
      "execution_count": 12,
      "outputs": [
        {
          "output_type": "stream",
          "name": "stdout",
          "text": [
            "There are 207 missing values.\n"
          ]
        }
      ]
    },
    {
      "cell_type": "markdown",
      "source": [
        "## Question 2\n",
        "What's the median (50% percentile) for variable 'population'?"
      ],
      "metadata": {
        "id": "tVmHmj9_IN1h"
      }
    },
    {
      "cell_type": "code",
      "source": [
        "print(f\"The median of population: {data_set['population'].median()}\")"
      ],
      "metadata": {
        "colab": {
          "base_uri": "https://localhost:8080/"
        },
        "id": "BUoashplHmrE",
        "outputId": "7f9f2bb2-5a35-4319-83a2-ce2bee501fa8"
      },
      "execution_count": 13,
      "outputs": [
        {
          "output_type": "stream",
          "name": "stdout",
          "text": [
            "The median of population: 1166.0\n"
          ]
        }
      ]
    },
    {
      "cell_type": "markdown",
      "source": [
        "## Split the data"
      ],
      "metadata": {
        "id": "iokk4aMKJVq1"
      }
    },
    {
      "cell_type": "code",
      "source": [
        "from sklearn.model_selection import train_test_split\n",
        "from sklearn.metrics import mean_squared_error\n",
        "\n",
        "\n",
        "def dot(xi, w):\n",
        "    n = len(xi)\n",
        "    res = 0.0\n",
        "    for j in range(n):\n",
        "        res = res + xi[j] * w[j]\n",
        "\n",
        "    return res\n",
        "\n",
        "def train_linear_regression(X, y):\n",
        "    ones = np.ones(X.shape[0])\n",
        "    X = np.column_stack([ones, X])\n",
        "\n",
        "    XTX = X.T.dot(X)\n",
        "    XTX_inv = np.linalg.inv(XTX)\n",
        "    w_full = XTX_inv.dot(X.T).dot(y)\n",
        "    \n",
        "    return w_full[0], w_full[1:]\n",
        "\n",
        "def missing_values(df, is_mean=False):\n",
        "  data = df.copy()\n",
        "  for col in data:\n",
        "    if data[col].isna().sum() != 0:\n",
        "      if is_mean:\n",
        "        data[col] = data[col].fillna(data[col].mean(), axis=0)\n",
        "      else:\n",
        "        data[col] = data[col].fillna(0, axis=0)\n",
        "  return data\n",
        "\n",
        "\n",
        "'''def val_framework(X, y,log_1=False):\n",
        "  if log_1:\n",
        "    y = np.log1p(y)\n",
        "\n",
        "  X, X_test, y, y_test = train_test_split(X, y, test_size = 0.2, random_state=42)\n",
        "  dev_size = X_test.shape[0] / X.shape[0]\n",
        "\n",
        "  X_train, X_dev, y_train, y_dev = train_test_split(X, y, \n",
        "                                    test_size = dev_size,\n",
        "                                    random_state=42)\n",
        "  \n",
        "  return  X_train, y_train, X_dev, y_dev, X_test, y_test\n",
        "'''\n",
        "\n",
        "def val_framework(X, y,log_1=False, is_seed=False):\n",
        "  seeds =[0, 1, 2, 3, 4, 5, 6, 7, 8, 9, 42]\n",
        "  seeds_perform = {}\n",
        "  if log_1:\n",
        "    y = np.log1p(y)\n",
        "  \n",
        "  if is_seed:\n",
        "    for i in seeds[:-1]:\n",
        "      X, X_test, y, y_test = train_test_split(X, y, test_size = 0.2, random_state=i)\n",
        "      dev_size = X_test.shape[0] / X.shape[0]\n",
        "      X_train, X_dev, y_train, y_dev = train_test_split(X, y, \n",
        "                                    test_size = dev_size,\n",
        "                                    random_state=i)\n",
        "      seeds_perform[i] = ( X_train, y_train, X_dev, y_dev, X_test, y_test)\n",
        "    return seeds_perform\n",
        "\n",
        "  else:\n",
        "    X, X_test, y, y_test = train_test_split(X, y, test_size = 0.2, random_state=seeds[-1])\n",
        "    dev_size = X_test.shape[0] / X.shape[0]\n",
        "    X_train, X_dev, y_train, y_dev = train_test_split(X, y,\n",
        "                                                      test_size = dev_size,\n",
        "                                                      random_state=seeds[-1])\n",
        "    return X_train, y_train, X_dev, y_dev, X_test, y_test\n",
        "\n",
        "\n",
        "def error(X, y, graph=True):\n",
        "  w0, w = train_linear_regression(X, y)\n",
        "  y_pred = w0 + X.dot(w)\n",
        "\n",
        "  if graph:\n",
        "    plt.figure(figsize=(9,6))\n",
        "    sns.histplot(y, color='blue', alpha=.8, bins=50, kde=True)\n",
        "    sns.histplot(y_pred, color='red', alpha=.8, bins=50, kde=True)\n",
        "    plt.show()\n",
        "\n",
        "  return round(mean_squared_error(y, y_pred, squared=False), 2)\n",
        "\n",
        "def train_linear_regression_reg(X, y, r=0.001):\n",
        "    ones = np.ones(X.shape[0])\n",
        "    X = np.column_stack([ones, X])\n",
        "\n",
        "    XTX = X.T.dot(X)\n",
        "    XTX = XTX + r * np.eye(XTX.shape[0])\n",
        "\n",
        "    XTX_inv = np.linalg.inv(XTX)\n",
        "    w_full = XTX_inv.dot(X.T).dot(y)\n",
        "    \n",
        "    return w_full[0], w_full[1:]"
      ],
      "metadata": {
        "id": "V8AJThRsRBab"
      },
      "execution_count": 14,
      "outputs": []
    },
    {
      "cell_type": "code",
      "source": [
        "df_num = data_set.copy()"
      ],
      "metadata": {
        "id": "luVBYP4Kua-b"
      },
      "execution_count": 15,
      "outputs": []
    },
    {
      "cell_type": "markdown",
      "source": [
        "# Question 3"
      ],
      "metadata": {
        "id": "ZMWKo9qnvZ0J"
      }
    },
    {
      "cell_type": "code",
      "source": [
        "#df_num['total_bedrooms'].sample(50) # 14173\n",
        "df_num.loc[14173]"
      ],
      "metadata": {
        "colab": {
          "base_uri": "https://localhost:8080/"
        },
        "id": "kNWhroOUy3IG",
        "outputId": "371e0087-2528-4802-b8a7-8547241a1aed"
      },
      "execution_count": 16,
      "outputs": [
        {
          "output_type": "execute_result",
          "data": {
            "text/plain": [
              "longitude               -117.0500\n",
              "latitude                  32.7500\n",
              "housing_median_age        36.0000\n",
              "total_rooms             2024.0000\n",
              "total_bedrooms                NaN\n",
              "population              1030.0000\n",
              "households               390.0000\n",
              "median_income              3.8233\n",
              "median_house_value    139800.0000\n",
              "Name: 14173, dtype: float64"
            ]
          },
          "metadata": {},
          "execution_count": 16
        }
      ]
    },
    {
      "cell_type": "code",
      "source": [
        "df_num.isna().sum()"
      ],
      "metadata": {
        "colab": {
          "base_uri": "https://localhost:8080/"
        },
        "id": "zY3gUpAXyrk8",
        "outputId": "81b4490d-8c14-4b22-d622-f0adf3e9fe2d"
      },
      "execution_count": 17,
      "outputs": [
        {
          "output_type": "execute_result",
          "data": {
            "text/plain": [
              "longitude               0\n",
              "latitude                0\n",
              "housing_median_age      0\n",
              "total_rooms             0\n",
              "total_bedrooms        207\n",
              "population              0\n",
              "households              0\n",
              "median_income           0\n",
              "median_house_value      0\n",
              "dtype: int64"
            ]
          },
          "metadata": {},
          "execution_count": 17
        }
      ]
    },
    {
      "cell_type": "markdown",
      "source": [
        "## With mean"
      ],
      "metadata": {
        "id": "4bTgouAwuU31"
      }
    },
    {
      "cell_type": "code",
      "source": [
        "df_num = missing_values(df_num, is_mean=True)"
      ],
      "metadata": {
        "id": "Twwus6ORuLF3"
      },
      "execution_count": 18,
      "outputs": []
    },
    {
      "cell_type": "code",
      "source": [
        "df_num.loc[14173]"
      ],
      "metadata": {
        "colab": {
          "base_uri": "https://localhost:8080/"
        },
        "id": "1LQ1PBTvzmrN",
        "outputId": "3446124e-0987-4a55-f6f0-e8c3427893a4"
      },
      "execution_count": 19,
      "outputs": [
        {
          "output_type": "execute_result",
          "data": {
            "text/plain": [
              "longitude               -117.050000\n",
              "latitude                  32.750000\n",
              "housing_median_age        36.000000\n",
              "total_rooms             2024.000000\n",
              "total_bedrooms           537.870553\n",
              "population              1030.000000\n",
              "households               390.000000\n",
              "median_income              3.823300\n",
              "median_house_value    139800.000000\n",
              "Name: 14173, dtype: float64"
            ]
          },
          "metadata": {},
          "execution_count": 19
        }
      ]
    },
    {
      "cell_type": "code",
      "source": [
        "X, y = df_num.drop(columns=['median_house_value']), df_num['median_house_value']\n",
        "X_train, y_train, X_dev, y_dev, X_test, y_test = val_framework(X, y,log_1=True)"
      ],
      "metadata": {
        "id": "dIZo2TWHtPDi"
      },
      "execution_count": 20,
      "outputs": []
    },
    {
      "cell_type": "code",
      "source": [
        "error(X_train, y_train)"
      ],
      "metadata": {
        "colab": {
          "base_uri": "https://localhost:8080/",
          "height": 410
        },
        "id": "iTsRU89vt0RC",
        "outputId": "11c2c077-23b9-46f9-b741-f77c32761026"
      },
      "execution_count": 21,
      "outputs": [
        {
          "output_type": "display_data",
          "data": {
            "text/plain": [
              "<Figure size 648x432 with 1 Axes>"
            ],
            "image/png": "[encoded data removed]"
          },
          "metadata": {
            "needs_background": "light"
          }
        },
        {
          "output_type": "execute_result",
          "data": {
            "text/plain": [
              "0.34"
            ]
          },
          "metadata": {},
          "execution_count": 21
        }
      ]
    },
    {
      "cell_type": "markdown",
      "source": [
        "## with zeros"
      ],
      "metadata": {
        "id": "KqpMMIg9vdMg"
      }
    },
    {
      "cell_type": "code",
      "source": [
        "df_num_zero = data_set.copy()"
      ],
      "metadata": {
        "id": "hInqM0gDz3Fu"
      },
      "execution_count": 22,
      "outputs": []
    },
    {
      "cell_type": "code",
      "source": [
        "df_num_zero.loc[14173]"
      ],
      "metadata": {
        "colab": {
          "base_uri": "https://localhost:8080/"
        },
        "id": "9CAnMkE3z-lk",
        "outputId": "2ec0de4c-c08e-4366-9d5b-fe0f1a12602e"
      },
      "execution_count": 23,
      "outputs": [
        {
          "output_type": "execute_result",
          "data": {
            "text/plain": [
              "longitude               -117.0500\n",
              "latitude                  32.7500\n",
              "housing_median_age        36.0000\n",
              "total_rooms             2024.0000\n",
              "total_bedrooms                NaN\n",
              "population              1030.0000\n",
              "households               390.0000\n",
              "median_income              3.8233\n",
              "median_house_value    139800.0000\n",
              "Name: 14173, dtype: float64"
            ]
          },
          "metadata": {},
          "execution_count": 23
        }
      ]
    },
    {
      "cell_type": "code",
      "source": [
        "df_num_zero = missing_values(df_num_zero, is_mean=False)"
      ],
      "metadata": {
        "id": "8vdXpDy80GW7"
      },
      "execution_count": 24,
      "outputs": []
    },
    {
      "cell_type": "code",
      "source": [
        "df_num_zero.loc[14173]"
      ],
      "metadata": {
        "colab": {
          "base_uri": "https://localhost:8080/"
        },
        "id": "d5qx_Wxd0JON",
        "outputId": "d2206f38-764c-4039-e5dc-772a1c121405"
      },
      "execution_count": 25,
      "outputs": [
        {
          "output_type": "execute_result",
          "data": {
            "text/plain": [
              "longitude               -117.0500\n",
              "latitude                  32.7500\n",
              "housing_median_age        36.0000\n",
              "total_rooms             2024.0000\n",
              "total_bedrooms             0.0000\n",
              "population              1030.0000\n",
              "households               390.0000\n",
              "median_income              3.8233\n",
              "median_house_value    139800.0000\n",
              "Name: 14173, dtype: float64"
            ]
          },
          "metadata": {},
          "execution_count": 25
        }
      ]
    },
    {
      "cell_type": "code",
      "source": [
        "X, y = df_num_zero.drop(columns=['median_house_value']), df_num_zero['median_house_value']\n",
        "X_train_z, y_train_z, X_dev_z, y_dev_z, X_test_z, y_test_z = val_framework(X, y,log_1=True)\n",
        "\n",
        "error(X_train_z, y_train_z)"
      ],
      "metadata": {
        "colab": {
          "base_uri": "https://localhost:8080/",
          "height": 410
        },
        "id": "G2vDoYXKuAgY",
        "outputId": "317650eb-cfee-44fe-d0a4-d7baf255213c"
      },
      "execution_count": 26,
      "outputs": [
        {
          "output_type": "display_data",
          "data": {
            "text/plain": [
              "<Figure size 648x432 with 1 Axes>"
            ],
            "image/png": "[encoded data removed]"
          },
          "metadata": {
            "needs_background": "light"
          }
        },
        {
          "output_type": "execute_result",
          "data": {
            "text/plain": [
              "0.34"
            ]
          },
          "metadata": {},
          "execution_count": 26
        }
      ]
    },
    {
      "cell_type": "markdown",
      "source": [
        "Both are equally good"
      ],
      "metadata": {
        "id": "Au9p9VM9vuP_"
      }
    },
    {
      "cell_type": "markdown",
      "source": [
        "# Question 4"
      ],
      "metadata": {
        "id": "H2E5g04W2JmO"
      }
    },
    {
      "cell_type": "code",
      "source": [
        "def best_r(xt=X_train_z, yt=y_train_z, Xr=X_dev_z, yr=y_dev_z):\n",
        "  lrs = [0, 0.000001, 0.0001, 0.001, 0.01, 0.1, 1, 5, 10]\n",
        "  predictions = []\n",
        "  W = []\n",
        "  for i in range(len(lrs)):\n",
        "    w0, w = train_linear_regression_reg(X_train_z, yt, r=i)\n",
        "    W.append(round(w0,2))\n",
        "    y_pred = w0 + Xr.dot(w)\n",
        "    err = round(mean_squared_error(yr, y_pred, squared=False),2)\n",
        "    predictions.append(err)\n",
        "  \n",
        "  return sorted(list(zip(lrs, W, predictions)), key=lambda x : x[-1])\n"
      ],
      "metadata": {
        "id": "VRNwW2a5vMik"
      },
      "execution_count": 27,
      "outputs": []
    },
    {
      "cell_type": "code",
      "source": [
        "best_r()"
      ],
      "metadata": {
        "colab": {
          "base_uri": "https://localhost:8080/"
        },
        "id": "CXLKq7lC3zf3",
        "outputId": "a20dfd17-1737-44a9-8c0c-fe21c4f4c1db"
      },
      "execution_count": 28,
      "outputs": [
        {
          "output_type": "execute_result",
          "data": {
            "text/plain": [
              "[(0, -11.95, 0.34),\n",
              " (1e-06, -5.08, 0.34),\n",
              " (0.0001, -3.23, 0.34),\n",
              " (0.001, -2.36, 0.35),\n",
              " (0.01, -1.87, 0.35),\n",
              " (0.1, -1.54, 0.35),\n",
              " (1, -1.31, 0.35),\n",
              " (5, -1.14, 0.35),\n",
              " (10, -1.01, 0.35)]"
            ]
          },
          "metadata": {},
          "execution_count": 28
        }
      ]
    },
    {
      "cell_type": "markdown",
      "source": [
        "`r` in 0, $1.e^{-6}$ and 0.0001 have the smallest error 0.34. Since there are multiple options, I select 0 for  the smallest `r`."
      ],
      "metadata": {
        "id": "CKBtXW0RpI3S"
      }
    },
    {
      "cell_type": "markdown",
      "source": [
        "# Question 5"
      ],
      "metadata": {
        "id": "OljHDzSTUOcS"
      }
    },
    {
      "cell_type": "code",
      "source": [
        "df_num = missing_values(df_num, is_mean=False)\n",
        "X, y = df_num.drop(columns=['median_house_value']), df_num['median_house_value']\n",
        "\n",
        "all_seeds = val_framework(X, y,log_1=True, is_seed=True)\n",
        "predictions = []\n",
        "for i in range(len(all_seeds)):\n",
        "  X_train, y_train, X_dev, y_dev, X_test, y_test  = all_seeds[i]\n",
        "  w0, w = train_linear_regression(X_train, y_train)\n",
        "  y_pred = w0 + X_dev.dot(w)\n",
        "  err = round(mean_squared_error(y_dev, y_pred, squared=False),2)\n",
        "  predictions.append(err)\n",
        "print(predictions)\n",
        "print(round(np.std(predictions),3))"
      ],
      "metadata": {
        "colab": {
          "base_uri": "https://localhost:8080/"
        },
        "id": "8AeVEfa2XtGG",
        "outputId": "0a23e5a4-4864-46f9-de45-087f512ed543"
      },
      "execution_count": 29,
      "outputs": [
        {
          "output_type": "stream",
          "name": "stdout",
          "text": [
            "[0.35, 0.35, 0.35, 0.36, 0.34, 0.34, 0.34, 0.35, 0.33, 0.36]\n",
            "0.009\n"
          ]
        }
      ]
    },
    {
      "cell_type": "markdown",
      "source": [
        "The value of **0.009** that I found is the closest to **0.005** so I chose **0.005** as an std"
      ],
      "metadata": {
        "id": "mAGM6pTZsW-C"
      }
    },
    {
      "cell_type": "markdown",
      "source": [
        "# Question 6"
      ],
      "metadata": {
        "id": "iJGD4nB3oDst"
      }
    },
    {
      "cell_type": "code",
      "source": [
        "X_train, y_train, X_dev, y_dev, X_test, y_test = all_seeds[9]\n",
        "\n",
        "full_X = pd.concat([X_train, X_dev],axis=0)\n",
        "full_X = full_X.reset_index(drop=True)\n",
        "full_y = pd.concat([y_train, y_dev], axis=0)\n",
        "\n",
        "w0, w = train_linear_regression_reg(full_X, full_y, r=0.001)\n",
        "y_pred = w0 + X_test.dot(w)\n",
        "err = round(mean_squared_error(y_test, y_pred, squared=False),2)"
      ],
      "metadata": {
        "id": "OHVQ0aN6X4eV"
      },
      "execution_count": 30,
      "outputs": []
    },
    {
      "cell_type": "code",
      "source": [
        "err"
      ],
      "metadata": {
        "colab": {
          "base_uri": "https://localhost:8080/"
        },
        "id": "4CmPnEt_gl0S",
        "outputId": "4daefb21-3c3a-448d-dfbd-48b138cdc066"
      },
      "execution_count": 31,
      "outputs": [
        {
          "output_type": "execute_result",
          "data": {
            "text/plain": [
              "0.35"
            ]
          },
          "metadata": {},
          "execution_count": 31
        }
      ]
    },
    {
      "cell_type": "code",
      "source": [],
      "metadata": {
        "id": "qCBXAblynqkd"
      },
      "execution_count": 31,
      "outputs": []
    }
  ]
}